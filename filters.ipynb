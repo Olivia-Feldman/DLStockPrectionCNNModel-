{
  "nbformat": 4,
  "nbformat_minor": 0,
  "metadata": {
    "colab": {
      "name": "filters.ipynb",
      "provenance": [],
      "authorship_tag": "ABX9TyNrYHKmy1aFpyr4p/txmC2a",
      "include_colab_link": true
    },
    "kernelspec": {
      "name": "python3",
      "display_name": "Python 3"
    }
  },
  "cells": [
    {
      "cell_type": "markdown",
      "metadata": {
        "id": "view-in-github",
        "colab_type": "text"
      },
      "source": [
        "<a href=\"https://colab.research.google.com/github/Olivia-Feldman/DLStockPrectionCNNModel-/blob/main/filters.ipynb\" target=\"_parent\"><img src=\"https://colab.research.google.com/assets/colab-badge.svg\" alt=\"Open In Colab\"/></a>"
      ]
    },
    {
      "cell_type": "markdown",
      "metadata": {
        "id": "HTNdOp6lY1AC"
      },
      "source": [
        "`Filters` is the universal class that holds all filter methods used for this project. All methods are `@staticmethod`. Filters: `movingAverageFlatten`\n",
        "\n",
        "Last edited: Jack Lynn on 2021.3.1"
      ]
    },
    {
      "cell_type": "code",
      "metadata": {
        "id": "wC6fIyhyKODZ"
      },
      "source": [
        "import tensorflow as tf\n",
        "\n",
        "class Filters:\n",
        "\n",
        "  # Finds the moving average value\n",
        "  # n - int - Width of the moving average filter\n",
        "  # i - int - Starting index in array\n",
        "  # tens - tensor - Tensor to apply filter to\n",
        "  # Return - float - Flattened average for that point\n",
        "  @staticmethod\n",
        "  def movingAverageFlattenInd(n: int, i: int, tens):\n",
        "    \n",
        "    # Initialize start and stop indices\n",
        "    n_start = 0\n",
        "    n_end = 0\n",
        "    if i > n:\n",
        "      n_start = i - n\n",
        "    if i > 0:\n",
        "      n_end = i\n",
        "\n",
        "    # Get sum of width\n",
        "    sum = 0\n",
        "    counter = 0\n",
        "    for i in range(n_start, n_end +1):\n",
        "      sum = sum + tens[i]\n",
        "      counter = counter + 1\n",
        "    \n",
        "    # Return new value\n",
        "    if i == 0:\n",
        "      avg = tens[0]\n",
        "    else:\n",
        "      avg = sum / counter\n",
        "    return float(avg)\n",
        "\n",
        "  # Applies moving average filter to entire 1D tensor\n",
        "  # n - int - Width of moving average filter\n",
        "  # tens - 1D tensor - Tensor to apply filter to\n",
        "  # Return - 1D tensor - New tensor with moving average filter applied\n",
        "  @staticmethod\n",
        "  def movingAverageFlatten(n: int, tens):\n",
        "\n",
        "    # Create a blank copy of original tens\n",
        "    tens_size = tens.get_shape().as_list()\n",
        "    tens_size = tens_size[0]\n",
        "    lst = []\n",
        "\n",
        "    # Iterate through tensor, filtering it through moving average filter\n",
        "    for i in range(0, tens_size):\n",
        "      lst.append(Filters.movingAverageFlattenInd(n, i, tens))\n",
        "    \n",
        "    # Return new tensor\n",
        "    tens_flat = tf.constant(lst)\n",
        "    return tens_flat\n"
      ],
      "execution_count": 139,
      "outputs": []
    },
    {
      "cell_type": "code",
      "metadata": {
        "colab": {
          "base_uri": "https://localhost:8080/"
        },
        "id": "YIeIl0exK3tH",
        "outputId": "43c32f01-b14d-4b53-fad4-5a2b94fd75d3"
      },
      "source": [
        "tens = tf.constant([1, 2, 3, 4, 5, 6, 7, 8, 9, 10, 11, 12, 13, 14, 15, 16, 17, 18, 19, 20])\n",
        "tens2 = Filters.movingAverageFlatten(10, tens)\n",
        "print(f'Original tensor: {tens}')\n",
        "print(f'Filtered tensor: {tens2}')"
      ],
      "execution_count": 140,
      "outputs": [
        {
          "output_type": "stream",
          "text": [
            "Original tensor: [ 1  2  3  4  5  6  7  8  9 10 11 12 13 14 15 16 17 18 19 20]\n",
            "Filtered tensor: [ 1.   1.5  2.   2.5  3.   3.5  4.   4.5  5.   5.5  6.   7.   8.   9.\n",
            " 10.  11.  12.  13.  14.  15. ]\n"
          ],
          "name": "stdout"
        }
      ]
    }
  ]
}