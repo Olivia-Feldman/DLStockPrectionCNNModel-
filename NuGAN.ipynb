{
  "nbformat": 4,
  "nbformat_minor": 0,
  "metadata": {
    "colab": {
      "name": "NuGAN.ipynb",
      "provenance": [],
      "authorship_tag": "ABX9TyNvU9ETHJMi+BkDMvtiPbBQ",
      "include_colab_link": true
    },
    "kernelspec": {
      "name": "python3",
      "display_name": "Python 3"
    },
    "language_info": {
      "name": "python"
    },
    "accelerator": "GPU",
    "widgets": {
      "application/vnd.jupyter.widget-state+json": {
        "7299323ffb49430282aecc36a9a7c376": {
          "model_module": "@jupyter-widgets/controls",
          "model_name": "HBoxModel",
          "state": {
            "_view_name": "HBoxView",
            "_dom_classes": [],
            "_model_name": "HBoxModel",
            "_view_module": "@jupyter-widgets/controls",
            "_model_module_version": "1.5.0",
            "_view_count": null,
            "_view_module_version": "1.5.0",
            "box_style": "",
            "layout": "IPY_MODEL_d70a3bd71a2e42e38ea8c0897bb9cf7f",
            "_model_module": "@jupyter-widgets/controls",
            "children": [
              "IPY_MODEL_c6fc184aaf73420b88e4662b7efee328",
              "IPY_MODEL_a2affa4c26d645d9b8e6cb1765716a96"
            ]
          }
        },
        "d70a3bd71a2e42e38ea8c0897bb9cf7f": {
          "model_module": "@jupyter-widgets/base",
          "model_name": "LayoutModel",
          "state": {
            "_view_name": "LayoutView",
            "grid_template_rows": null,
            "right": null,
            "justify_content": null,
            "_view_module": "@jupyter-widgets/base",
            "overflow": null,
            "_model_module_version": "1.2.0",
            "_view_count": null,
            "flex_flow": null,
            "width": null,
            "min_width": null,
            "border": null,
            "align_items": null,
            "bottom": null,
            "_model_module": "@jupyter-widgets/base",
            "top": null,
            "grid_column": null,
            "overflow_y": null,
            "overflow_x": null,
            "grid_auto_flow": null,
            "grid_area": null,
            "grid_template_columns": null,
            "flex": null,
            "_model_name": "LayoutModel",
            "justify_items": null,
            "grid_row": null,
            "max_height": null,
            "align_content": null,
            "visibility": null,
            "align_self": null,
            "height": null,
            "min_height": null,
            "padding": null,
            "grid_auto_rows": null,
            "grid_gap": null,
            "max_width": null,
            "order": null,
            "_view_module_version": "1.2.0",
            "grid_template_areas": null,
            "object_position": null,
            "object_fit": null,
            "grid_auto_columns": null,
            "margin": null,
            "display": null,
            "left": null
          }
        },
        "c6fc184aaf73420b88e4662b7efee328": {
          "model_module": "@jupyter-widgets/controls",
          "model_name": "FloatProgressModel",
          "state": {
            "_view_name": "ProgressView",
            "style": "IPY_MODEL_c659f7192c7f4458ba7395032ef511c9",
            "_dom_classes": [],
            "description": "",
            "_model_name": "FloatProgressModel",
            "bar_style": "success",
            "max": 9912422,
            "_view_module": "@jupyter-widgets/controls",
            "_model_module_version": "1.5.0",
            "value": 9912422,
            "_view_count": null,
            "_view_module_version": "1.5.0",
            "orientation": "horizontal",
            "min": 0,
            "description_tooltip": null,
            "_model_module": "@jupyter-widgets/controls",
            "layout": "IPY_MODEL_04cd74d79f6a4c2eb4759ca68dba1b25"
          }
        },
        "a2affa4c26d645d9b8e6cb1765716a96": {
          "model_module": "@jupyter-widgets/controls",
          "model_name": "HTMLModel",
          "state": {
            "_view_name": "HTMLView",
            "style": "IPY_MODEL_99090190da2b442a9109fb454ef416b8",
            "_dom_classes": [],
            "description": "",
            "_model_name": "HTMLModel",
            "placeholder": "​",
            "_view_module": "@jupyter-widgets/controls",
            "_model_module_version": "1.5.0",
            "value": " 9913344/? [05:00&lt;00:00, 33043.23it/s]",
            "_view_count": null,
            "_view_module_version": "1.5.0",
            "description_tooltip": null,
            "_model_module": "@jupyter-widgets/controls",
            "layout": "IPY_MODEL_07eb9d09700e4aff9934b98797fd7f24"
          }
        },
        "c659f7192c7f4458ba7395032ef511c9": {
          "model_module": "@jupyter-widgets/controls",
          "model_name": "ProgressStyleModel",
          "state": {
            "_view_name": "StyleView",
            "_model_name": "ProgressStyleModel",
            "description_width": "initial",
            "_view_module": "@jupyter-widgets/base",
            "_model_module_version": "1.5.0",
            "_view_count": null,
            "_view_module_version": "1.2.0",
            "bar_color": null,
            "_model_module": "@jupyter-widgets/controls"
          }
        },
        "04cd74d79f6a4c2eb4759ca68dba1b25": {
          "model_module": "@jupyter-widgets/base",
          "model_name": "LayoutModel",
          "state": {
            "_view_name": "LayoutView",
            "grid_template_rows": null,
            "right": null,
            "justify_content": null,
            "_view_module": "@jupyter-widgets/base",
            "overflow": null,
            "_model_module_version": "1.2.0",
            "_view_count": null,
            "flex_flow": null,
            "width": null,
            "min_width": null,
            "border": null,
            "align_items": null,
            "bottom": null,
            "_model_module": "@jupyter-widgets/base",
            "top": null,
            "grid_column": null,
            "overflow_y": null,
            "overflow_x": null,
            "grid_auto_flow": null,
            "grid_area": null,
            "grid_template_columns": null,
            "flex": null,
            "_model_name": "LayoutModel",
            "justify_items": null,
            "grid_row": null,
            "max_height": null,
            "align_content": null,
            "visibility": null,
            "align_self": null,
            "height": null,
            "min_height": null,
            "padding": null,
            "grid_auto_rows": null,
            "grid_gap": null,
            "max_width": null,
            "order": null,
            "_view_module_version": "1.2.0",
            "grid_template_areas": null,
            "object_position": null,
            "object_fit": null,
            "grid_auto_columns": null,
            "margin": null,
            "display": null,
            "left": null
          }
        },
        "99090190da2b442a9109fb454ef416b8": {
          "model_module": "@jupyter-widgets/controls",
          "model_name": "DescriptionStyleModel",
          "state": {
            "_view_name": "StyleView",
            "_model_name": "DescriptionStyleModel",
            "description_width": "",
            "_view_module": "@jupyter-widgets/base",
            "_model_module_version": "1.5.0",
            "_view_count": null,
            "_view_module_version": "1.2.0",
            "_model_module": "@jupyter-widgets/controls"
          }
        },
        "07eb9d09700e4aff9934b98797fd7f24": {
          "model_module": "@jupyter-widgets/base",
          "model_name": "LayoutModel",
          "state": {
            "_view_name": "LayoutView",
            "grid_template_rows": null,
            "right": null,
            "justify_content": null,
            "_view_module": "@jupyter-widgets/base",
            "overflow": null,
            "_model_module_version": "1.2.0",
            "_view_count": null,
            "flex_flow": null,
            "width": null,
            "min_width": null,
            "border": null,
            "align_items": null,
            "bottom": null,
            "_model_module": "@jupyter-widgets/base",
            "top": null,
            "grid_column": null,
            "overflow_y": null,
            "overflow_x": null,
            "grid_auto_flow": null,
            "grid_area": null,
            "grid_template_columns": null,
            "flex": null,
            "_model_name": "LayoutModel",
            "justify_items": null,
            "grid_row": null,
            "max_height": null,
            "align_content": null,
            "visibility": null,
            "align_self": null,
            "height": null,
            "min_height": null,
            "padding": null,
            "grid_auto_rows": null,
            "grid_gap": null,
            "max_width": null,
            "order": null,
            "_view_module_version": "1.2.0",
            "grid_template_areas": null,
            "object_position": null,
            "object_fit": null,
            "grid_auto_columns": null,
            "margin": null,
            "display": null,
            "left": null
          }
        },
        "db1a3302fb9e4d3fa7912d949599b02d": {
          "model_module": "@jupyter-widgets/controls",
          "model_name": "HBoxModel",
          "state": {
            "_view_name": "HBoxView",
            "_dom_classes": [],
            "_model_name": "HBoxModel",
            "_view_module": "@jupyter-widgets/controls",
            "_model_module_version": "1.5.0",
            "_view_count": null,
            "_view_module_version": "1.5.0",
            "box_style": "",
            "layout": "IPY_MODEL_329b2b17b19040749cbf6b1cdbb4fd82",
            "_model_module": "@jupyter-widgets/controls",
            "children": [
              "IPY_MODEL_874582ca684446b4a585373e3d605a79",
              "IPY_MODEL_698d160ff99948289d4074a88b678f2c"
            ]
          }
        },
        "329b2b17b19040749cbf6b1cdbb4fd82": {
          "model_module": "@jupyter-widgets/base",
          "model_name": "LayoutModel",
          "state": {
            "_view_name": "LayoutView",
            "grid_template_rows": null,
            "right": null,
            "justify_content": null,
            "_view_module": "@jupyter-widgets/base",
            "overflow": null,
            "_model_module_version": "1.2.0",
            "_view_count": null,
            "flex_flow": null,
            "width": null,
            "min_width": null,
            "border": null,
            "align_items": null,
            "bottom": null,
            "_model_module": "@jupyter-widgets/base",
            "top": null,
            "grid_column": null,
            "overflow_y": null,
            "overflow_x": null,
            "grid_auto_flow": null,
            "grid_area": null,
            "grid_template_columns": null,
            "flex": null,
            "_model_name": "LayoutModel",
            "justify_items": null,
            "grid_row": null,
            "max_height": null,
            "align_content": null,
            "visibility": null,
            "align_self": null,
            "height": null,
            "min_height": null,
            "padding": null,
            "grid_auto_rows": null,
            "grid_gap": null,
            "max_width": null,
            "order": null,
            "_view_module_version": "1.2.0",
            "grid_template_areas": null,
            "object_position": null,
            "object_fit": null,
            "grid_auto_columns": null,
            "margin": null,
            "display": null,
            "left": null
          }
        },
        "874582ca684446b4a585373e3d605a79": {
          "model_module": "@jupyter-widgets/controls",
          "model_name": "FloatProgressModel",
          "state": {
            "_view_name": "ProgressView",
            "style": "IPY_MODEL_35bd556439554c7f98c6731816151bd7",
            "_dom_classes": [],
            "description": "",
            "_model_name": "FloatProgressModel",
            "bar_style": "success",
            "max": 28881,
            "_view_module": "@jupyter-widgets/controls",
            "_model_module_version": "1.5.0",
            "value": 28881,
            "_view_count": null,
            "_view_module_version": "1.5.0",
            "orientation": "horizontal",
            "min": 0,
            "description_tooltip": null,
            "_model_module": "@jupyter-widgets/controls",
            "layout": "IPY_MODEL_126e37a5f375490b9ca10b607087803d"
          }
        },
        "698d160ff99948289d4074a88b678f2c": {
          "model_module": "@jupyter-widgets/controls",
          "model_name": "HTMLModel",
          "state": {
            "_view_name": "HTMLView",
            "style": "IPY_MODEL_65ec82b3d53d46c6b0d4c6a0f04d49e4",
            "_dom_classes": [],
            "description": "",
            "_model_name": "HTMLModel",
            "placeholder": "​",
            "_view_module": "@jupyter-widgets/controls",
            "_model_module_version": "1.5.0",
            "value": " 29696/? [00:00&lt;00:00, 38751.50it/s]",
            "_view_count": null,
            "_view_module_version": "1.5.0",
            "description_tooltip": null,
            "_model_module": "@jupyter-widgets/controls",
            "layout": "IPY_MODEL_371e7c24e4d743759ee1e94fc4025406"
          }
        },
        "35bd556439554c7f98c6731816151bd7": {
          "model_module": "@jupyter-widgets/controls",
          "model_name": "ProgressStyleModel",
          "state": {
            "_view_name": "StyleView",
            "_model_name": "ProgressStyleModel",
            "description_width": "initial",
            "_view_module": "@jupyter-widgets/base",
            "_model_module_version": "1.5.0",
            "_view_count": null,
            "_view_module_version": "1.2.0",
            "bar_color": null,
            "_model_module": "@jupyter-widgets/controls"
          }
        },
        "126e37a5f375490b9ca10b607087803d": {
          "model_module": "@jupyter-widgets/base",
          "model_name": "LayoutModel",
          "state": {
            "_view_name": "LayoutView",
            "grid_template_rows": null,
            "right": null,
            "justify_content": null,
            "_view_module": "@jupyter-widgets/base",
            "overflow": null,
            "_model_module_version": "1.2.0",
            "_view_count": null,
            "flex_flow": null,
            "width": null,
            "min_width": null,
            "border": null,
            "align_items": null,
            "bottom": null,
            "_model_module": "@jupyter-widgets/base",
            "top": null,
            "grid_column": null,
            "overflow_y": null,
            "overflow_x": null,
            "grid_auto_flow": null,
            "grid_area": null,
            "grid_template_columns": null,
            "flex": null,
            "_model_name": "LayoutModel",
            "justify_items": null,
            "grid_row": null,
            "max_height": null,
            "align_content": null,
            "visibility": null,
            "align_self": null,
            "height": null,
            "min_height": null,
            "padding": null,
            "grid_auto_rows": null,
            "grid_gap": null,
            "max_width": null,
            "order": null,
            "_view_module_version": "1.2.0",
            "grid_template_areas": null,
            "object_position": null,
            "object_fit": null,
            "grid_auto_columns": null,
            "margin": null,
            "display": null,
            "left": null
          }
        },
        "65ec82b3d53d46c6b0d4c6a0f04d49e4": {
          "model_module": "@jupyter-widgets/controls",
          "model_name": "DescriptionStyleModel",
          "state": {
            "_view_name": "StyleView",
            "_model_name": "DescriptionStyleModel",
            "description_width": "",
            "_view_module": "@jupyter-widgets/base",
            "_model_module_version": "1.5.0",
            "_view_count": null,
            "_view_module_version": "1.2.0",
            "_model_module": "@jupyter-widgets/controls"
          }
        },
        "371e7c24e4d743759ee1e94fc4025406": {
          "model_module": "@jupyter-widgets/base",
          "model_name": "LayoutModel",
          "state": {
            "_view_name": "LayoutView",
            "grid_template_rows": null,
            "right": null,
            "justify_content": null,
            "_view_module": "@jupyter-widgets/base",
            "overflow": null,
            "_model_module_version": "1.2.0",
            "_view_count": null,
            "flex_flow": null,
            "width": null,
            "min_width": null,
            "border": null,
            "align_items": null,
            "bottom": null,
            "_model_module": "@jupyter-widgets/base",
            "top": null,
            "grid_column": null,
            "overflow_y": null,
            "overflow_x": null,
            "grid_auto_flow": null,
            "grid_area": null,
            "grid_template_columns": null,
            "flex": null,
            "_model_name": "LayoutModel",
            "justify_items": null,
            "grid_row": null,
            "max_height": null,
            "align_content": null,
            "visibility": null,
            "align_self": null,
            "height": null,
            "min_height": null,
            "padding": null,
            "grid_auto_rows": null,
            "grid_gap": null,
            "max_width": null,
            "order": null,
            "_view_module_version": "1.2.0",
            "grid_template_areas": null,
            "object_position": null,
            "object_fit": null,
            "grid_auto_columns": null,
            "margin": null,
            "display": null,
            "left": null
          }
        },
        "f1a36091d3ee4b8885db146b80e7889c": {
          "model_module": "@jupyter-widgets/controls",
          "model_name": "HBoxModel",
          "state": {
            "_view_name": "HBoxView",
            "_dom_classes": [],
            "_model_name": "HBoxModel",
            "_view_module": "@jupyter-widgets/controls",
            "_model_module_version": "1.5.0",
            "_view_count": null,
            "_view_module_version": "1.5.0",
            "box_style": "",
            "layout": "IPY_MODEL_7d15243641cf4131b90ea4e55f9a8b56",
            "_model_module": "@jupyter-widgets/controls",
            "children": [
              "IPY_MODEL_656f2b2418cc477cb9af3b0431c75ec3",
              "IPY_MODEL_7c7063b2337b46fdbed032d63594e3ec"
            ]
          }
        },
        "7d15243641cf4131b90ea4e55f9a8b56": {
          "model_module": "@jupyter-widgets/base",
          "model_name": "LayoutModel",
          "state": {
            "_view_name": "LayoutView",
            "grid_template_rows": null,
            "right": null,
            "justify_content": null,
            "_view_module": "@jupyter-widgets/base",
            "overflow": null,
            "_model_module_version": "1.2.0",
            "_view_count": null,
            "flex_flow": null,
            "width": null,
            "min_width": null,
            "border": null,
            "align_items": null,
            "bottom": null,
            "_model_module": "@jupyter-widgets/base",
            "top": null,
            "grid_column": null,
            "overflow_y": null,
            "overflow_x": null,
            "grid_auto_flow": null,
            "grid_area": null,
            "grid_template_columns": null,
            "flex": null,
            "_model_name": "LayoutModel",
            "justify_items": null,
            "grid_row": null,
            "max_height": null,
            "align_content": null,
            "visibility": null,
            "align_self": null,
            "height": null,
            "min_height": null,
            "padding": null,
            "grid_auto_rows": null,
            "grid_gap": null,
            "max_width": null,
            "order": null,
            "_view_module_version": "1.2.0",
            "grid_template_areas": null,
            "object_position": null,
            "object_fit": null,
            "grid_auto_columns": null,
            "margin": null,
            "display": null,
            "left": null
          }
        },
        "656f2b2418cc477cb9af3b0431c75ec3": {
          "model_module": "@jupyter-widgets/controls",
          "model_name": "FloatProgressModel",
          "state": {
            "_view_name": "ProgressView",
            "style": "IPY_MODEL_a02fefac2ef048199524c052e81e4bab",
            "_dom_classes": [],
            "description": "",
            "_model_name": "FloatProgressModel",
            "bar_style": "success",
            "max": 1648877,
            "_view_module": "@jupyter-widgets/controls",
            "_model_module_version": "1.5.0",
            "value": 1648877,
            "_view_count": null,
            "_view_module_version": "1.5.0",
            "orientation": "horizontal",
            "min": 0,
            "description_tooltip": null,
            "_model_module": "@jupyter-widgets/controls",
            "layout": "IPY_MODEL_06a58da4b92946f1b1292eb42acb5bcf"
          }
        },
        "7c7063b2337b46fdbed032d63594e3ec": {
          "model_module": "@jupyter-widgets/controls",
          "model_name": "HTMLModel",
          "state": {
            "_view_name": "HTMLView",
            "style": "IPY_MODEL_6620ea624fd74e7bbad3553307e79676",
            "_dom_classes": [],
            "description": "",
            "_model_name": "HTMLModel",
            "placeholder": "​",
            "_view_module": "@jupyter-widgets/controls",
            "_model_module_version": "1.5.0",
            "value": " 1649664/? [00:00&lt;00:00, 3436753.77it/s]",
            "_view_count": null,
            "_view_module_version": "1.5.0",
            "description_tooltip": null,
            "_model_module": "@jupyter-widgets/controls",
            "layout": "IPY_MODEL_7bec0334617f41f19ec61ba711c0e251"
          }
        },
        "a02fefac2ef048199524c052e81e4bab": {
          "model_module": "@jupyter-widgets/controls",
          "model_name": "ProgressStyleModel",
          "state": {
            "_view_name": "StyleView",
            "_model_name": "ProgressStyleModel",
            "description_width": "initial",
            "_view_module": "@jupyter-widgets/base",
            "_model_module_version": "1.5.0",
            "_view_count": null,
            "_view_module_version": "1.2.0",
            "bar_color": null,
            "_model_module": "@jupyter-widgets/controls"
          }
        },
        "06a58da4b92946f1b1292eb42acb5bcf": {
          "model_module": "@jupyter-widgets/base",
          "model_name": "LayoutModel",
          "state": {
            "_view_name": "LayoutView",
            "grid_template_rows": null,
            "right": null,
            "justify_content": null,
            "_view_module": "@jupyter-widgets/base",
            "overflow": null,
            "_model_module_version": "1.2.0",
            "_view_count": null,
            "flex_flow": null,
            "width": null,
            "min_width": null,
            "border": null,
            "align_items": null,
            "bottom": null,
            "_model_module": "@jupyter-widgets/base",
            "top": null,
            "grid_column": null,
            "overflow_y": null,
            "overflow_x": null,
            "grid_auto_flow": null,
            "grid_area": null,
            "grid_template_columns": null,
            "flex": null,
            "_model_name": "LayoutModel",
            "justify_items": null,
            "grid_row": null,
            "max_height": null,
            "align_content": null,
            "visibility": null,
            "align_self": null,
            "height": null,
            "min_height": null,
            "padding": null,
            "grid_auto_rows": null,
            "grid_gap": null,
            "max_width": null,
            "order": null,
            "_view_module_version": "1.2.0",
            "grid_template_areas": null,
            "object_position": null,
            "object_fit": null,
            "grid_auto_columns": null,
            "margin": null,
            "display": null,
            "left": null
          }
        },
        "6620ea624fd74e7bbad3553307e79676": {
          "model_module": "@jupyter-widgets/controls",
          "model_name": "DescriptionStyleModel",
          "state": {
            "_view_name": "StyleView",
            "_model_name": "DescriptionStyleModel",
            "description_width": "",
            "_view_module": "@jupyter-widgets/base",
            "_model_module_version": "1.5.0",
            "_view_count": null,
            "_view_module_version": "1.2.0",
            "_model_module": "@jupyter-widgets/controls"
          }
        },
        "7bec0334617f41f19ec61ba711c0e251": {
          "model_module": "@jupyter-widgets/base",
          "model_name": "LayoutModel",
          "state": {
            "_view_name": "LayoutView",
            "grid_template_rows": null,
            "right": null,
            "justify_content": null,
            "_view_module": "@jupyter-widgets/base",
            "overflow": null,
            "_model_module_version": "1.2.0",
            "_view_count": null,
            "flex_flow": null,
            "width": null,
            "min_width": null,
            "border": null,
            "align_items": null,
            "bottom": null,
            "_model_module": "@jupyter-widgets/base",
            "top": null,
            "grid_column": null,
            "overflow_y": null,
            "overflow_x": null,
            "grid_auto_flow": null,
            "grid_area": null,
            "grid_template_columns": null,
            "flex": null,
            "_model_name": "LayoutModel",
            "justify_items": null,
            "grid_row": null,
            "max_height": null,
            "align_content": null,
            "visibility": null,
            "align_self": null,
            "height": null,
            "min_height": null,
            "padding": null,
            "grid_auto_rows": null,
            "grid_gap": null,
            "max_width": null,
            "order": null,
            "_view_module_version": "1.2.0",
            "grid_template_areas": null,
            "object_position": null,
            "object_fit": null,
            "grid_auto_columns": null,
            "margin": null,
            "display": null,
            "left": null
          }
        },
        "869434722a3e4f37befe8c9ab922e4d7": {
          "model_module": "@jupyter-widgets/controls",
          "model_name": "HBoxModel",
          "state": {
            "_view_name": "HBoxView",
            "_dom_classes": [],
            "_model_name": "HBoxModel",
            "_view_module": "@jupyter-widgets/controls",
            "_model_module_version": "1.5.0",
            "_view_count": null,
            "_view_module_version": "1.5.0",
            "box_style": "",
            "layout": "IPY_MODEL_34006270792f44e88d57d3612a41d0e0",
            "_model_module": "@jupyter-widgets/controls",
            "children": [
              "IPY_MODEL_41d885caff7844e3b5c149f36dce5b06",
              "IPY_MODEL_7f8eb24e4e7343f4a55ad0653277cbb0"
            ]
          }
        },
        "34006270792f44e88d57d3612a41d0e0": {
          "model_module": "@jupyter-widgets/base",
          "model_name": "LayoutModel",
          "state": {
            "_view_name": "LayoutView",
            "grid_template_rows": null,
            "right": null,
            "justify_content": null,
            "_view_module": "@jupyter-widgets/base",
            "overflow": null,
            "_model_module_version": "1.2.0",
            "_view_count": null,
            "flex_flow": null,
            "width": null,
            "min_width": null,
            "border": null,
            "align_items": null,
            "bottom": null,
            "_model_module": "@jupyter-widgets/base",
            "top": null,
            "grid_column": null,
            "overflow_y": null,
            "overflow_x": null,
            "grid_auto_flow": null,
            "grid_area": null,
            "grid_template_columns": null,
            "flex": null,
            "_model_name": "LayoutModel",
            "justify_items": null,
            "grid_row": null,
            "max_height": null,
            "align_content": null,
            "visibility": null,
            "align_self": null,
            "height": null,
            "min_height": null,
            "padding": null,
            "grid_auto_rows": null,
            "grid_gap": null,
            "max_width": null,
            "order": null,
            "_view_module_version": "1.2.0",
            "grid_template_areas": null,
            "object_position": null,
            "object_fit": null,
            "grid_auto_columns": null,
            "margin": null,
            "display": null,
            "left": null
          }
        },
        "41d885caff7844e3b5c149f36dce5b06": {
          "model_module": "@jupyter-widgets/controls",
          "model_name": "FloatProgressModel",
          "state": {
            "_view_name": "ProgressView",
            "style": "IPY_MODEL_79e403a91066432c9f94dbc0181513a2",
            "_dom_classes": [],
            "description": "",
            "_model_name": "FloatProgressModel",
            "bar_style": "success",
            "max": 4542,
            "_view_module": "@jupyter-widgets/controls",
            "_model_module_version": "1.5.0",
            "value": 4542,
            "_view_count": null,
            "_view_module_version": "1.5.0",
            "orientation": "horizontal",
            "min": 0,
            "description_tooltip": null,
            "_model_module": "@jupyter-widgets/controls",
            "layout": "IPY_MODEL_46131b7c90844a45b8a6f891d7e9e5a1"
          }
        },
        "7f8eb24e4e7343f4a55ad0653277cbb0": {
          "model_module": "@jupyter-widgets/controls",
          "model_name": "HTMLModel",
          "state": {
            "_view_name": "HTMLView",
            "style": "IPY_MODEL_758b80cfd11e4c358524a6e78a29bffc",
            "_dom_classes": [],
            "description": "",
            "_model_name": "HTMLModel",
            "placeholder": "​",
            "_view_module": "@jupyter-widgets/controls",
            "_model_module_version": "1.5.0",
            "value": " 5120/? [00:00&lt;00:00, 22570.97it/s]",
            "_view_count": null,
            "_view_module_version": "1.5.0",
            "description_tooltip": null,
            "_model_module": "@jupyter-widgets/controls",
            "layout": "IPY_MODEL_afae37e1e6b04963a115105579bc6761"
          }
        },
        "79e403a91066432c9f94dbc0181513a2": {
          "model_module": "@jupyter-widgets/controls",
          "model_name": "ProgressStyleModel",
          "state": {
            "_view_name": "StyleView",
            "_model_name": "ProgressStyleModel",
            "description_width": "initial",
            "_view_module": "@jupyter-widgets/base",
            "_model_module_version": "1.5.0",
            "_view_count": null,
            "_view_module_version": "1.2.0",
            "bar_color": null,
            "_model_module": "@jupyter-widgets/controls"
          }
        },
        "46131b7c90844a45b8a6f891d7e9e5a1": {
          "model_module": "@jupyter-widgets/base",
          "model_name": "LayoutModel",
          "state": {
            "_view_name": "LayoutView",
            "grid_template_rows": null,
            "right": null,
            "justify_content": null,
            "_view_module": "@jupyter-widgets/base",
            "overflow": null,
            "_model_module_version": "1.2.0",
            "_view_count": null,
            "flex_flow": null,
            "width": null,
            "min_width": null,
            "border": null,
            "align_items": null,
            "bottom": null,
            "_model_module": "@jupyter-widgets/base",
            "top": null,
            "grid_column": null,
            "overflow_y": null,
            "overflow_x": null,
            "grid_auto_flow": null,
            "grid_area": null,
            "grid_template_columns": null,
            "flex": null,
            "_model_name": "LayoutModel",
            "justify_items": null,
            "grid_row": null,
            "max_height": null,
            "align_content": null,
            "visibility": null,
            "align_self": null,
            "height": null,
            "min_height": null,
            "padding": null,
            "grid_auto_rows": null,
            "grid_gap": null,
            "max_width": null,
            "order": null,
            "_view_module_version": "1.2.0",
            "grid_template_areas": null,
            "object_position": null,
            "object_fit": null,
            "grid_auto_columns": null,
            "margin": null,
            "display": null,
            "left": null
          }
        },
        "758b80cfd11e4c358524a6e78a29bffc": {
          "model_module": "@jupyter-widgets/controls",
          "model_name": "DescriptionStyleModel",
          "state": {
            "_view_name": "StyleView",
            "_model_name": "DescriptionStyleModel",
            "description_width": "",
            "_view_module": "@jupyter-widgets/base",
            "_model_module_version": "1.5.0",
            "_view_count": null,
            "_view_module_version": "1.2.0",
            "_model_module": "@jupyter-widgets/controls"
          }
        },
        "afae37e1e6b04963a115105579bc6761": {
          "model_module": "@jupyter-widgets/base",
          "model_name": "LayoutModel",
          "state": {
            "_view_name": "LayoutView",
            "grid_template_rows": null,
            "right": null,
            "justify_content": null,
            "_view_module": "@jupyter-widgets/base",
            "overflow": null,
            "_model_module_version": "1.2.0",
            "_view_count": null,
            "flex_flow": null,
            "width": null,
            "min_width": null,
            "border": null,
            "align_items": null,
            "bottom": null,
            "_model_module": "@jupyter-widgets/base",
            "top": null,
            "grid_column": null,
            "overflow_y": null,
            "overflow_x": null,
            "grid_auto_flow": null,
            "grid_area": null,
            "grid_template_columns": null,
            "flex": null,
            "_model_name": "LayoutModel",
            "justify_items": null,
            "grid_row": null,
            "max_height": null,
            "align_content": null,
            "visibility": null,
            "align_self": null,
            "height": null,
            "min_height": null,
            "padding": null,
            "grid_auto_rows": null,
            "grid_gap": null,
            "max_width": null,
            "order": null,
            "_view_module_version": "1.2.0",
            "grid_template_areas": null,
            "object_position": null,
            "object_fit": null,
            "grid_auto_columns": null,
            "margin": null,
            "display": null,
            "left": null
          }
        }
      }
    }
  },
  "cells": [
    {
      "cell_type": "markdown",
      "metadata": {
        "id": "view-in-github",
        "colab_type": "text"
      },
      "source": [
        "<a href=\"https://colab.research.google.com/github/Olivia-Feldman/DLStockPrectionCNNModel-/blob/Andrew/NuGAN.ipynb\" target=\"_parent\"><img src=\"https://colab.research.google.com/assets/colab-badge.svg\" alt=\"Open In Colab\"/></a>"
      ]
    },
    {
      "cell_type": "markdown",
      "metadata": {
        "id": "z8isMKhlx0xr"
      },
      "source": [
        "# Set up the environment"
      ]
    },
    {
      "cell_type": "code",
      "metadata": {
        "id": "yk03kg9rxO4W"
      },
      "source": [
        "import torch\n",
        "import time\n",
        "import torch.nn as nn\n",
        "import torch.nn.functional as F\n",
        "import torch.optim as optim\n",
        "from torchvision import datasets, transforms\n",
        "from torch.autograd import Variable\n",
        "from torchvision.utils import save_image\n",
        "import matplotlib.pyplot as plt\n",
        "import numpy as np"
      ],
      "execution_count": 1,
      "outputs": []
    },
    {
      "cell_type": "markdown",
      "metadata": {
        "id": "wg5lYCj_yCje"
      },
      "source": [
        "# Download the MNIST dataset\n",
        "\n",
        "[MNIST PyTorch Docs](https://pytorch.org/vision/stable/datasets.html#mnist)"
      ]
    },
    {
      "cell_type": "code",
      "metadata": {
        "id": "EZ43QkgQyIkV",
        "outputId": "22196de9-b9aa-4a62-b871-daa3e1b6c18d",
        "colab": {
          "base_uri": "https://localhost:8080/",
          "height": 726,
          "referenced_widgets": [
            "7299323ffb49430282aecc36a9a7c376",
            "d70a3bd71a2e42e38ea8c0897bb9cf7f",
            "c6fc184aaf73420b88e4662b7efee328",
            "a2affa4c26d645d9b8e6cb1765716a96",
            "c659f7192c7f4458ba7395032ef511c9",
            "04cd74d79f6a4c2eb4759ca68dba1b25",
            "99090190da2b442a9109fb454ef416b8",
            "07eb9d09700e4aff9934b98797fd7f24",
            "db1a3302fb9e4d3fa7912d949599b02d",
            "329b2b17b19040749cbf6b1cdbb4fd82",
            "874582ca684446b4a585373e3d605a79",
            "698d160ff99948289d4074a88b678f2c",
            "35bd556439554c7f98c6731816151bd7",
            "126e37a5f375490b9ca10b607087803d",
            "65ec82b3d53d46c6b0d4c6a0f04d49e4",
            "371e7c24e4d743759ee1e94fc4025406",
            "f1a36091d3ee4b8885db146b80e7889c",
            "7d15243641cf4131b90ea4e55f9a8b56",
            "656f2b2418cc477cb9af3b0431c75ec3",
            "7c7063b2337b46fdbed032d63594e3ec",
            "a02fefac2ef048199524c052e81e4bab",
            "06a58da4b92946f1b1292eb42acb5bcf",
            "6620ea624fd74e7bbad3553307e79676",
            "7bec0334617f41f19ec61ba711c0e251",
            "869434722a3e4f37befe8c9ab922e4d7",
            "34006270792f44e88d57d3612a41d0e0",
            "41d885caff7844e3b5c149f36dce5b06",
            "7f8eb24e4e7343f4a55ad0653277cbb0",
            "79e403a91066432c9f94dbc0181513a2",
            "46131b7c90844a45b8a6f891d7e9e5a1",
            "758b80cfd11e4c358524a6e78a29bffc",
            "afae37e1e6b04963a115105579bc6761"
          ]
        }
      },
      "source": [
        "# MNIST Dataset\n",
        "transform = transforms.Compose([\n",
        "    transforms.ToTensor(),\n",
        "    transforms.Normalize(mean=(0.5), std=(0.5))])\n",
        "\n",
        "train_dataset = datasets.MNIST(root='./data', train=True, transform=transform, download=True)\n",
        "test_dataset = datasets.MNIST(root='./data', train=False, transform=transform, download=True)\n",
        "\n",
        "train_loader = torch.utils.data.DataLoader(dataset=train_dataset, batch_size=100, shuffle=True)\n",
        "test_loader = torch.utils.data.DataLoader(dataset=test_dataset, batch_size=100, shuffle=False)"
      ],
      "execution_count": 2,
      "outputs": [
        {
          "output_type": "stream",
          "text": [
            "Downloading http://yann.lecun.com/exdb/mnist/train-images-idx3-ubyte.gz\n",
            "Downloading http://yann.lecun.com/exdb/mnist/train-images-idx3-ubyte.gz to ./data/MNIST/raw/train-images-idx3-ubyte.gz\n"
          ],
          "name": "stdout"
        },
        {
          "output_type": "display_data",
          "data": {
            "application/vnd.jupyter.widget-view+json": {
              "model_id": "7299323ffb49430282aecc36a9a7c376",
              "version_minor": 0,
              "version_major": 2
            },
            "text/plain": [
              "HBox(children=(FloatProgress(value=0.0, max=9912422.0), HTML(value='')))"
            ]
          },
          "metadata": {
            "tags": []
          }
        },
        {
          "output_type": "stream",
          "text": [
            "\n",
            "Extracting ./data/MNIST/raw/train-images-idx3-ubyte.gz to ./data/MNIST/raw\n",
            "\n",
            "Downloading http://yann.lecun.com/exdb/mnist/train-labels-idx1-ubyte.gz\n",
            "Downloading http://yann.lecun.com/exdb/mnist/train-labels-idx1-ubyte.gz to ./data/MNIST/raw/train-labels-idx1-ubyte.gz\n"
          ],
          "name": "stdout"
        },
        {
          "output_type": "display_data",
          "data": {
            "application/vnd.jupyter.widget-view+json": {
              "model_id": "db1a3302fb9e4d3fa7912d949599b02d",
              "version_minor": 0,
              "version_major": 2
            },
            "text/plain": [
              "HBox(children=(FloatProgress(value=0.0, max=28881.0), HTML(value='')))"
            ]
          },
          "metadata": {
            "tags": []
          }
        },
        {
          "output_type": "stream",
          "text": [
            "\n",
            "Extracting ./data/MNIST/raw/train-labels-idx1-ubyte.gz to ./data/MNIST/raw\n",
            "\n",
            "Downloading http://yann.lecun.com/exdb/mnist/t10k-images-idx3-ubyte.gz\n",
            "Downloading http://yann.lecun.com/exdb/mnist/t10k-images-idx3-ubyte.gz to ./data/MNIST/raw/t10k-images-idx3-ubyte.gz\n",
            "Failed to download (trying next):\n",
            "HTTP Error 503: Service Unavailable\n",
            "\n",
            "Downloading https://ossci-datasets.s3.amazonaws.com/mnist/t10k-images-idx3-ubyte.gz\n",
            "Downloading https://ossci-datasets.s3.amazonaws.com/mnist/t10k-images-idx3-ubyte.gz to ./data/MNIST/raw/t10k-images-idx3-ubyte.gz\n"
          ],
          "name": "stdout"
        },
        {
          "output_type": "display_data",
          "data": {
            "application/vnd.jupyter.widget-view+json": {
              "model_id": "f1a36091d3ee4b8885db146b80e7889c",
              "version_minor": 0,
              "version_major": 2
            },
            "text/plain": [
              "HBox(children=(FloatProgress(value=0.0, max=1648877.0), HTML(value='')))"
            ]
          },
          "metadata": {
            "tags": []
          }
        },
        {
          "output_type": "stream",
          "text": [
            "\n",
            "Extracting ./data/MNIST/raw/t10k-images-idx3-ubyte.gz to ./data/MNIST/raw\n",
            "\n",
            "Downloading http://yann.lecun.com/exdb/mnist/t10k-labels-idx1-ubyte.gz\n",
            "Failed to download (trying next):\n",
            "HTTP Error 503: Service Unavailable\n",
            "\n",
            "Downloading https://ossci-datasets.s3.amazonaws.com/mnist/t10k-labels-idx1-ubyte.gz\n",
            "Downloading https://ossci-datasets.s3.amazonaws.com/mnist/t10k-labels-idx1-ubyte.gz to ./data/MNIST/raw/t10k-labels-idx1-ubyte.gz\n"
          ],
          "name": "stdout"
        },
        {
          "output_type": "display_data",
          "data": {
            "application/vnd.jupyter.widget-view+json": {
              "model_id": "869434722a3e4f37befe8c9ab922e4d7",
              "version_minor": 0,
              "version_major": 2
            },
            "text/plain": [
              "HBox(children=(FloatProgress(value=0.0, max=4542.0), HTML(value='')))"
            ]
          },
          "metadata": {
            "tags": []
          }
        },
        {
          "output_type": "stream",
          "text": [
            "\n",
            "Extracting ./data/MNIST/raw/t10k-labels-idx1-ubyte.gz to ./data/MNIST/raw\n",
            "\n",
            "Processing...\n",
            "Done!\n"
          ],
          "name": "stdout"
        },
        {
          "output_type": "stream",
          "text": [
            "/usr/local/lib/python3.7/dist-packages/torchvision/datasets/mnist.py:502: UserWarning: The given NumPy array is not writeable, and PyTorch does not support non-writeable tensors. This means you can write to the underlying (supposedly non-writeable) NumPy array using the tensor. You may want to copy the array to protect its data or make it writeable before converting it to a tensor. This type of warning will be suppressed for the rest of this program. (Triggered internally at  /pytorch/torch/csrc/utils/tensor_numpy.cpp:143.)\n",
            "  return torch.from_numpy(parsed.astype(m[2], copy=False)).view(*s)\n"
          ],
          "name": "stderr"
        }
      ]
    },
    {
      "cell_type": "markdown",
      "metadata": {
        "id": "O_BZppFLyWBC"
      },
      "source": [
        "# Showing shape of train and test dataset"
      ]
    },
    {
      "cell_type": "code",
      "metadata": {
        "colab": {
          "base_uri": "https://localhost:8080/"
        },
        "id": "pPO3ZvOPybpd",
        "outputId": "fed0798d-40e3-4b26-f33b-0f8ab44ccdaa"
      },
      "source": [
        "print(\"Train Shape:\", train_dataset.data.shape, \"Test Shape:\", test_dataset.data.shape)"
      ],
      "execution_count": 3,
      "outputs": [
        {
          "output_type": "stream",
          "text": [
            "Train Shape: torch.Size([60000, 28, 28]) Test Shape: torch.Size([10000, 28, 28])\n"
          ],
          "name": "stdout"
        }
      ]
    },
    {
      "cell_type": "markdown",
      "metadata": {
        "id": "hQ_WamIMwfXI"
      },
      "source": [
        "# Define a function to initialize the weights of the network\n"
      ]
    },
    {
      "cell_type": "code",
      "metadata": {
        "id": "v_qbzeYmwdCE"
      },
      "source": [
        "def initialize_weights(net):\n",
        "    for m in net.modules():\n",
        "        if isinstance(m, nn.Conv2d):\n",
        "            m.weight.data.normal_(0, 0.02)\n",
        "            m.bias.data.zero_()\n",
        "        elif isinstance(m, nn.ConvTranspose2d):\n",
        "            m.weight.data.normal_(0, 0.02)\n",
        "            m.bias.data.zero_()\n",
        "        elif isinstance(m, nn.Linear):\n",
        "            m.weight.data.normal_(0, 0.02)\n",
        "            m.bias.data.zero_()"
      ],
      "execution_count": 4,
      "outputs": []
    },
    {
      "cell_type": "code",
      "metadata": {
        "id": "Zsrvh6Ruw3L9"
      },
      "source": [
        "def visualize_results(gan):\n",
        "      sample_z_ = torch.rand((10, gan.z_dim)).cuda()\n",
        "      samples = gan.G(sample_z_)\n",
        "      samples = samples.cpu().data.numpy().transpose(0, 2, 3, 1)\n",
        "      samples = (samples + 1) / 2\n",
        "      plt.figure(figsize=((1,10)))\n",
        "      fig,ax = plt.subplots(1,10)\n",
        "      for i in range(10):\n",
        "          s=ax[i].imshow(np.squeeze(samples[i,]))\n",
        "          s=ax[i].get_xaxis().set_visible(False)\n",
        "          s=ax[i].get_yaxis().set_visible(False)\n",
        "      s=plt.show()"
      ],
      "execution_count": 5,
      "outputs": []
    },
    {
      "cell_type": "code",
      "metadata": {
        "id": "6DEvIxxCsmBS"
      },
      "source": [
        "from scipy.sparse import linalg\n",
        "\n",
        "def get_eigenvectors(model, loss, dataloader):\n",
        "    # Adds up the number of weights in the model\n",
        "    num_params = sum(p.numel() for p in model.parameters())\n",
        "\n",
        "    hv = HessianVector(model=model, \n",
        "                       dataloader=dataloader, \n",
        "                       loss=loss)\n",
        "    \n",
        "    A = linalg.LinearOperator((num_params,num_params), matvec=lambda v: hv.calculate(torch.tensor(v).float()))\n",
        "\n",
        "    print(\"\\tGot eigenvectors\", A.shape)\n",
        "    # Gets 'k' with the Largest (algebraic) eigenvalues\n",
        "    vals, vecs = linalg.eigsh(A, k=2, mode='LA')\n",
        "\n",
        "    print(\"\\tEigenvalues are {:.2f} and {:.2f}\".format(vals[0],vals[1]))"
      ],
      "execution_count": 6,
      "outputs": []
    },
    {
      "cell_type": "markdown",
      "metadata": {
        "id": "kAJHsVddd4_F"
      },
      "source": [
        "# Calculates the Eigenvalues of the Discriminator\n",
        "\n",
        "\n",
        "[linalg.eigsh](https://docs.scipy.org/doc/scipy/reference/generated/scipy.sparse.linalg.eigsh.html)"
      ]
    },
    {
      "cell_type": "code",
      "metadata": {
        "id": "0-rhoEvbQYAJ"
      },
      "source": [
        "def get_d_eigenvectors(D, G, loss, dataloader):\n",
        "\n",
        "    num_params = sum(p.numel() for p in D.parameters())\n",
        "\n",
        "    hv = HessianVector(model=D, \n",
        "                       dataloader=dataloader, \n",
        "                       loss=loss)\n",
        "    \n",
        "    A = linalg.LinearOperator((num_params,num_params), matvec=lambda v: hv.calculate(torch.tensor(v).float()))\n",
        "\n",
        "    print(\"\\tGot eigenvectors\", A.shape)\n",
        "    # Gets 'k' with the Largest (algebraic) eigenvalues\n",
        "    vals, vecs = linalg.eigsh(A, k=2, mode='LA')\n",
        "\n",
        "    print(\"\\tEigenvalues are {:.2f} and {:.2f}\".format(vals[0],vals[1]))"
      ],
      "execution_count": 7,
      "outputs": []
    },
    {
      "cell_type": "markdown",
      "metadata": {
        "id": "Tptp9JXltklf"
      },
      "source": [
        "# Hessian Vector Class\n",
        "\n",
        "\n",
        "\n",
        "*   scipy.sparse.linalg.LinearOperator\n",
        "  *   [Docs](https://docs.scipy.org/doc/scipy/reference/generated/scipy.sparse.linalg.LinearOperator.html)\n",
        "\n"
      ]
    },
    {
      "cell_type": "code",
      "metadata": {
        "id": "_S6BZlQHtkJP"
      },
      "source": [
        "class HessianVector():\n",
        "\n",
        "    def __init__(self, model, dataloader, loss, percentage=0.2):\n",
        "        self.size = int(sum(param.numel() for param in model.parameters()))\n",
        "        self.grad_vec = torch.zeros(self.size)\n",
        "        self.percentage = percentage\n",
        "        self.dataloader = dataloader\n",
        "        self.model = model\n",
        "        self.loss = loss\n",
        "\n",
        "\n",
        "    def calculate(self, vector):\n",
        "        full_hessian = None\n",
        "        # Place vector on the GPU\n",
        "        vector = vector.cuda()\n",
        "\n",
        "        grad_vec = None\n",
        "\n",
        "        batch_grad = self.prepare_grad()\n",
        "\n",
        "        #print(\"Batch Shape:\", batch_grad.shape)\n",
        "\n",
        "        self.zero_grad()\n",
        "        # Take the second gradient\n",
        "        grad_grad = torch.autograd.grad(batch_grad, self.model.parameters(), grad_outputs=vector, only_inputs=True, retain_graph=True)\n",
        "        # Concatentate the results over the different components of the network\n",
        "        hessian_vec_prod = torch.cat([g.contiguous().view(-1) for g in grad_grad])\n",
        "        # Adds/Sets Full Hessian\n",
        "        if full_hessian is not None:\n",
        "            full_hessian += hessian_vec_prod\n",
        "        else:\n",
        "            full_hessian = hessian_vec_prod\n",
        "\n",
        "        # Hessian must be returned on the CPU\n",
        "        return full_hessian.cpu()\n",
        "\n",
        "    def zero_grad(self):\n",
        "        \"\"\"\n",
        "        Zeros out the gradient info for each parameters and vectorize\n",
        "        \"\"\"\n",
        "\n",
        "        for p in self.model.parameters():\n",
        "            if p.grad is not None:\n",
        "                p.grad.data.zero_()\n",
        "\n",
        "\n",
        "    def prepare_grad(self):\n",
        "\n",
        "\n",
        "        grad_vec = None\n",
        "\n",
        "        grad_dict = torch.autograd.grad(self.loss, self.model.parameters(), create_graph=True, retain_graph=True)\n",
        "        grad_vec = torch.cat([g.contiguous().view(-1) for g in grad_dict])\n",
        "        self.grad_vec = grad_vec\n",
        "        return self.grad_vec\n"
      ],
      "execution_count": 8,
      "outputs": []
    },
    {
      "cell_type": "markdown",
      "metadata": {
        "id": "k_jzg_VB0VHj"
      },
      "source": [
        "# Generator and Discriminator class definition"
      ]
    },
    {
      "cell_type": "code",
      "metadata": {
        "id": "EAhXVtAo0USV"
      },
      "source": [
        "class Generator(nn.Module):\n",
        "    def __init__(self, input_dim=100, output_dim=1, input_size=32, base_size=64):\n",
        "        super(Generator, self).__init__()  \n",
        "        self.input_dim = input_dim\n",
        "        self.output_dim = output_dim\n",
        "        self.input_size = 28\n",
        "        self.base_size = base_size    \n",
        "\n",
        "\n",
        "        # self.fc1 = nn.Linear(self.input_dim, self.base_size)\n",
        "        # self.fc2 = nn.Linear(self.fc1.out_features, self.fc1.out_features*2)\n",
        "        # self.fc3 = nn.Linear(self.fc2.out_features, self.fc2.out_features*2)\n",
        "        # self.fc4 = nn.Linear(self.fc3.out_features, self.output_dim * self.input_size * self.input_size)\n",
        "\n",
        "        self.fc = nn.Sequential(\n",
        "            nn.Linear(self.input_dim, 1024),\n",
        "            nn.BatchNorm1d(1024),\n",
        "            nn.ReLU(),\n",
        "            nn.Linear(1024, 2*self.base_size * (self.input_size // 4) * (self.input_size // 4)),\n",
        "            nn.BatchNorm1d(2*self.base_size * (self.input_size // 4) * (self.input_size // 4)),\n",
        "            nn.ReLU(),\n",
        "        )\n",
        "\n",
        "        self.deconv = nn.Sequential(\n",
        "            nn.ConvTranspose2d(2*self.base_size, self.base_size, 4, 2, 1),\n",
        "            nn.BatchNorm2d(self.base_size),\n",
        "            nn.ReLU(),\n",
        "            nn.ConvTranspose2d(self.base_size, self.output_dim, 4, 2, 1),\n",
        "            nn.Tanh(),\n",
        "        )\n",
        "\n",
        "        initialize_weights(self)\n",
        "    \n",
        "    # forward method\n",
        "    def forward(self, x): \n",
        "\n",
        "        # x = F.leaky_relu(self.fc1(x), 0.2)\n",
        "        # x = F.leaky_relu(self.fc2(x), 0.2)\n",
        "        # x = F.leaky_relu(self.fc3(x), 0.2)\n",
        "        # x = torch.tanh(self.fc4(x))\n",
        "        # x = x.view(-1, self.output_dim, self.input_size, self.input_size)\n",
        "        # return x\n",
        "\n",
        "        x = self.fc(x)\n",
        "        x = x.view(-1, 2*self.base_size, (self.input_size // 4), (self.input_size // 4))\n",
        "        x = self.deconv(x)\n",
        "\n",
        "        return x\n",
        "    \n",
        "class Discriminator(nn.Module):\n",
        "    def __init__(self, input_dim=1, output_dim=1, input_size=32, base_size=64):\n",
        "        super(Discriminator, self).__init__()\n",
        "        self.input_dim = input_dim\n",
        "        self.output_dim = output_dim\n",
        "        self.input_size = input_size\n",
        "        self.base_size = base_size\n",
        "\n",
        "        # self.fc1 = nn.Linear(self.input_size * self.input_size, self.base_size)\n",
        "        # self.fc2 = nn.Linear(self.fc1.out_features, self.fc1.out_features//2)\n",
        "        # self.fc3 = nn.Linear(self.fc2.out_features, self.fc2.out_features//2)\n",
        "        # self.fc4 = nn.Linear(self.fc3.out_features, self.output_dim)\n",
        "\n",
        "        self.conv = nn.Sequential(\n",
        "            nn.Conv2d(self.input_dim, self.base_size, 4, 2, 1),\n",
        "            nn.LeakyReLU(0.2),\n",
        "            nn.Conv2d(self.base_size, 2*self.base_size, 4, 2, 1),\n",
        "            nn.BatchNorm2d(2*self.base_size),\n",
        "            nn.LeakyReLU(0.2),\n",
        "        )\n",
        "        self.fc = nn.Sequential(\n",
        "            nn.Linear(2*self.base_size * (self.input_size // 4) * (self.input_size // 4), 1024),\n",
        "            nn.BatchNorm1d(1024),\n",
        "            nn.LeakyReLU(0.2),\n",
        "            nn.Linear(1024, self.output_dim),\n",
        "            nn.Sigmoid(),\n",
        "        )\n",
        "\n",
        "        initialize_weights(self)\n",
        "    \n",
        "    # forward method\n",
        "    def forward(self, x):\n",
        "\n",
        "        # x = x.view(-1, self.input_size * self.input_size)\n",
        "        # x = F.leaky_relu(self.fc1(x), 0.2)\n",
        "        # x = F.dropout(x, 0.3)\n",
        "        # x = F.leaky_relu(self.fc2(x), 0.2)\n",
        "        # x = F.dropout(x, 0.3)\n",
        "        # x = F.leaky_relu(self.fc3(x), 0.2)\n",
        "        # x = F.dropout(x, 0.3)\n",
        "        # return torch.sigmoid(self.fc4(x))\n",
        "\n",
        "        x = self.conv(x)\n",
        "        x = x.view(-1, 2*self.base_size * (self.input_size // 4) * (self.input_size // 4))\n",
        "        x = self.fc(x)\n",
        "\n",
        "        return x"
      ],
      "execution_count": 9,
      "outputs": []
    },
    {
      "cell_type": "markdown",
      "metadata": {
        "id": "5PgTyYPe0qhu"
      },
      "source": [
        "# Construction of GAN model\n",
        "\n",
        "[Modifying gradients in PyTorch](https://discuss.pytorch.org/t/how-to-modify-the-gradient-manually/7483)"
      ]
    },
    {
      "cell_type": "code",
      "metadata": {
        "id": "SUZu_Ztd0uD3"
      },
      "source": [
        "class GAN():\n",
        "    def __init__(self,params):\n",
        "        # parameters\n",
        "        self.epoch = params['max_epochs']\n",
        "        self.sample_num = 100\n",
        "        self.batch_size = 300\n",
        "        self.input_size = 28\n",
        "        self.z_dim = params['z_dim']\n",
        "        self.base_size = params['base_size']\n",
        "\n",
        "        # load dataset\n",
        "        self.data_loader = torch.utils.data.DataLoader(train_dataset, \n",
        "                                               batch_size=self.batch_size, \n",
        "                                               shuffle=True)\n",
        "        self.test_loader = torch.utils.data.DataLoader(test_dataset, \n",
        "                                               batch_size=self.batch_size, \n",
        "                                               shuffle=True)\n",
        "        data = self.data_loader.__iter__().__next__()[0]\n",
        "\n",
        "        #mnist_dim = data.shape[1] * data.shape[2]\n",
        "\n",
        "        #print(data.shape)\n",
        "        #self.data_width = data.shape[2]\n",
        "        #self.data_height = data.shape[3]\n",
        "\n",
        "        # initialization of the generator and discriminator\n",
        "        self.G = Generator(\n",
        "            input_dim=self.z_dim,       # 16\n",
        "            output_dim=data.shape[1],   # 1\n",
        "            input_size=self.input_size, # 28\n",
        "            base_size=self.base_size    # 64\n",
        "            ).cuda()\n",
        "\n",
        "        self.D = Discriminator(\n",
        "            input_dim=data.shape[1],    \n",
        "            output_dim=1,\n",
        "            input_size=self.input_size, \n",
        "            base_size=self.base_size\n",
        "            ).cuda()\n",
        "\n",
        "        #print(\"Encoder\", data.shape[1], self.input_size, self.base_size)\n",
        "        #self.E = encoder(input_dim=data.shape[1], output_dim=self.z_dim, input_size=self.input_size, base_size=self.base_size).cuda()\n",
        "        #self.G_optimizer = optim.SGD(self.G.parameters(), lr=params['lr_g'])\n",
        "        #self.D_optimizer = optim.SGD(self.D.parameters(), lr=params['lr_d'])\n",
        "        self.G_optimizer = optim.Adam(self.G.parameters(), lr=params['lr_g'], betas=(params['beta1'], params['beta2']))\n",
        "        self.D_optimizer = optim.Adam(self.D.parameters(), lr=params['lr_d'], betas=(params['beta1'], params['beta2']))\n",
        "        #self.E_optimizer = optim.Adam(self.E.parameters(), lr=1e-2, weight_decay=1e-4)\n",
        "        \n",
        "        # initialization of the loss function\n",
        "\n",
        "        self.BCE_loss = nn.BCELoss().cuda()\n",
        "        #self.smooth_loss = nn.SmoothL1Loss().cuda()\n",
        "        \n",
        "        # Gettng a batch of noise to generate the fake data\n",
        "        self.sample_z_ = torch.rand((self.batch_size, self.z_dim)).cuda()\n",
        "\n",
        "        # Function to train the GAN, where you alternate between the training of the genenator and discriminator\n",
        "#--------------------------------------------------------------------------------------------------------\n",
        "\n",
        "    def train(self):\n",
        "\n",
        "       # Setting empty arrays for storing the losses\n",
        "\n",
        "        Ninner = 1\n",
        "        self.train_hist = {}\n",
        "        self.train_hist['D_loss'] = []\n",
        "        self.train_hist['G_loss'] = []\n",
        "\n",
        "        # Setting up the labels for real and fake images\n",
        "        #self.y_real_, self.y_fake_ = torch.ones(self.batch_size, 1).cuda(), torch.zeros(self.batch_size, 1).cuda()\n",
        "        self.y_real_, self.y_fake_ = torch.ones(self.batch_size, 1).fill_(0.9).type(torch.float32).cuda(), torch.zeros(self.batch_size, 1).fill_(0.1).type(torch.float32).cuda()\n",
        "        # print(self.y_real_.shape)\n",
        "        self.y_real_ = self.y_real_ + (torch.randn(self.y_real_.shape)*0.03).cuda()\n",
        "        self.y_fake_ = self.y_fake_ + (torch.randn(self.y_fake_.shape)*0.03).cuda()\n",
        "\n",
        "        print('training start!!')\n",
        "\n",
        "        randn_var = 0.05\n",
        "        randn_mean = 0.00\n",
        "\n",
        "        # Epoch loops\n",
        "\n",
        "        for epoch in range(self.epoch):\n",
        "            epoch_start_time = time.time()\n",
        "            print(\"Epoch:\", epoch+1)\n",
        "\n",
        "            for iter, (x_, _) in enumerate(self.data_loader):\n",
        "                if iter == self.data_loader.dataset.__len__() // self.batch_size:\n",
        "                    break\n",
        "\n",
        "                # Generate random noise to push through the generator   \n",
        "\n",
        "                z_ = torch.rand((self.batch_size, self.z_dim))\n",
        "                x_, z_ = x_.cuda(), z_.cuda()\n",
        "\n",
        "                # YOUR CODE HERE\n",
        "                #--------------------\n",
        "\n",
        "                # update D network using \n",
        "                # 1. Set optimizer gradient to zero\n",
        "                self.D_optimizer.zero_grad()\n",
        "                # 2. Set discriminator losses on real and fake data\n",
        "                x_ = x_ + torch.normal(mean=randn_mean, std=randn_var, size=x_.shape).cuda()\n",
        "                #x_ = x_ + (torch.randn(x_.shape)*randn_var + randn_mean).cuda() # Adding random noise to input images\n",
        "                D_real = self.D(x_)\n",
        "                D_real_loss = self.BCE_loss(D_real, self.y_real_)\n",
        "\n",
        "                z_ = z_ + torch.normal(mean=randn_mean, std=randn_var, size=z_.shape).cuda()\n",
        "\n",
        "                G_ = self.G(z_)\n",
        "                D_fake = self.D(G_)\n",
        "                D_fake_loss = self.BCE_loss(D_fake, self.y_fake_)\n",
        "                # 3. Do back propagation to compute gradients\n",
        "                D_loss = D_real_loss + D_fake_loss\n",
        "\n",
        "                if (iter == 0) and (((epoch + 1) % 10) == 0):\n",
        "                    get_eigenvectors(self.D, D_loss, self.data_loader)\n",
        "\n",
        "                D_loss.backward()\n",
        "\n",
        "                # if iter == 0:\n",
        "                #     print(\"D eigen vectors:\")\n",
        "                #     get_eigenvectors(self.D, self.data_loader, self.BCE_loss)\n",
        "\n",
        "\n",
        "                # 4. Make a step of D_optimizer\n",
        "                self.D_optimizer.step()\n",
        "                # 5. Set the current loss in self.train_hist['D_loss]\n",
        "                self.train_hist['D_loss'].append(D_loss.item())\n",
        "                \n",
        "                # update G network using \n",
        "                # 1. Set optimizer gradient to zero\n",
        "                self.G_optimizer.zero_grad()\n",
        "                # 2. Set generator losses on fake data\n",
        "                G_ = self.G(z_)\n",
        "                D_fake_ = self.D(G_)\n",
        "                G_loss = self.BCE_loss(D_fake_, self.y_real_)\n",
        "                if (iter == 0) and (((epoch + 1) % 10) == 0):\n",
        "                    get_eigenvectors(self.G, G_loss, self.data_loader)\n",
        "                # 3. Do back propagation to compute gradients\n",
        "                G_loss.backward()\n",
        "\n",
        "                # if iter == 0:\n",
        "                #     print(\"G eigen vectors:\")\n",
        "                #     get_eigenvectors(self.G, self.data_loader, self.BCE_loss)\n",
        "\n",
        "                # 4. Make a step of G_optimizer\n",
        "                self.G_optimizer.step()\n",
        "                # 5. Set the current loss in self.train_hist['G_loss]    \n",
        "                self.train_hist['G_loss'].append(G_loss.item())\n",
        "\n",
        "                # Print iterations and losses\n",
        "                \n",
        "                if ((iter + 1) % 50) == 0:\n",
        "                  print(\"Epoch: [%2d] [%4d/%4d] D_loss: %.8f, G_loss: %.8f\" %\n",
        "                          ((epoch + 1), (iter + 1), self.data_loader.dataset.__len__() // self.batch_size, D_loss.item(), G_loss.item()))\n",
        "                \n",
        "            # Visualize results\n",
        "            if ((epoch + 1) % 10) == 0:\n",
        "                with torch.no_grad():\n",
        "                    visualize_results(self)\n",
        "                #visualize_gan_optim_loss(self)\n",
        "\n",
        "        print(\"Training finished!\")"
      ],
      "execution_count": 10,
      "outputs": []
    },
    {
      "cell_type": "markdown",
      "metadata": {
        "id": "QlpS9IeX5Kac"
      },
      "source": [
        "# Training the GAN"
      ]
    },
    {
      "cell_type": "code",
      "metadata": {
        "colab": {
          "base_uri": "https://localhost:8080/",
          "height": 1000
        },
        "id": "xKeKUuUR5JuM",
        "outputId": "f2d92095-b12c-4672-81bd-abf3aafb9ab9"
      },
      "source": [
        "params = {'beta1': 0.5, 'beta2': 0.999,'lr_g':0.0002,'lr_d':0.0002,'max_epochs':150}\n",
        "params['z_dim'] = 1\n",
        "params['base_size'] = 64\n",
        "\n",
        "gan = GAN(params)\n",
        "gan.train()"
      ],
      "execution_count": 11,
      "outputs": [
        {
          "output_type": "stream",
          "text": [
            "training start!!\n",
            "Epoch: 1\n",
            "Epoch: [ 1] [  50/ 200] D_loss: 1.25166869, G_loss: 0.86982656\n",
            "Epoch: [ 1] [ 100/ 200] D_loss: 1.11152124, G_loss: 0.98055512\n",
            "Epoch: [ 1] [ 150/ 200] D_loss: 1.05220056, G_loss: 1.14371526\n",
            "Epoch: [ 1] [ 200/ 200] D_loss: 1.01928818, G_loss: 1.20790780\n",
            "Epoch: 2\n",
            "Epoch: [ 2] [  50/ 200] D_loss: 0.91837084, G_loss: 1.25418651\n",
            "Epoch: [ 2] [ 100/ 200] D_loss: 0.90626919, G_loss: 1.24511743\n",
            "Epoch: [ 2] [ 150/ 200] D_loss: 0.86421728, G_loss: 1.38800478\n",
            "Epoch: [ 2] [ 200/ 200] D_loss: 0.84795469, G_loss: 1.34514558\n",
            "Epoch: 3\n",
            "Epoch: [ 3] [  50/ 200] D_loss: 0.81001490, G_loss: 1.37285113\n",
            "Epoch: [ 3] [ 100/ 200] D_loss: 0.80385888, G_loss: 1.38463628\n",
            "Epoch: [ 3] [ 150/ 200] D_loss: 0.82424021, G_loss: 1.43943346\n",
            "Epoch: [ 3] [ 200/ 200] D_loss: 0.96403599, G_loss: 1.74456084\n",
            "Epoch: 4\n",
            "Epoch: [ 4] [  50/ 200] D_loss: 0.87603521, G_loss: 1.68660223\n",
            "Epoch: [ 4] [ 100/ 200] D_loss: 0.95922279, G_loss: 1.54520595\n",
            "Epoch: [ 4] [ 150/ 200] D_loss: 0.78985047, G_loss: 1.44672656\n",
            "Epoch: [ 4] [ 200/ 200] D_loss: 0.91055465, G_loss: 1.72615075\n",
            "Epoch: 5\n",
            "Epoch: [ 5] [  50/ 200] D_loss: 0.81175411, G_loss: 1.51131845\n",
            "Epoch: [ 5] [ 100/ 200] D_loss: 0.83604556, G_loss: 1.59096646\n",
            "Epoch: [ 5] [ 150/ 200] D_loss: 0.81602943, G_loss: 1.67277694\n",
            "Epoch: [ 5] [ 200/ 200] D_loss: 0.80445862, G_loss: 1.52021742\n",
            "Epoch: 6\n",
            "Epoch: [ 6] [  50/ 200] D_loss: 0.80481881, G_loss: 1.55926156\n",
            "Epoch: [ 6] [ 100/ 200] D_loss: 0.84071541, G_loss: 1.70181203\n",
            "Epoch: [ 6] [ 150/ 200] D_loss: 0.78137803, G_loss: 1.58041143\n",
            "Epoch: [ 6] [ 200/ 200] D_loss: 0.87851596, G_loss: 1.63389516\n",
            "Epoch: 7\n",
            "Epoch: [ 7] [  50/ 200] D_loss: 0.90637088, G_loss: 1.72207487\n",
            "Epoch: [ 7] [ 100/ 200] D_loss: 0.86498523, G_loss: 1.80645227\n",
            "Epoch: [ 7] [ 150/ 200] D_loss: 0.90609300, G_loss: 1.51288998\n",
            "Epoch: [ 7] [ 200/ 200] D_loss: 0.88244390, G_loss: 1.70291543\n",
            "Epoch: 8\n",
            "Epoch: [ 8] [  50/ 200] D_loss: 0.87723327, G_loss: 1.79502606\n",
            "Epoch: [ 8] [ 100/ 200] D_loss: 0.80562860, G_loss: 1.45512307\n",
            "Epoch: [ 8] [ 150/ 200] D_loss: 0.80009723, G_loss: 1.64144647\n",
            "Epoch: [ 8] [ 200/ 200] D_loss: 0.83461076, G_loss: 1.52168500\n",
            "Epoch: 9\n",
            "Epoch: [ 9] [  50/ 200] D_loss: 0.82839406, G_loss: 1.50252283\n",
            "Epoch: [ 9] [ 100/ 200] D_loss: 0.86842686, G_loss: 1.54459679\n",
            "Epoch: [ 9] [ 150/ 200] D_loss: 0.82177752, G_loss: 1.75369453\n",
            "Epoch: [ 9] [ 200/ 200] D_loss: 0.83987367, G_loss: 1.73711812\n",
            "Epoch: 10\n",
            "\tGot eigenvectors (6559169, 6559169)\n",
            "\tEigenvalues are 143.60 and 985.77\n",
            "\tGot eigenvectors (6577729, 6577729)\n",
            "\tEigenvalues are 180.32 and 438.01\n",
            "Epoch: [10] [  50/ 200] D_loss: 1.06603837, G_loss: 1.66932988\n",
            "Epoch: [10] [ 100/ 200] D_loss: 0.94720685, G_loss: 1.81812549\n",
            "Epoch: [10] [ 150/ 200] D_loss: 0.80178642, G_loss: 1.63587952\n",
            "Epoch: [10] [ 200/ 200] D_loss: 0.77666759, G_loss: 1.79463053\n"
          ],
          "name": "stdout"
        },
        {
          "output_type": "display_data",
          "data": {
            "text/plain": [
              "<Figure size 72x720 with 0 Axes>"
            ]
          },
          "metadata": {
            "tags": []
          }
        },
        {
          "output_type": "display_data",
          "data": {
            "image/png": "[encoded data removed]",
            "text/plain": [
              "<Figure size 432x288 with 10 Axes>"
            ]
          },
          "metadata": {
            "tags": [],
            "needs_background": "light"
          }
        },
        {
          "output_type": "stream",
          "text": [
            "Epoch: 11\n",
            "Epoch: [11] [  50/ 200] D_loss: 0.80735505, G_loss: 1.65091634\n",
            "Epoch: [11] [ 100/ 200] D_loss: 0.90747362, G_loss: 1.68845928\n",
            "Epoch: [11] [ 150/ 200] D_loss: 0.85878754, G_loss: 1.70784426\n",
            "Epoch: [11] [ 200/ 200] D_loss: 0.89599544, G_loss: 1.49744618\n",
            "Epoch: 12\n",
            "Epoch: [12] [  50/ 200] D_loss: 0.79416394, G_loss: 1.59423864\n",
            "Epoch: [12] [ 100/ 200] D_loss: 0.84098291, G_loss: 1.67809141\n",
            "Epoch: [12] [ 150/ 200] D_loss: 0.95517373, G_loss: 2.13401580\n",
            "Epoch: [12] [ 200/ 200] D_loss: 0.94102573, G_loss: 1.97042263\n",
            "Epoch: 13\n",
            "Epoch: [13] [  50/ 200] D_loss: 0.86548406, G_loss: 1.60913336\n",
            "Epoch: [13] [ 100/ 200] D_loss: 0.82912213, G_loss: 1.60444701\n",
            "Epoch: [13] [ 150/ 200] D_loss: 0.81656206, G_loss: 1.83573592\n",
            "Epoch: [13] [ 200/ 200] D_loss: 0.87008309, G_loss: 1.82891667\n",
            "Epoch: 14\n",
            "Epoch: [14] [  50/ 200] D_loss: 0.95056152, G_loss: 1.92197394\n",
            "Epoch: [14] [ 100/ 200] D_loss: 0.76426697, G_loss: 1.70935977\n",
            "Epoch: [14] [ 150/ 200] D_loss: 0.79182482, G_loss: 1.54108739\n",
            "Epoch: [14] [ 200/ 200] D_loss: 0.84264338, G_loss: 1.75127792\n",
            "Epoch: 15\n",
            "Epoch: [15] [  50/ 200] D_loss: 0.77262056, G_loss: 1.81902468\n",
            "Epoch: [15] [ 100/ 200] D_loss: 0.81243813, G_loss: 1.79945683\n",
            "Epoch: [15] [ 150/ 200] D_loss: 0.77290356, G_loss: 1.79371750\n",
            "Epoch: [15] [ 200/ 200] D_loss: 0.78121626, G_loss: 1.80458581\n",
            "Epoch: 16\n",
            "Epoch: [16] [  50/ 200] D_loss: 0.80480516, G_loss: 2.01531816\n",
            "Epoch: [16] [ 100/ 200] D_loss: 0.79209179, G_loss: 1.66150141\n",
            "Epoch: [16] [ 150/ 200] D_loss: 0.77814627, G_loss: 1.57058990\n",
            "Epoch: [16] [ 200/ 200] D_loss: 1.03215337, G_loss: 1.91091537\n",
            "Epoch: 17\n",
            "Epoch: [17] [  50/ 200] D_loss: 0.82902575, G_loss: 1.81645596\n",
            "Epoch: [17] [ 100/ 200] D_loss: 0.80417913, G_loss: 1.79540348\n",
            "Epoch: [17] [ 150/ 200] D_loss: 0.80336881, G_loss: 1.70663965\n",
            "Epoch: [17] [ 200/ 200] D_loss: 0.80915153, G_loss: 1.75008464\n",
            "Epoch: 18\n",
            "Epoch: [18] [  50/ 200] D_loss: 0.76220244, G_loss: 1.73330247\n",
            "Epoch: [18] [ 100/ 200] D_loss: 0.90513813, G_loss: 2.19270015\n",
            "Epoch: [18] [ 150/ 200] D_loss: 0.93327284, G_loss: 1.78636765\n",
            "Epoch: [18] [ 200/ 200] D_loss: 0.80945504, G_loss: 1.68282449\n",
            "Epoch: 19\n",
            "Epoch: [19] [  50/ 200] D_loss: 0.92675281, G_loss: 2.09271765\n",
            "Epoch: [19] [ 100/ 200] D_loss: 0.82083046, G_loss: 1.81802452\n",
            "Epoch: [19] [ 150/ 200] D_loss: 0.80400443, G_loss: 1.97214484\n",
            "Epoch: [19] [ 200/ 200] D_loss: 0.81021142, G_loss: 1.82105088\n",
            "Epoch: 20\n",
            "\tGot eigenvectors (6559169, 6559169)\n",
            "\tEigenvalues are 134.99 and 303.02\n",
            "\tGot eigenvectors (6577729, 6577729)\n",
            "\tEigenvalues are 411.37 and 627.93\n",
            "Epoch: [20] [  50/ 200] D_loss: 0.77843958, G_loss: 1.70516527\n",
            "Epoch: [20] [ 100/ 200] D_loss: 0.85429811, G_loss: 1.81514609\n",
            "Epoch: [20] [ 150/ 200] D_loss: 0.77546728, G_loss: 1.78469038\n",
            "Epoch: [20] [ 200/ 200] D_loss: 0.80047125, G_loss: 1.75517702\n"
          ],
          "name": "stdout"
        },
        {
          "output_type": "display_data",
          "data": {
            "text/plain": [
              "<Figure size 72x720 with 0 Axes>"
            ]
          },
          "metadata": {
            "tags": []
          }
        },
        {
          "output_type": "display_data",
          "data": {
            "image/png": "[encoded data removed]",
            "text/plain": [
              "<Figure size 432x288 with 10 Axes>"
            ]
          },
          "metadata": {
            "tags": [],
            "needs_background": "light"
          }
        },
        {
          "output_type": "stream",
          "text": [
            "Epoch: 21\n",
            "Epoch: [21] [  50/ 200] D_loss: 0.78093505, G_loss: 1.72795498\n",
            "Epoch: [21] [ 100/ 200] D_loss: 0.77600169, G_loss: 1.79659677\n",
            "Epoch: [21] [ 150/ 200] D_loss: 0.74958074, G_loss: 1.81679893\n",
            "Epoch: [21] [ 200/ 200] D_loss: 0.86173880, G_loss: 1.92509735\n",
            "Epoch: 22\n",
            "Epoch: [22] [  50/ 200] D_loss: 0.75536036, G_loss: 1.81783009\n",
            "Epoch: [22] [ 100/ 200] D_loss: 0.77526337, G_loss: 1.76908815\n",
            "Epoch: [22] [ 150/ 200] D_loss: 0.75206316, G_loss: 1.90405440\n",
            "Epoch: [22] [ 200/ 200] D_loss: 0.80783796, G_loss: 1.73923814\n",
            "Epoch: 23\n",
            "Epoch: [23] [  50/ 200] D_loss: 0.74208617, G_loss: 1.85834336\n",
            "Epoch: [23] [ 100/ 200] D_loss: 0.84146905, G_loss: 2.02336931\n",
            "Epoch: [23] [ 150/ 200] D_loss: 0.81921154, G_loss: 2.10323620\n",
            "Epoch: [23] [ 200/ 200] D_loss: 0.81687152, G_loss: 1.75364625\n",
            "Epoch: 24\n",
            "Epoch: [24] [  50/ 200] D_loss: 0.89814699, G_loss: 2.22944260\n",
            "Epoch: [24] [ 100/ 200] D_loss: 0.80140126, G_loss: 1.83278656\n",
            "Epoch: [24] [ 150/ 200] D_loss: 0.77138549, G_loss: 1.82326984\n",
            "Epoch: [24] [ 200/ 200] D_loss: 0.85425198, G_loss: 1.82939422\n",
            "Epoch: 25\n",
            "Epoch: [25] [  50/ 200] D_loss: 0.82708001, G_loss: 1.92505503\n",
            "Epoch: [25] [ 100/ 200] D_loss: 0.90671551, G_loss: 2.21818757\n",
            "Epoch: [25] [ 150/ 200] D_loss: 0.82120937, G_loss: 1.76370931\n",
            "Epoch: [25] [ 200/ 200] D_loss: 0.80674380, G_loss: 2.01443863\n",
            "Epoch: 26\n",
            "Epoch: [26] [  50/ 200] D_loss: 0.76985192, G_loss: 1.89183235\n",
            "Epoch: [26] [ 100/ 200] D_loss: 0.77120948, G_loss: 1.78225470\n",
            "Epoch: [26] [ 150/ 200] D_loss: 0.75706327, G_loss: 1.82959557\n",
            "Epoch: [26] [ 200/ 200] D_loss: 0.74491233, G_loss: 2.02463198\n",
            "Epoch: 27\n",
            "Epoch: [27] [  50/ 200] D_loss: 0.82099742, G_loss: 2.05542016\n",
            "Epoch: [27] [ 100/ 200] D_loss: 0.75217962, G_loss: 1.94800198\n",
            "Epoch: [27] [ 150/ 200] D_loss: 0.76519108, G_loss: 2.05327725\n",
            "Epoch: [27] [ 200/ 200] D_loss: 0.72036201, G_loss: 1.79982471\n",
            "Epoch: 28\n",
            "Epoch: [28] [  50/ 200] D_loss: 0.84431314, G_loss: 2.27131987\n",
            "Epoch: [28] [ 100/ 200] D_loss: 0.78553194, G_loss: 1.74349487\n",
            "Epoch: [28] [ 150/ 200] D_loss: 0.75245142, G_loss: 1.97438669\n",
            "Epoch: [28] [ 200/ 200] D_loss: 0.80555093, G_loss: 2.06419325\n",
            "Epoch: 29\n",
            "Epoch: [29] [  50/ 200] D_loss: 0.78929603, G_loss: 1.91769373\n",
            "Epoch: [29] [ 100/ 200] D_loss: 0.76351285, G_loss: 2.01097035\n",
            "Epoch: [29] [ 150/ 200] D_loss: 0.79541433, G_loss: 2.01653695\n",
            "Epoch: [29] [ 200/ 200] D_loss: 0.75420475, G_loss: 1.99257183\n",
            "Epoch: 30\n",
            "\tGot eigenvectors (6559169, 6559169)\n",
            "\tEigenvalues are 314.26 and 1221.53\n",
            "\tGot eigenvectors (6577729, 6577729)\n",
            "\tEigenvalues are -742.73 and 748.66\n",
            "Epoch: [30] [  50/ 200] D_loss: 0.73535633, G_loss: 1.90880096\n",
            "Epoch: [30] [ 100/ 200] D_loss: 0.80463135, G_loss: 1.85141671\n",
            "Epoch: [30] [ 150/ 200] D_loss: 0.80540597, G_loss: 2.15449905\n",
            "Epoch: [30] [ 200/ 200] D_loss: 0.80711615, G_loss: 1.81937134\n"
          ],
          "name": "stdout"
        },
        {
          "output_type": "display_data",
          "data": {
            "text/plain": [
              "<Figure size 72x720 with 0 Axes>"
            ]
          },
          "metadata": {
            "tags": []
          }
        },
        {
          "output_type": "display_data",
          "data": {
            "image/png": "[encoded data removed]",
            "text/plain": [
              "<Figure size 432x288 with 10 Axes>"
            ]
          },
          "metadata": {
            "tags": [],
            "needs_background": "light"
          }
        },
        {
          "output_type": "stream",
          "text": [
            "Epoch: 31\n",
            "Epoch: [31] [  50/ 200] D_loss: 0.73801851, G_loss: 1.85534549\n",
            "Epoch: [31] [ 100/ 200] D_loss: 0.79763180, G_loss: 1.84563255\n",
            "Epoch: [31] [ 150/ 200] D_loss: 0.83842140, G_loss: 1.93557107\n",
            "Epoch: [31] [ 200/ 200] D_loss: 0.79025155, G_loss: 1.90639961\n",
            "Epoch: 32\n",
            "Epoch: [32] [  50/ 200] D_loss: 0.72551310, G_loss: 2.03829360\n",
            "Epoch: [32] [ 100/ 200] D_loss: 0.72222072, G_loss: 1.98972678\n",
            "Epoch: [32] [ 150/ 200] D_loss: 0.74462563, G_loss: 2.09057593\n",
            "Epoch: [32] [ 200/ 200] D_loss: 0.96065623, G_loss: 2.28777218\n",
            "Epoch: 33\n",
            "Epoch: [33] [  50/ 200] D_loss: 0.79958963, G_loss: 1.87180138\n",
            "Epoch: [33] [ 100/ 200] D_loss: 0.77696908, G_loss: 1.89788294\n",
            "Epoch: [33] [ 150/ 200] D_loss: 0.81749153, G_loss: 1.99137783\n",
            "Epoch: [33] [ 200/ 200] D_loss: 0.80005920, G_loss: 1.96857655\n",
            "Epoch: 34\n",
            "Epoch: [34] [  50/ 200] D_loss: 0.81573492, G_loss: 1.84217453\n",
            "Epoch: [34] [ 100/ 200] D_loss: 0.75799000, G_loss: 2.07252121\n",
            "Epoch: [34] [ 150/ 200] D_loss: 0.76929867, G_loss: 2.05334234\n",
            "Epoch: [34] [ 200/ 200] D_loss: 0.74310362, G_loss: 1.89481306\n",
            "Epoch: 35\n",
            "Epoch: [35] [  50/ 200] D_loss: 0.75606871, G_loss: 1.95939493\n",
            "Epoch: [35] [ 100/ 200] D_loss: 0.78653383, G_loss: 1.78451908\n",
            "Epoch: [35] [ 150/ 200] D_loss: 0.77130973, G_loss: 2.07743096\n",
            "Epoch: [35] [ 200/ 200] D_loss: 0.73236597, G_loss: 1.95568776\n",
            "Epoch: 36\n",
            "Epoch: [36] [  50/ 200] D_loss: 0.76563895, G_loss: 1.91709030\n",
            "Epoch: [36] [ 100/ 200] D_loss: 0.74955791, G_loss: 2.06901407\n",
            "Epoch: [36] [ 150/ 200] D_loss: 0.85126942, G_loss: 2.16902375\n",
            "Epoch: [36] [ 200/ 200] D_loss: 0.73551512, G_loss: 1.93776619\n",
            "Epoch: 37\n",
            "Epoch: [37] [  50/ 200] D_loss: 0.77170533, G_loss: 2.23521972\n",
            "Epoch: [37] [ 100/ 200] D_loss: 0.75961339, G_loss: 2.14365625\n",
            "Epoch: [37] [ 150/ 200] D_loss: 0.74202335, G_loss: 1.99124515\n",
            "Epoch: [37] [ 200/ 200] D_loss: 0.74632317, G_loss: 1.96893907\n",
            "Epoch: 38\n",
            "Epoch: [38] [  50/ 200] D_loss: 0.83212537, G_loss: 1.99959719\n",
            "Epoch: [38] [ 100/ 200] D_loss: 0.78651547, G_loss: 2.15983081\n",
            "Epoch: [38] [ 150/ 200] D_loss: 0.73191369, G_loss: 1.90368938\n",
            "Epoch: [38] [ 200/ 200] D_loss: 0.76705265, G_loss: 2.07540274\n",
            "Epoch: 39\n",
            "Epoch: [39] [  50/ 200] D_loss: 0.73356098, G_loss: 1.86632609\n",
            "Epoch: [39] [ 100/ 200] D_loss: 0.75554776, G_loss: 1.74174213\n",
            "Epoch: [39] [ 150/ 200] D_loss: 0.79292119, G_loss: 2.22712541\n",
            "Epoch: [39] [ 200/ 200] D_loss: 0.73494565, G_loss: 2.13322401\n",
            "Epoch: 40\n",
            "\tGot eigenvectors (6559169, 6559169)\n",
            "\tEigenvalues are 234.52 and 1746.49\n",
            "\tGot eigenvectors (6577729, 6577729)\n",
            "\tEigenvalues are -1748.67 and 1427.60\n",
            "Epoch: [40] [  50/ 200] D_loss: 0.71737897, G_loss: 1.91616809\n",
            "Epoch: [40] [ 100/ 200] D_loss: 0.74675202, G_loss: 1.79231799\n",
            "Epoch: [40] [ 150/ 200] D_loss: 0.73283219, G_loss: 2.01870275\n",
            "Epoch: [40] [ 200/ 200] D_loss: 0.72240061, G_loss: 1.94336140\n"
          ],
          "name": "stdout"
        },
        {
          "output_type": "display_data",
          "data": {
            "text/plain": [
              "<Figure size 72x720 with 0 Axes>"
            ]
          },
          "metadata": {
            "tags": []
          }
        },
        {
          "output_type": "display_data",
          "data": {
            "image/png": "[encoded data removed]",
            "text/plain": [
              "<Figure size 432x288 with 10 Axes>"
            ]
          },
          "metadata": {
            "tags": [],
            "needs_background": "light"
          }
        },
        {
          "output_type": "stream",
          "text": [
            "Epoch: 41\n",
            "Epoch: [41] [  50/ 200] D_loss: 0.75579667, G_loss: 2.03558874\n",
            "Epoch: [41] [ 100/ 200] D_loss: 0.78310323, G_loss: 1.88318932\n",
            "Epoch: [41] [ 150/ 200] D_loss: 0.74753869, G_loss: 1.92867231\n",
            "Epoch: [41] [ 200/ 200] D_loss: 0.83709776, G_loss: 2.41648531\n",
            "Epoch: 42\n",
            "Epoch: [42] [  50/ 200] D_loss: 0.74306953, G_loss: 2.00646806\n",
            "Epoch: [42] [ 100/ 200] D_loss: 0.76040483, G_loss: 2.11459517\n",
            "Epoch: [42] [ 150/ 200] D_loss: 0.73815191, G_loss: 1.97246563\n",
            "Epoch: [42] [ 200/ 200] D_loss: 0.86296380, G_loss: 2.21461344\n",
            "Epoch: 43\n",
            "Epoch: [43] [  50/ 200] D_loss: 0.75493443, G_loss: 2.00738072\n",
            "Epoch: [43] [ 100/ 200] D_loss: 0.72603917, G_loss: 1.90443182\n",
            "Epoch: [43] [ 150/ 200] D_loss: 0.70867527, G_loss: 2.16914153\n",
            "Epoch: [43] [ 200/ 200] D_loss: 0.74557471, G_loss: 2.00504255\n",
            "Epoch: 44\n",
            "Epoch: [44] [  50/ 200] D_loss: 0.71599674, G_loss: 1.78860819\n",
            "Epoch: [44] [ 100/ 200] D_loss: 0.72494715, G_loss: 2.08436060\n",
            "Epoch: [44] [ 150/ 200] D_loss: 0.72818702, G_loss: 2.04693127\n",
            "Epoch: [44] [ 200/ 200] D_loss: 0.72796965, G_loss: 1.90483367\n",
            "Epoch: 45\n",
            "Epoch: [45] [  50/ 200] D_loss: 0.72757924, G_loss: 2.18775392\n",
            "Epoch: [45] [ 100/ 200] D_loss: 0.75041175, G_loss: 1.95330203\n",
            "Epoch: [45] [ 150/ 200] D_loss: 0.72936165, G_loss: 1.89471519\n",
            "Epoch: [45] [ 200/ 200] D_loss: 0.72948897, G_loss: 2.11491823\n",
            "Epoch: 46\n",
            "Epoch: [46] [  50/ 200] D_loss: 0.81521314, G_loss: 2.31176448\n",
            "Epoch: [46] [ 100/ 200] D_loss: 0.71692836, G_loss: 1.91998887\n",
            "Epoch: [46] [ 150/ 200] D_loss: 0.74188316, G_loss: 2.06881547\n",
            "Epoch: [46] [ 200/ 200] D_loss: 0.73289752, G_loss: 2.04341149\n",
            "Epoch: 47\n",
            "Epoch: [47] [  50/ 200] D_loss: 0.76016426, G_loss: 2.13490343\n",
            "Epoch: [47] [ 100/ 200] D_loss: 0.76209933, G_loss: 2.06484246\n",
            "Epoch: [47] [ 150/ 200] D_loss: 0.73337966, G_loss: 2.03683066\n",
            "Epoch: [47] [ 200/ 200] D_loss: 0.73370540, G_loss: 1.87435627\n",
            "Epoch: 48\n",
            "Epoch: [48] [  50/ 200] D_loss: 0.79018712, G_loss: 2.23607469\n",
            "Epoch: [48] [ 100/ 200] D_loss: 0.77275980, G_loss: 2.06549406\n",
            "Epoch: [48] [ 150/ 200] D_loss: 0.76235259, G_loss: 2.02245617\n",
            "Epoch: [48] [ 200/ 200] D_loss: 0.74690467, G_loss: 2.25135660\n",
            "Epoch: 49\n",
            "Epoch: [49] [  50/ 200] D_loss: 0.75646663, G_loss: 2.06120086\n",
            "Epoch: [49] [ 100/ 200] D_loss: 0.75062025, G_loss: 1.92005277\n",
            "Epoch: [49] [ 150/ 200] D_loss: 0.75560105, G_loss: 1.65183866\n",
            "Epoch: [49] [ 200/ 200] D_loss: 0.79628956, G_loss: 2.11290979\n",
            "Epoch: 50\n",
            "\tGot eigenvectors (6559169, 6559169)\n",
            "\tEigenvalues are 472.75 and 741.70\n",
            "\tGot eigenvectors (6577729, 6577729)\n",
            "\tEigenvalues are -1206.92 and 986.73\n",
            "Epoch: [50] [  50/ 200] D_loss: 0.75487596, G_loss: 1.93736660\n",
            "Epoch: [50] [ 100/ 200] D_loss: 0.71925986, G_loss: 2.04859567\n",
            "Epoch: [50] [ 150/ 200] D_loss: 0.75947767, G_loss: 2.50290942\n",
            "Epoch: [50] [ 200/ 200] D_loss: 0.73105001, G_loss: 2.07289505\n"
          ],
          "name": "stdout"
        },
        {
          "output_type": "display_data",
          "data": {
            "text/plain": [
              "<Figure size 72x720 with 0 Axes>"
            ]
          },
          "metadata": {
            "tags": []
          }
        },
        {
          "output_type": "display_data",
          "data": {
            "image/png": "[encoded data removed]",
            "text/plain": [
              "<Figure size 432x288 with 10 Axes>"
            ]
          },
          "metadata": {
            "tags": [],
            "needs_background": "light"
          }
        },
        {
          "output_type": "stream",
          "text": [
            "Epoch: 51\n",
            "Epoch: [51] [  50/ 200] D_loss: 0.76197922, G_loss: 1.81990826\n",
            "Epoch: [51] [ 100/ 200] D_loss: 0.72089612, G_loss: 2.04623365\n",
            "Epoch: [51] [ 150/ 200] D_loss: 0.72334397, G_loss: 2.19421673\n",
            "Epoch: [51] [ 200/ 200] D_loss: 0.77964187, G_loss: 2.21862507\n",
            "Epoch: 52\n",
            "Epoch: [52] [  50/ 200] D_loss: 0.74255621, G_loss: 1.93249929\n",
            "Epoch: [52] [ 100/ 200] D_loss: 0.72045505, G_loss: 1.98059165\n",
            "Epoch: [52] [ 150/ 200] D_loss: 0.73089063, G_loss: 1.93054402\n",
            "Epoch: [52] [ 200/ 200] D_loss: 0.71451366, G_loss: 2.03597951\n",
            "Epoch: 53\n",
            "Epoch: [53] [  50/ 200] D_loss: 0.72146666, G_loss: 1.84723794\n",
            "Epoch: [53] [ 100/ 200] D_loss: 0.73599887, G_loss: 2.09994197\n",
            "Epoch: [53] [ 150/ 200] D_loss: 0.70550722, G_loss: 2.03316736\n",
            "Epoch: [53] [ 200/ 200] D_loss: 0.69307387, G_loss: 2.03349257\n",
            "Epoch: 54\n",
            "Epoch: [54] [  50/ 200] D_loss: 0.72072184, G_loss: 2.09381771\n",
            "Epoch: [54] [ 100/ 200] D_loss: 0.72601539, G_loss: 2.21723175\n",
            "Epoch: [54] [ 150/ 200] D_loss: 0.75389123, G_loss: 1.94864655\n",
            "Epoch: [54] [ 200/ 200] D_loss: 0.74695116, G_loss: 2.19887209\n",
            "Epoch: 55\n",
            "Epoch: [55] [  50/ 200] D_loss: 0.79322827, G_loss: 2.04526567\n",
            "Epoch: [55] [ 100/ 200] D_loss: 0.72299898, G_loss: 1.90025032\n",
            "Epoch: [55] [ 150/ 200] D_loss: 0.74126983, G_loss: 2.10096049\n",
            "Epoch: [55] [ 200/ 200] D_loss: 0.70836908, G_loss: 2.21420145\n",
            "Epoch: 56\n",
            "Epoch: [56] [  50/ 200] D_loss: 0.73024797, G_loss: 1.99344897\n",
            "Epoch: [56] [ 100/ 200] D_loss: 0.70960999, G_loss: 2.10036445\n",
            "Epoch: [56] [ 150/ 200] D_loss: 0.76116121, G_loss: 2.18316770\n",
            "Epoch: [56] [ 200/ 200] D_loss: 0.71210134, G_loss: 1.83584452\n",
            "Epoch: 57\n",
            "Epoch: [57] [  50/ 200] D_loss: 0.72918844, G_loss: 2.06782508\n",
            "Epoch: [57] [ 100/ 200] D_loss: 0.73390436, G_loss: 2.03520608\n",
            "Epoch: [57] [ 150/ 200] D_loss: 0.77898431, G_loss: 2.06988859\n",
            "Epoch: [57] [ 200/ 200] D_loss: 0.72683346, G_loss: 2.20530963\n",
            "Epoch: 58\n",
            "Epoch: [58] [  50/ 200] D_loss: 0.73158765, G_loss: 1.87976968\n",
            "Epoch: [58] [ 100/ 200] D_loss: 0.71682245, G_loss: 2.15954971\n",
            "Epoch: [58] [ 150/ 200] D_loss: 0.70631027, G_loss: 2.15183163\n",
            "Epoch: [58] [ 200/ 200] D_loss: 0.71817875, G_loss: 1.99829984\n",
            "Epoch: 59\n",
            "Epoch: [59] [  50/ 200] D_loss: 0.74512339, G_loss: 2.04754686\n",
            "Epoch: [59] [ 100/ 200] D_loss: 0.75110078, G_loss: 1.96685672\n",
            "Epoch: [59] [ 150/ 200] D_loss: 0.69742781, G_loss: 1.94341338\n",
            "Epoch: [59] [ 200/ 200] D_loss: 0.74059439, G_loss: 1.97161484\n",
            "Epoch: 60\n",
            "\tGot eigenvectors (6559169, 6559169)\n",
            "\tEigenvalues are 198.74 and 1422.56\n",
            "\tGot eigenvectors (6577729, 6577729)\n",
            "\tEigenvalues are -3401.74 and -1909.69\n",
            "Epoch: [60] [  50/ 200] D_loss: 0.72219270, G_loss: 2.10584307\n",
            "Epoch: [60] [ 100/ 200] D_loss: 0.71407413, G_loss: 1.88821292\n",
            "Epoch: [60] [ 150/ 200] D_loss: 0.73774576, G_loss: 2.08567739\n",
            "Epoch: [60] [ 200/ 200] D_loss: 0.71961898, G_loss: 2.03768921\n"
          ],
          "name": "stdout"
        },
        {
          "output_type": "display_data",
          "data": {
            "text/plain": [
              "<Figure size 72x720 with 0 Axes>"
            ]
          },
          "metadata": {
            "tags": []
          }
        },
        {
          "output_type": "display_data",
          "data": {
            "image/png": "[encoded data removed]",
            "text/plain": [
              "<Figure size 432x288 with 10 Axes>"
            ]
          },
          "metadata": {
            "tags": [],
            "needs_background": "light"
          }
        },
        {
          "output_type": "stream",
          "text": [
            "Epoch: 61\n",
            "Epoch: [61] [  50/ 200] D_loss: 0.72918236, G_loss: 2.25346112\n",
            "Epoch: [61] [ 100/ 200] D_loss: 0.74377406, G_loss: 1.94908142\n",
            "Epoch: [61] [ 150/ 200] D_loss: 0.70894170, G_loss: 1.98462546\n",
            "Epoch: [61] [ 200/ 200] D_loss: 0.70691603, G_loss: 2.14773536\n",
            "Epoch: 62\n",
            "Epoch: [62] [  50/ 200] D_loss: 0.74278009, G_loss: 1.92706263\n",
            "Epoch: [62] [ 100/ 200] D_loss: 0.72092819, G_loss: 2.22959590\n",
            "Epoch: [62] [ 150/ 200] D_loss: 0.71085042, G_loss: 2.22431254\n",
            "Epoch: [62] [ 200/ 200] D_loss: 0.71563876, G_loss: 2.25161576\n",
            "Epoch: 63\n",
            "Epoch: [63] [  50/ 200] D_loss: 0.71366501, G_loss: 2.06857109\n",
            "Epoch: [63] [ 100/ 200] D_loss: 0.72027987, G_loss: 2.21207595\n",
            "Epoch: [63] [ 150/ 200] D_loss: 0.73738885, G_loss: 2.04342628\n",
            "Epoch: [63] [ 200/ 200] D_loss: 0.81315923, G_loss: 2.34299302\n",
            "Epoch: 64\n",
            "Epoch: [64] [  50/ 200] D_loss: 0.72992563, G_loss: 1.97732484\n",
            "Epoch: [64] [ 100/ 200] D_loss: 0.72292203, G_loss: 1.98452961\n",
            "Epoch: [64] [ 150/ 200] D_loss: 0.71116722, G_loss: 1.95222819\n",
            "Epoch: [64] [ 200/ 200] D_loss: 0.74267077, G_loss: 2.29642534\n",
            "Epoch: 65\n",
            "Epoch: [65] [  50/ 200] D_loss: 0.71563470, G_loss: 2.08945894\n",
            "Epoch: [65] [ 100/ 200] D_loss: 0.72676879, G_loss: 2.12186193\n",
            "Epoch: [65] [ 150/ 200] D_loss: 0.69607234, G_loss: 2.11287713\n",
            "Epoch: [65] [ 200/ 200] D_loss: 0.71513093, G_loss: 2.33817315\n",
            "Epoch: 66\n",
            "Epoch: [66] [  50/ 200] D_loss: 0.69829732, G_loss: 2.11316204\n",
            "Epoch: [66] [ 100/ 200] D_loss: 0.71368825, G_loss: 2.18853140\n",
            "Epoch: [66] [ 150/ 200] D_loss: 0.71152246, G_loss: 2.25131202\n",
            "Epoch: [66] [ 200/ 200] D_loss: 0.72664726, G_loss: 2.08467650\n",
            "Epoch: 67\n",
            "Epoch: [67] [  50/ 200] D_loss: 0.72273338, G_loss: 2.05823207\n",
            "Epoch: [67] [ 100/ 200] D_loss: 0.72967809, G_loss: 2.10872269\n",
            "Epoch: [67] [ 150/ 200] D_loss: 0.73335314, G_loss: 1.82989633\n",
            "Epoch: [67] [ 200/ 200] D_loss: 0.73793960, G_loss: 2.07842827\n",
            "Epoch: 68\n",
            "Epoch: [68] [  50/ 200] D_loss: 0.71880424, G_loss: 1.97963023\n",
            "Epoch: [68] [ 100/ 200] D_loss: 0.72450805, G_loss: 2.00000906\n",
            "Epoch: [68] [ 150/ 200] D_loss: 0.74488306, G_loss: 1.81731510\n",
            "Epoch: [68] [ 200/ 200] D_loss: 0.72682095, G_loss: 2.00691843\n",
            "Epoch: 69\n",
            "Epoch: [69] [  50/ 200] D_loss: 0.73059797, G_loss: 2.06376672\n",
            "Epoch: [69] [ 100/ 200] D_loss: 0.72568667, G_loss: 2.01740575\n",
            "Epoch: [69] [ 150/ 200] D_loss: 0.71812141, G_loss: 1.97758138\n",
            "Epoch: [69] [ 200/ 200] D_loss: 0.70759505, G_loss: 1.95105839\n",
            "Epoch: 70\n",
            "\tGot eigenvectors (6559169, 6559169)\n",
            "\tEigenvalues are 586.44 and 2386.93\n",
            "\tGot eigenvectors (6577729, 6577729)\n",
            "\tEigenvalues are -3695.90 and 2603.01\n",
            "Epoch: [70] [  50/ 200] D_loss: 0.83194447, G_loss: 1.95662177\n",
            "Epoch: [70] [ 100/ 200] D_loss: 0.76299626, G_loss: 2.14658046\n",
            "Epoch: [70] [ 150/ 200] D_loss: 0.74395072, G_loss: 2.26301026\n",
            "Epoch: [70] [ 200/ 200] D_loss: 0.71059930, G_loss: 2.29138637\n"
          ],
          "name": "stdout"
        },
        {
          "output_type": "display_data",
          "data": {
            "text/plain": [
              "<Figure size 72x720 with 0 Axes>"
            ]
          },
          "metadata": {
            "tags": []
          }
        },
        {
          "output_type": "display_data",
          "data": {
            "image/png": "[encoded data removed]",
            "text/plain": [
              "<Figure size 432x288 with 10 Axes>"
            ]
          },
          "metadata": {
            "tags": [],
            "needs_background": "light"
          }
        },
        {
          "output_type": "stream",
          "text": [
            "Epoch: 71\n",
            "Epoch: [71] [  50/ 200] D_loss: 0.70469999, G_loss: 2.04619312\n",
            "Epoch: [71] [ 100/ 200] D_loss: 0.72994792, G_loss: 1.91499603\n",
            "Epoch: [71] [ 150/ 200] D_loss: 0.75803155, G_loss: 2.15268612\n",
            "Epoch: [71] [ 200/ 200] D_loss: 0.74397635, G_loss: 2.15323377\n",
            "Epoch: 72\n",
            "Epoch: [72] [  50/ 200] D_loss: 0.69594753, G_loss: 2.03853512\n",
            "Epoch: [72] [ 100/ 200] D_loss: 0.71083736, G_loss: 2.27410555\n",
            "Epoch: [72] [ 150/ 200] D_loss: 0.71781790, G_loss: 2.02499151\n",
            "Epoch: [72] [ 200/ 200] D_loss: 0.70628273, G_loss: 1.87906909\n",
            "Epoch: 73\n",
            "Epoch: [73] [  50/ 200] D_loss: 0.71220517, G_loss: 2.09059668\n",
            "Epoch: [73] [ 100/ 200] D_loss: 0.69634736, G_loss: 2.12738848\n",
            "Epoch: [73] [ 150/ 200] D_loss: 0.69942361, G_loss: 1.97408712\n",
            "Epoch: [73] [ 200/ 200] D_loss: 0.70470506, G_loss: 2.27499413\n",
            "Epoch: 74\n",
            "Epoch: [74] [  50/ 200] D_loss: 0.72201407, G_loss: 2.20653844\n",
            "Epoch: [74] [ 100/ 200] D_loss: 0.75507891, G_loss: 2.03033042\n",
            "Epoch: [74] [ 150/ 200] D_loss: 0.71321309, G_loss: 2.17979288\n",
            "Epoch: [74] [ 200/ 200] D_loss: 0.71003342, G_loss: 2.12213445\n",
            "Epoch: 75\n",
            "Epoch: [75] [  50/ 200] D_loss: 0.70015335, G_loss: 2.05603790\n",
            "Epoch: [75] [ 100/ 200] D_loss: 0.73845828, G_loss: 2.36658788\n",
            "Epoch: [75] [ 150/ 200] D_loss: 0.69661093, G_loss: 2.03378749\n",
            "Epoch: [75] [ 200/ 200] D_loss: 0.74567795, G_loss: 1.93484926\n",
            "Epoch: 76\n",
            "Epoch: [76] [  50/ 200] D_loss: 0.73087406, G_loss: 2.11408234\n",
            "Epoch: [76] [ 100/ 200] D_loss: 0.70629871, G_loss: 1.83602262\n",
            "Epoch: [76] [ 150/ 200] D_loss: 0.71768963, G_loss: 2.24948502\n",
            "Epoch: [76] [ 200/ 200] D_loss: 0.85090423, G_loss: 1.95602381\n",
            "Epoch: 77\n",
            "Epoch: [77] [  50/ 200] D_loss: 0.75326502, G_loss: 2.38994336\n",
            "Epoch: [77] [ 100/ 200] D_loss: 0.77938938, G_loss: 1.82986474\n",
            "Epoch: [77] [ 150/ 200] D_loss: 0.72061741, G_loss: 2.07773042\n",
            "Epoch: [77] [ 200/ 200] D_loss: 0.71366388, G_loss: 2.22059035\n",
            "Epoch: 78\n",
            "Epoch: [78] [  50/ 200] D_loss: 0.72686207, G_loss: 2.11490130\n",
            "Epoch: [78] [ 100/ 200] D_loss: 0.73419726, G_loss: 2.15000010\n",
            "Epoch: [78] [ 150/ 200] D_loss: 0.71986234, G_loss: 1.95928776\n",
            "Epoch: [78] [ 200/ 200] D_loss: 0.89541829, G_loss: 2.66944432\n",
            "Epoch: 79\n",
            "Epoch: [79] [  50/ 200] D_loss: 0.71846092, G_loss: 2.01535153\n",
            "Epoch: [79] [ 100/ 200] D_loss: 0.84080899, G_loss: 2.24980760\n",
            "Epoch: [79] [ 150/ 200] D_loss: 0.70363969, G_loss: 1.78526306\n",
            "Epoch: [79] [ 200/ 200] D_loss: 0.72372460, G_loss: 1.93760991\n",
            "Epoch: 80\n",
            "\tGot eigenvectors (6559169, 6559169)\n",
            "\tEigenvalues are -976.39 and 1135.33\n",
            "\tGot eigenvectors (6577729, 6577729)\n",
            "\tEigenvalues are -2531.54 and 2031.35\n",
            "Epoch: [80] [  50/ 200] D_loss: 0.70553845, G_loss: 2.12715220\n",
            "Epoch: [80] [ 100/ 200] D_loss: 0.71296227, G_loss: 2.27596307\n",
            "Epoch: [80] [ 150/ 200] D_loss: 0.72165698, G_loss: 2.12734056\n",
            "Epoch: [80] [ 200/ 200] D_loss: 0.71466601, G_loss: 1.98782837\n"
          ],
          "name": "stdout"
        },
        {
          "output_type": "display_data",
          "data": {
            "text/plain": [
              "<Figure size 72x720 with 0 Axes>"
            ]
          },
          "metadata": {
            "tags": []
          }
        },
        {
          "output_type": "display_data",
          "data": {
            "image/png": "[encoded data removed]",
            "text/plain": [
              "<Figure size 432x288 with 10 Axes>"
            ]
          },
          "metadata": {
            "tags": [],
            "needs_background": "light"
          }
        },
        {
          "output_type": "stream",
          "text": [
            "Epoch: 81\n",
            "Epoch: [81] [  50/ 200] D_loss: 0.73454303, G_loss: 2.18610740\n",
            "Epoch: [81] [ 100/ 200] D_loss: 0.72439551, G_loss: 2.07793880\n",
            "Epoch: [81] [ 150/ 200] D_loss: 0.72361588, G_loss: 2.26253223\n",
            "Epoch: [81] [ 200/ 200] D_loss: 0.70845211, G_loss: 2.16727352\n",
            "Epoch: 82\n",
            "Epoch: [82] [  50/ 200] D_loss: 0.70010567, G_loss: 2.19534826\n",
            "Epoch: [82] [ 100/ 200] D_loss: 0.80134690, G_loss: 2.89809823\n",
            "Epoch: [82] [ 150/ 200] D_loss: 0.78196788, G_loss: 2.25029087\n",
            "Epoch: [82] [ 200/ 200] D_loss: 0.69633251, G_loss: 1.94121420\n",
            "Epoch: 83\n",
            "Epoch: [83] [  50/ 200] D_loss: 0.69215029, G_loss: 2.03789473\n",
            "Epoch: [83] [ 100/ 200] D_loss: 0.68409806, G_loss: 2.01791620\n",
            "Epoch: [83] [ 150/ 200] D_loss: 0.72266090, G_loss: 2.29759884\n",
            "Epoch: [83] [ 200/ 200] D_loss: 0.70712948, G_loss: 2.11310434\n",
            "Epoch: 84\n",
            "Epoch: [84] [  50/ 200] D_loss: 0.75450701, G_loss: 2.27236009\n",
            "Epoch: [84] [ 100/ 200] D_loss: 0.72298181, G_loss: 2.08928990\n",
            "Epoch: [84] [ 150/ 200] D_loss: 0.74288213, G_loss: 2.20288777\n",
            "Epoch: [84] [ 200/ 200] D_loss: 0.73315537, G_loss: 2.15092444\n",
            "Epoch: 85\n",
            "Epoch: [85] [  50/ 200] D_loss: 0.69909644, G_loss: 2.02504563\n",
            "Epoch: [85] [ 100/ 200] D_loss: 0.73967171, G_loss: 2.28298616\n",
            "Epoch: [85] [ 150/ 200] D_loss: 0.71971601, G_loss: 2.01422071\n",
            "Epoch: [85] [ 200/ 200] D_loss: 0.73200393, G_loss: 2.19005966\n",
            "Epoch: 86\n",
            "Epoch: [86] [  50/ 200] D_loss: 0.71840596, G_loss: 2.19199133\n",
            "Epoch: [86] [ 100/ 200] D_loss: 0.71448314, G_loss: 1.93692064\n",
            "Epoch: [86] [ 150/ 200] D_loss: 0.70303619, G_loss: 2.17861247\n",
            "Epoch: [86] [ 200/ 200] D_loss: 0.74518979, G_loss: 2.34702206\n",
            "Epoch: 87\n",
            "Epoch: [87] [  50/ 200] D_loss: 0.72315788, G_loss: 1.84911811\n",
            "Epoch: [87] [ 100/ 200] D_loss: 0.86914849, G_loss: 2.28397679\n",
            "Epoch: [87] [ 150/ 200] D_loss: 0.69719636, G_loss: 2.09862971\n",
            "Epoch: [87] [ 200/ 200] D_loss: 0.70025599, G_loss: 2.00626230\n",
            "Epoch: 88\n",
            "Epoch: [88] [  50/ 200] D_loss: 0.71042728, G_loss: 2.16386437\n",
            "Epoch: [88] [ 100/ 200] D_loss: 0.73433048, G_loss: 2.01340485\n",
            "Epoch: [88] [ 150/ 200] D_loss: 0.70669699, G_loss: 2.21624279\n",
            "Epoch: [88] [ 200/ 200] D_loss: 0.70001501, G_loss: 2.24625301\n",
            "Epoch: 89\n",
            "Epoch: [89] [  50/ 200] D_loss: 0.71023262, G_loss: 2.10083532\n",
            "Epoch: [89] [ 100/ 200] D_loss: 0.73619711, G_loss: 2.27594090\n",
            "Epoch: [89] [ 150/ 200] D_loss: 0.75306356, G_loss: 2.10139465\n",
            "Epoch: [89] [ 200/ 200] D_loss: 0.72311866, G_loss: 2.06020331\n",
            "Epoch: 90\n",
            "\tGot eigenvectors (6559169, 6559169)\n",
            "\tEigenvalues are 207.64 and 935.58\n",
            "\tGot eigenvectors (6577729, 6577729)\n",
            "\tEigenvalues are 2246.99 and 2586.57\n",
            "Epoch: [90] [  50/ 200] D_loss: 0.72206664, G_loss: 2.29945636\n",
            "Epoch: [90] [ 100/ 200] D_loss: 0.74193072, G_loss: 2.20458913\n",
            "Epoch: [90] [ 150/ 200] D_loss: 0.69332397, G_loss: 2.12310934\n",
            "Epoch: [90] [ 200/ 200] D_loss: 0.69229829, G_loss: 2.05443597\n"
          ],
          "name": "stdout"
        },
        {
          "output_type": "display_data",
          "data": {
            "text/plain": [
              "<Figure size 72x720 with 0 Axes>"
            ]
          },
          "metadata": {
            "tags": []
          }
        },
        {
          "output_type": "display_data",
          "data": {
            "image/png": "[encoded data removed]",
            "text/plain": [
              "<Figure size 432x288 with 10 Axes>"
            ]
          },
          "metadata": {
            "tags": [],
            "needs_background": "light"
          }
        },
        {
          "output_type": "stream",
          "text": [
            "Epoch: 91\n",
            "Epoch: [91] [  50/ 200] D_loss: 0.73791254, G_loss: 2.02789545\n",
            "Epoch: [91] [ 100/ 200] D_loss: 0.72559476, G_loss: 2.01667929\n",
            "Epoch: [91] [ 150/ 200] D_loss: 0.77072483, G_loss: 2.06827068\n",
            "Epoch: [91] [ 200/ 200] D_loss: 0.74460584, G_loss: 2.24686980\n",
            "Epoch: 92\n",
            "Epoch: [92] [  50/ 200] D_loss: 0.69659960, G_loss: 2.12703943\n",
            "Epoch: [92] [ 100/ 200] D_loss: 0.71787965, G_loss: 2.14341402\n",
            "Epoch: [92] [ 150/ 200] D_loss: 0.69480550, G_loss: 1.95878673\n",
            "Epoch: [92] [ 200/ 200] D_loss: 0.75704712, G_loss: 1.95756042\n",
            "Epoch: 93\n",
            "Epoch: [93] [  50/ 200] D_loss: 0.70403433, G_loss: 1.96915734\n",
            "Epoch: [93] [ 100/ 200] D_loss: 0.70495784, G_loss: 2.16837907\n",
            "Epoch: [93] [ 150/ 200] D_loss: 0.70695412, G_loss: 2.16730261\n",
            "Epoch: [93] [ 200/ 200] D_loss: 0.71160257, G_loss: 2.20801759\n",
            "Epoch: 94\n",
            "Epoch: [94] [  50/ 200] D_loss: 0.68880355, G_loss: 1.98345184\n",
            "Epoch: [94] [ 100/ 200] D_loss: 0.72939420, G_loss: 2.20517778\n",
            "Epoch: [94] [ 150/ 200] D_loss: 0.71702600, G_loss: 2.24152422\n",
            "Epoch: [94] [ 200/ 200] D_loss: 0.70051926, G_loss: 2.29719424\n",
            "Epoch: 95\n",
            "Epoch: [95] [  50/ 200] D_loss: 0.76548052, G_loss: 2.27710342\n",
            "Epoch: [95] [ 100/ 200] D_loss: 0.70478415, G_loss: 2.07913876\n",
            "Epoch: [95] [ 150/ 200] D_loss: 0.70399535, G_loss: 2.03733134\n",
            "Epoch: [95] [ 200/ 200] D_loss: 0.69679439, G_loss: 2.12154174\n",
            "Epoch: 96\n",
            "Epoch: [96] [  50/ 200] D_loss: 0.73517525, G_loss: 2.26287389\n",
            "Epoch: [96] [ 100/ 200] D_loss: 0.69095618, G_loss: 1.95617115\n",
            "Epoch: [96] [ 150/ 200] D_loss: 0.73167145, G_loss: 2.16757369\n",
            "Epoch: [96] [ 200/ 200] D_loss: 0.69934464, G_loss: 2.02544308\n",
            "Epoch: 97\n",
            "Epoch: [97] [  50/ 200] D_loss: 0.71009493, G_loss: 2.44912362\n",
            "Epoch: [97] [ 100/ 200] D_loss: 0.70944762, G_loss: 2.15927124\n",
            "Epoch: [97] [ 150/ 200] D_loss: 0.72301304, G_loss: 2.12548304\n",
            "Epoch: [97] [ 200/ 200] D_loss: 0.71279049, G_loss: 2.29528522\n",
            "Epoch: 98\n",
            "Epoch: [98] [  50/ 200] D_loss: 0.77646458, G_loss: 1.92512453\n",
            "Epoch: [98] [ 100/ 200] D_loss: 0.76919436, G_loss: 2.43969655\n",
            "Epoch: [98] [ 150/ 200] D_loss: 0.71864271, G_loss: 2.39633322\n",
            "Epoch: [98] [ 200/ 200] D_loss: 0.72170478, G_loss: 2.13257575\n",
            "Epoch: 99\n",
            "Epoch: [99] [  50/ 200] D_loss: 0.69711107, G_loss: 2.16479707\n",
            "Epoch: [99] [ 100/ 200] D_loss: 0.69674128, G_loss: 1.94596541\n",
            "Epoch: [99] [ 150/ 200] D_loss: 0.71715766, G_loss: 2.25851536\n",
            "Epoch: [99] [ 200/ 200] D_loss: 0.72733325, G_loss: 2.47028327\n",
            "Epoch: 100\n",
            "\tGot eigenvectors (6559169, 6559169)\n",
            "\tEigenvalues are 601.50 and 1407.70\n",
            "\tGot eigenvectors (6577729, 6577729)\n",
            "\tEigenvalues are -2232.03 and 1848.54\n",
            "Epoch: [100] [  50/ 200] D_loss: 0.69576442, G_loss: 2.22566605\n",
            "Epoch: [100] [ 100/ 200] D_loss: 0.71552849, G_loss: 2.03186440\n",
            "Epoch: [100] [ 150/ 200] D_loss: 0.69045860, G_loss: 2.12870502\n",
            "Epoch: [100] [ 200/ 200] D_loss: 0.70327413, G_loss: 2.10610580\n"
          ],
          "name": "stdout"
        },
        {
          "output_type": "display_data",
          "data": {
            "text/plain": [
              "<Figure size 72x720 with 0 Axes>"
            ]
          },
          "metadata": {
            "tags": []
          }
        },
        {
          "output_type": "display_data",
          "data": {
            "image/png": "[encoded data removed]",
            "text/plain": [
              "<Figure size 432x288 with 10 Axes>"
            ]
          },
          "metadata": {
            "tags": [],
            "needs_background": "light"
          }
        },
        {
          "output_type": "stream",
          "text": [
            "Epoch: 101\n",
            "Epoch: [101] [  50/ 200] D_loss: 0.72605371, G_loss: 2.32840133\n",
            "Epoch: [101] [ 100/ 200] D_loss: 0.69274622, G_loss: 1.87258184\n",
            "Epoch: [101] [ 150/ 200] D_loss: 0.72299170, G_loss: 2.27851701\n",
            "Epoch: [101] [ 200/ 200] D_loss: 0.70058280, G_loss: 2.08578658\n",
            "Epoch: 102\n",
            "Epoch: [102] [  50/ 200] D_loss: 0.69431776, G_loss: 2.28349233\n",
            "Epoch: [102] [ 100/ 200] D_loss: 0.70837259, G_loss: 2.06164384\n",
            "Epoch: [102] [ 150/ 200] D_loss: 0.71210128, G_loss: 2.11360407\n",
            "Epoch: [102] [ 200/ 200] D_loss: 0.71406472, G_loss: 2.41532350\n",
            "Epoch: 103\n",
            "Epoch: [103] [  50/ 200] D_loss: 0.74283373, G_loss: 2.37222910\n",
            "Epoch: [103] [ 100/ 200] D_loss: 0.73123729, G_loss: 1.90196860\n",
            "Epoch: [103] [ 150/ 200] D_loss: 0.77912253, G_loss: 2.09257746\n",
            "Epoch: [103] [ 200/ 200] D_loss: 0.71782672, G_loss: 2.10209060\n",
            "Epoch: 104\n",
            "Epoch: [104] [  50/ 200] D_loss: 0.71351540, G_loss: 2.25145912\n",
            "Epoch: [104] [ 100/ 200] D_loss: 0.70397019, G_loss: 2.29187584\n",
            "Epoch: [104] [ 150/ 200] D_loss: 0.69703335, G_loss: 2.09116960\n",
            "Epoch: [104] [ 200/ 200] D_loss: 0.71086788, G_loss: 2.22702050\n",
            "Epoch: 105\n",
            "Epoch: [105] [  50/ 200] D_loss: 0.71910214, G_loss: 1.98819077\n",
            "Epoch: [105] [ 100/ 200] D_loss: 0.69880980, G_loss: 2.31670618\n",
            "Epoch: [105] [ 150/ 200] D_loss: 0.70347232, G_loss: 2.29158735\n",
            "Epoch: [105] [ 200/ 200] D_loss: 0.69777560, G_loss: 2.12670493\n",
            "Epoch: 106\n",
            "Epoch: [106] [  50/ 200] D_loss: 0.69841373, G_loss: 2.00080132\n",
            "Epoch: [106] [ 100/ 200] D_loss: 0.71975988, G_loss: 2.22874045\n",
            "Epoch: [106] [ 150/ 200] D_loss: 0.72120661, G_loss: 2.27752566\n",
            "Epoch: [106] [ 200/ 200] D_loss: 0.76987940, G_loss: 2.01137257\n",
            "Epoch: 107\n",
            "Epoch: [107] [  50/ 200] D_loss: 0.70985848, G_loss: 2.06314087\n",
            "Epoch: [107] [ 100/ 200] D_loss: 0.70488840, G_loss: 2.08051038\n",
            "Epoch: [107] [ 150/ 200] D_loss: 0.70146215, G_loss: 2.13707495\n",
            "Epoch: [107] [ 200/ 200] D_loss: 0.71637326, G_loss: 2.12899208\n",
            "Epoch: 108\n",
            "Epoch: [108] [  50/ 200] D_loss: 0.70489341, G_loss: 2.20147228\n",
            "Epoch: [108] [ 100/ 200] D_loss: 0.69686115, G_loss: 1.95547283\n",
            "Epoch: [108] [ 150/ 200] D_loss: 0.72720939, G_loss: 1.94039166\n",
            "Epoch: [108] [ 200/ 200] D_loss: 0.69804990, G_loss: 2.21073890\n",
            "Epoch: 109\n",
            "Epoch: [109] [  50/ 200] D_loss: 0.69641411, G_loss: 2.11166573\n",
            "Epoch: [109] [ 100/ 200] D_loss: 0.68512738, G_loss: 2.11789799\n",
            "Epoch: [109] [ 150/ 200] D_loss: 0.69328624, G_loss: 2.08467031\n",
            "Epoch: [109] [ 200/ 200] D_loss: 0.69109619, G_loss: 1.92918444\n",
            "Epoch: 110\n",
            "\tGot eigenvectors (6559169, 6559169)\n",
            "\tEigenvalues are -441.43 and 667.61\n",
            "\tGot eigenvectors (6577729, 6577729)\n",
            "\tEigenvalues are -1878.07 and 2460.83\n",
            "Epoch: [110] [  50/ 200] D_loss: 0.70457959, G_loss: 1.90142703\n",
            "Epoch: [110] [ 100/ 200] D_loss: 0.70602119, G_loss: 2.38647413\n",
            "Epoch: [110] [ 150/ 200] D_loss: 0.70877880, G_loss: 2.00167203\n",
            "Epoch: [110] [ 200/ 200] D_loss: 0.71107692, G_loss: 2.06330538\n"
          ],
          "name": "stdout"
        },
        {
          "output_type": "display_data",
          "data": {
            "text/plain": [
              "<Figure size 72x720 with 0 Axes>"
            ]
          },
          "metadata": {
            "tags": []
          }
        },
        {
          "output_type": "display_data",
          "data": {
            "image/png": "[encoded data removed]",
            "text/plain": [
              "<Figure size 432x288 with 10 Axes>"
            ]
          },
          "metadata": {
            "tags": [],
            "needs_background": "light"
          }
        },
        {
          "output_type": "stream",
          "text": [
            "Epoch: 111\n",
            "Epoch: [111] [  50/ 200] D_loss: 0.76520407, G_loss: 1.84678638\n",
            "Epoch: [111] [ 100/ 200] D_loss: 0.68363279, G_loss: 1.96033514\n",
            "Epoch: [111] [ 150/ 200] D_loss: 0.69711560, G_loss: 1.96552658\n",
            "Epoch: [111] [ 200/ 200] D_loss: 0.68766284, G_loss: 2.10190129\n",
            "Epoch: 112\n",
            "Epoch: [112] [  50/ 200] D_loss: 0.68876529, G_loss: 2.21069884\n",
            "Epoch: [112] [ 100/ 200] D_loss: 0.72323346, G_loss: 2.02842951\n",
            "Epoch: [112] [ 150/ 200] D_loss: 0.69505435, G_loss: 2.16571379\n",
            "Epoch: [112] [ 200/ 200] D_loss: 0.69933939, G_loss: 2.15620542\n",
            "Epoch: 113\n",
            "Epoch: [113] [  50/ 200] D_loss: 0.72644812, G_loss: 2.09330821\n",
            "Epoch: [113] [ 100/ 200] D_loss: 0.70653450, G_loss: 2.00780702\n",
            "Epoch: [113] [ 150/ 200] D_loss: 0.71803707, G_loss: 1.97700953\n",
            "Epoch: [113] [ 200/ 200] D_loss: 0.69397068, G_loss: 2.29055071\n",
            "Epoch: 114\n",
            "Epoch: [114] [  50/ 200] D_loss: 0.70856953, G_loss: 1.93398583\n",
            "Epoch: [114] [ 100/ 200] D_loss: 0.68389869, G_loss: 2.00403643\n",
            "Epoch: [114] [ 150/ 200] D_loss: 0.72184324, G_loss: 2.17476821\n",
            "Epoch: [114] [ 200/ 200] D_loss: 0.70873445, G_loss: 2.15409946\n",
            "Epoch: 115\n",
            "Epoch: [115] [  50/ 200] D_loss: 0.70173395, G_loss: 1.94700956\n",
            "Epoch: [115] [ 100/ 200] D_loss: 0.70646083, G_loss: 2.16061902\n",
            "Epoch: [115] [ 150/ 200] D_loss: 0.69715828, G_loss: 2.26844764\n",
            "Epoch: [115] [ 200/ 200] D_loss: 0.74577665, G_loss: 1.63989806\n",
            "Epoch: 116\n",
            "Epoch: [116] [  50/ 200] D_loss: 0.71188009, G_loss: 2.04940772\n",
            "Epoch: [116] [ 100/ 200] D_loss: 0.69182909, G_loss: 2.34495926\n",
            "Epoch: [116] [ 150/ 200] D_loss: 0.70297658, G_loss: 2.18443251\n",
            "Epoch: [116] [ 200/ 200] D_loss: 0.69424927, G_loss: 2.07096004\n",
            "Epoch: 117\n",
            "Epoch: [117] [  50/ 200] D_loss: 0.73462898, G_loss: 2.00150752\n",
            "Epoch: [117] [ 100/ 200] D_loss: 0.73855114, G_loss: 2.14655447\n",
            "Epoch: [117] [ 150/ 200] D_loss: 0.69045520, G_loss: 2.02999449\n",
            "Epoch: [117] [ 200/ 200] D_loss: 0.69594014, G_loss: 2.24209571\n",
            "Epoch: 118\n",
            "Epoch: [118] [  50/ 200] D_loss: 0.70229149, G_loss: 1.89620161\n",
            "Epoch: [118] [ 100/ 200] D_loss: 0.73998642, G_loss: 1.78612387\n",
            "Epoch: [118] [ 150/ 200] D_loss: 0.69701302, G_loss: 2.09908032\n",
            "Epoch: [118] [ 200/ 200] D_loss: 0.70157111, G_loss: 1.88338590\n",
            "Epoch: 119\n",
            "Epoch: [119] [  50/ 200] D_loss: 0.73879993, G_loss: 2.38653064\n",
            "Epoch: [119] [ 100/ 200] D_loss: 0.81416464, G_loss: 2.40495133\n",
            "Epoch: [119] [ 150/ 200] D_loss: 0.70383573, G_loss: 2.08500171\n",
            "Epoch: [119] [ 200/ 200] D_loss: 0.70040101, G_loss: 2.03717494\n",
            "Epoch: 120\n",
            "\tGot eigenvectors (6559169, 6559169)\n",
            "\tEigenvalues are 389.35 and 1056.31\n",
            "\tGot eigenvectors (6577729, 6577729)\n",
            "\tEigenvalues are -3578.04 and 2730.59\n",
            "Epoch: [120] [  50/ 200] D_loss: 0.68971324, G_loss: 2.12436700\n",
            "Epoch: [120] [ 100/ 200] D_loss: 0.71727383, G_loss: 1.94760132\n",
            "Epoch: [120] [ 150/ 200] D_loss: 0.75464046, G_loss: 2.35964084\n",
            "Epoch: [120] [ 200/ 200] D_loss: 0.71950650, G_loss: 2.21804452\n"
          ],
          "name": "stdout"
        },
        {
          "output_type": "display_data",
          "data": {
            "text/plain": [
              "<Figure size 72x720 with 0 Axes>"
            ]
          },
          "metadata": {
            "tags": []
          }
        },
        {
          "output_type": "display_data",
          "data": {
            "image/png": "[encoded data removed]",
            "text/plain": [
              "<Figure size 432x288 with 10 Axes>"
            ]
          },
          "metadata": {
            "tags": [],
            "needs_background": "light"
          }
        },
        {
          "output_type": "stream",
          "text": [
            "Epoch: 121\n",
            "Epoch: [121] [  50/ 200] D_loss: 0.78101540, G_loss: 2.66959763\n",
            "Epoch: [121] [ 100/ 200] D_loss: 0.69594812, G_loss: 2.15591812\n",
            "Epoch: [121] [ 150/ 200] D_loss: 0.73252141, G_loss: 2.10146499\n",
            "Epoch: [121] [ 200/ 200] D_loss: 0.70145535, G_loss: 1.88645899\n",
            "Epoch: 122\n",
            "Epoch: [122] [  50/ 200] D_loss: 0.71142840, G_loss: 1.90510499\n",
            "Epoch: [122] [ 100/ 200] D_loss: 0.74994785, G_loss: 2.28381681\n",
            "Epoch: [122] [ 150/ 200] D_loss: 0.68156022, G_loss: 2.01181865\n",
            "Epoch: [122] [ 200/ 200] D_loss: 0.67878425, G_loss: 2.16155076\n",
            "Epoch: 123\n",
            "Epoch: [123] [  50/ 200] D_loss: 0.69268477, G_loss: 1.89218903\n",
            "Epoch: [123] [ 100/ 200] D_loss: 0.68935090, G_loss: 2.24271941\n",
            "Epoch: [123] [ 150/ 200] D_loss: 0.69805670, G_loss: 2.08211470\n",
            "Epoch: [123] [ 200/ 200] D_loss: 0.67737043, G_loss: 2.10708165\n",
            "Epoch: 124\n",
            "Epoch: [124] [  50/ 200] D_loss: 0.69149238, G_loss: 2.17389965\n",
            "Epoch: [124] [ 100/ 200] D_loss: 0.69248462, G_loss: 2.06904268\n",
            "Epoch: [124] [ 150/ 200] D_loss: 0.70325786, G_loss: 2.28042579\n",
            "Epoch: [124] [ 200/ 200] D_loss: 0.70888710, G_loss: 2.31001234\n",
            "Epoch: 125\n",
            "Epoch: [125] [  50/ 200] D_loss: 0.72801530, G_loss: 2.03224993\n",
            "Epoch: [125] [ 100/ 200] D_loss: 0.70211017, G_loss: 2.13497353\n",
            "Epoch: [125] [ 150/ 200] D_loss: 0.68973994, G_loss: 2.06862140\n",
            "Epoch: [125] [ 200/ 200] D_loss: 0.71410739, G_loss: 2.26810002\n",
            "Epoch: 126\n",
            "Epoch: [126] [  50/ 200] D_loss: 0.72911626, G_loss: 2.28538299\n",
            "Epoch: [126] [ 100/ 200] D_loss: 0.69940603, G_loss: 2.04450822\n",
            "Epoch: [126] [ 150/ 200] D_loss: 0.71855932, G_loss: 2.06653595\n",
            "Epoch: [126] [ 200/ 200] D_loss: 0.73541272, G_loss: 2.12860942\n",
            "Epoch: 127\n",
            "Epoch: [127] [  50/ 200] D_loss: 0.68435407, G_loss: 1.89388835\n",
            "Epoch: [127] [ 100/ 200] D_loss: 0.76440597, G_loss: 1.79388309\n",
            "Epoch: [127] [ 150/ 200] D_loss: 0.67912900, G_loss: 2.07059693\n",
            "Epoch: [127] [ 200/ 200] D_loss: 0.69730163, G_loss: 2.12915611\n",
            "Epoch: 128\n",
            "Epoch: [128] [  50/ 200] D_loss: 0.69955802, G_loss: 2.35930300\n",
            "Epoch: [128] [ 100/ 200] D_loss: 0.70658267, G_loss: 2.23057508\n",
            "Epoch: [128] [ 150/ 200] D_loss: 0.69557297, G_loss: 1.82779419\n",
            "Epoch: [128] [ 200/ 200] D_loss: 0.68703580, G_loss: 2.05584860\n",
            "Epoch: 129\n",
            "Epoch: [129] [  50/ 200] D_loss: 0.70855504, G_loss: 2.26555181\n",
            "Epoch: [129] [ 100/ 200] D_loss: 0.69789195, G_loss: 2.18915868\n",
            "Epoch: [129] [ 150/ 200] D_loss: 0.68560636, G_loss: 2.04121637\n",
            "Epoch: [129] [ 200/ 200] D_loss: 0.69756937, G_loss: 2.04409623\n",
            "Epoch: 130\n",
            "\tGot eigenvectors (6559169, 6559169)\n",
            "\tEigenvalues are 190.21 and 1327.50\n",
            "\tGot eigenvectors (6577729, 6577729)\n",
            "\tEigenvalues are -4582.91 and -2341.80\n",
            "Epoch: [130] [  50/ 200] D_loss: 0.68953156, G_loss: 1.94426274\n",
            "Epoch: [130] [ 100/ 200] D_loss: 0.73423183, G_loss: 2.25917149\n",
            "Epoch: [130] [ 150/ 200] D_loss: 0.70452964, G_loss: 1.90981734\n",
            "Epoch: [130] [ 200/ 200] D_loss: 0.75581658, G_loss: 2.65235639\n"
          ],
          "name": "stdout"
        },
        {
          "output_type": "display_data",
          "data": {
            "text/plain": [
              "<Figure size 72x720 with 0 Axes>"
            ]
          },
          "metadata": {
            "tags": []
          }
        },
        {
          "output_type": "display_data",
          "data": {
            "image/png": "[encoded data removed]",
            "text/plain": [
              "<Figure size 432x288 with 10 Axes>"
            ]
          },
          "metadata": {
            "tags": [],
            "needs_background": "light"
          }
        },
        {
          "output_type": "stream",
          "text": [
            "Epoch: 131\n",
            "Epoch: [131] [  50/ 200] D_loss: 0.69199216, G_loss: 2.08030844\n",
            "Epoch: [131] [ 100/ 200] D_loss: 0.69768846, G_loss: 2.14297128\n",
            "Epoch: [131] [ 150/ 200] D_loss: 0.69971102, G_loss: 2.04523516\n",
            "Epoch: [131] [ 200/ 200] D_loss: 0.68947762, G_loss: 2.03693891\n",
            "Epoch: 132\n",
            "Epoch: [132] [  50/ 200] D_loss: 0.79745340, G_loss: 2.47731209\n",
            "Epoch: [132] [ 100/ 200] D_loss: 0.68149984, G_loss: 2.04626846\n",
            "Epoch: [132] [ 150/ 200] D_loss: 0.69171292, G_loss: 2.11889625\n",
            "Epoch: [132] [ 200/ 200] D_loss: 0.69890201, G_loss: 2.15223122\n",
            "Epoch: 133\n",
            "Epoch: [133] [  50/ 200] D_loss: 0.68824285, G_loss: 2.10399461\n",
            "Epoch: [133] [ 100/ 200] D_loss: 0.70656395, G_loss: 1.99718511\n",
            "Epoch: [133] [ 150/ 200] D_loss: 0.67829025, G_loss: 2.04763722\n",
            "Epoch: [133] [ 200/ 200] D_loss: 0.71959847, G_loss: 2.06456590\n",
            "Epoch: 134\n",
            "Epoch: [134] [  50/ 200] D_loss: 0.71847409, G_loss: 2.14841509\n",
            "Epoch: [134] [ 100/ 200] D_loss: 0.68925893, G_loss: 2.04659295\n",
            "Epoch: [134] [ 150/ 200] D_loss: 0.68454945, G_loss: 2.09641719\n",
            "Epoch: [134] [ 200/ 200] D_loss: 0.69622332, G_loss: 2.06632853\n",
            "Epoch: 135\n",
            "Epoch: [135] [  50/ 200] D_loss: 0.69445539, G_loss: 2.14214134\n",
            "Epoch: [135] [ 100/ 200] D_loss: 0.72795701, G_loss: 2.34213877\n",
            "Epoch: [135] [ 150/ 200] D_loss: 0.70213115, G_loss: 2.08695531\n",
            "Epoch: [135] [ 200/ 200] D_loss: 0.69061261, G_loss: 2.11465979\n",
            "Epoch: 136\n",
            "Epoch: [136] [  50/ 200] D_loss: 0.69246376, G_loss: 1.95239592\n",
            "Epoch: [136] [ 100/ 200] D_loss: 0.71160400, G_loss: 2.02061439\n",
            "Epoch: [136] [ 150/ 200] D_loss: 0.69828379, G_loss: 2.09061360\n",
            "Epoch: [136] [ 200/ 200] D_loss: 0.70303959, G_loss: 2.05155516\n",
            "Epoch: 137\n",
            "Epoch: [137] [  50/ 200] D_loss: 0.70232183, G_loss: 2.11241293\n",
            "Epoch: [137] [ 100/ 200] D_loss: 0.68815565, G_loss: 1.91657674\n",
            "Epoch: [137] [ 150/ 200] D_loss: 0.70796227, G_loss: 2.20962501\n",
            "Epoch: [137] [ 200/ 200] D_loss: 0.70503259, G_loss: 2.01656532\n",
            "Epoch: 138\n",
            "Epoch: [138] [  50/ 200] D_loss: 0.69537956, G_loss: 2.16474295\n",
            "Epoch: [138] [ 100/ 200] D_loss: 0.77125442, G_loss: 2.01496720\n",
            "Epoch: [138] [ 150/ 200] D_loss: 0.76378512, G_loss: 2.19385481\n",
            "Epoch: [138] [ 200/ 200] D_loss: 0.68709505, G_loss: 2.19250989\n",
            "Epoch: 139\n",
            "Epoch: [139] [  50/ 200] D_loss: 0.73343688, G_loss: 2.40963864\n",
            "Epoch: [139] [ 100/ 200] D_loss: 0.69985473, G_loss: 2.27645254\n",
            "Epoch: [139] [ 150/ 200] D_loss: 0.68493998, G_loss: 2.25034928\n",
            "Epoch: [139] [ 200/ 200] D_loss: 0.71738237, G_loss: 2.08959842\n",
            "Epoch: 140\n",
            "\tGot eigenvectors (6559169, 6559169)\n",
            "\tEigenvalues are -958.57 and 1655.01\n",
            "\tGot eigenvectors (6577729, 6577729)\n",
            "\tEigenvalues are -5084.82 and -3353.67\n",
            "Epoch: [140] [  50/ 200] D_loss: 0.72179592, G_loss: 2.28857088\n",
            "Epoch: [140] [ 100/ 200] D_loss: 0.68925726, G_loss: 1.99522793\n",
            "Epoch: [140] [ 150/ 200] D_loss: 0.70383358, G_loss: 2.12728286\n",
            "Epoch: [140] [ 200/ 200] D_loss: 0.74535275, G_loss: 2.15961742\n"
          ],
          "name": "stdout"
        },
        {
          "output_type": "display_data",
          "data": {
            "text/plain": [
              "<Figure size 72x720 with 0 Axes>"
            ]
          },
          "metadata": {
            "tags": []
          }
        },
        {
          "output_type": "display_data",
          "data": {
            "image/png": "[encoded data removed]",
            "text/plain": [
              "<Figure size 432x288 with 10 Axes>"
            ]
          },
          "metadata": {
            "tags": [],
            "needs_background": "light"
          }
        },
        {
          "output_type": "stream",
          "text": [
            "Epoch: 141\n",
            "Epoch: [141] [  50/ 200] D_loss: 0.68051314, G_loss: 2.39793515\n",
            "Epoch: [141] [ 100/ 200] D_loss: 0.69178462, G_loss: 2.15976667\n",
            "Epoch: [141] [ 150/ 200] D_loss: 0.70268273, G_loss: 1.99186003\n",
            "Epoch: [141] [ 200/ 200] D_loss: 0.74762130, G_loss: 1.96621442\n",
            "Epoch: 142\n",
            "Epoch: [142] [  50/ 200] D_loss: 0.69445300, G_loss: 2.06659412\n",
            "Epoch: [142] [ 100/ 200] D_loss: 0.70094335, G_loss: 2.17411900\n",
            "Epoch: [142] [ 150/ 200] D_loss: 0.70622289, G_loss: 2.16862345\n",
            "Epoch: [142] [ 200/ 200] D_loss: 0.68987441, G_loss: 2.18360209\n",
            "Epoch: 143\n",
            "Epoch: [143] [  50/ 200] D_loss: 0.69319797, G_loss: 2.18702817\n",
            "Epoch: [143] [ 100/ 200] D_loss: 0.69906783, G_loss: 1.99159515\n",
            "Epoch: [143] [ 150/ 200] D_loss: 0.69206393, G_loss: 1.93210948\n",
            "Epoch: [143] [ 200/ 200] D_loss: 0.68651533, G_loss: 2.22458220\n",
            "Epoch: 144\n",
            "Epoch: [144] [  50/ 200] D_loss: 0.69977158, G_loss: 2.23377824\n",
            "Epoch: [144] [ 100/ 200] D_loss: 0.74292731, G_loss: 2.23682451\n",
            "Epoch: [144] [ 150/ 200] D_loss: 0.68423986, G_loss: 2.18119550\n",
            "Epoch: [144] [ 200/ 200] D_loss: 0.70284754, G_loss: 2.20831680\n",
            "Epoch: 145\n",
            "Epoch: [145] [  50/ 200] D_loss: 0.73509151, G_loss: 2.04995275\n",
            "Epoch: [145] [ 100/ 200] D_loss: 0.71502548, G_loss: 2.23983002\n",
            "Epoch: [145] [ 150/ 200] D_loss: 0.68676555, G_loss: 2.03073120\n",
            "Epoch: [145] [ 200/ 200] D_loss: 0.68045270, G_loss: 2.20139003\n",
            "Epoch: 146\n",
            "Epoch: [146] [  50/ 200] D_loss: 0.69477046, G_loss: 2.03387761\n",
            "Epoch: [146] [ 100/ 200] D_loss: 0.68145216, G_loss: 2.19053054\n",
            "Epoch: [146] [ 150/ 200] D_loss: 0.72364134, G_loss: 2.17784977\n",
            "Epoch: [146] [ 200/ 200] D_loss: 0.72065794, G_loss: 2.00061178\n",
            "Epoch: 147\n",
            "Epoch: [147] [  50/ 200] D_loss: 0.72511196, G_loss: 2.26888657\n",
            "Epoch: [147] [ 100/ 200] D_loss: 0.68518615, G_loss: 1.99871469\n",
            "Epoch: [147] [ 150/ 200] D_loss: 0.73009074, G_loss: 1.86101747\n",
            "Epoch: [147] [ 200/ 200] D_loss: 0.69830418, G_loss: 2.18403864\n",
            "Epoch: 148\n",
            "Epoch: [148] [  50/ 200] D_loss: 0.69480759, G_loss: 2.13086343\n",
            "Epoch: [148] [ 100/ 200] D_loss: 0.69511682, G_loss: 2.05370617\n",
            "Epoch: [148] [ 150/ 200] D_loss: 0.68613732, G_loss: 1.99912703\n",
            "Epoch: [148] [ 200/ 200] D_loss: 0.69269025, G_loss: 2.17227507\n",
            "Epoch: 149\n",
            "Epoch: [149] [  50/ 200] D_loss: 0.67634839, G_loss: 2.03742385\n",
            "Epoch: [149] [ 100/ 200] D_loss: 0.70397449, G_loss: 1.98958302\n",
            "Epoch: [149] [ 150/ 200] D_loss: 0.67966652, G_loss: 2.23748159\n",
            "Epoch: [149] [ 200/ 200] D_loss: 0.71750301, G_loss: 2.45084286\n",
            "Epoch: 150\n",
            "\tGot eigenvectors (6559169, 6559169)\n",
            "\tEigenvalues are 961.20 and 1842.58\n",
            "\tGot eigenvectors (6577729, 6577729)\n",
            "\tEigenvalues are 1999.02 and 2369.52\n",
            "Epoch: [150] [  50/ 200] D_loss: 0.71100557, G_loss: 2.53746629\n",
            "Epoch: [150] [ 100/ 200] D_loss: 0.69616717, G_loss: 1.91150594\n",
            "Epoch: [150] [ 150/ 200] D_loss: 0.69006681, G_loss: 1.97723186\n",
            "Epoch: [150] [ 200/ 200] D_loss: 0.68394035, G_loss: 2.04751134\n"
          ],
          "name": "stdout"
        },
        {
          "output_type": "display_data",
          "data": {
            "text/plain": [
              "<Figure size 72x720 with 0 Axes>"
            ]
          },
          "metadata": {
            "tags": []
          }
        },
        {
          "output_type": "display_data",
          "data": {
            "image/png": "[encoded data removed]",
            "text/plain": [
              "<Figure size 432x288 with 10 Axes>"
            ]
          },
          "metadata": {
            "tags": [],
            "needs_background": "light"
          }
        },
        {
          "output_type": "stream",
          "text": [
            "Training finished!\n"
          ],
          "name": "stdout"
        }
      ]
    }
  ]
}