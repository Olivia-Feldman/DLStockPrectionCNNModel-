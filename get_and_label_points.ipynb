{
  "nbformat": 4,
  "nbformat_minor": 0,
  "metadata": {
    "colab": {
      "name": "get_and_label_points.ipynb",
      "provenance": [],
      "authorship_tag": "ABX9TyNkijtUJrLOBh0kwigHn4uY",
      "include_colab_link": true
    },
    "kernelspec": {
      "name": "python3",
      "display_name": "Python 3"
    }
  },
  "cells": [
    {
      "cell_type": "markdown",
      "metadata": {
        "id": "view-in-github",
        "colab_type": "text"
      },
      "source": [
        "<a href=\"https://colab.research.google.com/github/Olivia-Feldman/DLStockPrectionCNNModel-/blob/Jack/get_and_label_points.ipynb\" target=\"_parent\"><img src=\"https://colab.research.google.com/assets/colab-badge.svg\" alt=\"Open In Colab\"/></a>"
      ]
    },
    {
      "cell_type": "code",
      "metadata": {
        "colab": {
          "base_uri": "https://localhost:8080/"
        },
        "id": "cxSZWrZx2OsJ",
        "outputId": "5a0c4e31-376a-45ec-82f6-1cb4a36b9418"
      },
      "source": [
        "# Install yfinance\n",
        "!pip install yfinance"
      ],
      "execution_count": 7,
      "outputs": [
        {
          "output_type": "stream",
          "text": [
            "Collecting yfinance\n",
            "  Downloading https://files.pythonhosted.org/packages/7a/e8/b9d7104d3a4bf39924799067592d9e59119fcfc900a425a12e80a3123ec8/yfinance-0.1.55.tar.gz\n",
            "Requirement already satisfied: pandas>=0.24 in /usr/local/lib/python3.6/dist-packages (from yfinance) (1.1.5)\n",
            "Requirement already satisfied: numpy>=1.15 in /usr/local/lib/python3.6/dist-packages (from yfinance) (1.19.5)\n",
            "Requirement already satisfied: requests>=2.20 in /usr/local/lib/python3.6/dist-packages (from yfinance) (2.23.0)\n",
            "Requirement already satisfied: multitasking>=0.0.7 in /usr/local/lib/python3.6/dist-packages (from yfinance) (0.0.9)\n",
            "Collecting lxml>=4.5.1\n",
            "\u001b[?25l  Downloading https://files.pythonhosted.org/packages/bd/78/56a7c88a57d0d14945472535d0df9fb4bbad7d34ede658ec7961635c790e/lxml-4.6.2-cp36-cp36m-manylinux1_x86_64.whl (5.5MB)\n",
            "\u001b[K     |████████████████████████████████| 5.5MB 6.8MB/s \n",
            "\u001b[?25hRequirement already satisfied: python-dateutil>=2.7.3 in /usr/local/lib/python3.6/dist-packages (from pandas>=0.24->yfinance) (2.8.1)\n",
            "Requirement already satisfied: pytz>=2017.2 in /usr/local/lib/python3.6/dist-packages (from pandas>=0.24->yfinance) (2018.9)\n",
            "Requirement already satisfied: idna<3,>=2.5 in /usr/local/lib/python3.6/dist-packages (from requests>=2.20->yfinance) (2.10)\n",
            "Requirement already satisfied: urllib3!=1.25.0,!=1.25.1,<1.26,>=1.21.1 in /usr/local/lib/python3.6/dist-packages (from requests>=2.20->yfinance) (1.24.3)\n",
            "Requirement already satisfied: chardet<4,>=3.0.2 in /usr/local/lib/python3.6/dist-packages (from requests>=2.20->yfinance) (3.0.4)\n",
            "Requirement already satisfied: certifi>=2017.4.17 in /usr/local/lib/python3.6/dist-packages (from requests>=2.20->yfinance) (2020.12.5)\n",
            "Requirement already satisfied: six>=1.5 in /usr/local/lib/python3.6/dist-packages (from python-dateutil>=2.7.3->pandas>=0.24->yfinance) (1.15.0)\n",
            "Building wheels for collected packages: yfinance\n",
            "  Building wheel for yfinance (setup.py) ... \u001b[?25l\u001b[?25hdone\n",
            "  Created wheel for yfinance: filename=yfinance-0.1.55-py2.py3-none-any.whl size=22616 sha256=a468ce176e8deb138c1b3d56cc859ac9df8e2f779bdfaac4575f16bcaea47e55\n",
            "  Stored in directory: /root/.cache/pip/wheels/04/98/cc/2702a4242d60bdc14f48b4557c427ded1fe92aedf257d4565c\n",
            "Successfully built yfinance\n",
            "Installing collected packages: lxml, yfinance\n",
            "  Found existing installation: lxml 4.2.6\n",
            "    Uninstalling lxml-4.2.6:\n",
            "      Successfully uninstalled lxml-4.2.6\n",
            "Successfully installed lxml-4.6.2 yfinance-0.1.55\n"
          ],
          "name": "stdout"
        }
      ]
    },
    {
      "cell_type": "code",
      "metadata": {
        "id": "YYGV_kMN8iXQ"
      },
      "source": [
        "# IMPORT YAHOO FINANCE DATA\n",
        "# Source: https://medium.com/@jouneidraza522/yahoo-finance-api-to-get-stocks-tickers-data-in-python-c49820249a18\n",
        "\n",
        "# FUNCTIONS\n",
        "\n",
        "# Imports\n",
        "from pandas_datareader import data as pdr\n",
        "from datetime import date as dt # FIX: only import date\n",
        "import yfinance as yf \n",
        "yf.pdr_override()\n",
        "import pandas as pd\n",
        "\n",
        "# Define saveData function\n",
        "def saveData(df, name):\n",
        "  df.to_csv(name + '.csv')\n",
        "\n",
        "# Define readCSVData function\n",
        "def readCSVData (ticker, tag):\n",
        "  df = pd.read_csv(ticker + '_' + date + '.csv')\n",
        "  print(df.head())\n",
        "  return df\n",
        "\n",
        "# Define getYahooFinanceData function\n",
        "def getYahooFinanceData(files, ticker, start_date, end_date, tag):\n",
        "  # Save to files list\n",
        "  data = pdr.get_data_yahoo(ticker, start=start_date, end=end_date)\n",
        "  dataName = ticker + '_' + tag\n",
        "  files.append(dataName)\n",
        "\n",
        "  # Save data to file\n",
        "  saveData(data, dataName)"
      ],
      "execution_count": null,
      "outputs": []
    },
    {
      "cell_type": "code",
      "metadata": {
        "id": "9MrzDUdl8zRi"
      },
      "source": [
        "# Tickerlist\n",
        "tick_list = ['DJIA', 'GBPUSD'] # Ticker list\n",
        "\n",
        "today = dt.today() # Get today's date\n",
        "\n",
        "# Choose start and sotp dates\n",
        "start_date = \"2017-01-01\"\n",
        "end_date = \"2020-12-31\"\n",
        "\n",
        "# Initialize files list\n",
        "files = []\n",
        "\n",
        "for tick in tick_list:\n",
        "  getYahooFinanceData(files, tick_list[0], start_date, end_date, 'test')\n",
        "  readCSVData(tick_list[0], 'test')"
      ],
      "execution_count": null,
      "outputs": []
    }
  ]
}