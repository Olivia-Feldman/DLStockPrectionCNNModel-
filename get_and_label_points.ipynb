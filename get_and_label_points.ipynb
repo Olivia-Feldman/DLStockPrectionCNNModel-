{
  "nbformat": 4,
  "nbformat_minor": 0,
  "metadata": {
    "colab": {
      "name": "get_and_label_points.ipynb",
      "provenance": [],
      "authorship_tag": "ABX9TyO4ylz8buSvv8KfuYNBJIxu",
      "include_colab_link": true
    },
    "kernelspec": {
      "name": "python3",
      "display_name": "Python 3"
    }
  },
  "cells": [
    {
      "cell_type": "markdown",
      "metadata": {
        "id": "view-in-github",
        "colab_type": "text"
      },
      "source": [
        "<a href=\"https://colab.research.google.com/github/Olivia-Feldman/DLStockPrectionCNNModel-/blob/Jack/get_and_label_points.ipynb\" target=\"_parent\"><img src=\"https://colab.research.google.com/assets/colab-badge.svg\" alt=\"Open In Colab\"/></a>"
      ]
    },
    {
      "cell_type": "code",
      "metadata": {
        "colab": {
          "base_uri": "https://localhost:8080/"
        },
        "id": "cxSZWrZx2OsJ",
        "outputId": "3b74c596-7dd0-4bb2-bee6-66c72c9764bd"
      },
      "source": [
        "# Install yfinance and googlefinance\n",
        "!pip install yfinance\n",
        "!pip3 install git+https://github.com/pdevty/googlefinance-client-python.git"
      ],
      "execution_count": 1,
      "outputs": [
        {
          "output_type": "stream",
          "text": [
            "Collecting yfinance\n",
            "  Downloading https://files.pythonhosted.org/packages/7a/e8/b9d7104d3a4bf39924799067592d9e59119fcfc900a425a12e80a3123ec8/yfinance-0.1.55.tar.gz\n",
            "Requirement already satisfied: pandas>=0.24 in /usr/local/lib/python3.6/dist-packages (from yfinance) (1.1.5)\n",
            "Requirement already satisfied: numpy>=1.15 in /usr/local/lib/python3.6/dist-packages (from yfinance) (1.19.5)\n",
            "Requirement already satisfied: requests>=2.20 in /usr/local/lib/python3.6/dist-packages (from yfinance) (2.23.0)\n",
            "Requirement already satisfied: multitasking>=0.0.7 in /usr/local/lib/python3.6/dist-packages (from yfinance) (0.0.9)\n",
            "Collecting lxml>=4.5.1\n",
            "\u001b[?25l  Downloading https://files.pythonhosted.org/packages/bd/78/56a7c88a57d0d14945472535d0df9fb4bbad7d34ede658ec7961635c790e/lxml-4.6.2-cp36-cp36m-manylinux1_x86_64.whl (5.5MB)\n",
            "\u001b[K     |████████████████████████████████| 5.5MB 6.4MB/s \n",
            "\u001b[?25hRequirement already satisfied: pytz>=2017.2 in /usr/local/lib/python3.6/dist-packages (from pandas>=0.24->yfinance) (2018.9)\n",
            "Requirement already satisfied: python-dateutil>=2.7.3 in /usr/local/lib/python3.6/dist-packages (from pandas>=0.24->yfinance) (2.8.1)\n",
            "Requirement already satisfied: chardet<4,>=3.0.2 in /usr/local/lib/python3.6/dist-packages (from requests>=2.20->yfinance) (3.0.4)\n",
            "Requirement already satisfied: certifi>=2017.4.17 in /usr/local/lib/python3.6/dist-packages (from requests>=2.20->yfinance) (2020.12.5)\n",
            "Requirement already satisfied: idna<3,>=2.5 in /usr/local/lib/python3.6/dist-packages (from requests>=2.20->yfinance) (2.10)\n",
            "Requirement already satisfied: urllib3!=1.25.0,!=1.25.1,<1.26,>=1.21.1 in /usr/local/lib/python3.6/dist-packages (from requests>=2.20->yfinance) (1.24.3)\n",
            "Requirement already satisfied: six>=1.5 in /usr/local/lib/python3.6/dist-packages (from python-dateutil>=2.7.3->pandas>=0.24->yfinance) (1.15.0)\n",
            "Building wheels for collected packages: yfinance\n",
            "  Building wheel for yfinance (setup.py) ... \u001b[?25l\u001b[?25hdone\n",
            "  Created wheel for yfinance: filename=yfinance-0.1.55-py2.py3-none-any.whl size=22616 sha256=67f59dc7bc1b76766e308fcb885123010c824f28666a5ff1497725df6a74e7a1\n",
            "  Stored in directory: /root/.cache/pip/wheels/04/98/cc/2702a4242d60bdc14f48b4557c427ded1fe92aedf257d4565c\n",
            "Successfully built yfinance\n",
            "Installing collected packages: lxml, yfinance\n",
            "  Found existing installation: lxml 4.2.6\n",
            "    Uninstalling lxml-4.2.6:\n",
            "      Successfully uninstalled lxml-4.2.6\n",
            "Successfully installed lxml-4.6.2 yfinance-0.1.55\n",
            "Collecting git+https://github.com/pdevty/googlefinance-client-python.git\n",
            "  Cloning https://github.com/pdevty/googlefinance-client-python.git to /tmp/pip-req-build-h_i_o81a\n",
            "  Running command git clone -q https://github.com/pdevty/googlefinance-client-python.git /tmp/pip-req-build-h_i_o81a\n",
            "Collecting datetime\n",
            "\u001b[?25l  Downloading https://files.pythonhosted.org/packages/73/22/a5297f3a1f92468cc737f8ce7ba6e5f245fcfafeae810ba37bd1039ea01c/DateTime-4.3-py2.py3-none-any.whl (60kB)\n",
            "\u001b[K     |████████████████████████████████| 61kB 3.4MB/s \n",
            "\u001b[?25hRequirement already satisfied: requests in /usr/local/lib/python3.6/dist-packages (from googlefinance.client==1.3.1) (2.23.0)\n",
            "Requirement already satisfied: pandas in /usr/local/lib/python3.6/dist-packages (from googlefinance.client==1.3.1) (1.1.5)\n",
            "Collecting zope.interface\n",
            "\u001b[?25l  Downloading https://files.pythonhosted.org/packages/82/b0/da8afd9b3bd50c7665ecdac062f182982af1173c9081f9af7261091c5588/zope.interface-5.2.0-cp36-cp36m-manylinux2010_x86_64.whl (236kB)\n",
            "\u001b[K     |████████████████████████████████| 245kB 6.2MB/s \n",
            "\u001b[?25hRequirement already satisfied: pytz in /usr/local/lib/python3.6/dist-packages (from datetime->googlefinance.client==1.3.1) (2018.9)\n",
            "Requirement already satisfied: idna<3,>=2.5 in /usr/local/lib/python3.6/dist-packages (from requests->googlefinance.client==1.3.1) (2.10)\n",
            "Requirement already satisfied: urllib3!=1.25.0,!=1.25.1,<1.26,>=1.21.1 in /usr/local/lib/python3.6/dist-packages (from requests->googlefinance.client==1.3.1) (1.24.3)\n",
            "Requirement already satisfied: chardet<4,>=3.0.2 in /usr/local/lib/python3.6/dist-packages (from requests->googlefinance.client==1.3.1) (3.0.4)\n",
            "Requirement already satisfied: certifi>=2017.4.17 in /usr/local/lib/python3.6/dist-packages (from requests->googlefinance.client==1.3.1) (2020.12.5)\n",
            "Requirement already satisfied: python-dateutil>=2.7.3 in /usr/local/lib/python3.6/dist-packages (from pandas->googlefinance.client==1.3.1) (2.8.1)\n",
            "Requirement already satisfied: numpy>=1.15.4 in /usr/local/lib/python3.6/dist-packages (from pandas->googlefinance.client==1.3.1) (1.19.5)\n",
            "Requirement already satisfied: setuptools in /usr/local/lib/python3.6/dist-packages (from zope.interface->datetime->googlefinance.client==1.3.1) (53.0.0)\n",
            "Requirement already satisfied: six>=1.5 in /usr/local/lib/python3.6/dist-packages (from python-dateutil>=2.7.3->pandas->googlefinance.client==1.3.1) (1.15.0)\n",
            "Building wheels for collected packages: googlefinance.client\n",
            "  Building wheel for googlefinance.client (setup.py) ... \u001b[?25l\u001b[?25hdone\n",
            "  Created wheel for googlefinance.client: filename=googlefinance.client-1.3.1-cp36-none-any.whl size=4296 sha256=50087d2b5929e277a8902bfdb0c0406255c40866ae4ef4b226300f47149606e3\n",
            "  Stored in directory: /tmp/pip-ephem-wheel-cache-cj7p4muw/wheels/19/c9/a9/ddbb6543f61ab423f0533a932f6e7a41545e04b955bc492515\n",
            "Successfully built googlefinance.client\n",
            "Installing collected packages: zope.interface, datetime, googlefinance.client\n",
            "Successfully installed datetime-4.3 googlefinance.client-1.3.1 zope.interface-5.2.0\n"
          ],
          "name": "stdout"
        }
      ]
    },
    {
      "cell_type": "code",
      "metadata": {
        "id": "YYGV_kMN8iXQ"
      },
      "source": [
        "# IMPORT YAHOO FINANCE DATA - Functions\n",
        "# Source: https://medium.com/@jouneidraza522/yahoo-finance-api-to-get-stocks-tickers-data-in-python-c49820249a18\n",
        "# Source: https://pypi.org/project/googlefinance/\n",
        "\n",
        "# Imports\n",
        "from pandas_datareader import data as pdr\n",
        "from datetime import date as dt # FIX: only import date\n",
        "import yfinance as yf \n",
        "yf.pdr_override()\n",
        "import pandas as pd\n",
        "\n",
        "# Define saveData function\n",
        "def saveData(df, name):\n",
        "  df.to_csv(name + '.csv')\n",
        "\n",
        "# Define readCSVData function\n",
        "def readCSVData (ticker, tag):\n",
        "  df = pd.read_csv(ticker + '_' + tag + '.csv')\n",
        "  print(df.head())\n",
        "  return df\n",
        "\n",
        "# Define getYahooFinanceData function\n",
        "def getYahooFinanceData(files, ticker, start_date, end_date, tag):\n",
        "  # Save to files list\n",
        "  data = pdr.get_data_yahoo(ticker, start=start_date, end=end_date)\n",
        "  dataName = ticker + '_' + tag\n",
        "  files.append(dataName)\n",
        "\n",
        "  # Save data to file\n",
        "  saveData(data, dataName)"
      ],
      "execution_count": 3,
      "outputs": []
    },
    {
      "cell_type": "code",
      "metadata": {
        "id": "9MrzDUdl8zRi",
        "colab": {
          "base_uri": "https://localhost:8080/"
        },
        "outputId": "c1ac8743-0a86-4bd0-ca6a-ea4168d467cd"
      },
      "source": [
        "# IMPORT YAHOO FINANCE DATA - Executions\n",
        "\n",
        "# Yahoo Finance\n",
        "\n",
        "# Tickerlist\n",
        "tick_list = ['DJIA'] # Ticker list\n",
        "\n",
        "today = dt.today() # Get today's date\n",
        "\n",
        "# Choose start and sotp dates\n",
        "start_date = \"2017-01-01\"\n",
        "end_date = \"2020-12-31\"\n",
        "\n",
        "# Initialize files list\n",
        "files = []\n",
        "\n",
        "counter = 0\n",
        "for tick in tick_list:\n",
        "  getYahooFinanceData(files, tick_list[counter], start_date, end_date, 'test')\n",
        "  readCSVData(tick_list[counter], 'test')\n",
        "  counter += 1"
      ],
      "execution_count": 4,
      "outputs": [
        {
          "output_type": "stream",
          "text": [
            "\r[*********************100%***********************]  1 of 1 completed\n",
            "         Date          Open  ...     Adj Close      Volume\n",
            "0  2017-01-03  19872.859375  ...  19881.759766  3770530000\n",
            "1  2017-01-04  19890.939453  ...  19942.160156  3764890000\n",
            "2  2017-01-05  19922.560547  ...  19899.289062  3761820000\n",
            "3  2017-01-06  19906.960938  ...  19963.800781  3339890000\n",
            "4  2017-01-09  19931.410156  ...  19887.380859  3217610000\n",
            "\n",
            "[5 rows x 7 columns]\n"
          ],
          "name": "stdout"
        }
      ]
    },
    {
      "cell_type": "code",
      "metadata": {
        "id": "oUx8Ffxh-E-Q"
      },
      "source": [
        "# VISUALIZE FINANCE DATA - Functions\n",
        "\n",
        "# Source: https://www.kite.com/python/answers/how-to-read-specific-column-from-csv-file-in-python#:~:text=Use%20pandas.,read%20from%20the%20CSV%20file.\n",
        "# Source: https://datatofish.com/line-chart-python-matplotlib/\n",
        "\n",
        "# Imports\n",
        "import matplotlib.pyplot as plt\n",
        "\n",
        "# Create line graph\n",
        "def createLineGraph(tick, tag, x_col, y_col):\n",
        "  col = [x_col, y_col]\n",
        "  df = pd.read_csv(tick+'_'+tag+'.csv')\n",
        "  dx = df[x_col]\n",
        "  dy = df[y_col]\n",
        "  plt.plot(dx, dy)\n",
        "  plt.title(y_col + ' VS ' + x_col)\n",
        "  plt.xlabel(x_col)\n",
        "  plt.ylabel(y_col)"
      ],
      "execution_count": 5,
      "outputs": []
    },
    {
      "cell_type": "code",
      "metadata": {
        "id": "Kgc-168_AkVY",
        "colab": {
          "base_uri": "https://localhost:8080/",
          "height": 295
        },
        "outputId": "73da8fcb-3d07-4bb8-d0e7-99a7f7741101"
      },
      "source": [
        "# VISUALIZE FINANCE DATA - Executions\n",
        "\n",
        "createLineGraph('DJIA', 'test', \"Date\", \"Open\")"
      ],
      "execution_count": 6,
      "outputs": [
        {
          "output_type": "display_data",
          "data": {
            "image/png": "[encoded data removed]",
            "text/plain": [
              "<Figure size 432x288 with 1 Axes>"
            ]
          },
          "metadata": {
            "tags": [],
            "needs_background": "light"
          }
        }
      ]
    }
  ]
}