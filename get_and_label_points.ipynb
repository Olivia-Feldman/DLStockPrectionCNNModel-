{
  "nbformat": 4,
  "nbformat_minor": 0,
  "metadata": {
    "colab": {
      "name": "get_and_label_points.ipynb",
      "provenance": [],
      "authorship_tag": "ABX9TyM5ddiGZrjkaPENH2TyQeij",
      "include_colab_link": true
    },
    "kernelspec": {
      "name": "python3",
      "display_name": "Python 3"
    }
  },
  "cells": [
    {
      "cell_type": "markdown",
      "metadata": {
        "id": "view-in-github",
        "colab_type": "text"
      },
      "source": [
        "<a href=\"https://colab.research.google.com/github/Olivia-Feldman/DLStockPrectionCNNModel-/blob/Jack/get_and_label_points.ipynb\" target=\"_parent\"><img src=\"https://colab.research.google.com/assets/colab-badge.svg\" alt=\"Open In Colab\"/></a>"
      ]
    },
    {
      "cell_type": "code",
      "metadata": {
        "colab": {
          "base_uri": "https://localhost:8080/",
          "height": 803
        },
        "id": "cxSZWrZx2OsJ",
        "outputId": "d9a4d50d-e710-4522-b86d-eee725cb3370"
      },
      "source": [
        "# Install yfinance and googlefinance\n",
        "!pip install yfinance\n",
        "!pip3 install git+https://github.com/pdevty/googlefinance-client-python.git"
      ],
      "execution_count": 71,
      "outputs": [
        {
          "output_type": "stream",
          "text": [
            "Requirement already satisfied: yfinance in /usr/local/lib/python3.6/dist-packages (0.1.55)\n",
            "Requirement already satisfied: pandas>=0.24 in /usr/local/lib/python3.6/dist-packages (from yfinance) (1.1.5)\n",
            "Requirement already satisfied: multitasking>=0.0.7 in /usr/local/lib/python3.6/dist-packages (from yfinance) (0.0.9)\n",
            "Requirement already satisfied: lxml>=4.5.1 in /usr/local/lib/python3.6/dist-packages (from yfinance) (4.6.2)\n",
            "Requirement already satisfied: numpy>=1.15 in /usr/local/lib/python3.6/dist-packages (from yfinance) (1.19.5)\n",
            "Requirement already satisfied: requests>=2.20 in /usr/local/lib/python3.6/dist-packages (from yfinance) (2.23.0)\n",
            "Requirement already satisfied: pytz>=2017.2 in /usr/local/lib/python3.6/dist-packages (from pandas>=0.24->yfinance) (2018.9)\n",
            "Requirement already satisfied: python-dateutil>=2.7.3 in /usr/local/lib/python3.6/dist-packages (from pandas>=0.24->yfinance) (2.8.1)\n",
            "Requirement already satisfied: certifi>=2017.4.17 in /usr/local/lib/python3.6/dist-packages (from requests>=2.20->yfinance) (2020.12.5)\n",
            "Requirement already satisfied: idna<3,>=2.5 in /usr/local/lib/python3.6/dist-packages (from requests>=2.20->yfinance) (2.10)\n",
            "Requirement already satisfied: urllib3!=1.25.0,!=1.25.1,<1.26,>=1.21.1 in /usr/local/lib/python3.6/dist-packages (from requests>=2.20->yfinance) (1.24.3)\n",
            "Requirement already satisfied: chardet<4,>=3.0.2 in /usr/local/lib/python3.6/dist-packages (from requests>=2.20->yfinance) (3.0.4)\n",
            "Requirement already satisfied: six>=1.5 in /usr/local/lib/python3.6/dist-packages (from python-dateutil>=2.7.3->pandas>=0.24->yfinance) (1.15.0)\n",
            "Collecting git+https://github.com/pdevty/googlefinance-client-python.git\n",
            "  Cloning https://github.com/pdevty/googlefinance-client-python.git to /tmp/pip-req-build-behkuwi7\n",
            "  Running command git clone -q https://github.com/pdevty/googlefinance-client-python.git /tmp/pip-req-build-behkuwi7\n",
            "Collecting datetime\n",
            "\u001b[?25l  Downloading https://files.pythonhosted.org/packages/73/22/a5297f3a1f92468cc737f8ce7ba6e5f245fcfafeae810ba37bd1039ea01c/DateTime-4.3-py2.py3-none-any.whl (60kB)\n",
            "\u001b[K     |████████████████████████████████| 61kB 2.5MB/s \n",
            "\u001b[?25hRequirement already satisfied: requests in /usr/local/lib/python3.6/dist-packages (from googlefinance.client==1.3.1) (2.23.0)\n",
            "Requirement already satisfied: pandas in /usr/local/lib/python3.6/dist-packages (from googlefinance.client==1.3.1) (1.1.5)\n",
            "Requirement already satisfied: pytz in /usr/local/lib/python3.6/dist-packages (from datetime->googlefinance.client==1.3.1) (2018.9)\n",
            "Collecting zope.interface\n",
            "\u001b[?25l  Downloading https://files.pythonhosted.org/packages/82/b0/da8afd9b3bd50c7665ecdac062f182982af1173c9081f9af7261091c5588/zope.interface-5.2.0-cp36-cp36m-manylinux2010_x86_64.whl (236kB)\n",
            "\u001b[K     |████████████████████████████████| 245kB 6.3MB/s \n",
            "\u001b[?25hRequirement already satisfied: certifi>=2017.4.17 in /usr/local/lib/python3.6/dist-packages (from requests->googlefinance.client==1.3.1) (2020.12.5)\n",
            "Requirement already satisfied: urllib3!=1.25.0,!=1.25.1,<1.26,>=1.21.1 in /usr/local/lib/python3.6/dist-packages (from requests->googlefinance.client==1.3.1) (1.24.3)\n",
            "Requirement already satisfied: chardet<4,>=3.0.2 in /usr/local/lib/python3.6/dist-packages (from requests->googlefinance.client==1.3.1) (3.0.4)\n",
            "Requirement already satisfied: idna<3,>=2.5 in /usr/local/lib/python3.6/dist-packages (from requests->googlefinance.client==1.3.1) (2.10)\n",
            "Requirement already satisfied: numpy>=1.15.4 in /usr/local/lib/python3.6/dist-packages (from pandas->googlefinance.client==1.3.1) (1.19.5)\n",
            "Requirement already satisfied: python-dateutil>=2.7.3 in /usr/local/lib/python3.6/dist-packages (from pandas->googlefinance.client==1.3.1) (2.8.1)\n",
            "Requirement already satisfied: setuptools in /usr/local/lib/python3.6/dist-packages (from zope.interface->datetime->googlefinance.client==1.3.1) (53.0.0)\n",
            "Requirement already satisfied: six>=1.5 in /usr/local/lib/python3.6/dist-packages (from python-dateutil>=2.7.3->pandas->googlefinance.client==1.3.1) (1.15.0)\n",
            "Building wheels for collected packages: googlefinance.client\n",
            "  Building wheel for googlefinance.client (setup.py) ... \u001b[?25l\u001b[?25hdone\n",
            "  Created wheel for googlefinance.client: filename=googlefinance.client-1.3.1-cp36-none-any.whl size=4296 sha256=8248bafb4cda6897cffb8793e357fdb1d8f2b3de753eef590184b17f4322e3f1\n",
            "  Stored in directory: /tmp/pip-ephem-wheel-cache-req4ll95/wheels/19/c9/a9/ddbb6543f61ab423f0533a932f6e7a41545e04b955bc492515\n",
            "Successfully built googlefinance.client\n",
            "Installing collected packages: zope.interface, datetime, googlefinance.client\n",
            "Successfully installed datetime-4.3 googlefinance.client-1.3.1 zope.interface-5.2.0\n"
          ],
          "name": "stdout"
        },
        {
          "output_type": "display_data",
          "data": {
            "application/vnd.colab-display-data+json": {
              "pip_warning": {
                "packages": [
                  "googlefinance"
                ]
              }
            }
          },
          "metadata": {
            "tags": []
          }
        }
      ]
    },
    {
      "cell_type": "code",
      "metadata": {
        "id": "YYGV_kMN8iXQ"
      },
      "source": [
        "# IMPORT YAHOO/GOOGLE FINANCE DATA - Functions\n",
        "# Source: https://medium.com/@jouneidraza522/yahoo-finance-api-to-get-stocks-tickers-data-in-python-c49820249a18\n",
        "# Source: https://pypi.org/project/googlefinance/\n",
        "\n",
        "# Imports\n",
        "from pandas_datareader import data as pdr\n",
        "from datetime import date as dt # FIX: only import date\n",
        "import yfinance as yf \n",
        "yf.pdr_override()\n",
        "import pandas as pd\n",
        "from googlefinance.get import get_datum\n",
        "from googlefinance.get import get_code\n",
        "import json\n",
        "\n",
        "# Define saveData function\n",
        "def saveData(df, name):\n",
        "  df.to_csv(name + '.csv')\n",
        "\n",
        "# Define readCSVData function\n",
        "def readCSVData (ticker, tag):\n",
        "  df = pd.read_csv(ticker + '_' + tag + '.csv')\n",
        "  print(df.head())\n",
        "  return df\n",
        "\n",
        "# Define getYahooFinanceData function\n",
        "def getYahooFinanceData(files, ticker, start_date, end_date, tag):\n",
        "  # Save to files list\n",
        "  data = pdr.get_data_yahoo(ticker, start=start_date, end=end_date)\n",
        "  dataName = ticker + '_' + tag\n",
        "  files.append(dataName)\n",
        "\n",
        "  # Save data to file\n",
        "  saveData(data, dataName)\n",
        "\n",
        "# Define getGoogleFinanceData function\n",
        "def getGoogleFinanceData(files, ticker, name, tag):\n",
        "  data = get_datum(ticker, period='4Y', interval=86400)\n",
        "  print(data)\n",
        "  dataName = name + '_' + tag\n",
        "  files.append(dataName)\n",
        "\n",
        "  # Save data to file\n",
        "  saveData(data, dataName)"
      ],
      "execution_count": 63,
      "outputs": []
    },
    {
      "cell_type": "code",
      "metadata": {
        "id": "gFO4PQzPGV8q"
      },
      "source": [
        "data = get_datum('NASDAQ:TSLA', period='1Y', interval=86400)\n",
        "print(data)"
      ],
      "execution_count": null,
      "outputs": []
    },
    {
      "cell_type": "code",
      "metadata": {
        "id": "9MrzDUdl8zRi",
        "outputId": "b47c8a42-c51f-41c4-f393-f637ade3b616",
        "colab": {
          "base_uri": "https://localhost:8080/"
        }
      },
      "source": [
        "# IMPORT YAHOO/GOOGLE FINANCE DATA - Executions\n",
        "\n",
        "# Yahoo Finance\n",
        "\n",
        "# Tickerlist\n",
        "tick_list = ['DJIA'] # Ticker list\n",
        "\n",
        "today = dt.today() # Get today's date\n",
        "\n",
        "# Choose start and sotp dates\n",
        "start_date = \"2017-01-01\"\n",
        "end_date = \"2020-12-31\"\n",
        "\n",
        "# Initialize files list\n",
        "files = []\n",
        "\n",
        "counter = 0\n",
        "for tick in tick_list:\n",
        "  getYahooFinanceData(files, tick_list[counter], start_date, end_date, 'test')\n",
        "  #readCSVData(tick_list[counter], 'test')\n",
        "  counter += 1\n",
        "\n",
        "# Google Finance\n",
        "tick_list_2 = ['NASDAQ:TSLA', 'NASDAQ: AMZN']\n",
        "tick_list_2_names = ['TSLA', 'AMZN']\n",
        "\n",
        "counter = 0\n",
        "for tick in tick_list:\n",
        "  getGoogleFinanceData(files, tick_list_2[counter], tick_list_2_names[counter], 'test2')\n",
        "  #readCSVData(tick_list_2_names[counter], 'test2')\n",
        "  counter += 1"
      ],
      "execution_count": 57,
      "outputs": [
        {
          "output_type": "stream",
          "text": [
            "\r[*********************100%***********************]  1 of 1 completed\n"
          ],
          "name": "stdout"
        }
      ]
    },
    {
      "cell_type": "code",
      "metadata": {
        "id": "oUx8Ffxh-E-Q"
      },
      "source": [
        "# VISUALIZE FINANCE DATA - Functions\n",
        "\n",
        "# Source: https://www.kite.com/python/answers/how-to-read-specific-column-from-csv-file-in-python#:~:text=Use%20pandas.,read%20from%20the%20CSV%20file.\n",
        "# Source: https://datatofish.com/line-chart-python-matplotlib/\n",
        "\n",
        "# Imports\n",
        "import matplotlib.pyplot as plt\n",
        "\n",
        "# Create line graph\n",
        "def createLineGraph(tick, tag, x_col, y_col):\n",
        "  col = [x_col, y_col]\n",
        "  df = pd.read_csv(tick+'_'+tag+'.csv')\n",
        "  dx = df[x_col]\n",
        "  dy = df[y_col]\n",
        "  plt.plot(dx, dy)\n",
        "  plt.title(y_col + ' VS ' + x_col)\n",
        "  plt.xlabel(x_col)\n",
        "  plt.ylabel(y_col)"
      ],
      "execution_count": 55,
      "outputs": []
    },
    {
      "cell_type": "code",
      "metadata": {
        "id": "uibeX-7dB-v_"
      },
      "source": [
        "@"
      ],
      "execution_count": null,
      "outputs": []
    },
    {
      "cell_type": "code",
      "metadata": {
        "id": "Kgc-168_AkVY",
        "outputId": "d72e9a09-60ca-4ca4-d339-1a08840a3302",
        "colab": {
          "base_uri": "https://localhost:8080/",
          "height": 295
        }
      },
      "source": [
        "# VISUALIZE FINANCE DATA - Executions\n",
        "\n",
        "createLineGraph('TSLA', 'test2', \"date\", \"Open\")"
      ],
      "execution_count": 56,
      "outputs": [
        {
          "output_type": "display_data",
          "data": {
            "image/png": "[encoded data removed]",
            "text/plain": [
              "<Figure size 432x288 with 1 Axes>"
            ]
          },
          "metadata": {
            "tags": [],
            "needs_background": "light"
          }
        }
      ]
    }
  ]
}