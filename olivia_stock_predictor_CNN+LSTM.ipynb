{
  "nbformat": 4,
  "nbformat_minor": 0,
  "metadata": {
    "colab": {
      "name": "stock_predictor_CNN+LSTM.ipynb",
      "provenance": [],
      "toc_visible": true,
      "include_colab_link": true
    },
    "kernelspec": {
      "name": "python3",
      "display_name": "Python 3"
    },
    "language_info": {
      "name": "python"
    }
  },
  "cells": [
    {
      "cell_type": "markdown",
      "metadata": {
        "id": "view-in-github",
        "colab_type": "text"
      },
      "source": [
        "<a href=\"https://colab.research.google.com/github/Olivia-Feldman/DLStockPrectionCNNModel-/blob/Olivia/olivia_stock_predictor_CNN%2BLSTM.ipynb\" target=\"_parent\"><img src=\"https://colab.research.google.com/assets/colab-badge.svg\" alt=\"Open In Colab\"/></a>"
      ]
    },
    {
      "cell_type": "markdown",
      "metadata": {
        "id": "vEVXDkLxRqf3"
      },
      "source": [
        "# Default Imports"
      ]
    },
    {
      "cell_type": "code",
      "metadata": {
        "id": "e-qCNW9g0aGK",
        "colab": {
          "base_uri": "https://localhost:8080/"
        },
        "outputId": "6dd23874-a724-4d9d-ff30-b4f209669340"
      },
      "source": [
        "import requests\n",
        "import pandas as pd\n",
        "import numpy as np\n",
        "from datetime import datetime\n",
        "import matplotlib.pyplot as plt\n",
        "import matplotlib.ticker as tick\n",
        "from sklearn.preprocessing import StandardScaler, MinMaxScaler\n",
        "!pip install pandas_ta\n",
        "import pandas_ta as ta"
      ],
      "execution_count": 1,
      "outputs": [
        {
          "output_type": "stream",
          "text": [
            "Collecting pandas_ta\n",
            "\u001b[?25l  Downloading https://files.pythonhosted.org/packages/f8/6f/3a19cf5153f6b91684cbe641d42f7d6a2e518f237be234e949adeceeffe1/pandas_ta-0.2.45b.tar.gz (88kB)\n",
            "\r\u001b[K     |███▊                            | 10kB 13.9MB/s eta 0:00:01\r\u001b[K     |███████▍                        | 20kB 9.3MB/s eta 0:00:01\r\u001b[K     |███████████▏                    | 30kB 8.4MB/s eta 0:00:01\r\u001b[K     |██████████████▉                 | 40kB 7.5MB/s eta 0:00:01\r\u001b[K     |██████████████████▋             | 51kB 4.5MB/s eta 0:00:01\r\u001b[K     |██████████████████████▎         | 61kB 4.3MB/s eta 0:00:01\r\u001b[K     |██████████████████████████      | 71kB 4.9MB/s eta 0:00:01\r\u001b[K     |█████████████████████████████▊  | 81kB 5.0MB/s eta 0:00:01\r\u001b[K     |████████████████████████████████| 92kB 3.5MB/s \n",
            "\u001b[?25hRequirement already satisfied: pandas in /usr/local/lib/python3.7/dist-packages (from pandas_ta) (1.1.5)\n",
            "Requirement already satisfied: numpy>=1.15.4 in /usr/local/lib/python3.7/dist-packages (from pandas->pandas_ta) (1.19.5)\n",
            "Requirement already satisfied: pytz>=2017.2 in /usr/local/lib/python3.7/dist-packages (from pandas->pandas_ta) (2018.9)\n",
            "Requirement already satisfied: python-dateutil>=2.7.3 in /usr/local/lib/python3.7/dist-packages (from pandas->pandas_ta) (2.8.1)\n",
            "Requirement already satisfied: six>=1.5 in /usr/local/lib/python3.7/dist-packages (from python-dateutil>=2.7.3->pandas->pandas_ta) (1.15.0)\n",
            "Building wheels for collected packages: pandas-ta\n",
            "  Building wheel for pandas-ta (setup.py) ... \u001b[?25l\u001b[?25hdone\n",
            "  Created wheel for pandas-ta: filename=pandas_ta-0.2.45b0-cp37-none-any.whl size=175305 sha256=3e5955f9d07fc318541a16a132882a38416bd092099988b0298a656cc3b8c12f\n",
            "  Stored in directory: /root/.cache/pip/wheels/78/76/74/e4b09c98fc91d7e1e0a56f4fe067796f216deacaa509234579\n",
            "Successfully built pandas-ta\n",
            "Installing collected packages: pandas-ta\n",
            "Successfully installed pandas-ta-0.2.45b0\n"
          ],
          "name": "stdout"
        }
      ]
    },
    {
      "cell_type": "markdown",
      "metadata": {
        "id": "AJgxPqtSRvna"
      },
      "source": [
        "# Set Plot Stylizations"
      ]
    },
    {
      "cell_type": "code",
      "metadata": {
        "id": "sudhkGWzRwNL"
      },
      "source": [
        "plt.rcParams.update({'font.size': 16})\n",
        "plt.rcParams['figure.figsize'] = [12, 8]\n",
        "plt.style.use('dark_background')"
      ],
      "execution_count": 2,
      "outputs": []
    },
    {
      "cell_type": "markdown",
      "metadata": {
        "id": "sNi5ukeJSAoz"
      },
      "source": [
        "# Method for getting ticker data using Yahoo Finance API\n",
        "\n",
        "This method downloads json data from the Yahoo! finance API and organizes it into a Pandas dataframe. The time frame of the data can start and end wherever the user wants it to. The start and end dates need to be a String in the form of a Unix Timestamp.\n",
        "\n",
        "*Parameters:*\n",
        "\n",
        "    ticker: String that specifies the trading ticker of the equity \n",
        "    startData: String that specifies the start time of the dataset. Formatted as a Unix Timestamp\n",
        "    endData: String that specifies the start time of the dataset. Formatted as a Unix Timestamp\n",
        "\n",
        "*Returns:*\n",
        "\n",
        "    df: Pandas dataframe with timestamp, open, high, low, close, and volume of a ticker\n",
        "\n",
        "\n",
        "*Resources:*\n",
        "*   [Dataframe.shift](https://pandas.pydata.org/docs/reference/api/pandas.DataFrame.shift.html)\n",
        "\n"
      ]
    },
    {
      "cell_type": "code",
      "metadata": {
        "id": "6ivlzMPCR_h3"
      },
      "source": [
        "def getStockDataInRange(ticker: str, startDate: str, endDate: str):\n",
        "    url = \"https://query1.finance.yahoo.com/v8/finance/chart/\" + ticker + \"?period1=\" + startDate + \"&period2=\" + endDate + \"&useYfid=true&interval=1d&includePrePost=true&events=div%7Csplit%7Cearn&lang=en-US&region=US&crumb=Yo9B6QaqJUD&corsDomain=finance.yahoo.com\"\n",
        "    x = requests.get(url)\n",
        "    jsonResponse = x.json()\n",
        "    timestamps = jsonResponse[\"chart\"][\"result\"][0][\"timestamp\"]\n",
        "    open = jsonResponse[\"chart\"][\"result\"][0][\"indicators\"][\"quote\"][0][\"open\"]\n",
        "    high = jsonResponse[\"chart\"][\"result\"][0][\"indicators\"][\"quote\"][0][\"high\"]\n",
        "    low = jsonResponse[\"chart\"][\"result\"][0][\"indicators\"][\"quote\"][0][\"low\"]\n",
        "    close = jsonResponse[\"chart\"][\"result\"][0][\"indicators\"][\"quote\"][0][\"close\"]\n",
        "    volume = jsonResponse[\"chart\"][\"result\"][0][\"indicators\"][\"quote\"][0][\"volume\"]\n",
        "\n",
        "    datetimes = list(map(toDatetime, timestamps))\n",
        "\n",
        "    data = {\n",
        "        'timestamps' : datetimes,\n",
        "        'open' : open,\n",
        "        'high' : high,\n",
        "        'low' : low,\n",
        "        'close' : close,\n",
        "        'volume' : volume\n",
        "    }\n",
        "\n",
        "    df = pd.DataFrame(data, columns=['timestamps', 'open', 'high', 'low', 'close', 'volume'])\n",
        "    # Difference if based on 'close' price\n",
        "    df['diff'] = df['close'].diff()\n",
        "    df['change'] = df['diff'] / df['close'].shift(periods=1) * 100\n",
        "    return df\n",
        "\n",
        "def toDatetime(t):\n",
        "    return datetime.fromtimestamp(t)"
      ],
      "execution_count": 3,
      "outputs": []
    },
    {
      "cell_type": "markdown",
      "metadata": {
        "id": "3EIF4l2QSH5N"
      },
      "source": [
        "# Creating Dataframe with stock data"
      ]
    },
    {
      "cell_type": "code",
      "metadata": {
        "id": "om2Lzr9VSQZZ"
      },
      "source": [
        "ticker = 'QQQ'\n",
        "endDate = datetime.now().strftime('%s')\n",
        "startDate = datetime(year=2009, month=1, day=1, hour=0, minute=0).strftime('%s')\n",
        "\n",
        "df = getStockDataInRange(ticker=ticker, startDate=startDate, endDate=endDate)"
      ],
      "execution_count": 4,
      "outputs": []
    },
    {
      "cell_type": "markdown",
      "metadata": {
        "id": "DfrjltBANH2d"
      },
      "source": [
        "# Function for plotting stock prices of data frame"
      ]
    },
    {
      "cell_type": "code",
      "metadata": {
        "id": "GCsctw6wNHR3"
      },
      "source": [
        "def visualize_prices(df, x_values, y_values):\n",
        "    ax = df.plot(x=x_values, y=[y_values], kind='line', title=ticker + ' prices in set range')\n",
        "    vals = ax.get_yticks()\n",
        "    ax.set_yticklabels(['${:1.2f}'.format(x) for x in vals])\n",
        "    ax.xaxis.grid(True, which='minor', linestyle='-', linewidth=0.25)\n",
        "    ax.set_axisbelow(True)\n",
        "    ax.grid(linestyle='-', linewidth='0.5', color='gray')\n",
        "\n",
        "    plt.show()"
      ],
      "execution_count": 5,
      "outputs": []
    },
    {
      "cell_type": "markdown",
      "metadata": {
        "id": "efbqcFC6S2Ey"
      },
      "source": [
        "# Plotting QQQ open prices from January 1, 2009 to the current day using Unix Timestamps"
      ]
    },
    {
      "cell_type": "code",
      "metadata": {
        "colab": {
          "base_uri": "https://localhost:8080/",
          "height": 503
        },
        "id": "YuaVPua0SzdS",
        "outputId": "cb494294-8efb-4032-9e5b-dcc3475d8520"
      },
      "source": [
        "visualize_prices(df, 'timestamps', 'open')\n",
        "\n",
        "# ax = df.plot(x='timestamps', y=['open'], kind='line', title=ticker + ' prices in set range')\n",
        "# vals = ax.get_yticks()\n",
        "# ax.set_yticklabels(['${:1.2f}'.format(x) for x in vals])\n",
        "# ax.xaxis.grid(True, which='minor', linestyle='-', linewidth=0.25)\n",
        "# ax.set_axisbelow(True)\n",
        "# ax.grid(linestyle='-', linewidth='0.5', color='gray')\n",
        "\n",
        "# plt.show()"
      ],
      "execution_count": 6,
      "outputs": [
        {
          "output_type": "display_data",
          "data": {
            "image/png": "[encoded data removed]",
            "text/plain": [
              "<Figure size 864x576 with 1 Axes>"
            ]
          },
          "metadata": {
            "tags": []
          }
        }
      ]
    },
    {
      "cell_type": "markdown",
      "metadata": {
        "id": "J3n-jeZuW5zh"
      },
      "source": [
        "# Showing Dataframe head"
      ]
    },
    {
      "cell_type": "code",
      "metadata": {
        "colab": {
          "base_uri": "https://localhost:8080/",
          "height": 204
        },
        "id": "OAWLK78DW8lg",
        "outputId": "3e1985ec-82ce-4eb1-fa84-29e8e8eee706"
      },
      "source": [
        "df.head()"
      ],
      "execution_count": 7,
      "outputs": [
        {
          "output_type": "execute_result",
          "data": {
            "text/html": [
              "<div>\n",
              "<style scoped>\n",
              "    .dataframe tbody tr th:only-of-type {\n",
              "        vertical-align: middle;\n",
              "    }\n",
              "\n",
              "    .dataframe tbody tr th {\n",
              "        vertical-align: top;\n",
              "    }\n",
              "\n",
              "    .dataframe thead th {\n",
              "        text-align: right;\n",
              "    }\n",
              "</style>\n",
              "<table border=\"1\" class=\"dataframe\">\n",
              "  <thead>\n",
              "    <tr style=\"text-align: right;\">\n",
              "      <th></th>\n",
              "      <th>timestamps</th>\n",
              "      <th>open</th>\n",
              "      <th>high</th>\n",
              "      <th>low</th>\n",
              "      <th>close</th>\n",
              "      <th>volume</th>\n",
              "      <th>diff</th>\n",
              "      <th>change</th>\n",
              "    </tr>\n",
              "  </thead>\n",
              "  <tbody>\n",
              "    <tr>\n",
              "      <th>0</th>\n",
              "      <td>2009-01-02 14:30:00</td>\n",
              "      <td>29.750000</td>\n",
              "      <td>31.129999</td>\n",
              "      <td>29.690001</td>\n",
              "      <td>31.030001</td>\n",
              "      <td>107891500</td>\n",
              "      <td>NaN</td>\n",
              "      <td>NaN</td>\n",
              "    </tr>\n",
              "    <tr>\n",
              "      <th>1</th>\n",
              "      <td>2009-01-05 14:30:00</td>\n",
              "      <td>30.830000</td>\n",
              "      <td>31.330000</td>\n",
              "      <td>30.590000</td>\n",
              "      <td>31.020000</td>\n",
              "      <td>91751900</td>\n",
              "      <td>-0.010000</td>\n",
              "      <td>-0.032228</td>\n",
              "    </tr>\n",
              "    <tr>\n",
              "      <th>2</th>\n",
              "      <td>2009-01-06 14:30:00</td>\n",
              "      <td>31.250000</td>\n",
              "      <td>31.629999</td>\n",
              "      <td>31.110001</td>\n",
              "      <td>31.330000</td>\n",
              "      <td>136791700</td>\n",
              "      <td>0.309999</td>\n",
              "      <td>0.999354</td>\n",
              "    </tr>\n",
              "    <tr>\n",
              "      <th>3</th>\n",
              "      <td>2009-01-07 14:30:00</td>\n",
              "      <td>30.730000</td>\n",
              "      <td>30.900000</td>\n",
              "      <td>30.190001</td>\n",
              "      <td>30.440001</td>\n",
              "      <td>133879800</td>\n",
              "      <td>-0.889999</td>\n",
              "      <td>-2.840726</td>\n",
              "    </tr>\n",
              "    <tr>\n",
              "      <th>4</th>\n",
              "      <td>2009-01-08 14:30:00</td>\n",
              "      <td>30.379999</td>\n",
              "      <td>30.799999</td>\n",
              "      <td>30.080000</td>\n",
              "      <td>30.760000</td>\n",
              "      <td>131926600</td>\n",
              "      <td>0.320000</td>\n",
              "      <td>1.051247</td>\n",
              "    </tr>\n",
              "  </tbody>\n",
              "</table>\n",
              "</div>"
            ],
            "text/plain": [
              "           timestamps       open       high  ...     volume      diff    change\n",
              "0 2009-01-02 14:30:00  29.750000  31.129999  ...  107891500       NaN       NaN\n",
              "1 2009-01-05 14:30:00  30.830000  31.330000  ...   91751900 -0.010000 -0.032228\n",
              "2 2009-01-06 14:30:00  31.250000  31.629999  ...  136791700  0.309999  0.999354\n",
              "3 2009-01-07 14:30:00  30.730000  30.900000  ...  133879800 -0.889999 -2.840726\n",
              "4 2009-01-08 14:30:00  30.379999  30.799999  ...  131926600  0.320000  1.051247\n",
              "\n",
              "[5 rows x 8 columns]"
            ]
          },
          "metadata": {
            "tags": []
          },
          "execution_count": 7
        }
      ]
    },
    {
      "cell_type": "markdown",
      "metadata": {
        "id": "AZKwPB2hZjly"
      },
      "source": [
        "# Creating Training Data"
      ]
    },
    {
      "cell_type": "code",
      "metadata": {
        "colab": {
          "base_uri": "https://localhost:8080/",
          "height": 741
        },
        "id": "6No5LdOJZmdX",
        "outputId": "47e69335-63d8-4abe-de98-f83d3d4ec2d6"
      },
      "source": [
        "training_data = df[df['timestamps']<'2020-01-01'].copy()\n",
        "\n",
        "visualize_prices(training_data, 'timestamps', 'open')\n",
        "\n",
        "training_data = training_data.drop(['timestamps'], axis=1)\n",
        "training_data = training_data.iloc[1:]    # Drops first row in dataframe\n",
        "training_copy = training_data   # Need this to append last n row to testing data later\n",
        "print(training_data )\n",
        "#training_data.head() "
      ],
      "execution_count": 8,
      "outputs": [
        {
          "output_type": "display_data",
          "data": {
            "image/png": "[encoded data removed]",
            "text/plain": [
              "<Figure size 864x576 with 1 Axes>"
            ]
          },
          "metadata": {
            "tags": []
          }
        },
        {
          "output_type": "stream",
          "text": [
            "            open        high         low  ...     volume      diff    change\n",
            "1      30.830000   31.330000   30.590000  ...   91751900 -0.010000 -0.032228\n",
            "2      31.250000   31.629999   31.110001  ...  136791700  0.309999  0.999354\n",
            "3      30.730000   30.900000   30.190001  ...  133879800 -0.889999 -2.840726\n",
            "4      30.379999   30.799999   30.080000  ...  131926600  0.320000  1.051247\n",
            "5      30.770000   30.790001   29.920000  ...  117137900 -0.690001 -2.243175\n",
            "...          ...         ...         ...  ...        ...       ...       ...\n",
            "2763  212.000000  212.089996  211.440002  ...    7089000  0.110001  0.051934\n",
            "2764  212.259995  213.809998  212.229996  ...   17067500  1.869995  0.882406\n",
            "2765  214.539993  214.559998  213.039993  ...   18134100 -0.179993 -0.084191\n",
            "2766  213.500000  213.630005  211.160004  ...   21815500 -1.399994 -0.655397\n",
            "2767  211.529999  212.759995  211.199997  ...   18170900  0.399994  0.188490\n",
            "\n",
            "[2767 rows x 7 columns]\n"
          ],
          "name": "stdout"
        }
      ]
    },
    {
      "cell_type": "code",
      "metadata": {
        "id": "YDdV5l5jlk4-"
      },
      "source": [
        "from pandas_ta import ppo,hma,psar,cmo,tema,cmf,trix, kst,macd,roc,ema,dema,cci,rsi,willr,stoch,mfi,bbands\n",
        "import pandas_ta  as ta"
      ],
      "execution_count": 9,
      "outputs": []
    },
    {
      "cell_type": "code",
      "metadata": {
        "id": "J5lTwmNimb2X",
        "colab": {
          "base_uri": "https://localhost:8080/"
        },
        "outputId": "e3ad66cb-d21f-48a5-c201-e201c419d0b3"
      },
      "source": [
        "    dftemp = pd.DataFrame\n",
        "    dftemp = bbands(df['close']).fillna(0)\n",
        "    print(dftemp)"
      ],
      "execution_count": 10,
      "outputs": [
        {
          "output_type": "stream",
          "text": [
            "       BBL_5_2.0   BBM_5_2.0   BBU_5_2.0  BBB_5_2.0\n",
            "0       0.000000    0.000000    0.000000   0.000000\n",
            "1       0.000000    0.000000    0.000000   0.000000\n",
            "2       0.000000    0.000000    0.000000   0.000000\n",
            "3       0.000000    0.000000    0.000000   0.000000\n",
            "4      30.248079   30.916000   31.583922   4.320881\n",
            "...          ...         ...         ...        ...\n",
            "3094  333.721221  339.084003  344.446785   3.163099\n",
            "3095  335.097894  339.640002  344.182111   2.674661\n",
            "3096  333.043322  338.358008  343.672693   3.141457\n",
            "3097  334.006602  337.840009  341.673415   2.269362\n",
            "3098  333.245596  338.390009  343.534421   3.040523\n",
            "\n",
            "[3099 rows x 4 columns]\n"
          ],
          "name": "stdout"
        }
      ]
    },
    {
      "cell_type": "code",
      "metadata": {
        "id": "Vqtc36wSlla4"
      },
      "source": [
        "\n",
        "######################################## Trend Indicators ############################\n",
        "\n",
        "# MACD: Moving Average Convergance Diverage Momentum\n",
        "def calculate_macd(df, iteration):\n",
        "    dftemp = pd.DataFrame\n",
        "    dftemp = macd(df['close']).fillna(0)\n",
        "    df['MACD_'+str(iteration)] = dftemp['MACD_12_26_9' ]\n",
        "# ROC: Price Rate of Change\n",
        "def calculate_roc(df, iteration):\n",
        "    dftemp = pd.DataFrame\n",
        "    dftemp = roc(df['close']).fillna(0)\n",
        "    df['ROC_'+str(iteration)] = dftemp\n",
        "# EMA: Exponential Moving Average\n",
        "def calculate_ema(df, iteration):\n",
        "    dftemp = pd.DataFrame\n",
        "    dftemp = ema(df['close']).fillna(0)\n",
        "    df['EMA_'+str(iteration)] = dftemp\n",
        "\n",
        "# DEMA: Double Exponential Moving Average\n",
        "def calculate_dema(df, iteration):\n",
        "    dftemp = pd.DataFrame\n",
        "    dftemp = dema(df['close']).fillna(0)\n",
        "    df['DEMA_'+str(iteration)] = dftemp\n",
        "   \n",
        "# CCI: Commodity Channel Index\n",
        "def calculate_cci(df, iteration):  \n",
        "    dftemp = pd.DataFrame\n",
        "    dftemp = cci(df['high'],df['low'],df['close']).fillna(0)\n",
        "    df['CCI_'+str(iteration)] = dftemp\n",
        "\n",
        "# RSI: Relative Strength Index     \n",
        "def calculate_rsi(df, iteration):\n",
        "    dftemp = pd.DataFrame\n",
        "    dftemp = rsi(df['close']).fillna(0)\n",
        "    df['RSI_'+str(iteration)] = dftemp\n",
        "\n",
        "# WR: Williams %R Indicator\n",
        "def calculate_WR(df, iteration):\n",
        "    dftemp = pd.DataFrame\n",
        "    dftemp = willr(df['high'],df['low'],df['close']).fillna(0)\n",
        "    df['WR_'+str(iteration)] = dftemp\n",
        "\n",
        "# SR: Stochastic Oscillator\n",
        "def calculate_sr(df, iteration):\n",
        "    dftemp = pd.DataFrame\n",
        "    dftemp = stoch(df['high'],df['low'],df['close']).fillna(0)\n",
        "    df['SR_'+str(iteration)] = dftemp[\"STOCHd_14_3_3\"]\n",
        "\n",
        "# MFI: Money Flow Index\n",
        "def calculate_mfi(df, iteration):\n",
        "    dftemp = pd.DataFrame\n",
        "    dftemp = mfi(df['high'],df['low'],df['close'],df['volume']).fillna(0)\n",
        "    df['MFI_'+str(iteration)] = dftemp\n",
        " # BB: Bollinger Band look at data frame return  \n",
        "def calculate_bb(df, iteration):\n",
        "    dftemp = pd.DataFrame\n",
        "    dftemp = bbands(df['close']).fillna(0)\n",
        "    df['BB_'+str(iteration)] = dftemp['BBB_5_2.0']\n",
        "def calculate_cmo(df,iteration):\n",
        "    dftemp = pd.DataFrame\n",
        "    dftemp = cmo(df['close'])\n",
        "    df['CMO_' + str(iteration)] = dftemp.fillna(0)\n",
        "def calculate_tema(df,iteration):\n",
        "    dftemp = pd.DataFrame\n",
        "    dftemp = tema(df['close'])\n",
        "    df['TEMA_' + str(iteration)] = dftemp.fillna(0)\n",
        "def calculate_cmf(df,iteration):\n",
        "    dftemp = pd.DataFrame\n",
        "    dftemp = cmf(df['high'],df['low'],df['close'],df['volume']).fillna(0)\n",
        "    df['CMF_' + str(iteration)] = dftemp\n",
        "def calculate_trix(df,iteration):\n",
        "    dftemp = pd.DataFrame\n",
        "    dftemp = trix(df['close']).fillna(0)\n",
        "    df['TRIX_' + str(iteration)] = dftemp['TRIX_30_9']\n",
        "def calculate_kst(df,iteration):\n",
        "    dftemp = pd.DataFrame\n",
        "    dftemp = kst(df['close']).fillna(0)\n",
        "    df['KST_' + str(iteration)] = dftemp['KST_10_15_20_30_10_10_10_15']"
      ],
      "execution_count": 11,
      "outputs": []
    },
    {
      "cell_type": "code",
      "metadata": {
        "id": "u09ZmsmYrBuG"
      },
      "source": [
        "indicator_range = 20\n",
        "x = 6\n",
        "\n",
        "for x in range(6, indicator_range+1):\n",
        "    calculate_macd(df, x)\n",
        "for x in range(6, indicator_range+1):\n",
        "    calculate_rsi(df, x)\n",
        "for x in range(6, indicator_range+1):\n",
        "    calculate_sr(df, x)\n",
        "for x in range(6, indicator_range+1):\n",
        "    calculate_WR(df, x)\n",
        "for x in range(6, indicator_range+1):\n",
        "    calculate_ema(df, x)\n",
        "for x in range(6, indicator_range+1):\n",
        "    calculate_mfi(df, x)\n",
        "for x in range(6, indicator_range+1):\n",
        "    calculate_bb(df, x)\n",
        "for x in range(6, indicator_range+1):\n",
        "    calculate_dema(df, x)\n",
        "for x in range(6, indicator_range+1):\n",
        "    calculate_cci(df, x)\n",
        "for x in range(6, indicator_range+1):\n",
        "    calculate_roc(df, x)\n",
        "for x in range(6, indicator_range+1):\n",
        "    calculate_cmo(df, x)\n",
        "for x in range(6, indicator_range+1):\n",
        "    calculate_tema(df, x)\n",
        "for x in range(6, indicator_range+1):\n",
        "    calculate_cmf(df, x)\n",
        "for x in range(6, indicator_range+1):\n",
        "    calculate_trix(df, x)\n",
        "for x in range(6, indicator_range+1):\n",
        "    calculate_kst(df, x)"
      ],
      "execution_count": 12,
      "outputs": []
    },
    {
      "cell_type": "code",
      "metadata": {
        "id": "Xk_P4CkFsf_o",
        "colab": {
          "base_uri": "https://localhost:8080/"
        },
        "outputId": "1ac1a7cb-aa68-454c-ab53-7a378a7f47e2"
      },
      "source": [
        "from sklearn.model_selection import train_test_split\n",
        "list_features = list(df.loc[:, 'open': 'KST_'+str(indicator_range)].columns) # Gets the names of all the columns from MACD to RSI\n",
        "print('Total number of features', len(list_features))\n",
        "print(\"Columns:\", list_features)\n",
        "\n",
        "x_train, x_test, y_train, y_test = train_test_split(df.loc[:, 'MACD_6': 'KST_'+str(indicator_range)].values, df['open'].values, train_size=0.8, test_size=0.2, random_state=1, shuffle=True)"
      ],
      "execution_count": 30,
      "outputs": [
        {
          "output_type": "stream",
          "text": [
            "Total number of features 232\n",
            "Columns: ['open', 'high', 'low', 'close', 'volume', 'diff', 'change', 'MACD_6', 'MACD_7', 'MACD_8', 'MACD_9', 'MACD_10', 'MACD_11', 'MACD_12', 'MACD_13', 'MACD_14', 'MACD_15', 'MACD_16', 'MACD_17', 'MACD_18', 'MACD_19', 'MACD_20', 'RSI_6', 'RSI_7', 'RSI_8', 'RSI_9', 'RSI_10', 'RSI_11', 'RSI_12', 'RSI_13', 'RSI_14', 'RSI_15', 'RSI_16', 'RSI_17', 'RSI_18', 'RSI_19', 'RSI_20', 'SR_6', 'SR_7', 'SR_8', 'SR_9', 'SR_10', 'SR_11', 'SR_12', 'SR_13', 'SR_14', 'SR_15', 'SR_16', 'SR_17', 'SR_18', 'SR_19', 'SR_20', 'WR_6', 'WR_7', 'WR_8', 'WR_9', 'WR_10', 'WR_11', 'WR_12', 'WR_13', 'WR_14', 'WR_15', 'WR_16', 'WR_17', 'WR_18', 'WR_19', 'WR_20', 'EMA_6', 'EMA_7', 'EMA_8', 'EMA_9', 'EMA_10', 'EMA_11', 'EMA_12', 'EMA_13', 'EMA_14', 'EMA_15', 'EMA_16', 'EMA_17', 'EMA_18', 'EMA_19', 'EMA_20', 'MFI_6', 'MFI_7', 'MFI_8', 'MFI_9', 'MFI_10', 'MFI_11', 'MFI_12', 'MFI_13', 'MFI_14', 'MFI_15', 'MFI_16', 'MFI_17', 'MFI_18', 'MFI_19', 'MFI_20', 'BB_6', 'BB_7', 'BB_8', 'BB_9', 'BB_10', 'BB_11', 'BB_12', 'BB_13', 'BB_14', 'BB_15', 'BB_16', 'BB_17', 'BB_18', 'BB_19', 'BB_20', 'DEMA_6', 'DEMA_7', 'DEMA_8', 'DEMA_9', 'DEMA_10', 'DEMA_11', 'DEMA_12', 'DEMA_13', 'DEMA_14', 'DEMA_15', 'DEMA_16', 'DEMA_17', 'DEMA_18', 'DEMA_19', 'DEMA_20', 'CCI_6', 'CCI_7', 'CCI_8', 'CCI_9', 'CCI_10', 'CCI_11', 'CCI_12', 'CCI_13', 'CCI_14', 'CCI_15', 'CCI_16', 'CCI_17', 'CCI_18', 'CCI_19', 'CCI_20', 'ROC_6', 'ROC_7', 'ROC_8', 'ROC_9', 'ROC_10', 'ROC_11', 'ROC_12', 'ROC_13', 'ROC_14', 'ROC_15', 'ROC_16', 'ROC_17', 'ROC_18', 'ROC_19', 'ROC_20', 'CMO_6', 'CMO_7', 'CMO_8', 'CMO_9', 'CMO_10', 'CMO_11', 'CMO_12', 'CMO_13', 'CMO_14', 'CMO_15', 'CMO_16', 'CMO_17', 'CMO_18', 'CMO_19', 'CMO_20', 'TEMA_6', 'TEMA_7', 'TEMA_8', 'TEMA_9', 'TEMA_10', 'TEMA_11', 'TEMA_12', 'TEMA_13', 'TEMA_14', 'TEMA_15', 'TEMA_16', 'TEMA_17', 'TEMA_18', 'TEMA_19', 'TEMA_20', 'CMF_6', 'CMF_7', 'CMF_8', 'CMF_9', 'CMF_10', 'CMF_11', 'CMF_12', 'CMF_13', 'CMF_14', 'CMF_15', 'CMF_16', 'CMF_17', 'CMF_18', 'CMF_19', 'CMF_20', 'TRIX_6', 'TRIX_7', 'TRIX_8', 'TRIX_9', 'TRIX_10', 'TRIX_11', 'TRIX_12', 'TRIX_13', 'TRIX_14', 'TRIX_15', 'TRIX_16', 'TRIX_17', 'TRIX_18', 'TRIX_19', 'TRIX_20', 'KST_6', 'KST_7', 'KST_8', 'KST_9', 'KST_10', 'KST_11', 'KST_12', 'KST_13', 'KST_14', 'KST_15', 'KST_16', 'KST_17', 'KST_18', 'KST_19', 'KST_20']\n"
          ],
          "name": "stdout"
        }
      ]
    },
    {
      "cell_type": "code",
      "metadata": {
        "id": "42o3xTXkf9io",
        "outputId": "948143e9-4ead-4e70-d842-1fe1b42e4a1f",
        "colab": {
          "base_uri": "https://localhost:8080/"
        }
      },
      "source": [
        "print(x_train.shape)"
      ],
      "execution_count": 31,
      "outputs": [
        {
          "output_type": "stream",
          "text": [
            "(2479, 225)\n"
          ],
          "name": "stdout"
        }
      ]
    },
    {
      "cell_type": "code",
      "metadata": {
        "id": "rQav1rBggxPO",
        "outputId": "a7290081-369e-4402-918c-72f8f7473b90",
        "colab": {
          "base_uri": "https://localhost:8080/"
        }
      },
      "source": [
        "def reshape_as_image(x, img_width, img_height):\n",
        "    x_temp = np.zeros((len(x), img_height, img_width))\n",
        "    for i in range(x.shape[0]):\n",
        "        # print(type(x), type(x_temp), x.shape)\n",
        "        x_temp[i] = np.reshape(x[i], (img_height, img_width))\n",
        "\n",
        "    return x_temp\n",
        "\n",
        "\n",
        "dim = int(np.sqrt(225))\n",
        "x_train = reshape_as_image(x_train, dim, dim)\n",
        "x_cv = reshape_as_image(x_train, dim, dim)\n",
        "x_test = reshape_as_image(x_test, dim, dim)\n",
        "# adding a 1-dim for channels (3)\n",
        "x_train = np.stack((x_train,) * 3, axis=-1)\n",
        "x_test = np.stack((x_test,) * 3, axis=-1)\n",
        "x_cv = np.stack((x_cv,) * 3, axis=-1)\n",
        "print(\"final shape of x, y train/test {} {} {} {}\".format(x_train.shape, y_train.shape, x_test.shape, y_test.shape))\n",
        "print(x_cv.shape)"
      ],
      "execution_count": 34,
      "outputs": [
        {
          "output_type": "stream",
          "text": [
            "final shape of x, y train/test (2479, 15, 15, 3) (2479,) (620, 15, 15, 3) (620,)\n",
            "(2479, 15, 15, 3)\n"
          ],
          "name": "stdout"
        }
      ]
    },
    {
      "cell_type": "markdown",
      "metadata": {
        "id": "WKO6Wl1jIRJe"
      },
      "source": [
        "# Creating Testing Data"
      ]
    },
    {
      "cell_type": "code",
      "metadata": {
        "id": "zIn9tS1NIVVm",
        "colab": {
          "base_uri": "https://localhost:8080/",
          "height": 0
        },
        "outputId": "60662a7b-b0d7-4bc8-fa7b-bf0523a09874"
      },
      "source": [
        "testing_data = df[df['timestamps']>='2020-01-01'].copy()\n",
        "visualize_prices(testing_data, 'timestamps', 'open')\n",
        "\n",
        "testing_data = testing_data.drop(['timestamps'], axis=1)\n",
        "testing_data = testing_data.iloc[1:]    # Drops first row in dataframe\n",
        "testing_data.head() "
      ],
      "execution_count": 14,
      "outputs": [
        {
          "output_type": "display_data",
          "data": {
            "image/png": "[encoded data removed]",
            "text/plain": [
              "<Figure size 864x576 with 1 Axes>"
            ]
          },
          "metadata": {
            "tags": []
          }
        },
        {
          "output_type": "execute_result",
          "data": {
            "text/html": [
              "<div>\n",
              "<style scoped>\n",
              "    .dataframe tbody tr th:only-of-type {\n",
              "        vertical-align: middle;\n",
              "    }\n",
              "\n",
              "    .dataframe tbody tr th {\n",
              "        vertical-align: top;\n",
              "    }\n",
              "\n",
              "    .dataframe thead th {\n",
              "        text-align: right;\n",
              "    }\n",
              "</style>\n",
              "<table border=\"1\" class=\"dataframe\">\n",
              "  <thead>\n",
              "    <tr style=\"text-align: right;\">\n",
              "      <th></th>\n",
              "      <th>open</th>\n",
              "      <th>high</th>\n",
              "      <th>low</th>\n",
              "      <th>close</th>\n",
              "      <th>volume</th>\n",
              "      <th>diff</th>\n",
              "      <th>change</th>\n",
              "      <th>MACD_6</th>\n",
              "      <th>MACD_7</th>\n",
              "      <th>MACD_8</th>\n",
              "      <th>MACD_9</th>\n",
              "      <th>MACD_10</th>\n",
              "      <th>MACD_11</th>\n",
              "      <th>MACD_12</th>\n",
              "      <th>MACD_13</th>\n",
              "      <th>MACD_14</th>\n",
              "      <th>MACD_15</th>\n",
              "      <th>MACD_16</th>\n",
              "      <th>MACD_17</th>\n",
              "      <th>MACD_18</th>\n",
              "      <th>MACD_19</th>\n",
              "      <th>MACD_20</th>\n",
              "      <th>RSI_6</th>\n",
              "      <th>RSI_7</th>\n",
              "      <th>RSI_8</th>\n",
              "      <th>RSI_9</th>\n",
              "      <th>RSI_10</th>\n",
              "      <th>RSI_11</th>\n",
              "      <th>RSI_12</th>\n",
              "      <th>RSI_13</th>\n",
              "      <th>RSI_14</th>\n",
              "      <th>RSI_15</th>\n",
              "      <th>RSI_16</th>\n",
              "      <th>RSI_17</th>\n",
              "      <th>RSI_18</th>\n",
              "      <th>RSI_19</th>\n",
              "      <th>RSI_20</th>\n",
              "      <th>SR_6</th>\n",
              "      <th>SR_7</th>\n",
              "      <th>SR_8</th>\n",
              "      <th>...</th>\n",
              "      <th>CMF_11</th>\n",
              "      <th>CMF_12</th>\n",
              "      <th>CMF_13</th>\n",
              "      <th>CMF_14</th>\n",
              "      <th>CMF_15</th>\n",
              "      <th>CMF_16</th>\n",
              "      <th>CMF_17</th>\n",
              "      <th>CMF_18</th>\n",
              "      <th>CMF_19</th>\n",
              "      <th>CMF_20</th>\n",
              "      <th>TRIX_6</th>\n",
              "      <th>TRIX_7</th>\n",
              "      <th>TRIX_8</th>\n",
              "      <th>TRIX_9</th>\n",
              "      <th>TRIX_10</th>\n",
              "      <th>TRIX_11</th>\n",
              "      <th>TRIX_12</th>\n",
              "      <th>TRIX_13</th>\n",
              "      <th>TRIX_14</th>\n",
              "      <th>TRIX_15</th>\n",
              "      <th>TRIX_16</th>\n",
              "      <th>TRIX_17</th>\n",
              "      <th>TRIX_18</th>\n",
              "      <th>TRIX_19</th>\n",
              "      <th>TRIX_20</th>\n",
              "      <th>KST_6</th>\n",
              "      <th>KST_7</th>\n",
              "      <th>KST_8</th>\n",
              "      <th>KST_9</th>\n",
              "      <th>KST_10</th>\n",
              "      <th>KST_11</th>\n",
              "      <th>KST_12</th>\n",
              "      <th>KST_13</th>\n",
              "      <th>KST_14</th>\n",
              "      <th>KST_15</th>\n",
              "      <th>KST_16</th>\n",
              "      <th>KST_17</th>\n",
              "      <th>KST_18</th>\n",
              "      <th>KST_19</th>\n",
              "      <th>KST_20</th>\n",
              "    </tr>\n",
              "  </thead>\n",
              "  <tbody>\n",
              "    <tr>\n",
              "      <th>2769</th>\n",
              "      <td>213.300003</td>\n",
              "      <td>215.470001</td>\n",
              "      <td>213.279999</td>\n",
              "      <td>214.179993</td>\n",
              "      <td>27518900</td>\n",
              "      <td>-1.980011</td>\n",
              "      <td>-0.915993</td>\n",
              "      <td>3.169081</td>\n",
              "      <td>3.169081</td>\n",
              "      <td>3.169081</td>\n",
              "      <td>3.169081</td>\n",
              "      <td>3.169081</td>\n",
              "      <td>3.169081</td>\n",
              "      <td>3.169081</td>\n",
              "      <td>3.169081</td>\n",
              "      <td>3.169081</td>\n",
              "      <td>3.169081</td>\n",
              "      <td>3.169081</td>\n",
              "      <td>3.169081</td>\n",
              "      <td>3.169081</td>\n",
              "      <td>3.169081</td>\n",
              "      <td>3.169081</td>\n",
              "      <td>68.416915</td>\n",
              "      <td>68.416915</td>\n",
              "      <td>68.416915</td>\n",
              "      <td>68.416915</td>\n",
              "      <td>68.416915</td>\n",
              "      <td>68.416915</td>\n",
              "      <td>68.416915</td>\n",
              "      <td>68.416915</td>\n",
              "      <td>68.416915</td>\n",
              "      <td>68.416915</td>\n",
              "      <td>68.416915</td>\n",
              "      <td>68.416915</td>\n",
              "      <td>68.416915</td>\n",
              "      <td>68.416915</td>\n",
              "      <td>68.416915</td>\n",
              "      <td>86.018965</td>\n",
              "      <td>86.018965</td>\n",
              "      <td>86.018965</td>\n",
              "      <td>...</td>\n",
              "      <td>0.220385</td>\n",
              "      <td>0.220385</td>\n",
              "      <td>0.220385</td>\n",
              "      <td>0.220385</td>\n",
              "      <td>0.220385</td>\n",
              "      <td>0.220385</td>\n",
              "      <td>0.220385</td>\n",
              "      <td>0.220385</td>\n",
              "      <td>0.220385</td>\n",
              "      <td>0.220385</td>\n",
              "      <td>0.155989</td>\n",
              "      <td>0.155989</td>\n",
              "      <td>0.155989</td>\n",
              "      <td>0.155989</td>\n",
              "      <td>0.155989</td>\n",
              "      <td>0.155989</td>\n",
              "      <td>0.155989</td>\n",
              "      <td>0.155989</td>\n",
              "      <td>0.155989</td>\n",
              "      <td>0.155989</td>\n",
              "      <td>0.155989</td>\n",
              "      <td>0.155989</td>\n",
              "      <td>0.155989</td>\n",
              "      <td>0.155989</td>\n",
              "      <td>0.155989</td>\n",
              "      <td>4772.974812</td>\n",
              "      <td>4772.974812</td>\n",
              "      <td>4772.974812</td>\n",
              "      <td>4772.974812</td>\n",
              "      <td>4772.974812</td>\n",
              "      <td>4772.974812</td>\n",
              "      <td>4772.974812</td>\n",
              "      <td>4772.974812</td>\n",
              "      <td>4772.974812</td>\n",
              "      <td>4772.974812</td>\n",
              "      <td>4772.974812</td>\n",
              "      <td>4772.974812</td>\n",
              "      <td>4772.974812</td>\n",
              "      <td>4772.974812</td>\n",
              "      <td>4772.974812</td>\n",
              "    </tr>\n",
              "    <tr>\n",
              "      <th>2770</th>\n",
              "      <td>212.500000</td>\n",
              "      <td>215.589996</td>\n",
              "      <td>212.240005</td>\n",
              "      <td>215.559998</td>\n",
              "      <td>21655300</td>\n",
              "      <td>1.380005</td>\n",
              "      <td>0.644320</td>\n",
              "      <td>3.209875</td>\n",
              "      <td>3.209875</td>\n",
              "      <td>3.209875</td>\n",
              "      <td>3.209875</td>\n",
              "      <td>3.209875</td>\n",
              "      <td>3.209875</td>\n",
              "      <td>3.209875</td>\n",
              "      <td>3.209875</td>\n",
              "      <td>3.209875</td>\n",
              "      <td>3.209875</td>\n",
              "      <td>3.209875</td>\n",
              "      <td>3.209875</td>\n",
              "      <td>3.209875</td>\n",
              "      <td>3.209875</td>\n",
              "      <td>3.209875</td>\n",
              "      <td>71.113746</td>\n",
              "      <td>71.113746</td>\n",
              "      <td>71.113746</td>\n",
              "      <td>71.113746</td>\n",
              "      <td>71.113746</td>\n",
              "      <td>71.113746</td>\n",
              "      <td>71.113746</td>\n",
              "      <td>71.113746</td>\n",
              "      <td>71.113746</td>\n",
              "      <td>71.113746</td>\n",
              "      <td>71.113746</td>\n",
              "      <td>71.113746</td>\n",
              "      <td>71.113746</td>\n",
              "      <td>71.113746</td>\n",
              "      <td>71.113746</td>\n",
              "      <td>88.350942</td>\n",
              "      <td>88.350942</td>\n",
              "      <td>88.350942</td>\n",
              "      <td>...</td>\n",
              "      <td>0.249240</td>\n",
              "      <td>0.249240</td>\n",
              "      <td>0.249240</td>\n",
              "      <td>0.249240</td>\n",
              "      <td>0.249240</td>\n",
              "      <td>0.249240</td>\n",
              "      <td>0.249240</td>\n",
              "      <td>0.249240</td>\n",
              "      <td>0.249240</td>\n",
              "      <td>0.249240</td>\n",
              "      <td>0.158401</td>\n",
              "      <td>0.158401</td>\n",
              "      <td>0.158401</td>\n",
              "      <td>0.158401</td>\n",
              "      <td>0.158401</td>\n",
              "      <td>0.158401</td>\n",
              "      <td>0.158401</td>\n",
              "      <td>0.158401</td>\n",
              "      <td>0.158401</td>\n",
              "      <td>0.158401</td>\n",
              "      <td>0.158401</td>\n",
              "      <td>0.158401</td>\n",
              "      <td>0.158401</td>\n",
              "      <td>0.158401</td>\n",
              "      <td>0.158401</td>\n",
              "      <td>4903.585502</td>\n",
              "      <td>4903.585502</td>\n",
              "      <td>4903.585502</td>\n",
              "      <td>4903.585502</td>\n",
              "      <td>4903.585502</td>\n",
              "      <td>4903.585502</td>\n",
              "      <td>4903.585502</td>\n",
              "      <td>4903.585502</td>\n",
              "      <td>4903.585502</td>\n",
              "      <td>4903.585502</td>\n",
              "      <td>4903.585502</td>\n",
              "      <td>4903.585502</td>\n",
              "      <td>4903.585502</td>\n",
              "      <td>4903.585502</td>\n",
              "      <td>4903.585502</td>\n",
              "    </tr>\n",
              "    <tr>\n",
              "      <th>2771</th>\n",
              "      <td>215.639999</td>\n",
              "      <td>216.139999</td>\n",
              "      <td>214.850006</td>\n",
              "      <td>215.529999</td>\n",
              "      <td>22139300</td>\n",
              "      <td>-0.029999</td>\n",
              "      <td>-0.013917</td>\n",
              "      <td>3.202864</td>\n",
              "      <td>3.202864</td>\n",
              "      <td>3.202864</td>\n",
              "      <td>3.202864</td>\n",
              "      <td>3.202864</td>\n",
              "      <td>3.202864</td>\n",
              "      <td>3.202864</td>\n",
              "      <td>3.202864</td>\n",
              "      <td>3.202864</td>\n",
              "      <td>3.202864</td>\n",
              "      <td>3.202864</td>\n",
              "      <td>3.202864</td>\n",
              "      <td>3.202864</td>\n",
              "      <td>3.202864</td>\n",
              "      <td>3.202864</td>\n",
              "      <td>70.971876</td>\n",
              "      <td>70.971876</td>\n",
              "      <td>70.971876</td>\n",
              "      <td>70.971876</td>\n",
              "      <td>70.971876</td>\n",
              "      <td>70.971876</td>\n",
              "      <td>70.971876</td>\n",
              "      <td>70.971876</td>\n",
              "      <td>70.971876</td>\n",
              "      <td>70.971876</td>\n",
              "      <td>70.971876</td>\n",
              "      <td>70.971876</td>\n",
              "      <td>70.971876</td>\n",
              "      <td>70.971876</td>\n",
              "      <td>70.971876</td>\n",
              "      <td>88.750530</td>\n",
              "      <td>88.750530</td>\n",
              "      <td>88.750530</td>\n",
              "      <td>...</td>\n",
              "      <td>0.221608</td>\n",
              "      <td>0.221608</td>\n",
              "      <td>0.221608</td>\n",
              "      <td>0.221608</td>\n",
              "      <td>0.221608</td>\n",
              "      <td>0.221608</td>\n",
              "      <td>0.221608</td>\n",
              "      <td>0.221608</td>\n",
              "      <td>0.221608</td>\n",
              "      <td>0.221608</td>\n",
              "      <td>0.160747</td>\n",
              "      <td>0.160747</td>\n",
              "      <td>0.160747</td>\n",
              "      <td>0.160747</td>\n",
              "      <td>0.160747</td>\n",
              "      <td>0.160747</td>\n",
              "      <td>0.160747</td>\n",
              "      <td>0.160747</td>\n",
              "      <td>0.160747</td>\n",
              "      <td>0.160747</td>\n",
              "      <td>0.160747</td>\n",
              "      <td>0.160747</td>\n",
              "      <td>0.160747</td>\n",
              "      <td>0.160747</td>\n",
              "      <td>0.160747</td>\n",
              "      <td>4956.208191</td>\n",
              "      <td>4956.208191</td>\n",
              "      <td>4956.208191</td>\n",
              "      <td>4956.208191</td>\n",
              "      <td>4956.208191</td>\n",
              "      <td>4956.208191</td>\n",
              "      <td>4956.208191</td>\n",
              "      <td>4956.208191</td>\n",
              "      <td>4956.208191</td>\n",
              "      <td>4956.208191</td>\n",
              "      <td>4956.208191</td>\n",
              "      <td>4956.208191</td>\n",
              "      <td>4956.208191</td>\n",
              "      <td>4956.208191</td>\n",
              "      <td>4956.208191</td>\n",
              "    </tr>\n",
              "    <tr>\n",
              "      <th>2772</th>\n",
              "      <td>215.500000</td>\n",
              "      <td>218.139999</td>\n",
              "      <td>215.160004</td>\n",
              "      <td>217.149994</td>\n",
              "      <td>26397300</td>\n",
              "      <td>1.619995</td>\n",
              "      <td>0.751633</td>\n",
              "      <td>3.290101</td>\n",
              "      <td>3.290101</td>\n",
              "      <td>3.290101</td>\n",
              "      <td>3.290101</td>\n",
              "      <td>3.290101</td>\n",
              "      <td>3.290101</td>\n",
              "      <td>3.290101</td>\n",
              "      <td>3.290101</td>\n",
              "      <td>3.290101</td>\n",
              "      <td>3.290101</td>\n",
              "      <td>3.290101</td>\n",
              "      <td>3.290101</td>\n",
              "      <td>3.290101</td>\n",
              "      <td>3.290101</td>\n",
              "      <td>3.290101</td>\n",
              "      <td>73.989612</td>\n",
              "      <td>73.989612</td>\n",
              "      <td>73.989612</td>\n",
              "      <td>73.989612</td>\n",
              "      <td>73.989612</td>\n",
              "      <td>73.989612</td>\n",
              "      <td>73.989612</td>\n",
              "      <td>73.989612</td>\n",
              "      <td>73.989612</td>\n",
              "      <td>73.989612</td>\n",
              "      <td>73.989612</td>\n",
              "      <td>73.989612</td>\n",
              "      <td>73.989612</td>\n",
              "      <td>73.989612</td>\n",
              "      <td>73.989612</td>\n",
              "      <td>89.867166</td>\n",
              "      <td>89.867166</td>\n",
              "      <td>89.867166</td>\n",
              "      <td>...</td>\n",
              "      <td>0.263840</td>\n",
              "      <td>0.263840</td>\n",
              "      <td>0.263840</td>\n",
              "      <td>0.263840</td>\n",
              "      <td>0.263840</td>\n",
              "      <td>0.263840</td>\n",
              "      <td>0.263840</td>\n",
              "      <td>0.263840</td>\n",
              "      <td>0.263840</td>\n",
              "      <td>0.263840</td>\n",
              "      <td>0.163181</td>\n",
              "      <td>0.163181</td>\n",
              "      <td>0.163181</td>\n",
              "      <td>0.163181</td>\n",
              "      <td>0.163181</td>\n",
              "      <td>0.163181</td>\n",
              "      <td>0.163181</td>\n",
              "      <td>0.163181</td>\n",
              "      <td>0.163181</td>\n",
              "      <td>0.163181</td>\n",
              "      <td>0.163181</td>\n",
              "      <td>0.163181</td>\n",
              "      <td>0.163181</td>\n",
              "      <td>0.163181</td>\n",
              "      <td>0.163181</td>\n",
              "      <td>5038.906550</td>\n",
              "      <td>5038.906550</td>\n",
              "      <td>5038.906550</td>\n",
              "      <td>5038.906550</td>\n",
              "      <td>5038.906550</td>\n",
              "      <td>5038.906550</td>\n",
              "      <td>5038.906550</td>\n",
              "      <td>5038.906550</td>\n",
              "      <td>5038.906550</td>\n",
              "      <td>5038.906550</td>\n",
              "      <td>5038.906550</td>\n",
              "      <td>5038.906550</td>\n",
              "      <td>5038.906550</td>\n",
              "      <td>5038.906550</td>\n",
              "      <td>5038.906550</td>\n",
              "    </tr>\n",
              "    <tr>\n",
              "      <th>2773</th>\n",
              "      <td>218.940002</td>\n",
              "      <td>219.410004</td>\n",
              "      <td>217.710007</td>\n",
              "      <td>218.990005</td>\n",
              "      <td>23547000</td>\n",
              "      <td>1.840012</td>\n",
              "      <td>0.847346</td>\n",
              "      <td>3.467736</td>\n",
              "      <td>3.467736</td>\n",
              "      <td>3.467736</td>\n",
              "      <td>3.467736</td>\n",
              "      <td>3.467736</td>\n",
              "      <td>3.467736</td>\n",
              "      <td>3.467736</td>\n",
              "      <td>3.467736</td>\n",
              "      <td>3.467736</td>\n",
              "      <td>3.467736</td>\n",
              "      <td>3.467736</td>\n",
              "      <td>3.467736</td>\n",
              "      <td>3.467736</td>\n",
              "      <td>3.467736</td>\n",
              "      <td>3.467736</td>\n",
              "      <td>76.923981</td>\n",
              "      <td>76.923981</td>\n",
              "      <td>76.923981</td>\n",
              "      <td>76.923981</td>\n",
              "      <td>76.923981</td>\n",
              "      <td>76.923981</td>\n",
              "      <td>76.923981</td>\n",
              "      <td>76.923981</td>\n",
              "      <td>76.923981</td>\n",
              "      <td>76.923981</td>\n",
              "      <td>76.923981</td>\n",
              "      <td>76.923981</td>\n",
              "      <td>76.923981</td>\n",
              "      <td>76.923981</td>\n",
              "      <td>76.923981</td>\n",
              "      <td>90.183690</td>\n",
              "      <td>90.183690</td>\n",
              "      <td>90.183690</td>\n",
              "      <td>...</td>\n",
              "      <td>0.307710</td>\n",
              "      <td>0.307710</td>\n",
              "      <td>0.307710</td>\n",
              "      <td>0.307710</td>\n",
              "      <td>0.307710</td>\n",
              "      <td>0.307710</td>\n",
              "      <td>0.307710</td>\n",
              "      <td>0.307710</td>\n",
              "      <td>0.307710</td>\n",
              "      <td>0.307710</td>\n",
              "      <td>0.165856</td>\n",
              "      <td>0.165856</td>\n",
              "      <td>0.165856</td>\n",
              "      <td>0.165856</td>\n",
              "      <td>0.165856</td>\n",
              "      <td>0.165856</td>\n",
              "      <td>0.165856</td>\n",
              "      <td>0.165856</td>\n",
              "      <td>0.165856</td>\n",
              "      <td>0.165856</td>\n",
              "      <td>0.165856</td>\n",
              "      <td>0.165856</td>\n",
              "      <td>0.165856</td>\n",
              "      <td>0.165856</td>\n",
              "      <td>0.165856</td>\n",
              "      <td>5198.232809</td>\n",
              "      <td>5198.232809</td>\n",
              "      <td>5198.232809</td>\n",
              "      <td>5198.232809</td>\n",
              "      <td>5198.232809</td>\n",
              "      <td>5198.232809</td>\n",
              "      <td>5198.232809</td>\n",
              "      <td>5198.232809</td>\n",
              "      <td>5198.232809</td>\n",
              "      <td>5198.232809</td>\n",
              "      <td>5198.232809</td>\n",
              "      <td>5198.232809</td>\n",
              "      <td>5198.232809</td>\n",
              "      <td>5198.232809</td>\n",
              "      <td>5198.232809</td>\n",
              "    </tr>\n",
              "  </tbody>\n",
              "</table>\n",
              "<p>5 rows × 232 columns</p>\n",
              "</div>"
            ],
            "text/plain": [
              "            open        high         low  ...       KST_18       KST_19       KST_20\n",
              "2769  213.300003  215.470001  213.279999  ...  4772.974812  4772.974812  4772.974812\n",
              "2770  212.500000  215.589996  212.240005  ...  4903.585502  4903.585502  4903.585502\n",
              "2771  215.639999  216.139999  214.850006  ...  4956.208191  4956.208191  4956.208191\n",
              "2772  215.500000  218.139999  215.160004  ...  5038.906550  5038.906550  5038.906550\n",
              "2773  218.940002  219.410004  217.710007  ...  5198.232809  5198.232809  5198.232809\n",
              "\n",
              "[5 rows x 232 columns]"
            ]
          },
          "metadata": {
            "tags": []
          },
          "execution_count": 14
        }
      ]
    },
    {
      "cell_type": "markdown",
      "metadata": {
        "id": "TBYF_cfenkuZ"
      },
      "source": [
        "# Using z-score standardization"
      ]
    },
    {
      "cell_type": "code",
      "metadata": {
        "id": "KKsISLrnggMa"
      },
      "source": [
        "# from scipy import stats\n",
        "\n",
        "# training_data = stats.zscore(training_data, axis=0, ddof=0, nan_policy='omit')\n",
        "\n",
        "# n_bins = 50\n",
        "\n",
        "# fig, axs = plt.subplots(2, 4, sharey=True, tight_layout=True)\n",
        "# axs[0][0].hist(training_data[:, 0], bins=n_bins)\n",
        "# axs[0][1].hist(training_data[:, 1], bins=n_bins)\n",
        "# axs[0][2].hist(training_data[:, 2], bins=n_bins)\n",
        "# axs[0][3].hist(training_data[:, 3], bins=n_bins)\n",
        "# axs[1][0].hist(training_data[:, 4], bins=n_bins)\n",
        "# axs[1][1].hist(training_data[:, 5], bins=n_bins)\n",
        "# axs[1][2].hist(training_data[:, 6], bins=n_bins)"
      ],
      "execution_count": 15,
      "outputs": []
    },
    {
      "cell_type": "markdown",
      "metadata": {
        "id": "y96t1aZyER8d"
      },
      "source": [
        "# Normalize data between 0 and 1"
      ]
    },
    {
      "cell_type": "code",
      "metadata": {
        "id": "nTLjI_h-ENhr",
        "colab": {
          "base_uri": "https://localhost:8080/"
        },
        "outputId": "dd3a4fd6-21a4-4e61-c8f4-a98f5b03e0a5"
      },
      "source": [
        "scaler = MinMaxScaler()\n",
        "training_data = scaler.fit_transform(training_data)\n",
        "training_data.shape"
      ],
      "execution_count": 16,
      "outputs": [
        {
          "output_type": "execute_result",
          "data": {
            "text/plain": [
              "(2767, 7)"
            ]
          },
          "metadata": {
            "tags": []
          },
          "execution_count": 16
        }
      ]
    },
    {
      "cell_type": "markdown",
      "metadata": {
        "id": "pFc60CcBkHOo"
      },
      "source": [
        "# Create data with time_step = 10"
      ]
    },
    {
      "cell_type": "code",
      "metadata": {
        "id": "zvl5io7XkQyo",
        "colab": {
          "base_uri": "https://localhost:8080/"
        },
        "outputId": "ce8c17b0-6039-4706-800a-4f24119939d8"
      },
      "source": [
        "time_step = 10\n",
        "\n",
        "x_train = []\n",
        "y_train = []\n",
        "\n",
        "for i in range(time_step, training_data.shape[0]):\n",
        "    x_train.append(training_data[i-time_step:i])\n",
        "    y_train.append(training_data[i, 0])\n",
        "\n",
        "print(len(y_train))"
      ],
      "execution_count": 17,
      "outputs": [
        {
          "output_type": "stream",
          "text": [
            "2757\n"
          ],
          "name": "stdout"
        }
      ]
    },
    {
      "cell_type": "code",
      "metadata": {
        "id": "0yW7gkBdluFR",
        "colab": {
          "base_uri": "https://localhost:8080/"
        },
        "outputId": "6b3282ae-4e92-45af-9e8e-51cff000d15b"
      },
      "source": [
        "x_train, y_train = np.array(x_train), np.array(y_train)\n",
        "x_train.shape, y_train.shape"
      ],
      "execution_count": 18,
      "outputs": [
        {
          "output_type": "execute_result",
          "data": {
            "text/plain": [
              "((2757, 10, 7), (2757,))"
            ]
          },
          "metadata": {
            "tags": []
          },
          "execution_count": 18
        }
      ]
    },
    {
      "cell_type": "markdown",
      "metadata": {
        "id": "r5Qx2TiW3FXY"
      },
      "source": [
        "# Import needed Keras components"
      ]
    },
    {
      "cell_type": "code",
      "metadata": {
        "id": "J6bM-lTc2VPi"
      },
      "source": [
        "from tensorflow.keras import Sequential\n",
        "from tensorflow.keras.layers import Dense, LSTM, Dropout, Conv1D, MaxPool1D, Activation"
      ],
      "execution_count": 19,
      "outputs": []
    },
    {
      "cell_type": "markdown",
      "metadata": {
        "id": "HzI-HDW13MZF"
      },
      "source": [
        "# Build CNN-LSTM model"
      ]
    },
    {
      "cell_type": "code",
      "metadata": {
        "id": "kIz0Cf3B3Q72"
      },
      "source": [
        "filters = 32\n",
        "\n",
        "model = Sequential([\n",
        "    Conv1D(filters=filters, \n",
        "           kernel_size=1, \n",
        "           padding='same', \n",
        "           activation='tanh', \n",
        "           input_shape=(x_train.shape[1], x_train.shape[2])),\n",
        "    MaxPool1D(pool_size=1, padding='same'),\n",
        "    Activation('relu'),\n",
        "    LSTM(units=64, \n",
        "         activation='relu', \n",
        "         #return_sequences=True, \n",
        "         input_shape=(x_train.shape[1], filters)),\n",
        "    #Dropout(0.2),\n",
        "    # LSTM(\n",
        "    #     units=80, \n",
        "    #     activation='relu'),\n",
        "    Dense(units=1) # Should I use a kernel initializer?\n",
        "])"
      ],
      "execution_count": 20,
      "outputs": []
    },
    {
      "cell_type": "markdown",
      "metadata": {
        "id": "g17NdDV3692C"
      },
      "source": [
        "# Show summary of model"
      ]
    },
    {
      "cell_type": "code",
      "metadata": {
        "id": "b1wObeoq60EP",
        "colab": {
          "base_uri": "https://localhost:8080/"
        },
        "outputId": "201e4cec-c715-442d-a55f-b57adbf29431"
      },
      "source": [
        "model.summary()"
      ],
      "execution_count": 21,
      "outputs": [
        {
          "output_type": "stream",
          "text": [
            "Model: \"sequential\"\n",
            "_________________________________________________________________\n",
            "Layer (type)                 Output Shape              Param #   \n",
            "=================================================================\n",
            "conv1d (Conv1D)              (None, 10, 32)            256       \n",
            "_________________________________________________________________\n",
            "max_pooling1d (MaxPooling1D) (None, 10, 32)            0         \n",
            "_________________________________________________________________\n",
            "activation (Activation)      (None, 10, 32)            0         \n",
            "_________________________________________________________________\n",
            "lstm (LSTM)                  (None, 64)                24832     \n",
            "_________________________________________________________________\n",
            "dense (Dense)                (None, 1)                 65        \n",
            "=================================================================\n",
            "Total params: 25,153\n",
            "Trainable params: 25,153\n",
            "Non-trainable params: 0\n",
            "_________________________________________________________________\n"
          ],
          "name": "stdout"
        }
      ]
    },
    {
      "cell_type": "markdown",
      "metadata": {
        "id": "ZE5YawtIQdpw"
      },
      "source": [
        "# Compiling model"
      ]
    },
    {
      "cell_type": "code",
      "metadata": {
        "id": "xnGsH2njQGHk"
      },
      "source": [
        "from tensorflow.keras import optimizers\n",
        "\n",
        "learning_rate = 0.001\n",
        "\n",
        "optimizer = optimizers.Adam(learning_rate=learning_rate, beta_1=0.9, beta_2=0.999, amsgrad=False)\n",
        "\n",
        "model.compile(optimizer=optimizer, loss='mean_absolute_error')"
      ],
      "execution_count": 22,
      "outputs": []
    },
    {
      "cell_type": "markdown",
      "metadata": {
        "id": "Fq1d4zmVQhDn"
      },
      "source": [
        "# Fitting model"
      ]
    },
    {
      "cell_type": "code",
      "metadata": {
        "id": "3zDRK013QjqD",
        "colab": {
          "base_uri": "https://localhost:8080/"
        },
        "outputId": "31f6063c-2baf-49ad-814a-648f8408f204"
      },
      "source": [
        "model.fit(x_train, y_train, epochs=100, batch_size=64)"
      ],
      "execution_count": 23,
      "outputs": [
        {
          "output_type": "stream",
          "text": [
            "Epoch 1/100\n",
            "44/44 [==============================] - 2s 10ms/step - loss: 0.1877\n",
            "Epoch 2/100\n",
            "44/44 [==============================] - 0s 10ms/step - loss: 0.0120\n",
            "Epoch 3/100\n",
            "44/44 [==============================] - 0s 10ms/step - loss: 0.0076\n",
            "Epoch 4/100\n",
            "44/44 [==============================] - 0s 10ms/step - loss: 0.0046\n",
            "Epoch 5/100\n",
            "44/44 [==============================] - 0s 9ms/step - loss: 0.0038\n",
            "Epoch 6/100\n",
            "44/44 [==============================] - 0s 9ms/step - loss: 0.0043\n",
            "Epoch 7/100\n",
            "44/44 [==============================] - 0s 9ms/step - loss: 0.0036\n",
            "Epoch 8/100\n",
            "44/44 [==============================] - 0s 9ms/step - loss: 0.0041\n",
            "Epoch 9/100\n",
            "44/44 [==============================] - 0s 10ms/step - loss: 0.0043\n",
            "Epoch 10/100\n",
            "44/44 [==============================] - 0s 10ms/step - loss: 0.0064\n",
            "Epoch 11/100\n",
            "44/44 [==============================] - 0s 9ms/step - loss: 0.0039\n",
            "Epoch 12/100\n",
            "44/44 [==============================] - 0s 10ms/step - loss: 0.0038\n",
            "Epoch 13/100\n",
            "44/44 [==============================] - 0s 10ms/step - loss: 0.0046\n",
            "Epoch 14/100\n",
            "44/44 [==============================] - 0s 10ms/step - loss: 0.0038\n",
            "Epoch 15/100\n",
            "44/44 [==============================] - 0s 9ms/step - loss: 0.0030\n",
            "Epoch 16/100\n",
            "44/44 [==============================] - 0s 10ms/step - loss: 0.0032\n",
            "Epoch 17/100\n",
            "44/44 [==============================] - 0s 9ms/step - loss: 0.0066\n",
            "Epoch 18/100\n",
            "44/44 [==============================] - 0s 9ms/step - loss: 0.0056\n",
            "Epoch 19/100\n",
            "44/44 [==============================] - 0s 10ms/step - loss: 0.0034\n",
            "Epoch 20/100\n",
            "44/44 [==============================] - 0s 9ms/step - loss: 0.0030\n",
            "Epoch 21/100\n",
            "44/44 [==============================] - 0s 10ms/step - loss: 0.0032\n",
            "Epoch 22/100\n",
            "44/44 [==============================] - 0s 9ms/step - loss: 0.0037\n",
            "Epoch 23/100\n",
            "44/44 [==============================] - 0s 9ms/step - loss: 0.0038\n",
            "Epoch 24/100\n",
            "44/44 [==============================] - 0s 10ms/step - loss: 0.0030\n",
            "Epoch 25/100\n",
            "44/44 [==============================] - 0s 10ms/step - loss: 0.0028\n",
            "Epoch 26/100\n",
            "44/44 [==============================] - 0s 9ms/step - loss: 0.0066\n",
            "Epoch 27/100\n",
            "44/44 [==============================] - 0s 9ms/step - loss: 0.0040\n",
            "Epoch 28/100\n",
            "44/44 [==============================] - 0s 9ms/step - loss: 0.0029\n",
            "Epoch 29/100\n",
            "44/44 [==============================] - 0s 9ms/step - loss: 0.0055\n",
            "Epoch 30/100\n",
            "44/44 [==============================] - 0s 9ms/step - loss: 0.0030\n",
            "Epoch 31/100\n",
            "44/44 [==============================] - 0s 9ms/step - loss: 0.0061\n",
            "Epoch 32/100\n",
            "44/44 [==============================] - 0s 9ms/step - loss: 0.0037\n",
            "Epoch 33/100\n",
            "44/44 [==============================] - 0s 10ms/step - loss: 0.0030\n",
            "Epoch 34/100\n",
            "44/44 [==============================] - 0s 9ms/step - loss: 0.0042\n",
            "Epoch 35/100\n",
            "44/44 [==============================] - 0s 10ms/step - loss: 0.0041\n",
            "Epoch 36/100\n",
            "44/44 [==============================] - 0s 10ms/step - loss: 0.0031\n",
            "Epoch 37/100\n",
            "44/44 [==============================] - 0s 10ms/step - loss: 0.0034\n",
            "Epoch 38/100\n",
            "44/44 [==============================] - 0s 10ms/step - loss: 0.0031\n",
            "Epoch 39/100\n",
            "44/44 [==============================] - 0s 9ms/step - loss: 0.0027\n",
            "Epoch 40/100\n",
            "44/44 [==============================] - 0s 10ms/step - loss: 0.0044\n",
            "Epoch 41/100\n",
            "44/44 [==============================] - 0s 9ms/step - loss: 0.0040\n",
            "Epoch 42/100\n",
            "44/44 [==============================] - 0s 10ms/step - loss: 0.0036\n",
            "Epoch 43/100\n",
            "44/44 [==============================] - 0s 9ms/step - loss: 0.0058\n",
            "Epoch 44/100\n",
            "44/44 [==============================] - 0s 9ms/step - loss: 0.0043\n",
            "Epoch 45/100\n",
            "44/44 [==============================] - 0s 10ms/step - loss: 0.0032\n",
            "Epoch 46/100\n",
            "44/44 [==============================] - 0s 9ms/step - loss: 0.0026\n",
            "Epoch 47/100\n",
            "44/44 [==============================] - 0s 10ms/step - loss: 0.0033\n",
            "Epoch 48/100\n",
            "44/44 [==============================] - 0s 9ms/step - loss: 0.0036\n",
            "Epoch 49/100\n",
            "44/44 [==============================] - 0s 9ms/step - loss: 0.0040\n",
            "Epoch 50/100\n",
            "44/44 [==============================] - 0s 9ms/step - loss: 0.0033\n",
            "Epoch 51/100\n",
            "44/44 [==============================] - 0s 9ms/step - loss: 0.0027\n",
            "Epoch 52/100\n",
            "44/44 [==============================] - 0s 9ms/step - loss: 0.0032\n",
            "Epoch 53/100\n",
            "44/44 [==============================] - 0s 9ms/step - loss: 0.0052\n",
            "Epoch 54/100\n",
            "44/44 [==============================] - 0s 9ms/step - loss: 0.0032\n",
            "Epoch 55/100\n",
            "44/44 [==============================] - 0s 9ms/step - loss: 0.0038\n",
            "Epoch 56/100\n",
            "44/44 [==============================] - 0s 9ms/step - loss: 0.0029\n",
            "Epoch 57/100\n",
            "44/44 [==============================] - 0s 9ms/step - loss: 0.0038\n",
            "Epoch 58/100\n",
            "44/44 [==============================] - 0s 9ms/step - loss: 0.0037\n",
            "Epoch 59/100\n",
            "44/44 [==============================] - 0s 9ms/step - loss: 0.0029\n",
            "Epoch 60/100\n",
            "44/44 [==============================] - 0s 10ms/step - loss: 0.0036\n",
            "Epoch 61/100\n",
            "44/44 [==============================] - 0s 10ms/step - loss: 0.0047\n",
            "Epoch 62/100\n",
            "44/44 [==============================] - 0s 10ms/step - loss: 0.0032\n",
            "Epoch 63/100\n",
            "44/44 [==============================] - 0s 9ms/step - loss: 0.0027\n",
            "Epoch 64/100\n",
            "44/44 [==============================] - 0s 10ms/step - loss: 0.0033\n",
            "Epoch 65/100\n",
            "44/44 [==============================] - 0s 9ms/step - loss: 0.0035\n",
            "Epoch 66/100\n",
            "44/44 [==============================] - 0s 10ms/step - loss: 0.0027\n",
            "Epoch 67/100\n",
            "44/44 [==============================] - 0s 10ms/step - loss: 0.0030\n",
            "Epoch 68/100\n",
            "44/44 [==============================] - 0s 10ms/step - loss: 0.0030\n",
            "Epoch 69/100\n",
            "44/44 [==============================] - 0s 9ms/step - loss: 0.0036\n",
            "Epoch 70/100\n",
            "44/44 [==============================] - 0s 10ms/step - loss: 0.0054\n",
            "Epoch 71/100\n",
            "44/44 [==============================] - 0s 9ms/step - loss: 0.0042\n",
            "Epoch 72/100\n",
            "44/44 [==============================] - 0s 10ms/step - loss: 0.0033\n",
            "Epoch 73/100\n",
            "44/44 [==============================] - 0s 10ms/step - loss: 0.0035\n",
            "Epoch 74/100\n",
            "44/44 [==============================] - 0s 9ms/step - loss: 0.0032\n",
            "Epoch 75/100\n",
            "44/44 [==============================] - 0s 10ms/step - loss: 0.0029\n",
            "Epoch 76/100\n",
            "44/44 [==============================] - 0s 9ms/step - loss: 0.0036\n",
            "Epoch 77/100\n",
            "44/44 [==============================] - 0s 9ms/step - loss: 0.0030\n",
            "Epoch 78/100\n",
            "44/44 [==============================] - 0s 10ms/step - loss: 0.0028\n",
            "Epoch 79/100\n",
            "44/44 [==============================] - 0s 9ms/step - loss: 0.0030\n",
            "Epoch 80/100\n",
            "44/44 [==============================] - 0s 9ms/step - loss: 0.0028\n",
            "Epoch 81/100\n",
            "44/44 [==============================] - 0s 10ms/step - loss: 0.0029\n",
            "Epoch 82/100\n",
            "44/44 [==============================] - 0s 10ms/step - loss: 0.0028\n",
            "Epoch 83/100\n",
            "44/44 [==============================] - 0s 10ms/step - loss: 0.0043\n",
            "Epoch 84/100\n",
            "44/44 [==============================] - 0s 10ms/step - loss: 0.0032\n",
            "Epoch 85/100\n",
            "44/44 [==============================] - 0s 10ms/step - loss: 0.0032\n",
            "Epoch 86/100\n",
            "44/44 [==============================] - 0s 10ms/step - loss: 0.0031\n",
            "Epoch 87/100\n",
            "44/44 [==============================] - 0s 10ms/step - loss: 0.0028\n",
            "Epoch 88/100\n",
            "44/44 [==============================] - 0s 9ms/step - loss: 0.0025\n",
            "Epoch 89/100\n",
            "44/44 [==============================] - 0s 10ms/step - loss: 0.0069\n",
            "Epoch 90/100\n",
            "44/44 [==============================] - 0s 10ms/step - loss: 0.0040\n",
            "Epoch 91/100\n",
            "44/44 [==============================] - 0s 10ms/step - loss: 0.0030\n",
            "Epoch 92/100\n",
            "44/44 [==============================] - 0s 10ms/step - loss: 0.0034\n",
            "Epoch 93/100\n",
            "44/44 [==============================] - 0s 9ms/step - loss: 0.0029\n",
            "Epoch 94/100\n",
            "44/44 [==============================] - 0s 10ms/step - loss: 0.0027\n",
            "Epoch 95/100\n",
            "44/44 [==============================] - 0s 10ms/step - loss: 0.0036\n",
            "Epoch 96/100\n",
            "44/44 [==============================] - 0s 10ms/step - loss: 0.0031\n",
            "Epoch 97/100\n",
            "44/44 [==============================] - 0s 10ms/step - loss: 0.0031\n",
            "Epoch 98/100\n",
            "44/44 [==============================] - 0s 10ms/step - loss: 0.0037\n",
            "Epoch 99/100\n",
            "44/44 [==============================] - 0s 10ms/step - loss: 0.0029\n",
            "Epoch 100/100\n",
            "44/44 [==============================] - 0s 10ms/step - loss: 0.0046\n"
          ],
          "name": "stdout"
        },
        {
          "output_type": "execute_result",
          "data": {
            "text/plain": [
              "<tensorflow.python.keras.callbacks.History at 0x7fa836c5ec90>"
            ]
          },
          "metadata": {
            "tags": []
          },
          "execution_count": 23
        }
      ]
    },
    {
      "cell_type": "markdown",
      "metadata": {
        "id": "B5ki0A5gJExq"
      },
      "source": [
        "# Adding "
      ]
    },
    {
      "cell_type": "code",
      "metadata": {
        "id": "maZJC85IJyCg",
        "colab": {
          "base_uri": "https://localhost:8080/",
          "height": 253
        },
        "outputId": "f64bba00-613c-4bb7-8b20-3473f238a1ff"
      },
      "source": [
        "past_n_data_points = training_copy.tail(time_step)\n",
        "past_df = past_n_data_points.append(testing_data, ignore_index=True)\n",
        "past_df.head()"
      ],
      "execution_count": 24,
      "outputs": [
        {
          "output_type": "execute_result",
          "data": {
            "text/html": [
              "<div>\n",
              "<style scoped>\n",
              "    .dataframe tbody tr th:only-of-type {\n",
              "        vertical-align: middle;\n",
              "    }\n",
              "\n",
              "    .dataframe tbody tr th {\n",
              "        vertical-align: top;\n",
              "    }\n",
              "\n",
              "    .dataframe thead th {\n",
              "        text-align: right;\n",
              "    }\n",
              "</style>\n",
              "<table border=\"1\" class=\"dataframe\">\n",
              "  <thead>\n",
              "    <tr style=\"text-align: right;\">\n",
              "      <th></th>\n",
              "      <th>open</th>\n",
              "      <th>high</th>\n",
              "      <th>low</th>\n",
              "      <th>close</th>\n",
              "      <th>volume</th>\n",
              "      <th>diff</th>\n",
              "      <th>change</th>\n",
              "      <th>MACD_6</th>\n",
              "      <th>MACD_7</th>\n",
              "      <th>MACD_8</th>\n",
              "      <th>MACD_9</th>\n",
              "      <th>MACD_10</th>\n",
              "      <th>MACD_11</th>\n",
              "      <th>MACD_12</th>\n",
              "      <th>MACD_13</th>\n",
              "      <th>MACD_14</th>\n",
              "      <th>MACD_15</th>\n",
              "      <th>MACD_16</th>\n",
              "      <th>MACD_17</th>\n",
              "      <th>MACD_18</th>\n",
              "      <th>MACD_19</th>\n",
              "      <th>MACD_20</th>\n",
              "      <th>RSI_6</th>\n",
              "      <th>RSI_7</th>\n",
              "      <th>RSI_8</th>\n",
              "      <th>RSI_9</th>\n",
              "      <th>RSI_10</th>\n",
              "      <th>RSI_11</th>\n",
              "      <th>RSI_12</th>\n",
              "      <th>RSI_13</th>\n",
              "      <th>RSI_14</th>\n",
              "      <th>RSI_15</th>\n",
              "      <th>RSI_16</th>\n",
              "      <th>RSI_17</th>\n",
              "      <th>RSI_18</th>\n",
              "      <th>RSI_19</th>\n",
              "      <th>RSI_20</th>\n",
              "      <th>SR_6</th>\n",
              "      <th>SR_7</th>\n",
              "      <th>SR_8</th>\n",
              "      <th>...</th>\n",
              "      <th>CMF_11</th>\n",
              "      <th>CMF_12</th>\n",
              "      <th>CMF_13</th>\n",
              "      <th>CMF_14</th>\n",
              "      <th>CMF_15</th>\n",
              "      <th>CMF_16</th>\n",
              "      <th>CMF_17</th>\n",
              "      <th>CMF_18</th>\n",
              "      <th>CMF_19</th>\n",
              "      <th>CMF_20</th>\n",
              "      <th>TRIX_6</th>\n",
              "      <th>TRIX_7</th>\n",
              "      <th>TRIX_8</th>\n",
              "      <th>TRIX_9</th>\n",
              "      <th>TRIX_10</th>\n",
              "      <th>TRIX_11</th>\n",
              "      <th>TRIX_12</th>\n",
              "      <th>TRIX_13</th>\n",
              "      <th>TRIX_14</th>\n",
              "      <th>TRIX_15</th>\n",
              "      <th>TRIX_16</th>\n",
              "      <th>TRIX_17</th>\n",
              "      <th>TRIX_18</th>\n",
              "      <th>TRIX_19</th>\n",
              "      <th>TRIX_20</th>\n",
              "      <th>KST_6</th>\n",
              "      <th>KST_7</th>\n",
              "      <th>KST_8</th>\n",
              "      <th>KST_9</th>\n",
              "      <th>KST_10</th>\n",
              "      <th>KST_11</th>\n",
              "      <th>KST_12</th>\n",
              "      <th>KST_13</th>\n",
              "      <th>KST_14</th>\n",
              "      <th>KST_15</th>\n",
              "      <th>KST_16</th>\n",
              "      <th>KST_17</th>\n",
              "      <th>KST_18</th>\n",
              "      <th>KST_19</th>\n",
              "      <th>KST_20</th>\n",
              "    </tr>\n",
              "  </thead>\n",
              "  <tbody>\n",
              "    <tr>\n",
              "      <th>0</th>\n",
              "      <td>209.539993</td>\n",
              "      <td>209.710007</td>\n",
              "      <td>209.039993</td>\n",
              "      <td>209.389999</td>\n",
              "      <td>15996100</td>\n",
              "      <td>0.119995</td>\n",
              "      <td>0.057340</td>\n",
              "      <td>NaN</td>\n",
              "      <td>NaN</td>\n",
              "      <td>NaN</td>\n",
              "      <td>NaN</td>\n",
              "      <td>NaN</td>\n",
              "      <td>NaN</td>\n",
              "      <td>NaN</td>\n",
              "      <td>NaN</td>\n",
              "      <td>NaN</td>\n",
              "      <td>NaN</td>\n",
              "      <td>NaN</td>\n",
              "      <td>NaN</td>\n",
              "      <td>NaN</td>\n",
              "      <td>NaN</td>\n",
              "      <td>NaN</td>\n",
              "      <td>NaN</td>\n",
              "      <td>NaN</td>\n",
              "      <td>NaN</td>\n",
              "      <td>NaN</td>\n",
              "      <td>NaN</td>\n",
              "      <td>NaN</td>\n",
              "      <td>NaN</td>\n",
              "      <td>NaN</td>\n",
              "      <td>NaN</td>\n",
              "      <td>NaN</td>\n",
              "      <td>NaN</td>\n",
              "      <td>NaN</td>\n",
              "      <td>NaN</td>\n",
              "      <td>NaN</td>\n",
              "      <td>NaN</td>\n",
              "      <td>NaN</td>\n",
              "      <td>NaN</td>\n",
              "      <td>NaN</td>\n",
              "      <td>...</td>\n",
              "      <td>NaN</td>\n",
              "      <td>NaN</td>\n",
              "      <td>NaN</td>\n",
              "      <td>NaN</td>\n",
              "      <td>NaN</td>\n",
              "      <td>NaN</td>\n",
              "      <td>NaN</td>\n",
              "      <td>NaN</td>\n",
              "      <td>NaN</td>\n",
              "      <td>NaN</td>\n",
              "      <td>NaN</td>\n",
              "      <td>NaN</td>\n",
              "      <td>NaN</td>\n",
              "      <td>NaN</td>\n",
              "      <td>NaN</td>\n",
              "      <td>NaN</td>\n",
              "      <td>NaN</td>\n",
              "      <td>NaN</td>\n",
              "      <td>NaN</td>\n",
              "      <td>NaN</td>\n",
              "      <td>NaN</td>\n",
              "      <td>NaN</td>\n",
              "      <td>NaN</td>\n",
              "      <td>NaN</td>\n",
              "      <td>NaN</td>\n",
              "      <td>NaN</td>\n",
              "      <td>NaN</td>\n",
              "      <td>NaN</td>\n",
              "      <td>NaN</td>\n",
              "      <td>NaN</td>\n",
              "      <td>NaN</td>\n",
              "      <td>NaN</td>\n",
              "      <td>NaN</td>\n",
              "      <td>NaN</td>\n",
              "      <td>NaN</td>\n",
              "      <td>NaN</td>\n",
              "      <td>NaN</td>\n",
              "      <td>NaN</td>\n",
              "      <td>NaN</td>\n",
              "      <td>NaN</td>\n",
              "    </tr>\n",
              "    <tr>\n",
              "      <th>1</th>\n",
              "      <td>209.570007</td>\n",
              "      <td>210.130005</td>\n",
              "      <td>209.330002</td>\n",
              "      <td>209.550003</td>\n",
              "      <td>15443300</td>\n",
              "      <td>0.160004</td>\n",
              "      <td>0.076414</td>\n",
              "      <td>NaN</td>\n",
              "      <td>NaN</td>\n",
              "      <td>NaN</td>\n",
              "      <td>NaN</td>\n",
              "      <td>NaN</td>\n",
              "      <td>NaN</td>\n",
              "      <td>NaN</td>\n",
              "      <td>NaN</td>\n",
              "      <td>NaN</td>\n",
              "      <td>NaN</td>\n",
              "      <td>NaN</td>\n",
              "      <td>NaN</td>\n",
              "      <td>NaN</td>\n",
              "      <td>NaN</td>\n",
              "      <td>NaN</td>\n",
              "      <td>NaN</td>\n",
              "      <td>NaN</td>\n",
              "      <td>NaN</td>\n",
              "      <td>NaN</td>\n",
              "      <td>NaN</td>\n",
              "      <td>NaN</td>\n",
              "      <td>NaN</td>\n",
              "      <td>NaN</td>\n",
              "      <td>NaN</td>\n",
              "      <td>NaN</td>\n",
              "      <td>NaN</td>\n",
              "      <td>NaN</td>\n",
              "      <td>NaN</td>\n",
              "      <td>NaN</td>\n",
              "      <td>NaN</td>\n",
              "      <td>NaN</td>\n",
              "      <td>NaN</td>\n",
              "      <td>NaN</td>\n",
              "      <td>...</td>\n",
              "      <td>NaN</td>\n",
              "      <td>NaN</td>\n",
              "      <td>NaN</td>\n",
              "      <td>NaN</td>\n",
              "      <td>NaN</td>\n",
              "      <td>NaN</td>\n",
              "      <td>NaN</td>\n",
              "      <td>NaN</td>\n",
              "      <td>NaN</td>\n",
              "      <td>NaN</td>\n",
              "      <td>NaN</td>\n",
              "      <td>NaN</td>\n",
              "      <td>NaN</td>\n",
              "      <td>NaN</td>\n",
              "      <td>NaN</td>\n",
              "      <td>NaN</td>\n",
              "      <td>NaN</td>\n",
              "      <td>NaN</td>\n",
              "      <td>NaN</td>\n",
              "      <td>NaN</td>\n",
              "      <td>NaN</td>\n",
              "      <td>NaN</td>\n",
              "      <td>NaN</td>\n",
              "      <td>NaN</td>\n",
              "      <td>NaN</td>\n",
              "      <td>NaN</td>\n",
              "      <td>NaN</td>\n",
              "      <td>NaN</td>\n",
              "      <td>NaN</td>\n",
              "      <td>NaN</td>\n",
              "      <td>NaN</td>\n",
              "      <td>NaN</td>\n",
              "      <td>NaN</td>\n",
              "      <td>NaN</td>\n",
              "      <td>NaN</td>\n",
              "      <td>NaN</td>\n",
              "      <td>NaN</td>\n",
              "      <td>NaN</td>\n",
              "      <td>NaN</td>\n",
              "      <td>NaN</td>\n",
              "    </tr>\n",
              "    <tr>\n",
              "      <th>2</th>\n",
              "      <td>209.639999</td>\n",
              "      <td>210.929993</td>\n",
              "      <td>209.619995</td>\n",
              "      <td>210.860001</td>\n",
              "      <td>17865900</td>\n",
              "      <td>1.309998</td>\n",
              "      <td>0.625148</td>\n",
              "      <td>NaN</td>\n",
              "      <td>NaN</td>\n",
              "      <td>NaN</td>\n",
              "      <td>NaN</td>\n",
              "      <td>NaN</td>\n",
              "      <td>NaN</td>\n",
              "      <td>NaN</td>\n",
              "      <td>NaN</td>\n",
              "      <td>NaN</td>\n",
              "      <td>NaN</td>\n",
              "      <td>NaN</td>\n",
              "      <td>NaN</td>\n",
              "      <td>NaN</td>\n",
              "      <td>NaN</td>\n",
              "      <td>NaN</td>\n",
              "      <td>NaN</td>\n",
              "      <td>NaN</td>\n",
              "      <td>NaN</td>\n",
              "      <td>NaN</td>\n",
              "      <td>NaN</td>\n",
              "      <td>NaN</td>\n",
              "      <td>NaN</td>\n",
              "      <td>NaN</td>\n",
              "      <td>NaN</td>\n",
              "      <td>NaN</td>\n",
              "      <td>NaN</td>\n",
              "      <td>NaN</td>\n",
              "      <td>NaN</td>\n",
              "      <td>NaN</td>\n",
              "      <td>NaN</td>\n",
              "      <td>NaN</td>\n",
              "      <td>NaN</td>\n",
              "      <td>NaN</td>\n",
              "      <td>...</td>\n",
              "      <td>NaN</td>\n",
              "      <td>NaN</td>\n",
              "      <td>NaN</td>\n",
              "      <td>NaN</td>\n",
              "      <td>NaN</td>\n",
              "      <td>NaN</td>\n",
              "      <td>NaN</td>\n",
              "      <td>NaN</td>\n",
              "      <td>NaN</td>\n",
              "      <td>NaN</td>\n",
              "      <td>NaN</td>\n",
              "      <td>NaN</td>\n",
              "      <td>NaN</td>\n",
              "      <td>NaN</td>\n",
              "      <td>NaN</td>\n",
              "      <td>NaN</td>\n",
              "      <td>NaN</td>\n",
              "      <td>NaN</td>\n",
              "      <td>NaN</td>\n",
              "      <td>NaN</td>\n",
              "      <td>NaN</td>\n",
              "      <td>NaN</td>\n",
              "      <td>NaN</td>\n",
              "      <td>NaN</td>\n",
              "      <td>NaN</td>\n",
              "      <td>NaN</td>\n",
              "      <td>NaN</td>\n",
              "      <td>NaN</td>\n",
              "      <td>NaN</td>\n",
              "      <td>NaN</td>\n",
              "      <td>NaN</td>\n",
              "      <td>NaN</td>\n",
              "      <td>NaN</td>\n",
              "      <td>NaN</td>\n",
              "      <td>NaN</td>\n",
              "      <td>NaN</td>\n",
              "      <td>NaN</td>\n",
              "      <td>NaN</td>\n",
              "      <td>NaN</td>\n",
              "      <td>NaN</td>\n",
              "    </tr>\n",
              "    <tr>\n",
              "      <th>3</th>\n",
              "      <td>211.860001</td>\n",
              "      <td>212.520004</td>\n",
              "      <td>211.270004</td>\n",
              "      <td>211.710007</td>\n",
              "      <td>27672600</td>\n",
              "      <td>0.850006</td>\n",
              "      <td>0.403114</td>\n",
              "      <td>NaN</td>\n",
              "      <td>NaN</td>\n",
              "      <td>NaN</td>\n",
              "      <td>NaN</td>\n",
              "      <td>NaN</td>\n",
              "      <td>NaN</td>\n",
              "      <td>NaN</td>\n",
              "      <td>NaN</td>\n",
              "      <td>NaN</td>\n",
              "      <td>NaN</td>\n",
              "      <td>NaN</td>\n",
              "      <td>NaN</td>\n",
              "      <td>NaN</td>\n",
              "      <td>NaN</td>\n",
              "      <td>NaN</td>\n",
              "      <td>NaN</td>\n",
              "      <td>NaN</td>\n",
              "      <td>NaN</td>\n",
              "      <td>NaN</td>\n",
              "      <td>NaN</td>\n",
              "      <td>NaN</td>\n",
              "      <td>NaN</td>\n",
              "      <td>NaN</td>\n",
              "      <td>NaN</td>\n",
              "      <td>NaN</td>\n",
              "      <td>NaN</td>\n",
              "      <td>NaN</td>\n",
              "      <td>NaN</td>\n",
              "      <td>NaN</td>\n",
              "      <td>NaN</td>\n",
              "      <td>NaN</td>\n",
              "      <td>NaN</td>\n",
              "      <td>NaN</td>\n",
              "      <td>...</td>\n",
              "      <td>NaN</td>\n",
              "      <td>NaN</td>\n",
              "      <td>NaN</td>\n",
              "      <td>NaN</td>\n",
              "      <td>NaN</td>\n",
              "      <td>NaN</td>\n",
              "      <td>NaN</td>\n",
              "      <td>NaN</td>\n",
              "      <td>NaN</td>\n",
              "      <td>NaN</td>\n",
              "      <td>NaN</td>\n",
              "      <td>NaN</td>\n",
              "      <td>NaN</td>\n",
              "      <td>NaN</td>\n",
              "      <td>NaN</td>\n",
              "      <td>NaN</td>\n",
              "      <td>NaN</td>\n",
              "      <td>NaN</td>\n",
              "      <td>NaN</td>\n",
              "      <td>NaN</td>\n",
              "      <td>NaN</td>\n",
              "      <td>NaN</td>\n",
              "      <td>NaN</td>\n",
              "      <td>NaN</td>\n",
              "      <td>NaN</td>\n",
              "      <td>NaN</td>\n",
              "      <td>NaN</td>\n",
              "      <td>NaN</td>\n",
              "      <td>NaN</td>\n",
              "      <td>NaN</td>\n",
              "      <td>NaN</td>\n",
              "      <td>NaN</td>\n",
              "      <td>NaN</td>\n",
              "      <td>NaN</td>\n",
              "      <td>NaN</td>\n",
              "      <td>NaN</td>\n",
              "      <td>NaN</td>\n",
              "      <td>NaN</td>\n",
              "      <td>NaN</td>\n",
              "      <td>NaN</td>\n",
              "    </tr>\n",
              "    <tr>\n",
              "      <th>4</th>\n",
              "      <td>212.000000</td>\n",
              "      <td>212.149994</td>\n",
              "      <td>211.630005</td>\n",
              "      <td>211.809998</td>\n",
              "      <td>23774700</td>\n",
              "      <td>0.099991</td>\n",
              "      <td>0.047230</td>\n",
              "      <td>NaN</td>\n",
              "      <td>NaN</td>\n",
              "      <td>NaN</td>\n",
              "      <td>NaN</td>\n",
              "      <td>NaN</td>\n",
              "      <td>NaN</td>\n",
              "      <td>NaN</td>\n",
              "      <td>NaN</td>\n",
              "      <td>NaN</td>\n",
              "      <td>NaN</td>\n",
              "      <td>NaN</td>\n",
              "      <td>NaN</td>\n",
              "      <td>NaN</td>\n",
              "      <td>NaN</td>\n",
              "      <td>NaN</td>\n",
              "      <td>NaN</td>\n",
              "      <td>NaN</td>\n",
              "      <td>NaN</td>\n",
              "      <td>NaN</td>\n",
              "      <td>NaN</td>\n",
              "      <td>NaN</td>\n",
              "      <td>NaN</td>\n",
              "      <td>NaN</td>\n",
              "      <td>NaN</td>\n",
              "      <td>NaN</td>\n",
              "      <td>NaN</td>\n",
              "      <td>NaN</td>\n",
              "      <td>NaN</td>\n",
              "      <td>NaN</td>\n",
              "      <td>NaN</td>\n",
              "      <td>NaN</td>\n",
              "      <td>NaN</td>\n",
              "      <td>NaN</td>\n",
              "      <td>...</td>\n",
              "      <td>NaN</td>\n",
              "      <td>NaN</td>\n",
              "      <td>NaN</td>\n",
              "      <td>NaN</td>\n",
              "      <td>NaN</td>\n",
              "      <td>NaN</td>\n",
              "      <td>NaN</td>\n",
              "      <td>NaN</td>\n",
              "      <td>NaN</td>\n",
              "      <td>NaN</td>\n",
              "      <td>NaN</td>\n",
              "      <td>NaN</td>\n",
              "      <td>NaN</td>\n",
              "      <td>NaN</td>\n",
              "      <td>NaN</td>\n",
              "      <td>NaN</td>\n",
              "      <td>NaN</td>\n",
              "      <td>NaN</td>\n",
              "      <td>NaN</td>\n",
              "      <td>NaN</td>\n",
              "      <td>NaN</td>\n",
              "      <td>NaN</td>\n",
              "      <td>NaN</td>\n",
              "      <td>NaN</td>\n",
              "      <td>NaN</td>\n",
              "      <td>NaN</td>\n",
              "      <td>NaN</td>\n",
              "      <td>NaN</td>\n",
              "      <td>NaN</td>\n",
              "      <td>NaN</td>\n",
              "      <td>NaN</td>\n",
              "      <td>NaN</td>\n",
              "      <td>NaN</td>\n",
              "      <td>NaN</td>\n",
              "      <td>NaN</td>\n",
              "      <td>NaN</td>\n",
              "      <td>NaN</td>\n",
              "      <td>NaN</td>\n",
              "      <td>NaN</td>\n",
              "      <td>NaN</td>\n",
              "    </tr>\n",
              "  </tbody>\n",
              "</table>\n",
              "<p>5 rows × 232 columns</p>\n",
              "</div>"
            ],
            "text/plain": [
              "         open        high         low  ...  KST_18  KST_19  KST_20\n",
              "0  209.539993  209.710007  209.039993  ...     NaN     NaN     NaN\n",
              "1  209.570007  210.130005  209.330002  ...     NaN     NaN     NaN\n",
              "2  209.639999  210.929993  209.619995  ...     NaN     NaN     NaN\n",
              "3  211.860001  212.520004  211.270004  ...     NaN     NaN     NaN\n",
              "4  212.000000  212.149994  211.630005  ...     NaN     NaN     NaN\n",
              "\n",
              "[5 rows x 232 columns]"
            ]
          },
          "metadata": {
            "tags": []
          },
          "execution_count": 24
        }
      ]
    },
    {
      "cell_type": "code",
      "metadata": {
        "id": "p_w-i-vzKLZ7",
        "colab": {
          "base_uri": "https://localhost:8080/",
          "height": 300
        },
        "outputId": "85401a42-8c43-4183-fbed-c97d93bf838a"
      },
      "source": [
        "inputs = scaler.transform(past_df)\n",
        "inputs.shape"
      ],
      "execution_count": 25,
      "outputs": [
        {
          "output_type": "error",
          "ename": "ValueError",
          "evalue": "ignored",
          "traceback": [
            "\u001b[0;31m---------------------------------------------------------------------------\u001b[0m",
            "\u001b[0;31mValueError\u001b[0m                                Traceback (most recent call last)",
            "\u001b[0;32m<ipython-input-25-07a6514006fe>\u001b[0m in \u001b[0;36m<module>\u001b[0;34m()\u001b[0m\n\u001b[0;32m----> 1\u001b[0;31m \u001b[0minputs\u001b[0m \u001b[0;34m=\u001b[0m \u001b[0mscaler\u001b[0m\u001b[0;34m.\u001b[0m\u001b[0mtransform\u001b[0m\u001b[0;34m(\u001b[0m\u001b[0mpast_df\u001b[0m\u001b[0;34m)\u001b[0m\u001b[0;34m\u001b[0m\u001b[0;34m\u001b[0m\u001b[0m\n\u001b[0m\u001b[1;32m      2\u001b[0m \u001b[0minputs\u001b[0m\u001b[0;34m.\u001b[0m\u001b[0mshape\u001b[0m\u001b[0;34m\u001b[0m\u001b[0;34m\u001b[0m\u001b[0m\n",
            "\u001b[0;32m/usr/local/lib/python3.7/dist-packages/sklearn/preprocessing/_data.py\u001b[0m in \u001b[0;36mtransform\u001b[0;34m(self, X)\u001b[0m\n\u001b[1;32m    412\u001b[0m                         force_all_finite=\"allow-nan\")\n\u001b[1;32m    413\u001b[0m \u001b[0;34m\u001b[0m\u001b[0m\n\u001b[0;32m--> 414\u001b[0;31m         \u001b[0mX\u001b[0m \u001b[0;34m*=\u001b[0m \u001b[0mself\u001b[0m\u001b[0;34m.\u001b[0m\u001b[0mscale_\u001b[0m\u001b[0;34m\u001b[0m\u001b[0;34m\u001b[0m\u001b[0m\n\u001b[0m\u001b[1;32m    415\u001b[0m         \u001b[0mX\u001b[0m \u001b[0;34m+=\u001b[0m \u001b[0mself\u001b[0m\u001b[0;34m.\u001b[0m\u001b[0mmin_\u001b[0m\u001b[0;34m\u001b[0m\u001b[0;34m\u001b[0m\u001b[0m\n\u001b[1;32m    416\u001b[0m         \u001b[0;32mreturn\u001b[0m \u001b[0mX\u001b[0m\u001b[0;34m\u001b[0m\u001b[0;34m\u001b[0m\u001b[0m\n",
            "\u001b[0;31mValueError\u001b[0m: operands could not be broadcast together with shapes (340,232) (7,) (340,232) "
          ]
        }
      ]
    },
    {
      "cell_type": "code",
      "metadata": {
        "id": "7O38xDZKKUK7"
      },
      "source": [
        "x_test = []\n",
        "y_test = []\n",
        "for i in range(time_step, inputs.shape[0]):\n",
        "    x_test.append(inputs[i-time_step:i])\n",
        "    y_test.append(inputs[i, 0])"
      ],
      "execution_count": null,
      "outputs": []
    },
    {
      "cell_type": "code",
      "metadata": {
        "id": "XkZ71iZmKd1q"
      },
      "source": [
        "x_test, y_test = np.array(x_test), np.array(y_test)\n",
        "x_test.shape, y_test.shape"
      ],
      "execution_count": null,
      "outputs": []
    },
    {
      "cell_type": "code",
      "metadata": {
        "id": "SRt2E9yVKj8I"
      },
      "source": [
        "y_pred = model.predict(x_test)\n",
        "y_pred.shape"
      ],
      "execution_count": null,
      "outputs": []
    },
    {
      "cell_type": "code",
      "metadata": {
        "id": "meO-2PhbKmyP"
      },
      "source": [
        "y_pred = y_pred/scaler.scale_[0]\n",
        "y_test = y_test/scaler.scale_[0]\n",
        "y_pred.shape, y_test.shape"
      ],
      "execution_count": null,
      "outputs": []
    },
    {
      "cell_type": "code",
      "metadata": {
        "id": "OCIjJffNKtdD"
      },
      "source": [
        "fig = plt.figure()\n",
        "plt.plot(y_test, color='red', label='Real ' + ticker + ' Stock Price')\n",
        "plt.plot(y_pred, color='lightgreen', label='Predicted ' + ticker + ' Stock Price')\n",
        "plt.title(ticker + \" Stock Price Prediction\")\n",
        "plt.xlabel('Days')\n",
        "plt.ylabel(ticker + ' Stock Price')\n",
        "plt.legend()\n",
        "plt.show()"
      ],
      "execution_count": null,
      "outputs": []
    },
    {
      "cell_type": "code",
      "metadata": {
        "id": "fFd1VSggsr3P"
      },
      "source": [
        "accuracy = 0\n",
        "\n",
        "for i in range(1, y_pred.shape[0]):\n",
        "\n",
        "    # Determining if the actual price increased\n",
        "    actual_did_increase = y_test[i] > y_test[i-1]\n",
        "    # Determining if the predicted price increased\n",
        "    prediction_did_increase = y_pred[i] > y_pred[i-1]\n",
        "    # If both the actual and predicted prices move in the same direction, \n",
        "    # then add 1 to the accuracy\n",
        "    if (actual_did_increase == prediction_did_increase):\n",
        "        accuracy = accuracy + 1\n",
        "\n",
        "\n",
        "# Subtract 1 from y_pred.shape because we are staring at 1 instead of 0\n",
        "print(\"Model accuracy: {:.3f}%\".format(accuracy / (y_pred.shape[0] - 1) * 100)) "
      ],
      "execution_count": null,
      "outputs": []
    },
    {
      "cell_type": "markdown",
      "metadata": {
        "id": "rcxKPsPGRyOH"
      },
      "source": [
        "# Implementation of trading"
      ]
    },
    {
      "cell_type": "code",
      "metadata": {
        "id": "LoefIE3WR2g6"
      },
      "source": [
        "model_variation = []\n",
        "price_variation = []\n",
        "buy_points = []\n",
        "sell_points = []\n",
        "\n",
        "maximum_trade_size = 3000.00\n",
        "cash_on_hand = 10000.00\n",
        "initial_value = cash_on_hand\n",
        "number_of_shares = 0.00\n",
        "\n",
        "\n",
        "for i in range(1, y_pred.shape[0]):\n",
        "    # Current prediction price\n",
        "    current_pred = y_pred[i][0]\n",
        "    # Previous prediction price\n",
        "    previous_pred = y_pred[i-1][0]\n",
        "    # Current actual price\n",
        "    current_actual= y_test[i]\n",
        "    # Previous actual price\n",
        "    previous_actual = y_test[i-1]\n",
        "\n",
        "    change = ((current_pred - previous_pred) / previous_pred) * 100\n",
        "\n",
        "    if (change >= 3):\n",
        "        #print(\"Buy\" + str(change) + \"%\")\n",
        "        # The model is expecting the share price to increase\n",
        "        # Use previous actual price to determine how many shares to buy\n",
        "        maximum_allow_trade_size = min(maximum_trade_size, cash_on_hand)\n",
        "        shares_to_buy = maximum_trade_size / previous_actual\n",
        "        number_of_shares = number_of_shares + shares_to_buy\n",
        "        cash_on_hand = cash_on_hand - (shares_to_buy * previous_actual)\n",
        "        buy_points.append(i-1)\n",
        "    elif (change <= -3):\n",
        "        #print(\"Sell: \" + str(change) + \"%\")\n",
        "        # The model is expecting the share price to decrease\n",
        "        # Use previous price to determine how many shares to sell\n",
        "        shares_to_sell = min(round(maximum_trade_size / previous_actual, 4), number_of_shares)\n",
        "        number_of_shares = number_of_shares - shares_to_sell\n",
        "        cash_on_hand = cash_on_hand + (shares_to_sell * previous_actual)\n",
        "        sell_points.append(i-1)\n",
        "\n",
        "    starting_price = y_test[1]\n",
        "\n",
        "    price_variation.append((current_actual - starting_price) / starting_price * 100)\n",
        "    model_variation.append((cash_on_hand + (number_of_shares * current_actual) - initial_value) / initial_value * 100)\n",
        "\n",
        "end_price = y_test[-1]\n",
        "share_value = end_price * number_of_shares\n",
        "\n",
        "print(\"Cash left on hand: ${:.3f}\".format(cash_on_hand))\n",
        "print(\"Number of shares: {:.3f}\".format(number_of_shares))\n",
        "print(\"Value of shares: {:.3f}\".format(share_value))\n",
        "print(\"Total value: ${:.3f}\".format(cash_on_hand + share_value))\n",
        "\n",
        "print(\"Number of trades: {:.3f}\".format(len(buy_points) + len(sell_points)))"
      ],
      "execution_count": null,
      "outputs": []
    },
    {
      "cell_type": "markdown",
      "metadata": {
        "id": "2YknZZ6raVNb"
      },
      "source": [
        ""
      ]
    },
    {
      "cell_type": "code",
      "metadata": {
        "id": "EjcTNg-QaVo1"
      },
      "source": [
        "import matplotlib.ticker as mtick\n",
        "\n",
        "fig, (ax) = plt.subplots(1, 1, sharex=True)\n",
        "\n",
        "fmt = '%.0f%%' # Format you want the ticks, e.g. '40%'\n",
        "yticks = mtick.FormatStrFormatter(fmt)\n",
        "ax.yaxis.set_major_formatter(yticks)\n",
        "\n",
        "ax.plot(price_variation, label='Stock % Growth')\n",
        "ax.plot(model_variation, label='Model % Growth')\n",
        "\n",
        "ax.xaxis.grid(True, which='minor', linestyle='-', linewidth=0.25)\n",
        "ax.set_axisbelow(True)\n",
        "ax.grid(linestyle='-', linewidth='0.5', color='gray')\n",
        "\n",
        "ax.legend(loc='upper left')\n",
        "\n",
        "ax.set_ylabel('% Change from start')\n",
        "ax.set_xlabel('Number of Days')\n",
        "ax.set_title('Model vs. Stock % Change Comparison')"
      ],
      "execution_count": null,
      "outputs": []
    },
    {
      "cell_type": "code",
      "metadata": {
        "id": "k8P_CfUbcd13"
      },
      "source": [
        "import matplotlib.ticker as mtick\n",
        "\n",
        "def marker_visualization(markers):\n",
        "    fig, (ax) = plt.subplots(1, 1, sharex=True)\n",
        "\n",
        "    fmt = '%.0f%%' # Format you want the ticks, e.g. '40%'\n",
        "    yticks = mtick.FormatStrFormatter(fmt)\n",
        "    ax.yaxis.set_major_formatter(yticks)\n",
        "\n",
        "    ax.plot(price_variation, label='Stock % Growth', markevery=markers, marker='o', markerfacecolor='white')\n",
        "    ax.plot(model_variation, label='Model % Growth')\n",
        "\n",
        "    ax.xaxis.grid(True, which='minor', linestyle='-', linewidth=0.25)\n",
        "    ax.set_axisbelow(True)\n",
        "    ax.grid(linestyle='-', linewidth='0.5', color='gray')\n",
        "\n",
        "    ax.legend(loc='upper left')\n",
        "\n",
        "    ax.set_ylabel('% Change from start')\n",
        "    ax.set_xlabel('Number of Days')\n",
        "    ax.set_title('Model vs. Stock % Change Comparison')"
      ],
      "execution_count": null,
      "outputs": []
    },
    {
      "cell_type": "code",
      "metadata": {
        "id": "xcpFgpszdzO0"
      },
      "source": [
        "marker_visualization(markers=buy_points)"
      ],
      "execution_count": null,
      "outputs": []
    },
    {
      "cell_type": "code",
      "metadata": {
        "id": "CvslBynOeSsI"
      },
      "source": [
        "marker_visualization(markers=sell_points)"
      ],
      "execution_count": null,
      "outputs": []
    }
  ]
}