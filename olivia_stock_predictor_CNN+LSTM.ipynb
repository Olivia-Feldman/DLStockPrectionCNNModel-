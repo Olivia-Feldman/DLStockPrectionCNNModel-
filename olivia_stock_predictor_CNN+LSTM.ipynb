{
  "nbformat": 4,
  "nbformat_minor": 0,
  "metadata": {
    "colab": {
      "name": "stock_predictor_CNN+LSTM.ipynb",
      "provenance": [],
      "toc_visible": true,
      "include_colab_link": true
    },
    "kernelspec": {
      "name": "python3",
      "display_name": "Python 3"
    },
    "language_info": {
      "name": "python"
    },
    "accelerator": "GPU"
  },
  "cells": [
    {
      "cell_type": "markdown",
      "metadata": {
        "id": "view-in-github",
        "colab_type": "text"
      },
      "source": [
        "<a href=\"https://colab.research.google.com/github/Olivia-Feldman/DLStockPrectionCNNModel-/blob/Olivia/olivia_stock_predictor_CNN%2BLSTM.ipynb\" target=\"_parent\"><img src=\"https://colab.research.google.com/assets/colab-badge.svg\" alt=\"Open In Colab\"/></a>"
      ]
    },
    {
      "cell_type": "markdown",
      "metadata": {
        "id": "vEVXDkLxRqf3"
      },
      "source": [
        "# Default Imports"
      ]
    },
    {
      "cell_type": "code",
      "metadata": {
        "id": "e-qCNW9g0aGK",
        "colab": {
          "base_uri": "https://localhost:8080/"
        },
        "outputId": "d7d82bb0-5e7f-4ce3-9f8c-379a34caa49c"
      },
      "source": [
        "import requests\n",
        "import pandas as pd\n",
        "import numpy as np\n",
        "from datetime import datetime\n",
        "import matplotlib.pyplot as plt\n",
        "import matplotlib.ticker as tick\n",
        "from sklearn.preprocessing import StandardScaler, MinMaxScaler\n",
        "!pip install pandas_ta\n",
        "import pandas_ta as ta"
      ],
      "execution_count": 1,
      "outputs": [
        {
          "output_type": "stream",
          "text": [
            "Requirement already satisfied: pandas_ta in /usr/local/lib/python3.7/dist-packages (0.2.45b0)\n",
            "Requirement already satisfied: pandas in /usr/local/lib/python3.7/dist-packages (from pandas_ta) (1.1.5)\n",
            "Requirement already satisfied: python-dateutil>=2.7.3 in /usr/local/lib/python3.7/dist-packages (from pandas->pandas_ta) (2.8.1)\n",
            "Requirement already satisfied: pytz>=2017.2 in /usr/local/lib/python3.7/dist-packages (from pandas->pandas_ta) (2018.9)\n",
            "Requirement already satisfied: numpy>=1.15.4 in /usr/local/lib/python3.7/dist-packages (from pandas->pandas_ta) (1.19.5)\n",
            "Requirement already satisfied: six>=1.5 in /usr/local/lib/python3.7/dist-packages (from python-dateutil>=2.7.3->pandas->pandas_ta) (1.15.0)\n"
          ],
          "name": "stdout"
        }
      ]
    },
    {
      "cell_type": "markdown",
      "metadata": {
        "id": "AJgxPqtSRvna"
      },
      "source": [
        "# Set Plot Stylizations"
      ]
    },
    {
      "cell_type": "code",
      "metadata": {
        "id": "sudhkGWzRwNL"
      },
      "source": [
        "plt.rcParams.update({'font.size': 16})\n",
        "plt.rcParams['figure.figsize'] = [12, 8]\n",
        "plt.style.use('dark_background')"
      ],
      "execution_count": 2,
      "outputs": []
    },
    {
      "cell_type": "markdown",
      "metadata": {
        "id": "sNi5ukeJSAoz"
      },
      "source": [
        "# Method for getting ticker data using Yahoo Finance API\n",
        "\n",
        "This method downloads json data from the Yahoo! finance API and organizes it into a Pandas dataframe. The time frame of the data can start and end wherever the user wants it to. The start and end dates need to be a String in the form of a Unix Timestamp.\n",
        "\n",
        "*Parameters:*\n",
        "\n",
        "    ticker: String that specifies the trading ticker of the equity \n",
        "    startData: String that specifies the start time of the dataset. Formatted as a Unix Timestamp\n",
        "    endData: String that specifies the start time of the dataset. Formatted as a Unix Timestamp\n",
        "\n",
        "*Returns:*\n",
        "\n",
        "    df: Pandas dataframe with timestamp, open, high, low, close, and volume of a ticker\n",
        "\n",
        "\n",
        "*Resources:*\n",
        "*   [Dataframe.shift](https://pandas.pydata.org/docs/reference/api/pandas.DataFrame.shift.html)\n",
        "\n"
      ]
    },
    {
      "cell_type": "code",
      "metadata": {
        "id": "6ivlzMPCR_h3"
      },
      "source": [
        "def getStockDataInRange(ticker: str, startDate: str, endDate: str):\n",
        "    url = \"https://query1.finance.yahoo.com/v8/finance/chart/\" + ticker + \"?period1=\" + startDate + \"&period2=\" + endDate + \"&useYfid=true&interval=1d&includePrePost=true&events=div%7Csplit%7Cearn&lang=en-US&region=US&crumb=Yo9B6QaqJUD&corsDomain=finance.yahoo.com\"\n",
        "    x = requests.get(url)\n",
        "    jsonResponse = x.json()\n",
        "    timestamps = jsonResponse[\"chart\"][\"result\"][0][\"timestamp\"]\n",
        "    open = jsonResponse[\"chart\"][\"result\"][0][\"indicators\"][\"quote\"][0][\"open\"]\n",
        "    high = jsonResponse[\"chart\"][\"result\"][0][\"indicators\"][\"quote\"][0][\"high\"]\n",
        "    low = jsonResponse[\"chart\"][\"result\"][0][\"indicators\"][\"quote\"][0][\"low\"]\n",
        "    close = jsonResponse[\"chart\"][\"result\"][0][\"indicators\"][\"quote\"][0][\"close\"]\n",
        "    volume = jsonResponse[\"chart\"][\"result\"][0][\"indicators\"][\"quote\"][0][\"volume\"]\n",
        "\n",
        "    datetimes = list(map(toDatetime, timestamps))\n",
        "\n",
        "    data = {\n",
        "        'timestamps' : datetimes,\n",
        "        'open' : open,\n",
        "        'high' : high,\n",
        "        'low' : low,\n",
        "        'close' : close,\n",
        "        'volume' : volume\n",
        "    }\n",
        "\n",
        "    df = pd.DataFrame(data, columns=['timestamps', 'open', 'high', 'low', 'close', 'volume'])\n",
        "    # Difference if based on 'close' price\n",
        "    df['diff'] = df['close'].diff()\n",
        "    df['change'] = df['diff'] / df['close'].shift(periods=1) * 100\n",
        "    return df\n",
        "\n",
        "def toDatetime(t):\n",
        "    return datetime.fromtimestamp(t)"
      ],
      "execution_count": 3,
      "outputs": []
    },
    {
      "cell_type": "markdown",
      "metadata": {
        "id": "3EIF4l2QSH5N"
      },
      "source": [
        "# Creating Dataframe with stock data"
      ]
    },
    {
      "cell_type": "code",
      "metadata": {
        "id": "om2Lzr9VSQZZ"
      },
      "source": [
        "ticker = 'QQQ'\n",
        "endDate = datetime.now().strftime('%s')\n",
        "startDate = datetime(year=2009, month=1, day=1, hour=0, minute=0).strftime('%s')\n",
        "\n",
        "df = getStockDataInRange(ticker=ticker, startDate=startDate, endDate=endDate)"
      ],
      "execution_count": 4,
      "outputs": []
    },
    {
      "cell_type": "markdown",
      "metadata": {
        "id": "DfrjltBANH2d"
      },
      "source": [
        "# Function for plotting stock prices of data frame"
      ]
    },
    {
      "cell_type": "code",
      "metadata": {
        "id": "GCsctw6wNHR3"
      },
      "source": [
        "def visualize_prices(df, x_values, y_values):\n",
        "    ax = df.plot(x=x_values, y=[y_values], kind='line', title=ticker + ' prices in set range')\n",
        "    vals = ax.get_yticks()\n",
        "    ax.set_yticklabels(['${:1.2f}'.format(x) for x in vals])\n",
        "    ax.xaxis.grid(True, which='minor', linestyle='-', linewidth=0.25)\n",
        "    ax.set_axisbelow(True)\n",
        "    ax.grid(linestyle='-', linewidth='0.5', color='gray')\n",
        "\n",
        "    plt.show()"
      ],
      "execution_count": 5,
      "outputs": []
    },
    {
      "cell_type": "markdown",
      "metadata": {
        "id": "efbqcFC6S2Ey"
      },
      "source": [
        "# Plotting QQQ open prices from January 1, 2009 to the current day using Unix Timestamps"
      ]
    },
    {
      "cell_type": "code",
      "metadata": {
        "colab": {
          "base_uri": "https://localhost:8080/",
          "height": 503
        },
        "id": "YuaVPua0SzdS",
        "outputId": "d7b2eefa-23fd-4f36-fd37-efe7254c097d"
      },
      "source": [
        "visualize_prices(df, 'timestamps', 'open')\n",
        "\n",
        "# ax = df.plot(x='timestamps', y=['open'], kind='line', title=ticker + ' prices in set range')\n",
        "# vals = ax.get_yticks()\n",
        "# ax.set_yticklabels(['${:1.2f}'.format(x) for x in vals])\n",
        "# ax.xaxis.grid(True, which='minor', linestyle='-', linewidth=0.25)\n",
        "# ax.set_axisbelow(True)\n",
        "# ax.grid(linestyle='-', linewidth='0.5', color='gray')\n",
        "\n",
        "# plt.show()"
      ],
      "execution_count": 6,
      "outputs": [
        {
          "output_type": "display_data",
          "data": {
            "image/png": "[encoded data removed]",
            "text/plain": [
              "<Figure size 864x576 with 1 Axes>"
            ]
          },
          "metadata": {
            "tags": []
          }
        }
      ]
    },
    {
      "cell_type": "markdown",
      "metadata": {
        "id": "J3n-jeZuW5zh"
      },
      "source": [
        "# Showing Dataframe head"
      ]
    },
    {
      "cell_type": "code",
      "metadata": {
        "colab": {
          "base_uri": "https://localhost:8080/",
          "height": 204
        },
        "id": "OAWLK78DW8lg",
        "outputId": "b95dbbdc-a39c-48d9-edc2-595e468760ce"
      },
      "source": [
        "df.head()"
      ],
      "execution_count": 7,
      "outputs": [
        {
          "output_type": "execute_result",
          "data": {
            "text/html": [
              "<div>\n",
              "<style scoped>\n",
              "    .dataframe tbody tr th:only-of-type {\n",
              "        vertical-align: middle;\n",
              "    }\n",
              "\n",
              "    .dataframe tbody tr th {\n",
              "        vertical-align: top;\n",
              "    }\n",
              "\n",
              "    .dataframe thead th {\n",
              "        text-align: right;\n",
              "    }\n",
              "</style>\n",
              "<table border=\"1\" class=\"dataframe\">\n",
              "  <thead>\n",
              "    <tr style=\"text-align: right;\">\n",
              "      <th></th>\n",
              "      <th>timestamps</th>\n",
              "      <th>open</th>\n",
              "      <th>high</th>\n",
              "      <th>low</th>\n",
              "      <th>close</th>\n",
              "      <th>volume</th>\n",
              "      <th>diff</th>\n",
              "      <th>change</th>\n",
              "    </tr>\n",
              "  </thead>\n",
              "  <tbody>\n",
              "    <tr>\n",
              "      <th>0</th>\n",
              "      <td>2009-01-02 14:30:00</td>\n",
              "      <td>29.750000</td>\n",
              "      <td>31.129999</td>\n",
              "      <td>29.690001</td>\n",
              "      <td>31.030001</td>\n",
              "      <td>107891500</td>\n",
              "      <td>NaN</td>\n",
              "      <td>NaN</td>\n",
              "    </tr>\n",
              "    <tr>\n",
              "      <th>1</th>\n",
              "      <td>2009-01-05 14:30:00</td>\n",
              "      <td>30.830000</td>\n",
              "      <td>31.330000</td>\n",
              "      <td>30.590000</td>\n",
              "      <td>31.020000</td>\n",
              "      <td>91751900</td>\n",
              "      <td>-0.010000</td>\n",
              "      <td>-0.032228</td>\n",
              "    </tr>\n",
              "    <tr>\n",
              "      <th>2</th>\n",
              "      <td>2009-01-06 14:30:00</td>\n",
              "      <td>31.250000</td>\n",
              "      <td>31.629999</td>\n",
              "      <td>31.110001</td>\n",
              "      <td>31.330000</td>\n",
              "      <td>136791700</td>\n",
              "      <td>0.309999</td>\n",
              "      <td>0.999354</td>\n",
              "    </tr>\n",
              "    <tr>\n",
              "      <th>3</th>\n",
              "      <td>2009-01-07 14:30:00</td>\n",
              "      <td>30.730000</td>\n",
              "      <td>30.900000</td>\n",
              "      <td>30.190001</td>\n",
              "      <td>30.440001</td>\n",
              "      <td>133879800</td>\n",
              "      <td>-0.889999</td>\n",
              "      <td>-2.840726</td>\n",
              "    </tr>\n",
              "    <tr>\n",
              "      <th>4</th>\n",
              "      <td>2009-01-08 14:30:00</td>\n",
              "      <td>30.379999</td>\n",
              "      <td>30.799999</td>\n",
              "      <td>30.080000</td>\n",
              "      <td>30.760000</td>\n",
              "      <td>131926600</td>\n",
              "      <td>0.320000</td>\n",
              "      <td>1.051247</td>\n",
              "    </tr>\n",
              "  </tbody>\n",
              "</table>\n",
              "</div>"
            ],
            "text/plain": [
              "           timestamps       open       high  ...     volume      diff    change\n",
              "0 2009-01-02 14:30:00  29.750000  31.129999  ...  107891500       NaN       NaN\n",
              "1 2009-01-05 14:30:00  30.830000  31.330000  ...   91751900 -0.010000 -0.032228\n",
              "2 2009-01-06 14:30:00  31.250000  31.629999  ...  136791700  0.309999  0.999354\n",
              "3 2009-01-07 14:30:00  30.730000  30.900000  ...  133879800 -0.889999 -2.840726\n",
              "4 2009-01-08 14:30:00  30.379999  30.799999  ...  131926600  0.320000  1.051247\n",
              "\n",
              "[5 rows x 8 columns]"
            ]
          },
          "metadata": {
            "tags": []
          },
          "execution_count": 7
        }
      ]
    },
    {
      "cell_type": "markdown",
      "metadata": {
        "id": "AZKwPB2hZjly"
      },
      "source": [
        "# Creating Training Data"
      ]
    },
    {
      "cell_type": "code",
      "metadata": {
        "colab": {
          "base_uri": "https://localhost:8080/",
          "height": 741
        },
        "id": "6No5LdOJZmdX",
        "outputId": "6547d2a8-c904-4c53-a1c1-3640ef26c2e6"
      },
      "source": [
        "training_data = df[df['timestamps']<'2020-01-01'].copy()\n",
        "\n",
        "visualize_prices(training_data, 'timestamps', 'open')\n",
        "\n",
        "training_data = training_data.drop(['timestamps'], axis=1)\n",
        "training_data = training_data.iloc[1:]    # Drops first row in dataframe\n",
        "training_copy = training_data   # Need this to append last n row to testing data later\n",
        "print(training_data )\n",
        "#training_data.head() "
      ],
      "execution_count": 8,
      "outputs": [
        {
          "output_type": "display_data",
          "data": {
            "image/png": "[encoded data removed]",
            "text/plain": [
              "<Figure size 864x576 with 1 Axes>"
            ]
          },
          "metadata": {
            "tags": []
          }
        },
        {
          "output_type": "stream",
          "text": [
            "            open        high         low  ...     volume      diff    change\n",
            "1      30.830000   31.330000   30.590000  ...   91751900 -0.010000 -0.032228\n",
            "2      31.250000   31.629999   31.110001  ...  136791700  0.309999  0.999354\n",
            "3      30.730000   30.900000   30.190001  ...  133879800 -0.889999 -2.840726\n",
            "4      30.379999   30.799999   30.080000  ...  131926600  0.320000  1.051247\n",
            "5      30.770000   30.790001   29.920000  ...  117137900 -0.690001 -2.243175\n",
            "...          ...         ...         ...  ...        ...       ...       ...\n",
            "2763  212.000000  212.089996  211.440002  ...    7089000  0.110001  0.051934\n",
            "2764  212.259995  213.809998  212.229996  ...   17067500  1.869995  0.882406\n",
            "2765  214.539993  214.559998  213.039993  ...   18134100 -0.179993 -0.084191\n",
            "2766  213.500000  213.630005  211.160004  ...   21815500 -1.399994 -0.655397\n",
            "2767  211.529999  212.759995  211.199997  ...   18170900  0.399994  0.188490\n",
            "\n",
            "[2767 rows x 7 columns]\n"
          ],
          "name": "stdout"
        }
      ]
    },
    {
      "cell_type": "code",
      "metadata": {
        "id": "YDdV5l5jlk4-"
      },
      "source": [
        "from pandas_ta import ppo,hma,psar,cmo,tema,cmf,trix, kst,macd,roc,ema,dema,cci,rsi,willr,stoch,mfi,bbands\n",
        "import pandas_ta  as ta"
      ],
      "execution_count": 9,
      "outputs": []
    },
    {
      "cell_type": "code",
      "metadata": {
        "id": "J5lTwmNimb2X",
        "colab": {
          "base_uri": "https://localhost:8080/"
        },
        "outputId": "5366c64c-3532-4e1d-b5d8-c9a4a71970da"
      },
      "source": [
        "    dftemp = pd.DataFrame\n",
        "    dftemp = bbands(df['close']).fillna(0)\n",
        "    print(dftemp)"
      ],
      "execution_count": 10,
      "outputs": [
        {
          "output_type": "stream",
          "text": [
            "       BBL_5_2.0   BBM_5_2.0   BBU_5_2.0  BBB_5_2.0\n",
            "0       0.000000    0.000000    0.000000   0.000000\n",
            "1       0.000000    0.000000    0.000000   0.000000\n",
            "2       0.000000    0.000000    0.000000   0.000000\n",
            "3       0.000000    0.000000    0.000000   0.000000\n",
            "4      30.248079   30.916000   31.583922   4.320881\n",
            "...          ...         ...         ...        ...\n",
            "3098  333.245596  338.390009  343.534421   3.040523\n",
            "3099  334.358403  339.138007  343.917610   2.818677\n",
            "3100  334.302587  339.080005  343.857423   2.817871\n",
            "3101  338.076787  340.084003  342.091219   1.180424\n",
            "3102  337.047738  339.797998  342.548258   1.618762\n",
            "\n",
            "[3103 rows x 4 columns]\n"
          ],
          "name": "stdout"
        }
      ]
    },
    {
      "cell_type": "code",
      "metadata": {
        "id": "Vqtc36wSlla4"
      },
      "source": [
        "\n",
        "######################################## Trend Indicators ############################\n",
        "\n",
        "# MACD: Moving Average Convergance Diverage Momentum\n",
        "def calculate_macd(df, iteration):\n",
        "    dftemp = pd.DataFrame\n",
        "    dftemp = macd(df['close']).fillna(0)\n",
        "    df['MACD_'+str(iteration)] = dftemp['MACD_12_26_9' ]\n",
        "# ROC: Price Rate of Change\n",
        "def calculate_roc(df, iteration):\n",
        "    dftemp = pd.DataFrame\n",
        "    dftemp = roc(df['close']).fillna(0)\n",
        "    df['ROC_'+str(iteration)] = dftemp\n",
        "# EMA: Exponential Moving Average\n",
        "def calculate_ema(df, iteration):\n",
        "    dftemp = pd.DataFrame\n",
        "    dftemp = ema(df['close']).fillna(0)\n",
        "    df['EMA_'+str(iteration)] = dftemp\n",
        "\n",
        "# DEMA: Double Exponential Moving Average\n",
        "def calculate_dema(df, iteration):\n",
        "    dftemp = pd.DataFrame\n",
        "    dftemp = dema(df['close']).fillna(0)\n",
        "    df['DEMA_'+str(iteration)] = dftemp\n",
        "   \n",
        "# CCI: Commodity Channel Index\n",
        "def calculate_cci(df, iteration):  \n",
        "    dftemp = pd.DataFrame\n",
        "    dftemp = cci(df['high'],df['low'],df['close']).fillna(0)\n",
        "    df['CCI_'+str(iteration)] = dftemp\n",
        "\n",
        "# RSI: Relative Strength Index     \n",
        "def calculate_rsi(df, iteration):\n",
        "    dftemp = pd.DataFrame\n",
        "    dftemp = rsi(df['close']).fillna(0)\n",
        "    df['RSI_'+str(iteration)] = dftemp\n",
        "\n",
        "# WR: Williams %R Indicator\n",
        "def calculate_WR(df, iteration):\n",
        "    dftemp = pd.DataFrame\n",
        "    dftemp = willr(df['high'],df['low'],df['close']).fillna(0)\n",
        "    df['WR_'+str(iteration)] = dftemp\n",
        "\n",
        "# SR: Stochastic Oscillator\n",
        "def calculate_sr(df, iteration):\n",
        "    dftemp = pd.DataFrame\n",
        "    dftemp = stoch(df['high'],df['low'],df['close']).fillna(0)\n",
        "    df['SR_'+str(iteration)] = dftemp[\"STOCHd_14_3_3\"]\n",
        "\n",
        "# MFI: Money Flow Index\n",
        "def calculate_mfi(df, iteration):\n",
        "    dftemp = pd.DataFrame\n",
        "    dftemp = mfi(df['high'],df['low'],df['close'],df['volume']).fillna(0)\n",
        "    df['MFI_'+str(iteration)] = dftemp\n",
        " # BB: Bollinger Band look at data frame return  \n",
        "def calculate_bb(df, iteration):\n",
        "    dftemp = pd.DataFrame\n",
        "    dftemp = bbands(df['close']).fillna(0)\n",
        "    df['BB_'+str(iteration)] = dftemp['BBB_5_2.0']\n",
        "def calculate_cmo(df,iteration):\n",
        "    dftemp = pd.DataFrame\n",
        "    dftemp = cmo(df['close'])\n",
        "    df['CMO_' + str(iteration)] = dftemp.fillna(0)\n",
        "def calculate_tema(df,iteration):\n",
        "    dftemp = pd.DataFrame\n",
        "    dftemp = tema(df['close'])\n",
        "    df['TEMA_' + str(iteration)] = dftemp.fillna(0)\n",
        "def calculate_cmf(df,iteration):\n",
        "    dftemp = pd.DataFrame\n",
        "    dftemp = cmf(df['high'],df['low'],df['close'],df['volume']).fillna(0)\n",
        "    df['CMF_' + str(iteration)] = dftemp\n",
        "def calculate_trix(df,iteration):\n",
        "    dftemp = pd.DataFrame\n",
        "    dftemp = trix(df['close']).fillna(0)\n",
        "    df['TRIX_' + str(iteration)] = dftemp['TRIX_30_9']\n",
        "def calculate_kst(df,iteration):\n",
        "    dftemp = pd.DataFrame\n",
        "    dftemp = kst(df['close']).fillna(0)\n",
        "    df['KST_' + str(iteration)] = dftemp['KST_10_15_20_30_10_10_10_15']"
      ],
      "execution_count": 11,
      "outputs": []
    },
    {
      "cell_type": "code",
      "metadata": {
        "id": "u09ZmsmYrBuG"
      },
      "source": [
        "indicator_range = 20\n",
        "x = 6\n",
        "\n",
        "for x in range(6, indicator_range+1):\n",
        "    calculate_macd(df, x)\n",
        "for x in range(6, indicator_range+1):\n",
        "    calculate_rsi(df, x)\n",
        "for x in range(6, indicator_range+1):\n",
        "    calculate_sr(df, x)\n",
        "for x in range(6, indicator_range+1):\n",
        "    calculate_WR(df, x)\n",
        "for x in range(6, indicator_range+1):\n",
        "    calculate_ema(df, x)\n",
        "for x in range(6, indicator_range+1):\n",
        "    calculate_mfi(df, x)\n",
        "for x in range(6, indicator_range+1):\n",
        "    calculate_bb(df, x)\n",
        "for x in range(6, indicator_range+1):\n",
        "    calculate_dema(df, x)\n",
        "for x in range(6, indicator_range+1):\n",
        "    calculate_cci(df, x)\n",
        "for x in range(6, indicator_range+1):\n",
        "    calculate_roc(df, x)\n",
        "for x in range(6, indicator_range+1):\n",
        "    calculate_cmo(df, x)\n",
        "for x in range(6, indicator_range+1):\n",
        "    calculate_tema(df, x)\n",
        "for x in range(6, indicator_range+1):\n",
        "    calculate_cmf(df, x)\n",
        "for x in range(6, indicator_range+1):\n",
        "    calculate_trix(df, x)\n",
        "for x in range(6, indicator_range+1):\n",
        "    calculate_kst(df, x)"
      ],
      "execution_count": 12,
      "outputs": []
    },
    {
      "cell_type": "code",
      "metadata": {
        "id": "Xk_P4CkFsf_o",
        "colab": {
          "base_uri": "https://localhost:8080/"
        },
        "outputId": "ea684c38-acb6-465f-e258-4229cc2aab9d"
      },
      "source": [
        "from sklearn.model_selection import train_test_split\n",
        "list_features = list(df.loc[:, 'open': 'KST_'+str(indicator_range)].columns) # Gets the names of all the columns from MACD to RSI\n",
        "print('Total number of features', len(list_features))\n",
        "print(\"Columns:\", list_features)\n",
        "\n",
        "x_train_data, x_test_data, y_train_data, y_test_data = train_test_split(df.loc[:, 'MACD_6': 'KST_'+str(indicator_range)].values, df['open'].values, train_size=0.8, test_size=0.2, random_state=1, shuffle=True)"
      ],
      "execution_count": 13,
      "outputs": [
        {
          "output_type": "stream",
          "text": [
            "Total number of features 232\n",
            "Columns: ['open', 'high', 'low', 'close', 'volume', 'diff', 'change', 'MACD_6', 'MACD_7', 'MACD_8', 'MACD_9', 'MACD_10', 'MACD_11', 'MACD_12', 'MACD_13', 'MACD_14', 'MACD_15', 'MACD_16', 'MACD_17', 'MACD_18', 'MACD_19', 'MACD_20', 'RSI_6', 'RSI_7', 'RSI_8', 'RSI_9', 'RSI_10', 'RSI_11', 'RSI_12', 'RSI_13', 'RSI_14', 'RSI_15', 'RSI_16', 'RSI_17', 'RSI_18', 'RSI_19', 'RSI_20', 'SR_6', 'SR_7', 'SR_8', 'SR_9', 'SR_10', 'SR_11', 'SR_12', 'SR_13', 'SR_14', 'SR_15', 'SR_16', 'SR_17', 'SR_18', 'SR_19', 'SR_20', 'WR_6', 'WR_7', 'WR_8', 'WR_9', 'WR_10', 'WR_11', 'WR_12', 'WR_13', 'WR_14', 'WR_15', 'WR_16', 'WR_17', 'WR_18', 'WR_19', 'WR_20', 'EMA_6', 'EMA_7', 'EMA_8', 'EMA_9', 'EMA_10', 'EMA_11', 'EMA_12', 'EMA_13', 'EMA_14', 'EMA_15', 'EMA_16', 'EMA_17', 'EMA_18', 'EMA_19', 'EMA_20', 'MFI_6', 'MFI_7', 'MFI_8', 'MFI_9', 'MFI_10', 'MFI_11', 'MFI_12', 'MFI_13', 'MFI_14', 'MFI_15', 'MFI_16', 'MFI_17', 'MFI_18', 'MFI_19', 'MFI_20', 'BB_6', 'BB_7', 'BB_8', 'BB_9', 'BB_10', 'BB_11', 'BB_12', 'BB_13', 'BB_14', 'BB_15', 'BB_16', 'BB_17', 'BB_18', 'BB_19', 'BB_20', 'DEMA_6', 'DEMA_7', 'DEMA_8', 'DEMA_9', 'DEMA_10', 'DEMA_11', 'DEMA_12', 'DEMA_13', 'DEMA_14', 'DEMA_15', 'DEMA_16', 'DEMA_17', 'DEMA_18', 'DEMA_19', 'DEMA_20', 'CCI_6', 'CCI_7', 'CCI_8', 'CCI_9', 'CCI_10', 'CCI_11', 'CCI_12', 'CCI_13', 'CCI_14', 'CCI_15', 'CCI_16', 'CCI_17', 'CCI_18', 'CCI_19', 'CCI_20', 'ROC_6', 'ROC_7', 'ROC_8', 'ROC_9', 'ROC_10', 'ROC_11', 'ROC_12', 'ROC_13', 'ROC_14', 'ROC_15', 'ROC_16', 'ROC_17', 'ROC_18', 'ROC_19', 'ROC_20', 'CMO_6', 'CMO_7', 'CMO_8', 'CMO_9', 'CMO_10', 'CMO_11', 'CMO_12', 'CMO_13', 'CMO_14', 'CMO_15', 'CMO_16', 'CMO_17', 'CMO_18', 'CMO_19', 'CMO_20', 'TEMA_6', 'TEMA_7', 'TEMA_8', 'TEMA_9', 'TEMA_10', 'TEMA_11', 'TEMA_12', 'TEMA_13', 'TEMA_14', 'TEMA_15', 'TEMA_16', 'TEMA_17', 'TEMA_18', 'TEMA_19', 'TEMA_20', 'CMF_6', 'CMF_7', 'CMF_8', 'CMF_9', 'CMF_10', 'CMF_11', 'CMF_12', 'CMF_13', 'CMF_14', 'CMF_15', 'CMF_16', 'CMF_17', 'CMF_18', 'CMF_19', 'CMF_20', 'TRIX_6', 'TRIX_7', 'TRIX_8', 'TRIX_9', 'TRIX_10', 'TRIX_11', 'TRIX_12', 'TRIX_13', 'TRIX_14', 'TRIX_15', 'TRIX_16', 'TRIX_17', 'TRIX_18', 'TRIX_19', 'TRIX_20', 'KST_6', 'KST_7', 'KST_8', 'KST_9', 'KST_10', 'KST_11', 'KST_12', 'KST_13', 'KST_14', 'KST_15', 'KST_16', 'KST_17', 'KST_18', 'KST_19', 'KST_20']\n"
          ],
          "name": "stdout"
        }
      ]
    },
    {
      "cell_type": "code",
      "metadata": {
        "colab": {
          "base_uri": "https://localhost:8080/"
        },
        "id": "42o3xTXkf9io",
        "outputId": "f4a9f1d2-00a3-4274-fd21-f631f735a224"
      },
      "source": [
        "print(x_train_data.shape)"
      ],
      "execution_count": 14,
      "outputs": [
        {
          "output_type": "stream",
          "text": [
            "(2482, 225)\n"
          ],
          "name": "stdout"
        }
      ]
    },
    {
      "cell_type": "code",
      "metadata": {
        "colab": {
          "base_uri": "https://localhost:8080/"
        },
        "id": "rQav1rBggxPO",
        "outputId": "3f14d443-a68a-471b-e010-8e8bbcb45c48"
      },
      "source": [
        "def reshape_as_image(x, img_width, img_height):\n",
        "    x_temp = np.zeros((len(x), img_height, img_width))\n",
        "    for i in range(x.shape[0]):\n",
        "        # print(type(x), type(x_temp), x.shape)\n",
        "        x_temp[i] = np.reshape(x[i], (img_height, img_width))\n",
        "\n",
        "    return x_temp\n",
        "\n",
        "scaler = MinMaxScaler()\n",
        "x_train_data = scaler.fit_transform(x_train_data)\n",
        "dim = int(np.sqrt(225))\n",
        "x_train_data = reshape_as_image(x_train_data, dim, dim)\n",
        "x_cv = reshape_as_image(x_train_data, dim, dim)\n",
        "x_test_data = reshape_as_image(x_test_data, dim, dim)\n",
        "\n",
        "x_train_data = np.stack((x_train_data,) * 3, axis=-1)\n",
        "x_test_data = np.stack((x_test_data,) * 3, axis=-1)\n",
        "x_cv = np.stack((x_cv,) * 3, axis=-1)\n",
        "\n",
        "print(\"final shape of x, y train/test {} {} {} {}\".format(x_train_data.shape, y_train_data.shape, x_test_data.shape, y_test_data.shape))\n",
        "print(x_cv.shape)"
      ],
      "execution_count": 15,
      "outputs": [
        {
          "output_type": "stream",
          "text": [
            "final shape of x, y train/test (2482, 15, 15, 3) (2482,) (621, 15, 15, 3) (621,)\n",
            "(2482, 15, 15, 3)\n"
          ],
          "name": "stdout"
        }
      ]
    },
    {
      "cell_type": "markdown",
      "metadata": {
        "id": "WKO6Wl1jIRJe"
      },
      "source": [
        "# Creating Testing Data"
      ]
    },
    {
      "cell_type": "code",
      "metadata": {
        "id": "zIn9tS1NIVVm"
      },
      "source": [
        "#testing_data = df[df['timestamps']>='2020-01-01'].copy()\n",
        "#visualize_prices(testing_data, 'timestamps', 'open')\n",
        "\n",
        "#testing_data = testing_data.drop(['timestamps'], axis=1)\n",
        "#testing_data = testing_data.iloc[1:]    # Drops first row in dataframe\n",
        "#testing_data.head() "
      ],
      "execution_count": 16,
      "outputs": []
    },
    {
      "cell_type": "markdown",
      "metadata": {
        "id": "TBYF_cfenkuZ"
      },
      "source": [
        "# Using z-score standardization"
      ]
    },
    {
      "cell_type": "code",
      "metadata": {
        "id": "KKsISLrnggMa"
      },
      "source": [
        "# from scipy import stats\n",
        "\n",
        "# training_data = stats.zscore(training_data, axis=0, ddof=0, nan_policy='omit')\n",
        "\n",
        "# n_bins = 50\n",
        "\n",
        "# fig, axs = plt.subplots(2, 4, sharey=True, tight_layout=True)\n",
        "# axs[0][0].hist(training_data[:, 0], bins=n_bins)\n",
        "# axs[0][1].hist(training_data[:, 1], bins=n_bins)\n",
        "# axs[0][2].hist(training_data[:, 2], bins=n_bins)\n",
        "# axs[0][3].hist(training_data[:, 3], bins=n_bins)\n",
        "# axs[1][0].hist(training_data[:, 4], bins=n_bins)\n",
        "# axs[1][1].hist(training_data[:, 5], bins=n_bins)\n",
        "# axs[1][2].hist(training_data[:, 6], bins=n_bins)"
      ],
      "execution_count": 17,
      "outputs": []
    },
    {
      "cell_type": "markdown",
      "metadata": {
        "id": "y96t1aZyER8d"
      },
      "source": [
        "# Normalize data between 0 and 1"
      ]
    },
    {
      "cell_type": "code",
      "metadata": {
        "id": "nTLjI_h-ENhr"
      },
      "source": [
        "\n"
      ],
      "execution_count": 17,
      "outputs": []
    },
    {
      "cell_type": "markdown",
      "metadata": {
        "id": "pFc60CcBkHOo"
      },
      "source": [
        "# Create data with time_step = 10"
      ]
    },
    {
      "cell_type": "code",
      "metadata": {
        "id": "zvl5io7XkQyo",
        "colab": {
          "base_uri": "https://localhost:8080/"
        },
        "outputId": "e2dea056-9013-48d2-b4bf-c7a2a552bf57"
      },
      "source": [
        "print(y_train_data)\n",
        "\n",
        "time_step = 10\n",
        "\n",
        "x_train = []\n",
        "y_train= []\n",
        "\n",
        "for i in range(time_step,x_train_data.shape[0]):\n",
        "    x_train.append(x_train_data[i-time_step:i])\n",
        "  \n",
        "\n",
        "for i in range(time_step,y_train_data.shape[0]):\n",
        "    y_train.append(y_train_data[i])\n",
        "\n",
        "print(len(y_train))"
      ],
      "execution_count": 18,
      "outputs": [
        {
          "output_type": "stream",
          "text": [
            "[ 66.58999634 106.91999817 183.         ...  72.93000031  43.65999985\n",
            "  68.20999908]\n",
            "2472\n"
          ],
          "name": "stdout"
        }
      ]
    },
    {
      "cell_type": "code",
      "metadata": {
        "id": "0yW7gkBdluFR",
        "colab": {
          "base_uri": "https://localhost:8080/"
        },
        "outputId": "3bb8e662-6b8d-426a-927b-311b9467c921"
      },
      "source": [
        "x_train, y_train = np.array(x_train), np.array(y_train)\n",
        "x_train.shape, y_train.shape"
      ],
      "execution_count": 19,
      "outputs": [
        {
          "output_type": "execute_result",
          "data": {
            "text/plain": [
              "((2472, 10, 15, 15, 3), (2472,))"
            ]
          },
          "metadata": {
            "tags": []
          },
          "execution_count": 19
        }
      ]
    },
    {
      "cell_type": "code",
      "metadata": {
        "id": "m49tUVH6oY6f",
        "colab": {
          "base_uri": "https://localhost:8080/"
        },
        "outputId": "c0172d6e-70e6-4f8f-cde1-92cc6293de2c"
      },
      "source": [
        "print(x_train.shape[1])\n",
        "print(x_train.shape[2])\n",
        "print(x_train.shape[3])\n",
        "print(x_train.shape[4])"
      ],
      "execution_count": 20,
      "outputs": [
        {
          "output_type": "stream",
          "text": [
            "10\n",
            "15\n",
            "15\n",
            "3\n"
          ],
          "name": "stdout"
        }
      ]
    },
    {
      "cell_type": "markdown",
      "metadata": {
        "id": "r5Qx2TiW3FXY"
      },
      "source": [
        "# Import needed Keras components"
      ]
    },
    {
      "cell_type": "code",
      "metadata": {
        "id": "J6bM-lTc2VPi"
      },
      "source": [
        "from tensorflow.keras import Sequential\n",
        "from tensorflow.keras.layers import Dense, LSTM, Dropout, Conv2D, MaxPool2D, Activation,Flatten, InputLayer, TimeDistributed"
      ],
      "execution_count": 21,
      "outputs": []
    },
    {
      "cell_type": "markdown",
      "metadata": {
        "id": "HzI-HDW13MZF"
      },
      "source": [
        "# Build CNN-LSTM model"
      ]
    },
    {
      "cell_type": "code",
      "metadata": {
        "id": "kIz0Cf3B3Q72"
      },
      "source": [
        "filters = 32\n",
        "\n",
        "# model = Sequential([\n",
        "#     Conv2D(filters=filters, \n",
        "#            kernel_size=3, \n",
        "#            padding='same', \n",
        "#            activation='tanh', \n",
        "#            input_shape=(x_train.shape[1], x_train.shape[2],x_train.shape[3])),\n",
        "#     MaxPool2D(pool_size=2, padding='same'),\n",
        "\n",
        "    \n",
        "#     Activation('relu'),\n",
        "#     LSTM(units=64, \n",
        "#          activation='relu', \n",
        "#          #return_sequences=True, \n",
        "#          input_shape=(x_train.shape[1],x_train.shape[2],x_train.shape[3], filters)),\n",
        "#     Flatten(),\n",
        "#     #Dropout(0.2),\n",
        "#     # LSTM(\n",
        "#     #     units=80, \n",
        "#     #     activation='relu'),\n",
        "#     Dense(units=3) # Should I use a kernel initializer?\n",
        "# ])"
      ],
      "execution_count": 22,
      "outputs": []
    },
    {
      "cell_type": "code",
      "metadata": {
        "id": "T2Isvr07bWum",
        "outputId": "68636ab3-59d9-4dcf-8ba4-6a99acef27fa",
        "colab": {
          "base_uri": "https://localhost:8080/"
        }
      },
      "source": [
        "model = Sequential()\n",
        "\n",
        "input_layer = InputLayer(input_shape=(10, x_train.shape[2], x_train.shape[3], x_train.shape[4]))\n",
        "model.add(input_layer)\n",
        "print(model.output_shape)\n",
        "\n",
        "conv_2d_layer = Conv2D(filters=filters, kernel_size=3, strides=2, padding='same')\n",
        "model.add(TimeDistributed(conv_2d_layer))\n",
        "print(model.output_shape)\n",
        "\n",
        "max_2D_pooling = MaxPool2D(pool_size=2, padding='same')\n",
        "model.add(TimeDistributed(max_2D_pooling))\n",
        "print(model.output_shape)\n",
        "\n",
        "model.add(TimeDistributed(Flatten()))\n",
        "print(model.output_shape)\n",
        "\n",
        "model.add(LSTM(units=64, activation='relu'))\n",
        "print(model.output_shape)\n",
        "\n",
        "model.add(Dense(units=3, activation='softmax'))\n",
        "print(model.output_shape)"
      ],
      "execution_count": 23,
      "outputs": [
        {
          "output_type": "stream",
          "text": [
            "(None, 10, 15, 15, 3)\n",
            "(None, 10, 8, 8, 32)\n",
            "(None, 10, 4, 4, 32)\n",
            "(None, 10, 512)\n",
            "(None, 64)\n",
            "(None, 3)\n"
          ],
          "name": "stdout"
        }
      ]
    },
    {
      "cell_type": "markdown",
      "metadata": {
        "id": "g17NdDV3692C"
      },
      "source": [
        "# Show summary of model"
      ]
    },
    {
      "cell_type": "code",
      "metadata": {
        "id": "b1wObeoq60EP",
        "colab": {
          "base_uri": "https://localhost:8080/"
        },
        "outputId": "0dd2d64e-cf5d-4fee-8df3-fe3bf3d764df"
      },
      "source": [
        "model.summary()"
      ],
      "execution_count": 24,
      "outputs": [
        {
          "output_type": "stream",
          "text": [
            "Model: \"sequential\"\n",
            "_________________________________________________________________\n",
            "Layer (type)                 Output Shape              Param #   \n",
            "=================================================================\n",
            "time_distributed (TimeDistri (None, 10, 8, 8, 32)      896       \n",
            "_________________________________________________________________\n",
            "time_distributed_1 (TimeDist (None, 10, 4, 4, 32)      0         \n",
            "_________________________________________________________________\n",
            "time_distributed_2 (TimeDist (None, 10, 512)           0         \n",
            "_________________________________________________________________\n",
            "lstm (LSTM)                  (None, 64)                147712    \n",
            "_________________________________________________________________\n",
            "dense (Dense)                (None, 3)                 195       \n",
            "=================================================================\n",
            "Total params: 148,803\n",
            "Trainable params: 148,803\n",
            "Non-trainable params: 0\n",
            "_________________________________________________________________\n"
          ],
          "name": "stdout"
        }
      ]
    },
    {
      "cell_type": "markdown",
      "metadata": {
        "id": "ZE5YawtIQdpw"
      },
      "source": [
        "# Compiling model"
      ]
    },
    {
      "cell_type": "code",
      "metadata": {
        "id": "xnGsH2njQGHk"
      },
      "source": [
        "from tensorflow.keras import optimizers\n",
        "\n",
        "learning_rate = 0.001\n",
        "\n",
        "optimizer = optimizers.Adam(learning_rate=learning_rate, beta_1=0.9, beta_2=0.999, amsgrad=False)\n",
        "\n",
        "model.compile(optimizer=optimizer, loss='mean_absolute_error')"
      ],
      "execution_count": 25,
      "outputs": []
    },
    {
      "cell_type": "markdown",
      "metadata": {
        "id": "Fq1d4zmVQhDn"
      },
      "source": [
        "# Fitting model"
      ]
    },
    {
      "cell_type": "code",
      "metadata": {
        "id": "3zDRK013QjqD",
        "colab": {
          "base_uri": "https://localhost:8080/"
        },
        "outputId": "5ee5c33f-0da1-493a-acae-2baa147627f2"
      },
      "source": [
        "model.fit(x_train, y_train, epochs=100, batch_size=64)"
      ],
      "execution_count": null,
      "outputs": [
        {
          "output_type": "stream",
          "text": [
            "Epoch 1/100\n",
            "39/39 [==============================] - 4s 50ms/step - loss: 117.8164\n",
            "Epoch 2/100\n",
            "39/39 [==============================] - 2s 51ms/step - loss: 117.4040\n",
            "Epoch 3/100\n",
            "39/39 [==============================] - 2s 49ms/step - loss: 118.9899\n",
            "Epoch 4/100\n",
            "39/39 [==============================] - 2s 51ms/step - loss: 115.8200\n",
            "Epoch 5/100\n",
            "39/39 [==============================] - 2s 50ms/step - loss: 119.3726\n",
            "Epoch 6/100\n",
            "39/39 [==============================] - 2s 49ms/step - loss: 118.4726\n",
            "Epoch 7/100\n",
            "39/39 [==============================] - 2s 51ms/step - loss: 115.7146\n",
            "Epoch 8/100\n",
            "39/39 [==============================] - 2s 49ms/step - loss: 116.5359\n",
            "Epoch 9/100\n",
            "39/39 [==============================] - 2s 50ms/step - loss: 117.1151\n",
            "Epoch 10/100\n",
            "39/39 [==============================] - 2s 50ms/step - loss: 119.8947\n",
            "Epoch 11/100\n",
            "39/39 [==============================] - 2s 49ms/step - loss: 117.7277\n",
            "Epoch 12/100\n",
            "39/39 [==============================] - 2s 49ms/step - loss: 115.2566\n",
            "Epoch 13/100\n",
            "39/39 [==============================] - 2s 48ms/step - loss: 116.2992\n",
            "Epoch 14/100\n",
            "39/39 [==============================] - 2s 49ms/step - loss: 118.0796\n",
            "Epoch 15/100\n",
            "39/39 [==============================] - 2s 51ms/step - loss: 118.0397\n",
            "Epoch 16/100\n",
            "39/39 [==============================] - 2s 50ms/step - loss: 120.9755\n",
            "Epoch 17/100\n",
            "39/39 [==============================] - 2s 49ms/step - loss: 116.4060\n",
            "Epoch 18/100\n",
            "39/39 [==============================] - 2s 49ms/step - loss: 116.7319\n",
            "Epoch 19/100\n",
            "39/39 [==============================] - 2s 50ms/step - loss: 117.1547\n",
            "Epoch 20/100\n",
            "39/39 [==============================] - 2s 49ms/step - loss: 115.8103\n",
            "Epoch 21/100\n",
            "39/39 [==============================] - 2s 48ms/step - loss: 119.7092\n",
            "Epoch 22/100\n",
            "39/39 [==============================] - 2s 49ms/step - loss: 116.1212\n",
            "Epoch 23/100\n",
            "39/39 [==============================] - 2s 49ms/step - loss: 115.5497\n",
            "Epoch 24/100\n",
            "39/39 [==============================] - 2s 49ms/step - loss: 118.0307\n",
            "Epoch 25/100\n",
            "39/39 [==============================] - 2s 50ms/step - loss: 117.6631\n",
            "Epoch 26/100\n",
            "39/39 [==============================] - 2s 48ms/step - loss: 118.1368\n",
            "Epoch 27/100\n",
            "39/39 [==============================] - 2s 50ms/step - loss: 116.6353\n",
            "Epoch 28/100\n",
            "39/39 [==============================] - 2s 50ms/step - loss: 117.7004\n",
            "Epoch 29/100\n",
            "39/39 [==============================] - 2s 50ms/step - loss: 116.8907\n",
            "Epoch 30/100\n",
            "39/39 [==============================] - 2s 49ms/step - loss: 116.5319\n",
            "Epoch 31/100\n",
            "39/39 [==============================] - 2s 49ms/step - loss: 116.6704\n",
            "Epoch 32/100\n",
            "39/39 [==============================] - 2s 49ms/step - loss: 119.1727\n",
            "Epoch 33/100\n",
            "39/39 [==============================] - 2s 49ms/step - loss: 118.5689\n",
            "Epoch 34/100\n",
            "39/39 [==============================] - 2s 49ms/step - loss: 119.7343\n",
            "Epoch 35/100\n",
            "39/39 [==============================] - 2s 50ms/step - loss: 118.9486\n",
            "Epoch 36/100\n",
            "39/39 [==============================] - 2s 50ms/step - loss: 117.0670\n",
            "Epoch 37/100\n",
            "39/39 [==============================] - 2s 50ms/step - loss: 118.1695\n",
            "Epoch 38/100\n",
            "39/39 [==============================] - 2s 50ms/step - loss: 117.0332\n",
            "Epoch 39/100\n",
            "39/39 [==============================] - 2s 49ms/step - loss: 118.5300\n",
            "Epoch 40/100\n",
            "39/39 [==============================] - 2s 51ms/step - loss: 114.8503\n",
            "Epoch 41/100\n",
            "39/39 [==============================] - 2s 49ms/step - loss: 116.3682\n",
            "Epoch 42/100\n",
            "39/39 [==============================] - 2s 50ms/step - loss: 119.7145\n",
            "Epoch 43/100\n",
            "39/39 [==============================] - 2s 49ms/step - loss: 117.7092\n",
            "Epoch 44/100\n",
            "39/39 [==============================] - 2s 50ms/step - loss: 116.6357\n",
            "Epoch 45/100\n",
            "39/39 [==============================] - 2s 52ms/step - loss: 118.4662\n",
            "Epoch 46/100\n",
            "39/39 [==============================] - 2s 51ms/step - loss: 115.6501\n",
            "Epoch 47/100\n",
            "39/39 [==============================] - 2s 50ms/step - loss: 117.2608\n",
            "Epoch 48/100\n",
            "39/39 [==============================] - 2s 50ms/step - loss: 117.4109\n",
            "Epoch 49/100\n",
            "39/39 [==============================] - 2s 50ms/step - loss: 119.5074\n",
            "Epoch 50/100\n",
            "39/39 [==============================] - 2s 49ms/step - loss: 116.9630\n",
            "Epoch 51/100\n",
            "39/39 [==============================] - 2s 49ms/step - loss: 118.2796\n",
            "Epoch 52/100\n",
            "39/39 [==============================] - 2s 50ms/step - loss: 117.1274\n",
            "Epoch 53/100\n",
            "39/39 [==============================] - 2s 49ms/step - loss: 117.7299\n",
            "Epoch 54/100\n",
            "39/39 [==============================] - 2s 49ms/step - loss: 116.5292\n",
            "Epoch 55/100\n",
            "39/39 [==============================] - 2s 49ms/step - loss: 117.5437\n",
            "Epoch 56/100\n",
            "39/39 [==============================] - 2s 49ms/step - loss: 116.8832\n",
            "Epoch 57/100\n",
            "39/39 [==============================] - 2s 51ms/step - loss: 117.8548\n",
            "Epoch 58/100\n",
            "39/39 [==============================] - 2s 49ms/step - loss: 118.3321\n",
            "Epoch 59/100\n",
            "39/39 [==============================] - 2s 51ms/step - loss: 118.8692\n",
            "Epoch 60/100\n",
            "39/39 [==============================] - 2s 52ms/step - loss: 116.0259\n",
            "Epoch 61/100\n",
            "39/39 [==============================] - 2s 51ms/step - loss: 118.4158\n",
            "Epoch 62/100\n",
            "39/39 [==============================] - 2s 49ms/step - loss: 119.0817\n",
            "Epoch 63/100\n",
            "39/39 [==============================] - 2s 50ms/step - loss: 115.2830\n",
            "Epoch 64/100\n",
            "39/39 [==============================] - 2s 49ms/step - loss: 117.5390\n",
            "Epoch 65/100\n",
            "39/39 [==============================] - 2s 49ms/step - loss: 119.6716\n",
            "Epoch 66/100\n",
            "39/39 [==============================] - 2s 49ms/step - loss: 117.3419\n",
            "Epoch 67/100\n",
            "39/39 [==============================] - 2s 51ms/step - loss: 115.5301\n",
            "Epoch 68/100\n",
            "39/39 [==============================] - 2s 51ms/step - loss: 116.8937\n",
            "Epoch 69/100\n",
            "39/39 [==============================] - 2s 51ms/step - loss: 115.6604\n",
            "Epoch 70/100\n",
            "39/39 [==============================] - 2s 50ms/step - loss: 116.7090\n",
            "Epoch 71/100\n",
            "39/39 [==============================] - 2s 51ms/step - loss: 117.6729\n",
            "Epoch 72/100\n",
            "39/39 [==============================] - 2s 50ms/step - loss: 119.0389\n",
            "Epoch 73/100\n",
            "39/39 [==============================] - 2s 51ms/step - loss: 116.9254\n",
            "Epoch 74/100\n",
            "39/39 [==============================] - 2s 50ms/step - loss: 117.8010\n",
            "Epoch 75/100\n",
            "39/39 [==============================] - 2s 50ms/step - loss: 117.9772\n",
            "Epoch 76/100\n",
            "39/39 [==============================] - 2s 52ms/step - loss: 119.5143\n",
            "Epoch 77/100\n",
            "39/39 [==============================] - 2s 53ms/step - loss: 116.5802\n",
            "Epoch 78/100\n",
            "39/39 [==============================] - 2s 50ms/step - loss: 118.8883\n",
            "Epoch 79/100\n",
            "39/39 [==============================] - 2s 52ms/step - loss: 118.7517\n",
            "Epoch 80/100\n",
            "39/39 [==============================] - 2s 53ms/step - loss: 117.8666\n",
            "Epoch 81/100\n",
            "39/39 [==============================] - 2s 51ms/step - loss: 116.3228\n",
            "Epoch 82/100\n",
            "39/39 [==============================] - 2s 52ms/step - loss: 119.3442\n",
            "Epoch 83/100\n",
            "39/39 [==============================] - 2s 49ms/step - loss: 118.6213\n",
            "Epoch 84/100\n",
            "39/39 [==============================] - 2s 53ms/step - loss: 119.1325\n",
            "Epoch 85/100\n",
            "39/39 [==============================] - 2s 51ms/step - loss: 116.3454\n",
            "Epoch 86/100\n",
            "39/39 [==============================] - 2s 51ms/step - loss: 118.2156\n",
            "Epoch 87/100\n",
            "39/39 [==============================] - 2s 51ms/step - loss: 118.9585\n",
            "Epoch 88/100\n",
            "39/39 [==============================] - 2s 51ms/step - loss: 116.8484\n",
            "Epoch 89/100\n",
            "39/39 [==============================] - 2s 51ms/step - loss: 117.9267\n",
            "Epoch 90/100\n",
            "39/39 [==============================] - 2s 49ms/step - loss: 118.2905\n",
            "Epoch 91/100\n",
            "28/39 [====================>.........] - ETA: 0s - loss: 117.4509"
          ],
          "name": "stdout"
        }
      ]
    },
    {
      "cell_type": "markdown",
      "metadata": {
        "id": "B5ki0A5gJExq"
      },
      "source": [
        "# Adding "
      ]
    },
    {
      "cell_type": "code",
      "metadata": {
        "id": "maZJC85IJyCg"
      },
      "source": [
        "past_n_data_points = training_copy.tail(time_step)\n",
        "past_df = past_n_data_points.append(testing_data, ignore_index=True)\n",
        "past_df.head()"
      ],
      "execution_count": null,
      "outputs": []
    },
    {
      "cell_type": "code",
      "metadata": {
        "id": "p_w-i-vzKLZ7"
      },
      "source": [
        "inputs = scaler.transform(past_df)\n",
        "inputs.shape"
      ],
      "execution_count": null,
      "outputs": []
    },
    {
      "cell_type": "code",
      "metadata": {
        "id": "7O38xDZKKUK7"
      },
      "source": [
        "x_test = []\n",
        "y_test = []\n",
        "for i in range(time_step, inputs.shape[0]):\n",
        "    x_test.append(inputs[i-time_step:i])\n",
        "    y_test.append(inputs[i, 0])"
      ],
      "execution_count": null,
      "outputs": []
    },
    {
      "cell_type": "code",
      "metadata": {
        "id": "XkZ71iZmKd1q"
      },
      "source": [
        "x_test, y_test = np.array(x_test), np.array(y_test)\n",
        "x_test.shape, y_test.shape"
      ],
      "execution_count": null,
      "outputs": []
    },
    {
      "cell_type": "code",
      "metadata": {
        "id": "SRt2E9yVKj8I"
      },
      "source": [
        "y_pred = model.predict(x_test)\n",
        "y_pred.shape"
      ],
      "execution_count": null,
      "outputs": []
    },
    {
      "cell_type": "code",
      "metadata": {
        "id": "meO-2PhbKmyP"
      },
      "source": [
        "y_pred = y_pred/scaler.scale_[0]\n",
        "y_test = y_test/scaler.scale_[0]\n",
        "y_pred.shape, y_test.shape"
      ],
      "execution_count": null,
      "outputs": []
    },
    {
      "cell_type": "code",
      "metadata": {
        "id": "OCIjJffNKtdD"
      },
      "source": [
        "fig = plt.figure()\n",
        "plt.plot(y_test, color='red', label='Real ' + ticker + ' Stock Price')\n",
        "plt.plot(y_pred, color='lightgreen', label='Predicted ' + ticker + ' Stock Price')\n",
        "plt.title(ticker + \" Stock Price Prediction\")\n",
        "plt.xlabel('Days')\n",
        "plt.ylabel(ticker + ' Stock Price')\n",
        "plt.legend()\n",
        "plt.show()"
      ],
      "execution_count": null,
      "outputs": []
    },
    {
      "cell_type": "code",
      "metadata": {
        "id": "fFd1VSggsr3P"
      },
      "source": [
        "accuracy = 0\n",
        "\n",
        "for i in range(1, y_pred.shape[0]):\n",
        "\n",
        "    # Determining if the actual price increased\n",
        "    actual_did_increase = y_test[i] > y_test[i-1]\n",
        "    # Determining if the predicted price increased\n",
        "    prediction_did_increase = y_pred[i] > y_pred[i-1]\n",
        "    # If both the actual and predicted prices move in the same direction, \n",
        "    # then add 1 to the accuracy\n",
        "    if (actual_did_increase == prediction_did_increase):\n",
        "        accuracy = accuracy + 1\n",
        "\n",
        "\n",
        "# Subtract 1 from y_pred.shape because we are staring at 1 instead of 0\n",
        "print(\"Model accuracy: {:.3f}%\".format(accuracy / (y_pred.shape[0] - 1) * 100)) "
      ],
      "execution_count": null,
      "outputs": []
    },
    {
      "cell_type": "markdown",
      "metadata": {
        "id": "rcxKPsPGRyOH"
      },
      "source": [
        "# Implementation of trading"
      ]
    },
    {
      "cell_type": "code",
      "metadata": {
        "id": "LoefIE3WR2g6"
      },
      "source": [
        "model_variation = []\n",
        "price_variation = []\n",
        "buy_points = []\n",
        "sell_points = []\n",
        "\n",
        "maximum_trade_size = 3000.00\n",
        "cash_on_hand = 10000.00\n",
        "initial_value = cash_on_hand\n",
        "number_of_shares = 0.00\n",
        "\n",
        "\n",
        "for i in range(1, y_pred.shape[0]):\n",
        "    # Current prediction price\n",
        "    current_pred = y_pred[i][0]\n",
        "    # Previous prediction price\n",
        "    previous_pred = y_pred[i-1][0]\n",
        "    # Current actual price\n",
        "    current_actual= y_test[i]\n",
        "    # Previous actual price\n",
        "    previous_actual = y_test[i-1]\n",
        "\n",
        "    change = ((current_pred - previous_pred) / previous_pred) * 100\n",
        "\n",
        "    if (change >= 3):\n",
        "        #print(\"Buy\" + str(change) + \"%\")\n",
        "        # The model is expecting the share price to increase\n",
        "        # Use previous actual price to determine how many shares to buy\n",
        "        maximum_allow_trade_size = min(maximum_trade_size, cash_on_hand)\n",
        "        shares_to_buy = maximum_trade_size / previous_actual\n",
        "        number_of_shares = number_of_shares + shares_to_buy\n",
        "        cash_on_hand = cash_on_hand - (shares_to_buy * previous_actual)\n",
        "        buy_points.append(i-1)\n",
        "    elif (change <= -3):\n",
        "        #print(\"Sell: \" + str(change) + \"%\")\n",
        "        # The model is expecting the share price to decrease\n",
        "        # Use previous price to determine how many shares to sell\n",
        "        shares_to_sell = min(round(maximum_trade_size / previous_actual, 4), number_of_shares)\n",
        "        number_of_shares = number_of_shares - shares_to_sell\n",
        "        cash_on_hand = cash_on_hand + (shares_to_sell * previous_actual)\n",
        "        sell_points.append(i-1)\n",
        "\n",
        "    starting_price = y_test[1]\n",
        "\n",
        "    price_variation.append((current_actual - starting_price) / starting_price * 100)\n",
        "    model_variation.append((cash_on_hand + (number_of_shares * current_actual) - initial_value) / initial_value * 100)\n",
        "\n",
        "end_price = y_test[-1]\n",
        "share_value = end_price * number_of_shares\n",
        "\n",
        "print(\"Cash left on hand: ${:.3f}\".format(cash_on_hand))\n",
        "print(\"Number of shares: {:.3f}\".format(number_of_shares))\n",
        "print(\"Value of shares: {:.3f}\".format(share_value))\n",
        "print(\"Total value: ${:.3f}\".format(cash_on_hand + share_value))\n",
        "\n",
        "print(\"Number of trades: {:.3f}\".format(len(buy_points) + len(sell_points)))"
      ],
      "execution_count": null,
      "outputs": []
    },
    {
      "cell_type": "markdown",
      "metadata": {
        "id": "2YknZZ6raVNb"
      },
      "source": [
        ""
      ]
    },
    {
      "cell_type": "code",
      "metadata": {
        "id": "EjcTNg-QaVo1"
      },
      "source": [
        "import matplotlib.ticker as mtick\n",
        "\n",
        "fig, (ax) = plt.subplots(1, 1, sharex=True)\n",
        "\n",
        "fmt = '%.0f%%' # Format you want the ticks, e.g. '40%'\n",
        "yticks = mtick.FormatStrFormatter(fmt)\n",
        "ax.yaxis.set_major_formatter(yticks)\n",
        "\n",
        "ax.plot(price_variation, label='Stock % Growth')\n",
        "ax.plot(model_variation, label='Model % Growth')\n",
        "\n",
        "ax.xaxis.grid(True, which='minor', linestyle='-', linewidth=0.25)\n",
        "ax.set_axisbelow(True)\n",
        "ax.grid(linestyle='-', linewidth='0.5', color='gray')\n",
        "\n",
        "ax.legend(loc='upper left')\n",
        "\n",
        "ax.set_ylabel('% Change from start')\n",
        "ax.set_xlabel('Number of Days')\n",
        "ax.set_title('Model vs. Stock % Change Comparison')"
      ],
      "execution_count": null,
      "outputs": []
    },
    {
      "cell_type": "code",
      "metadata": {
        "id": "k8P_CfUbcd13"
      },
      "source": [
        "import matplotlib.ticker as mtick\n",
        "\n",
        "def marker_visualization(markers):\n",
        "    fig, (ax) = plt.subplots(1, 1, sharex=True)\n",
        "\n",
        "    fmt = '%.0f%%' # Format you want the ticks, e.g. '40%'\n",
        "    yticks = mtick.FormatStrFormatter(fmt)\n",
        "    ax.yaxis.set_major_formatter(yticks)\n",
        "\n",
        "    ax.plot(price_variation, label='Stock % Growth', markevery=markers, marker='o', markerfacecolor='white')\n",
        "    ax.plot(model_variation, label='Model % Growth')\n",
        "\n",
        "    ax.xaxis.grid(True, which='minor', linestyle='-', linewidth=0.25)\n",
        "    ax.set_axisbelow(True)\n",
        "    ax.grid(linestyle='-', linewidth='0.5', color='gray')\n",
        "\n",
        "    ax.legend(loc='upper left')\n",
        "\n",
        "    ax.set_ylabel('% Change from start')\n",
        "    ax.set_xlabel('Number of Days')\n",
        "    ax.set_title('Model vs. Stock % Change Comparison')"
      ],
      "execution_count": null,
      "outputs": []
    },
    {
      "cell_type": "code",
      "metadata": {
        "id": "xcpFgpszdzO0"
      },
      "source": [
        "marker_visualization(markers=buy_points)"
      ],
      "execution_count": null,
      "outputs": []
    },
    {
      "cell_type": "code",
      "metadata": {
        "id": "CvslBynOeSsI"
      },
      "source": [
        "marker_visualization(markers=sell_points)"
      ],
      "execution_count": null,
      "outputs": []
    }
  ]
}