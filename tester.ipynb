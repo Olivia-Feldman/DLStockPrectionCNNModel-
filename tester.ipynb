{
  "nbformat": 4,
  "nbformat_minor": 0,
  "metadata": {
    "colab": {
      "name": "tester.ipynb",
      "provenance": [],
      "authorship_tag": "ABX9TyPcXLd7hp3gDY/F+ZoeWE8S",
      "include_colab_link": true
    },
    "kernelspec": {
      "name": "python3",
      "display_name": "Python 3"
    }
  },
  "cells": [
    {
      "cell_type": "markdown",
      "metadata": {
        "id": "view-in-github",
        "colab_type": "text"
      },
      "source": [
        "<a href=\"https://colab.research.google.com/github/Olivia-Feldman/DLStockPrectionCNNModel-/blob/main/tester.ipynb\" target=\"_parent\"><img src=\"https://colab.research.google.com/assets/colab-badge.svg\" alt=\"Open In Colab\"/></a>"
      ]
    },
    {
      "cell_type": "code",
      "metadata": {
        "colab": {
          "base_uri": "https://localhost:8080/"
        },
        "id": "1bHTntvErpCl",
        "outputId": "c135103a-05d4-41ee-dce9-d1c001030feb"
      },
      "source": [
        "print(\"This is a tester!\")"
      ],
      "execution_count": null,
      "outputs": [
        {
          "output_type": "stream",
          "text": [
            "This is a tester!\n"
          ],
          "name": "stdout"
        }
      ]
    },
    {
      "cell_type": "code",
      "metadata": {
        "id": "rq0mp3QhtBT-"
      },
      "source": [
        "print(\"This is an additional tester - Jack Lynn\")"
      ],
      "execution_count": null,
      "outputs": []
    }
  ]
}