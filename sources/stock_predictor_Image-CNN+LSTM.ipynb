{
  "nbformat": 4,
  "nbformat_minor": 0,
  "metadata": {
    "colab": {
      "name": "stock_predictor_CNN+LSTM.ipynb",
      "provenance": [],
      "toc_visible": true,
      "include_colab_link": true
    },
    "kernelspec": {
      "name": "python3",
      "display_name": "Python 3"
    },
    "language_info": {
      "name": "python"
    },
    "accelerator": "GPU",
    "widgets": {
      "application/vnd.jupyter.widget-state+json": {
        "ba3ea871c7c845bfb9b2fcb3f62b35ad": {
          "model_module": "@jupyter-widgets/controls",
          "model_name": "HBoxModel",
          "state": {
            "_view_name": "HBoxView",
            "_dom_classes": [],
            "_model_name": "HBoxModel",
            "_view_module": "@jupyter-widgets/controls",
            "_model_module_version": "1.5.0",
            "_view_count": null,
            "_view_module_version": "1.5.0",
            "box_style": "",
            "layout": "IPY_MODEL_527c9193fb6d44fbab9034c842640d8d",
            "_model_module": "@jupyter-widgets/controls",
            "children": [
              "IPY_MODEL_1b906bb4512049048a7be7925c6a6cbc",
              "IPY_MODEL_415f81d348e048ed92e179217a08c268"
            ]
          }
        },
        "527c9193fb6d44fbab9034c842640d8d": {
          "model_module": "@jupyter-widgets/base",
          "model_name": "LayoutModel",
          "state": {
            "_view_name": "LayoutView",
            "grid_template_rows": null,
            "right": null,
            "justify_content": null,
            "_view_module": "@jupyter-widgets/base",
            "overflow": null,
            "_model_module_version": "1.2.0",
            "_view_count": null,
            "flex_flow": null,
            "width": null,
            "min_width": null,
            "border": null,
            "align_items": null,
            "bottom": null,
            "_model_module": "@jupyter-widgets/base",
            "top": null,
            "grid_column": null,
            "overflow_y": null,
            "overflow_x": null,
            "grid_auto_flow": null,
            "grid_area": null,
            "grid_template_columns": null,
            "flex": null,
            "_model_name": "LayoutModel",
            "justify_items": null,
            "grid_row": null,
            "max_height": null,
            "align_content": null,
            "visibility": null,
            "align_self": null,
            "height": null,
            "min_height": null,
            "padding": null,
            "grid_auto_rows": null,
            "grid_gap": null,
            "max_width": null,
            "order": null,
            "_view_module_version": "1.2.0",
            "grid_template_areas": null,
            "object_position": null,
            "object_fit": null,
            "grid_auto_columns": null,
            "margin": null,
            "display": null,
            "left": null
          }
        },
        "1b906bb4512049048a7be7925c6a6cbc": {
          "model_module": "@jupyter-widgets/controls",
          "model_name": "FloatProgressModel",
          "state": {
            "_view_name": "ProgressView",
            "style": "IPY_MODEL_a195e787e546408b8c089d4e28693cef",
            "_dom_classes": [],
            "description": "100%",
            "_model_name": "FloatProgressModel",
            "bar_style": "success",
            "max": 3104,
            "_view_module": "@jupyter-widgets/controls",
            "_model_module_version": "1.5.0",
            "value": 3104,
            "_view_count": null,
            "_view_module_version": "1.5.0",
            "orientation": "horizontal",
            "min": 0,
            "description_tooltip": null,
            "_model_module": "@jupyter-widgets/controls",
            "layout": "IPY_MODEL_acb73be4c6944bd0adffa79674350dc9"
          }
        },
        "415f81d348e048ed92e179217a08c268": {
          "model_module": "@jupyter-widgets/controls",
          "model_name": "HTMLModel",
          "state": {
            "_view_name": "HTMLView",
            "style": "IPY_MODEL_632f50812f3744998dc3edb05c3b5547",
            "_dom_classes": [],
            "description": "",
            "_model_name": "HTMLModel",
            "placeholder": "​",
            "_view_module": "@jupyter-widgets/controls",
            "_model_module_version": "1.5.0",
            "value": " 3104/3104 [00:06&lt;00:00, 478.00it/s]",
            "_view_count": null,
            "_view_module_version": "1.5.0",
            "description_tooltip": null,
            "_model_module": "@jupyter-widgets/controls",
            "layout": "IPY_MODEL_a7b5fc0675c643d38f4f64d5541e9609"
          }
        },
        "a195e787e546408b8c089d4e28693cef": {
          "model_module": "@jupyter-widgets/controls",
          "model_name": "ProgressStyleModel",
          "state": {
            "_view_name": "StyleView",
            "_model_name": "ProgressStyleModel",
            "description_width": "initial",
            "_view_module": "@jupyter-widgets/base",
            "_model_module_version": "1.5.0",
            "_view_count": null,
            "_view_module_version": "1.2.0",
            "bar_color": null,
            "_model_module": "@jupyter-widgets/controls"
          }
        },
        "acb73be4c6944bd0adffa79674350dc9": {
          "model_module": "@jupyter-widgets/base",
          "model_name": "LayoutModel",
          "state": {
            "_view_name": "LayoutView",
            "grid_template_rows": null,
            "right": null,
            "justify_content": null,
            "_view_module": "@jupyter-widgets/base",
            "overflow": null,
            "_model_module_version": "1.2.0",
            "_view_count": null,
            "flex_flow": null,
            "width": null,
            "min_width": null,
            "border": null,
            "align_items": null,
            "bottom": null,
            "_model_module": "@jupyter-widgets/base",
            "top": null,
            "grid_column": null,
            "overflow_y": null,
            "overflow_x": null,
            "grid_auto_flow": null,
            "grid_area": null,
            "grid_template_columns": null,
            "flex": null,
            "_model_name": "LayoutModel",
            "justify_items": null,
            "grid_row": null,
            "max_height": null,
            "align_content": null,
            "visibility": null,
            "align_self": null,
            "height": null,
            "min_height": null,
            "padding": null,
            "grid_auto_rows": null,
            "grid_gap": null,
            "max_width": null,
            "order": null,
            "_view_module_version": "1.2.0",
            "grid_template_areas": null,
            "object_position": null,
            "object_fit": null,
            "grid_auto_columns": null,
            "margin": null,
            "display": null,
            "left": null
          }
        },
        "632f50812f3744998dc3edb05c3b5547": {
          "model_module": "@jupyter-widgets/controls",
          "model_name": "DescriptionStyleModel",
          "state": {
            "_view_name": "StyleView",
            "_model_name": "DescriptionStyleModel",
            "description_width": "",
            "_view_module": "@jupyter-widgets/base",
            "_model_module_version": "1.5.0",
            "_view_count": null,
            "_view_module_version": "1.2.0",
            "_model_module": "@jupyter-widgets/controls"
          }
        },
        "a7b5fc0675c643d38f4f64d5541e9609": {
          "model_module": "@jupyter-widgets/base",
          "model_name": "LayoutModel",
          "state": {
            "_view_name": "LayoutView",
            "grid_template_rows": null,
            "right": null,
            "justify_content": null,
            "_view_module": "@jupyter-widgets/base",
            "overflow": null,
            "_model_module_version": "1.2.0",
            "_view_count": null,
            "flex_flow": null,
            "width": null,
            "min_width": null,
            "border": null,
            "align_items": null,
            "bottom": null,
            "_model_module": "@jupyter-widgets/base",
            "top": null,
            "grid_column": null,
            "overflow_y": null,
            "overflow_x": null,
            "grid_auto_flow": null,
            "grid_area": null,
            "grid_template_columns": null,
            "flex": null,
            "_model_name": "LayoutModel",
            "justify_items": null,
            "grid_row": null,
            "max_height": null,
            "align_content": null,
            "visibility": null,
            "align_self": null,
            "height": null,
            "min_height": null,
            "padding": null,
            "grid_auto_rows": null,
            "grid_gap": null,
            "max_width": null,
            "order": null,
            "_view_module_version": "1.2.0",
            "grid_template_areas": null,
            "object_position": null,
            "object_fit": null,
            "grid_auto_columns": null,
            "margin": null,
            "display": null,
            "left": null
          }
        }
      }
    }
  },
  "cells": [
    {
      "cell_type": "markdown",
      "metadata": {
        "id": "view-in-github",
        "colab_type": "text"
      },
      "source": [
        "<a href=\"https://colab.research.google.com/github/Olivia-Feldman/DLStockPrectionCNNModel-/blob/Andrew/sources/stock_predictor_Image-CNN%2BLSTM.ipynb\" target=\"_parent\"><img src=\"https://colab.research.google.com/assets/colab-badge.svg\" alt=\"Open In Colab\"/></a>"
      ]
    },
    {
      "cell_type": "markdown",
      "metadata": {
        "id": "vEVXDkLxRqf3"
      },
      "source": [
        "# Default Imports"
      ]
    },
    {
      "cell_type": "code",
      "metadata": {
        "id": "e-qCNW9g0aGK"
      },
      "source": [
        "import requests\n",
        "import pandas as pd\n",
        "import numpy as np\n",
        "from datetime import datetime\n",
        "import matplotlib.pyplot as plt\n",
        "import matplotlib.ticker as tick\n",
        "from sklearn.preprocessing import StandardScaler, MinMaxScaler\n",
        "#!pip install pandas_ta\n",
        "#import pandas_ta as ta"
      ],
      "execution_count": 1,
      "outputs": []
    },
    {
      "cell_type": "markdown",
      "metadata": {
        "id": "AJgxPqtSRvna"
      },
      "source": [
        "# Set Plot Stylizations"
      ]
    },
    {
      "cell_type": "code",
      "metadata": {
        "id": "sudhkGWzRwNL"
      },
      "source": [
        "plt.rcParams.update({'font.size': 16})\n",
        "plt.rcParams['figure.figsize'] = [12, 8]\n",
        "plt.style.use('dark_background')"
      ],
      "execution_count": 2,
      "outputs": []
    },
    {
      "cell_type": "markdown",
      "metadata": {
        "id": "sNi5ukeJSAoz"
      },
      "source": [
        "# Method for getting ticker data using Yahoo Finance API\n",
        "\n",
        "This method downloads json data from the Yahoo! finance API and organizes it into a Pandas dataframe. The time frame of the data can start and end wherever the user wants it to. The start and end dates need to be a String in the form of a Unix Timestamp.\n",
        "\n",
        "*Parameters:*\n",
        "\n",
        "    ticker: String that specifies the trading ticker of the equity \n",
        "    startData: String that specifies the start time of the dataset. Formatted as a Unix Timestamp\n",
        "    endData: String that specifies the start time of the dataset. Formatted as a Unix Timestamp\n",
        "\n",
        "*Returns:*\n",
        "\n",
        "    df: Pandas dataframe with timestamp, open, high, low, close, and volume of a ticker\n",
        "\n",
        "\n",
        "*Resources:*\n",
        "*   [Dataframe.shift](https://pandas.pydata.org/docs/reference/api/pandas.DataFrame.shift.html)\n",
        "\n"
      ]
    },
    {
      "cell_type": "code",
      "metadata": {
        "id": "6ivlzMPCR_h3"
      },
      "source": [
        "def getStockDataInRange(ticker: str, startDate: str, endDate: str):\n",
        "    url = \"https://query1.finance.yahoo.com/v8/finance/chart/\" + ticker + \"?period1=\" + startDate + \"&period2=\" + endDate + \"&useYfid=true&interval=1d&includePrePost=true&events=div%7Csplit%7Cearn&lang=en-US&region=US&crumb=Yo9B6QaqJUD&corsDomain=finance.yahoo.com\"\n",
        "    x = requests.get(url)\n",
        "    jsonResponse = x.json()\n",
        "    timestamps = jsonResponse[\"chart\"][\"result\"][0][\"timestamp\"]\n",
        "    open = jsonResponse[\"chart\"][\"result\"][0][\"indicators\"][\"quote\"][0][\"open\"]\n",
        "    high = jsonResponse[\"chart\"][\"result\"][0][\"indicators\"][\"quote\"][0][\"high\"]\n",
        "    low = jsonResponse[\"chart\"][\"result\"][0][\"indicators\"][\"quote\"][0][\"low\"]\n",
        "    close = jsonResponse[\"chart\"][\"result\"][0][\"indicators\"][\"quote\"][0][\"close\"]\n",
        "    volume = jsonResponse[\"chart\"][\"result\"][0][\"indicators\"][\"quote\"][0][\"volume\"]\n",
        "\n",
        "    datetimes = list(map(toDatetime, timestamps))\n",
        "\n",
        "    data = {\n",
        "        'timestamps' : datetimes,\n",
        "        'open' : open,\n",
        "        'high' : high,\n",
        "        'low' : low,\n",
        "        'close' : close,\n",
        "        'volume' : volume\n",
        "    }\n",
        "\n",
        "    df = pd.DataFrame(data, columns=['timestamps', 'open', 'high', 'low', 'close', 'volume'])\n",
        "    # Difference if based on 'close' price\n",
        "    df['diff'] = df['close'].diff()\n",
        "    df['diff'] = df['diff'].fillna(0)\n",
        "    df['change'] = df['diff'] / df['close'].shift(periods=1) * 100\n",
        "    df['change'] = df['change'].fillna(0)\n",
        "    return df\n",
        "\n",
        "def toDatetime(t):\n",
        "    return datetime.fromtimestamp(t)"
      ],
      "execution_count": 3,
      "outputs": []
    },
    {
      "cell_type": "markdown",
      "metadata": {
        "id": "3EIF4l2QSH5N"
      },
      "source": [
        "# Creating Dataframe with stock data"
      ]
    },
    {
      "cell_type": "code",
      "metadata": {
        "id": "om2Lzr9VSQZZ"
      },
      "source": [
        "ticker = 'QQQ'\n",
        "endDate = datetime.now().strftime('%s')\n",
        "startDate = datetime(year=2009, month=1, day=1, hour=0, minute=0).strftime('%s')\n",
        "\n",
        "df = getStockDataInRange(ticker=ticker, startDate=startDate, endDate=endDate)"
      ],
      "execution_count": 4,
      "outputs": []
    },
    {
      "cell_type": "markdown",
      "metadata": {
        "id": "DfrjltBANH2d"
      },
      "source": [
        "# Function for plotting stock prices of data frame"
      ]
    },
    {
      "cell_type": "code",
      "metadata": {
        "id": "GCsctw6wNHR3"
      },
      "source": [
        "def visualize_prices(df, x_values, y_values):\n",
        "    ax = df.plot(x=x_values, y=[y_values], kind='line', title=ticker + ' prices in set range')\n",
        "    vals = ax.get_yticks()\n",
        "    ax.set_yticklabels(['${:1.2f}'.format(x) for x in vals])\n",
        "    ax.xaxis.grid(True, which='minor', linestyle='-', linewidth=0.25)\n",
        "    ax.set_axisbelow(True)\n",
        "    ax.grid(linestyle='-', linewidth='0.5', color='gray')\n",
        "\n",
        "    plt.show()"
      ],
      "execution_count": 5,
      "outputs": []
    },
    {
      "cell_type": "markdown",
      "metadata": {
        "id": "Niy-yOhbzcx9"
      },
      "source": [
        "# Function for plotting Indicators"
      ]
    },
    {
      "cell_type": "code",
      "metadata": {
        "id": "ltb5tOh_zZuF"
      },
      "source": [
        "def plot_indicators(df, columns, yTitle, xTitle):\n",
        "    plt.figure()\n",
        "    ax = df[columns].plot(title=yTitle)\n",
        "    ax.set_xlabel(xTitle)\n",
        "    ax.set_ylabel(yTitle)"
      ],
      "execution_count": 6,
      "outputs": []
    },
    {
      "cell_type": "markdown",
      "metadata": {
        "id": "wxboV3BE0N53"
      },
      "source": [
        "# Function for visualization for Trading Markers (Buy/Sell)"
      ]
    },
    {
      "cell_type": "code",
      "metadata": {
        "id": "HRoCYSg30YJr"
      },
      "source": [
        "def visualize_trading_markers(df, title, markers, x='timestamps', y=['close']):\n",
        "    ax = df.plot(\n",
        "        x=x, \n",
        "        y=y, \n",
        "        kind='line', \n",
        "        color='b', \n",
        "        title=title, \n",
        "        markevery=markers, \n",
        "        marker='o', \n",
        "        markerfacecolor='white')\n",
        "    vals = ax.get_yticks()\n",
        "    ax.set_yticklabels(['${:1.2f}'.format(x) for x in vals])\n",
        "    ax.xaxis.grid(True, which='minor', linestyle='-', linewidth=0.25)\n",
        "    ax.set_axisbelow(True)\n",
        "    ax.grid(linestyle='-', linewidth='0.5', color='gray')\n",
        "\n",
        "    plt.show()"
      ],
      "execution_count": 7,
      "outputs": []
    },
    {
      "cell_type": "markdown",
      "metadata": {
        "id": "efbqcFC6S2Ey"
      },
      "source": [
        "# Plotting QQQ open prices from January 1, 2009 to the current day using Unix Timestamps"
      ]
    },
    {
      "cell_type": "code",
      "metadata": {
        "colab": {
          "base_uri": "https://localhost:8080/",
          "height": 503
        },
        "id": "YuaVPua0SzdS",
        "outputId": "46cededc-fbcd-4430-a0a1-308e198749ec"
      },
      "source": [
        "visualize_prices(df, 'timestamps', 'close')"
      ],
      "execution_count": 8,
      "outputs": [
        {
          "output_type": "display_data",
          "data": {
            "image/png": "[encoded data removed]",
            "text/plain": [
              "<Figure size 864x576 with 1 Axes>"
            ]
          },
          "metadata": {
            "tags": []
          }
        }
      ]
    },
    {
      "cell_type": "markdown",
      "metadata": {
        "id": "PBq0kDBbz24M"
      },
      "source": [
        "# Method for labeling price data as BUY, HOLD, or SELL"
      ]
    },
    {
      "cell_type": "code",
      "metadata": {
        "id": "nBCWqfOFz5zO"
      },
      "source": [
        "from tqdm.auto import tqdm\n",
        "\n",
        "def create_labels(df, col_name, window_size=11):\n",
        "\n",
        "    row_counter = 0\n",
        "    total_rows = len(df)\n",
        "    # Creates a 1 x N numpy array\n",
        "    labels = np.zeros(total_rows)\n",
        "    # Makes all the entries in labels array equal to nan\n",
        "    labels[:] = np.nan\n",
        "    # Sets up a progress bar\n",
        "    pbar = tqdm(total=total_rows)\n",
        "\n",
        "    while row_counter < total_rows:\n",
        "\n",
        "        # Stalls labeling calculation until the row_counter is at least as big as the window_size\n",
        "        if row_counter >= window_size - 1:\n",
        "            window_begin = row_counter - (window_size - 1)\n",
        "            window_end = row_counter\n",
        "            window_middle = (window_begin + window_end) // 2 # Cast as int\n",
        "\n",
        "            min_ = np.inf\n",
        "            min_index = -1\n",
        "            max_ = -np.inf\n",
        "            max_index = -1\n",
        "            for i in range(window_begin, window_end + 1):\n",
        "                # Selected value at 'i' index in column with name equal to col_name variable\n",
        "                price = df.iloc[i][col_name]\n",
        "                if price < min_:\n",
        "                    # Finds the smallest value in the window\n",
        "                    # 'min_' is initially set to infinity\n",
        "                    min_ = price\n",
        "                    # Saves the index of the lowest value\n",
        "                    min_index = i\n",
        "                if price > max_:\n",
        "                    # Finds the largest value in the window\n",
        "                    # 'max_' is initially set to -infinity\n",
        "                    max_ = price\n",
        "                    # Saves the index of the largest value\n",
        "                    max_index = i\n",
        "\n",
        "            if max_index == window_middle:\n",
        "                # Sets label to SELL\n",
        "                labels[window_middle] = 0\n",
        "            elif min_index == window_middle:\n",
        "                # Sets label to BUY\n",
        "                labels[window_middle] = 1\n",
        "            else:\n",
        "                # Sets label to HOLD\n",
        "                labels[window_middle] = 2\n",
        "\n",
        "        row_counter = row_counter + 1\n",
        "        pbar.update(1)\n",
        "\n",
        "    pbar.close()\n",
        "    return labels"
      ],
      "execution_count": 9,
      "outputs": []
    },
    {
      "cell_type": "markdown",
      "metadata": {
        "id": "dCxJJQU6z_R9"
      },
      "source": [
        "# Plotting of prediction labels using 'close' column to visualize distribution across time frame"
      ]
    },
    {
      "cell_type": "code",
      "metadata": {
        "id": "nd1Sfl5f0ArR",
        "outputId": "c1b8d5c0-5dc2-4fce-c8e6-67d6c5d3f6af",
        "colab": {
          "base_uri": "https://localhost:8080/",
          "height": 575,
          "referenced_widgets": [
            "ba3ea871c7c845bfb9b2fcb3f62b35ad",
            "527c9193fb6d44fbab9034c842640d8d",
            "1b906bb4512049048a7be7925c6a6cbc",
            "415f81d348e048ed92e179217a08c268",
            "a195e787e546408b8c089d4e28693cef",
            "acb73be4c6944bd0adffa79674350dc9",
            "632f50812f3744998dc3edb05c3b5547",
            "a7b5fc0675c643d38f4f64d5541e9609"
          ]
        }
      },
      "source": [
        "labels = create_labels(df, 'close')\n",
        "df['labels'] = labels\n",
        "df['labels'] = df['labels'].fillna(0)\n",
        "\n",
        "fig = plt.figure()\n",
        "plt.plot(labels, ',')\n",
        "plt.title('Prediction Labels')"
      ],
      "execution_count": 10,
      "outputs": [
        {
          "output_type": "display_data",
          "data": {
            "application/vnd.jupyter.widget-view+json": {
              "model_id": "ba3ea871c7c845bfb9b2fcb3f62b35ad",
              "version_minor": 0,
              "version_major": 2
            },
            "text/plain": [
              "HBox(children=(FloatProgress(value=0.0, max=3104.0), HTML(value='')))"
            ]
          },
          "metadata": {
            "tags": []
          }
        },
        {
          "output_type": "stream",
          "text": [
            "\n"
          ],
          "name": "stdout"
        },
        {
          "output_type": "execute_result",
          "data": {
            "text/plain": [
              "Text(0.5, 1.0, 'Prediction Labels')"
            ]
          },
          "metadata": {
            "tags": []
          },
          "execution_count": 10
        },
        {
          "output_type": "display_data",
          "data": {
            "image/png": "[encoded data removed]",
            "text/plain": [
              "<Figure size 864x576 with 1 Axes>"
            ]
          },
          "metadata": {
            "tags": []
          }
        }
      ]
    },
    {
      "cell_type": "markdown",
      "metadata": {
        "id": "WzLtOya21Il1"
      },
      "source": [
        "# Visualization of location of BUY markers for QQQ"
      ]
    },
    {
      "cell_type": "code",
      "metadata": {
        "id": "DPom5Shn1Llt",
        "outputId": "9bf98e8d-4e89-4696-9e4c-b85675abe34f",
        "colab": {
          "base_uri": "https://localhost:8080/",
          "height": 503
        }
      },
      "source": [
        "buy_markers = list(np.where(df['labels'] == 1)[0])\n",
        "visualize_trading_markers(df, title=ticker + ' Buy markers', markers=buy_markers)"
      ],
      "execution_count": 11,
      "outputs": [
        {
          "output_type": "display_data",
          "data": {
            "image/png": "[encoded data removed]",
            "text/plain": [
              "<Figure size 864x576 with 1 Axes>"
            ]
          },
          "metadata": {
            "tags": []
          }
        }
      ]
    },
    {
      "cell_type": "markdown",
      "metadata": {
        "id": "jxa_xZ7B1eoD"
      },
      "source": [
        "# Visualization of location of SELL markers for QQQ"
      ]
    },
    {
      "cell_type": "code",
      "metadata": {
        "id": "WVZflxzl1hXl",
        "outputId": "68a73237-2da3-40f5-fd52-ba60aa0630f7",
        "colab": {
          "base_uri": "https://localhost:8080/",
          "height": 503
        }
      },
      "source": [
        "sell_markers = list(np.where(df['labels'] == 0)[0])\n",
        "visualize_trading_markers(df, title=ticker + ' Buy markers', markers=sell_markers)"
      ],
      "execution_count": 12,
      "outputs": [
        {
          "output_type": "display_data",
          "data": {
            "image/png": "[encoded data removed]",
            "text/plain": [
              "<Figure size 864x576 with 1 Axes>"
            ]
          },
          "metadata": {
            "tags": []
          }
        }
      ]
    },
    {
      "cell_type": "markdown",
      "metadata": {
        "id": "J3n-jeZuW5zh"
      },
      "source": [
        "# Showing Dataframe head"
      ]
    },
    {
      "cell_type": "code",
      "metadata": {
        "colab": {
          "base_uri": "https://localhost:8080/",
          "height": 204
        },
        "id": "OAWLK78DW8lg",
        "outputId": "91a5da3d-2121-45de-b346-e7e41d189cc2"
      },
      "source": [
        "df.head()"
      ],
      "execution_count": 13,
      "outputs": [
        {
          "output_type": "execute_result",
          "data": {
            "text/html": [
              "<div>\n",
              "<style scoped>\n",
              "    .dataframe tbody tr th:only-of-type {\n",
              "        vertical-align: middle;\n",
              "    }\n",
              "\n",
              "    .dataframe tbody tr th {\n",
              "        vertical-align: top;\n",
              "    }\n",
              "\n",
              "    .dataframe thead th {\n",
              "        text-align: right;\n",
              "    }\n",
              "</style>\n",
              "<table border=\"1\" class=\"dataframe\">\n",
              "  <thead>\n",
              "    <tr style=\"text-align: right;\">\n",
              "      <th></th>\n",
              "      <th>timestamps</th>\n",
              "      <th>open</th>\n",
              "      <th>high</th>\n",
              "      <th>low</th>\n",
              "      <th>close</th>\n",
              "      <th>volume</th>\n",
              "      <th>diff</th>\n",
              "      <th>change</th>\n",
              "      <th>labels</th>\n",
              "    </tr>\n",
              "  </thead>\n",
              "  <tbody>\n",
              "    <tr>\n",
              "      <th>0</th>\n",
              "      <td>2009-01-02 14:30:00</td>\n",
              "      <td>29.750000</td>\n",
              "      <td>31.129999</td>\n",
              "      <td>29.690001</td>\n",
              "      <td>31.030001</td>\n",
              "      <td>107891500</td>\n",
              "      <td>0.000000</td>\n",
              "      <td>0.000000</td>\n",
              "      <td>0.0</td>\n",
              "    </tr>\n",
              "    <tr>\n",
              "      <th>1</th>\n",
              "      <td>2009-01-05 14:30:00</td>\n",
              "      <td>30.830000</td>\n",
              "      <td>31.330000</td>\n",
              "      <td>30.590000</td>\n",
              "      <td>31.020000</td>\n",
              "      <td>91751900</td>\n",
              "      <td>-0.010000</td>\n",
              "      <td>-0.032228</td>\n",
              "      <td>0.0</td>\n",
              "    </tr>\n",
              "    <tr>\n",
              "      <th>2</th>\n",
              "      <td>2009-01-06 14:30:00</td>\n",
              "      <td>31.250000</td>\n",
              "      <td>31.629999</td>\n",
              "      <td>31.110001</td>\n",
              "      <td>31.330000</td>\n",
              "      <td>136791700</td>\n",
              "      <td>0.309999</td>\n",
              "      <td>0.999354</td>\n",
              "      <td>0.0</td>\n",
              "    </tr>\n",
              "    <tr>\n",
              "      <th>3</th>\n",
              "      <td>2009-01-07 14:30:00</td>\n",
              "      <td>30.730000</td>\n",
              "      <td>30.900000</td>\n",
              "      <td>30.190001</td>\n",
              "      <td>30.440001</td>\n",
              "      <td>133879800</td>\n",
              "      <td>-0.889999</td>\n",
              "      <td>-2.840726</td>\n",
              "      <td>0.0</td>\n",
              "    </tr>\n",
              "    <tr>\n",
              "      <th>4</th>\n",
              "      <td>2009-01-08 14:30:00</td>\n",
              "      <td>30.379999</td>\n",
              "      <td>30.799999</td>\n",
              "      <td>30.080000</td>\n",
              "      <td>30.760000</td>\n",
              "      <td>131926600</td>\n",
              "      <td>0.320000</td>\n",
              "      <td>1.051247</td>\n",
              "      <td>0.0</td>\n",
              "    </tr>\n",
              "  </tbody>\n",
              "</table>\n",
              "</div>"
            ],
            "text/plain": [
              "           timestamps       open       high  ...      diff    change  labels\n",
              "0 2009-01-02 14:30:00  29.750000  31.129999  ...  0.000000  0.000000     0.0\n",
              "1 2009-01-05 14:30:00  30.830000  31.330000  ... -0.010000 -0.032228     0.0\n",
              "2 2009-01-06 14:30:00  31.250000  31.629999  ...  0.309999  0.999354     0.0\n",
              "3 2009-01-07 14:30:00  30.730000  30.900000  ... -0.889999 -2.840726     0.0\n",
              "4 2009-01-08 14:30:00  30.379999  30.799999  ...  0.320000  1.051247     0.0\n",
              "\n",
              "[5 rows x 9 columns]"
            ]
          },
          "metadata": {
            "tags": []
          },
          "execution_count": 13
        }
      ]
    },
    {
      "cell_type": "markdown",
      "metadata": {
        "id": "AZKwPB2hZjly"
      },
      "source": [
        "# Creating Training Data"
      ]
    },
    {
      "cell_type": "code",
      "metadata": {
        "colab": {
          "base_uri": "https://localhost:8080/",
          "height": 741
        },
        "id": "6No5LdOJZmdX",
        "outputId": "37b29bdb-f70b-40f3-db86-920bace29801"
      },
      "source": [
        "training_data = df[df['timestamps']<'2020-01-01'].copy()\n",
        "visualize_prices(training_data, 'timestamps', 'open')\n",
        "\n",
        "training_data = training_data.drop(['timestamps'], axis=1)\n",
        "training_data = training_data.iloc[1:]    # Drops first row in dataframe\n",
        "training_copy = training_data   # Need this to append last n row to testing data later\n",
        "print(training_data)\n",
        "#training_data.head() "
      ],
      "execution_count": 14,
      "outputs": [
        {
          "output_type": "display_data",
          "data": {
            "image/png": "[encoded data removed]",
            "text/plain": [
              "<Figure size 864x576 with 1 Axes>"
            ]
          },
          "metadata": {
            "tags": []
          }
        },
        {
          "output_type": "stream",
          "text": [
            "            open        high         low  ...      diff    change  labels\n",
            "1      30.830000   31.330000   30.590000  ... -0.010000 -0.032228     0.0\n",
            "2      31.250000   31.629999   31.110001  ...  0.309999  0.999354     0.0\n",
            "3      30.730000   30.900000   30.190001  ... -0.889999 -2.840726     0.0\n",
            "4      30.379999   30.799999   30.080000  ...  0.320000  1.051247     0.0\n",
            "5      30.770000   30.790001   29.920000  ... -0.690001 -2.243175     2.0\n",
            "...          ...         ...         ...  ...       ...       ...     ...\n",
            "2763  212.000000  212.089996  211.440002  ...  0.110001  0.051934     2.0\n",
            "2764  212.259995  213.809998  212.229996  ...  1.869995  0.882406     2.0\n",
            "2765  214.539993  214.559998  213.039993  ... -0.179993 -0.084191     2.0\n",
            "2766  213.500000  213.630005  211.160004  ... -1.399994 -0.655397     2.0\n",
            "2767  211.529999  212.759995  211.199997  ...  0.399994  0.188490     2.0\n",
            "\n",
            "[2767 rows x 8 columns]\n"
          ],
          "name": "stdout"
        }
      ]
    },
    {
      "cell_type": "code",
      "metadata": {
        "id": "YDdV5l5jlk4-"
      },
      "source": [
        "# from pandas_ta import ppo,hma,psar,cmo,tema,cmf,trix, kst,macd,roc,ema,dema,cci,rsi,willr,stoch,mfi,bbands\n",
        "# import pandas_ta  as ta"
      ],
      "execution_count": 15,
      "outputs": []
    },
    {
      "cell_type": "code",
      "metadata": {
        "id": "J5lTwmNimb2X"
      },
      "source": [
        "  # dftemp = pd.DataFrame\n",
        "  # dftemp = bbands(df['close']).fillna(0)\n",
        "  # print(dftemp)"
      ],
      "execution_count": 16,
      "outputs": []
    },
    {
      "cell_type": "code",
      "metadata": {
        "id": "Vqtc36wSlla4"
      },
      "source": [
        "\n",
        "######################################## Trend Indicators ############################\n",
        "\n",
        "# # MACD: Moving Average Convergance Diverage Momentum\n",
        "# def calculate_macd(df, iteration):\n",
        "#     dftemp = pd.DataFrame\n",
        "#     dftemp = macd(df['close']).fillna(0)\n",
        "#     df['MACD_'+str(iteration)] = dftemp['MACD_12_26_9' ]\n",
        "# # ROC: Price Rate of Change\n",
        "# def calculate_roc(df, iteration):\n",
        "#     dftemp = pd.DataFrame\n",
        "#     dftemp = roc(df['close']).fillna(0)\n",
        "#     df['ROC_'+str(iteration)] = dftemp\n",
        "# # EMA: Exponential Moving Average\n",
        "# def calculate_ema(df, iteration):\n",
        "#     dftemp = pd.DataFrame\n",
        "#     dftemp = ema(df['close']).fillna(0)\n",
        "#     df['EMA_'+str(iteration)] = dftemp\n",
        "\n",
        "# # DEMA: Double Exponential Moving Average\n",
        "# def calculate_dema(df, iteration):\n",
        "#     dftemp = pd.DataFrame\n",
        "#     dftemp = dema(df['close']).fillna(0)\n",
        "#     df['DEMA_'+str(iteration)] = dftemp\n",
        "   \n",
        "# # CCI: Commodity Channel Index\n",
        "# def calculate_cci(df, iteration):  \n",
        "#     dftemp = pd.DataFrame\n",
        "#     dftemp = cci(df['high'],df['low'],df['close']).fillna(0)\n",
        "#     df['CCI_'+str(iteration)] = dftemp\n",
        "\n",
        "# # RSI: Relative Strength Index     \n",
        "# def calculate_rsi(df, iteration):\n",
        "#     dftemp = pd.DataFrame\n",
        "#     dftemp = rsi(df['close']).fillna(0)\n",
        "#     df['RSI_'+str(iteration)] = dftemp\n",
        "\n",
        "# # WR: Williams %R Indicator\n",
        "# def calculate_WR(df, iteration):\n",
        "#     dftemp = pd.DataFrame\n",
        "#     dftemp = willr(df['high'],df['low'],df['close']).fillna(0)\n",
        "#     df['WR_'+str(iteration)] = dftemp\n",
        "\n",
        "# # SR: Stochastic Oscillator\n",
        "# def calculate_sr(df, iteration):\n",
        "#     dftemp = pd.DataFrame\n",
        "#     dftemp = stoch(df['high'],df['low'],df['close']).fillna(0)\n",
        "#     df['SR_'+str(iteration)] = dftemp[\"STOCHd_14_3_3\"]\n",
        "\n",
        "# # MFI: Money Flow Index\n",
        "# def calculate_mfi(df, iteration):\n",
        "#     dftemp = pd.DataFrame\n",
        "#     dftemp = mfi(df['high'],df['low'],df['close'],df['volume']).fillna(0)\n",
        "#     df['MFI_'+str(iteration)] = dftemp\n",
        "#  # BB: Bollinger Band look at data frame return  \n",
        "# def calculate_bb(df, iteration):\n",
        "#     dftemp = pd.DataFrame\n",
        "#     dftemp = bbands(df['close']).fillna(0)\n",
        "#     df['BB_'+str(iteration)] = dftemp['BBB_5_2.0']\n",
        "# def calculate_cmo(df,iteration):\n",
        "#     dftemp = pd.DataFrame\n",
        "#     dftemp = cmo(df['close'])\n",
        "#     df['CMO_' + str(iteration)] = dftemp.fillna(0)\n",
        "# def calculate_tema(df,iteration):\n",
        "#     dftemp = pd.DataFrame\n",
        "#     dftemp = tema(df['close'])\n",
        "#     df['TEMA_' + str(iteration)] = dftemp.fillna(0)\n",
        "# def calculate_cmf(df,iteration):\n",
        "#     dftemp = pd.DataFrame\n",
        "#     dftemp = cmf(df['high'],df['low'],df['close'],df['volume']).fillna(0)\n",
        "#     df['CMF_' + str(iteration)] = dftemp\n",
        "# def calculate_trix(df,iteration):\n",
        "#     dftemp = pd.DataFrame\n",
        "#     dftemp = trix(df['close']).fillna(0)\n",
        "#     df['TRIX_' + str(iteration)] = dftemp['TRIX_30_9']\n",
        "# def calculate_kst(df,iteration):\n",
        "#     dftemp = pd.DataFrame\n",
        "#     dftemp = kst(df['close']).fillna(0)\n",
        "#     df['KST_' + str(iteration)] = dftemp['KST_10_15_20_30_10_10_10_15']"
      ],
      "execution_count": 17,
      "outputs": []
    },
    {
      "cell_type": "code",
      "metadata": {
        "id": "u09ZmsmYrBuG"
      },
      "source": [
        "# indicator_range = 20\n",
        "# x = 6\n",
        "\n",
        "# for x in range(6, indicator_range+1):\n",
        "#     calculate_macd(df, x)\n",
        "# for x in range(6, indicator_range+1):\n",
        "#     calculate_rsi(df, x)\n",
        "# for x in range(6, indicator_range+1):\n",
        "#     calculate_sr(df, x)\n",
        "# for x in range(6, indicator_range+1):\n",
        "#     calculate_WR(df, x)\n",
        "# for x in range(6, indicator_range+1):\n",
        "#     calculate_ema(df, x)\n",
        "# for x in range(6, indicator_range+1):\n",
        "#     calculate_mfi(df, x)\n",
        "# for x in range(6, indicator_range+1):\n",
        "#     calculate_bb(df, x)\n",
        "# for x in range(6, indicator_range+1):\n",
        "#     calculate_dema(df, x)\n",
        "# for x in range(6, indicator_range+1):\n",
        "#     calculate_cci(df, x)\n",
        "# for x in range(6, indicator_range+1):\n",
        "#     calculate_roc(df, x)\n",
        "# for x in range(6, indicator_range+1):\n",
        "#     calculate_cmo(df, x)\n",
        "# for x in range(6, indicator_range+1):\n",
        "#     calculate_tema(df, x)\n",
        "# for x in range(6, indicator_range+1):\n",
        "#     calculate_cmf(df, x)\n",
        "# for x in range(6, indicator_range+1):\n",
        "#     calculate_trix(df, x)\n",
        "# for x in range(6, indicator_range+1):\n",
        "#     calculate_kst(df, x)"
      ],
      "execution_count": 18,
      "outputs": []
    },
    {
      "cell_type": "markdown",
      "metadata": {
        "id": "CIVK2S6Yvr_7"
      },
      "source": [
        "# *RSI*: Relative Strength Index"
      ]
    },
    {
      "cell_type": "code",
      "metadata": {
        "id": "Ev2NEN47vyzg"
      },
      "source": [
        "def calculate_rsi(df, iteration):\n",
        "    diff = df['close'].diff()\n",
        "    up, down = diff.copy(), diff.copy()\n",
        "    up[up < 0] = 0 # Converting to Average Gain\n",
        "    down[down > 0] = 0 # Converting to Average Loss\n",
        "    down = abs(down) # Positive Value of Average Loss\n",
        "    iter_Num_Day_Up_Closes = up.rolling(iteration).mean() # interation # day periods\n",
        "    iter_Num_Day_Down_Closes = down.rolling(iteration).mean() # interaction # day periods\n",
        "    relative_strength = iter_Num_Day_Up_Closes / iter_Num_Day_Down_Closes\n",
        "    df['RSI_'+str(iteration)] = 100 - (100 / (1 + relative_strength))\n",
        "    df['RSI_'+str(iteration)] = df['RSI_'+str(iteration)].fillna(0)"
      ],
      "execution_count": 19,
      "outputs": []
    },
    {
      "cell_type": "markdown",
      "metadata": {
        "id": "whRaziz6v2NN"
      },
      "source": [
        "# *MACD*: Moving Average Convergance Diverage Momentum"
      ]
    },
    {
      "cell_type": "code",
      "metadata": {
        "id": "E4o2fwQrv69I"
      },
      "source": [
        "def calculate_macd(df, iteration):\n",
        "    df['MACD_'+str(iteration)] = df[\"close\"].ewm(span=12).mean() - df[\"close\"].ewm(span=26).mean()\n",
        "    df['MACD_'+str(iteration)] = df['MACD_'+str(iteration)].fillna(0)\n",
        "    #df['Signal Line'] = df['MACD'].ewm(span=9).mean()"
      ],
      "execution_count": 20,
      "outputs": []
    },
    {
      "cell_type": "markdown",
      "metadata": {
        "id": "HXn93L4Iv9zU"
      },
      "source": [
        "# *EMA*: Exponential Moving Average"
      ]
    },
    {
      "cell_type": "code",
      "metadata": {
        "id": "h14pBvfOwBda"
      },
      "source": [
        "\n",
        "def calculate_ema(df, iteration, windowSize=11):\n",
        "\n",
        "    if 'EMA_'+str(iteration) in df.columns:\n",
        "        return df['EMA_'+str(iteration)]\n",
        "        print(\"found EMA column\")\n",
        "    else:\n",
        "        multiplier = (2/(windowSize+1))\n",
        "        ema_1 = df['close'].rolling(windowSize).sum() / windowSize\n",
        "        #ema_1 = ema_1.fillna(0)\n",
        "        df['EMA_'+str(iteration)] = (df['close'] -  ema_1) * multiplier + ema_1 # -> Is this right?\n",
        "        df['EMA_'+str(iteration)] = df['EMA_'+str(iteration)].fillna(0)\n",
        "        return df['EMA_'+str(iteration)]"
      ],
      "execution_count": 21,
      "outputs": []
    },
    {
      "cell_type": "markdown",
      "metadata": {
        "id": "i4y1oV2NwEFC"
      },
      "source": [
        "# *SR*: Stochastic Oscillator"
      ]
    },
    {
      "cell_type": "code",
      "metadata": {
        "id": "AhxwQ9kowIKQ"
      },
      "source": [
        "def calculate_sr(df, iteration):\n",
        "    eleven_high = df['high'].rolling(11).max()\n",
        "    eleven_low = df['low'].rolling(11).min()\n",
        "    # %K is referred to sometimes as the fast stochastic indicator\n",
        "    fast_K = (df['close']-eleven_low)*100/(eleven_high - eleven_low)\n",
        "    # The \"slow\" stochastic indicator is taken as %D = 3-period moving average of %K\n",
        "    df['%D_'+str(iteration)] = fast_K.rolling(3).mean()\n",
        "    df['%D_'+str(iteration)] = df['%D_'+str(iteration)].fillna(0)"
      ],
      "execution_count": 22,
      "outputs": []
    },
    {
      "cell_type": "markdown",
      "metadata": {
        "id": "m-oyWdNIwLd8"
      },
      "source": [
        "# *WR*: Williams Percent Range"
      ]
    },
    {
      "cell_type": "code",
      "metadata": {
        "id": "JrGynG0TwO6R"
      },
      "source": [
        "def calculate_WR(df, iteration):\n",
        "    eleven_high = df['high'].rolling(11).max()\n",
        "    eleven_low = df['low'].rolling(11).min()\n",
        "    df['WR_'+str(iteration)] = (eleven_high - df['close']) / (eleven_high - eleven_low) * -100\n",
        "    df['WR_'+str(iteration)] = df['WR_'+str(iteration)].rolling(3).mean()\n",
        "    df['WR_'+str(iteration)] = df['WR_'+str(iteration)].fillna(0)"
      ],
      "execution_count": 23,
      "outputs": []
    },
    {
      "cell_type": "markdown",
      "metadata": {
        "id": "lSmjz84RwSLY"
      },
      "source": [
        "# *MFI*: Money Flow Index"
      ]
    },
    {
      "cell_type": "code",
      "metadata": {
        "id": "ipLI669NwWG1"
      },
      "source": [
        "def calculate_mfi(df, iteration):\n",
        "    price = (df['close'] + df['high'] + df['low']) / 3\n",
        "    #mf = df['tp'] * df['volume']\n",
        "    mf = price * df['volume']\n",
        "    positive_flow = []\n",
        "    negative_flow = []\n",
        "    positive_mf = []\n",
        "    negative_mf = []\n",
        "    # Loop through typical price calculations\n",
        "    for i in range(1, len(price)):\n",
        "        # If current TP > previous TP, mark as positive flow\n",
        "        if price[i] > price[i-1]:\n",
        "            positive_flow.append(mf[i-1])\n",
        "            negative_flow.append(0)\n",
        "        # If current TP < previous TP, mark as negative flow\n",
        "        elif price[i] < [i-1]:\n",
        "            negative_flow.append(mf[i-1])\n",
        "            positive_flow.append(0)\n",
        "        # If no change, mark both as zero\n",
        "        else:\n",
        "            positive_flow.append(0)\n",
        "            negative_flow.append(0) \n",
        "    for i in range(len(positive_flow) + 1):\n",
        "        positive_mf.append(sum(positive_flow[i+1-11:i+1]))\n",
        "    for i in range(len(negative_flow) + 1):\n",
        "        negative_mf.append(sum(negative_flow[i+1-11:i+1]))\n",
        "    df['MFI_'+str(iteration)] = 100 * (np.array(positive_mf) / (np.array(positive_mf) + np.array(negative_mf)))\n",
        "    #df['MFI_'+str(iteration)] = 100 - (100 / (1 + (np.array(positive_mf) + np.array(negative_mf))))\n",
        "    df['MFI_'+str(iteration)] = df['MFI_'+str(iteration)].fillna(0)"
      ],
      "execution_count": 24,
      "outputs": []
    },
    {
      "cell_type": "markdown",
      "metadata": {
        "id": "9kIa6LudwY8N"
      },
      "source": [
        "# *BB*: Bollinger Band"
      ]
    },
    {
      "cell_type": "code",
      "metadata": {
        "id": "Mls4WkSJwclo"
      },
      "source": [
        "\n",
        "def calculate_bb(df, iteration):\n",
        "    # Creating temporary Dataframe\n",
        "    atr_df = pd.DataFrame()\n",
        "    atr_df['close'] = df['close']\n",
        "    atr_df['MA11'] = df['close'].rolling(window=11).mean()\n",
        "    atr_df['11STD'] = df['close'].rolling(window=11).std()\n",
        "    atr_df['Upper'] = atr_df['MA11'] + (atr_df['11STD'] * 2) # -> Where is this 2 coming from?\n",
        "    atr_df['Lower'] = atr_df['MA11'] - (atr_df['11STD'] * 2)\n",
        "    df['BB_'+str(iteration)] = atr_df[['close','MA11','Upper','Lower']].max(axis=1)\n",
        "    df['BB_'+str(iteration)] = df['BB_'+str(iteration)].fillna(0)\n",
        "    #plot_indicators(atr_df, ['Upper', 'Lower', 'MA11'], \"Bollinger Band\", \"Days\")\n",
        "\n",
        "    lower = atr_df['Lower'].to_numpy()\n",
        "    upper = atr_df['Upper'].to_numpy()\n",
        "    ma = atr_df['MA11'].to_numpy()\n",
        "    x = np.arange(lower.shape[0])\n",
        "\n",
        "    fig, (ax1) = plt.subplots(1, 1, sharex=True)\n",
        "\n",
        "    ax1.fill_between(x, lower, upper, alpha=0.25, color='lime', label='Upper and Lower Bands')\n",
        "    ax1.plot(x, ma, color='white', label='11 day moving average')\n",
        "    vals = ax1.get_yticks()\n",
        "    ax1.set_yticklabels(['${:1.2f}'.format(x) for x in vals])\n",
        "    ax1.legend(loc='upper right')\n",
        "    ax1.grid(linestyle='-', linewidth='0.5', color='gray')\n",
        "    ax1.yaxis.grid(True)\n",
        "    ax1.set_ylabel('Current Price')\n",
        "    ax1.set_xlabel('Number of Days')\n",
        "    ax1.set_title('Bollinger Band of ' + ticker)"
      ],
      "execution_count": 25,
      "outputs": []
    },
    {
      "cell_type": "markdown",
      "metadata": {
        "id": "pe7MIdNownLe"
      },
      "source": [
        "# *ATR*: Average True Range"
      ]
    },
    {
      "cell_type": "code",
      "metadata": {
        "id": "YwROzGR0wrd7"
      },
      "source": [
        "def calculate_atr(df, iteration):\n",
        "    # Checks to see if iteration is already in the dataframe\n",
        "    if 'ATR_'+str(iteration) in df.columns:\n",
        "        return df['ATR_'+str(iteration)]\n",
        "    else:\n",
        "        data = df.copy()\n",
        "        high = df['high']\n",
        "        low = df['low']\n",
        "        close = df['close']\n",
        "        tr_0 = abs(high - low)\n",
        "        # Creating temporary Dataframe\n",
        "        atr_df = pd.DataFrame()\n",
        "        atr_df['tr0'] = abs(high - low)\n",
        "        atr_df['tr1'] = abs(high - close.shift())\n",
        "        atr_df['tr2'] = abs(low - close.shift())\n",
        "        atr_df['TR'] = atr_df[['tr0', 'tr1', 'tr2']].max(axis=1)\n",
        "        df['ATR_'+str(iteration)] = atr_df['TR'].ewm(alpha=1/11,adjust=False).mean()\n",
        "        df['ATR_'+str(iteration)] = df['ATR_'+str(iteration)].fillna(0)\n",
        "        #print(np.where(df['ATR'] < 0))\n",
        "        return df['ATR_'+str(iteration)]"
      ],
      "execution_count": 26,
      "outputs": []
    },
    {
      "cell_type": "markdown",
      "metadata": {
        "id": "CwPmkLppwvKH"
      },
      "source": [
        "# *KC*: Kelter Channel"
      ]
    },
    {
      "cell_type": "code",
      "metadata": {
        "id": "5TgBfqjUwzz1"
      },
      "source": [
        "def calculate_kc(df, iteration):\n",
        "    #df['KC'] = df.copy\n",
        "    #KelChM = pd.Series(((df['high'] + df['low'] + df['close']).rolling(11).mean() / 3), name = 'KelChM_' + str(11)) \n",
        "    #KelChU = pd.Series(((4 * df['high'] - 2 * df['low'] + df['close']).rolling(11).mean() / 3), name = 'KelChU_' + str(11))  \n",
        "    #KelChD = pd.Series(((-2 * df['high'] + 4 * df['low'] + df['close']).rolling(11).mean() / 3), name = 'KelChD_' + str(11))\n",
        "    atr = calculate_atr(df, iteration)\n",
        "    temp_df = pd.DataFrame()\n",
        "    temp_df['middle'] = calculate_ema(df, iteration)\n",
        "    temp_df['upper'] = temp_df['middle'] + 2 * atr\n",
        "    temp_df['lower'] = temp_df['middle'] - 2 * atr\n",
        "    df['KC_'+str(iteration)] = temp_df[['middle','upper','lower']].max(axis=1)\n",
        "    df['KC_'+str(iteration)] = df['KC_'+str(iteration)].fillna(0)\n",
        "    #print(np.where(temp_df['middle'] > temp_df['upper']))"
      ],
      "execution_count": 27,
      "outputs": []
    },
    {
      "cell_type": "markdown",
      "metadata": {
        "id": "x6KGjnG4w2SX"
      },
      "source": [
        "# *DEMA*: Double Exponential Moving Average"
      ]
    },
    {
      "cell_type": "code",
      "metadata": {
        "id": "58ca3V-cw6of"
      },
      "source": [
        "def calculate_dema(df, iteration):\n",
        "    multiplier = (2/(11+1))\n",
        "    dema_1 = sum(df['close'],11)\n",
        "    df['DEMA_'+str(iteration)] = (df['close'] * multiplier) + (dema_1 * (1-multiplier))\n",
        "    df['DEMA_'+str(iteration)] = df['DEMA_'+str(iteration)].fillna(0)"
      ],
      "execution_count": 28,
      "outputs": []
    },
    {
      "cell_type": "markdown",
      "metadata": {
        "id": "lxb0ROROw9nj"
      },
      "source": [
        "# *CCI*: Commodity Channel Index"
      ]
    },
    {
      "cell_type": "code",
      "metadata": {
        "id": "CyFP8N8txBgQ"
      },
      "source": [
        "def calculate_cci(df, iteration):\n",
        "    typical_price = (df['high'] + df['low'] + df['close']) / 3\n",
        "    df['CCI_'+str(iteration)] = ((typical_price - typical_price.rolling(11).mean())/ (0.015 * typical_price.rolling(11).std()))\n",
        "    df['CCI_'+str(iteration)] = df['CCI_'+str(iteration)].fillna(0)"
      ],
      "execution_count": 29,
      "outputs": []
    },
    {
      "cell_type": "markdown",
      "metadata": {
        "id": "zL-P4jetxDeE"
      },
      "source": [
        "# *EMV*: Ease of Movement Volume"
      ]
    },
    {
      "cell_type": "code",
      "metadata": {
        "id": "jDlhh0CrxGyR"
      },
      "source": [
        "def calculate_emv(df, iteration):\n",
        "    distance_moved = ((df['high'] + df['low'])/2) - ((df['high'].shift(iteration) + df['low'].shift(iteration))/2)\n",
        "    box_ratio = (df['volume'] / 100000000) / ((df['high'] - df['low']))\n",
        "    df['EVM_'+str(iteration)] = distance_moved / box_ratio \n",
        "    df['EVM_'+str(iteration)] = df['EVM_'+str(iteration)].fillna(0)"
      ],
      "execution_count": 30,
      "outputs": []
    },
    {
      "cell_type": "markdown",
      "metadata": {
        "id": "DlXfnvMDxNTb"
      },
      "source": [
        "# *FI*: Force Index"
      ]
    },
    {
      "cell_type": "code",
      "metadata": {
        "id": "rhZ8_lf2xQ2A"
      },
      "source": [
        "def calculate_fi(df, iteration):\n",
        "    df['FI_'+str(iteration)] = df['close'].diff(iteration) * df['volume']\n",
        "    df['FI_'+str(iteration)] = df['FI_'+str(iteration)].fillna(0)"
      ],
      "execution_count": 31,
      "outputs": []
    },
    {
      "cell_type": "markdown",
      "metadata": {
        "id": "SBAjh-R5xTXh"
      },
      "source": [
        "# *ROC*: Price Rate of Change"
      ]
    },
    {
      "cell_type": "code",
      "metadata": {
        "id": "JlGj2HBMxYCL"
      },
      "source": [
        "def calculate_roc(df, iteration):\n",
        "    N = df['close'].diff(iteration)\n",
        "    D = df['close'].shift(iteration)\n",
        "    df['ROC_'+str(iteration)] = N / D\n",
        "    df['ROC_'+str(iteration)] = df['ROC_'+str(iteration)].fillna(0)"
      ],
      "execution_count": 32,
      "outputs": []
    },
    {
      "cell_type": "markdown",
      "metadata": {
        "id": "0fnjxLrmxaW2"
      },
      "source": [
        "# *OBV*: On-Balance Volume"
      ]
    },
    {
      "cell_type": "code",
      "metadata": {
        "id": "7FSZCSEgxeJn"
      },
      "source": [
        "def calculate_obv(df, iteration):\n",
        "    df['OBV_'+str(iteration)] = np.where(df['close'] > df['close'].shift(1), df['volume'], np.where(df['close'] < df['close'].shift(1), -df['volume'],0)).cumsum()\n",
        "    df['OBV_'+str(iteration)] = df['OBV_'+str(iteration)].fillna(0)"
      ],
      "execution_count": 33,
      "outputs": []
    },
    {
      "cell_type": "markdown",
      "metadata": {
        "id": "qA3JjKT6xho0"
      },
      "source": [
        "# Run all Technical Indicator methods"
      ]
    },
    {
      "cell_type": "code",
      "metadata": {
        "id": "z2v6M0oOxkaV",
        "outputId": "d900c8dc-e719-4feb-858f-a41c8c098782",
        "colab": {
          "base_uri": "https://localhost:8080/",
          "height": 545
        }
      },
      "source": [
        "indicator_range = 26\n",
        "\n",
        "for x in range(1, indicator_range+1):\n",
        "    calculate_macd(df, x)\n",
        "for x in range(6, indicator_range+1):\n",
        "    calculate_rsi(df, x)\n",
        "for x in range(1, indicator_range+1):\n",
        "    calculate_sr(df, x)\n",
        "for x in range(1, indicator_range+1):\n",
        "    calculate_WR(df, x)\n",
        "for x in range(1, indicator_range+1):\n",
        "    calculate_ema(df, x)\n",
        "for x in range(1, indicator_range+1):\n",
        "    calculate_mfi(df, x)\n",
        "for x in range(1, 2):\n",
        "    calculate_bb(df, x)\n",
        "for x in range(1, indicator_range+1):\n",
        "    calculate_atr(df, x)\n",
        "for x in range(1, indicator_range+1):\n",
        "    calculate_kc(df, x)\n",
        "for x in range(1, indicator_range+1):\n",
        "    calculate_dema(df, x)\n",
        "for x in range(1, indicator_range+1):\n",
        "    calculate_cci(df, x)\n",
        "for x in range(1, 7):\n",
        "    calculate_emv(df, x)\n",
        "for x in range(10, indicator_range+1):\n",
        "    calculate_fi(df, x)\n",
        "for x in range(5, indicator_range):\n",
        "    calculate_roc(df, x)\n",
        "for x in range(1, indicator_range+1):\n",
        "    calculate_obv(df, x)"
      ],
      "execution_count": 34,
      "outputs": [
        {
          "output_type": "stream",
          "text": [
            "/usr/local/lib/python3.7/dist-packages/ipykernel_launcher.py:27: RuntimeWarning: invalid value encountered in true_divide\n"
          ],
          "name": "stderr"
        },
        {
          "output_type": "display_data",
          "data": {
            "image/png": "[encoded data removed]",
            "text/plain": [
              "<Figure size 864x576 with 1 Axes>"
            ]
          },
          "metadata": {
            "tags": []
          }
        }
      ]
    },
    {
      "cell_type": "markdown",
      "metadata": {
        "id": "M9iKoizPxs2B"
      },
      "source": [
        "# Plot charts for a few Technical Indicators"
      ]
    },
    {
      "cell_type": "code",
      "metadata": {
        "id": "epYU0inDxxhg",
        "outputId": "c84dec6d-27f4-49b6-8ee0-84f8b5195894",
        "colab": {
          "base_uri": "https://localhost:8080/",
          "height": 528
        }
      },
      "source": [
        "plot_indicators(df, \"FI_10\", \"FI\", \"Days\")"
      ],
      "execution_count": 35,
      "outputs": [
        {
          "output_type": "display_data",
          "data": {
            "image/png": "[encoded data removed]",
            "text/plain": [
              "<Figure size 864x576 with 1 Axes>"
            ]
          },
          "metadata": {
            "tags": []
          }
        }
      ]
    },
    {
      "cell_type": "markdown",
      "metadata": {
        "id": "hCQd4Izaxyae"
      },
      "source": [
        "# Normalization and Splitting of Data"
      ]
    },
    {
      "cell_type": "code",
      "metadata": {
        "id": "37geHIB-x4Dn",
        "outputId": "47ec207e-a757-4faf-b1ff-8d56f0674ae7",
        "colab": {
          "base_uri": "https://localhost:8080/"
        }
      },
      "source": [
        "from sklearn.preprocessing import MinMaxScaler#, OneHotEncoder\n",
        "from sklearn.model_selection import train_test_split\n",
        "#from collections import Counter\n",
        "\n",
        "pd.options.display.max_columns = 20\n",
        "\n",
        "#print(df.columns)\n",
        "#list_features = list(df.loc[:, 'open': 'OBV_'+str(indicator_range)].columns) # Gets the names of all the columns from MACD to RSI\n",
        "list_features = list(df.loc[:, ~df.columns.isin(['timestamps', 'labels'])].columns)\n",
        "print('Total number of features', len(list_features))\n",
        "print(\"Columns:\", list_features)\n",
        "\n",
        "\n",
        "# df.loc[:, 'MACD':'RSI'].values: -> Data used to create 'x_train' and 'x_test'\n",
        "# df['labels'].values: -> Data used to create 'y_train' and 'y_test'\n",
        "#print(df.loc[:, 'MACD':'OBV'])\n",
        "x_train, x_test, y_train, y_test = train_test_split(df.loc[:, 'open': 'OBV_'+str(indicator_range)].values, df['labels'].values, train_size=0.8, test_size=0.2, random_state=2, shuffle=True, stratify=df['labels'].values)\n",
        "\n",
        "if 0.7*x_train.shape[0] < 2500:\n",
        "    # If training dataset is small, it increases the percentage of training\n",
        "    train_split = 0.8\n",
        "else:\n",
        "    train_split = 0.7\n",
        "\n",
        "print('train_split =', train_split)\n",
        "x_train, x_cv, y_train, y_cv = train_test_split(x_train, y_train, train_size=train_split, test_size=1-train_split, \n",
        "                                                random_state=2, shuffle=True, stratify=y_train)\n",
        "\n",
        "# Normalize the data in the range of [0, 1]\n",
        "mm_scaler = MinMaxScaler(feature_range=(0, 1)) # or StandardScaler?\n",
        "x_train = mm_scaler.fit_transform(x_train)\n",
        "x_cv = mm_scaler.transform(x_cv)\n",
        "x_test = mm_scaler.transform(x_test)\n",
        "\n",
        "print(\"Shape of x, y train/cv/test {} {} {} {} {} {}\".format(x_train.shape, y_train.shape, x_cv.shape, y_cv.shape, x_test.shape, y_test.shape))"
      ],
      "execution_count": 36,
      "outputs": [
        {
          "output_type": "stream",
          "text": [
            "Total number of features 333\n",
            "Columns: ['open', 'high', 'low', 'close', 'volume', 'diff', 'change', 'MACD_1', 'MACD_2', 'MACD_3', 'MACD_4', 'MACD_5', 'MACD_6', 'MACD_7', 'MACD_8', 'MACD_9', 'MACD_10', 'MACD_11', 'MACD_12', 'MACD_13', 'MACD_14', 'MACD_15', 'MACD_16', 'MACD_17', 'MACD_18', 'MACD_19', 'MACD_20', 'MACD_21', 'MACD_22', 'MACD_23', 'MACD_24', 'MACD_25', 'MACD_26', 'RSI_6', 'RSI_7', 'RSI_8', 'RSI_9', 'RSI_10', 'RSI_11', 'RSI_12', 'RSI_13', 'RSI_14', 'RSI_15', 'RSI_16', 'RSI_17', 'RSI_18', 'RSI_19', 'RSI_20', 'RSI_21', 'RSI_22', 'RSI_23', 'RSI_24', 'RSI_25', 'RSI_26', '%D_1', '%D_2', '%D_3', '%D_4', '%D_5', '%D_6', '%D_7', '%D_8', '%D_9', '%D_10', '%D_11', '%D_12', '%D_13', '%D_14', '%D_15', '%D_16', '%D_17', '%D_18', '%D_19', '%D_20', '%D_21', '%D_22', '%D_23', '%D_24', '%D_25', '%D_26', 'WR_1', 'WR_2', 'WR_3', 'WR_4', 'WR_5', 'WR_6', 'WR_7', 'WR_8', 'WR_9', 'WR_10', 'WR_11', 'WR_12', 'WR_13', 'WR_14', 'WR_15', 'WR_16', 'WR_17', 'WR_18', 'WR_19', 'WR_20', 'WR_21', 'WR_22', 'WR_23', 'WR_24', 'WR_25', 'WR_26', 'EMA_1', 'EMA_2', 'EMA_3', 'EMA_4', 'EMA_5', 'EMA_6', 'EMA_7', 'EMA_8', 'EMA_9', 'EMA_10', 'EMA_11', 'EMA_12', 'EMA_13', 'EMA_14', 'EMA_15', 'EMA_16', 'EMA_17', 'EMA_18', 'EMA_19', 'EMA_20', 'EMA_21', 'EMA_22', 'EMA_23', 'EMA_24', 'EMA_25', 'EMA_26', 'MFI_1', 'MFI_2', 'MFI_3', 'MFI_4', 'MFI_5', 'MFI_6', 'MFI_7', 'MFI_8', 'MFI_9', 'MFI_10', 'MFI_11', 'MFI_12', 'MFI_13', 'MFI_14', 'MFI_15', 'MFI_16', 'MFI_17', 'MFI_18', 'MFI_19', 'MFI_20', 'MFI_21', 'MFI_22', 'MFI_23', 'MFI_24', 'MFI_25', 'MFI_26', 'BB_1', 'ATR_1', 'ATR_2', 'ATR_3', 'ATR_4', 'ATR_5', 'ATR_6', 'ATR_7', 'ATR_8', 'ATR_9', 'ATR_10', 'ATR_11', 'ATR_12', 'ATR_13', 'ATR_14', 'ATR_15', 'ATR_16', 'ATR_17', 'ATR_18', 'ATR_19', 'ATR_20', 'ATR_21', 'ATR_22', 'ATR_23', 'ATR_24', 'ATR_25', 'ATR_26', 'KC_1', 'KC_2', 'KC_3', 'KC_4', 'KC_5', 'KC_6', 'KC_7', 'KC_8', 'KC_9', 'KC_10', 'KC_11', 'KC_12', 'KC_13', 'KC_14', 'KC_15', 'KC_16', 'KC_17', 'KC_18', 'KC_19', 'KC_20', 'KC_21', 'KC_22', 'KC_23', 'KC_24', 'KC_25', 'KC_26', 'DEMA_1', 'DEMA_2', 'DEMA_3', 'DEMA_4', 'DEMA_5', 'DEMA_6', 'DEMA_7', 'DEMA_8', 'DEMA_9', 'DEMA_10', 'DEMA_11', 'DEMA_12', 'DEMA_13', 'DEMA_14', 'DEMA_15', 'DEMA_16', 'DEMA_17', 'DEMA_18', 'DEMA_19', 'DEMA_20', 'DEMA_21', 'DEMA_22', 'DEMA_23', 'DEMA_24', 'DEMA_25', 'DEMA_26', 'CCI_1', 'CCI_2', 'CCI_3', 'CCI_4', 'CCI_5', 'CCI_6', 'CCI_7', 'CCI_8', 'CCI_9', 'CCI_10', 'CCI_11', 'CCI_12', 'CCI_13', 'CCI_14', 'CCI_15', 'CCI_16', 'CCI_17', 'CCI_18', 'CCI_19', 'CCI_20', 'CCI_21', 'CCI_22', 'CCI_23', 'CCI_24', 'CCI_25', 'CCI_26', 'EVM_1', 'EVM_2', 'EVM_3', 'EVM_4', 'EVM_5', 'EVM_6', 'FI_10', 'FI_11', 'FI_12', 'FI_13', 'FI_14', 'FI_15', 'FI_16', 'FI_17', 'FI_18', 'FI_19', 'FI_20', 'FI_21', 'FI_22', 'FI_23', 'FI_24', 'FI_25', 'FI_26', 'ROC_5', 'ROC_6', 'ROC_7', 'ROC_8', 'ROC_9', 'ROC_10', 'ROC_11', 'ROC_12', 'ROC_13', 'ROC_14', 'ROC_15', 'ROC_16', 'ROC_17', 'ROC_18', 'ROC_19', 'ROC_20', 'ROC_21', 'ROC_22', 'ROC_23', 'ROC_24', 'ROC_25', 'OBV_1', 'OBV_2', 'OBV_3', 'OBV_4', 'OBV_5', 'OBV_6', 'OBV_7', 'OBV_8', 'OBV_9', 'OBV_10', 'OBV_11', 'OBV_12', 'OBV_13', 'OBV_14', 'OBV_15', 'OBV_16', 'OBV_17', 'OBV_18', 'OBV_19', 'OBV_20', 'OBV_21', 'OBV_22', 'OBV_23', 'OBV_24', 'OBV_25', 'OBV_26']\n",
            "train_split = 0.8\n",
            "Shape of x, y train/cv/test (1986, 334) (1986,) (497, 334) (497,) (621, 334) (621,)\n"
          ],
          "name": "stdout"
        }
      ]
    },
    {
      "cell_type": "code",
      "metadata": {
        "id": "v9xQ2NHw2p4B",
        "outputId": "dbf5a7bd-7c35-40d6-ae02-64bbb2759b6e",
        "colab": {
          "base_uri": "https://localhost:8080/",
          "height": 578
        }
      },
      "source": [
        "df.head(10)"
      ],
      "execution_count": 37,
      "outputs": [
        {
          "output_type": "execute_result",
          "data": {
            "text/html": [
              "<div>\n",
              "<style scoped>\n",
              "    .dataframe tbody tr th:only-of-type {\n",
              "        vertical-align: middle;\n",
              "    }\n",
              "\n",
              "    .dataframe tbody tr th {\n",
              "        vertical-align: top;\n",
              "    }\n",
              "\n",
              "    .dataframe thead th {\n",
              "        text-align: right;\n",
              "    }\n",
              "</style>\n",
              "<table border=\"1\" class=\"dataframe\">\n",
              "  <thead>\n",
              "    <tr style=\"text-align: right;\">\n",
              "      <th></th>\n",
              "      <th>timestamps</th>\n",
              "      <th>open</th>\n",
              "      <th>high</th>\n",
              "      <th>low</th>\n",
              "      <th>close</th>\n",
              "      <th>volume</th>\n",
              "      <th>diff</th>\n",
              "      <th>change</th>\n",
              "      <th>labels</th>\n",
              "      <th>MACD_1</th>\n",
              "      <th>...</th>\n",
              "      <th>OBV_17</th>\n",
              "      <th>OBV_18</th>\n",
              "      <th>OBV_19</th>\n",
              "      <th>OBV_20</th>\n",
              "      <th>OBV_21</th>\n",
              "      <th>OBV_22</th>\n",
              "      <th>OBV_23</th>\n",
              "      <th>OBV_24</th>\n",
              "      <th>OBV_25</th>\n",
              "      <th>OBV_26</th>\n",
              "    </tr>\n",
              "  </thead>\n",
              "  <tbody>\n",
              "    <tr>\n",
              "      <th>0</th>\n",
              "      <td>2009-01-02 14:30:00</td>\n",
              "      <td>29.750000</td>\n",
              "      <td>31.129999</td>\n",
              "      <td>29.690001</td>\n",
              "      <td>31.030001</td>\n",
              "      <td>107891500</td>\n",
              "      <td>0.000000</td>\n",
              "      <td>0.000000</td>\n",
              "      <td>0.0</td>\n",
              "      <td>0.000000</td>\n",
              "      <td>...</td>\n",
              "      <td>0</td>\n",
              "      <td>0</td>\n",
              "      <td>0</td>\n",
              "      <td>0</td>\n",
              "      <td>0</td>\n",
              "      <td>0</td>\n",
              "      <td>0</td>\n",
              "      <td>0</td>\n",
              "      <td>0</td>\n",
              "      <td>0</td>\n",
              "    </tr>\n",
              "    <tr>\n",
              "      <th>1</th>\n",
              "      <td>2009-01-05 14:30:00</td>\n",
              "      <td>30.830000</td>\n",
              "      <td>31.330000</td>\n",
              "      <td>30.590000</td>\n",
              "      <td>31.020000</td>\n",
              "      <td>91751900</td>\n",
              "      <td>-0.010000</td>\n",
              "      <td>-0.032228</td>\n",
              "      <td>0.0</td>\n",
              "      <td>-0.000224</td>\n",
              "      <td>...</td>\n",
              "      <td>-91751900</td>\n",
              "      <td>-91751900</td>\n",
              "      <td>-91751900</td>\n",
              "      <td>-91751900</td>\n",
              "      <td>-91751900</td>\n",
              "      <td>-91751900</td>\n",
              "      <td>-91751900</td>\n",
              "      <td>-91751900</td>\n",
              "      <td>-91751900</td>\n",
              "      <td>-91751900</td>\n",
              "    </tr>\n",
              "    <tr>\n",
              "      <th>2</th>\n",
              "      <td>2009-01-06 14:30:00</td>\n",
              "      <td>31.250000</td>\n",
              "      <td>31.629999</td>\n",
              "      <td>31.110001</td>\n",
              "      <td>31.330000</td>\n",
              "      <td>136791700</td>\n",
              "      <td>0.309999</td>\n",
              "      <td>0.999354</td>\n",
              "      <td>0.0</td>\n",
              "      <td>0.009327</td>\n",
              "      <td>...</td>\n",
              "      <td>45039800</td>\n",
              "      <td>45039800</td>\n",
              "      <td>45039800</td>\n",
              "      <td>45039800</td>\n",
              "      <td>45039800</td>\n",
              "      <td>45039800</td>\n",
              "      <td>45039800</td>\n",
              "      <td>45039800</td>\n",
              "      <td>45039800</td>\n",
              "      <td>45039800</td>\n",
              "    </tr>\n",
              "    <tr>\n",
              "      <th>3</th>\n",
              "      <td>2009-01-07 14:30:00</td>\n",
              "      <td>30.730000</td>\n",
              "      <td>30.900000</td>\n",
              "      <td>30.190001</td>\n",
              "      <td>30.440001</td>\n",
              "      <td>133879800</td>\n",
              "      <td>-0.889999</td>\n",
              "      <td>-2.840726</td>\n",
              "      <td>0.0</td>\n",
              "      <td>-0.018690</td>\n",
              "      <td>...</td>\n",
              "      <td>-88840000</td>\n",
              "      <td>-88840000</td>\n",
              "      <td>-88840000</td>\n",
              "      <td>-88840000</td>\n",
              "      <td>-88840000</td>\n",
              "      <td>-88840000</td>\n",
              "      <td>-88840000</td>\n",
              "      <td>-88840000</td>\n",
              "      <td>-88840000</td>\n",
              "      <td>-88840000</td>\n",
              "    </tr>\n",
              "    <tr>\n",
              "      <th>4</th>\n",
              "      <td>2009-01-08 14:30:00</td>\n",
              "      <td>30.379999</td>\n",
              "      <td>30.799999</td>\n",
              "      <td>30.080000</td>\n",
              "      <td>30.760000</td>\n",
              "      <td>131926600</td>\n",
              "      <td>0.320000</td>\n",
              "      <td>1.051247</td>\n",
              "      <td>0.0</td>\n",
              "      <td>-0.020788</td>\n",
              "      <td>...</td>\n",
              "      <td>43086600</td>\n",
              "      <td>43086600</td>\n",
              "      <td>43086600</td>\n",
              "      <td>43086600</td>\n",
              "      <td>43086600</td>\n",
              "      <td>43086600</td>\n",
              "      <td>43086600</td>\n",
              "      <td>43086600</td>\n",
              "      <td>43086600</td>\n",
              "      <td>43086600</td>\n",
              "    </tr>\n",
              "    <tr>\n",
              "      <th>5</th>\n",
              "      <td>2009-01-09 14:30:00</td>\n",
              "      <td>30.770000</td>\n",
              "      <td>30.790001</td>\n",
              "      <td>29.920000</td>\n",
              "      <td>30.070000</td>\n",
              "      <td>117137900</td>\n",
              "      <td>-0.690001</td>\n",
              "      <td>-2.243175</td>\n",
              "      <td>2.0</td>\n",
              "      <td>-0.051162</td>\n",
              "      <td>...</td>\n",
              "      <td>-74051300</td>\n",
              "      <td>-74051300</td>\n",
              "      <td>-74051300</td>\n",
              "      <td>-74051300</td>\n",
              "      <td>-74051300</td>\n",
              "      <td>-74051300</td>\n",
              "      <td>-74051300</td>\n",
              "      <td>-74051300</td>\n",
              "      <td>-74051300</td>\n",
              "      <td>-74051300</td>\n",
              "    </tr>\n",
              "    <tr>\n",
              "      <th>6</th>\n",
              "      <td>2009-01-12 14:30:00</td>\n",
              "      <td>30.110001</td>\n",
              "      <td>30.150000</td>\n",
              "      <td>29.200001</td>\n",
              "      <td>29.520000</td>\n",
              "      <td>102726200</td>\n",
              "      <td>-0.549999</td>\n",
              "      <td>-1.829063</td>\n",
              "      <td>2.0</td>\n",
              "      <td>-0.094677</td>\n",
              "      <td>...</td>\n",
              "      <td>-176777500</td>\n",
              "      <td>-176777500</td>\n",
              "      <td>-176777500</td>\n",
              "      <td>-176777500</td>\n",
              "      <td>-176777500</td>\n",
              "      <td>-176777500</td>\n",
              "      <td>-176777500</td>\n",
              "      <td>-176777500</td>\n",
              "      <td>-176777500</td>\n",
              "      <td>-176777500</td>\n",
              "    </tr>\n",
              "    <tr>\n",
              "      <th>7</th>\n",
              "      <td>2009-01-13 14:30:00</td>\n",
              "      <td>29.510000</td>\n",
              "      <td>29.980000</td>\n",
              "      <td>29.180000</td>\n",
              "      <td>29.530001</td>\n",
              "      <td>186266700</td>\n",
              "      <td>0.010000</td>\n",
              "      <td>0.033876</td>\n",
              "      <td>2.0</td>\n",
              "      <td>-0.121856</td>\n",
              "      <td>...</td>\n",
              "      <td>9489200</td>\n",
              "      <td>9489200</td>\n",
              "      <td>9489200</td>\n",
              "      <td>9489200</td>\n",
              "      <td>9489200</td>\n",
              "      <td>9489200</td>\n",
              "      <td>9489200</td>\n",
              "      <td>9489200</td>\n",
              "      <td>9489200</td>\n",
              "      <td>9489200</td>\n",
              "    </tr>\n",
              "    <tr>\n",
              "      <th>8</th>\n",
              "      <td>2009-01-14 14:30:00</td>\n",
              "      <td>29.190001</td>\n",
              "      <td>29.280001</td>\n",
              "      <td>28.469999</td>\n",
              "      <td>28.629999</td>\n",
              "      <td>136294000</td>\n",
              "      <td>-0.900002</td>\n",
              "      <td>-3.047753</td>\n",
              "      <td>2.0</td>\n",
              "      <td>-0.183476</td>\n",
              "      <td>...</td>\n",
              "      <td>-126804800</td>\n",
              "      <td>-126804800</td>\n",
              "      <td>-126804800</td>\n",
              "      <td>-126804800</td>\n",
              "      <td>-126804800</td>\n",
              "      <td>-126804800</td>\n",
              "      <td>-126804800</td>\n",
              "      <td>-126804800</td>\n",
              "      <td>-126804800</td>\n",
              "      <td>-126804800</td>\n",
              "    </tr>\n",
              "    <tr>\n",
              "      <th>9</th>\n",
              "      <td>2009-01-15 14:30:00</td>\n",
              "      <td>28.570000</td>\n",
              "      <td>29.340000</td>\n",
              "      <td>28.070000</td>\n",
              "      <td>29.100000</td>\n",
              "      <td>192567200</td>\n",
              "      <td>0.470001</td>\n",
              "      <td>1.641639</td>\n",
              "      <td>2.0</td>\n",
              "      <td>-0.200309</td>\n",
              "      <td>...</td>\n",
              "      <td>65762400</td>\n",
              "      <td>65762400</td>\n",
              "      <td>65762400</td>\n",
              "      <td>65762400</td>\n",
              "      <td>65762400</td>\n",
              "      <td>65762400</td>\n",
              "      <td>65762400</td>\n",
              "      <td>65762400</td>\n",
              "      <td>65762400</td>\n",
              "      <td>65762400</td>\n",
              "    </tr>\n",
              "  </tbody>\n",
              "</table>\n",
              "<p>10 rows × 335 columns</p>\n",
              "</div>"
            ],
            "text/plain": [
              "           timestamps       open       high        low      close     volume  \\\n",
              "0 2009-01-02 14:30:00  29.750000  31.129999  29.690001  31.030001  107891500   \n",
              "1 2009-01-05 14:30:00  30.830000  31.330000  30.590000  31.020000   91751900   \n",
              "2 2009-01-06 14:30:00  31.250000  31.629999  31.110001  31.330000  136791700   \n",
              "3 2009-01-07 14:30:00  30.730000  30.900000  30.190001  30.440001  133879800   \n",
              "4 2009-01-08 14:30:00  30.379999  30.799999  30.080000  30.760000  131926600   \n",
              "5 2009-01-09 14:30:00  30.770000  30.790001  29.920000  30.070000  117137900   \n",
              "6 2009-01-12 14:30:00  30.110001  30.150000  29.200001  29.520000  102726200   \n",
              "7 2009-01-13 14:30:00  29.510000  29.980000  29.180000  29.530001  186266700   \n",
              "8 2009-01-14 14:30:00  29.190001  29.280001  28.469999  28.629999  136294000   \n",
              "9 2009-01-15 14:30:00  28.570000  29.340000  28.070000  29.100000  192567200   \n",
              "\n",
              "       diff    change  labels    MACD_1  ...     OBV_17     OBV_18     OBV_19  \\\n",
              "0  0.000000  0.000000     0.0  0.000000  ...          0          0          0   \n",
              "1 -0.010000 -0.032228     0.0 -0.000224  ...  -91751900  -91751900  -91751900   \n",
              "2  0.309999  0.999354     0.0  0.009327  ...   45039800   45039800   45039800   \n",
              "3 -0.889999 -2.840726     0.0 -0.018690  ...  -88840000  -88840000  -88840000   \n",
              "4  0.320000  1.051247     0.0 -0.020788  ...   43086600   43086600   43086600   \n",
              "5 -0.690001 -2.243175     2.0 -0.051162  ...  -74051300  -74051300  -74051300   \n",
              "6 -0.549999 -1.829063     2.0 -0.094677  ... -176777500 -176777500 -176777500   \n",
              "7  0.010000  0.033876     2.0 -0.121856  ...    9489200    9489200    9489200   \n",
              "8 -0.900002 -3.047753     2.0 -0.183476  ... -126804800 -126804800 -126804800   \n",
              "9  0.470001  1.641639     2.0 -0.200309  ...   65762400   65762400   65762400   \n",
              "\n",
              "      OBV_20     OBV_21     OBV_22     OBV_23     OBV_24     OBV_25     OBV_26  \n",
              "0          0          0          0          0          0          0          0  \n",
              "1  -91751900  -91751900  -91751900  -91751900  -91751900  -91751900  -91751900  \n",
              "2   45039800   45039800   45039800   45039800   45039800   45039800   45039800  \n",
              "3  -88840000  -88840000  -88840000  -88840000  -88840000  -88840000  -88840000  \n",
              "4   43086600   43086600   43086600   43086600   43086600   43086600   43086600  \n",
              "5  -74051300  -74051300  -74051300  -74051300  -74051300  -74051300  -74051300  \n",
              "6 -176777500 -176777500 -176777500 -176777500 -176777500 -176777500 -176777500  \n",
              "7    9489200    9489200    9489200    9489200    9489200    9489200    9489200  \n",
              "8 -126804800 -126804800 -126804800 -126804800 -126804800 -126804800 -126804800  \n",
              "9   65762400   65762400   65762400   65762400   65762400   65762400   65762400  \n",
              "\n",
              "[10 rows x 335 columns]"
            ]
          },
          "metadata": {
            "tags": []
          },
          "execution_count": 37
        }
      ]
    },
    {
      "cell_type": "code",
      "metadata": {
        "id": "4xtgPPUG2uMN",
        "outputId": "cd54cd52-d8b1-4517-a3e8-f93da29454a4",
        "colab": {
          "base_uri": "https://localhost:8080/",
          "height": 578
        }
      },
      "source": [
        "df.tail(10)"
      ],
      "execution_count": 38,
      "outputs": [
        {
          "output_type": "execute_result",
          "data": {
            "text/html": [
              "<div>\n",
              "<style scoped>\n",
              "    .dataframe tbody tr th:only-of-type {\n",
              "        vertical-align: middle;\n",
              "    }\n",
              "\n",
              "    .dataframe tbody tr th {\n",
              "        vertical-align: top;\n",
              "    }\n",
              "\n",
              "    .dataframe thead th {\n",
              "        text-align: right;\n",
              "    }\n",
              "</style>\n",
              "<table border=\"1\" class=\"dataframe\">\n",
              "  <thead>\n",
              "    <tr style=\"text-align: right;\">\n",
              "      <th></th>\n",
              "      <th>timestamps</th>\n",
              "      <th>open</th>\n",
              "      <th>high</th>\n",
              "      <th>low</th>\n",
              "      <th>close</th>\n",
              "      <th>volume</th>\n",
              "      <th>diff</th>\n",
              "      <th>change</th>\n",
              "      <th>labels</th>\n",
              "      <th>MACD_1</th>\n",
              "      <th>...</th>\n",
              "      <th>OBV_17</th>\n",
              "      <th>OBV_18</th>\n",
              "      <th>OBV_19</th>\n",
              "      <th>OBV_20</th>\n",
              "      <th>OBV_21</th>\n",
              "      <th>OBV_22</th>\n",
              "      <th>OBV_23</th>\n",
              "      <th>OBV_24</th>\n",
              "      <th>OBV_25</th>\n",
              "      <th>OBV_26</th>\n",
              "    </tr>\n",
              "  </thead>\n",
              "  <tbody>\n",
              "    <tr>\n",
              "      <th>3094</th>\n",
              "      <td>2021-04-20 13:30:00</td>\n",
              "      <td>338.200012</td>\n",
              "      <td>339.519989</td>\n",
              "      <td>334.380005</td>\n",
              "      <td>336.410004</td>\n",
              "      <td>38081800</td>\n",
              "      <td>-2.470001</td>\n",
              "      <td>-0.728872</td>\n",
              "      <td>2.0</td>\n",
              "      <td>5.787555</td>\n",
              "      <td>...</td>\n",
              "      <td>7607757600</td>\n",
              "      <td>7607757600</td>\n",
              "      <td>7607757600</td>\n",
              "      <td>7607757600</td>\n",
              "      <td>7607757600</td>\n",
              "      <td>7607757600</td>\n",
              "      <td>7607757600</td>\n",
              "      <td>7607757600</td>\n",
              "      <td>7607757600</td>\n",
              "      <td>7607757600</td>\n",
              "    </tr>\n",
              "    <tr>\n",
              "      <th>3095</th>\n",
              "      <td>2021-04-21 13:30:00</td>\n",
              "      <td>335.089996</td>\n",
              "      <td>339.480011</td>\n",
              "      <td>333.970001</td>\n",
              "      <td>339.290009</td>\n",
              "      <td>36598100</td>\n",
              "      <td>2.880005</td>\n",
              "      <td>0.856100</td>\n",
              "      <td>2.0</td>\n",
              "      <td>5.696906</td>\n",
              "      <td>...</td>\n",
              "      <td>7644355700</td>\n",
              "      <td>7644355700</td>\n",
              "      <td>7644355700</td>\n",
              "      <td>7644355700</td>\n",
              "      <td>7644355700</td>\n",
              "      <td>7644355700</td>\n",
              "      <td>7644355700</td>\n",
              "      <td>7644355700</td>\n",
              "      <td>7644355700</td>\n",
              "      <td>7644355700</td>\n",
              "    </tr>\n",
              "    <tr>\n",
              "      <th>3096</th>\n",
              "      <td>2021-04-22 13:30:00</td>\n",
              "      <td>338.890015</td>\n",
              "      <td>339.899994</td>\n",
              "      <td>334.010010</td>\n",
              "      <td>335.200012</td>\n",
              "      <td>45936100</td>\n",
              "      <td>-4.089996</td>\n",
              "      <td>-1.205457</td>\n",
              "      <td>1.0</td>\n",
              "      <td>5.234695</td>\n",
              "      <td>...</td>\n",
              "      <td>7598419600</td>\n",
              "      <td>7598419600</td>\n",
              "      <td>7598419600</td>\n",
              "      <td>7598419600</td>\n",
              "      <td>7598419600</td>\n",
              "      <td>7598419600</td>\n",
              "      <td>7598419600</td>\n",
              "      <td>7598419600</td>\n",
              "      <td>7598419600</td>\n",
              "      <td>7598419600</td>\n",
              "    </tr>\n",
              "    <tr>\n",
              "      <th>3097</th>\n",
              "      <td>2021-04-23 13:30:00</td>\n",
              "      <td>335.850006</td>\n",
              "      <td>340.769989</td>\n",
              "      <td>335.850006</td>\n",
              "      <td>339.420013</td>\n",
              "      <td>36381900</td>\n",
              "      <td>4.220001</td>\n",
              "      <td>1.258950</td>\n",
              "      <td>2.0</td>\n",
              "      <td>5.149548</td>\n",
              "      <td>...</td>\n",
              "      <td>7634801500</td>\n",
              "      <td>7634801500</td>\n",
              "      <td>7634801500</td>\n",
              "      <td>7634801500</td>\n",
              "      <td>7634801500</td>\n",
              "      <td>7634801500</td>\n",
              "      <td>7634801500</td>\n",
              "      <td>7634801500</td>\n",
              "      <td>7634801500</td>\n",
              "      <td>7634801500</td>\n",
              "    </tr>\n",
              "    <tr>\n",
              "      <th>3098</th>\n",
              "      <td>2021-04-26 13:30:00</td>\n",
              "      <td>339.670013</td>\n",
              "      <td>341.920013</td>\n",
              "      <td>338.899994</td>\n",
              "      <td>341.630005</td>\n",
              "      <td>30812000</td>\n",
              "      <td>2.209991</td>\n",
              "      <td>0.651108</td>\n",
              "      <td>0.0</td>\n",
              "      <td>5.200448</td>\n",
              "      <td>...</td>\n",
              "      <td>7665613500</td>\n",
              "      <td>7665613500</td>\n",
              "      <td>7665613500</td>\n",
              "      <td>7665613500</td>\n",
              "      <td>7665613500</td>\n",
              "      <td>7665613500</td>\n",
              "      <td>7665613500</td>\n",
              "      <td>7665613500</td>\n",
              "      <td>7665613500</td>\n",
              "      <td>7665613500</td>\n",
              "    </tr>\n",
              "    <tr>\n",
              "      <th>3099</th>\n",
              "      <td>2021-04-27 13:30:00</td>\n",
              "      <td>341.929993</td>\n",
              "      <td>342.149994</td>\n",
              "      <td>339.170013</td>\n",
              "      <td>340.149994</td>\n",
              "      <td>33187200</td>\n",
              "      <td>-1.480011</td>\n",
              "      <td>-0.433220</td>\n",
              "      <td>0.0</td>\n",
              "      <td>5.062999</td>\n",
              "      <td>...</td>\n",
              "      <td>7632426300</td>\n",
              "      <td>7632426300</td>\n",
              "      <td>7632426300</td>\n",
              "      <td>7632426300</td>\n",
              "      <td>7632426300</td>\n",
              "      <td>7632426300</td>\n",
              "      <td>7632426300</td>\n",
              "      <td>7632426300</td>\n",
              "      <td>7632426300</td>\n",
              "      <td>7632426300</td>\n",
              "    </tr>\n",
              "    <tr>\n",
              "      <th>3100</th>\n",
              "      <td>2021-04-28 13:30:00</td>\n",
              "      <td>339.809998</td>\n",
              "      <td>340.850006</td>\n",
              "      <td>338.329987</td>\n",
              "      <td>339.000000</td>\n",
              "      <td>33615700</td>\n",
              "      <td>-1.149994</td>\n",
              "      <td>-0.338084</td>\n",
              "      <td>0.0</td>\n",
              "      <td>4.805876</td>\n",
              "      <td>...</td>\n",
              "      <td>7598810600</td>\n",
              "      <td>7598810600</td>\n",
              "      <td>7598810600</td>\n",
              "      <td>7598810600</td>\n",
              "      <td>7598810600</td>\n",
              "      <td>7598810600</td>\n",
              "      <td>7598810600</td>\n",
              "      <td>7598810600</td>\n",
              "      <td>7598810600</td>\n",
              "      <td>7598810600</td>\n",
              "    </tr>\n",
              "    <tr>\n",
              "      <th>3101</th>\n",
              "      <td>2021-04-29 13:30:00</td>\n",
              "      <td>342.369995</td>\n",
              "      <td>342.799988</td>\n",
              "      <td>336.899994</td>\n",
              "      <td>340.220001</td>\n",
              "      <td>37708900</td>\n",
              "      <td>1.220001</td>\n",
              "      <td>0.359882</td>\n",
              "      <td>0.0</td>\n",
              "      <td>4.646981</td>\n",
              "      <td>...</td>\n",
              "      <td>7636519500</td>\n",
              "      <td>7636519500</td>\n",
              "      <td>7636519500</td>\n",
              "      <td>7636519500</td>\n",
              "      <td>7636519500</td>\n",
              "      <td>7636519500</td>\n",
              "      <td>7636519500</td>\n",
              "      <td>7636519500</td>\n",
              "      <td>7636519500</td>\n",
              "      <td>7636519500</td>\n",
              "    </tr>\n",
              "    <tr>\n",
              "      <th>3102</th>\n",
              "      <td>2021-04-30 13:30:00</td>\n",
              "      <td>337.700012</td>\n",
              "      <td>340.260010</td>\n",
              "      <td>337.049988</td>\n",
              "      <td>337.989990</td>\n",
              "      <td>38232800</td>\n",
              "      <td>-2.230011</td>\n",
              "      <td>-0.655461</td>\n",
              "      <td>0.0</td>\n",
              "      <td>4.291640</td>\n",
              "      <td>...</td>\n",
              "      <td>7598286700</td>\n",
              "      <td>7598286700</td>\n",
              "      <td>7598286700</td>\n",
              "      <td>7598286700</td>\n",
              "      <td>7598286700</td>\n",
              "      <td>7598286700</td>\n",
              "      <td>7598286700</td>\n",
              "      <td>7598286700</td>\n",
              "      <td>7598286700</td>\n",
              "      <td>7598286700</td>\n",
              "    </tr>\n",
              "    <tr>\n",
              "      <th>3103</th>\n",
              "      <td>2021-05-03 20:00:01</td>\n",
              "      <td>339.230011</td>\n",
              "      <td>340.000000</td>\n",
              "      <td>335.730011</td>\n",
              "      <td>336.190002</td>\n",
              "      <td>27957573</td>\n",
              "      <td>-1.799988</td>\n",
              "      <td>-0.532557</td>\n",
              "      <td>0.0</td>\n",
              "      <td>3.820743</td>\n",
              "      <td>...</td>\n",
              "      <td>7570329127</td>\n",
              "      <td>7570329127</td>\n",
              "      <td>7570329127</td>\n",
              "      <td>7570329127</td>\n",
              "      <td>7570329127</td>\n",
              "      <td>7570329127</td>\n",
              "      <td>7570329127</td>\n",
              "      <td>7570329127</td>\n",
              "      <td>7570329127</td>\n",
              "      <td>7570329127</td>\n",
              "    </tr>\n",
              "  </tbody>\n",
              "</table>\n",
              "<p>10 rows × 335 columns</p>\n",
              "</div>"
            ],
            "text/plain": [
              "              timestamps        open        high         low       close  \\\n",
              "3094 2021-04-20 13:30:00  338.200012  339.519989  334.380005  336.410004   \n",
              "3095 2021-04-21 13:30:00  335.089996  339.480011  333.970001  339.290009   \n",
              "3096 2021-04-22 13:30:00  338.890015  339.899994  334.010010  335.200012   \n",
              "3097 2021-04-23 13:30:00  335.850006  340.769989  335.850006  339.420013   \n",
              "3098 2021-04-26 13:30:00  339.670013  341.920013  338.899994  341.630005   \n",
              "3099 2021-04-27 13:30:00  341.929993  342.149994  339.170013  340.149994   \n",
              "3100 2021-04-28 13:30:00  339.809998  340.850006  338.329987  339.000000   \n",
              "3101 2021-04-29 13:30:00  342.369995  342.799988  336.899994  340.220001   \n",
              "3102 2021-04-30 13:30:00  337.700012  340.260010  337.049988  337.989990   \n",
              "3103 2021-05-03 20:00:01  339.230011  340.000000  335.730011  336.190002   \n",
              "\n",
              "        volume      diff    change  labels    MACD_1  ...      OBV_17  \\\n",
              "3094  38081800 -2.470001 -0.728872     2.0  5.787555  ...  7607757600   \n",
              "3095  36598100  2.880005  0.856100     2.0  5.696906  ...  7644355700   \n",
              "3096  45936100 -4.089996 -1.205457     1.0  5.234695  ...  7598419600   \n",
              "3097  36381900  4.220001  1.258950     2.0  5.149548  ...  7634801500   \n",
              "3098  30812000  2.209991  0.651108     0.0  5.200448  ...  7665613500   \n",
              "3099  33187200 -1.480011 -0.433220     0.0  5.062999  ...  7632426300   \n",
              "3100  33615700 -1.149994 -0.338084     0.0  4.805876  ...  7598810600   \n",
              "3101  37708900  1.220001  0.359882     0.0  4.646981  ...  7636519500   \n",
              "3102  38232800 -2.230011 -0.655461     0.0  4.291640  ...  7598286700   \n",
              "3103  27957573 -1.799988 -0.532557     0.0  3.820743  ...  7570329127   \n",
              "\n",
              "          OBV_18      OBV_19      OBV_20      OBV_21      OBV_22      OBV_23  \\\n",
              "3094  7607757600  7607757600  7607757600  7607757600  7607757600  7607757600   \n",
              "3095  7644355700  7644355700  7644355700  7644355700  7644355700  7644355700   \n",
              "3096  7598419600  7598419600  7598419600  7598419600  7598419600  7598419600   \n",
              "3097  7634801500  7634801500  7634801500  7634801500  7634801500  7634801500   \n",
              "3098  7665613500  7665613500  7665613500  7665613500  7665613500  7665613500   \n",
              "3099  7632426300  7632426300  7632426300  7632426300  7632426300  7632426300   \n",
              "3100  7598810600  7598810600  7598810600  7598810600  7598810600  7598810600   \n",
              "3101  7636519500  7636519500  7636519500  7636519500  7636519500  7636519500   \n",
              "3102  7598286700  7598286700  7598286700  7598286700  7598286700  7598286700   \n",
              "3103  7570329127  7570329127  7570329127  7570329127  7570329127  7570329127   \n",
              "\n",
              "          OBV_24      OBV_25      OBV_26  \n",
              "3094  7607757600  7607757600  7607757600  \n",
              "3095  7644355700  7644355700  7644355700  \n",
              "3096  7598419600  7598419600  7598419600  \n",
              "3097  7634801500  7634801500  7634801500  \n",
              "3098  7665613500  7665613500  7665613500  \n",
              "3099  7632426300  7632426300  7632426300  \n",
              "3100  7598810600  7598810600  7598810600  \n",
              "3101  7636519500  7636519500  7636519500  \n",
              "3102  7598286700  7598286700  7598286700  \n",
              "3103  7570329127  7570329127  7570329127  \n",
              "\n",
              "[10 rows x 335 columns]"
            ]
          },
          "metadata": {
            "tags": []
          },
          "execution_count": 38
        }
      ]
    },
    {
      "cell_type": "code",
      "metadata": {
        "id": "Xk_P4CkFsf_o"
      },
      "source": [
        "# from sklearn.model_selection import train_test_split\n",
        "# list_features = list(df.loc[:, 'open': 'KST_'+str(indicator_range)].columns) # Gets the names of all the columns from MACD to RSI\n",
        "# print('Total number of features', len(list_features))\n",
        "# print(\"Columns:\", list_features)\n",
        "\n",
        "# x_train_data, x_test_data, y_train_data, y_test_data = train_test_split(df.loc[:, 'MACD_6': 'KST_'+str(indicator_range)].values, df['open'].values, train_size=0.8, test_size=0.2, random_state=1, shuffle=True)"
      ],
      "execution_count": 39,
      "outputs": []
    },
    {
      "cell_type": "markdown",
      "metadata": {
        "id": "x0-9XExNx96X"
      },
      "source": [
        "# Feature Selection"
      ]
    },
    {
      "cell_type": "code",
      "metadata": {
        "id": "sdVtKiyByBt_",
        "outputId": "c6e9a57a-b55a-463f-a4db-ba3f732533cf",
        "colab": {
          "base_uri": "https://localhost:8080/"
        }
      },
      "source": [
        "from operator import itemgetter\n",
        "from sklearn.feature_selection import SelectKBest, f_classif, mutual_info_classif\n",
        "\n",
        "num_features = 225  # should be a perfect square\n",
        "selection_method = 'anova'\n",
        "topk = 320 if selection_method == 'all' else num_features\n",
        "\n",
        "if selection_method == 'anova' or selection_method == 'all':\n",
        "    # Select features according to the k highest scores using f_classif\n",
        "    select_k_best = SelectKBest(f_classif, k=topk)\n",
        "    if selection_method != 'all':\n",
        "        x_train = select_k_best.fit_transform(x_train, y_train)\n",
        "        x_cv = select_k_best.transform(x_cv)\n",
        "        x_test = select_k_best.transform(x_test)\n",
        "    else:\n",
        "        select_k_best.fit(x_train, y_train)\n",
        "    \n",
        "    selected_features_anova = itemgetter(*select_k_best.get_support(indices=True))(list_features)\n",
        "    print(selected_features_anova)\n",
        "    print(select_k_best.get_support(indices=True))\n",
        "    print(\"****************************************\")\n",
        "\n",
        "if selection_method == 'mutual_info' or selection_method == 'all':\n",
        "  # Select features according to the k highest scores using mutual_info_classif\n",
        "    select_k_best = SelectKBest(mutual_info_classif, k=topk)\n",
        "    if selection_method != 'all':\n",
        "        x_train = select_k_best.fit_transform(x_train, y_train)\n",
        "        x_cv = select_k_best.transform(x_cv)\n",
        "        x_test = select_k_best.transform(x_test)\n",
        "    else:\n",
        "        select_k_best.fit(x_train, y_train)\n",
        "\n",
        "    selected_features_mic = itemgetter(*select_k_best.get_support(indices=True))(list_features)\n",
        "    print(len(selected_features_mic), selected_features_mic)\n",
        "    print(select_k_best.get_support(indices=True))\n",
        "\n",
        "if selection_method == 'all':\n",
        "    # Chooses common features between anova and mutual_info if selection_method is set to 'all'\n",
        "    common = list(set(selected_features_anova).intersection(selected_features_mic))\n",
        "    print(\"common selected featues\", len(common), common)\n",
        "    if len(common) < num_features:\n",
        "        raise Exception('number of common features found {} < {} required features. Increase \"topk variable\"'.format(len(common), num_features))\n",
        "    feat_idx = []\n",
        "    for c in common:\n",
        "        feat_idx.append(list_features.index(c))\n",
        "    feat_idx = sorted(feat_idx[0:225])\n",
        "    print(feat_idx)  # x_train[:, feat_idx] will give you training data with desired features"
      ],
      "execution_count": 40,
      "outputs": [
        {
          "output_type": "stream",
          "text": [
            "('close', 'volume', 'diff', 'change', 'MACD_1', 'MACD_2', 'MACD_3', 'MACD_4', 'MACD_5', 'MACD_6', 'MACD_7', 'MACD_8', 'MACD_9', 'MACD_10', 'MACD_11', 'MACD_12', 'MACD_13', 'MACD_14', 'MACD_15', 'MACD_16', 'MACD_17', 'MACD_18', 'MACD_19', 'MACD_20', 'MACD_21', 'MACD_22', 'MACD_23', 'MACD_24', 'MACD_25', 'MACD_26', 'RSI_6', 'RSI_7', 'RSI_8', 'RSI_9', 'RSI_10', 'RSI_11', 'RSI_12', 'RSI_13', 'RSI_14', 'RSI_15', 'RSI_16', 'RSI_17', 'RSI_18', 'RSI_19', 'RSI_20', 'RSI_21', 'RSI_22', 'RSI_23', 'RSI_24', 'RSI_25', 'RSI_26', '%D_1', '%D_2', '%D_3', '%D_4', '%D_5', '%D_6', '%D_7', '%D_8', '%D_9', '%D_10', '%D_11', '%D_12', '%D_13', '%D_14', '%D_15', '%D_16', '%D_17', '%D_18', '%D_19', '%D_20', '%D_21', '%D_22', '%D_23', '%D_24', '%D_25', '%D_26', 'WR_1', 'WR_2', 'WR_3', 'WR_4', 'WR_5', 'WR_6', 'WR_7', 'WR_8', 'WR_9', 'WR_10', 'WR_11', 'WR_12', 'WR_13', 'WR_14', 'WR_15', 'WR_16', 'WR_17', 'WR_18', 'WR_19', 'WR_20', 'WR_21', 'WR_22', 'WR_23', 'WR_24', 'WR_25', 'WR_26', 'EMA_1', 'MFI_2', 'MFI_3', 'MFI_4', 'MFI_5', 'MFI_6', 'MFI_7', 'MFI_8', 'MFI_9', 'MFI_10', 'MFI_11', 'MFI_12', 'MFI_13', 'MFI_14', 'MFI_15', 'MFI_16', 'MFI_17', 'MFI_18', 'MFI_19', 'MFI_20', 'MFI_21', 'MFI_22', 'MFI_23', 'MFI_24', 'MFI_25', 'MFI_26', 'BB_1', 'DEMA_3', 'DEMA_4', 'DEMA_5', 'DEMA_6', 'DEMA_7', 'DEMA_8', 'DEMA_9', 'DEMA_10', 'DEMA_11', 'DEMA_12', 'DEMA_13', 'DEMA_14', 'DEMA_15', 'DEMA_16', 'DEMA_17', 'DEMA_18', 'DEMA_19', 'DEMA_20', 'DEMA_21', 'DEMA_22', 'DEMA_23', 'DEMA_24', 'DEMA_25', 'DEMA_26', 'CCI_1', 'CCI_2', 'CCI_3', 'CCI_4', 'CCI_5', 'CCI_6', 'CCI_7', 'CCI_8', 'CCI_9', 'CCI_10', 'CCI_11', 'CCI_12', 'CCI_13', 'CCI_14', 'CCI_15', 'CCI_16', 'CCI_17', 'CCI_18', 'CCI_19', 'CCI_20', 'CCI_21', 'CCI_22', 'CCI_23', 'CCI_24', 'CCI_25', 'CCI_26', 'EVM_1', 'EVM_2', 'EVM_3', 'EVM_4', 'EVM_5', 'EVM_6', 'FI_10', 'FI_11', 'FI_12', 'FI_13', 'FI_14', 'FI_15', 'FI_16', 'FI_17', 'FI_18', 'FI_19', 'FI_20', 'FI_21', 'FI_22', 'FI_23', 'FI_24', 'FI_25', 'FI_26', 'ROC_5', 'ROC_6', 'ROC_7', 'ROC_8', 'ROC_9', 'ROC_10', 'ROC_11', 'ROC_12', 'ROC_13', 'ROC_14', 'ROC_15', 'ROC_16', 'ROC_17', 'ROC_18', 'ROC_19', 'ROC_20', 'ROC_21', 'ROC_22', 'ROC_23', 'ROC_24', 'ROC_25', 'OBV_1')\n",
            "[  3   4   5   6   7   8   9  10  11  12  13  14  15  16  17  18  19  20\n",
            "  21  22  23  24  25  26  27  28  29  30  31  32  33  34  35  36  37  38\n",
            "  39  40  41  42  43  44  45  46  47  48  49  50  51  52  53  54  55  56\n",
            "  57  58  59  60  61  62  63  64  65  66  67  68  69  70  71  72  73  74\n",
            "  75  76  77  78  79  80  81  82  83  84  85  86  87  88  89  90  91  92\n",
            "  93  94  95  96  97  98  99 100 101 102 103 104 105 106 133 134 135 136\n",
            " 137 138 139 140 141 142 143 144 145 146 147 148 149 150 151 152 153 154\n",
            " 155 156 157 158 213 214 215 216 217 218 219 220 221 222 223 224 225 226\n",
            " 227 228 229 230 231 232 233 234 235 236 237 238 239 240 241 242 243 244\n",
            " 245 246 247 248 249 250 251 252 253 254 255 256 257 258 259 260 261 262\n",
            " 263 264 265 266 267 268 269 270 271 272 273 274 275 276 277 278 279 280\n",
            " 281 282 283 284 285 286 287 288 289 290 291 292 293 294 295 296 297 298\n",
            " 299 300 301 302 303 304 305 306 307]\n",
            "****************************************\n"
          ],
          "name": "stdout"
        },
        {
          "output_type": "stream",
          "text": [
            "/usr/local/lib/python3.7/dist-packages/sklearn/feature_selection/_univariate_selection.py:115: RuntimeWarning: divide by zero encountered in true_divide\n",
            "  f = msb / msw\n"
          ],
          "name": "stderr"
        }
      ]
    },
    {
      "cell_type": "markdown",
      "metadata": {
        "id": "XqsFevZXr_xL"
      },
      "source": [
        "# Method: *reshape_as_image*"
      ]
    },
    {
      "cell_type": "code",
      "metadata": {
        "id": "XRIiQTfyr-AT"
      },
      "source": [
        "def reshape_as_image(x, img_width, img_height):\n",
        "    x_temp = np.zeros((len(x), img_height, img_width))\n",
        "    for i in range(x.shape[0]):\n",
        "        # print(type(x), type(x_temp), x.shape)\n",
        "        x_temp[i] = np.reshape(x[i], (img_height, img_width))\n",
        "\n",
        "    return x_temp"
      ],
      "execution_count": 41,
      "outputs": []
    },
    {
      "cell_type": "markdown",
      "metadata": {
        "id": "y_DwKJIsyTB9"
      },
      "source": [
        "# Reshaping the Data of 225 technical indicators into images"
      ]
    },
    {
      "cell_type": "code",
      "metadata": {
        "colab": {
          "base_uri": "https://localhost:8080/"
        },
        "id": "rQav1rBggxPO",
        "outputId": "703992d6-bc70-4958-f175-7017955c4c3e"
      },
      "source": [
        "dim = int(np.sqrt(num_features)) # Computing dimension of image --> 15\n",
        "x_train = reshape_as_image(x_train, dim, dim) # Reshape x_train into 15x15 image\n",
        "x_cv = reshape_as_image(x_cv, dim, dim)\n",
        "x_test = reshape_as_image(x_test, dim, dim)\n",
        "# adding a 1-dim for channels (3)\n",
        "x_train = np.stack((x_train,) * 3, axis=-1)\n",
        "x_test = np.stack((x_test,) * 3, axis=-1)\n",
        "x_cv = np.stack((x_cv,) * 3, axis=-1)\n",
        "# # Reshape y_train to N x 1\n",
        "# y_train = y_train.reshape((len(y_train), 1))\n",
        "# # Reshape y_test to N x 1\n",
        "# y_test = y_test.reshape((len(y_test), 1))\n",
        "# # Reshape y_test to N x 1\n",
        "# y_cv = y_cv.reshape((len(y_cv), 1))\n",
        "print(\"final shape of x, y train/test {} {} {} {}\".format(x_train.shape, y_train.shape, x_test.shape, y_test.shape))\n",
        "print(\"x_cv shape:\", x_cv.shape)"
      ],
      "execution_count": 42,
      "outputs": [
        {
          "output_type": "stream",
          "text": [
            "final shape of x, y train/test (1986, 15, 15, 3) (1986,) (621, 15, 15, 3) (621,)\n",
            "x_cv shape: (497, 15, 15, 3)\n"
          ],
          "name": "stdout"
        }
      ]
    },
    {
      "cell_type": "markdown",
      "metadata": {
        "id": "Aj-h4SzssewQ"
      },
      "source": [
        "# Displays 9 random images within *x_train*"
      ]
    },
    {
      "cell_type": "code",
      "metadata": {
        "id": "pyKSPtebsn8-",
        "outputId": "47a0ab3b-bcc7-43d6-9c71-eb07fa7ec157",
        "colab": {
          "base_uri": "https://localhost:8080/",
          "height": 860
        }
      },
      "source": [
        "fig = plt.figure(figsize=(15, 15))\n",
        "columns = rows = 3\n",
        "for i in range(1, columns*rows +1):\n",
        "    index = np.random.randint(len(x_train))\n",
        "    img = x_train[index]\n",
        "    fig.add_subplot(rows, columns, i)\n",
        "    plt.axis(\"off\")\n",
        "    plt.title('image_'+str(index)+'_class_'+str(np.argmax(y_train[index])), fontsize=10)\n",
        "    plt.subplots_adjust(wspace=0.2, hspace=0.2)\n",
        "    plt.imshow(img)\n",
        "plt.show()"
      ],
      "execution_count": 43,
      "outputs": [
        {
          "output_type": "display_data",
          "data": {
            "image/png": "[encoded data removed]",
            "text/plain": [
              "<Figure size 1080x1080 with 9 Axes>"
            ]
          },
          "metadata": {
            "tags": []
          }
        }
      ]
    },
    {
      "cell_type": "markdown",
      "metadata": {
        "id": "SbrM3--QyeTO"
      },
      "source": [
        "# Current Class Imbalance\n",
        "\n",
        "Sell = 0, Buy = 1, Hold = 2"
      ]
    },
    {
      "cell_type": "code",
      "metadata": {
        "id": "-q8D9hdgy1Jb",
        "outputId": "e0d1abd0-d79d-4af7-da7c-387451adacba",
        "colab": {
          "base_uri": "https://localhost:8080/"
        }
      },
      "source": [
        "class_labels, class_count = np.unique(y_train, return_counts=True)\n",
        "print(\"percentage of class 0 = {:.3f}%, class 1 = {:.3f}%, class 2 = {:.3f}%\".format(class_count[0]/len(y_train)*100, class_count[1]/len(y_train)*100, class_count[2]/len(y_train)*100))"
      ],
      "execution_count": 44,
      "outputs": [
        {
          "output_type": "stream",
          "text": [
            "percentage of class 0 = 6.143%, class 1 = 5.841%, class 2 = 88.016%\n"
          ],
          "name": "stdout"
        }
      ]
    },
    {
      "cell_type": "markdown",
      "metadata": {
        "id": "uBE4bOeuy_jl"
      },
      "source": [
        "# Examination of *x_train* shape"
      ]
    },
    {
      "cell_type": "code",
      "metadata": {
        "id": "L-hre_4SzGZq",
        "outputId": "e0a99971-5b16-4c90-badc-4d6ad5a816ad",
        "colab": {
          "base_uri": "https://localhost:8080/"
        }
      },
      "source": [
        "print(x_train[0].shape[0])\n",
        "print(x_train[0].shape[1])\n",
        "print(x_train[0].shape[2])\n",
        "print(x_train.shape)"
      ],
      "execution_count": 45,
      "outputs": [
        {
          "output_type": "stream",
          "text": [
            "15\n",
            "15\n",
            "3\n",
            "(1986, 15, 15, 3)\n"
          ],
          "name": "stdout"
        }
      ]
    },
    {
      "cell_type": "markdown",
      "metadata": {
        "id": "WKO6Wl1jIRJe"
      },
      "source": [
        "# Creating Testing Data"
      ]
    },
    {
      "cell_type": "code",
      "metadata": {
        "id": "zIn9tS1NIVVm"
      },
      "source": [
        "#testing_data = df[df['timestamps']>='2020-01-01'].copy()\n",
        "#visualize_prices(testing_data, 'timestamps', 'open')\n",
        "\n",
        "#testing_data = testing_data.drop(['timestamps'], axis=1)\n",
        "#testing_data = testing_data.iloc[1:]    # Drops first row in dataframe\n",
        "#testing_data.head() "
      ],
      "execution_count": 46,
      "outputs": []
    },
    {
      "cell_type": "markdown",
      "metadata": {
        "id": "TBYF_cfenkuZ"
      },
      "source": [
        "# Using z-score standardization"
      ]
    },
    {
      "cell_type": "code",
      "metadata": {
        "id": "KKsISLrnggMa"
      },
      "source": [
        "# from scipy import stats\n",
        "\n",
        "# training_data = stats.zscore(training_data, axis=0, ddof=0, nan_policy='omit')\n",
        "\n",
        "# n_bins = 50\n",
        "\n",
        "# fig, axs = plt.subplots(2, 4, sharey=True, tight_layout=True)\n",
        "# axs[0][0].hist(training_data[:, 0], bins=n_bins)\n",
        "# axs[0][1].hist(training_data[:, 1], bins=n_bins)\n",
        "# axs[0][2].hist(training_data[:, 2], bins=n_bins)\n",
        "# axs[0][3].hist(training_data[:, 3], bins=n_bins)\n",
        "# axs[1][0].hist(training_data[:, 4], bins=n_bins)\n",
        "# axs[1][1].hist(training_data[:, 5], bins=n_bins)\n",
        "# axs[1][2].hist(training_data[:, 6], bins=n_bins)"
      ],
      "execution_count": 47,
      "outputs": []
    },
    {
      "cell_type": "markdown",
      "metadata": {
        "id": "pFc60CcBkHOo"
      },
      "source": [
        "# Create data with time_step = 10"
      ]
    },
    {
      "cell_type": "code",
      "metadata": {
        "id": "T4FaRRZD35An",
        "outputId": "21e0a6fc-cdb8-4be4-f74b-4a0bc5d52cd2",
        "colab": {
          "base_uri": "https://localhost:8080/"
        }
      },
      "source": [
        "time_step = 10\n",
        "\n",
        "temp_x_train = []\n",
        "temp_y_train = []\n",
        "\n",
        "for i in range(time_step, x_train.shape[0]):\n",
        "    temp_x_train.append(x_train[i-time_step:i])\n",
        "    temp_y_train.append(y_train[i])\n",
        "    if (i == 10):\n",
        "        print(y_train[i])"
      ],
      "execution_count": 48,
      "outputs": [
        {
          "output_type": "stream",
          "text": [
            "2.0\n"
          ],
          "name": "stdout"
        }
      ]
    },
    {
      "cell_type": "markdown",
      "metadata": {
        "id": "Z8JiLywg4bGQ"
      },
      "source": [
        "# Examination of *x_train* and *y_train* shape"
      ]
    },
    {
      "cell_type": "code",
      "metadata": {
        "id": "u_4R_Qsr4atQ",
        "outputId": "8cfe7cfc-a52a-49c6-b0f5-a9b08bc374eb",
        "colab": {
          "base_uri": "https://localhost:8080/"
        }
      },
      "source": [
        "x_train, y_train = np.array(temp_x_train), np.array(temp_y_train)\n",
        "x_train.shape, y_train.shape"
      ],
      "execution_count": 49,
      "outputs": [
        {
          "output_type": "execute_result",
          "data": {
            "text/plain": [
              "((1976, 10, 15, 15, 3), (1976,))"
            ]
          },
          "metadata": {
            "tags": []
          },
          "execution_count": 49
        }
      ]
    },
    {
      "cell_type": "code",
      "metadata": {
        "id": "D8BSEqy35Rk6",
        "outputId": "b6df3b03-3267-460e-89b3-efd1407c7bba",
        "colab": {
          "base_uri": "https://localhost:8080/"
        }
      },
      "source": [
        "y_train"
      ],
      "execution_count": 50,
      "outputs": [
        {
          "output_type": "execute_result",
          "data": {
            "text/plain": [
              "array([2., 2., 2., ..., 2., 2., 2.])"
            ]
          },
          "metadata": {
            "tags": []
          },
          "execution_count": 50
        }
      ]
    },
    {
      "cell_type": "code",
      "metadata": {
        "id": "zvl5io7XkQyo"
      },
      "source": [
        "# print(y_train_data)\n",
        "\n",
        "# time_step = 10\n",
        "\n",
        "# x_train = []\n",
        "# y_train= []\n",
        "\n",
        "# for i in range(time_step,x_train_data.shape[0]):\n",
        "#     x_train.append(x_train_data[i-time_step:i])\n",
        "  \n",
        "\n",
        "# for i in range(time_step,y_train_data.shape[0]):\n",
        "#     y_train.append(y_train_data[i])\n",
        "\n",
        "# print(len(y_train))"
      ],
      "execution_count": 51,
      "outputs": []
    },
    {
      "cell_type": "code",
      "metadata": {
        "id": "m49tUVH6oY6f",
        "colab": {
          "base_uri": "https://localhost:8080/"
        },
        "outputId": "c0e7ce66-46e8-42e5-f083-2550dd3fbda3"
      },
      "source": [
        "print(x_train.shape[1])\n",
        "print(x_train.shape[2])\n",
        "print(x_train.shape[3])\n",
        "print(x_train.shape[4])"
      ],
      "execution_count": 52,
      "outputs": [
        {
          "output_type": "stream",
          "text": [
            "10\n",
            "15\n",
            "15\n",
            "3\n"
          ],
          "name": "stdout"
        }
      ]
    },
    {
      "cell_type": "markdown",
      "metadata": {
        "id": "r5Qx2TiW3FXY"
      },
      "source": [
        "# Import needed Keras components"
      ]
    },
    {
      "cell_type": "code",
      "metadata": {
        "id": "J6bM-lTc2VPi"
      },
      "source": [
        "from tensorflow.keras import Sequential\n",
        "from tensorflow.keras.layers import Dense, LSTM, Dropout, Conv2D, MaxPool2D, Activation, Flatten, InputLayer, TimeDistributed"
      ],
      "execution_count": 53,
      "outputs": []
    },
    {
      "cell_type": "markdown",
      "metadata": {
        "id": "HzI-HDW13MZF"
      },
      "source": [
        "# Build CNN-LSTM model"
      ]
    },
    {
      "cell_type": "code",
      "metadata": {
        "id": "kIz0Cf3B3Q72"
      },
      "source": [
        "filters = 32\n",
        "\n",
        "# model = Sequential([\n",
        "#     Conv2D(filters=filters, \n",
        "#            kernel_size=3, \n",
        "#            padding='same', \n",
        "#            activation='tanh', \n",
        "#            input_shape=(x_train.shape[1], x_train.shape[2],x_train.shape[3])),\n",
        "#     MaxPool2D(pool_size=2, padding='same'),\n",
        "\n",
        "    \n",
        "#     Activation('relu'),\n",
        "#     LSTM(units=64, \n",
        "#          activation='relu', \n",
        "#          #return_sequences=True, \n",
        "#          input_shape=(x_train.shape[1],x_train.shape[2],x_train.shape[3], filters)),\n",
        "#     Flatten(),\n",
        "#     #Dropout(0.2),\n",
        "#     # LSTM(\n",
        "#     #     units=80, \n",
        "#     #     activation='relu'),\n",
        "#     Dense(units=3) # Should I use a kernel initializer?\n",
        "# ])"
      ],
      "execution_count": 54,
      "outputs": []
    },
    {
      "cell_type": "code",
      "metadata": {
        "id": "T2Isvr07bWum",
        "colab": {
          "base_uri": "https://localhost:8080/"
        },
        "outputId": "bb3a815c-1a66-4a81-d0fb-894b4e668c43"
      },
      "source": [
        "model = Sequential()\n",
        "\n",
        "input_layer = InputLayer(input_shape=(10, x_train.shape[2], x_train.shape[3], x_train.shape[4]))\n",
        "model.add(input_layer)\n",
        "print(model.output_shape)\n",
        "\n",
        "conv_2d_layer = Conv2D(filters=filters, kernel_size=3, strides=2, padding='same', activation='tanh')\n",
        "model.add(TimeDistributed(conv_2d_layer))\n",
        "print(model.output_shape)\n",
        "\n",
        "max_2D_pooling = MaxPool2D(pool_size=2, padding='same')\n",
        "model.add(TimeDistributed(max_2D_pooling))\n",
        "print(model.output_shape)\n",
        "\n",
        "relu_layer = Activation('relu')\n",
        "model.add(relu_layer)\n",
        "print(model.output_shape)\n",
        "\n",
        "model.add(TimeDistributed(Flatten()))\n",
        "print(model.output_shape)\n",
        "\n",
        "model.add(LSTM(units=64, activation='relu'))\n",
        "print(model.output_shape)\n",
        "\n",
        "model.add(Dense(units=3, activation='softmax'))\n",
        "print(model.output_shape)"
      ],
      "execution_count": 55,
      "outputs": [
        {
          "output_type": "stream",
          "text": [
            "(None, 10, 15, 15, 3)\n",
            "(None, 10, 8, 8, 32)\n",
            "(None, 10, 4, 4, 32)\n",
            "(None, 10, 4, 4, 32)\n",
            "(None, 10, 512)\n",
            "WARNING:tensorflow:Layer lstm will not use cuDNN kernel since it doesn't meet the cuDNN kernel criteria. It will use generic GPU kernel as fallback when running on GPU\n",
            "(None, 64)\n",
            "(None, 3)\n"
          ],
          "name": "stdout"
        }
      ]
    },
    {
      "cell_type": "markdown",
      "metadata": {
        "id": "g17NdDV3692C"
      },
      "source": [
        "# Show summary of model"
      ]
    },
    {
      "cell_type": "code",
      "metadata": {
        "id": "b1wObeoq60EP",
        "colab": {
          "base_uri": "https://localhost:8080/"
        },
        "outputId": "cd3d644d-0031-4f6b-86a2-c708cd9e8b5f"
      },
      "source": [
        "model.summary()"
      ],
      "execution_count": 56,
      "outputs": [
        {
          "output_type": "stream",
          "text": [
            "Model: \"sequential\"\n",
            "_________________________________________________________________\n",
            "Layer (type)                 Output Shape              Param #   \n",
            "=================================================================\n",
            "time_distributed (TimeDistri (None, 10, 8, 8, 32)      896       \n",
            "_________________________________________________________________\n",
            "time_distributed_1 (TimeDist (None, 10, 4, 4, 32)      0         \n",
            "_________________________________________________________________\n",
            "activation (Activation)      (None, 10, 4, 4, 32)      0         \n",
            "_________________________________________________________________\n",
            "time_distributed_2 (TimeDist (None, 10, 512)           0         \n",
            "_________________________________________________________________\n",
            "lstm (LSTM)                  (None, 64)                147712    \n",
            "_________________________________________________________________\n",
            "dense (Dense)                (None, 3)                 195       \n",
            "=================================================================\n",
            "Total params: 148,803\n",
            "Trainable params: 148,803\n",
            "Non-trainable params: 0\n",
            "_________________________________________________________________\n"
          ],
          "name": "stdout"
        }
      ]
    },
    {
      "cell_type": "markdown",
      "metadata": {
        "id": "ZE5YawtIQdpw"
      },
      "source": [
        "# Compiling model"
      ]
    },
    {
      "cell_type": "code",
      "metadata": {
        "id": "xnGsH2njQGHk"
      },
      "source": [
        "from tensorflow.keras import optimizers\n",
        "\n",
        "learning_rate = 0.001\n",
        "\n",
        "optimizer = optimizers.Adam(learning_rate=learning_rate, beta_1=0.9, beta_2=0.999, amsgrad=False)\n",
        "\n",
        "model.compile(optimizer=optimizer, loss='mean_absolute_error')"
      ],
      "execution_count": 57,
      "outputs": []
    },
    {
      "cell_type": "markdown",
      "metadata": {
        "id": "Fq1d4zmVQhDn"
      },
      "source": [
        "# Fitting model"
      ]
    },
    {
      "cell_type": "code",
      "metadata": {
        "id": "3zDRK013QjqD",
        "colab": {
          "base_uri": "https://localhost:8080/"
        },
        "outputId": "e0c22afc-b78e-4e5d-b9da-2d16f8c0fac8"
      },
      "source": [
        "model.fit(x_train, y_train, epochs=100, batch_size=64)"
      ],
      "execution_count": 58,
      "outputs": [
        {
          "output_type": "stream",
          "text": [
            "Epoch 1/100\n",
            "31/31 [==============================] - 4s 21ms/step - loss: 1.5175\n",
            "Epoch 2/100\n",
            "31/31 [==============================] - 1s 21ms/step - loss: 1.5292\n",
            "Epoch 3/100\n",
            "31/31 [==============================] - 1s 21ms/step - loss: 1.5198\n",
            "Epoch 4/100\n",
            "31/31 [==============================] - 1s 21ms/step - loss: 1.5455\n",
            "Epoch 5/100\n",
            "31/31 [==============================] - 1s 22ms/step - loss: 1.5303\n",
            "Epoch 6/100\n",
            "31/31 [==============================] - 1s 20ms/step - loss: 1.5229\n",
            "Epoch 7/100\n",
            "31/31 [==============================] - 1s 22ms/step - loss: 1.5335\n",
            "Epoch 8/100\n",
            "31/31 [==============================] - 1s 21ms/step - loss: 1.5261\n",
            "Epoch 9/100\n",
            "31/31 [==============================] - 1s 21ms/step - loss: 1.5174\n",
            "Epoch 10/100\n",
            "31/31 [==============================] - 1s 20ms/step - loss: 1.5206\n",
            "Epoch 11/100\n",
            "31/31 [==============================] - 1s 21ms/step - loss: 1.5429\n",
            "Epoch 12/100\n",
            "31/31 [==============================] - 1s 21ms/step - loss: 1.5290\n",
            "Epoch 13/100\n",
            "31/31 [==============================] - 1s 21ms/step - loss: 1.5330\n",
            "Epoch 14/100\n",
            "31/31 [==============================] - 1s 20ms/step - loss: 1.5260\n",
            "Epoch 15/100\n",
            "31/31 [==============================] - 1s 22ms/step - loss: 1.5111\n",
            "Epoch 16/100\n",
            "31/31 [==============================] - 1s 21ms/step - loss: 1.5400\n",
            "Epoch 17/100\n",
            "31/31 [==============================] - 1s 21ms/step - loss: 1.5221\n",
            "Epoch 18/100\n",
            "31/31 [==============================] - 1s 20ms/step - loss: 1.5239\n",
            "Epoch 19/100\n",
            "31/31 [==============================] - 1s 20ms/step - loss: 1.5438\n",
            "Epoch 20/100\n",
            "31/31 [==============================] - 1s 20ms/step - loss: 1.5019\n",
            "Epoch 21/100\n",
            "31/31 [==============================] - 1s 21ms/step - loss: 1.5363\n",
            "Epoch 22/100\n",
            "31/31 [==============================] - 1s 21ms/step - loss: 1.5211\n",
            "Epoch 23/100\n",
            "31/31 [==============================] - 1s 21ms/step - loss: 1.5372\n",
            "Epoch 24/100\n",
            "31/31 [==============================] - 1s 20ms/step - loss: 1.5253\n",
            "Epoch 25/100\n",
            "31/31 [==============================] - 1s 20ms/step - loss: 1.5391\n",
            "Epoch 26/100\n",
            "31/31 [==============================] - 1s 21ms/step - loss: 1.5202\n",
            "Epoch 27/100\n",
            "31/31 [==============================] - 1s 21ms/step - loss: 1.5342\n",
            "Epoch 28/100\n",
            "31/31 [==============================] - 1s 20ms/step - loss: 1.5364\n",
            "Epoch 29/100\n",
            "31/31 [==============================] - 1s 21ms/step - loss: 1.5234\n",
            "Epoch 30/100\n",
            "31/31 [==============================] - 1s 20ms/step - loss: 1.5065\n",
            "Epoch 31/100\n",
            "31/31 [==============================] - 1s 21ms/step - loss: 1.5317\n",
            "Epoch 32/100\n",
            "31/31 [==============================] - 1s 21ms/step - loss: 1.5264\n",
            "Epoch 33/100\n",
            "31/31 [==============================] - 1s 21ms/step - loss: 1.5212\n",
            "Epoch 34/100\n",
            "31/31 [==============================] - 1s 20ms/step - loss: 1.5162\n",
            "Epoch 35/100\n",
            "31/31 [==============================] - 1s 19ms/step - loss: 1.5256\n",
            "Epoch 36/100\n",
            "31/31 [==============================] - 1s 22ms/step - loss: 1.5322\n",
            "Epoch 37/100\n",
            "31/31 [==============================] - 1s 21ms/step - loss: 1.5171\n",
            "Epoch 38/100\n",
            "31/31 [==============================] - 1s 20ms/step - loss: 1.5293\n",
            "Epoch 39/100\n",
            "31/31 [==============================] - 1s 22ms/step - loss: 1.5190\n",
            "Epoch 40/100\n",
            "31/31 [==============================] - 1s 19ms/step - loss: 1.5179\n",
            "Epoch 41/100\n",
            "31/31 [==============================] - 1s 19ms/step - loss: 1.5268\n",
            "Epoch 42/100\n",
            "31/31 [==============================] - 1s 19ms/step - loss: 1.5357\n",
            "Epoch 43/100\n",
            "31/31 [==============================] - 1s 19ms/step - loss: 1.5298\n",
            "Epoch 44/100\n",
            "31/31 [==============================] - 1s 20ms/step - loss: 1.5341\n",
            "Epoch 45/100\n",
            "31/31 [==============================] - 1s 20ms/step - loss: 1.5281\n",
            "Epoch 46/100\n",
            "31/31 [==============================] - 1s 19ms/step - loss: 1.5152\n",
            "Epoch 47/100\n",
            "31/31 [==============================] - 1s 19ms/step - loss: 1.5268\n",
            "Epoch 48/100\n",
            "31/31 [==============================] - 1s 19ms/step - loss: 1.5364\n",
            "Epoch 49/100\n",
            "31/31 [==============================] - 1s 20ms/step - loss: 1.5277\n",
            "Epoch 50/100\n",
            "31/31 [==============================] - 1s 19ms/step - loss: 1.5316\n",
            "Epoch 51/100\n",
            "31/31 [==============================] - 1s 20ms/step - loss: 1.5322\n",
            "Epoch 52/100\n",
            "31/31 [==============================] - 1s 19ms/step - loss: 1.5308\n",
            "Epoch 53/100\n",
            "31/31 [==============================] - 1s 19ms/step - loss: 1.5322\n",
            "Epoch 54/100\n",
            "31/31 [==============================] - 1s 19ms/step - loss: 1.5316\n",
            "Epoch 55/100\n",
            "31/31 [==============================] - 1s 19ms/step - loss: 1.5168\n",
            "Epoch 56/100\n",
            "31/31 [==============================] - 1s 19ms/step - loss: 1.5146\n",
            "Epoch 57/100\n",
            "31/31 [==============================] - 1s 21ms/step - loss: 1.5259\n",
            "Epoch 58/100\n",
            "31/31 [==============================] - 1s 19ms/step - loss: 1.5239\n",
            "Epoch 59/100\n",
            "31/31 [==============================] - 1s 19ms/step - loss: 1.5378\n",
            "Epoch 60/100\n",
            "31/31 [==============================] - 1s 20ms/step - loss: 1.5397\n",
            "Epoch 61/100\n",
            "31/31 [==============================] - 1s 18ms/step - loss: 1.5370\n",
            "Epoch 62/100\n",
            "31/31 [==============================] - 1s 20ms/step - loss: 1.5306\n",
            "Epoch 63/100\n",
            "31/31 [==============================] - 1s 20ms/step - loss: 1.5266\n",
            "Epoch 64/100\n",
            "31/31 [==============================] - 1s 19ms/step - loss: 1.5338\n",
            "Epoch 65/100\n",
            "31/31 [==============================] - 1s 20ms/step - loss: 1.5347\n",
            "Epoch 66/100\n",
            "31/31 [==============================] - 1s 22ms/step - loss: 1.5297\n",
            "Epoch 67/100\n",
            "31/31 [==============================] - 1s 20ms/step - loss: 1.5296\n",
            "Epoch 68/100\n",
            "31/31 [==============================] - 1s 21ms/step - loss: 1.5386\n",
            "Epoch 69/100\n",
            "31/31 [==============================] - 1s 20ms/step - loss: 1.5208\n",
            "Epoch 70/100\n",
            "31/31 [==============================] - 1s 20ms/step - loss: 1.5347\n",
            "Epoch 71/100\n",
            "31/31 [==============================] - 1s 21ms/step - loss: 1.5310\n",
            "Epoch 72/100\n",
            "31/31 [==============================] - 1s 19ms/step - loss: 1.5182\n",
            "Epoch 73/100\n",
            "31/31 [==============================] - 1s 20ms/step - loss: 1.5270\n",
            "Epoch 74/100\n",
            "31/31 [==============================] - 1s 21ms/step - loss: 1.5376\n",
            "Epoch 75/100\n",
            "31/31 [==============================] - 1s 20ms/step - loss: 1.5250\n",
            "Epoch 76/100\n",
            "31/31 [==============================] - 1s 19ms/step - loss: 1.5166\n",
            "Epoch 77/100\n",
            "31/31 [==============================] - 1s 19ms/step - loss: 1.5217\n",
            "Epoch 78/100\n",
            "31/31 [==============================] - 1s 20ms/step - loss: 1.5551\n",
            "Epoch 79/100\n",
            "31/31 [==============================] - 1s 21ms/step - loss: 1.5248\n",
            "Epoch 80/100\n",
            "31/31 [==============================] - 1s 21ms/step - loss: 1.5340\n",
            "Epoch 81/100\n",
            "31/31 [==============================] - 1s 20ms/step - loss: 1.5153\n",
            "Epoch 82/100\n",
            "31/31 [==============================] - 1s 20ms/step - loss: 1.5416\n",
            "Epoch 83/100\n",
            "31/31 [==============================] - 1s 20ms/step - loss: 1.5209\n",
            "Epoch 84/100\n",
            "31/31 [==============================] - 1s 21ms/step - loss: 1.5239\n",
            "Epoch 85/100\n",
            "31/31 [==============================] - 1s 20ms/step - loss: 1.5305\n",
            "Epoch 86/100\n",
            "31/31 [==============================] - 1s 20ms/step - loss: 1.5310\n",
            "Epoch 87/100\n",
            "31/31 [==============================] - 1s 19ms/step - loss: 1.5207\n",
            "Epoch 88/100\n",
            "31/31 [==============================] - 1s 20ms/step - loss: 1.5233\n",
            "Epoch 89/100\n",
            "31/31 [==============================] - 1s 22ms/step - loss: 1.5437\n",
            "Epoch 90/100\n",
            "31/31 [==============================] - 1s 20ms/step - loss: 1.5253\n",
            "Epoch 91/100\n",
            "31/31 [==============================] - 1s 21ms/step - loss: 1.5174\n",
            "Epoch 92/100\n",
            "31/31 [==============================] - 1s 21ms/step - loss: 1.5307\n",
            "Epoch 93/100\n",
            "31/31 [==============================] - 1s 20ms/step - loss: 1.5214\n",
            "Epoch 94/100\n",
            "31/31 [==============================] - 1s 20ms/step - loss: 1.5303\n",
            "Epoch 95/100\n",
            "31/31 [==============================] - 1s 22ms/step - loss: 1.5236\n",
            "Epoch 96/100\n",
            "31/31 [==============================] - 1s 20ms/step - loss: 1.5221\n",
            "Epoch 97/100\n",
            "31/31 [==============================] - 1s 21ms/step - loss: 1.5303\n",
            "Epoch 98/100\n",
            "31/31 [==============================] - 1s 20ms/step - loss: 1.5285\n",
            "Epoch 99/100\n",
            "31/31 [==============================] - 1s 20ms/step - loss: 1.5230\n",
            "Epoch 100/100\n",
            "31/31 [==============================] - 1s 20ms/step - loss: 1.5294\n"
          ],
          "name": "stdout"
        },
        {
          "output_type": "execute_result",
          "data": {
            "text/plain": [
              "<tensorflow.python.keras.callbacks.History at 0x7f43f80d0190>"
            ]
          },
          "metadata": {
            "tags": []
          },
          "execution_count": 58
        }
      ]
    },
    {
      "cell_type": "markdown",
      "metadata": {
        "id": "B5ki0A5gJExq"
      },
      "source": [
        "# Adding "
      ]
    },
    {
      "cell_type": "code",
      "metadata": {
        "id": "maZJC85IJyCg",
        "outputId": "bc2e8712-9e40-4c21-b2ad-df4ac984b9f0",
        "colab": {
          "base_uri": "https://localhost:8080/",
          "height": 198
        }
      },
      "source": [
        "past_n_data_points = training_copy.tail(time_step)\n",
        "past_df = past_n_data_points.append(testing_data, ignore_index=True)\n",
        "past_df.head()"
      ],
      "execution_count": 59,
      "outputs": [
        {
          "output_type": "error",
          "ename": "NameError",
          "evalue": "ignored",
          "traceback": [
            "\u001b[0;31m---------------------------------------------------------------------------\u001b[0m",
            "\u001b[0;31mNameError\u001b[0m                                 Traceback (most recent call last)",
            "\u001b[0;32m<ipython-input-59-71f827febcbd>\u001b[0m in \u001b[0;36m<module>\u001b[0;34m()\u001b[0m\n\u001b[1;32m      1\u001b[0m \u001b[0mpast_n_data_points\u001b[0m \u001b[0;34m=\u001b[0m \u001b[0mtraining_copy\u001b[0m\u001b[0;34m.\u001b[0m\u001b[0mtail\u001b[0m\u001b[0;34m(\u001b[0m\u001b[0mtime_step\u001b[0m\u001b[0;34m)\u001b[0m\u001b[0;34m\u001b[0m\u001b[0;34m\u001b[0m\u001b[0m\n\u001b[0;32m----> 2\u001b[0;31m \u001b[0mpast_df\u001b[0m \u001b[0;34m=\u001b[0m \u001b[0mpast_n_data_points\u001b[0m\u001b[0;34m.\u001b[0m\u001b[0mappend\u001b[0m\u001b[0;34m(\u001b[0m\u001b[0mtesting_data\u001b[0m\u001b[0;34m,\u001b[0m \u001b[0mignore_index\u001b[0m\u001b[0;34m=\u001b[0m\u001b[0;32mTrue\u001b[0m\u001b[0;34m)\u001b[0m\u001b[0;34m\u001b[0m\u001b[0;34m\u001b[0m\u001b[0m\n\u001b[0m\u001b[1;32m      3\u001b[0m \u001b[0mpast_df\u001b[0m\u001b[0;34m.\u001b[0m\u001b[0mhead\u001b[0m\u001b[0;34m(\u001b[0m\u001b[0;34m)\u001b[0m\u001b[0;34m\u001b[0m\u001b[0;34m\u001b[0m\u001b[0m\n",
            "\u001b[0;31mNameError\u001b[0m: name 'testing_data' is not defined"
          ]
        }
      ]
    },
    {
      "cell_type": "code",
      "metadata": {
        "id": "p_w-i-vzKLZ7"
      },
      "source": [
        "inputs = scaler.transform(past_df)\n",
        "inputs.shape"
      ],
      "execution_count": null,
      "outputs": []
    },
    {
      "cell_type": "code",
      "metadata": {
        "id": "7O38xDZKKUK7"
      },
      "source": [
        "x_test = []\n",
        "y_test = []\n",
        "for i in range(time_step, inputs.shape[0]):\n",
        "    x_test.append(inputs[i-time_step:i])\n",
        "    y_test.append(inputs[i, 0])"
      ],
      "execution_count": null,
      "outputs": []
    },
    {
      "cell_type": "code",
      "metadata": {
        "id": "XkZ71iZmKd1q"
      },
      "source": [
        "x_test, y_test = np.array(x_test), np.array(y_test)\n",
        "x_test.shape, y_test.shape"
      ],
      "execution_count": null,
      "outputs": []
    },
    {
      "cell_type": "code",
      "metadata": {
        "id": "SRt2E9yVKj8I"
      },
      "source": [
        "y_pred = model.predict(x_test)\n",
        "y_pred.shape"
      ],
      "execution_count": null,
      "outputs": []
    },
    {
      "cell_type": "code",
      "metadata": {
        "id": "meO-2PhbKmyP"
      },
      "source": [
        "y_pred = y_pred/scaler.scale_[0]\n",
        "y_test = y_test/scaler.scale_[0]\n",
        "y_pred.shape, y_test.shape"
      ],
      "execution_count": null,
      "outputs": []
    },
    {
      "cell_type": "code",
      "metadata": {
        "id": "OCIjJffNKtdD"
      },
      "source": [
        "fig = plt.figure()\n",
        "plt.plot(y_test, color='red', label='Real ' + ticker + ' Stock Price')\n",
        "plt.plot(y_pred, color='lightgreen', label='Predicted ' + ticker + ' Stock Price')\n",
        "plt.title(ticker + \" Stock Price Prediction\")\n",
        "plt.xlabel('Days')\n",
        "plt.ylabel(ticker + ' Stock Price')\n",
        "plt.legend()\n",
        "plt.show()"
      ],
      "execution_count": null,
      "outputs": []
    },
    {
      "cell_type": "code",
      "metadata": {
        "id": "fFd1VSggsr3P"
      },
      "source": [
        "accuracy = 0\n",
        "\n",
        "for i in range(1, y_pred.shape[0]):\n",
        "\n",
        "    # Determining if the actual price increased\n",
        "    actual_did_increase = y_test[i] > y_test[i-1]\n",
        "    # Determining if the predicted price increased\n",
        "    prediction_did_increase = y_pred[i] > y_pred[i-1]\n",
        "    # If both the actual and predicted prices move in the same direction, \n",
        "    # then add 1 to the accuracy\n",
        "    if (actual_did_increase == prediction_did_increase):\n",
        "        accuracy = accuracy + 1\n",
        "\n",
        "\n",
        "# Subtract 1 from y_pred.shape because we are staring at 1 instead of 0\n",
        "print(\"Model accuracy: {:.3f}%\".format(accuracy / (y_pred.shape[0] - 1) * 100)) "
      ],
      "execution_count": null,
      "outputs": []
    },
    {
      "cell_type": "markdown",
      "metadata": {
        "id": "rcxKPsPGRyOH"
      },
      "source": [
        "# Implementation of trading"
      ]
    },
    {
      "cell_type": "code",
      "metadata": {
        "id": "LoefIE3WR2g6"
      },
      "source": [
        "model_variation = []\n",
        "price_variation = []\n",
        "buy_points = []\n",
        "sell_points = []\n",
        "\n",
        "maximum_trade_size = 3000.00\n",
        "cash_on_hand = 10000.00\n",
        "initial_value = cash_on_hand\n",
        "number_of_shares = 0.00\n",
        "\n",
        "\n",
        "for i in range(1, y_pred.shape[0]):\n",
        "    # Current prediction price\n",
        "    current_pred = y_pred[i][0]\n",
        "    # Previous prediction price\n",
        "    previous_pred = y_pred[i-1][0]\n",
        "    # Current actual price\n",
        "    current_actual= y_test[i]\n",
        "    # Previous actual price\n",
        "    previous_actual = y_test[i-1]\n",
        "\n",
        "    change = ((current_pred - previous_pred) / previous_pred) * 100\n",
        "\n",
        "    if (change >= 3):\n",
        "        #print(\"Buy\" + str(change) + \"%\")\n",
        "        # The model is expecting the share price to increase\n",
        "        # Use previous actual price to determine how many shares to buy\n",
        "        maximum_allow_trade_size = min(maximum_trade_size, cash_on_hand)\n",
        "        shares_to_buy = maximum_trade_size / previous_actual\n",
        "        number_of_shares = number_of_shares + shares_to_buy\n",
        "        cash_on_hand = cash_on_hand - (shares_to_buy * previous_actual)\n",
        "        buy_points.append(i-1)\n",
        "    elif (change <= -3):\n",
        "        #print(\"Sell: \" + str(change) + \"%\")\n",
        "        # The model is expecting the share price to decrease\n",
        "        # Use previous price to determine how many shares to sell\n",
        "        shares_to_sell = min(round(maximum_trade_size / previous_actual, 4), number_of_shares)\n",
        "        number_of_shares = number_of_shares - shares_to_sell\n",
        "        cash_on_hand = cash_on_hand + (shares_to_sell * previous_actual)\n",
        "        sell_points.append(i-1)\n",
        "\n",
        "    starting_price = y_test[1]\n",
        "\n",
        "    price_variation.append((current_actual - starting_price) / starting_price * 100)\n",
        "    model_variation.append((cash_on_hand + (number_of_shares * current_actual) - initial_value) / initial_value * 100)\n",
        "\n",
        "end_price = y_test[-1]\n",
        "share_value = end_price * number_of_shares\n",
        "\n",
        "print(\"Cash left on hand: ${:.3f}\".format(cash_on_hand))\n",
        "print(\"Number of shares: {:.3f}\".format(number_of_shares))\n",
        "print(\"Value of shares: {:.3f}\".format(share_value))\n",
        "print(\"Total value: ${:.3f}\".format(cash_on_hand + share_value))\n",
        "\n",
        "print(\"Number of trades: {:.3f}\".format(len(buy_points) + len(sell_points)))"
      ],
      "execution_count": null,
      "outputs": []
    },
    {
      "cell_type": "markdown",
      "metadata": {
        "id": "2YknZZ6raVNb"
      },
      "source": [
        ""
      ]
    },
    {
      "cell_type": "code",
      "metadata": {
        "id": "EjcTNg-QaVo1"
      },
      "source": [
        "import matplotlib.ticker as mtick\n",
        "\n",
        "fig, (ax) = plt.subplots(1, 1, sharex=True)\n",
        "\n",
        "fmt = '%.0f%%' # Format you want the ticks, e.g. '40%'\n",
        "yticks = mtick.FormatStrFormatter(fmt)\n",
        "ax.yaxis.set_major_formatter(yticks)\n",
        "\n",
        "ax.plot(price_variation, label='Stock % Growth')\n",
        "ax.plot(model_variation, label='Model % Growth')\n",
        "\n",
        "ax.xaxis.grid(True, which='minor', linestyle='-', linewidth=0.25)\n",
        "ax.set_axisbelow(True)\n",
        "ax.grid(linestyle='-', linewidth='0.5', color='gray')\n",
        "\n",
        "ax.legend(loc='upper left')\n",
        "\n",
        "ax.set_ylabel('% Change from start')\n",
        "ax.set_xlabel('Number of Days')\n",
        "ax.set_title('Model vs. Stock % Change Comparison')"
      ],
      "execution_count": null,
      "outputs": []
    },
    {
      "cell_type": "code",
      "metadata": {
        "id": "k8P_CfUbcd13"
      },
      "source": [
        "import matplotlib.ticker as mtick\n",
        "\n",
        "def marker_visualization(markers):\n",
        "    fig, (ax) = plt.subplots(1, 1, sharex=True)\n",
        "\n",
        "    fmt = '%.0f%%' # Format you want the ticks, e.g. '40%'\n",
        "    yticks = mtick.FormatStrFormatter(fmt)\n",
        "    ax.yaxis.set_major_formatter(yticks)\n",
        "\n",
        "    ax.plot(price_variation, label='Stock % Growth', markevery=markers, marker='o', markerfacecolor='white')\n",
        "    ax.plot(model_variation, label='Model % Growth')\n",
        "\n",
        "    ax.xaxis.grid(True, which='minor', linestyle='-', linewidth=0.25)\n",
        "    ax.set_axisbelow(True)\n",
        "    ax.grid(linestyle='-', linewidth='0.5', color='gray')\n",
        "\n",
        "    ax.legend(loc='upper left')\n",
        "\n",
        "    ax.set_ylabel('% Change from start')\n",
        "    ax.set_xlabel('Number of Days')\n",
        "    ax.set_title('Model vs. Stock % Change Comparison')"
      ],
      "execution_count": null,
      "outputs": []
    },
    {
      "cell_type": "code",
      "metadata": {
        "id": "xcpFgpszdzO0"
      },
      "source": [
        "marker_visualization(markers=buy_points)"
      ],
      "execution_count": null,
      "outputs": []
    },
    {
      "cell_type": "code",
      "metadata": {
        "id": "CvslBynOeSsI"
      },
      "source": [
        "marker_visualization(markers=sell_points)"
      ],
      "execution_count": null,
      "outputs": []
    }
  ]
}