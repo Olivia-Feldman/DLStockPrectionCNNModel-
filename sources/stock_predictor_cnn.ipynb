{
  "nbformat": 4,
  "nbformat_minor": 0,
  "metadata": {
    "colab": {
      "name": "stock_predictor_cnn.ipynb",
      "provenance": [],
      "authorship_tag": "ABX9TyNSRY36T3/+hV53I+iFRlCx",
      "include_colab_link": true
    },
    "kernelspec": {
      "name": "python3",
      "display_name": "Python 3"
    },
    "widgets": {
      "application/vnd.jupyter.widget-state+json": {
        "57d262828c4c47e3bbe26ab9411a4294": {
          "model_module": "@jupyter-widgets/controls",
          "model_name": "HBoxModel",
          "state": {
            "_view_name": "HBoxView",
            "_dom_classes": [],
            "_model_name": "HBoxModel",
            "_view_module": "@jupyter-widgets/controls",
            "_model_module_version": "1.5.0",
            "_view_count": null,
            "_view_module_version": "1.5.0",
            "box_style": "",
            "layout": "IPY_MODEL_592d78c311c04b7f9f5e09a0d19991e0",
            "_model_module": "@jupyter-widgets/controls",
            "children": [
              "IPY_MODEL_2cb1a78d902945b6bb0624046703d449",
              "IPY_MODEL_880bd90cc331400099bc69e7921e2a58"
            ]
          }
        },
        "592d78c311c04b7f9f5e09a0d19991e0": {
          "model_module": "@jupyter-widgets/base",
          "model_name": "LayoutModel",
          "state": {
            "_view_name": "LayoutView",
            "grid_template_rows": null,
            "right": null,
            "justify_content": null,
            "_view_module": "@jupyter-widgets/base",
            "overflow": null,
            "_model_module_version": "1.2.0",
            "_view_count": null,
            "flex_flow": null,
            "width": null,
            "min_width": null,
            "border": null,
            "align_items": null,
            "bottom": null,
            "_model_module": "@jupyter-widgets/base",
            "top": null,
            "grid_column": null,
            "overflow_y": null,
            "overflow_x": null,
            "grid_auto_flow": null,
            "grid_area": null,
            "grid_template_columns": null,
            "flex": null,
            "_model_name": "LayoutModel",
            "justify_items": null,
            "grid_row": null,
            "max_height": null,
            "align_content": null,
            "visibility": null,
            "align_self": null,
            "height": null,
            "min_height": null,
            "padding": null,
            "grid_auto_rows": null,
            "grid_gap": null,
            "max_width": null,
            "order": null,
            "_view_module_version": "1.2.0",
            "grid_template_areas": null,
            "object_position": null,
            "object_fit": null,
            "grid_auto_columns": null,
            "margin": null,
            "display": null,
            "left": null
          }
        },
        "2cb1a78d902945b6bb0624046703d449": {
          "model_module": "@jupyter-widgets/controls",
          "model_name": "FloatProgressModel",
          "state": {
            "_view_name": "ProgressView",
            "style": "IPY_MODEL_077514e63e1f488f96d9f4635d3377df",
            "_dom_classes": [],
            "description": "100%",
            "_model_name": "FloatProgressModel",
            "bar_style": "success",
            "max": 1258,
            "_view_module": "@jupyter-widgets/controls",
            "_model_module_version": "1.5.0",
            "value": 1258,
            "_view_count": null,
            "_view_module_version": "1.5.0",
            "orientation": "horizontal",
            "min": 0,
            "description_tooltip": null,
            "_model_module": "@jupyter-widgets/controls",
            "layout": "IPY_MODEL_223e04f53f28410a9737312631a6065e"
          }
        },
        "880bd90cc331400099bc69e7921e2a58": {
          "model_module": "@jupyter-widgets/controls",
          "model_name": "HTMLModel",
          "state": {
            "_view_name": "HTMLView",
            "style": "IPY_MODEL_a5b6418c6f374de7bc8f97f2c417db2b",
            "_dom_classes": [],
            "description": "",
            "_model_name": "HTMLModel",
            "placeholder": "​",
            "_view_module": "@jupyter-widgets/controls",
            "_model_module_version": "1.5.0",
            "value": " 1258/1258 [00:02&lt;00:00, 424.46it/s]",
            "_view_count": null,
            "_view_module_version": "1.5.0",
            "description_tooltip": null,
            "_model_module": "@jupyter-widgets/controls",
            "layout": "IPY_MODEL_0a656eb2ff8245b0a9cfe394ad139237"
          }
        },
        "077514e63e1f488f96d9f4635d3377df": {
          "model_module": "@jupyter-widgets/controls",
          "model_name": "ProgressStyleModel",
          "state": {
            "_view_name": "StyleView",
            "_model_name": "ProgressStyleModel",
            "description_width": "initial",
            "_view_module": "@jupyter-widgets/base",
            "_model_module_version": "1.5.0",
            "_view_count": null,
            "_view_module_version": "1.2.0",
            "bar_color": null,
            "_model_module": "@jupyter-widgets/controls"
          }
        },
        "223e04f53f28410a9737312631a6065e": {
          "model_module": "@jupyter-widgets/base",
          "model_name": "LayoutModel",
          "state": {
            "_view_name": "LayoutView",
            "grid_template_rows": null,
            "right": null,
            "justify_content": null,
            "_view_module": "@jupyter-widgets/base",
            "overflow": null,
            "_model_module_version": "1.2.0",
            "_view_count": null,
            "flex_flow": null,
            "width": null,
            "min_width": null,
            "border": null,
            "align_items": null,
            "bottom": null,
            "_model_module": "@jupyter-widgets/base",
            "top": null,
            "grid_column": null,
            "overflow_y": null,
            "overflow_x": null,
            "grid_auto_flow": null,
            "grid_area": null,
            "grid_template_columns": null,
            "flex": null,
            "_model_name": "LayoutModel",
            "justify_items": null,
            "grid_row": null,
            "max_height": null,
            "align_content": null,
            "visibility": null,
            "align_self": null,
            "height": null,
            "min_height": null,
            "padding": null,
            "grid_auto_rows": null,
            "grid_gap": null,
            "max_width": null,
            "order": null,
            "_view_module_version": "1.2.0",
            "grid_template_areas": null,
            "object_position": null,
            "object_fit": null,
            "grid_auto_columns": null,
            "margin": null,
            "display": null,
            "left": null
          }
        },
        "a5b6418c6f374de7bc8f97f2c417db2b": {
          "model_module": "@jupyter-widgets/controls",
          "model_name": "DescriptionStyleModel",
          "state": {
            "_view_name": "StyleView",
            "_model_name": "DescriptionStyleModel",
            "description_width": "",
            "_view_module": "@jupyter-widgets/base",
            "_model_module_version": "1.5.0",
            "_view_count": null,
            "_view_module_version": "1.2.0",
            "_model_module": "@jupyter-widgets/controls"
          }
        },
        "0a656eb2ff8245b0a9cfe394ad139237": {
          "model_module": "@jupyter-widgets/base",
          "model_name": "LayoutModel",
          "state": {
            "_view_name": "LayoutView",
            "grid_template_rows": null,
            "right": null,
            "justify_content": null,
            "_view_module": "@jupyter-widgets/base",
            "overflow": null,
            "_model_module_version": "1.2.0",
            "_view_count": null,
            "flex_flow": null,
            "width": null,
            "min_width": null,
            "border": null,
            "align_items": null,
            "bottom": null,
            "_model_module": "@jupyter-widgets/base",
            "top": null,
            "grid_column": null,
            "overflow_y": null,
            "overflow_x": null,
            "grid_auto_flow": null,
            "grid_area": null,
            "grid_template_columns": null,
            "flex": null,
            "_model_name": "LayoutModel",
            "justify_items": null,
            "grid_row": null,
            "max_height": null,
            "align_content": null,
            "visibility": null,
            "align_self": null,
            "height": null,
            "min_height": null,
            "padding": null,
            "grid_auto_rows": null,
            "grid_gap": null,
            "max_width": null,
            "order": null,
            "_view_module_version": "1.2.0",
            "grid_template_areas": null,
            "object_position": null,
            "object_fit": null,
            "grid_auto_columns": null,
            "margin": null,
            "display": null,
            "left": null
          }
        }
      }
    }
  },
  "cells": [
    {
      "cell_type": "markdown",
      "metadata": {
        "id": "view-in-github",
        "colab_type": "text"
      },
      "source": [
        "<a href=\"https://colab.research.google.com/github/Olivia-Feldman/DLStockPrectionCNNModel-/blob/Andrew/sources/stock_predictor_cnn.ipynb\" target=\"_parent\"><img src=\"https://colab.research.google.com/assets/colab-badge.svg\" alt=\"Open In Colab\"/></a>"
      ]
    },
    {
      "cell_type": "markdown",
      "metadata": {
        "id": "mDQ7p3VWwTzY"
      },
      "source": [
        "# Default Imports"
      ]
    },
    {
      "cell_type": "code",
      "metadata": {
        "id": "y0hv_dunwR7J"
      },
      "source": [
        "import requests\n",
        "import pandas as pd\n",
        "import numpy as np\n",
        "from datetime import datetime\n",
        "import matplotlib.pyplot as plt\n",
        "import matplotlib.ticker as tick"
      ],
      "execution_count": 1,
      "outputs": []
    },
    {
      "cell_type": "markdown",
      "metadata": {
        "id": "d-6hn6-Vdy3w"
      },
      "source": [
        "# Set plot stylizations"
      ]
    },
    {
      "cell_type": "code",
      "metadata": {
        "id": "WmQoLK49d5sb"
      },
      "source": [
        "plt.rcParams.update({'font.size': 16})\n",
        "plt.rcParams['figure.figsize'] = [12, 8]\n",
        "plt.style.use('dark_background')"
      ],
      "execution_count": 2,
      "outputs": []
    },
    {
      "cell_type": "markdown",
      "metadata": {
        "id": "F2ZeVooibCVb"
      },
      "source": [
        "# Method for getting ticker data using Yahoo Finance API"
      ]
    },
    {
      "cell_type": "code",
      "metadata": {
        "id": "CKir13DZiStn"
      },
      "source": [
        "\n",
        "def getStockData(ticker: str, startYear: str, endYear: str):\n",
        "    url = \"https://query1.finance.yahoo.com/v8/finance/chart/\" + ticker + \"?region=US&lang=en-US&includePrePost=false&interval=1d&useYfid=true&range=5y&corsDomain=finance.yahoo.com&.tsrc=finance\"\n",
        "    x = requests.get(url)\n",
        "    jsonResponse = x.json()\n",
        "    timestamps = jsonResponse[\"chart\"][\"result\"][0][\"timestamp\"]\n",
        "    open = jsonResponse[\"chart\"][\"result\"][0][\"indicators\"][\"quote\"][0][\"open\"]\n",
        "    high = jsonResponse[\"chart\"][\"result\"][0][\"indicators\"][\"quote\"][0][\"high\"]\n",
        "    low = jsonResponse[\"chart\"][\"result\"][0][\"indicators\"][\"quote\"][0][\"low\"]\n",
        "    close = jsonResponse[\"chart\"][\"result\"][0][\"indicators\"][\"quote\"][0][\"close\"]\n",
        "    volume = jsonResponse[\"chart\"][\"result\"][0][\"indicators\"][\"quote\"][0][\"volume\"]\n",
        "\n",
        "    datetimes = list(map(toDatetime, timestamps))\n",
        "\n",
        "    data = {\n",
        "        'timestamps' : datetimes,\n",
        "        'open' : open,\n",
        "        'high' : high,\n",
        "        'low' : low,\n",
        "        'close' : close,\n",
        "        'volume' : volume\n",
        "    }\n",
        "\n",
        "    df = pd.DataFrame(data, columns=['timestamps', 'open', 'high', 'low', 'close', 'volume'])\n",
        "    return df\n",
        "\n",
        "def toDatetime(t):\n",
        "    return datetime.fromtimestamp(t)\n"
      ],
      "execution_count": 3,
      "outputs": []
    },
    {
      "cell_type": "markdown",
      "metadata": {
        "id": "obgFPuP-bSN3"
      },
      "source": [
        "# Plotting AAPL close prices to visualize"
      ]
    },
    {
      "cell_type": "code",
      "metadata": {
        "colab": {
          "base_uri": "https://localhost:8080/",
          "height": 503
        },
        "id": "HHwQWq3-sWL5",
        "outputId": "9792cbfd-8af6-4982-a50d-f3503a7d527e"
      },
      "source": [
        "ticker = 'QQQ'\n",
        "df = getStockData(ticker, \"2017\", \"2020\")\n",
        "\n",
        "ax = df.plot(x='timestamps', y=['open'], kind='line', title=ticker + ' prices')\n",
        "vals = ax.get_yticks()\n",
        "ax.set_yticklabels(['${:1.2f}'.format(x) for x in vals])\n",
        "ax.xaxis.grid(True, which='minor', linestyle='-', linewidth=0.25)\n",
        "ax.set_axisbelow(True)\n",
        "ax.grid(linestyle='-', linewidth='0.5', color='gray')\n",
        "\n",
        "plt.show()"
      ],
      "execution_count": 4,
      "outputs": [
        {
          "output_type": "display_data",
          "data": {
            "image/png": "[encoded data removed]",
            "text/plain": [
              "<Figure size 864x576 with 1 Axes>"
            ]
          },
          "metadata": {
            "tags": []
          }
        }
      ]
    },
    {
      "cell_type": "markdown",
      "metadata": {
        "id": "zDiySzRWbder"
      },
      "source": [
        "# Method for labeling price data as BUY, HOLD, or SELL\n",
        "\n",
        "*SELL = 0, BUY = 1, HOLD = 2*\n",
        "\n",
        "\n",
        "*Parameters:*\n",
        "\n",
        "    df: Pandas DataFrame\n",
        "    col_name: Name of the column in df that will be used to determine labels\n",
        "        - availiable names: \"open\", \"close\", \"high\", \"low\"\n",
        "    window_size: How large the window size will be when determining labels\n",
        "        - default size: 11"
      ]
    },
    {
      "cell_type": "code",
      "metadata": {
        "id": "pY9Dw0gB4DOp"
      },
      "source": [
        "from tqdm.auto import tqdm\n",
        "\n",
        "def create_labels(df, col_name, window_size=11):\n",
        "\n",
        "    row_counter = 0\n",
        "    total_rows = len(df)\n",
        "    # Creates a 1 x N numpy array\n",
        "    labels = np.zeros(total_rows)\n",
        "    # Makes all the entries in labels array equal to nan\n",
        "    labels[:] = np.nan\n",
        "    # Sets up a progress bar\n",
        "    pbar = tqdm(total=total_rows)\n",
        "\n",
        "    while row_counter < total_rows:\n",
        "\n",
        "        # Stalls labeling calculation until the row_counter is at least as big as the window_size\n",
        "        if row_counter >= window_size - 1:\n",
        "            window_begin = row_counter - (window_size - 1)\n",
        "            window_end = row_counter\n",
        "            window_middle = (window_begin + window_end) // 2 # Cast as int\n",
        "\n",
        "            min_ = np.inf\n",
        "            min_index = -1\n",
        "            max_ = -np.inf\n",
        "            max_index = -1\n",
        "            for i in range(window_begin, window_end + 1):\n",
        "                # Selected value at 'i' index in column with name equal to col_name variable\n",
        "                price = df.iloc[i][col_name]\n",
        "                if price < min_:\n",
        "                    # Finds the smallest value in the window\n",
        "                    # 'min_' is initially set to infinity\n",
        "                    min_ = price\n",
        "                    # Saves the index of the lowest value\n",
        "                    min_index = i\n",
        "                if price > max_:\n",
        "                    # Finds the largest value in the window\n",
        "                    # 'max_' is initially set to -infinity\n",
        "                    max_ = price\n",
        "                    # Saves the index of the largest value\n",
        "                    max_index = i\n",
        "\n",
        "            if max_index == window_middle:\n",
        "                # Sets label to SELL\n",
        "                labels[window_middle] = 0\n",
        "            elif min_index == window_middle:\n",
        "                # Sets label to BUY\n",
        "                labels[window_middle] = 1\n",
        "            else:\n",
        "                # Sets label to HOLD\n",
        "                labels[window_middle] = 2\n",
        "\n",
        "        row_counter = row_counter + 1\n",
        "        pbar.update(1)\n",
        "\n",
        "    pbar.close()\n",
        "    return labels"
      ],
      "execution_count": 5,
      "outputs": []
    },
    {
      "cell_type": "markdown",
      "metadata": {
        "id": "RtdxAGJZcvbF"
      },
      "source": [
        "# Plotting of prediction labels using 'close' column"
      ]
    },
    {
      "cell_type": "code",
      "metadata": {
        "id": "hysHG0ab08CB",
        "colab": {
          "base_uri": "https://localhost:8080/",
          "height": 575,
          "referenced_widgets": [
            "57d262828c4c47e3bbe26ab9411a4294",
            "592d78c311c04b7f9f5e09a0d19991e0",
            "2cb1a78d902945b6bb0624046703d449",
            "880bd90cc331400099bc69e7921e2a58",
            "077514e63e1f488f96d9f4635d3377df",
            "223e04f53f28410a9737312631a6065e",
            "a5b6418c6f374de7bc8f97f2c417db2b",
            "0a656eb2ff8245b0a9cfe394ad139237"
          ]
        },
        "outputId": "c572269a-adc4-4c9b-f981-6a75ab6d3ae3"
      },
      "source": [
        "labels = create_labels(df, 'close')\n",
        "df['labels'] = labels\n",
        "df['labels'] = df['labels'].fillna(0)\n",
        "\n",
        "fig = plt.figure()\n",
        "plt.plot(labels, ',')\n",
        "plt.title('Prediction Labels')"
      ],
      "execution_count": 6,
      "outputs": [
        {
          "output_type": "display_data",
          "data": {
            "application/vnd.jupyter.widget-view+json": {
              "model_id": "57d262828c4c47e3bbe26ab9411a4294",
              "version_minor": 0,
              "version_major": 2
            },
            "text/plain": [
              "HBox(children=(FloatProgress(value=0.0, max=1258.0), HTML(value='')))"
            ]
          },
          "metadata": {
            "tags": []
          }
        },
        {
          "output_type": "stream",
          "text": [
            "\n"
          ],
          "name": "stdout"
        },
        {
          "output_type": "execute_result",
          "data": {
            "text/plain": [
              "Text(0.5, 1.0, 'Prediction Labels')"
            ]
          },
          "metadata": {
            "tags": []
          },
          "execution_count": 6
        },
        {
          "output_type": "display_data",
          "data": {
            "image/png": "[encoded data removed]",
            "text/plain": [
              "<Figure size 864x576 with 1 Axes>"
            ]
          },
          "metadata": {
            "tags": []
          }
        }
      ]
    },
    {
      "cell_type": "markdown",
      "metadata": {
        "id": "Ex3SiOnwXc-_"
      },
      "source": [
        "# Method Definition for plotting indicators"
      ]
    },
    {
      "cell_type": "code",
      "metadata": {
        "id": "OH30OzzvXccu"
      },
      "source": [
        "def plot_indicators(df, columns, yTitle, xTitle):\n",
        "    plt.figure()\n",
        "    ax = df[columns].plot(title=yTitle)\n",
        "    ax.set_xlabel(xTitle)\n",
        "    ax.set_ylabel(yTitle)"
      ],
      "execution_count": 7,
      "outputs": []
    },
    {
      "cell_type": "markdown",
      "metadata": {
        "id": "yRCNLq1umIa4"
      },
      "source": [
        "# Technical Indicator methods\n",
        "\n",
        "\n",
        "***Technical Indicators Used:***\n",
        "\n",
        "*   MACD\n",
        "*   RSI\n",
        "*   %K\n",
        "*   %D\n",
        "*   ATR\n",
        "*   DEMA\n",
        "*   BB\n",
        "*   WR\n",
        "\n",
        "\n",
        "\n",
        "\n",
        "\n",
        "\n",
        "\n"
      ]
    },
    {
      "cell_type": "markdown",
      "metadata": {
        "id": "fLAugiBvWsS3"
      },
      "source": [
        "# ***RSI***: Relative Strength Index\n",
        "\n",
        "\n",
        "\n",
        "*   Signals about bullish and bearish price momentum, and it is often plotted beneath the graph of an asset's price\n",
        "*   An asset is usually considered overbought when the RSI is above ***`70%`*** and oversold when it is below ***`30%`***\n",
        "*   A momentum indicator used in technical analysis that measures the magnitude of recent price changes to evaluate overbought or oversold conditions in the price of a stock or other asset\n",
        "*   The RSI is displayed as an oscillator and can have a reading from 0 to 100.\n",
        "\n",
        "$$\\frac{sin(x)}{x}$$\n",
        "\n",
        "\\begin{equation}\n",
        "F(k) = \\int_{-\\infty}^{\\infty} f(x) e^{2\\pi i k} dx\n",
        "\\end{equation}\n",
        "\n",
        "\\begin{equation}\n",
        "RSI_{step-one} = 100 - \\Bigg[ \\frac{100}{1 + \\frac{Average Gain}{Average Loss}}\\Bigg]\n",
        "\\end{equation}\n",
        "\n",
        "\\begin{equation}\n",
        "RSI_{step-two} = 100 - \\Bigg[ \\frac{100}{1 + \\frac{(Previous Average Gain*(N-1)) + Current Gain}{(Previous Average Loss*(N-1)) + Current Loss}}\\Bigg]\n",
        "\\end{equation}\n",
        "\n",
        "[Investopedia](https://www.investopedia.com/terms/r/rsi.asp)\n",
        "\n",
        "<font color='red'> TODO: Code calculation might be slightly wrong </font>\n",
        "\n"
      ]
    },
    {
      "cell_type": "code",
      "metadata": {
        "id": "9iZ9GSAuWpVs"
      },
      "source": [
        "def calculate_rsi(df, iteration):\n",
        "    diff = df['close'].diff()\n",
        "    up, down = diff.copy(), diff.copy()\n",
        "    up[up < 0] = 0 # Converting to Average Gain\n",
        "    down[down > 0] = 0 # Converting to Average Loss\n",
        "    down = abs(down) # Positive Value of Average Loss\n",
        "    iter_Num_Day_Up_Closes = up.rolling(iteration).mean() # interation # day periods\n",
        "    iter_Num_Day_Down_Closes = down.rolling(iteration).mean() # interaction # day periods\n",
        "    relative_strength = iter_Num_Day_Up_Closes / iter_Num_Day_Down_Closes\n",
        "    df['RSI_'+str(iteration)] = 100 - (100 / (1 + relative_strength))\n",
        "    df['RSI_'+str(iteration)] = df['RSI_'+str(iteration)].fillna(0)"
      ],
      "execution_count": 8,
      "outputs": []
    },
    {
      "cell_type": "markdown",
      "metadata": {
        "id": "gMv0B0HhPO5I"
      },
      "source": [
        "# ***MACD***: Moving Average Convergance Diverage Momentum\n",
        "\n",
        "\n",
        "* MACD triggers technical signals when it crosses above (to buy) or below (to sell) its signal line.\n",
        "* The speed of crossovers is also taken as a signal of a market is overbought or oversold.\n",
        "* MACD helps investors understand whether the bullish or bearish movement in the price is strengthening or weakening.\n",
        "\n",
        "\\begin{equation}\n",
        "MACD =  EMA_{12-period} - EMA_{26-period}\n",
        "\\end{equation}\n",
        "\n",
        "[Investopedia](https://www.investopedia.com/terms/m/macd.asp)"
      ]
    },
    {
      "cell_type": "code",
      "metadata": {
        "id": "PgmWZo1LPKMS"
      },
      "source": [
        "def calculate_macd(df, iteration):\n",
        "    df['MACD_'+str(iteration)] = df[\"close\"].ewm(span=12).mean() - df[\"close\"].ewm(span=26).mean()\n",
        "    df['MACD_'+str(iteration)] = df['MACD_'+str(iteration)].fillna(0)\n",
        "    #df['Signal Line'] = df['MACD'].ewm(span=9).mean()"
      ],
      "execution_count": 9,
      "outputs": []
    },
    {
      "cell_type": "markdown",
      "metadata": {
        "id": "kjnTJtNYUbiD"
      },
      "source": [
        "# ***EMA***: Exponential Moving Average\n",
        "\n",
        "\n",
        "*   Moving average that places a greater weight and significance on the most recent data points\n",
        "*   Traders often use several different EMA lengths, such as <font color='orange'> 10-day </font>, <font color='orange'> 50-day </font>, and <font color='orange'> 200-day </font> moving averages.\n",
        "\n",
        "\\begin{equation}\n",
        "EMA = \\Bigg( Value_{Today}  * \\Big( \\frac{Smoothing}{1+Days} \\Big) + EMA_{Yesterday} * \\Big( 1 - \\Big( \\frac{Smoothing}{1+Days} \\Big) \\Big) \\Bigg)\n",
        "\\end{equation}\n",
        "\n",
        "\\begin{equation}\n",
        "Weighted Multipler = \\frac{Smoothing}{1+Days}\n",
        "\\end{equation}\n",
        "\n",
        "\\begin{equation}\n",
        "EMA = \\Bigg( \\Big( Value_{Today} - EMA_{Yesterday} \\Big) * \\Big( Weighted Multipler \\Big) + EMA_{Yesterday} \\Bigg)\n",
        "\\end{equation}\n",
        "\n",
        "*   While there are many possible choices for the smoothing factor, the most common choice is:\n",
        "  *   <font color='orange'> Smoothing = 2 </font>\n",
        "  *   That gives the most recent observation more weight. If the smoothing factor is <font color='orange'> increased </font>, more recent observations have <font color='orange'> more influence </font> on the EMA.\n",
        "\n",
        "\n",
        "[Investopedia Definition](https://www.investopedia.com/terms/e/ema.asp)\n",
        "\n",
        "[Investopedia Calculation](https://www.investopedia.com/ask/answers/122314/what-exponential-moving-average-ema-formula-and-how-ema-calculated.asp)\n",
        "\n"
      ]
    },
    {
      "cell_type": "code",
      "metadata": {
        "id": "g1kLA-Y0Ua7N"
      },
      "source": [
        "def calculate_ema(df, iteration, windowSize=11):\n",
        "\n",
        "    if 'EMA_'+str(iteration) in df.columns:\n",
        "        return df['EMA_'+str(iteration)]\n",
        "        print(\"found EMA column\")\n",
        "    else:\n",
        "        multiplier = (2/(windowSize+1))\n",
        "        ema_1 = df['close'].rolling(windowSize).sum() / windowSize\n",
        "        #ema_1 = ema_1.fillna(0)\n",
        "        df['EMA_'+str(iteration)] = (df['close'] -  ema_1) * multiplier + ema_1 # -> Is this right?\n",
        "        df['EMA_'+str(iteration)] = df['EMA_'+str(iteration)].fillna(0)\n",
        "        return df['EMA_'+str(iteration)]"
      ],
      "execution_count": 10,
      "outputs": []
    },
    {
      "cell_type": "markdown",
      "metadata": {
        "id": "kEpEsOdimZ5O"
      },
      "source": [
        "# ***SR***: Stochastic Oscillator\n",
        "\n",
        "\n",
        "\n",
        "*   The general theory serving as the foundation for this indicator is that in a market trending upward, prices will close near the high, and in a market trending downward, prices close near the low\n",
        "*   Transaction signals are created when the %K crosses through a three-period moving average, which is called the %D.\n",
        "\n",
        "\\begin{equation}\n",
        "K = \\Bigg( \\frac{C - L14}{H14-L14} \\Bigg) * 100\n",
        "\\end{equation}\n",
        "\n",
        "\n",
        "\n",
        "*   where:\n",
        "    *   <font color=\"orange\">C</font> = The most recent closing price\n",
        "    *   <font color=\"orange\">L14</font> = The lowest price traded of the 14 previous\n",
        "trading sessions\n",
        "    *   <font color=\"orange\">H14</font> = The highest price traded during the same 14-day period\n",
        "    *   <font color=\"orange\">%K</font> = The current value of the stochastic indicator\n",
        "\n",
        "[Investopedia Definition](https://www.investopedia.com/terms/s/stochasticoscillator.asp)\n"
      ]
    },
    {
      "cell_type": "code",
      "metadata": {
        "id": "tZhUU6gWmWM2"
      },
      "source": [
        "# SR: Stochastic Oscillator\n",
        "def calculate_sr(df, iteration):\n",
        "    eleven_high = df['high'].rolling(11).max()\n",
        "    eleven_low = df['low'].rolling(11).min()\n",
        "    # %K is referred to sometimes as the fast stochastic indicator\n",
        "    fast_K = (df['close']-eleven_low)*100/(eleven_high - eleven_low)\n",
        "    # The \"slow\" stochastic indicator is taken as %D = 3-period moving average of %K\n",
        "    df['%D_'+str(iteration)] = fast_K.rolling(3).mean()\n",
        "    df['%D_'+str(iteration)] = df['%D_'+str(iteration)].fillna(0)"
      ],
      "execution_count": 11,
      "outputs": []
    },
    {
      "cell_type": "markdown",
      "metadata": {
        "id": "cQAlrWaG9cT4"
      },
      "source": [
        "# ***WR***: Williams Percent Range\n",
        "\n",
        "\n",
        "\n",
        "*   Williams %R moves between zero and -100.\n",
        "*   A reading above -20 is overbought.\n",
        "*   A reading below -80 is oversold.\n",
        "*   An overbought or oversold reading <font color='red'>doesn't</font> mean the price will reverse. Overbought simply means the price is near the highs of its recent range, and oversold means the price is in the lower end of its recent range.\n",
        "\n",
        "\\begin{equation}\n",
        "WR  = \\Bigg( \\frac{Highest High - Close}{Highest High - Lowest Low} \\Bigg) * -100\n",
        "\\end{equation}\n",
        "\n",
        "\n",
        "\n",
        "*   where:\n",
        "  *   <font color='orange'>Highest High</font> = Highest price in the lookback\n",
        "period, typically 14 days.\n",
        "  *   <font color='orange'>Lowest Low</font> = Lowest price in the lookback period, typically 14 days.\n",
        "  *   <font color='orange'>Close</font> = Most recent closing price\n",
        "\n",
        "\n",
        "The Williams %R (<font color='green'>***WR***</font>) and the Fast Stochastic Oscillator (<font color='green'>***SR***</font>) end up being <font color='red'>almost the exact same</font> indicator. The only difference between the two is how the indicators are scaled. \n",
        "\n",
        "[Investopedia Definition](https://www.investopedia.com/terms/w/williamsr.asp)\n"
      ]
    },
    {
      "cell_type": "code",
      "metadata": {
        "id": "uIOED0r89cED"
      },
      "source": [
        "def calculate_WR(df, iteration):\n",
        "    eleven_high = df['high'].rolling(11).max()\n",
        "    eleven_low = df['low'].rolling(11).min()\n",
        "    df['WR_'+str(iteration)] = (eleven_high - df['close']) / (eleven_high - eleven_low) * -100\n",
        "    df['WR_'+str(iteration)] = df['WR_'+str(iteration)].rolling(3).mean()\n",
        "    df['WR_'+str(iteration)] = df['WR_'+str(iteration)].fillna(0)"
      ],
      "execution_count": 12,
      "outputs": []
    },
    {
      "cell_type": "markdown",
      "metadata": {
        "id": "fvGhyTPqBhGd"
      },
      "source": [
        "# ***MFI***: Money Flow Index\n",
        "\n",
        "*   Uses price and volume data for identifying overbought or oversold signals in an asset\n",
        "*   It can also be used to spot divergences which warn of a trend change in price.\n",
        "*   The oscillator moves between <font color='orange'>0</font> and <font color='orange'>100</font>.\n",
        "*   An MFI reading above <font color='orange'>80</font> is considered <font color='orange'>overbought</font> and an MFI reading below <font color='orange'>20</font> is considered <font color='orange'>oversold</font>, although levels of 90 and 10 are also used as thresholds\n",
        "\n",
        "\n",
        "\\begin{equation}\n",
        "MFI  = \\Bigg( 100 - \\frac{100}{1 + Money ~Flow ~Ratio} \\Bigg)\n",
        "\\end{equation}\n",
        "\n",
        "\n",
        "\n",
        "*   where:\n",
        "\n",
        "\\begin{equation}\n",
        "Money ~Flow ~Ratio  = \\Bigg(\\frac{14~Period ~Positive ~Money ~Flow}{14~Period ~Negative ~Money ~Flow} \\Bigg)\n",
        "\\end{equation}\n",
        "\n",
        "\\begin{equation}\n",
        "Raw ~Money ~Flow  = Typical ~Price * Volume\n",
        "\\end{equation}\n",
        "\n",
        "\\begin{equation}\n",
        "Typical ~Price  = \\Bigg(\\frac{High+Low+Close}{3} \\Bigg)\n",
        "\\end{equation}\n",
        "\n",
        "\n",
        "\n",
        "*   When the price advances from one period to the next Raw Money Flow is <font color='lightgreen'>**positive**</font> and it is added to Positive Money Flow. \n",
        "*   When Raw Money Flow is <font color='red'>**negative**</font> because the price dropped that period, it is added to Negative Money Flow.\n",
        "\n",
        "\n",
        "\n",
        "\n",
        "[Investopedia Definition](https://www.investopedia.com/terms/m/mfi.asp)\n",
        "\n",
        "\n",
        "<font color='red'>TODO: Check that code calculations are correct</font>"
      ]
    },
    {
      "cell_type": "code",
      "metadata": {
        "id": "hYvxBCaEG8mx"
      },
      "source": [
        "# MFI: Money Flow Index\n",
        "def calculate_mfi(df, iteration):\n",
        "    price = (df['close'] + df['high'] + df['low']) / 3\n",
        "    #mf = df['tp'] * df['volume']\n",
        "    mf = price * df['volume']\n",
        "    positive_flow = []\n",
        "    negative_flow = []\n",
        "    positive_mf = []\n",
        "    negative_mf = []\n",
        "    # Loop through typical price calculations\n",
        "    for i in range(1, len(price)):\n",
        "        # If current TP > previous TP, mark as positive flow\n",
        "        if price[i] > price[i-1]:\n",
        "            positive_flow.append(mf[i-1])\n",
        "            negative_flow.append(0)\n",
        "        # If current TP < previous TP, mark as negative flow\n",
        "        elif price[i] < [i-1]:\n",
        "            negative_flow.append(mf[i-1])\n",
        "            positive_flow.append(0)\n",
        "        # If no change, mark both as zero\n",
        "        else:\n",
        "            positive_flow.append(0)\n",
        "            negative_flow.append(0) \n",
        "    for i in range(len(positive_flow) + 1):\n",
        "        positive_mf.append(sum(positive_flow[i+1-11:i+1]))\n",
        "    for i in range(len(negative_flow) + 1):\n",
        "        negative_mf.append(sum(negative_flow[i+1-11:i+1]))\n",
        "    df['MFI_'+str(iteration)] = 100 * (np.array(positive_mf) / (np.array(positive_mf) + np.array(negative_mf)))\n",
        "    #df['MFI_'+str(iteration)] = 100 - (100 / (1 + (np.array(positive_mf) + np.array(negative_mf))))\n",
        "    df['MFI_'+str(iteration)] = df['MFI_'+str(iteration)].fillna(0)"
      ],
      "execution_count": 13,
      "outputs": []
    },
    {
      "cell_type": "markdown",
      "metadata": {
        "id": "juGa3bCHTVmN"
      },
      "source": [
        "# ***BB***: Bollinger Band\n",
        "\n",
        "\n",
        "\n",
        "*   When the bands come close together, constricting the moving average, it is called a squeeze.\n",
        "*   The <font color='red'>mistake</font> most people make is believing that that price hitting or exceeding one of the bands is a signal to buy or sell. \n",
        "*   Breakouts provide <font color='red'>no clue</font> as to the direction and extent of future price movement.\n",
        "*   The upper and lower bands are typically <font color='orange'>2 standard deviations +/-</font> from a 20-day simple moving average, but can be modified.\n",
        "\n",
        "\\begin{equation}\n",
        "BOLU  = MA(TP, n) + m * σ[TP, n]\n",
        "\\end{equation}\n",
        "\n",
        "\\begin{equation}\n",
        "BOLD  = MA(TP, n) - m * σ[TP, n]\n",
        "\\end{equation}\n",
        "\n",
        "\n",
        "\n",
        "*   where:\n",
        "  *   <font color='orange'>BOLU</font> = Upper Bollinger Band\n",
        "  *   <font color='orange'>BOLD</font> = Lower Bollinger Band\n",
        "  *   <font color='orange'>MA</font> = Moving average\n",
        "  *   <font color='orange'>TP</font> (typical price) = (High + Low + Close) ÷ 3\n",
        "  *   <font color='orange'>n</font> = Number of days in smoothing period (typically 20)\n",
        "  *   <font color='orange'>m</font> = Number of standard deviations (typically 2)\n",
        "  *   <font color='orange'>σ[TP,n]</font> = Standard Deviation over last n periods of TP\n",
        "\n",
        "\n",
        "\n",
        "\n"
      ]
    },
    {
      "cell_type": "code",
      "metadata": {
        "id": "H-tbGkBCWwcg"
      },
      "source": [
        "def calculate_bb(df, iteration):\n",
        "    # Creating temporary Dataframe\n",
        "    atr_df = pd.DataFrame()\n",
        "    atr_df['close'] = df['close']\n",
        "    atr_df['MA11'] = df['close'].rolling(window=11).mean()\n",
        "    atr_df['11STD'] = df['close'].rolling(window=11).std()\n",
        "    atr_df['Upper'] = atr_df['MA11'] + (atr_df['11STD'] * 2) # -> Where is this 2 coming from?\n",
        "    atr_df['Lower'] = atr_df['MA11'] - (atr_df['11STD'] * 2)\n",
        "    df['BB_'+str(iteration)] = atr_df[['close','MA11','Upper','Lower']].max(axis=1)\n",
        "    df['BB_'+str(iteration)] = df['BB_'+str(iteration)].fillna(0)\n",
        "    plot_indicators(atr_df, ['Upper', 'Lower', 'MA11'], \"Bollinger Band\", \"Days\")\n"
      ],
      "execution_count": 14,
      "outputs": []
    },
    {
      "cell_type": "markdown",
      "metadata": {
        "id": "_FeI91yt9bvr"
      },
      "source": [
        "# ***ATR***: Average True Range\n",
        "\n",
        "\n",
        "\n",
        "*   A market volatility indicator used in technical analysis\n",
        "*   It is typically derived from the <font color='orange'>14-day</font> simple moving average of a series of true range indicators\n",
        "\n",
        "\n",
        "\\begin{equation}\n",
        "TR  = Max \\Big[ (H-L), ~Abs(H-C_{p}), ~Abs(L-C_{p}) \\Big]\n",
        "\\end{equation}\n",
        "\\begin{equation}\n",
        "ATR  = \\Big( \\frac{1}{n} \\Big) \\sum_{i=1}^{n}{TR_{i}}\n",
        "\\end{equation}\n",
        "\n",
        "*   where:\n",
        "  *   <font color='orange'>$TR_{i}$</font> = A particular true range\n",
        "  *   <font color='orange'>n</font> = The time period employed\n",
        "  *   <font color='orange'>$C_{p}$</font> = Previous Close\n",
        "  *   <font color='orange'>H</font> = Current High\n",
        "  *   <font color='orange'>L</font> = Current Low\n",
        "\n",
        "\n",
        "\n",
        "*   Traders can use <font color='orange'>shorter periods</font> than 14 days to generate more trading signals, while <font color='orange'>longer periods</font> have a higher probability to generate fewer trading signals.\n",
        "*   List item\n",
        "\n",
        "\n",
        "[Investopia Definition](https://www.investopedia.com/terms/a/atr.asp)\n",
        "\n",
        "\n"
      ]
    },
    {
      "cell_type": "code",
      "metadata": {
        "id": "XBP6VqVGK0t6"
      },
      "source": [
        "# ATR: Average True Range\n",
        "def calculate_atr(df, iteration):\n",
        "\n",
        "    if 'ATR_'+str(iteration) in df.columns:\n",
        "        return df['ATR_'+str(iteration)]\n",
        "    else:\n",
        "        data = df.copy()\n",
        "        high = df['high']\n",
        "        low = df['low']\n",
        "        close = df['close']\n",
        "        tr_0 = abs(high - low)\n",
        "        # Creating temporary Dataframe\n",
        "        atr_df = pd.DataFrame()\n",
        "        atr_df['tr0'] = abs(high - low)\n",
        "        atr_df['tr1'] = abs(high - close.shift())\n",
        "        atr_df['tr2'] = abs(low - close.shift())\n",
        "        atr_df['TR'] = atr_df[['tr0', 'tr1', 'tr2']].max(axis=1)\n",
        "        df['ATR_'+str(iteration)] = atr_df['TR'].ewm(alpha=1/11,adjust=False).mean()\n",
        "        df['ATR_'+str(iteration)] = df['ATR_'+str(iteration)].fillna(0)\n",
        "        #print(np.where(df['ATR'] < 0))\n",
        "        return df['ATR_'+str(iteration)]"
      ],
      "execution_count": 15,
      "outputs": []
    },
    {
      "cell_type": "markdown",
      "metadata": {
        "id": "-V-FtN907LSn"
      },
      "source": [
        "# ***KC***: Kelter Channel\n",
        "\n",
        "\n",
        "\n",
        "*   The exponential moving average (EMA) of a Keltner Channel is typically <font color='orange'>20 periods</font>, although this can be adjusted if desired.\n",
        "*   The upper and lower bands are typically set <font color='orange'>two times</font> the average true range (ATR) above and below the EMA, although the multiplier can also be adjusted based on personal preference.\n",
        "*   Price reaching the upper Keltner Channel band is <font color='lightgreen'>bullish</font>, while reaching the lower band is <font color='red'>bearish</font>.\n",
        "*   The angle of the Keltner Channel also aids in identifying the trend direction.\n",
        "\n",
        "\\begin{equation}\n",
        "Keltner ~Channel ~Middle ~Line = EMA\n",
        "\\end{equation}\n",
        "\\begin{equation}\n",
        "Keltner ~Channel ~Upper ~Line = EMA + 2 * ATR\n",
        "\\end{equation}\n",
        "\\begin{equation}\n",
        "Keltner ~Channel ~Lower ~Line = EMA - 2 * ATR\n",
        "\\end{equation}\n",
        "\n",
        "\n",
        "\n",
        "*   where:\n",
        "  *   <font color='orange'>EMA</font> = Exponential moving average (typically over <font color='orange'>20</font> periods)\n",
        "  *   <font color='orange'>ATR</font> = Average True Range (typically over <font color='orange'>10 or 20</font> periods)\n",
        "*   The bands may also not act as support or resistance and they may seem to have little forecasting ability at all. This could be due to the settings chosen, but there is also <font color='red'>no evidence</font> that the price moving two ATRs or hitting one of the bands will result in a trading opportunity or something significant happening.\n",
        "\n",
        "\n",
        "[Investopedia](https://www.investopedia.com/terms/k/keltnerchannel.asp)\n",
        "\n",
        "\n"
      ]
    },
    {
      "cell_type": "code",
      "metadata": {
        "id": "isNTgHLlBGsQ"
      },
      "source": [
        "# KC: Kelter Channel\n",
        "def calculate_kc(df, iteration):\n",
        "    #df['KC'] = df.copy\n",
        "    #KelChM = pd.Series(((df['high'] + df['low'] + df['close']).rolling(11).mean() / 3), name = 'KelChM_' + str(11)) \n",
        "    #KelChU = pd.Series(((4 * df['high'] - 2 * df['low'] + df['close']).rolling(11).mean() / 3), name = 'KelChU_' + str(11))  \n",
        "    #KelChD = pd.Series(((-2 * df['high'] + 4 * df['low'] + df['close']).rolling(11).mean() / 3), name = 'KelChD_' + str(11))\n",
        "    atr = calculate_atr(df, iteration)\n",
        "    temp_df = pd.DataFrame()\n",
        "    temp_df['middle'] = calculate_ema(df, iteration)\n",
        "    temp_df['upper'] = temp_df['middle'] + 2 * atr\n",
        "    temp_df['lower'] = temp_df['middle'] - 2 * atr\n",
        "    df['KC_'+str(iteration)] = temp_df[['middle','upper','lower']].max(axis=1)\n",
        "    df['KC_'+str(iteration)] = df['KC_'+str(iteration)].fillna(0)\n",
        "    #print(np.where(temp_df['middle'] > temp_df['upper']))"
      ],
      "execution_count": null,
      "outputs": []
    },
    {
      "cell_type": "markdown",
      "metadata": {
        "id": "hOx2pesGBS21"
      },
      "source": [
        "# ***DEMA***: Double Exponential Moving Average\n",
        "\n",
        "\n",
        "\n",
        "*   The Double Exponential Moving Average (DEMA) is one that <font color='orange'>responds more quickly</font> to near-term price changes than a normal exponential moving average (EMA)\n",
        "*   The DEMA can be used in the same way as other MAs, as long as the trader understands the indicator will <font color='orange'>react quicker and contain less information</font> since it's been smoothed twice. This may require some alteration of strategies.\n",
        "*   Less lag is <font color='red'>not always</font> a good thing because lag helps <font color='orange'>filter out noise</font>. An indicator with less lag is more prone to reacting to noise or small inconsequential price moves.\n",
        "*   A longer-term time frame DEMA, e.g. over 100 periods, will be slower to react than a shorter-term time frame DEMA, of e.g. 20 periods.\n",
        "\n",
        "\n",
        "\n",
        "\\begin{equation}\n",
        "DEMA = 2 * EMA_{N} - EMA ~of ~EMA_{N}\n",
        "\\end{equation}\n",
        "\n",
        "\n",
        "\n",
        "*   where\n",
        "  *   <font color='orange'>N</font> = Look-back period\n",
        "\n",
        "[Investopedia Definition](https://www.investopedia.com/terms/d/double-exponential-moving-average.asp)\n",
        "\n",
        "\n",
        "\n"
      ]
    },
    {
      "cell_type": "code",
      "metadata": {
        "id": "qKRDCB79FVeE"
      },
      "source": [
        "# DEMA: Double Exponential Moving Average\n",
        "def calculate_dema(df, iteration):\n",
        "    multiplier = (2/(11+1))\n",
        "    dema_1 = sum(df['close'],11)\n",
        "    df['DEMA_'+str(iteration)] = (df['close'] * multiplier) + (dema_1 * (1-multiplier))\n",
        "    df['DEMA_'+str(iteration)] = df['DEMA_'+str(iteration)].fillna(0)"
      ],
      "execution_count": null,
      "outputs": []
    },
    {
      "cell_type": "markdown",
      "metadata": {
        "id": "1uYySVkhFZSZ"
      },
      "source": [
        "# ***CCI***: Commodity Channel Index\n",
        "\n",
        "\n",
        "\n",
        "*   The Commodity Channel Index (CCI) is a technical indicator that measures the difference between the current price and the historical average price.\n",
        "*   When the CCI is above zero, it indicates the price is above the historic average. Conversely, when the CCI is below zero, the price is below the historic average.\n",
        "*   The CCI is an unbounded oscillator, meaning it can go higher or lower indefinitely. For this reason, overbought and oversold levels are typically determined for each individual asset by looking at historical extreme CCI levels where the price reversed from.\n",
        "*   When the CCI moves from negative or near-zero territory to <font color='orange'>above 100</font>, that may indicate the price is starting a new uptrend. Once this occurs, traders can watch for a pullback in price followed by a rally in both price and the CCI to signal a <font color='orange'>buying</font> opportunity.\n",
        "*   The same concept applies to an emerging downtrend. When the indicator goes from positive or near-zero readings to <font color='orange'>below -100</font>, then a downtrend may be starting. This is a signal to get out of longs or to start watching for <font color='orange'>shorting</font> opportunities.\n",
        "\n",
        "\\begin{equation}\n",
        "DEMA = \\frac{Typical ~Price - MA}{0.015 * Mean ~Deviation}\n",
        "\\end{equation}\n",
        "\n",
        "*   where:\n",
        "  *   <font color='orange'>Typical Price</font> = $\\sum_{i=1}^{P}{\\Big(\\frac{High + Low + Close}{3}\\Big)}$\n",
        "  *   <font color='orange'>P</font> = Number of periods\n",
        "  *   <font color='orange'>MA</font> = Moving Average\n",
        "  *   <font color='orange'>Moving Average</font> = $\\frac{\\Big(\\sum_{i=1}^{P}{Typical Price}\\Big)}{P}$\n",
        "  *   <font color='orange'>Mean Deviation</font> = $\\frac{\\Big(\\sum_{i=1}^{P}{|Typical ~Price - MA|}\\Big)}{P}$\n",
        "\n",
        "[Investopedia Definition](https://www.investopedia.com/terms/c/commoditychannelindex.asp)\n",
        "\n",
        "\n",
        "\n"
      ]
    },
    {
      "cell_type": "code",
      "metadata": {
        "id": "-gFmuQOHNHId"
      },
      "source": [
        "# CCI: Commodity Channel Index\n",
        "def calculate_cci(df, iteration):\n",
        "    typical_price = (df['high'] + df['low'] + df['close']) / 3\n",
        "    df['CCI_'+str(iteration)] = ((typical_price - typical_price.rolling(11).mean())/ (0.015 * typical_price.rolling(11).std()))\n",
        "    df['CCI_'+str(iteration)] = df['CCI_'+str(iteration)].fillna(0)"
      ],
      "execution_count": null,
      "outputs": []
    },
    {
      "cell_type": "code",
      "metadata": {
        "id": "SUOEDzKgl_9k"
      },
      "source": [
        "# EMV: Ease of Movement Volume\n",
        "def calculate_emv(df, iteration):\n",
        "    distance_moved = ((df['high'] + df['low'])/2) - ((df['high'].shift(1) + df['low'].shift(1))/2)\n",
        "    box_ratio = (df['volume'] / 100000000) / ((df['high'] - df['low']))\n",
        "    df['EVM_'+str(iteration)] = distance_moved / box_ratio \n",
        "    df['EVM_'+str(iteration)] = df['EVM_'+str(iteration)].fillna(0)\n",
        "\n",
        "\n",
        "# FI: Force Index\n",
        "def calculate_fi(df, iteration):\n",
        "    df['FI_'+str(iteration)] = df['close'].diff(11) * df['volume']\n",
        "    df['FI_'+str(iteration)] = df['FI_'+str(iteration)].fillna(0)\n",
        "\n",
        "\n",
        "# ROC: Price Rate of Change\n",
        "def calculate_roc(df, iteration):\n",
        "    N = df['close'].diff(11)\n",
        "    D = df['close'].shift(11)\n",
        "    df['ROC_'+str(iteration)] = N / D\n",
        "    df['ROC_'+str(iteration)] = df['ROC_'+str(iteration)].fillna(0)\n",
        "\n",
        "\n",
        "# OBV: On-Balance Volume\n",
        "def calculate_obv(df, iteration):\n",
        "    df['OBV_'+str(iteration)] = np.where(df['close'] > df['close'].shift(1), df['volume'], np.where(df['close'] < df['close'].shift(1), -df['volume'],0)).cumsum()\n",
        "    df['OBV_'+str(iteration)] = df['OBV_'+str(iteration)].fillna(0)"
      ],
      "execution_count": 16,
      "outputs": []
    },
    {
      "cell_type": "code",
      "metadata": {
        "id": "3Ia0mFbwhaV-"
      },
      "source": [
        "#calculate_kc(df)"
      ],
      "execution_count": 17,
      "outputs": []
    },
    {
      "cell_type": "markdown",
      "metadata": {
        "id": "EphNOjiG47al"
      },
      "source": [
        "# Run all Technical Indicator methods"
      ]
    },
    {
      "cell_type": "code",
      "metadata": {
        "id": "2qRx19uZ4yWi",
        "colab": {
          "base_uri": "https://localhost:8080/",
          "height": 562
        },
        "outputId": "7ba0f0ad-0f38-4884-f668-b484bed4dfbf"
      },
      "source": [
        "indicator_range = 26\n",
        "\n",
        "# for x in range(1, indicator_range+1):\n",
        "#     calculate_macd(df, x)\n",
        "#     calculate_rsi(df, x)\n",
        "#     calculate_sr(df, x)\n",
        "#     calculate_WR(df, x)\n",
        "#     calculate_ema(df, x)\n",
        "#     calculate_mfi(df, x)\n",
        "#     calculate_bb(df, x)\n",
        "#     calculate_atr(df, x)\n",
        "#     calculate_kc(df, x)\n",
        "#     calculate_dema(df, x)\n",
        "#     calculate_cci(df, x)\n",
        "#     calculate_emv(df, x)\n",
        "#     calculate_fi(df, x)\n",
        "#     calculate_roc(df, x)\n",
        "#     calculate_obv(df, x)\n",
        "\n",
        "for x in range(1, indicator_range+1):\n",
        "    calculate_macd(df, x)\n",
        "for x in range(6, indicator_range+1):\n",
        "    calculate_rsi(df, x)\n",
        "for x in range(1, indicator_range+1):\n",
        "    calculate_sr(df, x)\n",
        "for x in range(1, indicator_range+1):\n",
        "    calculate_WR(df, x)\n",
        "for x in range(1, indicator_range+1):\n",
        "    calculate_ema(df, x)\n",
        "for x in range(1, indicator_range+1):\n",
        "    calculate_mfi(df, x)\n",
        "for x in range(1, 2):\n",
        "    calculate_bb(df, x)\n",
        "for x in range(1, indicator_range+1):\n",
        "    calculate_atr(df, x)\n",
        "for x in range(1, indicator_range+1):\n",
        "    calculate_kc(df, x)\n",
        "for x in range(1, indicator_range+1):\n",
        "    calculate_dema(df, x)\n",
        "for x in range(1, indicator_range+1):\n",
        "    calculate_cci(df, x)\n",
        "for x in range(1, indicator_range+1):\n",
        "    calculate_emv(df, x)\n",
        "for x in range(1, indicator_range+1):\n",
        "    calculate_fi(df, x)\n",
        "for x in range(1, indicator_range+1):\n",
        "    calculate_roc(df, x)\n",
        "for x in range(1, indicator_range+1):\n",
        "    calculate_obv(df, x)"
      ],
      "execution_count": 18,
      "outputs": [
        {
          "output_type": "stream",
          "text": [
            "/usr/local/lib/python3.7/dist-packages/ipykernel_launcher.py:28: RuntimeWarning: invalid value encountered in true_divide\n"
          ],
          "name": "stderr"
        },
        {
          "output_type": "display_data",
          "data": {
            "text/plain": [
              "<Figure size 864x576 with 0 Axes>"
            ]
          },
          "metadata": {
            "tags": []
          }
        },
        {
          "output_type": "display_data",
          "data": {
            "image/png": "[encoded data removed]",
            "text/plain": [
              "<Figure size 864x576 with 1 Axes>"
            ]
          },
          "metadata": {
            "tags": []
          }
        }
      ]
    },
    {
      "cell_type": "markdown",
      "metadata": {
        "id": "ecdJ54mz5Eub"
      },
      "source": [
        "# Plot charts for Technical Indicators"
      ]
    },
    {
      "cell_type": "code",
      "metadata": {
        "id": "KyJQ-qxy4xM9",
        "colab": {
          "base_uri": "https://localhost:8080/",
          "height": 528
        },
        "outputId": "3bd83d94-bd63-4c35-d3eb-ea181702db0a"
      },
      "source": [
        "\n",
        "#plot_indicators(df, ['MACD_1'], \"MACD\", \"Days\")\n",
        "#plot_indicators(df, [\"EMA_10\", \"close\"], \"EMA\", \"Days\")\n",
        "#plot_indicators(df, \"RSI_26\", \"RSI\", \"Days\")\n",
        "plot_indicators(df, \"ATR_10\", \"ATR\", \"Days\")"
      ],
      "execution_count": 19,
      "outputs": [
        {
          "output_type": "display_data",
          "data": {
            "image/png": "[encoded data removed]",
            "text/plain": [
              "<Figure size 864x576 with 1 Axes>"
            ]
          },
          "metadata": {
            "tags": []
          }
        }
      ]
    },
    {
      "cell_type": "markdown",
      "metadata": {
        "id": "L45HR25Kxn2P"
      },
      "source": [
        "# Normalization of the Data"
      ]
    },
    {
      "cell_type": "code",
      "metadata": {
        "id": "QPQJTRfMw6w0",
        "colab": {
          "base_uri": "https://localhost:8080/"
        },
        "outputId": "75bf4624-6835-450e-ec32-73ae0465bc33"
      },
      "source": [
        "from sklearn.preprocessing import MinMaxScaler, OneHotEncoder\n",
        "from sklearn.model_selection import train_test_split\n",
        "from collections import Counter\n",
        "\n",
        "pd.options.display.max_columns = 20\n",
        "\n",
        "#print(df.columns)\n",
        "#list_features = list(df.loc[:, 'open': 'OBV_'+str(indicator_range)].columns) # Gets the names of all the columns from MACD to RSI\n",
        "list_features = list(df.loc[:, ~df.columns.isin(['timestamps', 'labels'])].columns)\n",
        "print('Total number of features', len(list_features))\n",
        "print(\"Columns:\", list_features)\n",
        "\n",
        "\n",
        "# df.loc[:, 'MACD':'RSI'].values: -> Data used to create 'x_train' and 'x_test'\n",
        "# df['labels'].values: -> Data used to create 'y_train' and 'y_test'\n",
        "#print(df.loc[:, 'MACD':'OBV'])\n",
        "x_train, x_test, y_train, y_test = train_test_split(df.loc[:, 'open': 'OBV_'+str(indicator_range)].values, df['labels'].values, train_size=0.8, test_size=0.2, random_state=2, shuffle=True, stratify=df['labels'].values)\n",
        "\n",
        "if 0.7*x_train.shape[0] < 2500:\n",
        "    # If training dataset is small, it increases the percentage of training\n",
        "    train_split = 0.8\n",
        "else:\n",
        "    train_split = 0.7\n",
        "\n",
        "print('train_split =', train_split)\n",
        "x_train, x_cv, y_train, y_cv = train_test_split(x_train, y_train, train_size=train_split, test_size=1-train_split, \n",
        "                                                random_state=2, shuffle=True, stratify=y_train)\n",
        "\n",
        "mm_scaler = MinMaxScaler(feature_range=(0, 1)) # or StandardScaler?\n",
        "#print(x_train[0])\n",
        "x_train = mm_scaler.fit_transform(x_train)\n",
        "x_cv = mm_scaler.transform(x_cv)\n",
        "x_test = mm_scaler.transform(x_test)\n",
        "\n",
        "print(\"Shape of x, y train/cv/test {} {} {} {} {} {}\".format(x_train.shape, y_train.shape, x_cv.shape, y_cv.shape, x_test.shape, y_test.shape))\n"
      ],
      "execution_count": 20,
      "outputs": [
        {
          "output_type": "stream",
          "text": [
            "Total number of features 365\n",
            "Columns: ['open', 'high', 'low', 'close', 'volume', 'MACD_1', 'MACD_2', 'MACD_3', 'MACD_4', 'MACD_5', 'MACD_6', 'MACD_7', 'MACD_8', 'MACD_9', 'MACD_10', 'MACD_11', 'MACD_12', 'MACD_13', 'MACD_14', 'MACD_15', 'MACD_16', 'MACD_17', 'MACD_18', 'MACD_19', 'MACD_20', 'MACD_21', 'MACD_22', 'MACD_23', 'MACD_24', 'MACD_25', 'MACD_26', 'RSI_6', 'RSI_7', 'RSI_8', 'RSI_9', 'RSI_10', 'RSI_11', 'RSI_12', 'RSI_13', 'RSI_14', 'RSI_15', 'RSI_16', 'RSI_17', 'RSI_18', 'RSI_19', 'RSI_20', 'RSI_21', 'RSI_22', 'RSI_23', 'RSI_24', 'RSI_25', 'RSI_26', '%D_1', '%D_2', '%D_3', '%D_4', '%D_5', '%D_6', '%D_7', '%D_8', '%D_9', '%D_10', '%D_11', '%D_12', '%D_13', '%D_14', '%D_15', '%D_16', '%D_17', '%D_18', '%D_19', '%D_20', '%D_21', '%D_22', '%D_23', '%D_24', '%D_25', '%D_26', 'WR_1', 'WR_2', 'WR_3', 'WR_4', 'WR_5', 'WR_6', 'WR_7', 'WR_8', 'WR_9', 'WR_10', 'WR_11', 'WR_12', 'WR_13', 'WR_14', 'WR_15', 'WR_16', 'WR_17', 'WR_18', 'WR_19', 'WR_20', 'WR_21', 'WR_22', 'WR_23', 'WR_24', 'WR_25', 'WR_26', 'EMA_1', 'EMA_2', 'EMA_3', 'EMA_4', 'EMA_5', 'EMA_6', 'EMA_7', 'EMA_8', 'EMA_9', 'EMA_10', 'EMA_11', 'EMA_12', 'EMA_13', 'EMA_14', 'EMA_15', 'EMA_16', 'EMA_17', 'EMA_18', 'EMA_19', 'EMA_20', 'EMA_21', 'EMA_22', 'EMA_23', 'EMA_24', 'EMA_25', 'EMA_26', 'MFI_1', 'MFI_2', 'MFI_3', 'MFI_4', 'MFI_5', 'MFI_6', 'MFI_7', 'MFI_8', 'MFI_9', 'MFI_10', 'MFI_11', 'MFI_12', 'MFI_13', 'MFI_14', 'MFI_15', 'MFI_16', 'MFI_17', 'MFI_18', 'MFI_19', 'MFI_20', 'MFI_21', 'MFI_22', 'MFI_23', 'MFI_24', 'MFI_25', 'MFI_26', 'BB_1', 'ATR_1', 'ATR_2', 'ATR_3', 'ATR_4', 'ATR_5', 'ATR_6', 'ATR_7', 'ATR_8', 'ATR_9', 'ATR_10', 'ATR_11', 'ATR_12', 'ATR_13', 'ATR_14', 'ATR_15', 'ATR_16', 'ATR_17', 'ATR_18', 'ATR_19', 'ATR_20', 'ATR_21', 'ATR_22', 'ATR_23', 'ATR_24', 'ATR_25', 'ATR_26', 'KC_1', 'KC_2', 'KC_3', 'KC_4', 'KC_5', 'KC_6', 'KC_7', 'KC_8', 'KC_9', 'KC_10', 'KC_11', 'KC_12', 'KC_13', 'KC_14', 'KC_15', 'KC_16', 'KC_17', 'KC_18', 'KC_19', 'KC_20', 'KC_21', 'KC_22', 'KC_23', 'KC_24', 'KC_25', 'KC_26', 'DEMA_1', 'DEMA_2', 'DEMA_3', 'DEMA_4', 'DEMA_5', 'DEMA_6', 'DEMA_7', 'DEMA_8', 'DEMA_9', 'DEMA_10', 'DEMA_11', 'DEMA_12', 'DEMA_13', 'DEMA_14', 'DEMA_15', 'DEMA_16', 'DEMA_17', 'DEMA_18', 'DEMA_19', 'DEMA_20', 'DEMA_21', 'DEMA_22', 'DEMA_23', 'DEMA_24', 'DEMA_25', 'DEMA_26', 'CCI_1', 'CCI_2', 'CCI_3', 'CCI_4', 'CCI_5', 'CCI_6', 'CCI_7', 'CCI_8', 'CCI_9', 'CCI_10', 'CCI_11', 'CCI_12', 'CCI_13', 'CCI_14', 'CCI_15', 'CCI_16', 'CCI_17', 'CCI_18', 'CCI_19', 'CCI_20', 'CCI_21', 'CCI_22', 'CCI_23', 'CCI_24', 'CCI_25', 'CCI_26', 'EVM_1', 'EVM_2', 'EVM_3', 'EVM_4', 'EVM_5', 'EVM_6', 'EVM_7', 'EVM_8', 'EVM_9', 'EVM_10', 'EVM_11', 'EVM_12', 'EVM_13', 'EVM_14', 'EVM_15', 'EVM_16', 'EVM_17', 'EVM_18', 'EVM_19', 'EVM_20', 'EVM_21', 'EVM_22', 'EVM_23', 'EVM_24', 'EVM_25', 'EVM_26', 'FI_1', 'FI_2', 'FI_3', 'FI_4', 'FI_5', 'FI_6', 'FI_7', 'FI_8', 'FI_9', 'FI_10', 'FI_11', 'FI_12', 'FI_13', 'FI_14', 'FI_15', 'FI_16', 'FI_17', 'FI_18', 'FI_19', 'FI_20', 'FI_21', 'FI_22', 'FI_23', 'FI_24', 'FI_25', 'FI_26', 'ROC_1', 'ROC_2', 'ROC_3', 'ROC_4', 'ROC_5', 'ROC_6', 'ROC_7', 'ROC_8', 'ROC_9', 'ROC_10', 'ROC_11', 'ROC_12', 'ROC_13', 'ROC_14', 'ROC_15', 'ROC_16', 'ROC_17', 'ROC_18', 'ROC_19', 'ROC_20', 'ROC_21', 'ROC_22', 'ROC_23', 'ROC_24', 'ROC_25', 'ROC_26', 'OBV_1', 'OBV_2', 'OBV_3', 'OBV_4', 'OBV_5', 'OBV_6', 'OBV_7', 'OBV_8', 'OBV_9', 'OBV_10', 'OBV_11', 'OBV_12', 'OBV_13', 'OBV_14', 'OBV_15', 'OBV_16', 'OBV_17', 'OBV_18', 'OBV_19', 'OBV_20', 'OBV_21', 'OBV_22', 'OBV_23', 'OBV_24', 'OBV_25', 'OBV_26']\n",
            "train_split = 0.8\n",
            "Shape of x, y train/cv/test (804, 366) (804,) (202, 366) (202,) (252, 366) (252,)\n"
          ],
          "name": "stdout"
        }
      ]
    },
    {
      "cell_type": "markdown",
      "metadata": {
        "id": "SkXhGMRnYEDY"
      },
      "source": [
        "# Feature Selection\n",
        "\n",
        "*3rd deviation from original paper*"
      ]
    },
    {
      "cell_type": "code",
      "metadata": {
        "id": "7hPK9W1cYG1g",
        "colab": {
          "base_uri": "https://localhost:8080/"
        },
        "outputId": "91e4d1cc-2696-4029-bd84-6a707362ddca"
      },
      "source": [
        "from operator import itemgetter\n",
        "from sklearn.feature_selection import SelectKBest, f_classif, mutual_info_classif\n",
        "\n",
        "num_features = 225  # should be a perfect square\n",
        "selection_method = 'anova'\n",
        "topk = 320 if selection_method == 'all' else num_features\n",
        "\n",
        "if selection_method == 'anova' or selection_method == 'all':\n",
        "    select_k_best = SelectKBest(f_classif, k=topk)\n",
        "    if selection_method != 'all':\n",
        "        x_train = select_k_best.fit_transform(x_train, y_train)\n",
        "        x_cv = select_k_best.transform(x_cv)\n",
        "        x_test = select_k_best.transform(x_test)\n",
        "    else:\n",
        "        select_k_best.fit(x_train, y_train)\n",
        "    \n",
        "    selected_features_anova = itemgetter(*select_k_best.get_support(indices=True))(list_features)\n",
        "    print(selected_features_anova)\n",
        "    print(select_k_best.get_support(indices=True))\n",
        "    print(\"****************************************\")\n",
        "\n",
        "if selection_method == 'mutual_info' or selection_method == 'all':\n",
        "    select_k_best = SelectKBest(mutual_info_classif, k=topk)\n",
        "    if selection_method != 'all':\n",
        "        x_train = select_k_best.fit_transform(x_train, y_train)\n",
        "        x_cv = select_k_best.transform(x_cv)\n",
        "        x_test = select_k_best.transform(x_test)\n",
        "    else:\n",
        "        select_k_best.fit(x_train, y_train)\n",
        "\n",
        "    selected_features_mic = itemgetter(*select_k_best.get_support(indices=True))(list_features)\n",
        "    print(len(selected_features_mic), selected_features_mic)\n",
        "    print(select_k_best.get_support(indices=True))\n",
        "\n",
        "if selection_method == 'all':\n",
        "    common = list(set(selected_features_anova).intersection(selected_features_mic))\n",
        "    print(\"common selected featues\", len(common), common)\n",
        "    if len(common) < num_features:\n",
        "        raise Exception('number of common features found {} < {} required features. Increase \"topk variable\"'.format(len(common), num_features))\n",
        "    feat_idx = []\n",
        "    for c in common:\n",
        "        feat_idx.append(list_features.index(c))\n",
        "    feat_idx = sorted(feat_idx[0:225])\n",
        "    print(feat_idx)  # x_train[:, feat_idx] will give you training data with desired features"
      ],
      "execution_count": 21,
      "outputs": [
        {
          "output_type": "stream",
          "text": [
            "('volume', 'MACD_1', 'MACD_8', 'MACD_9', 'MACD_10', 'MACD_11', 'MACD_12', 'MACD_13', 'MACD_14', 'MACD_15', 'MACD_16', 'MACD_17', 'MACD_18', 'MACD_19', 'MACD_20', 'MACD_21', 'MACD_22', 'MACD_23', 'MACD_24', 'MACD_25', 'MACD_26', 'RSI_6', 'RSI_7', 'RSI_8', 'RSI_9', 'RSI_10', 'RSI_11', 'RSI_12', 'RSI_13', 'RSI_14', 'RSI_15', 'RSI_16', 'RSI_17', 'RSI_18', 'RSI_19', 'RSI_20', 'RSI_21', 'RSI_22', 'RSI_23', 'RSI_24', 'RSI_25', 'RSI_26', '%D_1', '%D_2', '%D_3', '%D_4', '%D_5', '%D_6', '%D_7', '%D_8', '%D_9', '%D_10', '%D_11', '%D_12', '%D_13', '%D_14', '%D_15', '%D_16', '%D_17', '%D_18', '%D_19', '%D_20', '%D_21', '%D_22', '%D_23', '%D_24', '%D_25', '%D_26', 'WR_1', 'WR_2', 'WR_3', 'WR_4', 'WR_5', 'WR_6', 'WR_7', 'WR_8', 'WR_9', 'WR_10', 'WR_11', 'WR_12', 'WR_13', 'WR_14', 'WR_15', 'WR_16', 'WR_17', 'WR_18', 'WR_19', 'WR_20', 'WR_21', 'WR_22', 'WR_23', 'WR_24', 'WR_25', 'WR_26', 'EMA_1', 'MFI_2', 'MFI_3', 'MFI_4', 'MFI_5', 'MFI_6', 'MFI_7', 'MFI_8', 'MFI_9', 'MFI_10', 'MFI_11', 'MFI_12', 'MFI_13', 'MFI_14', 'MFI_15', 'MFI_16', 'MFI_17', 'MFI_18', 'MFI_19', 'MFI_20', 'MFI_21', 'MFI_22', 'MFI_23', 'MFI_24', 'MFI_25', 'MFI_26', 'BB_1', 'CCI_2', 'CCI_3', 'CCI_4', 'CCI_5', 'CCI_6', 'CCI_7', 'CCI_8', 'CCI_9', 'CCI_10', 'CCI_11', 'CCI_12', 'CCI_13', 'CCI_14', 'CCI_15', 'CCI_16', 'CCI_17', 'CCI_18', 'CCI_19', 'CCI_20', 'CCI_21', 'CCI_22', 'CCI_23', 'CCI_24', 'CCI_25', 'CCI_26', 'EVM_1', 'EVM_2', 'EVM_3', 'EVM_4', 'EVM_5', 'EVM_6', 'EVM_7', 'EVM_8', 'EVM_9', 'EVM_10', 'EVM_11', 'EVM_12', 'EVM_13', 'EVM_14', 'EVM_15', 'EVM_16', 'EVM_17', 'EVM_18', 'EVM_19', 'EVM_20', 'EVM_21', 'EVM_22', 'EVM_23', 'EVM_24', 'EVM_25', 'EVM_26', 'FI_1', 'FI_2', 'FI_3', 'FI_4', 'FI_5', 'FI_6', 'FI_7', 'FI_8', 'FI_9', 'FI_10', 'FI_11', 'FI_12', 'FI_13', 'FI_14', 'FI_15', 'FI_16', 'FI_17', 'FI_18', 'FI_19', 'FI_20', 'FI_21', 'FI_22', 'FI_23', 'FI_24', 'FI_25', 'FI_26', 'ROC_1', 'ROC_2', 'ROC_3', 'ROC_4', 'ROC_5', 'ROC_6', 'ROC_7', 'ROC_8', 'ROC_9', 'ROC_10', 'ROC_11', 'ROC_12', 'ROC_13', 'ROC_14', 'ROC_15', 'ROC_16', 'ROC_17', 'ROC_18', 'ROC_19', 'ROC_20', 'ROC_21', 'ROC_22', 'ROC_23', 'ROC_24', 'ROC_25', 'ROC_26', 'OBV_1')\n",
            "[  4   5  12  13  14  15  16  17  18  19  20  21  22  23  24  25  26  27\n",
            "  28  29  30  31  32  33  34  35  36  37  38  39  40  41  42  43  44  45\n",
            "  46  47  48  49  50  51  52  53  54  55  56  57  58  59  60  61  62  63\n",
            "  64  65  66  67  68  69  70  71  72  73  74  75  76  77  78  79  80  81\n",
            "  82  83  84  85  86  87  88  89  90  91  92  93  94  95  96  97  98  99\n",
            " 100 101 102 103 104 131 132 133 134 135 136 137 138 139 140 141 142 143\n",
            " 144 145 146 147 148 149 150 151 152 153 154 155 156 236 237 238 239 240\n",
            " 241 242 243 244 245 246 247 248 249 250 251 252 253 254 255 256 257 258\n",
            " 259 260 261 262 263 264 265 266 267 268 269 270 271 272 273 274 275 276\n",
            " 277 278 279 280 281 282 283 284 285 286 287 288 289 290 291 292 293 294\n",
            " 295 296 297 298 299 300 301 302 303 304 305 306 307 308 309 310 311 312\n",
            " 313 314 315 316 317 318 319 320 321 322 323 324 325 326 327 328 329 330\n",
            " 331 332 333 334 335 336 337 338 339]\n",
            "****************************************\n"
          ],
          "name": "stdout"
        },
        {
          "output_type": "stream",
          "text": [
            "/usr/local/lib/python3.7/dist-packages/sklearn/feature_selection/_univariate_selection.py:115: RuntimeWarning: divide by zero encountered in true_divide\n",
            "  f = msb / msw\n"
          ],
          "name": "stderr"
        }
      ]
    },
    {
      "cell_type": "markdown",
      "metadata": {
        "id": "ucy3bKUvl59A"
      },
      "source": [
        "# Method: *reshape_as_image*"
      ]
    },
    {
      "cell_type": "code",
      "metadata": {
        "id": "K445BjAhl4vN"
      },
      "source": [
        "def reshape_as_image(x, img_width, img_height):\n",
        "    x_temp = np.zeros((len(x), img_height, img_width))\n",
        "    for i in range(x.shape[0]):\n",
        "        # print(type(x), type(x_temp), x.shape)\n",
        "        x_temp[i] = np.reshape(x[i], (img_height, img_width))\n",
        "\n",
        "    return x_temp"
      ],
      "execution_count": 22,
      "outputs": []
    },
    {
      "cell_type": "markdown",
      "metadata": {
        "id": "nuWrutaAZbue"
      },
      "source": [
        "# Reshaping the Data as an Image"
      ]
    },
    {
      "cell_type": "code",
      "metadata": {
        "id": "zjAWilNuZk8d",
        "colab": {
          "base_uri": "https://localhost:8080/"
        },
        "outputId": "a7ae0c80-e212-4d57-cd91-fcef00bfb7af"
      },
      "source": [
        "dim = int(np.sqrt(num_features))\n",
        "x_train = reshape_as_image(x_train, dim, dim)\n",
        "x_cv = reshape_as_image(x_cv, dim, dim)\n",
        "x_test = reshape_as_image(x_test, dim, dim)\n",
        "# adding a 1-dim for channels (3)\n",
        "x_train = np.stack((x_train,) * 3, axis=-1)\n",
        "x_test = np.stack((x_test,) * 3, axis=-1)\n",
        "x_cv = np.stack((x_cv,) * 3, axis=-1)\n",
        "print(\"final shape of x, y train/test {} {} {} {}\".format(x_train.shape, y_train.shape, x_test.shape, y_test.shape))\n",
        "print(\"x_cv shape:\", x_cv.shape)"
      ],
      "execution_count": 23,
      "outputs": [
        {
          "output_type": "stream",
          "text": [
            "final shape of x, y train/test (804, 15, 15, 3) (804,) (252, 15, 15, 3) (252,)\n",
            "x_cv shape: (202, 15, 15, 3)\n"
          ],
          "name": "stdout"
        }
      ]
    },
    {
      "cell_type": "code",
      "metadata": {
        "id": "VlMh9syXpFen",
        "colab": {
          "base_uri": "https://localhost:8080/",
          "height": 0
        },
        "outputId": "732b61f4-90d8-4e5a-bab8-68a39ddf16c4"
      },
      "source": [
        "fig = plt.figure(figsize=(15, 15))\n",
        "columns = rows = 3\n",
        "for i in range(1, columns*rows +1):\n",
        "    index = np.random.randint(len(x_train))\n",
        "    img = x_train[index]\n",
        "    fig.add_subplot(rows, columns, i)\n",
        "    plt.axis(\"off\")\n",
        "    plt.title('image_'+str(index)+'_class_'+str(np.argmax(y_train[index])), fontsize=10)\n",
        "    plt.subplots_adjust(wspace=0.2, hspace=0.2)\n",
        "    plt.imshow(img)\n",
        "plt.show()"
      ],
      "execution_count": 24,
      "outputs": [
        {
          "output_type": "display_data",
          "data": {
            "image/png": "[encoded data removed]",
            "text/plain": [
              "<Figure size 1080x1080 with 9 Axes>"
            ]
          },
          "metadata": {
            "tags": []
          }
        }
      ]
    },
    {
      "cell_type": "markdown",
      "metadata": {
        "id": "rrjAwx_0bjko"
      },
      "source": [
        "# Current Class Imbalance\n",
        "\n",
        "Sell = 0, Buy = 1, Hold = 2"
      ]
    },
    {
      "cell_type": "code",
      "metadata": {
        "id": "X9Cc9hzSaJ0W",
        "colab": {
          "base_uri": "https://localhost:8080/"
        },
        "outputId": "092f22e9-7347-4f80-d5ae-78dc86c4cc32"
      },
      "source": [
        "class_labels, class_count = np.unique(y_train, return_counts=True)\n",
        "print(\"percentage of class 0 = {:.3f}%, class 1 = {:.3f}%, class 2 = {:.3f}%\".format(class_count[0]/len(y_train)*100, class_count[1]/len(y_train)*100, class_count[2]/len(y_train)*100))"
      ],
      "execution_count": 25,
      "outputs": [
        {
          "output_type": "stream",
          "text": [
            "percentage of class 0 = 6.716%, class 1 = 5.473%, class 2 = 87.811%\n"
          ],
          "name": "stdout"
        }
      ]
    },
    {
      "cell_type": "code",
      "metadata": {
        "colab": {
          "base_uri": "https://localhost:8080/"
        },
        "id": "iAW2HloHFSeV",
        "outputId": "273e6c41-73d5-4de4-9739-3ce7ef23676f"
      },
      "source": [
        "print(x_train[0].shape[0])\n",
        "print(x_train[0].shape[1])\n",
        "print(x_train[0].shape[2])\n",
        "print(x_train.shape)"
      ],
      "execution_count": 26,
      "outputs": [
        {
          "output_type": "stream",
          "text": [
            "15\n",
            "15\n",
            "3\n",
            "(804, 15, 15, 3)\n"
          ],
          "name": "stdout"
        }
      ]
    },
    {
      "cell_type": "markdown",
      "metadata": {
        "id": "Kj-KwzWUzqIZ"
      },
      "source": [
        "# Building Convolutional Neural Network"
      ]
    },
    {
      "cell_type": "code",
      "metadata": {
        "id": "Ra-ldu8Pzpvo"
      },
      "source": [
        "import numpy as np\n",
        "from tensorflow import keras\n",
        "from tensorflow.keras.models import Sequential\n",
        "from tensorflow.keras.layers import Activation, Dense, Flatten, BatchNormalization, Conv2D, MaxPool2D, Dropout\n",
        "from tensorflow.keras.optimizers import Adam\n",
        "from tensorflow.keras.metrics import categorical_crossentropy\n",
        "from tensorflow.keras import regularizers\n",
        "\n",
        "model = Sequential([\n",
        "    Conv2D(filters=32, \n",
        "           kernel_size=3, \n",
        "           strides=1, \n",
        "           kernel_regularizer=regularizers.l2(0.0), \n",
        "           padding='same', \n",
        "           activation='relu', \n",
        "           use_bias=True,\n",
        "           kernel_initializer='glorot_uniform',\n",
        "           input_shape=(x_train[0].shape[0], x_train[0].shape[1], x_train[0].shape[2])),\n",
        "    Dropout(rate=0.2),\n",
        "    Conv2D(filters=64, \n",
        "           kernel_size=3, \n",
        "           strides=2, \n",
        "           kernel_regularizer=regularizers.l2(0.0), \n",
        "           padding='same', \n",
        "           activation='relu', \n",
        "           use_bias=True, \n",
        "           kernel_initializer='glorot_uniform'),\n",
        "    MaxPool2D(pool_size=2),\n",
        "    Dropout(0.3),\n",
        "    Flatten(),\n",
        "    Dense(units=128, \n",
        "          activation='relu'),\n",
        "    Dropout(rate=0.3),\n",
        "    Dense(units=3, activation='softmax')\n",
        "])"
      ],
      "execution_count": 27,
      "outputs": []
    },
    {
      "cell_type": "code",
      "metadata": {
        "id": "GD5tyLw98KYu"
      },
      "source": [
        "from tensorflow.keras import backend as K\n",
        "\n",
        "def f1_metric(y_true, y_pred):\n",
        "    \"\"\"\n",
        "    this calculates precision & recall \n",
        "    \"\"\"\n",
        "\n",
        "    def recall(y_true, y_pred):\n",
        "        true_positives = K.sum(K.round(K.clip(y_true * y_pred, 0, 1)))  # mistake: y_pred of 0.3 is also considered 1\n",
        "        possible_positives = K.sum(K.round(K.clip(y_true, 0, 1)))\n",
        "        recall = true_positives / (possible_positives + K.epsilon())\n",
        "        return recall\n",
        "\n",
        "    def precision(y_true, y_pred):\n",
        "        true_positives = K.sum(K.round(K.clip(y_true * y_pred, 0, 1)))\n",
        "        predicted_positives = K.sum(K.round(K.clip(y_pred, 0, 1)))\n",
        "        precision = true_positives / (predicted_positives + K.epsilon())\n",
        "        return precision\n",
        "\n",
        "    precision = precision(y_true, y_pred)\n",
        "    recall = recall(y_true, y_pred)\n",
        "    # y_true_class = tf.math.argmax(y_true, axis=1, output_type=tf.dtypes.int32)\n",
        "    # y_pred_class = tf.math.argmax(y_pred, axis=1, output_type=tf.dtypes.int32)\n",
        "    # conf_mat = tf.math.confusion_matrix(y_true_class, y_pred_class)\n",
        "    # tf.Print(conf_mat, [conf_mat], \"confusion_matrix\")\n",
        "\n",
        "    return 2 * ((precision * recall) / (precision + recall + K.epsilon()))"
      ],
      "execution_count": 28,
      "outputs": []
    },
    {
      "cell_type": "markdown",
      "metadata": {
        "id": "6brdUfyqjLY9"
      },
      "source": [
        "# Choosing 'Sample Weights' for the model to pay more attention to"
      ]
    },
    {
      "cell_type": "code",
      "metadata": {
        "id": "BugIcFG5jE85",
        "colab": {
          "base_uri": "https://localhost:8080/"
        },
        "outputId": "9aec2ef1-55af-4100-9fcf-764a7a9eaa96"
      },
      "source": [
        "from sklearn.utils.class_weight import compute_class_weight\n",
        "\n",
        "def get_sample_weights(y):\n",
        "        \"\"\"\n",
        "        calculate the sample weights based on class weights. Used for models with\n",
        "        imbalanced data and one hot encoding prediction.\n",
        "        params:\n",
        "            y: class labels as integers\n",
        "        \"\"\"\n",
        "\n",
        "        y = y.astype(int)  # compute_class_weight needs int labels\n",
        "        class_weights = compute_class_weight('balanced', np.unique(y), y)\n",
        "\n",
        "        print(\"real class weights are {}\".format(class_weights), np.unique(y))\n",
        "        print(\"value_counts\", np.unique(y, return_counts=True))\n",
        "        sample_weights = y.copy().astype(float)\n",
        "        for i in np.unique(y):\n",
        "            sample_weights[sample_weights == i] = class_weights[i]  # if i == 2 else 0.8 * class_weights[i]\n",
        "            # sample_weights = np.where(sample_weights == i, class_weights[int(i)], y_)\n",
        "\n",
        "        return sample_weights\n",
        "\n",
        "sample_weights = get_sample_weights(y_train)\n",
        "print(\"Test sample_weights\")\n",
        "rand_idx = np.random.randint(0, len(y_train), 30)\n",
        "print(y_train[rand_idx])\n",
        "print(sample_weights[rand_idx])\n",
        "print(sample_weights.shape)"
      ],
      "execution_count": 29,
      "outputs": [
        {
          "output_type": "stream",
          "text": [
            "real class weights are [4.96296296 6.09090909 0.3796034 ] [0 1 2]\n",
            "value_counts (array([0, 1, 2]), array([ 54,  44, 706]))\n",
            "Test sample_weights\n",
            "[2. 2. 2. 2. 2. 2. 2. 2. 2. 1. 2. 2. 2. 2. 2. 2. 2. 2. 2. 2. 2. 2. 2. 2.\n",
            " 2. 2. 2. 1. 2. 2.]\n",
            "[0.3796034  0.3796034  0.3796034  0.3796034  0.3796034  0.3796034\n",
            " 0.3796034  0.3796034  0.3796034  6.09090909 0.3796034  0.3796034\n",
            " 0.3796034  0.3796034  0.3796034  0.3796034  0.3796034  0.3796034\n",
            " 0.3796034  0.3796034  0.3796034  0.3796034  0.3796034  0.3796034\n",
            " 0.3796034  0.3796034  0.3796034  6.09090909 0.3796034  0.3796034 ]\n",
            "(804,)\n"
          ],
          "name": "stdout"
        }
      ]
    },
    {
      "cell_type": "markdown",
      "metadata": {
        "id": "1OICgNPl85nt"
      },
      "source": [
        "# Compiling Model\n",
        "\n",
        "\n",
        "\n",
        "*   *Optimizer:* Adam\n",
        "*   *Loss:* Sparse Categorical Crossentropy\n",
        "\n",
        "<font color=\"red\"> TODO: Sparse Categorical Crossentropy vs Categorical_Entropy </font>\n",
        "\n"
      ]
    },
    {
      "cell_type": "code",
      "metadata": {
        "id": "Etp5-cyi7Xhk"
      },
      "source": [
        "from tensorflow.keras import optimizers\n",
        "\n",
        "optimizer_model = 'adam'\n",
        "learning_rate = 0.001\n",
        "\n",
        "if optimizer_model == 'rmsprop':\n",
        "    optimizer = optimizers.RMSprop(lr=learning_rate)\n",
        "elif optimizer_model == 'sgd':\n",
        "    optimizer = optimizers.SGD(lr=learning_rate, decay=1e-6, momentum=0.9, nesterov=True)\n",
        "elif optimizer_model == 'adam':\n",
        "    optimizer = optimizers.Adam(learning_rate=learning_rate, beta_1=0.9, beta_2=0.999, amsgrad=False)\n",
        "\n",
        "model.compile(loss='SparseCategoricalCrossentropy', optimizer=optimizer, metrics=['accuracy', f1_metric])"
      ],
      "execution_count": 30,
      "outputs": []
    },
    {
      "cell_type": "code",
      "metadata": {
        "id": "avQfsGLugZO3"
      },
      "source": [
        "from tensorflow.keras.callbacks import ModelCheckpoint, EarlyStopping, ReduceLROnPlateau, CSVLogger, Callback\n",
        "import os\n",
        "\n",
        "best_model_path = os.path.join('.', 'best_model_keras')\n",
        "\n",
        "es = EarlyStopping(\n",
        "    monitor='val_loss', \n",
        "    mode='min', \n",
        "    verbose=1, \n",
        "    patience=100, \n",
        "    min_delta=0.0001\n",
        "    )\n",
        "\n",
        "rlp = ReduceLROnPlateau(\n",
        "    monitor='val_loss', \n",
        "    factor=0.02, \n",
        "    patience=20, \n",
        "    verbose=1, \n",
        "    mode='min', \n",
        "    min_delta=0.001, \n",
        "    cooldown=1, \n",
        "    min_lr=0.001\n",
        "    )\n",
        "\n",
        "mcp = ModelCheckpoint(\n",
        "    best_model_path, \n",
        "    monitor='val_f1_metric', \n",
        "    verbose=1, \n",
        "    save_best_only=True, \n",
        "    save_weights_only=False, \n",
        "    mode='max', \n",
        "    save_freq=1\n",
        "    )"
      ],
      "execution_count": 31,
      "outputs": []
    },
    {
      "cell_type": "code",
      "metadata": {
        "id": "-GuiJO-oiQRx",
        "colab": {
          "base_uri": "https://localhost:8080/"
        },
        "outputId": "ec1e4405-d985-4349-ea9b-1a20a47a2588"
      },
      "source": [
        "%%time\n",
        "\n",
        "history = model.fit(\n",
        "    x_train, \n",
        "    y_train, \n",
        "    epochs=30, \n",
        "    verbose=1, \n",
        "    batch_size=64, \n",
        "    shuffle=True, \n",
        "    validation_data=(x_cv, y_cv), \n",
        "    callbacks=[mcp, rlp, es], \n",
        "    sample_weight=sample_weights\n",
        "    )"
      ],
      "execution_count": 32,
      "outputs": [
        {
          "output_type": "stream",
          "text": [
            "Epoch 1/30\n",
            " 1/13 [=>............................] - ETA: 12s - loss: 0.7439 - accuracy: 0.5312 - f1_metric: 5.6721WARNING:tensorflow:Can save best model only with val_f1_metric available, skipping.\n",
            "WARNING:tensorflow:Can save best model only with val_f1_metric available, skipping.\n",
            " 3/13 [=====>........................] - ETA: 0s - loss: 0.9702 - accuracy: 0.6441 - f1_metric: 4.7713 WARNING:tensorflow:Can save best model only with val_f1_metric available, skipping.\n",
            "WARNING:tensorflow:Can save best model only with val_f1_metric available, skipping.\n",
            " 5/13 [==========>...................] - ETA: 0s - loss: 0.9952 - accuracy: 0.6561 - f1_metric: 4.7139WARNING:tensorflow:Can save best model only with val_f1_metric available, skipping.\n",
            "WARNING:tensorflow:Can save best model only with val_f1_metric available, skipping.\n",
            " 7/13 [===============>..............] - ETA: 0s - loss: 1.0046 - accuracy: 0.6388 - f1_metric: 4.7067WARNING:tensorflow:Can save best model only with val_f1_metric available, skipping.\n",
            "WARNING:tensorflow:Can save best model only with val_f1_metric available, skipping.\n",
            " 9/13 [===================>..........] - ETA: 0s - loss: 1.0124 - accuracy: 0.6181 - f1_metric: 4.6980WARNING:tensorflow:Can save best model only with val_f1_metric available, skipping.\n",
            "WARNING:tensorflow:Can save best model only with val_f1_metric available, skipping.\n",
            "11/13 [========================>.....] - ETA: 0s - loss: 1.0253 - accuracy: 0.5968 - f1_metric: 4.6884WARNING:tensorflow:Can save best model only with val_f1_metric available, skipping.\n",
            "WARNING:tensorflow:Can save best model only with val_f1_metric available, skipping.\n",
            "13/13 [==============================] - ETA: 0s - loss: 1.0351 - accuracy: 0.5758 - f1_metric: 4.6768WARNING:tensorflow:Can save best model only with val_f1_metric available, skipping.\n",
            "13/13 [==============================] - 2s 82ms/step - loss: 1.0393 - accuracy: 0.5671 - f1_metric: 4.6724 - val_loss: 1.1307 - val_accuracy: 0.0891 - val_f1_metric: 5.5975\n",
            "Epoch 2/30\n",
            " 1/13 [=>............................] - ETA: 0s - loss: 0.8539 - accuracy: 0.2188 - f1_metric: 5.1875WARNING:tensorflow:Can save best model only with val_f1_metric available, skipping.\n",
            "WARNING:tensorflow:Can save best model only with val_f1_metric available, skipping.\n",
            " 3/13 [=====>........................] - ETA: 0s - loss: 0.8678 - accuracy: 0.2300 - f1_metric: 5.2315WARNING:tensorflow:Can save best model only with val_f1_metric available, skipping.\n",
            "WARNING:tensorflow:Can save best model only with val_f1_metric available, skipping.\n",
            " 5/13 [==========>...................] - ETA: 0s - loss: 0.8907 - accuracy: 0.2571 - f1_metric: 5.2104WARNING:tensorflow:Can save best model only with val_f1_metric available, skipping.\n",
            "WARNING:tensorflow:Can save best model only with val_f1_metric available, skipping.\n",
            " 7/13 [===============>..............] - ETA: 0s - loss: 0.8977 - accuracy: 0.2867 - f1_metric: 5.1420WARNING:tensorflow:Can save best model only with val_f1_metric available, skipping.\n",
            "WARNING:tensorflow:Can save best model only with val_f1_metric available, skipping.\n",
            " 9/13 [===================>..........] - ETA: 0s - loss: 0.9215 - accuracy: 0.3184 - f1_metric: 5.0491WARNING:tensorflow:Can save best model only with val_f1_metric available, skipping.\n",
            "WARNING:tensorflow:Can save best model only with val_f1_metric available, skipping.\n",
            "11/13 [========================>.....] - ETA: 0s - loss: 0.9445 - accuracy: 0.3437 - f1_metric: 4.9672WARNING:tensorflow:Can save best model only with val_f1_metric available, skipping.\n",
            "WARNING:tensorflow:Can save best model only with val_f1_metric available, skipping.\n",
            "13/13 [==============================] - ETA: 0s - loss: 0.9612 - accuracy: 0.3615 - f1_metric: 4.9082WARNING:tensorflow:Can save best model only with val_f1_metric available, skipping.\n",
            "13/13 [==============================] - 1s 41ms/step - loss: 0.9671 - accuracy: 0.3684 - f1_metric: 4.8860 - val_loss: 1.0918 - val_accuracy: 0.1188 - val_f1_metric: 5.3625\n",
            "Epoch 3/30\n",
            " 1/13 [=>............................] - ETA: 0s - loss: 1.3269 - accuracy: 0.3438 - f1_metric: 4.6557WARNING:tensorflow:Can save best model only with val_f1_metric available, skipping.\n",
            "WARNING:tensorflow:Can save best model only with val_f1_metric available, skipping.\n",
            " 3/13 [=====>........................] - ETA: 0s - loss: 1.3195 - accuracy: 0.2899 - f1_metric: 4.4261WARNING:tensorflow:Can save best model only with val_f1_metric available, skipping.\n",
            "WARNING:tensorflow:Can save best model only with val_f1_metric available, skipping.\n",
            " 5/13 [==========>...................] - ETA: 0s - loss: 1.2654 - accuracy: 0.2526 - f1_metric: 4.1810WARNING:tensorflow:Can save best model only with val_f1_metric available, skipping.\n",
            "WARNING:tensorflow:Can save best model only with val_f1_metric available, skipping.\n",
            " 7/13 [===============>..............] - ETA: 0s - loss: 1.2326 - accuracy: 0.2267 - f1_metric: 4.0561WARNING:tensorflow:Can save best model only with val_f1_metric available, skipping.\n",
            "WARNING:tensorflow:Can save best model only with val_f1_metric available, skipping.\n",
            " 9/13 [===================>..........] - ETA: 0s - loss: 1.1992 - accuracy: 0.2145 - f1_metric: 3.9984WARNING:tensorflow:Can save best model only with val_f1_metric available, skipping.\n",
            "WARNING:tensorflow:Can save best model only with val_f1_metric available, skipping.\n",
            "11/13 [========================>.....] - ETA: 0s - loss: 1.1664 - accuracy: 0.2116 - f1_metric: 3.9515WARNING:tensorflow:Can save best model only with val_f1_metric available, skipping.\n",
            "WARNING:tensorflow:Can save best model only with val_f1_metric available, skipping.\n",
            "13/13 [==============================] - ETA: 0s - loss: 1.1367 - accuracy: 0.2164 - f1_metric: 3.9004WARNING:tensorflow:Can save best model only with val_f1_metric available, skipping.\n",
            "13/13 [==============================] - 1s 40ms/step - loss: 1.1253 - accuracy: 0.2188 - f1_metric: 3.8771 - val_loss: 0.8328 - val_accuracy: 0.7772 - val_f1_metric: 3.8983\n",
            "Epoch 4/30\n",
            " 1/13 [=>............................] - ETA: 0s - loss: 0.9709 - accuracy: 0.5312 - f1_metric: 2.4889WARNING:tensorflow:Can save best model only with val_f1_metric available, skipping.\n",
            "WARNING:tensorflow:Can save best model only with val_f1_metric available, skipping.\n",
            " 3/13 [=====>........................] - ETA: 0s - loss: 0.9875 - accuracy: 0.5747 - f1_metric: 2.6585WARNING:tensorflow:Can save best model only with val_f1_metric available, skipping.\n",
            "WARNING:tensorflow:Can save best model only with val_f1_metric available, skipping.\n",
            " 5/13 [==========>...................] - ETA: 0s - loss: 0.9246 - accuracy: 0.5762 - f1_metric: 2.7010WARNING:tensorflow:Can save best model only with val_f1_metric available, skipping.\n",
            "WARNING:tensorflow:Can save best model only with val_f1_metric available, skipping.\n",
            " 7/13 [===============>..............] - ETA: 0s - loss: 0.8906 - accuracy: 0.5811 - f1_metric: 2.7124WARNING:tensorflow:Can save best model only with val_f1_metric available, skipping.\n",
            "WARNING:tensorflow:Can save best model only with val_f1_metric available, skipping.\n",
            " 9/13 [===================>..........] - ETA: 0s - loss: 0.8773 - accuracy: 0.5840 - f1_metric: 2.7119WARNING:tensorflow:Can save best model only with val_f1_metric available, skipping.\n",
            "WARNING:tensorflow:Can save best model only with val_f1_metric available, skipping.\n",
            "11/13 [========================>.....] - ETA: 0s - loss: 0.8747 - accuracy: 0.5841 - f1_metric: 2.7171WARNING:tensorflow:Can save best model only with val_f1_metric available, skipping.\n",
            "WARNING:tensorflow:Can save best model only with val_f1_metric available, skipping.\n",
            "13/13 [==============================] - ETA: 0s - loss: 0.8722 - accuracy: 0.5782 - f1_metric: 2.7186WARNING:tensorflow:Can save best model only with val_f1_metric available, skipping.\n",
            "13/13 [==============================] - 1s 40ms/step - loss: 0.8708 - accuracy: 0.5754 - f1_metric: 2.7208 - val_loss: 1.0821 - val_accuracy: 0.2426 - val_f1_metric: 2.7282\n",
            "Epoch 5/30\n",
            " 1/13 [=>............................] - ETA: 0s - loss: 0.9018 - accuracy: 0.2812 - f1_metric: 2.4130WARNING:tensorflow:Can save best model only with val_f1_metric available, skipping.\n",
            "WARNING:tensorflow:Can save best model only with val_f1_metric available, skipping.\n",
            " 3/13 [=====>........................] - ETA: 0s - loss: 0.8480 - accuracy: 0.3064 - f1_metric: 2.4574WARNING:tensorflow:Can save best model only with val_f1_metric available, skipping.\n",
            "WARNING:tensorflow:Can save best model only with val_f1_metric available, skipping.\n",
            " 5/13 [==========>...................] - ETA: 0s - loss: 0.7924 - accuracy: 0.3217 - f1_metric: 2.4665WARNING:tensorflow:Can save best model only with val_f1_metric available, skipping.\n",
            "WARNING:tensorflow:Can save best model only with val_f1_metric available, skipping.\n",
            " 7/13 [===============>..............] - ETA: 0s - loss: 0.7782 - accuracy: 0.3547 - f1_metric: 2.4396WARNING:tensorflow:Can save best model only with val_f1_metric available, skipping.\n",
            "WARNING:tensorflow:Can save best model only with val_f1_metric available, skipping.\n",
            " 9/13 [===================>..........] - ETA: 0s - loss: 0.7728 - accuracy: 0.3880 - f1_metric: 2.3953WARNING:tensorflow:Can save best model only with val_f1_metric available, skipping.\n",
            "WARNING:tensorflow:Can save best model only with val_f1_metric available, skipping.\n",
            "11/13 [========================>.....] - ETA: 0s - loss: 0.7678 - accuracy: 0.4179 - f1_metric: 2.3470WARNING:tensorflow:Can save best model only with val_f1_metric available, skipping.\n",
            "WARNING:tensorflow:Can save best model only with val_f1_metric available, skipping.\n",
            "13/13 [==============================] - ETA: 0s - loss: 0.7656 - accuracy: 0.4411 - f1_metric: 2.3024WARNING:tensorflow:Can save best model only with val_f1_metric available, skipping.\n",
            "13/13 [==============================] - 1s 40ms/step - loss: 0.7646 - accuracy: 0.4503 - f1_metric: 2.2843 - val_loss: 0.7830 - val_accuracy: 0.6980 - val_f1_metric: 1.7301\n",
            "Epoch 6/30\n",
            " 1/13 [=>............................] - ETA: 0s - loss: 0.6870 - accuracy: 0.6250 - f1_metric: 1.8476WARNING:tensorflow:Can save best model only with val_f1_metric available, skipping.\n",
            "WARNING:tensorflow:Can save best model only with val_f1_metric available, skipping.\n",
            " 3/13 [=====>........................] - ETA: 0s - loss: 0.6436 - accuracy: 0.6302 - f1_metric: 1.8779WARNING:tensorflow:Can save best model only with val_f1_metric available, skipping.\n",
            "WARNING:tensorflow:Can save best model only with val_f1_metric available, skipping.\n",
            " 5/13 [==========>...................] - ETA: 0s - loss: 0.6538 - accuracy: 0.6023 - f1_metric: 1.9022WARNING:tensorflow:Can save best model only with val_f1_metric available, skipping.\n",
            "WARNING:tensorflow:Can save best model only with val_f1_metric available, skipping.\n",
            " 7/13 [===============>..............] - ETA: 0s - loss: 0.6539 - accuracy: 0.5915 - f1_metric: 1.9047WARNING:tensorflow:Can save best model only with val_f1_metric available, skipping.\n",
            "WARNING:tensorflow:Can save best model only with val_f1_metric available, skipping.\n",
            " 9/13 [===================>..........] - ETA: 0s - loss: 0.6540 - accuracy: 0.5909 - f1_metric: 1.8890WARNING:tensorflow:Can save best model only with val_f1_metric available, skipping.\n",
            "WARNING:tensorflow:Can save best model only with val_f1_metric available, skipping.\n",
            "11/13 [========================>.....] - ETA: 0s - loss: 0.6521 - accuracy: 0.5976 - f1_metric: 1.8610WARNING:tensorflow:Can save best model only with val_f1_metric available, skipping.\n",
            "WARNING:tensorflow:Can save best model only with val_f1_metric available, skipping.\n",
            "13/13 [==============================] - ETA: 0s - loss: 0.6489 - accuracy: 0.6046 - f1_metric: 1.8326WARNING:tensorflow:Can save best model only with val_f1_metric available, skipping.\n",
            "13/13 [==============================] - 1s 41ms/step - loss: 0.6471 - accuracy: 0.6073 - f1_metric: 1.8210 - val_loss: 0.5562 - val_accuracy: 0.7772 - val_f1_metric: 1.3393\n",
            "Epoch 7/30\n",
            " 1/13 [=>............................] - ETA: 0s - loss: 0.2666 - accuracy: 0.7344 - f1_metric: 1.4426WARNING:tensorflow:Can save best model only with val_f1_metric available, skipping.\n",
            "WARNING:tensorflow:Can save best model only with val_f1_metric available, skipping.\n",
            " 3/13 [=====>........................] - ETA: 0s - loss: 0.3240 - accuracy: 0.7561 - f1_metric: 1.4480WARNING:tensorflow:Can save best model only with val_f1_metric available, skipping.\n",
            "WARNING:tensorflow:Can save best model only with val_f1_metric available, skipping.\n",
            " 5/13 [==========>...................] - ETA: 0s - loss: 0.3375 - accuracy: 0.7651 - f1_metric: 1.4334WARNING:tensorflow:Can save best model only with val_f1_metric available, skipping.\n",
            "WARNING:tensorflow:Can save best model only with val_f1_metric available, skipping.\n",
            " 7/13 [===============>..............] - ETA: 0s - loss: 0.3511 - accuracy: 0.7766 - f1_metric: 1.4208WARNING:tensorflow:Can save best model only with val_f1_metric available, skipping.\n",
            "WARNING:tensorflow:Can save best model only with val_f1_metric available, skipping.\n",
            " 9/13 [===================>..........] - ETA: 0s - loss: 0.3637 - accuracy: 0.7898 - f1_metric: 1.4051WARNING:tensorflow:Can save best model only with val_f1_metric available, skipping.\n",
            "WARNING:tensorflow:Can save best model only with val_f1_metric available, skipping.\n",
            "11/13 [========================>.....] - ETA: 0s - loss: 0.3691 - accuracy: 0.8010 - f1_metric: 1.3924WARNING:tensorflow:Can save best model only with val_f1_metric available, skipping.\n",
            "WARNING:tensorflow:Can save best model only with val_f1_metric available, skipping.\n",
            "13/13 [==============================] - ETA: 0s - loss: 0.3728 - accuracy: 0.8088 - f1_metric: 1.3817WARNING:tensorflow:Can save best model only with val_f1_metric available, skipping.\n",
            "13/13 [==============================] - 1s 40ms/step - loss: 0.3745 - accuracy: 0.8117 - f1_metric: 1.3775 - val_loss: 0.4747 - val_accuracy: 0.7822 - val_f1_metric: 1.2876\n",
            "Epoch 8/30\n",
            " 1/13 [=>............................] - ETA: 0s - loss: 0.3449 - accuracy: 0.8125 - f1_metric: 1.2881WARNING:tensorflow:Can save best model only with val_f1_metric available, skipping.\n",
            "WARNING:tensorflow:Can save best model only with val_f1_metric available, skipping.\n",
            " 3/13 [=====>........................] - ETA: 0s - loss: 0.3163 - accuracy: 0.8012 - f1_metric: 1.3515WARNING:tensorflow:Can save best model only with val_f1_metric available, skipping.\n",
            "WARNING:tensorflow:Can save best model only with val_f1_metric available, skipping.\n",
            " 5/13 [==========>...................] - ETA: 0s - loss: 0.3020 - accuracy: 0.8039 - f1_metric: 1.3441WARNING:tensorflow:Can save best model only with val_f1_metric available, skipping.\n",
            "WARNING:tensorflow:Can save best model only with val_f1_metric available, skipping.\n",
            " 7/13 [===============>..............] - ETA: 0s - loss: 0.2988 - accuracy: 0.8162 - f1_metric: 1.3240WARNING:tensorflow:Can save best model only with val_f1_metric available, skipping.\n",
            "WARNING:tensorflow:Can save best model only with val_f1_metric available, skipping.\n",
            " 9/13 [===================>..........] - ETA: 0s - loss: 0.2992 - accuracy: 0.8263 - f1_metric: 1.3043WARNING:tensorflow:Can save best model only with val_f1_metric available, skipping.\n",
            "WARNING:tensorflow:Can save best model only with val_f1_metric available, skipping.\n",
            "11/13 [========================>.....] - ETA: 0s - loss: 0.2990 - accuracy: 0.8344 - f1_metric: 1.2905WARNING:tensorflow:Can save best model only with val_f1_metric available, skipping.\n",
            "WARNING:tensorflow:Can save best model only with val_f1_metric available, skipping.\n",
            "13/13 [==============================] - ETA: 0s - loss: 0.2961 - accuracy: 0.8410 - f1_metric: 1.2805WARNING:tensorflow:Can save best model only with val_f1_metric available, skipping.\n",
            "13/13 [==============================] - 1s 41ms/step - loss: 0.2950 - accuracy: 0.8436 - f1_metric: 1.2764 - val_loss: 0.2024 - val_accuracy: 0.9208 - val_f1_metric: 1.1665\n",
            "Epoch 9/30\n",
            " 1/13 [=>............................] - ETA: 0s - loss: 0.0970 - accuracy: 0.9219 - f1_metric: 1.0720WARNING:tensorflow:Can save best model only with val_f1_metric available, skipping.\n",
            "WARNING:tensorflow:Can save best model only with val_f1_metric available, skipping.\n",
            " 3/13 [=====>........................] - ETA: 0s - loss: 0.1884 - accuracy: 0.9245 - f1_metric: 1.0885WARNING:tensorflow:Can save best model only with val_f1_metric available, skipping.\n",
            "WARNING:tensorflow:Can save best model only with val_f1_metric available, skipping.\n",
            " 5/13 [==========>...................] - ETA: 0s - loss: 0.2013 - accuracy: 0.9273 - f1_metric: 1.0967WARNING:tensorflow:Can save best model only with val_f1_metric available, skipping.\n",
            "WARNING:tensorflow:Can save best model only with val_f1_metric available, skipping.\n",
            " 7/13 [===============>..............] - ETA: 0s - loss: 0.2046 - accuracy: 0.9275 - f1_metric: 1.1000WARNING:tensorflow:Can save best model only with val_f1_metric available, skipping.\n",
            "WARNING:tensorflow:Can save best model only with val_f1_metric available, skipping.\n",
            " 9/13 [===================>..........] - ETA: 0s - loss: 0.2044 - accuracy: 0.9273 - f1_metric: 1.1007WARNING:tensorflow:Can save best model only with val_f1_metric available, skipping.\n",
            "WARNING:tensorflow:Can save best model only with val_f1_metric available, skipping.\n",
            "11/13 [========================>.....] - ETA: 0s - loss: 0.2023 - accuracy: 0.9260 - f1_metric: 1.1028WARNING:tensorflow:Can save best model only with val_f1_metric available, skipping.\n",
            "WARNING:tensorflow:Can save best model only with val_f1_metric available, skipping.\n",
            "13/13 [==============================] - ETA: 0s - loss: 0.1999 - accuracy: 0.9250 - f1_metric: 1.1044WARNING:tensorflow:Can save best model only with val_f1_metric available, skipping.\n",
            "13/13 [==============================] - 1s 41ms/step - loss: 0.1990 - accuracy: 0.9246 - f1_metric: 1.1052 - val_loss: 0.1102 - val_accuracy: 0.9703 - val_f1_metric: 1.0152\n",
            "Epoch 10/30\n",
            " 1/13 [=>............................] - ETA: 0s - loss: 0.2264 - accuracy: 0.9219 - f1_metric: 1.0084WARNING:tensorflow:Can save best model only with val_f1_metric available, skipping.\n",
            "WARNING:tensorflow:Can save best model only with val_f1_metric available, skipping.\n",
            " 3/13 [=====>........................] - ETA: 0s - loss: 0.2130 - accuracy: 0.9366 - f1_metric: 1.0314WARNING:tensorflow:Can save best model only with val_f1_metric available, skipping.\n",
            "WARNING:tensorflow:Can save best model only with val_f1_metric available, skipping.\n",
            " 5/13 [==========>...................] - ETA: 0s - loss: 0.2153 - accuracy: 0.9376 - f1_metric: 1.0358WARNING:tensorflow:Can save best model only with val_f1_metric available, skipping.\n",
            "WARNING:tensorflow:Can save best model only with val_f1_metric available, skipping.\n",
            " 7/13 [===============>..............] - ETA: 0s - loss: 0.2073 - accuracy: 0.9390 - f1_metric: 1.0459WARNING:tensorflow:Can save best model only with val_f1_metric available, skipping.\n",
            "WARNING:tensorflow:Can save best model only with val_f1_metric available, skipping.\n",
            " 9/13 [===================>..........] - ETA: 0s - loss: 0.2010 - accuracy: 0.9374 - f1_metric: 1.0576WARNING:tensorflow:Can save best model only with val_f1_metric available, skipping.\n",
            "WARNING:tensorflow:Can save best model only with val_f1_metric available, skipping.\n",
            "11/13 [========================>.....] - ETA: 0s - loss: 0.1944 - accuracy: 0.9368 - f1_metric: 1.0652WARNING:tensorflow:Can save best model only with val_f1_metric available, skipping.\n",
            "WARNING:tensorflow:Can save best model only with val_f1_metric available, skipping.\n",
            "13/13 [==============================] - ETA: 0s - loss: 0.1892 - accuracy: 0.9362 - f1_metric: 1.0709WARNING:tensorflow:Can save best model only with val_f1_metric available, skipping.\n",
            "13/13 [==============================] - 1s 41ms/step - loss: 0.1874 - accuracy: 0.9359 - f1_metric: 1.0732 - val_loss: 0.0946 - val_accuracy: 0.9703 - val_f1_metric: 1.0121\n",
            "Epoch 11/30\n",
            " 1/13 [=>............................] - ETA: 0s - loss: 0.0223 - accuracy: 0.9844 - f1_metric: 1.0000WARNING:tensorflow:Can save best model only with val_f1_metric available, skipping.\n",
            "WARNING:tensorflow:Can save best model only with val_f1_metric available, skipping.\n",
            " 3/13 [=====>........................] - ETA: 0s - loss: 0.0433 - accuracy: 0.9679 - f1_metric: 1.0072WARNING:tensorflow:Can save best model only with val_f1_metric available, skipping.\n",
            "WARNING:tensorflow:Can save best model only with val_f1_metric available, skipping.\n",
            " 5/13 [==========>...................] - ETA: 0s - loss: 0.0659 - accuracy: 0.9639 - f1_metric: 1.0147WARNING:tensorflow:Can save best model only with val_f1_metric available, skipping.\n",
            "WARNING:tensorflow:Can save best model only with val_f1_metric available, skipping.\n",
            " 7/13 [===============>..............] - ETA: 0s - loss: 0.0916 - accuracy: 0.9642 - f1_metric: 1.0179WARNING:tensorflow:Can save best model only with val_f1_metric available, skipping.\n",
            "WARNING:tensorflow:Can save best model only with val_f1_metric available, skipping.\n",
            " 9/13 [===================>..........] - ETA: 0s - loss: 0.1029 - accuracy: 0.9628 - f1_metric: 1.0246WARNING:tensorflow:Can save best model only with val_f1_metric available, skipping.\n",
            "WARNING:tensorflow:Can save best model only with val_f1_metric available, skipping.\n",
            "11/13 [========================>.....] - ETA: 0s - loss: 0.1113 - accuracy: 0.9600 - f1_metric: 1.0304WARNING:tensorflow:Can save best model only with val_f1_metric available, skipping.\n",
            "WARNING:tensorflow:Can save best model only with val_f1_metric available, skipping.\n",
            "13/13 [==============================] - ETA: 0s - loss: 0.1176 - accuracy: 0.9574 - f1_metric: 1.0360WARNING:tensorflow:Can save best model only with val_f1_metric available, skipping.\n",
            "13/13 [==============================] - 1s 41ms/step - loss: 0.1201 - accuracy: 0.9564 - f1_metric: 1.0381 - val_loss: 0.1104 - val_accuracy: 0.9752 - val_f1_metric: 1.0453\n",
            "Epoch 12/30\n",
            " 1/13 [=>............................] - ETA: 0s - loss: 0.1541 - accuracy: 0.8750 - f1_metric: 1.0635WARNING:tensorflow:Can save best model only with val_f1_metric available, skipping.\n",
            "WARNING:tensorflow:Can save best model only with val_f1_metric available, skipping.\n",
            " 3/13 [=====>........................] - ETA: 0s - loss: 0.1189 - accuracy: 0.9193 - f1_metric: 1.0620WARNING:tensorflow:Can save best model only with val_f1_metric available, skipping.\n",
            "WARNING:tensorflow:Can save best model only with val_f1_metric available, skipping.\n",
            " 5/13 [==========>...................] - ETA: 0s - loss: 0.1100 - accuracy: 0.9383 - f1_metric: 1.0460WARNING:tensorflow:Can save best model only with val_f1_metric available, skipping.\n",
            "WARNING:tensorflow:Can save best model only with val_f1_metric available, skipping.\n",
            " 7/13 [===============>..............] - ETA: 0s - loss: 0.1108 - accuracy: 0.9473 - f1_metric: 1.0362WARNING:tensorflow:Can save best model only with val_f1_metric available, skipping.\n",
            "WARNING:tensorflow:Can save best model only with val_f1_metric available, skipping.\n",
            " 9/13 [===================>..........] - ETA: 0s - loss: 0.1082 - accuracy: 0.9533 - f1_metric: 1.0303WARNING:tensorflow:Can save best model only with val_f1_metric available, skipping.\n",
            "WARNING:tensorflow:Can save best model only with val_f1_metric available, skipping.\n",
            "11/13 [========================>.....] - ETA: 0s - loss: 0.1112 - accuracy: 0.9574 - f1_metric: 1.0257WARNING:tensorflow:Can save best model only with val_f1_metric available, skipping.\n",
            "WARNING:tensorflow:Can save best model only with val_f1_metric available, skipping.\n",
            "13/13 [==============================] - ETA: 0s - loss: 0.1142 - accuracy: 0.9603 - f1_metric: 1.0228WARNING:tensorflow:Can save best model only with val_f1_metric available, skipping.\n",
            "13/13 [==============================] - 1s 43ms/step - loss: 0.1152 - accuracy: 0.9614 - f1_metric: 1.0218 - val_loss: 0.0960 - val_accuracy: 0.9752 - val_f1_metric: 1.0081\n",
            "Epoch 13/30\n",
            " 1/13 [=>............................] - ETA: 0s - loss: 0.0723 - accuracy: 0.9688 - f1_metric: 1.0000WARNING:tensorflow:Can save best model only with val_f1_metric available, skipping.\n",
            "WARNING:tensorflow:Can save best model only with val_f1_metric available, skipping.\n",
            " 3/13 [=====>........................] - ETA: 0s - loss: 0.0800 - accuracy: 0.9601 - f1_metric: 1.0177WARNING:tensorflow:Can save best model only with val_f1_metric available, skipping.\n",
            "WARNING:tensorflow:Can save best model only with val_f1_metric available, skipping.\n",
            " 5/13 [==========>...................] - ETA: 0s - loss: 0.0837 - accuracy: 0.9539 - f1_metric: 1.0324WARNING:tensorflow:Can save best model only with val_f1_metric available, skipping.\n",
            "WARNING:tensorflow:Can save best model only with val_f1_metric available, skipping.\n",
            " 7/13 [===============>..............] - ETA: 0s - loss: 0.0859 - accuracy: 0.9509 - f1_metric: 1.0430WARNING:tensorflow:Can save best model only with val_f1_metric available, skipping.\n",
            "WARNING:tensorflow:Can save best model only with val_f1_metric available, skipping.\n",
            " 9/13 [===================>..........] - ETA: 0s - loss: 0.0871 - accuracy: 0.9493 - f1_metric: 1.0501WARNING:tensorflow:Can save best model only with val_f1_metric available, skipping.\n",
            "WARNING:tensorflow:Can save best model only with val_f1_metric available, skipping.\n",
            "11/13 [========================>.....] - ETA: 0s - loss: 0.0886 - accuracy: 0.9495 - f1_metric: 1.0531WARNING:tensorflow:Can save best model only with val_f1_metric available, skipping.\n",
            "WARNING:tensorflow:Can save best model only with val_f1_metric available, skipping.\n",
            "13/13 [==============================] - ETA: 0s - loss: 0.0901 - accuracy: 0.9502 - f1_metric: 1.0538WARNING:tensorflow:Can save best model only with val_f1_metric available, skipping.\n",
            "13/13 [==============================] - 1s 42ms/step - loss: 0.0907 - accuracy: 0.9506 - f1_metric: 1.0539 - val_loss: 0.0389 - val_accuracy: 0.9851 - val_f1_metric: 0.9757\n",
            "Epoch 14/30\n",
            " 1/13 [=>............................] - ETA: 0s - loss: 0.0598 - accuracy: 1.0000 - f1_metric: 0.9920WARNING:tensorflow:Can save best model only with val_f1_metric available, skipping.\n",
            "WARNING:tensorflow:Can save best model only with val_f1_metric available, skipping.\n",
            " 3/13 [=====>........................] - ETA: 0s - loss: 0.0761 - accuracy: 0.9922 - f1_metric: 0.9911WARNING:tensorflow:Can save best model only with val_f1_metric available, skipping.\n",
            "WARNING:tensorflow:Can save best model only with val_f1_metric available, skipping.\n",
            " 5/13 [==========>...................] - ETA: 0s - loss: 0.0783 - accuracy: 0.9891 - f1_metric: 0.9901WARNING:tensorflow:Can save best model only with val_f1_metric available, skipping.\n",
            "WARNING:tensorflow:Can save best model only with val_f1_metric available, skipping.\n",
            " 7/13 [===============>..............] - ETA: 0s - loss: 0.0780 - accuracy: 0.9874 - f1_metric: 0.9888WARNING:tensorflow:Can save best model only with val_f1_metric available, skipping.\n",
            "WARNING:tensorflow:Can save best model only with val_f1_metric available, skipping.\n",
            " 9/13 [===================>..........] - ETA: 0s - loss: 0.0783 - accuracy: 0.9855 - f1_metric: 0.9896WARNING:tensorflow:Can save best model only with val_f1_metric available, skipping.\n",
            "WARNING:tensorflow:Can save best model only with val_f1_metric available, skipping.\n",
            "11/13 [========================>.....] - ETA: 0s - loss: 0.0768 - accuracy: 0.9846 - f1_metric: 0.9905WARNING:tensorflow:Can save best model only with val_f1_metric available, skipping.\n",
            "WARNING:tensorflow:Can save best model only with val_f1_metric available, skipping.\n",
            "13/13 [==============================] - ETA: 0s - loss: 0.0753 - accuracy: 0.9842 - f1_metric: 0.9915WARNING:tensorflow:Can save best model only with val_f1_metric available, skipping.\n",
            "13/13 [==============================] - 1s 44ms/step - loss: 0.0748 - accuracy: 0.9840 - f1_metric: 0.9922 - val_loss: 0.0591 - val_accuracy: 0.9802 - val_f1_metric: 0.9878\n",
            "Epoch 15/30\n",
            " 1/13 [=>............................] - ETA: 0s - loss: 0.0821 - accuracy: 0.9688 - f1_metric: 0.9756WARNING:tensorflow:Can save best model only with val_f1_metric available, skipping.\n",
            "WARNING:tensorflow:Can save best model only with val_f1_metric available, skipping.\n",
            " 3/13 [=====>........................] - ETA: 0s - loss: 0.0657 - accuracy: 0.9748 - f1_metric: 0.9878WARNING:tensorflow:Can save best model only with val_f1_metric available, skipping.\n",
            "WARNING:tensorflow:Can save best model only with val_f1_metric available, skipping.\n",
            " 5/13 [==========>...................] - ETA: 0s - loss: 0.0590 - accuracy: 0.9772 - f1_metric: 0.9953WARNING:tensorflow:Can save best model only with val_f1_metric available, skipping.\n",
            "WARNING:tensorflow:Can save best model only with val_f1_metric available, skipping.\n",
            " 7/13 [===============>..............] - ETA: 0s - loss: 0.0550 - accuracy: 0.9786 - f1_metric: 0.9986WARNING:tensorflow:Can save best model only with val_f1_metric available, skipping.\n",
            "WARNING:tensorflow:Can save best model only with val_f1_metric available, skipping.\n",
            " 9/13 [===================>..........] - ETA: 0s - loss: 0.0531 - accuracy: 0.9784 - f1_metric: 1.0007WARNING:tensorflow:Can save best model only with val_f1_metric available, skipping.\n",
            "WARNING:tensorflow:Can save best model only with val_f1_metric available, skipping.\n",
            "11/13 [========================>.....] - ETA: 0s - loss: 0.0533 - accuracy: 0.9783 - f1_metric: 1.0019WARNING:tensorflow:Can save best model only with val_f1_metric available, skipping.\n",
            "WARNING:tensorflow:Can save best model only with val_f1_metric available, skipping.\n",
            "13/13 [==============================] - ETA: 0s - loss: 0.0527 - accuracy: 0.9787 - f1_metric: 1.0022WARNING:tensorflow:Can save best model only with val_f1_metric available, skipping.\n",
            "13/13 [==============================] - 1s 41ms/step - loss: 0.0524 - accuracy: 0.9789 - f1_metric: 1.0023 - val_loss: 0.0352 - val_accuracy: 0.9901 - val_f1_metric: 0.9757\n",
            "Epoch 16/30\n",
            " 1/13 [=>............................] - ETA: 0s - loss: 0.0154 - accuracy: 0.9844 - f1_metric: 0.9756WARNING:tensorflow:Can save best model only with val_f1_metric available, skipping.\n",
            "WARNING:tensorflow:Can save best model only with val_f1_metric available, skipping.\n",
            " 3/13 [=====>........................] - ETA: 0s - loss: 0.0194 - accuracy: 0.9887 - f1_metric: 0.9738WARNING:tensorflow:Can save best model only with val_f1_metric available, skipping.\n",
            "WARNING:tensorflow:Can save best model only with val_f1_metric available, skipping.\n",
            " 5/13 [==========>...................] - ETA: 0s - loss: 0.0239 - accuracy: 0.9904 - f1_metric: 0.9749WARNING:tensorflow:Can save best model only with val_f1_metric available, skipping.\n",
            "WARNING:tensorflow:Can save best model only with val_f1_metric available, skipping.\n",
            " 7/13 [===============>..............] - ETA: 0s - loss: 0.0279 - accuracy: 0.9908 - f1_metric: 0.9758WARNING:tensorflow:Can save best model only with val_f1_metric available, skipping.\n",
            "WARNING:tensorflow:Can save best model only with val_f1_metric available, skipping.\n",
            " 9/13 [===================>..........] - ETA: 0s - loss: 0.0296 - accuracy: 0.9912 - f1_metric: 0.9775WARNING:tensorflow:Can save best model only with val_f1_metric available, skipping.\n",
            "WARNING:tensorflow:Can save best model only with val_f1_metric available, skipping.\n",
            "11/13 [========================>.....] - ETA: 0s - loss: 0.0302 - accuracy: 0.9916 - f1_metric: 0.9784WARNING:tensorflow:Can save best model only with val_f1_metric available, skipping.\n",
            "WARNING:tensorflow:Can save best model only with val_f1_metric available, skipping.\n",
            "13/13 [==============================] - ETA: 0s - loss: 0.0322 - accuracy: 0.9917 - f1_metric: 0.9784WARNING:tensorflow:Can save best model only with val_f1_metric available, skipping.\n",
            "13/13 [==============================] - 1s 44ms/step - loss: 0.0330 - accuracy: 0.9917 - f1_metric: 0.9783 - val_loss: 0.0308 - val_accuracy: 0.9901 - val_f1_metric: 0.9757\n",
            "Epoch 17/30\n",
            " 1/13 [=>............................] - ETA: 0s - loss: 0.0179 - accuracy: 0.9844 - f1_metric: 0.9508WARNING:tensorflow:Can save best model only with val_f1_metric available, skipping.\n",
            "WARNING:tensorflow:Can save best model only with val_f1_metric available, skipping.\n",
            " 3/13 [=====>........................] - ETA: 0s - loss: 0.0244 - accuracy: 0.9800 - f1_metric: 0.9650WARNING:tensorflow:Can save best model only with val_f1_metric available, skipping.\n",
            "WARNING:tensorflow:Can save best model only with val_f1_metric available, skipping.\n",
            " 5/13 [==========>...................] - ETA: 0s - loss: 0.0268 - accuracy: 0.9804 - f1_metric: 0.9704WARNING:tensorflow:Can save best model only with val_f1_metric available, skipping.\n",
            "WARNING:tensorflow:Can save best model only with val_f1_metric available, skipping.\n",
            " 7/13 [===============>..............] - ETA: 0s - loss: 0.0304 - accuracy: 0.9818 - f1_metric: 0.9718WARNING:tensorflow:Can save best model only with val_f1_metric available, skipping.\n",
            "WARNING:tensorflow:Can save best model only with val_f1_metric available, skipping.\n",
            " 9/13 [===================>..........] - ETA: 0s - loss: 0.0317 - accuracy: 0.9834 - f1_metric: 0.9730WARNING:tensorflow:Can save best model only with val_f1_metric available, skipping.\n",
            "WARNING:tensorflow:Can save best model only with val_f1_metric available, skipping.\n",
            "11/13 [========================>.....] - ETA: 0s - loss: 0.0327 - accuracy: 0.9847 - f1_metric: 0.9741WARNING:tensorflow:Can save best model only with val_f1_metric available, skipping.\n",
            "WARNING:tensorflow:Can save best model only with val_f1_metric available, skipping.\n",
            "13/13 [==============================] - ETA: 0s - loss: 0.0334 - accuracy: 0.9857 - f1_metric: 0.9747WARNING:tensorflow:Can save best model only with val_f1_metric available, skipping.\n",
            "13/13 [==============================] - 1s 40ms/step - loss: 0.0336 - accuracy: 0.9861 - f1_metric: 0.9750 - val_loss: 0.0292 - val_accuracy: 0.9901 - val_f1_metric: 0.9757\n",
            "Epoch 18/30\n",
            " 1/13 [=>............................] - ETA: 0s - loss: 0.1001 - accuracy: 0.9688 - f1_metric: 1.0000WARNING:tensorflow:Can save best model only with val_f1_metric available, skipping.\n",
            "WARNING:tensorflow:Can save best model only with val_f1_metric available, skipping.\n",
            " 3/13 [=====>........................] - ETA: 0s - loss: 0.0695 - accuracy: 0.9792 - f1_metric: 0.9909WARNING:tensorflow:Can save best model only with val_f1_metric available, skipping.\n",
            "WARNING:tensorflow:Can save best model only with val_f1_metric available, skipping.\n",
            " 5/13 [==========>...................] - ETA: 0s - loss: 0.0583 - accuracy: 0.9820 - f1_metric: 0.9874WARNING:tensorflow:Can save best model only with val_f1_metric available, skipping.\n",
            "WARNING:tensorflow:Can save best model only with val_f1_metric available, skipping.\n",
            " 7/13 [===============>..............] - ETA: 0s - loss: 0.0541 - accuracy: 0.9821 - f1_metric: 0.9860WARNING:tensorflow:Can save best model only with val_f1_metric available, skipping.\n",
            "WARNING:tensorflow:Can save best model only with val_f1_metric available, skipping.\n",
            " 9/13 [===================>..........] - ETA: 0s - loss: 0.0508 - accuracy: 0.9824 - f1_metric: 0.9851WARNING:tensorflow:Can save best model only with val_f1_metric available, skipping.\n",
            "WARNING:tensorflow:Can save best model only with val_f1_metric available, skipping.\n",
            "11/13 [========================>.....] - ETA: 0s - loss: 0.0484 - accuracy: 0.9830 - f1_metric: 0.9845WARNING:tensorflow:Can save best model only with val_f1_metric available, skipping.\n",
            "WARNING:tensorflow:Can save best model only with val_f1_metric available, skipping.\n",
            "13/13 [==============================] - ETA: 0s - loss: 0.0476 - accuracy: 0.9837 - f1_metric: 0.9841WARNING:tensorflow:Can save best model only with val_f1_metric available, skipping.\n",
            "13/13 [==============================] - 1s 44ms/step - loss: 0.0473 - accuracy: 0.9839 - f1_metric: 0.9839 - val_loss: 0.0260 - val_accuracy: 0.9901 - val_f1_metric: 0.9716\n",
            "Epoch 19/30\n",
            " 1/13 [=>............................] - ETA: 0s - loss: 0.0045 - accuracy: 1.0000 - f1_metric: 0.9760WARNING:tensorflow:Can save best model only with val_f1_metric available, skipping.\n",
            "WARNING:tensorflow:Can save best model only with val_f1_metric available, skipping.\n",
            " 3/13 [=====>........................] - ETA: 0s - loss: 0.0148 - accuracy: 0.9913 - f1_metric: 0.9761WARNING:tensorflow:Can save best model only with val_f1_metric available, skipping.\n",
            "WARNING:tensorflow:Can save best model only with val_f1_metric available, skipping.\n",
            " 5/13 [==========>...................] - ETA: 0s - loss: 0.0184 - accuracy: 0.9899 - f1_metric: 0.9736WARNING:tensorflow:Can save best model only with val_f1_metric available, skipping.\n",
            "WARNING:tensorflow:Can save best model only with val_f1_metric available, skipping.\n",
            " 7/13 [===============>..............] - ETA: 0s - loss: 0.0238 - accuracy: 0.9890 - f1_metric: 0.9753WARNING:tensorflow:Can save best model only with val_f1_metric available, skipping.\n",
            "WARNING:tensorflow:Can save best model only with val_f1_metric available, skipping.\n",
            " 9/13 [===================>..........] - ETA: 0s - loss: 0.0258 - accuracy: 0.9890 - f1_metric: 0.9768WARNING:tensorflow:Can save best model only with val_f1_metric available, skipping.\n",
            "WARNING:tensorflow:Can save best model only with val_f1_metric available, skipping.\n",
            "11/13 [========================>.....] - ETA: 0s - loss: 0.0269 - accuracy: 0.9893 - f1_metric: 0.9777WARNING:tensorflow:Can save best model only with val_f1_metric available, skipping.\n",
            "WARNING:tensorflow:Can save best model only with val_f1_metric available, skipping.\n",
            "13/13 [==============================] - ETA: 0s - loss: 0.0272 - accuracy: 0.9895 - f1_metric: 0.9782WARNING:tensorflow:Can save best model only with val_f1_metric available, skipping.\n",
            "13/13 [==============================] - 1s 44ms/step - loss: 0.0272 - accuracy: 0.9897 - f1_metric: 0.9782 - val_loss: 0.0331 - val_accuracy: 0.9901 - val_f1_metric: 0.9757\n",
            "Epoch 20/30\n",
            " 1/13 [=>............................] - ETA: 0s - loss: 0.0047 - accuracy: 1.0000 - f1_metric: 0.9333WARNING:tensorflow:Can save best model only with val_f1_metric available, skipping.\n",
            "WARNING:tensorflow:Can save best model only with val_f1_metric available, skipping.\n",
            " 3/13 [=====>........................] - ETA: 0s - loss: 0.0371 - accuracy: 0.9965 - f1_metric: 0.9427WARNING:tensorflow:Can save best model only with val_f1_metric available, skipping.\n",
            "WARNING:tensorflow:Can save best model only with val_f1_metric available, skipping.\n",
            " 5/13 [==========>...................] - ETA: 0s - loss: 0.0535 - accuracy: 0.9945 - f1_metric: 0.9490WARNING:tensorflow:Can save best model only with val_f1_metric available, skipping.\n",
            "WARNING:tensorflow:Can save best model only with val_f1_metric available, skipping.\n",
            " 7/13 [===============>..............] - ETA: 0s - loss: 0.0573 - accuracy: 0.9927 - f1_metric: 0.9543WARNING:tensorflow:Can save best model only with val_f1_metric available, skipping.\n",
            "WARNING:tensorflow:Can save best model only with val_f1_metric available, skipping.\n",
            " 9/13 [===================>..........] - ETA: 0s - loss: 0.0585 - accuracy: 0.9916 - f1_metric: 0.9580WARNING:tensorflow:Can save best model only with val_f1_metric available, skipping.\n",
            "WARNING:tensorflow:Can save best model only with val_f1_metric available, skipping.\n",
            "11/13 [========================>.....] - ETA: 0s - loss: 0.0592 - accuracy: 0.9911 - f1_metric: 0.9611WARNING:tensorflow:Can save best model only with val_f1_metric available, skipping.\n",
            "WARNING:tensorflow:Can save best model only with val_f1_metric available, skipping.\n",
            "13/13 [==============================] - ETA: 0s - loss: 0.0591 - accuracy: 0.9909 - f1_metric: 0.9636WARNING:tensorflow:Can save best model only with val_f1_metric available, skipping.\n",
            "13/13 [==============================] - 1s 43ms/step - loss: 0.0590 - accuracy: 0.9909 - f1_metric: 0.9647 - val_loss: 0.0288 - val_accuracy: 0.9901 - val_f1_metric: 0.9797\n",
            "Epoch 21/30\n",
            " 1/13 [=>............................] - ETA: 0s - loss: 0.0298 - accuracy: 0.9844 - f1_metric: 1.0081WARNING:tensorflow:Can save best model only with val_f1_metric available, skipping.\n",
            "WARNING:tensorflow:Can save best model only with val_f1_metric available, skipping.\n",
            " 3/13 [=====>........................] - ETA: 0s - loss: 0.0288 - accuracy: 0.9774 - f1_metric: 1.0072WARNING:tensorflow:Can save best model only with val_f1_metric available, skipping.\n",
            "WARNING:tensorflow:Can save best model only with val_f1_metric available, skipping.\n",
            " 5/13 [==========>...................] - ETA: 0s - loss: 0.0267 - accuracy: 0.9808 - f1_metric: 1.0016WARNING:tensorflow:Can save best model only with val_f1_metric available, skipping.\n",
            "WARNING:tensorflow:Can save best model only with val_f1_metric available, skipping.\n",
            " 7/13 [===============>..............] - ETA: 0s - loss: 0.0252 - accuracy: 0.9835 - f1_metric: 0.9965WARNING:tensorflow:Can save best model only with val_f1_metric available, skipping.\n",
            "WARNING:tensorflow:Can save best model only with val_f1_metric available, skipping.\n",
            " 9/13 [===================>..........] - ETA: 0s - loss: 0.0247 - accuracy: 0.9850 - f1_metric: 0.9929WARNING:tensorflow:Can save best model only with val_f1_metric available, skipping.\n",
            "WARNING:tensorflow:Can save best model only with val_f1_metric available, skipping.\n",
            "11/13 [========================>.....] - ETA: 0s - loss: 0.0256 - accuracy: 0.9859 - f1_metric: 0.9905WARNING:tensorflow:Can save best model only with val_f1_metric available, skipping.\n",
            "WARNING:tensorflow:Can save best model only with val_f1_metric available, skipping.\n",
            "13/13 [==============================] - ETA: 0s - loss: 0.0268 - accuracy: 0.9866 - f1_metric: 0.9891WARNING:tensorflow:Can save best model only with val_f1_metric available, skipping.\n",
            "13/13 [==============================] - 1s 45ms/step - loss: 0.0273 - accuracy: 0.9869 - f1_metric: 0.9884 - val_loss: 0.0209 - val_accuracy: 0.9950 - val_f1_metric: 0.9716\n",
            "Epoch 22/30\n",
            " 1/13 [=>............................] - ETA: 0s - loss: 0.0219 - accuracy: 0.9844 - f1_metric: 1.0236WARNING:tensorflow:Can save best model only with val_f1_metric available, skipping.\n",
            "WARNING:tensorflow:Can save best model only with val_f1_metric available, skipping.\n",
            " 3/13 [=====>........................] - ETA: 0s - loss: 0.0209 - accuracy: 0.9844 - f1_metric: 1.0112WARNING:tensorflow:Can save best model only with val_f1_metric available, skipping.\n",
            "WARNING:tensorflow:Can save best model only with val_f1_metric available, skipping.\n",
            " 5/13 [==========>...................] - ETA: 0s - loss: 0.0208 - accuracy: 0.9864 - f1_metric: 1.0098WARNING:tensorflow:Can save best model only with val_f1_metric available, skipping.\n",
            "WARNING:tensorflow:Can save best model only with val_f1_metric available, skipping.\n",
            " 7/13 [===============>..............] - ETA: 0s - loss: 0.0214 - accuracy: 0.9875 - f1_metric: 1.0059WARNING:tensorflow:Can save best model only with val_f1_metric available, skipping.\n",
            "WARNING:tensorflow:Can save best model only with val_f1_metric available, skipping.\n",
            " 9/13 [===================>..........] - ETA: 0s - loss: 0.0215 - accuracy: 0.9887 - f1_metric: 1.0033WARNING:tensorflow:Can save best model only with val_f1_metric available, skipping.\n",
            "WARNING:tensorflow:Can save best model only with val_f1_metric available, skipping.\n",
            "11/13 [========================>.....] - ETA: 0s - loss: 0.0217 - accuracy: 0.9896 - f1_metric: 1.0011WARNING:tensorflow:Can save best model only with val_f1_metric available, skipping.\n",
            "WARNING:tensorflow:Can save best model only with val_f1_metric available, skipping.\n",
            "13/13 [==============================] - ETA: 0s - loss: 0.0224 - accuracy: 0.9903 - f1_metric: 0.9988WARNING:tensorflow:Can save best model only with val_f1_metric available, skipping.\n",
            "13/13 [==============================] - 1s 44ms/step - loss: 0.0227 - accuracy: 0.9905 - f1_metric: 0.9977 - val_loss: 0.0191 - val_accuracy: 0.9901 - val_f1_metric: 0.9757\n",
            "Epoch 23/30\n",
            " 1/13 [=>............................] - ETA: 0s - loss: 0.0813 - accuracy: 0.9844 - f1_metric: 0.9508WARNING:tensorflow:Can save best model only with val_f1_metric available, skipping.\n",
            "WARNING:tensorflow:Can save best model only with val_f1_metric available, skipping.\n",
            " 3/13 [=====>........................] - ETA: 0s - loss: 0.0528 - accuracy: 0.9887 - f1_metric: 0.9660WARNING:tensorflow:Can save best model only with val_f1_metric available, skipping.\n",
            "WARNING:tensorflow:Can save best model only with val_f1_metric available, skipping.\n",
            " 5/13 [==========>...................] - ETA: 0s - loss: 0.0431 - accuracy: 0.9904 - f1_metric: 0.9679WARNING:tensorflow:Can save best model only with val_f1_metric available, skipping.\n",
            " 6/13 [============>.................] - ETA: 0s - loss: 0.0398 - accuracy: 0.9911 - f1_metric: 0.9690WARNING:tensorflow:Can save best model only with val_f1_metric available, skipping.\n",
            "WARNING:tensorflow:Can save best model only with val_f1_metric available, skipping.\n",
            " 8/13 [=================>............] - ETA: 0s - loss: 0.0351 - accuracy: 0.9918 - f1_metric: 0.9710WARNING:tensorflow:Can save best model only with val_f1_metric available, skipping.\n",
            "WARNING:tensorflow:Can save best model only with val_f1_metric available, skipping.\n",
            "10/13 [======================>.......] - ETA: 0s - loss: 0.0318 - accuracy: 0.9924 - f1_metric: 0.9724WARNING:tensorflow:Can save best model only with val_f1_metric available, skipping.\n",
            "WARNING:tensorflow:Can save best model only with val_f1_metric available, skipping.\n",
            "12/13 [==========================>...] - ETA: 0s - loss: 0.0301 - accuracy: 0.9930 - f1_metric: 0.9729WARNING:tensorflow:Can save best model only with val_f1_metric available, skipping.\n",
            "WARNING:tensorflow:Can save best model only with val_f1_metric available, skipping.\n",
            "13/13 [==============================] - 1s 43ms/step - loss: 0.0290 - accuracy: 0.9935 - f1_metric: 0.9733 - val_loss: 0.0172 - val_accuracy: 0.9901 - val_f1_metric: 0.9585\n",
            "Epoch 24/30\n",
            " 1/13 [=>............................] - ETA: 0s - loss: 0.0392 - accuracy: 0.9844 - f1_metric: 0.9919WARNING:tensorflow:Can save best model only with val_f1_metric available, skipping.\n",
            "WARNING:tensorflow:Can save best model only with val_f1_metric available, skipping.\n",
            " 3/13 [=====>........................] - ETA: 0s - loss: 0.0391 - accuracy: 0.9774 - f1_metric: 1.0154WARNING:tensorflow:Can save best model only with val_f1_metric available, skipping.\n",
            "WARNING:tensorflow:Can save best model only with val_f1_metric available, skipping.\n",
            " 5/13 [==========>...................] - ETA: 0s - loss: 0.0369 - accuracy: 0.9802 - f1_metric: 1.0155WARNING:tensorflow:Can save best model only with val_f1_metric available, skipping.\n",
            "WARNING:tensorflow:Can save best model only with val_f1_metric available, skipping.\n",
            " 7/13 [===============>..............] - ETA: 0s - loss: 0.0342 - accuracy: 0.9824 - f1_metric: 1.0122WARNING:tensorflow:Can save best model only with val_f1_metric available, skipping.\n",
            "WARNING:tensorflow:Can save best model only with val_f1_metric available, skipping.\n",
            " 9/13 [===================>..........] - ETA: 0s - loss: 0.0324 - accuracy: 0.9839 - f1_metric: 1.0079WARNING:tensorflow:Can save best model only with val_f1_metric available, skipping.\n",
            "WARNING:tensorflow:Can save best model only with val_f1_metric available, skipping.\n",
            "11/13 [========================>.....] - ETA: 0s - loss: 0.0320 - accuracy: 0.9846 - f1_metric: 1.0042WARNING:tensorflow:Can save best model only with val_f1_metric available, skipping.\n",
            "WARNING:tensorflow:Can save best model only with val_f1_metric available, skipping.\n",
            "13/13 [==============================] - ETA: 0s - loss: 0.0313 - accuracy: 0.9854 - f1_metric: 1.0014WARNING:tensorflow:Can save best model only with val_f1_metric available, skipping.\n",
            "13/13 [==============================] - 1s 43ms/step - loss: 0.0309 - accuracy: 0.9858 - f1_metric: 1.0004 - val_loss: 0.0143 - val_accuracy: 0.9950 - val_f1_metric: 0.9757\n",
            "Epoch 25/30\n",
            " 1/13 [=>............................] - ETA: 0s - loss: 0.0618 - accuracy: 0.9688 - f1_metric: 0.9919WARNING:tensorflow:Can save best model only with val_f1_metric available, skipping.\n",
            "WARNING:tensorflow:Can save best model only with val_f1_metric available, skipping.\n",
            " 3/13 [=====>........................] - ETA: 0s - loss: 0.0488 - accuracy: 0.9809 - f1_metric: 0.9759WARNING:tensorflow:Can save best model only with val_f1_metric available, skipping.\n",
            "WARNING:tensorflow:Can save best model only with val_f1_metric available, skipping.\n",
            " 5/13 [==========>...................] - ETA: 0s - loss: 0.0422 - accuracy: 0.9857 - f1_metric: 0.9728WARNING:tensorflow:Can save best model only with val_f1_metric available, skipping.\n",
            "WARNING:tensorflow:Can save best model only with val_f1_metric available, skipping.\n",
            " 7/13 [===============>..............] - ETA: 0s - loss: 0.0390 - accuracy: 0.9874 - f1_metric: 0.9720WARNING:tensorflow:Can save best model only with val_f1_metric available, skipping.\n",
            "WARNING:tensorflow:Can save best model only with val_f1_metric available, skipping.\n",
            " 9/13 [===================>..........] - ETA: 0s - loss: 0.0366 - accuracy: 0.9882 - f1_metric: 0.9718WARNING:tensorflow:Can save best model only with val_f1_metric available, skipping.\n",
            "WARNING:tensorflow:Can save best model only with val_f1_metric available, skipping.\n",
            "11/13 [========================>.....] - ETA: 0s - loss: 0.0344 - accuracy: 0.9890 - f1_metric: 0.9719WARNING:tensorflow:Can save best model only with val_f1_metric available, skipping.\n",
            "WARNING:tensorflow:Can save best model only with val_f1_metric available, skipping.\n",
            "13/13 [==============================] - ETA: 0s - loss: 0.0331 - accuracy: 0.9897 - f1_metric: 0.9718WARNING:tensorflow:Can save best model only with val_f1_metric available, skipping.\n",
            "13/13 [==============================] - 1s 44ms/step - loss: 0.0326 - accuracy: 0.9900 - f1_metric: 0.9718 - val_loss: 0.0160 - val_accuracy: 0.9901 - val_f1_metric: 0.9716\n",
            "Epoch 26/30\n",
            " 1/13 [=>............................] - ETA: 0s - loss: 0.0087 - accuracy: 1.0000 - f1_metric: 0.9677WARNING:tensorflow:Can save best model only with val_f1_metric available, skipping.\n",
            "WARNING:tensorflow:Can save best model only with val_f1_metric available, skipping.\n",
            " 3/13 [=====>........................] - ETA: 0s - loss: 0.0129 - accuracy: 0.9939 - f1_metric: 0.9668WARNING:tensorflow:Can save best model only with val_f1_metric available, skipping.\n",
            "WARNING:tensorflow:Can save best model only with val_f1_metric available, skipping.\n",
            " 5/13 [==========>...................] - ETA: 0s - loss: 0.0143 - accuracy: 0.9935 - f1_metric: 0.9680WARNING:tensorflow:Can save best model only with val_f1_metric available, skipping.\n",
            "WARNING:tensorflow:Can save best model only with val_f1_metric available, skipping.\n",
            " 7/13 [===============>..............] - ETA: 0s - loss: 0.0140 - accuracy: 0.9940 - f1_metric: 0.9702WARNING:tensorflow:Can save best model only with val_f1_metric available, skipping.\n",
            "WARNING:tensorflow:Can save best model only with val_f1_metric available, skipping.\n",
            " 9/13 [===================>..........] - ETA: 0s - loss: 0.0138 - accuracy: 0.9945 - f1_metric: 0.9707WARNING:tensorflow:Can save best model only with val_f1_metric available, skipping.\n",
            "WARNING:tensorflow:Can save best model only with val_f1_metric available, skipping.\n",
            "11/13 [========================>.....] - ETA: 0s - loss: 0.0136 - accuracy: 0.9950 - f1_metric: 0.9707WARNING:tensorflow:Can save best model only with val_f1_metric available, skipping.\n",
            "WARNING:tensorflow:Can save best model only with val_f1_metric available, skipping.\n",
            "13/13 [==============================] - ETA: 0s - loss: 0.0135 - accuracy: 0.9954 - f1_metric: 0.9706WARNING:tensorflow:Can save best model only with val_f1_metric available, skipping.\n",
            "13/13 [==============================] - 1s 45ms/step - loss: 0.0135 - accuracy: 0.9955 - f1_metric: 0.9706 - val_loss: 0.0067 - val_accuracy: 0.9950 - val_f1_metric: 0.9757\n",
            "Epoch 27/30\n",
            " 1/13 [=>............................] - ETA: 0s - loss: 0.1228 - accuracy: 0.9844 - f1_metric: 0.9508WARNING:tensorflow:Can save best model only with val_f1_metric available, skipping.\n",
            " 2/13 [===>..........................] - ETA: 0s - loss: 0.0926 - accuracy: 0.9883 - f1_metric: 0.9591WARNING:tensorflow:Can save best model only with val_f1_metric available, skipping.\n",
            "WARNING:tensorflow:Can save best model only with val_f1_metric available, skipping.\n",
            " 4/13 [========>.....................] - ETA: 0s - loss: 0.0674 - accuracy: 0.9909 - f1_metric: 0.9687WARNING:tensorflow:Can save best model only with val_f1_metric available, skipping.\n",
            "WARNING:tensorflow:Can save best model only with val_f1_metric available, skipping.\n",
            " 6/13 [============>.................] - ETA: 0s - loss: 0.0563 - accuracy: 0.9911 - f1_metric: 0.9723WARNING:tensorflow:Can save best model only with val_f1_metric available, skipping.\n",
            "WARNING:tensorflow:Can save best model only with val_f1_metric available, skipping.\n",
            " 8/13 [=================>............] - ETA: 0s - loss: 0.0491 - accuracy: 0.9917 - f1_metric: 0.9722WARNING:tensorflow:Can save best model only with val_f1_metric available, skipping.\n",
            "WARNING:tensorflow:Can save best model only with val_f1_metric available, skipping.\n",
            "10/13 [======================>.......] - ETA: 0s - loss: 0.0443 - accuracy: 0.9924 - f1_metric: 0.9730WARNING:tensorflow:Can save best model only with val_f1_metric available, skipping.\n",
            "WARNING:tensorflow:Can save best model only with val_f1_metric available, skipping.\n",
            "12/13 [==========================>...] - ETA: 0s - loss: 0.0411 - accuracy: 0.9924 - f1_metric: 0.9735WARNING:tensorflow:Can save best model only with val_f1_metric available, skipping.\n",
            "WARNING:tensorflow:Can save best model only with val_f1_metric available, skipping.\n",
            "13/13 [==============================] - 1s 46ms/step - loss: 0.0388 - accuracy: 0.9924 - f1_metric: 0.9745 - val_loss: 0.0208 - val_accuracy: 0.9901 - val_f1_metric: 0.9716\n",
            "Epoch 28/30\n",
            " 1/13 [=>............................] - ETA: 0s - loss: 0.0190 - accuracy: 0.9844 - f1_metric: 1.0000WARNING:tensorflow:Can save best model only with val_f1_metric available, skipping.\n",
            "WARNING:tensorflow:Can save best model only with val_f1_metric available, skipping.\n",
            " 3/13 [=====>........................] - ETA: 0s - loss: 0.0194 - accuracy: 0.9861 - f1_metric: 0.9946WARNING:tensorflow:Can save best model only with val_f1_metric available, skipping.\n",
            "WARNING:tensorflow:Can save best model only with val_f1_metric available, skipping.\n",
            " 5/13 [==========>...................] - ETA: 0s - loss: 0.0249 - accuracy: 0.9876 - f1_metric: 0.9897WARNING:tensorflow:Can save best model only with val_f1_metric available, skipping.\n",
            "WARNING:tensorflow:Can save best model only with val_f1_metric available, skipping.\n",
            " 7/13 [===============>..............] - ETA: 0s - loss: 0.0277 - accuracy: 0.9884 - f1_metric: 0.9857WARNING:tensorflow:Can save best model only with val_f1_metric available, skipping.\n",
            "WARNING:tensorflow:Can save best model only with val_f1_metric available, skipping.\n",
            " 9/13 [===================>..........] - ETA: 0s - loss: 0.0279 - accuracy: 0.9891 - f1_metric: 0.9820WARNING:tensorflow:Can save best model only with val_f1_metric available, skipping.\n",
            "WARNING:tensorflow:Can save best model only with val_f1_metric available, skipping.\n",
            "11/13 [========================>.....] - ETA: 0s - loss: 0.0276 - accuracy: 0.9898 - f1_metric: 0.9795WARNING:tensorflow:Can save best model only with val_f1_metric available, skipping.\n",
            "WARNING:tensorflow:Can save best model only with val_f1_metric available, skipping.\n",
            "13/13 [==============================] - ETA: 0s - loss: 0.0269 - accuracy: 0.9903 - f1_metric: 0.9778WARNING:tensorflow:Can save best model only with val_f1_metric available, skipping.\n",
            "13/13 [==============================] - 1s 45ms/step - loss: 0.0266 - accuracy: 0.9906 - f1_metric: 0.9772 - val_loss: 0.0063 - val_accuracy: 1.0000 - val_f1_metric: 0.9716\n",
            "Epoch 29/30\n",
            " 1/13 [=>............................] - ETA: 0s - loss: 0.0143 - accuracy: 1.0000 - f1_metric: 0.9593WARNING:tensorflow:Can save best model only with val_f1_metric available, skipping.\n",
            "WARNING:tensorflow:Can save best model only with val_f1_metric available, skipping.\n",
            " 3/13 [=====>........................] - ETA: 0s - loss: 0.0116 - accuracy: 1.0000 - f1_metric: 0.9649WARNING:tensorflow:Can save best model only with val_f1_metric available, skipping.\n",
            "WARNING:tensorflow:Can save best model only with val_f1_metric available, skipping.\n",
            " 5/13 [==========>...................] - ETA: 0s - loss: 0.0118 - accuracy: 0.9986 - f1_metric: 0.9654WARNING:tensorflow:Can save best model only with val_f1_metric available, skipping.\n",
            "WARNING:tensorflow:Can save best model only with val_f1_metric available, skipping.\n",
            " 7/13 [===============>..............] - ETA: 0s - loss: 0.0117 - accuracy: 0.9983 - f1_metric: 0.9654WARNING:tensorflow:Can save best model only with val_f1_metric available, skipping.\n",
            "WARNING:tensorflow:Can save best model only with val_f1_metric available, skipping.\n",
            " 9/13 [===================>..........] - ETA: 0s - loss: 0.0117 - accuracy: 0.9983 - f1_metric: 0.9655WARNING:tensorflow:Can save best model only with val_f1_metric available, skipping.\n",
            "WARNING:tensorflow:Can save best model only with val_f1_metric available, skipping.\n",
            "11/13 [========================>.....] - ETA: 0s - loss: 0.0115 - accuracy: 0.9983 - f1_metric: 0.9658WARNING:tensorflow:Can save best model only with val_f1_metric available, skipping.\n",
            "WARNING:tensorflow:Can save best model only with val_f1_metric available, skipping.\n",
            "13/13 [==============================] - ETA: 0s - loss: 0.0113 - accuracy: 0.9984 - f1_metric: 0.9661WARNING:tensorflow:Can save best model only with val_f1_metric available, skipping.\n",
            "13/13 [==============================] - 1s 44ms/step - loss: 0.0113 - accuracy: 0.9984 - f1_metric: 0.9663 - val_loss: 0.0053 - val_accuracy: 1.0000 - val_f1_metric: 0.9757\n",
            "Epoch 30/30\n",
            " 1/13 [=>............................] - ETA: 0s - loss: 0.0082 - accuracy: 1.0000 - f1_metric: 0.9677WARNING:tensorflow:Can save best model only with val_f1_metric available, skipping.\n",
            "WARNING:tensorflow:Can save best model only with val_f1_metric available, skipping.\n",
            " 3/13 [=====>........................] - ETA: 0s - loss: 0.0061 - accuracy: 1.0000 - f1_metric: 0.9763WARNING:tensorflow:Can save best model only with val_f1_metric available, skipping.\n",
            "WARNING:tensorflow:Can save best model only with val_f1_metric available, skipping.\n",
            " 5/13 [==========>...................] - ETA: 0s - loss: 0.0059 - accuracy: 1.0000 - f1_metric: 0.9753WARNING:tensorflow:Can save best model only with val_f1_metric available, skipping.\n",
            "WARNING:tensorflow:Can save best model only with val_f1_metric available, skipping.\n",
            " 7/13 [===============>..............] - ETA: 0s - loss: 0.0056 - accuracy: 1.0000 - f1_metric: 0.9747WARNING:tensorflow:Can save best model only with val_f1_metric available, skipping.\n",
            "WARNING:tensorflow:Can save best model only with val_f1_metric available, skipping.\n",
            " 9/13 [===================>..........] - ETA: 0s - loss: 0.0058 - accuracy: 1.0000 - f1_metric: 0.9732WARNING:tensorflow:Can save best model only with val_f1_metric available, skipping.\n",
            "WARNING:tensorflow:Can save best model only with val_f1_metric available, skipping.\n",
            "11/13 [========================>.....] - ETA: 0s - loss: 0.0064 - accuracy: 0.9997 - f1_metric: 0.9724WARNING:tensorflow:Can save best model only with val_f1_metric available, skipping.\n",
            "WARNING:tensorflow:Can save best model only with val_f1_metric available, skipping.\n",
            "13/13 [==============================] - ETA: 0s - loss: 0.0068 - accuracy: 0.9996 - f1_metric: 0.9715WARNING:tensorflow:Can save best model only with val_f1_metric available, skipping.\n",
            "13/13 [==============================] - 1s 46ms/step - loss: 0.0069 - accuracy: 0.9995 - f1_metric: 0.9710 - val_loss: 0.0053 - val_accuracy: 1.0000 - val_f1_metric: 0.9757\n",
            "CPU times: user 24.1 s, sys: 1.33 s, total: 25.4 s\n",
            "Wall time: 18.4 s\n"
          ],
          "name": "stdout"
        }
      ]
    },
    {
      "cell_type": "code",
      "metadata": {
        "colab": {
          "base_uri": "https://localhost:8080/"
        },
        "id": "6OK_hFgGGNmk",
        "outputId": "c5e4b31f-0e1a-4377-b890-2a233e772f2c"
      },
      "source": [
        "eval = model.evaluate(x=x_test, y=y_test, batch_size=64, verbose=1)"
      ],
      "execution_count": 33,
      "outputs": [
        {
          "output_type": "stream",
          "text": [
            "4/4 [==============================] - 0s 8ms/step - loss: 3.7873e-04 - accuracy: 1.0000 - f1_metric: 0.9651\n"
          ],
          "name": "stdout"
        }
      ]
    }
  ]
}