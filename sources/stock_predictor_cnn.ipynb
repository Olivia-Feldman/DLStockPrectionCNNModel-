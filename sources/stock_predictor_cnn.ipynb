{
  "nbformat": 4,
  "nbformat_minor": 0,
  "metadata": {
    "colab": {
      "name": "stock_predictor_cnn.ipynb",
      "provenance": [],
      "authorship_tag": "ABX9TyOcj+WEUvHnjkLuQGWmoWz/",
      "include_colab_link": true
    },
    "kernelspec": {
      "name": "python3",
      "display_name": "Python 3"
    },
    "widgets": {
      "application/vnd.jupyter.widget-state+json": {
        "a5ce165c94bd46bbb16e6fc6f0b6826b": {
          "model_module": "@jupyter-widgets/controls",
          "model_name": "HBoxModel",
          "state": {
            "_view_name": "HBoxView",
            "_dom_classes": [],
            "_model_name": "HBoxModel",
            "_view_module": "@jupyter-widgets/controls",
            "_model_module_version": "1.5.0",
            "_view_count": null,
            "_view_module_version": "1.5.0",
            "box_style": "",
            "layout": "IPY_MODEL_2f51ea0642744114b80fd0342720ef01",
            "_model_module": "@jupyter-widgets/controls",
            "children": [
              "IPY_MODEL_5bfa2975288b413ea65f06c02b8bb9ac",
              "IPY_MODEL_99a7fd07534a4d678a0f831faf422df0"
            ]
          }
        },
        "2f51ea0642744114b80fd0342720ef01": {
          "model_module": "@jupyter-widgets/base",
          "model_name": "LayoutModel",
          "state": {
            "_view_name": "LayoutView",
            "grid_template_rows": null,
            "right": null,
            "justify_content": null,
            "_view_module": "@jupyter-widgets/base",
            "overflow": null,
            "_model_module_version": "1.2.0",
            "_view_count": null,
            "flex_flow": null,
            "width": null,
            "min_width": null,
            "border": null,
            "align_items": null,
            "bottom": null,
            "_model_module": "@jupyter-widgets/base",
            "top": null,
            "grid_column": null,
            "overflow_y": null,
            "overflow_x": null,
            "grid_auto_flow": null,
            "grid_area": null,
            "grid_template_columns": null,
            "flex": null,
            "_model_name": "LayoutModel",
            "justify_items": null,
            "grid_row": null,
            "max_height": null,
            "align_content": null,
            "visibility": null,
            "align_self": null,
            "height": null,
            "min_height": null,
            "padding": null,
            "grid_auto_rows": null,
            "grid_gap": null,
            "max_width": null,
            "order": null,
            "_view_module_version": "1.2.0",
            "grid_template_areas": null,
            "object_position": null,
            "object_fit": null,
            "grid_auto_columns": null,
            "margin": null,
            "display": null,
            "left": null
          }
        },
        "5bfa2975288b413ea65f06c02b8bb9ac": {
          "model_module": "@jupyter-widgets/controls",
          "model_name": "FloatProgressModel",
          "state": {
            "_view_name": "ProgressView",
            "style": "IPY_MODEL_ff8a024ffaa44e11b78aa791184d9736",
            "_dom_classes": [],
            "description": "100%",
            "_model_name": "FloatProgressModel",
            "bar_style": "success",
            "max": 1258,
            "_view_module": "@jupyter-widgets/controls",
            "_model_module_version": "1.5.0",
            "value": 1258,
            "_view_count": null,
            "_view_module_version": "1.5.0",
            "orientation": "horizontal",
            "min": 0,
            "description_tooltip": null,
            "_model_module": "@jupyter-widgets/controls",
            "layout": "IPY_MODEL_afb86a2a98bc4c4e8c90b443f42d4541"
          }
        },
        "99a7fd07534a4d678a0f831faf422df0": {
          "model_module": "@jupyter-widgets/controls",
          "model_name": "HTMLModel",
          "state": {
            "_view_name": "HTMLView",
            "style": "IPY_MODEL_175b94d9c74b4cc3b0f08941c8324844",
            "_dom_classes": [],
            "description": "",
            "_model_name": "HTMLModel",
            "placeholder": "​",
            "_view_module": "@jupyter-widgets/controls",
            "_model_module_version": "1.5.0",
            "value": " 1258/1258 [00:03&lt;00:00, 404.13it/s]",
            "_view_count": null,
            "_view_module_version": "1.5.0",
            "description_tooltip": null,
            "_model_module": "@jupyter-widgets/controls",
            "layout": "IPY_MODEL_fc2f421012014babac5bb30471e4c0ba"
          }
        },
        "ff8a024ffaa44e11b78aa791184d9736": {
          "model_module": "@jupyter-widgets/controls",
          "model_name": "ProgressStyleModel",
          "state": {
            "_view_name": "StyleView",
            "_model_name": "ProgressStyleModel",
            "description_width": "initial",
            "_view_module": "@jupyter-widgets/base",
            "_model_module_version": "1.5.0",
            "_view_count": null,
            "_view_module_version": "1.2.0",
            "bar_color": null,
            "_model_module": "@jupyter-widgets/controls"
          }
        },
        "afb86a2a98bc4c4e8c90b443f42d4541": {
          "model_module": "@jupyter-widgets/base",
          "model_name": "LayoutModel",
          "state": {
            "_view_name": "LayoutView",
            "grid_template_rows": null,
            "right": null,
            "justify_content": null,
            "_view_module": "@jupyter-widgets/base",
            "overflow": null,
            "_model_module_version": "1.2.0",
            "_view_count": null,
            "flex_flow": null,
            "width": null,
            "min_width": null,
            "border": null,
            "align_items": null,
            "bottom": null,
            "_model_module": "@jupyter-widgets/base",
            "top": null,
            "grid_column": null,
            "overflow_y": null,
            "overflow_x": null,
            "grid_auto_flow": null,
            "grid_area": null,
            "grid_template_columns": null,
            "flex": null,
            "_model_name": "LayoutModel",
            "justify_items": null,
            "grid_row": null,
            "max_height": null,
            "align_content": null,
            "visibility": null,
            "align_self": null,
            "height": null,
            "min_height": null,
            "padding": null,
            "grid_auto_rows": null,
            "grid_gap": null,
            "max_width": null,
            "order": null,
            "_view_module_version": "1.2.0",
            "grid_template_areas": null,
            "object_position": null,
            "object_fit": null,
            "grid_auto_columns": null,
            "margin": null,
            "display": null,
            "left": null
          }
        },
        "175b94d9c74b4cc3b0f08941c8324844": {
          "model_module": "@jupyter-widgets/controls",
          "model_name": "DescriptionStyleModel",
          "state": {
            "_view_name": "StyleView",
            "_model_name": "DescriptionStyleModel",
            "description_width": "",
            "_view_module": "@jupyter-widgets/base",
            "_model_module_version": "1.5.0",
            "_view_count": null,
            "_view_module_version": "1.2.0",
            "_model_module": "@jupyter-widgets/controls"
          }
        },
        "fc2f421012014babac5bb30471e4c0ba": {
          "model_module": "@jupyter-widgets/base",
          "model_name": "LayoutModel",
          "state": {
            "_view_name": "LayoutView",
            "grid_template_rows": null,
            "right": null,
            "justify_content": null,
            "_view_module": "@jupyter-widgets/base",
            "overflow": null,
            "_model_module_version": "1.2.0",
            "_view_count": null,
            "flex_flow": null,
            "width": null,
            "min_width": null,
            "border": null,
            "align_items": null,
            "bottom": null,
            "_model_module": "@jupyter-widgets/base",
            "top": null,
            "grid_column": null,
            "overflow_y": null,
            "overflow_x": null,
            "grid_auto_flow": null,
            "grid_area": null,
            "grid_template_columns": null,
            "flex": null,
            "_model_name": "LayoutModel",
            "justify_items": null,
            "grid_row": null,
            "max_height": null,
            "align_content": null,
            "visibility": null,
            "align_self": null,
            "height": null,
            "min_height": null,
            "padding": null,
            "grid_auto_rows": null,
            "grid_gap": null,
            "max_width": null,
            "order": null,
            "_view_module_version": "1.2.0",
            "grid_template_areas": null,
            "object_position": null,
            "object_fit": null,
            "grid_auto_columns": null,
            "margin": null,
            "display": null,
            "left": null
          }
        }
      }
    }
  },
  "cells": [
    {
      "cell_type": "markdown",
      "metadata": {
        "id": "view-in-github",
        "colab_type": "text"
      },
      "source": [
        "<a href=\"https://colab.research.google.com/github/Olivia-Feldman/DLStockPrectionCNNModel-/blob/Andrew/sources/stock_predictor_cnn.ipynb\" target=\"_parent\"><img src=\"https://colab.research.google.com/assets/colab-badge.svg\" alt=\"Open In Colab\"/></a>"
      ]
    },
    {
      "cell_type": "markdown",
      "metadata": {
        "id": "mDQ7p3VWwTzY"
      },
      "source": [
        "# Default Imports"
      ]
    },
    {
      "cell_type": "code",
      "metadata": {
        "id": "y0hv_dunwR7J"
      },
      "source": [
        "import requests\n",
        "import pandas as pd\n",
        "import numpy as np\n",
        "from datetime import datetime\n",
        "import matplotlib.pyplot as plt\n",
        "import matplotlib.ticker as tick"
      ],
      "execution_count": 1,
      "outputs": []
    },
    {
      "cell_type": "markdown",
      "metadata": {
        "id": "d-6hn6-Vdy3w"
      },
      "source": [
        "# Set plot stylizations"
      ]
    },
    {
      "cell_type": "code",
      "metadata": {
        "id": "WmQoLK49d5sb"
      },
      "source": [
        "plt.rcParams.update({'font.size': 16})\n",
        "plt.rcParams['figure.figsize'] = [12, 8]\n",
        "plt.style.use('dark_background')"
      ],
      "execution_count": 2,
      "outputs": []
    },
    {
      "cell_type": "markdown",
      "metadata": {
        "id": "F2ZeVooibCVb"
      },
      "source": [
        "# Method for getting ticker data using Yahoo Finance API"
      ]
    },
    {
      "cell_type": "code",
      "metadata": {
        "id": "CKir13DZiStn"
      },
      "source": [
        "\n",
        "def getStockData(ticker: str, startYear: str, endYear: str):\n",
        "    url = \"https://query1.finance.yahoo.com/v8/finance/chart/\" + ticker + \"?region=US&lang=en-US&includePrePost=false&interval=1d&useYfid=true&range=5y&corsDomain=finance.yahoo.com&.tsrc=finance\"\n",
        "    x = requests.get(url)\n",
        "    jsonResponse = x.json()\n",
        "    timestamps = jsonResponse[\"chart\"][\"result\"][0][\"timestamp\"]\n",
        "    open = jsonResponse[\"chart\"][\"result\"][0][\"indicators\"][\"quote\"][0][\"open\"]\n",
        "    high = jsonResponse[\"chart\"][\"result\"][0][\"indicators\"][\"quote\"][0][\"high\"]\n",
        "    low = jsonResponse[\"chart\"][\"result\"][0][\"indicators\"][\"quote\"][0][\"low\"]\n",
        "    close = jsonResponse[\"chart\"][\"result\"][0][\"indicators\"][\"quote\"][0][\"close\"]\n",
        "    volume = jsonResponse[\"chart\"][\"result\"][0][\"indicators\"][\"quote\"][0][\"volume\"]\n",
        "\n",
        "    datetimes = list(map(toDatetime, timestamps))\n",
        "\n",
        "    data = {\n",
        "        'timestamps' : datetimes,\n",
        "        'open' : open,\n",
        "        'high' : high,\n",
        "        'low' : low,\n",
        "        'close' : close,\n",
        "        'volume' : volume\n",
        "    }\n",
        "\n",
        "    df = pd.DataFrame(data, columns=['timestamps', 'open', 'high', 'low', 'close', 'volume'])\n",
        "    return df\n",
        "\n",
        "def toDatetime(t):\n",
        "    return datetime.fromtimestamp(t)\n"
      ],
      "execution_count": 3,
      "outputs": []
    },
    {
      "cell_type": "markdown",
      "metadata": {
        "id": "obgFPuP-bSN3"
      },
      "source": [
        "# Plotting AAPL close prices to visualize"
      ]
    },
    {
      "cell_type": "code",
      "metadata": {
        "colab": {
          "base_uri": "https://localhost:8080/",
          "height": 503
        },
        "id": "HHwQWq3-sWL5",
        "outputId": "157d6077-e2bb-4c77-a720-abfb096c4cda"
      },
      "source": [
        "ticker = 'QQQ'\n",
        "df = getStockData(ticker, \"2017\", \"2020\")\n",
        "\n",
        "ax = df.plot(x='timestamps', y=['open'], kind='line', title=ticker + ' prices')\n",
        "vals = ax.get_yticks()\n",
        "ax.set_yticklabels(['${:1.2f}'.format(x) for x in vals])\n",
        "ax.xaxis.grid(True, which='minor', linestyle='-', linewidth=0.25)\n",
        "ax.set_axisbelow(True)\n",
        "ax.grid(linestyle='-', linewidth='0.5', color='gray')\n",
        "\n",
        "plt.show()"
      ],
      "execution_count": 4,
      "outputs": [
        {
          "output_type": "display_data",
          "data": {
            "image/png": "[encoded data removed]",
            "text/plain": [
              "<Figure size 864x576 with 1 Axes>"
            ]
          },
          "metadata": {
            "tags": []
          }
        }
      ]
    },
    {
      "cell_type": "markdown",
      "metadata": {
        "id": "zDiySzRWbder"
      },
      "source": [
        "# Method for labeling price data as BUY, HOLD, or SELL\n",
        "\n",
        "*SELL = 0, BUY = 1, HOLD = 2*\n",
        "\n",
        "\n",
        "*Parameters:*\n",
        "\n",
        "    df: Pandas DataFrame\n",
        "    col_name: Name of the column in df that will be used to determine labels\n",
        "        - availiable names: \"open\", \"close\", \"high\", \"low\"\n",
        "    window_size: How large the window size will be when determining labels\n",
        "        - default size: 11"
      ]
    },
    {
      "cell_type": "code",
      "metadata": {
        "id": "pY9Dw0gB4DOp"
      },
      "source": [
        "from tqdm.auto import tqdm\n",
        "\n",
        "def create_labels(df, col_name, window_size=11):\n",
        "\n",
        "    row_counter = 0\n",
        "    total_rows = len(df)\n",
        "    # Creates a 1 x N numpy array\n",
        "    labels = np.zeros(total_rows)\n",
        "    # Makes all the entries in labels array equal to nan\n",
        "    labels[:] = np.nan\n",
        "    # Sets up a progress bar\n",
        "    pbar = tqdm(total=total_rows)\n",
        "\n",
        "    while row_counter < total_rows:\n",
        "\n",
        "        # Stalls labeling calculation until the row_counter is at least as big as the window_size\n",
        "        if row_counter >= window_size - 1:\n",
        "            window_begin = row_counter - (window_size - 1)\n",
        "            window_end = row_counter\n",
        "            window_middle = (window_begin + window_end) // 2 # Cast as int\n",
        "\n",
        "            min_ = np.inf\n",
        "            min_index = -1\n",
        "            max_ = -np.inf\n",
        "            max_index = -1\n",
        "            for i in range(window_begin, window_end + 1):\n",
        "                # Selected value at 'i' index in column with name equal to col_name variable\n",
        "                price = df.iloc[i][col_name]\n",
        "                if price < min_:\n",
        "                    # Finds the smallest value in the window\n",
        "                    # 'min_' is initially set to infinity\n",
        "                    min_ = price\n",
        "                    # Saves the index of the lowest value\n",
        "                    min_index = i\n",
        "                if price > max_:\n",
        "                    # Finds the largest value in the window\n",
        "                    # 'max_' is initially set to -infinity\n",
        "                    max_ = price\n",
        "                    # Saves the index of the largest value\n",
        "                    max_index = i\n",
        "\n",
        "            if max_index == window_middle:\n",
        "                # Sets label to SELL\n",
        "                labels[window_middle] = 0\n",
        "            elif min_index == window_middle:\n",
        "                # Sets label to BUY\n",
        "                labels[window_middle] = 1\n",
        "            else:\n",
        "                # Sets label to HOLD\n",
        "                labels[window_middle] = 2\n",
        "\n",
        "        row_counter = row_counter + 1\n",
        "        pbar.update(1)\n",
        "\n",
        "    pbar.close()\n",
        "    return labels"
      ],
      "execution_count": 5,
      "outputs": []
    },
    {
      "cell_type": "markdown",
      "metadata": {
        "id": "RtdxAGJZcvbF"
      },
      "source": [
        "# Plotting of prediction labels using 'close' column"
      ]
    },
    {
      "cell_type": "code",
      "metadata": {
        "id": "hysHG0ab08CB",
        "colab": {
          "base_uri": "https://localhost:8080/",
          "height": 575,
          "referenced_widgets": [
            "a5ce165c94bd46bbb16e6fc6f0b6826b",
            "2f51ea0642744114b80fd0342720ef01",
            "5bfa2975288b413ea65f06c02b8bb9ac",
            "99a7fd07534a4d678a0f831faf422df0",
            "ff8a024ffaa44e11b78aa791184d9736",
            "afb86a2a98bc4c4e8c90b443f42d4541",
            "175b94d9c74b4cc3b0f08941c8324844",
            "fc2f421012014babac5bb30471e4c0ba"
          ]
        },
        "outputId": "0188561a-365f-4d41-b52d-5c139345aebd"
      },
      "source": [
        "labels = create_labels(df, 'close')\n",
        "df['labels'] = labels\n",
        "df['labels'] = df['labels'].fillna(0)\n",
        "\n",
        "fig = plt.figure()\n",
        "plt.plot(labels, ',')\n",
        "plt.title('Prediction Labels')"
      ],
      "execution_count": 6,
      "outputs": [
        {
          "output_type": "display_data",
          "data": {
            "application/vnd.jupyter.widget-view+json": {
              "model_id": "a5ce165c94bd46bbb16e6fc6f0b6826b",
              "version_minor": 0,
              "version_major": 2
            },
            "text/plain": [
              "HBox(children=(FloatProgress(value=0.0, max=1258.0), HTML(value='')))"
            ]
          },
          "metadata": {
            "tags": []
          }
        },
        {
          "output_type": "stream",
          "text": [
            "\n"
          ],
          "name": "stdout"
        },
        {
          "output_type": "execute_result",
          "data": {
            "text/plain": [
              "Text(0.5, 1.0, 'Prediction Labels')"
            ]
          },
          "metadata": {
            "tags": []
          },
          "execution_count": 6
        },
        {
          "output_type": "display_data",
          "data": {
            "image/png": "[encoded data removed]",
            "text/plain": [
              "<Figure size 864x576 with 1 Axes>"
            ]
          },
          "metadata": {
            "tags": []
          }
        }
      ]
    },
    {
      "cell_type": "markdown",
      "metadata": {
        "id": "Ex3SiOnwXc-_"
      },
      "source": [
        "# Method Definition for plotting indicators"
      ]
    },
    {
      "cell_type": "code",
      "metadata": {
        "id": "OH30OzzvXccu"
      },
      "source": [
        "def plot_indicators(df, columns, yTitle, xTitle):\n",
        "    plt.figure()\n",
        "    ax = df[columns].plot(title=yTitle)\n",
        "    ax.set_xlabel(xTitle)\n",
        "    ax.set_ylabel(yTitle)"
      ],
      "execution_count": 7,
      "outputs": []
    },
    {
      "cell_type": "markdown",
      "metadata": {
        "id": "yRCNLq1umIa4"
      },
      "source": [
        "# Technical Indicator methods\n",
        "\n",
        "\n",
        "***Technical Indicators Used:***\n",
        "\n",
        "*   MACD\n",
        "*   RSI\n",
        "*   %K\n",
        "*   %D\n",
        "*   ATR\n",
        "*   DEMA\n",
        "*   BB\n",
        "*   WR\n",
        "\n",
        "\n",
        "\n",
        "\n",
        "\n",
        "\n",
        "\n"
      ]
    },
    {
      "cell_type": "markdown",
      "metadata": {
        "id": "fLAugiBvWsS3"
      },
      "source": [
        "# ***RSI***: Relative Strength Index\n",
        "\n",
        "\n",
        "\n",
        "*   Signals about bullish and bearish price momentum, and it is often plotted beneath the graph of an asset's price\n",
        "*   An asset is usually considered overbought when the RSI is above ***`70%`*** and oversold when it is below ***`30%`***\n",
        "*   A momentum indicator used in technical analysis that measures the magnitude of recent price changes to evaluate overbought or oversold conditions in the price of a stock or other asset\n",
        "*   The RSI is displayed as an oscillator and can have a reading from 0 to 100.\n",
        "\n",
        "$$\\frac{sin(x)}{x}$$\n",
        "\n",
        "\\begin{equation}\n",
        "F(k) = \\int_{-\\infty}^{\\infty} f(x) e^{2\\pi i k} dx\n",
        "\\end{equation}\n",
        "\n",
        "\\begin{equation}\n",
        "RSI_{step-one} = 100 - \\Bigg[ \\frac{100}{1 + \\frac{Average Gain}{Average Loss}}\\Bigg]\n",
        "\\end{equation}\n",
        "\n",
        "\\begin{equation}\n",
        "RSI_{step-two} = 100 - \\Bigg[ \\frac{100}{1 + \\frac{(Previous Average Gain*(N-1)) + Current Gain}{(Previous Average Loss*(N-1)) + Current Loss}}\\Bigg]\n",
        "\\end{equation}\n",
        "\n",
        "[Investopedia](https://www.investopedia.com/terms/r/rsi.asp)\n",
        "\n",
        "<font color='red'> TODO: Code calculation might be slightly wrong </font>\n",
        "\n"
      ]
    },
    {
      "cell_type": "code",
      "metadata": {
        "id": "9iZ9GSAuWpVs"
      },
      "source": [
        "def calculate_rsi(df, iteration):\n",
        "    diff = df['close'].diff()\n",
        "    up, down = diff.copy(), diff.copy()\n",
        "    up[up < 0] = 0 # Converting to Average Gain\n",
        "    down[down > 0] = 0 # Converting to Average Loss\n",
        "    down = abs(down) # Positive Value of Average Loss\n",
        "    iter_Num_Day_Up_Closes = up.rolling(iteration).mean() # interation # day periods\n",
        "    iter_Num_Day_Down_Closes = down.rolling(iteration).mean() # interaction # day periods\n",
        "    relative_strength = iter_Num_Day_Up_Closes / iter_Num_Day_Down_Closes\n",
        "    df['RSI_'+str(iteration)] = 100 - (100 / (1 + relative_strength))\n",
        "    df['RSI_'+str(iteration)] = df['RSI_'+str(iteration)].fillna(0)"
      ],
      "execution_count": 8,
      "outputs": []
    },
    {
      "cell_type": "markdown",
      "metadata": {
        "id": "gMv0B0HhPO5I"
      },
      "source": [
        "# ***MACD***: Moving Average Convergance Diverage Momentum\n",
        "\n",
        "\n",
        "* MACD triggers technical signals when it crosses above (to buy) or below (to sell) its signal line.\n",
        "* The speed of crossovers is also taken as a signal of a market is overbought or oversold.\n",
        "* MACD helps investors understand whether the bullish or bearish movement in the price is strengthening or weakening.\n",
        "\n",
        "\\begin{equation}\n",
        "MACD =  EMA_{12-period} - EMA_{26-period}\n",
        "\\end{equation}\n",
        "\n",
        "[Investopedia](https://www.investopedia.com/terms/m/macd.asp)"
      ]
    },
    {
      "cell_type": "code",
      "metadata": {
        "id": "PgmWZo1LPKMS"
      },
      "source": [
        "def calculate_macd(df, iteration):\n",
        "    df['MACD_'+str(iteration)] = df[\"close\"].ewm(span=12).mean() - df[\"close\"].ewm(span=26).mean()\n",
        "    df['MACD_'+str(iteration)] = df['MACD_'+str(iteration)].fillna(0)\n",
        "    #df['Signal Line'] = df['MACD'].ewm(span=9).mean()"
      ],
      "execution_count": 9,
      "outputs": []
    },
    {
      "cell_type": "markdown",
      "metadata": {
        "id": "kjnTJtNYUbiD"
      },
      "source": [
        "# ***EMA***: Exponential Moving Average\n",
        "\n",
        "\n",
        "*   Moving average that places a greater weight and significance on the most recent data points\n",
        "*   Traders often use several different EMA lengths, such as <font color='orange'> 10-day </font>, <font color='orange'> 50-day </font>, and <font color='orange'> 200-day </font> moving averages.\n",
        "\n",
        "\\begin{equation}\n",
        "EMA = \\Bigg( Value_{Today}  * \\Big( \\frac{Smoothing}{1+Days} \\Big) + EMA_{Yesterday} * \\Big( 1 - \\Big( \\frac{Smoothing}{1+Days} \\Big) \\Big) \\Bigg)\n",
        "\\end{equation}\n",
        "\n",
        "\\begin{equation}\n",
        "Weighted Multipler = \\frac{Smoothing}{1+Days}\n",
        "\\end{equation}\n",
        "\n",
        "\\begin{equation}\n",
        "EMA = \\Bigg( \\Big( Value_{Today} - EMA_{Yesterday} \\Big) * \\Big( Weighted Multipler \\Big) + EMA_{Yesterday} \\Bigg)\n",
        "\\end{equation}\n",
        "\n",
        "*   While there are many possible choices for the smoothing factor, the most common choice is:\n",
        "  *   <font color='orange'> Smoothing = 2 </font>\n",
        "  *   That gives the most recent observation more weight. If the smoothing factor is <font color='orange'> increased </font>, more recent observations have <font color='orange'> more influence </font> on the EMA.\n",
        "\n",
        "\n",
        "[Investopedia Definition](https://www.investopedia.com/terms/e/ema.asp)\n",
        "\n",
        "[Investopedia Calculation](https://www.investopedia.com/ask/answers/122314/what-exponential-moving-average-ema-formula-and-how-ema-calculated.asp)\n",
        "\n"
      ]
    },
    {
      "cell_type": "code",
      "metadata": {
        "id": "g1kLA-Y0Ua7N"
      },
      "source": [
        "def calculate_ema(df, iteration, windowSize=11):\n",
        "\n",
        "    if 'EMA_'+str(iteration) in df.columns:\n",
        "        return df['EMA_'+str(iteration)]\n",
        "        print(\"found EMA column\")\n",
        "    else:\n",
        "        multiplier = (2/(windowSize+1))\n",
        "        ema_1 = df['close'].rolling(windowSize).sum() / windowSize\n",
        "        #ema_1 = ema_1.fillna(0)\n",
        "        df['EMA_'+str(iteration)] = (df['close'] -  ema_1) * multiplier + ema_1 # -> Is this right?\n",
        "        df['EMA_'+str(iteration)] = df['EMA_'+str(iteration)].fillna(0)\n",
        "        return df['EMA_'+str(iteration)]"
      ],
      "execution_count": 10,
      "outputs": []
    },
    {
      "cell_type": "markdown",
      "metadata": {
        "id": "kEpEsOdimZ5O"
      },
      "source": [
        "# ***SR***: Stochastic Oscillator\n",
        "\n",
        "\n",
        "\n",
        "*   The general theory serving as the foundation for this indicator is that in a market trending upward, prices will close near the high, and in a market trending downward, prices close near the low\n",
        "*   Transaction signals are created when the %K crosses through a three-period moving average, which is called the %D.\n",
        "\n",
        "\\begin{equation}\n",
        "K = \\Bigg( \\frac{C - L14}{H14-L14} \\Bigg) * 100\n",
        "\\end{equation}\n",
        "\n",
        "\n",
        "\n",
        "*   where:\n",
        "    *   <font color=\"orange\">C</font> = The most recent closing price\n",
        "    *   <font color=\"orange\">L14</font> = The lowest price traded of the 14 previous\n",
        "trading sessions\n",
        "    *   <font color=\"orange\">H14</font> = The highest price traded during the same 14-day period\n",
        "    *   <font color=\"orange\">%K</font> = The current value of the stochastic indicator\n",
        "\n",
        "[Investopedia Definition](https://www.investopedia.com/terms/s/stochasticoscillator.asp)\n"
      ]
    },
    {
      "cell_type": "code",
      "metadata": {
        "id": "tZhUU6gWmWM2"
      },
      "source": [
        "# SR: Stochastic Oscillator\n",
        "def calculate_sr(df, iteration):\n",
        "    eleven_high = df['high'].rolling(11).max()\n",
        "    eleven_low = df['low'].rolling(11).min()\n",
        "    # %K is referred to sometimes as the fast stochastic indicator\n",
        "    fast_K = (df['close']-eleven_low)*100/(eleven_high - eleven_low)\n",
        "    # The \"slow\" stochastic indicator is taken as %D = 3-period moving average of %K\n",
        "    df['%D_'+str(iteration)] = fast_K.rolling(3).mean()\n",
        "    df['%D_'+str(iteration)] = df['%D_'+str(iteration)].fillna(0)"
      ],
      "execution_count": 11,
      "outputs": []
    },
    {
      "cell_type": "markdown",
      "metadata": {
        "id": "cQAlrWaG9cT4"
      },
      "source": [
        "# ***WR***: Williams Percent Range\n",
        "\n",
        "\n",
        "\n",
        "*   Williams %R moves between zero and -100.\n",
        "*   A reading above -20 is overbought.\n",
        "*   A reading below -80 is oversold.\n",
        "*   An overbought or oversold reading <font color='red'>doesn't</font> mean the price will reverse. Overbought simply means the price is near the highs of its recent range, and oversold means the price is in the lower end of its recent range.\n",
        "\n",
        "\\begin{equation}\n",
        "WR  = \\Bigg( \\frac{Highest High - Close}{Highest High - Lowest Low} \\Bigg) * -100\n",
        "\\end{equation}\n",
        "\n",
        "\n",
        "\n",
        "*   where:\n",
        "  *   <font color='orange'>Highest High</font> = Highest price in the lookback\n",
        "period, typically 14 days.\n",
        "  *   <font color='orange'>Lowest Low</font> = Lowest price in the lookback period, typically 14 days.\n",
        "  *   <font color='orange'>Close</font> = Most recent closing price\n",
        "\n",
        "\n",
        "The Williams %R (<font color='green'>***WR***</font>) and the Fast Stochastic Oscillator (<font color='green'>***SR***</font>) end up being <font color='red'>almost the exact same</font> indicator. The only difference between the two is how the indicators are scaled. \n",
        "\n",
        "[Investopedia Definition](https://www.investopedia.com/terms/w/williamsr.asp)\n"
      ]
    },
    {
      "cell_type": "code",
      "metadata": {
        "id": "uIOED0r89cED"
      },
      "source": [
        "def calculate_WR(df, iteration):\n",
        "    eleven_high = df['high'].rolling(11).max()\n",
        "    eleven_low = df['low'].rolling(11).min()\n",
        "    df['WR_'+str(iteration)] = (eleven_high - df['close']) / (eleven_high - eleven_low) * -100\n",
        "    df['WR_'+str(iteration)] = df['WR_'+str(iteration)].rolling(3).mean()\n",
        "    df['WR_'+str(iteration)] = df['WR_'+str(iteration)].fillna(0)"
      ],
      "execution_count": 12,
      "outputs": []
    },
    {
      "cell_type": "markdown",
      "metadata": {
        "id": "fvGhyTPqBhGd"
      },
      "source": [
        "# ***MFI***: Money Flow Index\n",
        "\n",
        "*   Uses price and volume data for identifying overbought or oversold signals in an asset\n",
        "*   It can also be used to spot divergences which warn of a trend change in price.\n",
        "*   The oscillator moves between <font color='orange'>0</font> and <font color='orange'>100</font>.\n",
        "*   An MFI reading above <font color='orange'>80</font> is considered <font color='orange'>overbought</font> and an MFI reading below <font color='orange'>20</font> is considered <font color='orange'>oversold</font>, although levels of 90 and 10 are also used as thresholds\n",
        "\n",
        "\n",
        "\\begin{equation}\n",
        "MFI  = \\Bigg( 100 - \\frac{100}{1 + Money ~Flow ~Ratio} \\Bigg)\n",
        "\\end{equation}\n",
        "\n",
        "\n",
        "\n",
        "*   where:\n",
        "\n",
        "\\begin{equation}\n",
        "Money ~Flow ~Ratio  = \\Bigg(\\frac{14~Period ~Positive ~Money ~Flow}{14~Period ~Negative ~Money ~Flow} \\Bigg)\n",
        "\\end{equation}\n",
        "\n",
        "\\begin{equation}\n",
        "Raw ~Money ~Flow  = Typical ~Price * Volume\n",
        "\\end{equation}\n",
        "\n",
        "\\begin{equation}\n",
        "Typical ~Price  = \\Bigg(\\frac{High+Low+Close}{3} \\Bigg)\n",
        "\\end{equation}\n",
        "\n",
        "\n",
        "\n",
        "*   When the price advances from one period to the next Raw Money Flow is <font color='lightgreen'>**positive**</font> and it is added to Positive Money Flow. \n",
        "*   When Raw Money Flow is <font color='red'>**negative**</font> because the price dropped that period, it is added to Negative Money Flow.\n",
        "\n",
        "\n",
        "\n",
        "\n",
        "[Investopedia Definition](https://www.investopedia.com/terms/m/mfi.asp)\n",
        "\n",
        "\n",
        "<font color='red'>TODO: Check that code calculations are correct</font>"
      ]
    },
    {
      "cell_type": "code",
      "metadata": {
        "id": "hYvxBCaEG8mx"
      },
      "source": [
        "# MFI: Money Flow Index\n",
        "def calculate_mfi(df, iteration):\n",
        "    price = (df['close'] + df['high'] + df['low']) / 3\n",
        "    #mf = df['tp'] * df['volume']\n",
        "    mf = price * df['volume']\n",
        "    positive_flow = []\n",
        "    negative_flow = []\n",
        "    positive_mf = []\n",
        "    negative_mf = []\n",
        "    # Loop through typical price calculations\n",
        "    for i in range(1, len(price)):\n",
        "        # If current TP > previous TP, mark as positive flow\n",
        "        if price[i] > price[i-1]:\n",
        "            positive_flow.append(mf[i-1])\n",
        "            negative_flow.append(0)\n",
        "        # If current TP < previous TP, mark as negative flow\n",
        "        elif price[i] < [i-1]:\n",
        "            negative_flow.append(mf[i-1])\n",
        "            positive_flow.append(0)\n",
        "        # If no change, mark both as zero\n",
        "        else:\n",
        "            positive_flow.append(0)\n",
        "            negative_flow.append(0) \n",
        "    for i in range(len(positive_flow) + 1):\n",
        "        positive_mf.append(sum(positive_flow[i+1-11:i+1]))\n",
        "    for i in range(len(negative_flow) + 1):\n",
        "        negative_mf.append(sum(negative_flow[i+1-11:i+1]))\n",
        "    df['MFI_'+str(iteration)] = 100 * (np.array(positive_mf) / (np.array(positive_mf) + np.array(negative_mf)))\n",
        "    #df['MFI_'+str(iteration)] = 100 - (100 / (1 + (np.array(positive_mf) + np.array(negative_mf))))\n",
        "    df['MFI_'+str(iteration)] = df['MFI_'+str(iteration)].fillna(0)"
      ],
      "execution_count": 13,
      "outputs": []
    },
    {
      "cell_type": "markdown",
      "metadata": {
        "id": "juGa3bCHTVmN"
      },
      "source": [
        "# ***BB***: Bollinger Band\n",
        "\n",
        "\n",
        "\n",
        "*   When the bands come close together, constricting the moving average, it is called a squeeze.\n",
        "*   The <font color='red'>mistake</font> most people make is believing that that price hitting or exceeding one of the bands is a signal to buy or sell. \n",
        "*   Breakouts provide <font color='red'>no clue</font> as to the direction and extent of future price movement.\n",
        "*   The upper and lower bands are typically <font color='orange'>2 standard deviations +/-</font> from a 20-day simple moving average, but can be modified.\n",
        "\n",
        "\\begin{equation}\n",
        "BOLU  = MA(TP, n) + m * σ[TP, n]\n",
        "\\end{equation}\n",
        "\n",
        "\\begin{equation}\n",
        "BOLD  = MA(TP, n) - m * σ[TP, n]\n",
        "\\end{equation}\n",
        "\n",
        "\n",
        "\n",
        "*   where:\n",
        "  *   <font color='orange'>BOLU</font> = Upper Bollinger Band\n",
        "  *   <font color='orange'>BOLD</font> = Lower Bollinger Band\n",
        "  *   <font color='orange'>MA</font> = Moving average\n",
        "  *   <font color='orange'>TP</font> (typical price) = (High + Low + Close) ÷ 3\n",
        "  *   <font color='orange'>n</font> = Number of days in smoothing period (typically 20)\n",
        "  *   <font color='orange'>m</font> = Number of standard deviations (typically 2)\n",
        "  *   <font color='orange'>σ[TP,n]</font> = Standard Deviation over last n periods of TP\n",
        "\n",
        "\n",
        "\n",
        "\n"
      ]
    },
    {
      "cell_type": "code",
      "metadata": {
        "id": "H-tbGkBCWwcg"
      },
      "source": [
        "def calculate_bb(df, iteration):\n",
        "    # Creating temporary Dataframe\n",
        "    atr_df = pd.DataFrame()\n",
        "    atr_df['close'] = df['close']\n",
        "    atr_df['MA11'] = df['close'].rolling(window=11).mean()\n",
        "    atr_df['11STD'] = df['close'].rolling(window=11).std()\n",
        "    atr_df['Upper'] = atr_df['MA11'] + (atr_df['11STD'] * 2) # -> Where is this 2 coming from?\n",
        "    atr_df['Lower'] = atr_df['MA11'] - (atr_df['11STD'] * 2)\n",
        "    df['BB_'+str(iteration)] = atr_df[['close','MA11','Upper','Lower']].max(axis=1)\n",
        "    df['BB_'+str(iteration)] = df['BB_'+str(iteration)].fillna(0)\n",
        "    plot_indicators(atr_df, ['Upper', 'Lower', 'MA11'], \"Bollinger Band\", \"Days\")\n"
      ],
      "execution_count": 14,
      "outputs": []
    },
    {
      "cell_type": "markdown",
      "metadata": {
        "id": "_FeI91yt9bvr"
      },
      "source": [
        "# ***ATR***: Average True Range\n",
        "\n",
        "\n",
        "\n",
        "*   A market volatility indicator used in technical analysis\n",
        "*   It is typically derived from the <font color='orange'>14-day</font> simple moving average of a series of true range indicators\n",
        "\n",
        "\n",
        "\\begin{equation}\n",
        "TR  = Max \\Big[ (H-L), ~Abs(H-C_{p}), ~Abs(L-C_{p}) \\Big]\n",
        "\\end{equation}\n",
        "\\begin{equation}\n",
        "ATR  = \\Big( \\frac{1}{n} \\Big) \\sum_{i=1}^{n}{TR_{i}}\n",
        "\\end{equation}\n",
        "\n",
        "*   where:\n",
        "  *   <font color='orange'>$TR_{i}$</font> = A particular true range\n",
        "  *   <font color='orange'>n</font> = The time period employed\n",
        "  *   <font color='orange'>$C_{p}$</font> = Previous Close\n",
        "  *   <font color='orange'>H</font> = Current High\n",
        "  *   <font color='orange'>L</font> = Current Low\n",
        "\n",
        "\n",
        "\n",
        "*   Traders can use <font color='orange'>shorter periods</font> than 14 days to generate more trading signals, while <font color='orange'>longer periods</font> have a higher probability to generate fewer trading signals.\n",
        "*   List item\n",
        "\n",
        "\n",
        "[Investopia Definition](https://www.investopedia.com/terms/a/atr.asp)\n",
        "\n",
        "\n"
      ]
    },
    {
      "cell_type": "code",
      "metadata": {
        "id": "XBP6VqVGK0t6"
      },
      "source": [
        "# ATR: Average True Range\n",
        "def calculate_atr(df, iteration):\n",
        "\n",
        "    if 'ATR_'+str(iteration) in df.columns:\n",
        "        return df['ATR_'+str(iteration)]\n",
        "    else:\n",
        "        data = df.copy()\n",
        "        high = df['high']\n",
        "        low = df['low']\n",
        "        close = df['close']\n",
        "        tr_0 = abs(high - low)\n",
        "        # Creating temporary Dataframe\n",
        "        atr_df = pd.DataFrame()\n",
        "        atr_df['tr0'] = abs(high - low)\n",
        "        atr_df['tr1'] = abs(high - close.shift())\n",
        "        atr_df['tr2'] = abs(low - close.shift())\n",
        "        atr_df['TR'] = atr_df[['tr0', 'tr1', 'tr2']].max(axis=1)\n",
        "        df['ATR_'+str(iteration)] = atr_df['TR'].ewm(alpha=1/11,adjust=False).mean()\n",
        "        df['ATR_'+str(iteration)] = df['ATR_'+str(iteration)].fillna(0)\n",
        "        #print(np.where(df['ATR'] < 0))\n",
        "        return df['ATR_'+str(iteration)]"
      ],
      "execution_count": 15,
      "outputs": []
    },
    {
      "cell_type": "markdown",
      "metadata": {
        "id": "-V-FtN907LSn"
      },
      "source": [
        "# ***KC***: Kelter Channel\n",
        "\n",
        "\n",
        "\n",
        "*   The exponential moving average (EMA) of a Keltner Channel is typically <font color='orange'>20 periods</font>, although this can be adjusted if desired.\n",
        "*   The upper and lower bands are typically set <font color='orange'>two times</font> the average true range (ATR) above and below the EMA, although the multiplier can also be adjusted based on personal preference.\n",
        "*   Price reaching the upper Keltner Channel band is <font color='lightgreen'>bullish</font>, while reaching the lower band is <font color='red'>bearish</font>.\n",
        "*   The angle of the Keltner Channel also aids in identifying the trend direction.\n",
        "\n",
        "\\begin{equation}\n",
        "Keltner ~Channel ~Middle ~Line = EMA\n",
        "\\end{equation}\n",
        "\\begin{equation}\n",
        "Keltner ~Channel ~Upper ~Line = EMA + 2 * ATR\n",
        "\\end{equation}\n",
        "\\begin{equation}\n",
        "Keltner ~Channel ~Lower ~Line = EMA - 2 * ATR\n",
        "\\end{equation}\n",
        "\n",
        "\n",
        "\n",
        "*   where:\n",
        "  *   <font color='orange'>EMA</font> = Exponential moving average (typically over <font color='orange'>20</font> periods)\n",
        "  *   <font color='orange'>ATR</font> = Average True Range (typically over <font color='orange'>10 or 20</font> periods)\n",
        "*   The bands may also not act as support or resistance and they may seem to have little forecasting ability at all. This could be due to the settings chosen, but there is also <font color='red'>no evidence</font> that the price moving two ATRs or hitting one of the bands will result in a trading opportunity or something significant happening.\n",
        "\n",
        "\n",
        "[Investopedia](https://www.investopedia.com/terms/k/keltnerchannel.asp)\n",
        "\n",
        "\n"
      ]
    },
    {
      "cell_type": "code",
      "metadata": {
        "id": "isNTgHLlBGsQ"
      },
      "source": [
        "# KC: Kelter Channel\n",
        "def calculate_kc(df, iteration):\n",
        "    #df['KC'] = df.copy\n",
        "    #KelChM = pd.Series(((df['high'] + df['low'] + df['close']).rolling(11).mean() / 3), name = 'KelChM_' + str(11)) \n",
        "    #KelChU = pd.Series(((4 * df['high'] - 2 * df['low'] + df['close']).rolling(11).mean() / 3), name = 'KelChU_' + str(11))  \n",
        "    #KelChD = pd.Series(((-2 * df['high'] + 4 * df['low'] + df['close']).rolling(11).mean() / 3), name = 'KelChD_' + str(11))\n",
        "    atr = calculate_atr(df, iteration)\n",
        "    temp_df = pd.DataFrame()\n",
        "    temp_df['middle'] = calculate_ema(df, iteration)\n",
        "    temp_df['upper'] = temp_df['middle'] + 2 * atr\n",
        "    temp_df['lower'] = temp_df['middle'] - 2 * atr\n",
        "    df['KC_'+str(iteration)] = temp_df[['middle','upper','lower']].max(axis=1)\n",
        "    df['KC_'+str(iteration)] = df['KC_'+str(iteration)].fillna(0)\n",
        "    #print(np.where(temp_df['middle'] > temp_df['upper']))"
      ],
      "execution_count": 16,
      "outputs": []
    },
    {
      "cell_type": "markdown",
      "metadata": {
        "id": "hOx2pesGBS21"
      },
      "source": [
        "# ***DEMA***: Double Exponential Moving Average\n",
        "\n",
        "\n",
        "\n",
        "*   The Double Exponential Moving Average (DEMA) is one that <font color='orange'>responds more quickly</font> to near-term price changes than a normal exponential moving average (EMA)\n",
        "*   The DEMA can be used in the same way as other MAs, as long as the trader understands the indicator will <font color='orange'>react quicker and contain less information</font> since it's been smoothed twice. This may require some alteration of strategies.\n",
        "*   Less lag is <font color='red'>not always</font> a good thing because lag helps <font color='orange'>filter out noise</font>. An indicator with less lag is more prone to reacting to noise or small inconsequential price moves.\n",
        "*   A longer-term time frame DEMA, e.g. over 100 periods, will be slower to react than a shorter-term time frame DEMA, of e.g. 20 periods.\n",
        "\n",
        "\n",
        "\n",
        "\\begin{equation}\n",
        "DEMA = 2 * EMA_{N} - EMA ~of ~EMA_{N}\n",
        "\\end{equation}\n",
        "\n",
        "\n",
        "\n",
        "*   where\n",
        "  *   <font color='orange'>N</font> = Look-back period\n",
        "\n",
        "[Investopedia Definition](https://www.investopedia.com/terms/d/double-exponential-moving-average.asp)\n",
        "\n",
        "\n",
        "\n"
      ]
    },
    {
      "cell_type": "code",
      "metadata": {
        "id": "qKRDCB79FVeE"
      },
      "source": [
        "# DEMA: Double Exponential Moving Average\n",
        "def calculate_dema(df, iteration):\n",
        "    multiplier = (2/(11+1))\n",
        "    dema_1 = sum(df['close'],11)\n",
        "    df['DEMA_'+str(iteration)] = (df['close'] * multiplier) + (dema_1 * (1-multiplier))\n",
        "    df['DEMA_'+str(iteration)] = df['DEMA_'+str(iteration)].fillna(0)"
      ],
      "execution_count": 17,
      "outputs": []
    },
    {
      "cell_type": "markdown",
      "metadata": {
        "id": "1uYySVkhFZSZ"
      },
      "source": [
        "# ***CCI***: Commodity Channel Index\n",
        "\n",
        "\n",
        "\n",
        "*   The Commodity Channel Index (CCI) is a technical indicator that measures the difference between the current price and the historical average price.\n",
        "*   When the CCI is above zero, it indicates the price is above the historic average. Conversely, when the CCI is below zero, the price is below the historic average.\n",
        "*   The CCI is an unbounded oscillator, meaning it can go higher or lower indefinitely. For this reason, overbought and oversold levels are typically determined for each individual asset by looking at historical extreme CCI levels where the price reversed from.\n",
        "*   When the CCI moves from negative or near-zero territory to <font color='orange'>above 100</font>, that may indicate the price is starting a new uptrend. Once this occurs, traders can watch for a pullback in price followed by a rally in both price and the CCI to signal a <font color='orange'>buying</font> opportunity.\n",
        "*   The same concept applies to an emerging downtrend. When the indicator goes from positive or near-zero readings to <font color='orange'>below -100</font>, then a downtrend may be starting. This is a signal to get out of longs or to start watching for <font color='orange'>shorting</font> opportunities.\n",
        "\n",
        "\\begin{equation}\n",
        "DEMA = \\frac{Typical ~Price - MA}{0.015 * Mean ~Deviation}\n",
        "\\end{equation}\n",
        "\n",
        "*   where:\n",
        "  *   <font color='orange'>Typical Price</font> = $\\sum_{i=1}^{P}{\\Big(\\frac{High + Low + Close}{3}\\Big)}$\n",
        "  *   <font color='orange'>P</font> = Number of periods\n",
        "  *   <font color='orange'>MA</font> = Moving Average\n",
        "  *   <font color='orange'>Moving Average</font> = $\\frac{\\Big(\\sum_{i=1}^{P}{Typical Price}\\Big)}{P}$\n",
        "  *   <font color='orange'>Mean Deviation</font> = $\\frac{\\Big(\\sum_{i=1}^{P}{|Typical ~Price - MA|}\\Big)}{P}$\n",
        "\n",
        "[Investopedia Definition](https://www.investopedia.com/terms/c/commoditychannelindex.asp)\n",
        "\n",
        "\n",
        "\n"
      ]
    },
    {
      "cell_type": "code",
      "metadata": {
        "id": "-gFmuQOHNHId"
      },
      "source": [
        "# CCI: Commodity Channel Index\n",
        "def calculate_cci(df, iteration):\n",
        "    typical_price = (df['high'] + df['low'] + df['close']) / 3\n",
        "    df['CCI_'+str(iteration)] = ((typical_price - typical_price.rolling(11).mean())/ (0.015 * typical_price.rolling(11).std()))\n",
        "    df['CCI_'+str(iteration)] = df['CCI_'+str(iteration)].fillna(0)"
      ],
      "execution_count": 18,
      "outputs": []
    },
    {
      "cell_type": "markdown",
      "metadata": {
        "id": "j8ek5W8XINBI"
      },
      "source": [
        "# ***EMV***: Ease of Movement Volume\n",
        "\n",
        "\n",
        "\n",
        "*   This indicator calculates how easily a price can move up or down.\n",
        "*   The calculation subtracts yesterday's average price from today's average price and divides the difference by volume.\n",
        "*   This generates a volume-weighted momentum indicator.\n",
        "\n",
        "\\begin{equation}\n",
        "Distance ~Moved = \\Bigg(\\frac{High + Low}{2} - \\frac{PH + PL}{2}\\Bigg)\n",
        "\\end{equation}\n",
        "\n",
        "\\begin{equation}\n",
        "Box ~Ratio = \\frac{\\big(\\frac{Volume}{Scale}\\big)}{High + Low}\n",
        "\\end{equation}\n",
        "\n",
        "\\begin{equation}\n",
        "1-Period ~EMV = \\frac{Distance ~ Moved}{Box ~ Ratio}\n",
        "\\end{equation}\n",
        "\n",
        "*   where\n",
        "  *   <font color='orange'>PH</font> = Prior High\n",
        "  *   <font color='orange'>PL</font> = Prior Low\n",
        "\n",
        "\n",
        "\n",
        "*   Scale equals <font color='orange'>1,000</font> to <font color='orange'>1,000,000,000</font> depending on the average daily volume of the stock\n",
        "  *   The more heavily traded the stock, the higher the scale should be to keep the indicator value in single or double digits.\n",
        "*   When the indicator creates output values above zero and rising, this suggests that the price is <font color='lightgreen'><b>increasing</b></font> on low volume, while falling negative values suggest that the price is <font color='red'><b>dropping</b></font> on low volume.\n",
        "*   Some analysts prefer to add a moving average to the EMV line and use it as a <font color='orange'>trigger line</font> to generate trading signals.\n",
        "\n",
        "[Investopedia Definition](https://www.investopedia.com/terms/e/easeofmovement.asp)\n",
        "\n",
        "\n",
        "\n",
        "\n"
      ]
    },
    {
      "cell_type": "code",
      "metadata": {
        "id": "rM3yQvFNL2nv"
      },
      "source": [
        "def calculate_emv(df, iteration):\n",
        "    distance_moved = ((df['high'] + df['low'])/2) - ((df['high'].shift(iteration) + df['low'].shift(iteration))/2)\n",
        "    box_ratio = (df['volume'] / 100000000) / ((df['high'] - df['low']))\n",
        "    df['EVM_'+str(iteration)] = distance_moved / box_ratio \n",
        "    df['EVM_'+str(iteration)] = df['EVM_'+str(iteration)].fillna(0)"
      ],
      "execution_count": 19,
      "outputs": []
    },
    {
      "cell_type": "markdown",
      "metadata": {
        "id": "fSi8MnLoNklr"
      },
      "source": [
        "# ***FI***: Force Index\n",
        "\n",
        "\n",
        "\n",
        "*   A rising force index, above zero, helps confirm rising prices.\n",
        "*   A falling force index, below zero, helps confirm falling prices.\n",
        "*   A breakout, or a spike, in the force index, helps confirm a <font color='lightgreen'>breakout in price</font>.\n",
        "*   If the force index is making lower swing highs while the price is making higher swing highs, this is bearish divergence and warns the <font color='red'>price may soon decline</font>.\n",
        "*   If the force index is making higher swing lows while the price is making lower swing lows, this is bullish divergence and warns the <font color='lightgreen'>price may soon head higher</font>.\n",
        "*   The force index is typically <font color='orange'>13 periods</font> but this can be adjusted based on preference. The more periods used the smoother the movements of the index, typically preferred by longer-term traders.\n",
        "\n",
        "\\begin{equation}\n",
        "FI(1) = (CCP − PCP)∗VFI(13)\n",
        "\\end{equation}\n",
        "\n",
        "\\begin{equation}\n",
        "13~Period~EMA~of~FI(1)\n",
        "\\end{equation}\n",
        "\n",
        "\n",
        "\n",
        "*   where\n",
        "  *   <font color='orange'>FI</font> = Force Index\n",
        "  *   <font color='orange'>CCP</font> = Current close price\n",
        "  *   <font color='orange'>PCP</font> = Prior close price\n",
        "  *   <font color='orange'>VFI</font> Volume force index\n",
        "  *   <font color='orange'>EMA</font> = Exponential moving average\n",
        "\n",
        "[Investopedia Definition](https://www.investopedia.com/terms/f/force-index.asp)\n",
        "\n",
        " <font color='red'>TODO: Formula for VFI & EMA</font>\n"
      ]
    },
    {
      "cell_type": "code",
      "metadata": {
        "id": "BDEiKw14Nj14"
      },
      "source": [
        "def calculate_fi(df, iteration):\n",
        "    df['FI_'+str(iteration)] = df['close'].diff(iteration) * df['volume']\n",
        "    df['FI_'+str(iteration)] = df['FI_'+str(iteration)].fillna(0)"
      ],
      "execution_count": 20,
      "outputs": []
    },
    {
      "cell_type": "markdown",
      "metadata": {
        "id": "yszhULJ4Q1nX"
      },
      "source": [
        "# ***ROC***: Price Rate of Change\n",
        "\n",
        "\n",
        "\n",
        "*   The Price Rate of Change (ROC) oscillator is and unbounded momentum indicator used in technical analysis set against a <font color='orange'>zero-level midpoint</font>.\n",
        "*   A rising ROC above zero typically confirms an <font color='lightgreen'>uptrend</font> while a falling ROC below zero indicates a <font color='red'>downtrend</font>.\n",
        "*   When the price is consolidating, the ROC will hover near zero. In this case, it is important traders <font color='orange'>watch the overall price trend</font> since the ROC will provide little insight except for confirming the consolidation.\n",
        "\n",
        "\\begin{equation}\n",
        "ROC = \\Bigg( \\frac{Closing~Price_{p} - Closing~Price_{p-n}}{Closing~Price_{p-n}} \\Bigg) * 100\n",
        "\\end{equation}\n",
        "\n",
        "\n",
        "\n",
        "*   where\n",
        "  *   <font color='orange'>$Closing~Price_{p}$</font> = Closing price of most recent price\n",
        "  *   <font color='orange'>$Closing~Price_{p-n}$</font> = Closing price <font color='orange'>n</font> periods before\n",
        "\n",
        "\n",
        "[Investopedia Definition](https://www.investopedia.com/terms/p/pricerateofchange.asp)\n",
        "\n"
      ]
    },
    {
      "cell_type": "code",
      "metadata": {
        "id": "dnV5hnnaQ1VN"
      },
      "source": [
        "def calculate_roc(df, iteration):\n",
        "    N = df['close'].diff(iteration)\n",
        "    D = df['close'].shift(iteration)\n",
        "    df['ROC_'+str(iteration)] = N / D\n",
        "    df['ROC_'+str(iteration)] = df['ROC_'+str(iteration)].fillna(0)"
      ],
      "execution_count": 21,
      "outputs": []
    },
    {
      "cell_type": "markdown",
      "metadata": {
        "id": "WER1Afe-TIcL"
      },
      "source": [
        "# ***OBV***: On-Balance Volume\n",
        "\n",
        "\n",
        "\n",
        "*   On-balance volume (OBV) is a technical indicator of momentum, using volume changes to make price predictions.\n",
        "*   OBV shows crowd sentiment that can predict a <font color='lightgreen'>bullish</font> or <font color='red'>bearish</font> outcome.\n",
        "*   Comparing relative action between price bars and OBV generates more actionable signals than the green or red volume histograms commonly found at the bottom of price charts. \n",
        "\n",
        "\n",
        "\\begin{equation}\n",
        "  OBV = OBV_{prev} +\n",
        "  \\begin{cases}\n",
        "    volume,& \\text{if} ~close>close_{prev}\\\\\n",
        "    0,& \\text{if} ~close=close_{prev}\\\\\n",
        "    -volume,& \\text{if} ~close<close_{prev}\n",
        "  \\end{cases}\n",
        "\\end{equation}\n",
        "\n",
        "\n",
        "\n",
        "*   where\n",
        "  *   <font color='orange'>OBV</font> = Current on-balance volume level\n",
        "  *   <font color='orange'>$OBV_{prev}$</font> = Previous on-balance volume level\n",
        "  *   <font color='orange'>volume</font> = Latest trading volume amount\n",
        "\n",
        "[Investopedia Definition](https://www.investopedia.com/terms/o/onbalancevolume.asp)\n"
      ]
    },
    {
      "cell_type": "code",
      "metadata": {
        "id": "SUOEDzKgl_9k"
      },
      "source": [
        "def calculate_obv(df, iteration):\n",
        "    df['OBV_'+str(iteration)] = np.where(df['close'] > df['close'].shift(1), df['volume'], np.where(df['close'] < df['close'].shift(1), -df['volume'],0)).cumsum()\n",
        "    df['OBV_'+str(iteration)] = df['OBV_'+str(iteration)].fillna(0)"
      ],
      "execution_count": 22,
      "outputs": []
    },
    {
      "cell_type": "code",
      "metadata": {
        "id": "3Ia0mFbwhaV-"
      },
      "source": [
        "#calculate_kc(df)"
      ],
      "execution_count": 23,
      "outputs": []
    },
    {
      "cell_type": "markdown",
      "metadata": {
        "id": "EphNOjiG47al"
      },
      "source": [
        "# Run all Technical Indicator methods"
      ]
    },
    {
      "cell_type": "code",
      "metadata": {
        "id": "2qRx19uZ4yWi",
        "colab": {
          "base_uri": "https://localhost:8080/",
          "height": 562
        },
        "outputId": "7c128aa9-1be8-4ab7-bf24-4647fad94dee"
      },
      "source": [
        "indicator_range = 26\n",
        "\n",
        "# for x in range(1, indicator_range+1):\n",
        "#     calculate_macd(df, x)\n",
        "#     calculate_rsi(df, x)\n",
        "#     calculate_sr(df, x)\n",
        "#     calculate_WR(df, x)\n",
        "#     calculate_ema(df, x)\n",
        "#     calculate_mfi(df, x)\n",
        "#     calculate_bb(df, x)\n",
        "#     calculate_atr(df, x)\n",
        "#     calculate_kc(df, x)\n",
        "#     calculate_dema(df, x)\n",
        "#     calculate_cci(df, x)\n",
        "#     calculate_emv(df, x)\n",
        "#     calculate_fi(df, x)\n",
        "#     calculate_roc(df, x)\n",
        "#     calculate_obv(df, x)\n",
        "\n",
        "for x in range(1, indicator_range+1):\n",
        "    calculate_macd(df, x)\n",
        "for x in range(6, indicator_range+1):\n",
        "    calculate_rsi(df, x)\n",
        "for x in range(1, indicator_range+1):\n",
        "    calculate_sr(df, x)\n",
        "for x in range(1, indicator_range+1):\n",
        "    calculate_WR(df, x)\n",
        "for x in range(1, indicator_range+1):\n",
        "    calculate_ema(df, x)\n",
        "for x in range(1, indicator_range+1):\n",
        "    calculate_mfi(df, x)\n",
        "for x in range(1, 2):\n",
        "    calculate_bb(df, x)\n",
        "for x in range(1, indicator_range+1):\n",
        "    calculate_atr(df, x)\n",
        "for x in range(1, indicator_range+1):\n",
        "    calculate_kc(df, x)\n",
        "for x in range(1, indicator_range+1):\n",
        "    calculate_dema(df, x)\n",
        "for x in range(1, indicator_range+1):\n",
        "    calculate_cci(df, x)\n",
        "for x in range(1, 7):\n",
        "    calculate_emv(df, x)\n",
        "for x in range(10, indicator_range+1):\n",
        "    calculate_fi(df, x)\n",
        "for x in range(5, indicator_range):\n",
        "    calculate_roc(df, x)\n",
        "for x in range(1, indicator_range+1):\n",
        "    calculate_obv(df, x)"
      ],
      "execution_count": 24,
      "outputs": [
        {
          "output_type": "stream",
          "text": [
            "/usr/local/lib/python3.7/dist-packages/ipykernel_launcher.py:28: RuntimeWarning: invalid value encountered in true_divide\n"
          ],
          "name": "stderr"
        },
        {
          "output_type": "display_data",
          "data": {
            "text/plain": [
              "<Figure size 864x576 with 0 Axes>"
            ]
          },
          "metadata": {
            "tags": []
          }
        },
        {
          "output_type": "display_data",
          "data": {
            "image/png": "[encoded data removed]",
            "text/plain": [
              "<Figure size 864x576 with 1 Axes>"
            ]
          },
          "metadata": {
            "tags": []
          }
        }
      ]
    },
    {
      "cell_type": "markdown",
      "metadata": {
        "id": "ecdJ54mz5Eub"
      },
      "source": [
        "# Plot charts for Technical Indicators"
      ]
    },
    {
      "cell_type": "code",
      "metadata": {
        "id": "KyJQ-qxy4xM9",
        "colab": {
          "base_uri": "https://localhost:8080/",
          "height": 528
        },
        "outputId": "daf792b4-83bf-42d0-d14e-8ac99098cf5a"
      },
      "source": [
        "\n",
        "#plot_indicators(df, ['MACD_1'], \"MACD\", \"Days\")\n",
        "#plot_indicators(df, [\"EMA_10\", \"close\"], \"EMA\", \"Days\")\n",
        "#plot_indicators(df, \"RSI_26\", \"RSI\", \"Days\")\n",
        "plot_indicators(df, \"FI_10\", \"FI\", \"Days\")"
      ],
      "execution_count": 25,
      "outputs": [
        {
          "output_type": "display_data",
          "data": {
            "image/png": "[encoded data removed]",
            "text/plain": [
              "<Figure size 864x576 with 1 Axes>"
            ]
          },
          "metadata": {
            "tags": []
          }
        }
      ]
    },
    {
      "cell_type": "markdown",
      "metadata": {
        "id": "L45HR25Kxn2P"
      },
      "source": [
        "# Normalization of the Data"
      ]
    },
    {
      "cell_type": "code",
      "metadata": {
        "id": "QPQJTRfMw6w0",
        "colab": {
          "base_uri": "https://localhost:8080/"
        },
        "outputId": "be80635d-e31b-49c2-bef4-4b354efa2d12"
      },
      "source": [
        "from sklearn.preprocessing import MinMaxScaler, OneHotEncoder\n",
        "from sklearn.model_selection import train_test_split\n",
        "from collections import Counter\n",
        "\n",
        "pd.options.display.max_columns = 20\n",
        "\n",
        "#print(df.columns)\n",
        "#list_features = list(df.loc[:, 'open': 'OBV_'+str(indicator_range)].columns) # Gets the names of all the columns from MACD to RSI\n",
        "list_features = list(df.loc[:, ~df.columns.isin(['timestamps', 'labels'])].columns)\n",
        "print('Total number of features', len(list_features))\n",
        "print(\"Columns:\", list_features)\n",
        "\n",
        "\n",
        "# df.loc[:, 'MACD':'RSI'].values: -> Data used to create 'x_train' and 'x_test'\n",
        "# df['labels'].values: -> Data used to create 'y_train' and 'y_test'\n",
        "#print(df.loc[:, 'MACD':'OBV'])\n",
        "x_train, x_test, y_train, y_test = train_test_split(df.loc[:, 'open': 'OBV_'+str(indicator_range)].values, df['labels'].values, train_size=0.8, test_size=0.2, random_state=2, shuffle=True, stratify=df['labels'].values)\n",
        "\n",
        "if 0.7*x_train.shape[0] < 2500:\n",
        "    # If training dataset is small, it increases the percentage of training\n",
        "    train_split = 0.8\n",
        "else:\n",
        "    train_split = 0.7\n",
        "\n",
        "print('train_split =', train_split)\n",
        "x_train, x_cv, y_train, y_cv = train_test_split(x_train, y_train, train_size=train_split, test_size=1-train_split, \n",
        "                                                random_state=2, shuffle=True, stratify=y_train)\n",
        "\n",
        "mm_scaler = MinMaxScaler(feature_range=(0, 1)) # or StandardScaler?\n",
        "#print(x_train[0])\n",
        "x_train = mm_scaler.fit_transform(x_train)\n",
        "x_cv = mm_scaler.transform(x_cv)\n",
        "x_test = mm_scaler.transform(x_test)\n",
        "\n",
        "print(\"Shape of x, y train/cv/test {} {} {} {} {} {}\".format(x_train.shape, y_train.shape, x_cv.shape, y_cv.shape, x_test.shape, y_test.shape))\n"
      ],
      "execution_count": 26,
      "outputs": [
        {
          "output_type": "stream",
          "text": [
            "Total number of features 331\n",
            "Columns: ['open', 'high', 'low', 'close', 'volume', 'MACD_1', 'MACD_2', 'MACD_3', 'MACD_4', 'MACD_5', 'MACD_6', 'MACD_7', 'MACD_8', 'MACD_9', 'MACD_10', 'MACD_11', 'MACD_12', 'MACD_13', 'MACD_14', 'MACD_15', 'MACD_16', 'MACD_17', 'MACD_18', 'MACD_19', 'MACD_20', 'MACD_21', 'MACD_22', 'MACD_23', 'MACD_24', 'MACD_25', 'MACD_26', 'RSI_6', 'RSI_7', 'RSI_8', 'RSI_9', 'RSI_10', 'RSI_11', 'RSI_12', 'RSI_13', 'RSI_14', 'RSI_15', 'RSI_16', 'RSI_17', 'RSI_18', 'RSI_19', 'RSI_20', 'RSI_21', 'RSI_22', 'RSI_23', 'RSI_24', 'RSI_25', 'RSI_26', '%D_1', '%D_2', '%D_3', '%D_4', '%D_5', '%D_6', '%D_7', '%D_8', '%D_9', '%D_10', '%D_11', '%D_12', '%D_13', '%D_14', '%D_15', '%D_16', '%D_17', '%D_18', '%D_19', '%D_20', '%D_21', '%D_22', '%D_23', '%D_24', '%D_25', '%D_26', 'WR_1', 'WR_2', 'WR_3', 'WR_4', 'WR_5', 'WR_6', 'WR_7', 'WR_8', 'WR_9', 'WR_10', 'WR_11', 'WR_12', 'WR_13', 'WR_14', 'WR_15', 'WR_16', 'WR_17', 'WR_18', 'WR_19', 'WR_20', 'WR_21', 'WR_22', 'WR_23', 'WR_24', 'WR_25', 'WR_26', 'EMA_1', 'EMA_2', 'EMA_3', 'EMA_4', 'EMA_5', 'EMA_6', 'EMA_7', 'EMA_8', 'EMA_9', 'EMA_10', 'EMA_11', 'EMA_12', 'EMA_13', 'EMA_14', 'EMA_15', 'EMA_16', 'EMA_17', 'EMA_18', 'EMA_19', 'EMA_20', 'EMA_21', 'EMA_22', 'EMA_23', 'EMA_24', 'EMA_25', 'EMA_26', 'MFI_1', 'MFI_2', 'MFI_3', 'MFI_4', 'MFI_5', 'MFI_6', 'MFI_7', 'MFI_8', 'MFI_9', 'MFI_10', 'MFI_11', 'MFI_12', 'MFI_13', 'MFI_14', 'MFI_15', 'MFI_16', 'MFI_17', 'MFI_18', 'MFI_19', 'MFI_20', 'MFI_21', 'MFI_22', 'MFI_23', 'MFI_24', 'MFI_25', 'MFI_26', 'BB_1', 'ATR_1', 'ATR_2', 'ATR_3', 'ATR_4', 'ATR_5', 'ATR_6', 'ATR_7', 'ATR_8', 'ATR_9', 'ATR_10', 'ATR_11', 'ATR_12', 'ATR_13', 'ATR_14', 'ATR_15', 'ATR_16', 'ATR_17', 'ATR_18', 'ATR_19', 'ATR_20', 'ATR_21', 'ATR_22', 'ATR_23', 'ATR_24', 'ATR_25', 'ATR_26', 'KC_1', 'KC_2', 'KC_3', 'KC_4', 'KC_5', 'KC_6', 'KC_7', 'KC_8', 'KC_9', 'KC_10', 'KC_11', 'KC_12', 'KC_13', 'KC_14', 'KC_15', 'KC_16', 'KC_17', 'KC_18', 'KC_19', 'KC_20', 'KC_21', 'KC_22', 'KC_23', 'KC_24', 'KC_25', 'KC_26', 'DEMA_1', 'DEMA_2', 'DEMA_3', 'DEMA_4', 'DEMA_5', 'DEMA_6', 'DEMA_7', 'DEMA_8', 'DEMA_9', 'DEMA_10', 'DEMA_11', 'DEMA_12', 'DEMA_13', 'DEMA_14', 'DEMA_15', 'DEMA_16', 'DEMA_17', 'DEMA_18', 'DEMA_19', 'DEMA_20', 'DEMA_21', 'DEMA_22', 'DEMA_23', 'DEMA_24', 'DEMA_25', 'DEMA_26', 'CCI_1', 'CCI_2', 'CCI_3', 'CCI_4', 'CCI_5', 'CCI_6', 'CCI_7', 'CCI_8', 'CCI_9', 'CCI_10', 'CCI_11', 'CCI_12', 'CCI_13', 'CCI_14', 'CCI_15', 'CCI_16', 'CCI_17', 'CCI_18', 'CCI_19', 'CCI_20', 'CCI_21', 'CCI_22', 'CCI_23', 'CCI_24', 'CCI_25', 'CCI_26', 'EVM_1', 'EVM_2', 'EVM_3', 'EVM_4', 'EVM_5', 'EVM_6', 'FI_10', 'FI_11', 'FI_12', 'FI_13', 'FI_14', 'FI_15', 'FI_16', 'FI_17', 'FI_18', 'FI_19', 'FI_20', 'FI_21', 'FI_22', 'FI_23', 'FI_24', 'FI_25', 'FI_26', 'ROC_5', 'ROC_6', 'ROC_7', 'ROC_8', 'ROC_9', 'ROC_10', 'ROC_11', 'ROC_12', 'ROC_13', 'ROC_14', 'ROC_15', 'ROC_16', 'ROC_17', 'ROC_18', 'ROC_19', 'ROC_20', 'ROC_21', 'ROC_22', 'ROC_23', 'ROC_24', 'ROC_25', 'OBV_1', 'OBV_2', 'OBV_3', 'OBV_4', 'OBV_5', 'OBV_6', 'OBV_7', 'OBV_8', 'OBV_9', 'OBV_10', 'OBV_11', 'OBV_12', 'OBV_13', 'OBV_14', 'OBV_15', 'OBV_16', 'OBV_17', 'OBV_18', 'OBV_19', 'OBV_20', 'OBV_21', 'OBV_22', 'OBV_23', 'OBV_24', 'OBV_25', 'OBV_26']\n",
            "train_split = 0.8\n",
            "Shape of x, y train/cv/test (804, 332) (804,) (202, 332) (202,) (252, 332) (252,)\n"
          ],
          "name": "stdout"
        }
      ]
    },
    {
      "cell_type": "markdown",
      "metadata": {
        "id": "SkXhGMRnYEDY"
      },
      "source": [
        "# Feature Selection\n",
        "\n",
        "*3rd deviation from original paper*"
      ]
    },
    {
      "cell_type": "code",
      "metadata": {
        "id": "7hPK9W1cYG1g",
        "colab": {
          "base_uri": "https://localhost:8080/"
        },
        "outputId": "445d1c78-6ad4-4fe9-af8a-3bd137bf4d54"
      },
      "source": [
        "from operator import itemgetter\n",
        "from sklearn.feature_selection import SelectKBest, f_classif, mutual_info_classif\n",
        "\n",
        "num_features = 225  # should be a perfect square\n",
        "selection_method = 'anova'\n",
        "topk = 320 if selection_method == 'all' else num_features\n",
        "\n",
        "if selection_method == 'anova' or selection_method == 'all':\n",
        "    select_k_best = SelectKBest(f_classif, k=topk)\n",
        "    if selection_method != 'all':\n",
        "        x_train = select_k_best.fit_transform(x_train, y_train)\n",
        "        x_cv = select_k_best.transform(x_cv)\n",
        "        x_test = select_k_best.transform(x_test)\n",
        "    else:\n",
        "        select_k_best.fit(x_train, y_train)\n",
        "    \n",
        "    selected_features_anova = itemgetter(*select_k_best.get_support(indices=True))(list_features)\n",
        "    print(selected_features_anova)\n",
        "    print(select_k_best.get_support(indices=True))\n",
        "    print(\"****************************************\")\n",
        "\n",
        "if selection_method == 'mutual_info' or selection_method == 'all':\n",
        "    select_k_best = SelectKBest(mutual_info_classif, k=topk)\n",
        "    if selection_method != 'all':\n",
        "        x_train = select_k_best.fit_transform(x_train, y_train)\n",
        "        x_cv = select_k_best.transform(x_cv)\n",
        "        x_test = select_k_best.transform(x_test)\n",
        "    else:\n",
        "        select_k_best.fit(x_train, y_train)\n",
        "\n",
        "    selected_features_mic = itemgetter(*select_k_best.get_support(indices=True))(list_features)\n",
        "    print(len(selected_features_mic), selected_features_mic)\n",
        "    print(select_k_best.get_support(indices=True))\n",
        "\n",
        "if selection_method == 'all':\n",
        "    common = list(set(selected_features_anova).intersection(selected_features_mic))\n",
        "    print(\"common selected featues\", len(common), common)\n",
        "    if len(common) < num_features:\n",
        "        raise Exception('number of common features found {} < {} required features. Increase \"topk variable\"'.format(len(common), num_features))\n",
        "    feat_idx = []\n",
        "    for c in common:\n",
        "        feat_idx.append(list_features.index(c))\n",
        "    feat_idx = sorted(feat_idx[0:225])\n",
        "    print(feat_idx)  # x_train[:, feat_idx] will give you training data with desired features"
      ],
      "execution_count": 27,
      "outputs": [
        {
          "output_type": "stream",
          "text": [
            "('volume', 'MACD_1', 'MACD_2', 'MACD_3', 'MACD_4', 'MACD_5', 'MACD_6', 'MACD_7', 'MACD_8', 'MACD_9', 'MACD_10', 'MACD_11', 'MACD_12', 'MACD_13', 'MACD_14', 'MACD_15', 'MACD_16', 'MACD_17', 'MACD_18', 'MACD_19', 'MACD_20', 'MACD_21', 'MACD_22', 'MACD_23', 'MACD_24', 'MACD_25', 'MACD_26', 'RSI_6', 'RSI_7', 'RSI_8', 'RSI_9', 'RSI_10', 'RSI_11', 'RSI_12', 'RSI_13', 'RSI_14', 'RSI_15', 'RSI_16', 'RSI_17', 'RSI_18', 'RSI_19', 'RSI_20', 'RSI_21', 'RSI_22', 'RSI_23', 'RSI_24', 'RSI_25', 'RSI_26', '%D_1', '%D_2', '%D_3', '%D_4', '%D_5', '%D_6', '%D_7', '%D_8', '%D_9', '%D_10', '%D_11', '%D_12', '%D_13', '%D_14', '%D_15', '%D_16', '%D_17', '%D_18', '%D_19', '%D_20', '%D_21', '%D_22', '%D_23', '%D_24', '%D_25', '%D_26', 'WR_1', 'WR_2', 'WR_3', 'WR_4', 'WR_5', 'WR_6', 'WR_7', 'WR_8', 'WR_9', 'WR_10', 'WR_11', 'WR_12', 'WR_13', 'WR_14', 'WR_15', 'WR_16', 'WR_17', 'WR_18', 'WR_19', 'WR_20', 'WR_21', 'WR_22', 'WR_23', 'WR_24', 'WR_25', 'WR_26', 'EMA_1', 'MFI_2', 'MFI_3', 'MFI_4', 'MFI_5', 'MFI_6', 'MFI_7', 'MFI_8', 'MFI_9', 'MFI_10', 'MFI_11', 'MFI_12', 'MFI_13', 'MFI_14', 'MFI_15', 'MFI_16', 'MFI_17', 'MFI_18', 'MFI_19', 'MFI_20', 'MFI_21', 'MFI_22', 'MFI_23', 'MFI_24', 'MFI_25', 'MFI_26', 'BB_1', 'ATR_2', 'ATR_3', 'ATR_4', 'ATR_5', 'ATR_6', 'ATR_7', 'ATR_8', 'ATR_9', 'ATR_10', 'ATR_11', 'ATR_12', 'ATR_13', 'ATR_14', 'ATR_15', 'ATR_16', 'ATR_17', 'ATR_18', 'ATR_19', 'ATR_20', 'ATR_21', 'ATR_22', 'ATR_23', 'ATR_24', 'ATR_25', 'ATR_26', 'KC_1', 'KC_26', 'DEMA_1', 'CCI_2', 'CCI_3', 'CCI_4', 'CCI_5', 'CCI_6', 'CCI_7', 'CCI_8', 'CCI_9', 'CCI_10', 'CCI_11', 'CCI_12', 'CCI_13', 'CCI_14', 'CCI_15', 'CCI_16', 'CCI_17', 'CCI_18', 'CCI_19', 'CCI_20', 'CCI_21', 'CCI_22', 'CCI_23', 'CCI_24', 'CCI_25', 'CCI_26', 'EVM_1', 'EVM_2', 'EVM_3', 'EVM_4', 'EVM_5', 'EVM_6', 'FI_10', 'FI_11', 'FI_12', 'FI_13', 'FI_14', 'FI_15', 'FI_16', 'FI_17', 'FI_18', 'FI_19', 'FI_20', 'FI_21', 'FI_22', 'FI_23', 'FI_24', 'FI_25', 'FI_26', 'ROC_5', 'ROC_6', 'ROC_7', 'ROC_8', 'ROC_9', 'ROC_10', 'ROC_11', 'ROC_12', 'ROC_13', 'ROC_14', 'ROC_15', 'ROC_16', 'ROC_17', 'ROC_18', 'ROC_19', 'ROC_20', 'ROC_21', 'ROC_22', 'ROC_23', 'ROC_24', 'ROC_25', 'OBV_1')\n",
            "[  4   5   6   7   8   9  10  11  12  13  14  15  16  17  18  19  20  21\n",
            "  22  23  24  25  26  27  28  29  30  31  32  33  34  35  36  37  38  39\n",
            "  40  41  42  43  44  45  46  47  48  49  50  51  52  53  54  55  56  57\n",
            "  58  59  60  61  62  63  64  65  66  67  68  69  70  71  72  73  74  75\n",
            "  76  77  78  79  80  81  82  83  84  85  86  87  88  89  90  91  92  93\n",
            "  94  95  96  97  98  99 100 101 102 103 104 131 132 133 134 135 136 137\n",
            " 138 139 140 141 142 143 144 145 146 147 148 149 150 151 152 153 154 155\n",
            " 156 158 159 160 161 162 163 164 165 166 167 168 169 170 171 172 173 174\n",
            " 175 176 177 178 179 180 181 182 183 208 209 236 237 238 239 240 241 242\n",
            " 243 244 245 246 247 248 249 250 251 252 253 254 255 256 257 258 259 260\n",
            " 261 262 263 264 265 266 267 268 269 270 271 272 273 274 275 276 277 278\n",
            " 279 280 281 282 283 284 285 286 287 288 289 290 291 292 293 294 295 296\n",
            " 297 298 299 300 301 302 303 304 305]\n",
            "****************************************\n"
          ],
          "name": "stdout"
        },
        {
          "output_type": "stream",
          "text": [
            "/usr/local/lib/python3.7/dist-packages/sklearn/feature_selection/_univariate_selection.py:115: RuntimeWarning: divide by zero encountered in true_divide\n",
            "  f = msb / msw\n"
          ],
          "name": "stderr"
        }
      ]
    },
    {
      "cell_type": "markdown",
      "metadata": {
        "id": "ucy3bKUvl59A"
      },
      "source": [
        "# Method: *reshape_as_image*"
      ]
    },
    {
      "cell_type": "code",
      "metadata": {
        "id": "K445BjAhl4vN"
      },
      "source": [
        "def reshape_as_image(x, img_width, img_height):\n",
        "    x_temp = np.zeros((len(x), img_height, img_width))\n",
        "    for i in range(x.shape[0]):\n",
        "        # print(type(x), type(x_temp), x.shape)\n",
        "        x_temp[i] = np.reshape(x[i], (img_height, img_width))\n",
        "\n",
        "    return x_temp"
      ],
      "execution_count": 28,
      "outputs": []
    },
    {
      "cell_type": "markdown",
      "metadata": {
        "id": "nuWrutaAZbue"
      },
      "source": [
        "# Reshaping the Data as an Image"
      ]
    },
    {
      "cell_type": "code",
      "metadata": {
        "id": "zjAWilNuZk8d",
        "colab": {
          "base_uri": "https://localhost:8080/"
        },
        "outputId": "434c3702-cba2-47ee-f95b-6eb3efa8cd3e"
      },
      "source": [
        "dim = int(np.sqrt(num_features))\n",
        "x_train = reshape_as_image(x_train, dim, dim)\n",
        "x_cv = reshape_as_image(x_cv, dim, dim)\n",
        "x_test = reshape_as_image(x_test, dim, dim)\n",
        "# adding a 1-dim for channels (3)\n",
        "x_train = np.stack((x_train,) * 3, axis=-1)\n",
        "x_test = np.stack((x_test,) * 3, axis=-1)\n",
        "x_cv = np.stack((x_cv,) * 3, axis=-1)\n",
        "print(\"final shape of x, y train/test {} {} {} {}\".format(x_train.shape, y_train.shape, x_test.shape, y_test.shape))\n",
        "print(\"x_cv shape:\", x_cv.shape)"
      ],
      "execution_count": 29,
      "outputs": [
        {
          "output_type": "stream",
          "text": [
            "final shape of x, y train/test (804, 15, 15, 3) (804,) (252, 15, 15, 3) (252,)\n",
            "x_cv shape: (202, 15, 15, 3)\n"
          ],
          "name": "stdout"
        }
      ]
    },
    {
      "cell_type": "code",
      "metadata": {
        "id": "VlMh9syXpFen",
        "colab": {
          "base_uri": "https://localhost:8080/",
          "height": 860
        },
        "outputId": "962d37c3-c536-4403-fa55-27e001817fc4"
      },
      "source": [
        "fig = plt.figure(figsize=(15, 15))\n",
        "columns = rows = 3\n",
        "for i in range(1, columns*rows +1):\n",
        "    index = np.random.randint(len(x_train))\n",
        "    img = x_train[index]\n",
        "    fig.add_subplot(rows, columns, i)\n",
        "    plt.axis(\"off\")\n",
        "    plt.title('image_'+str(index)+'_class_'+str(np.argmax(y_train[index])), fontsize=10)\n",
        "    plt.subplots_adjust(wspace=0.2, hspace=0.2)\n",
        "    plt.imshow(img)\n",
        "plt.show()"
      ],
      "execution_count": 30,
      "outputs": [
        {
          "output_type": "display_data",
          "data": {
            "image/png": "[encoded data removed]",
            "text/plain": [
              "<Figure size 1080x1080 with 9 Axes>"
            ]
          },
          "metadata": {
            "tags": []
          }
        }
      ]
    },
    {
      "cell_type": "markdown",
      "metadata": {
        "id": "rrjAwx_0bjko"
      },
      "source": [
        "# Current Class Imbalance\n",
        "\n",
        "Sell = 0, Buy = 1, Hold = 2"
      ]
    },
    {
      "cell_type": "code",
      "metadata": {
        "id": "X9Cc9hzSaJ0W",
        "colab": {
          "base_uri": "https://localhost:8080/"
        },
        "outputId": "dbd5725b-f55a-4566-d12e-fca937a41a62"
      },
      "source": [
        "class_labels, class_count = np.unique(y_train, return_counts=True)\n",
        "print(\"percentage of class 0 = {:.3f}%, class 1 = {:.3f}%, class 2 = {:.3f}%\".format(class_count[0]/len(y_train)*100, class_count[1]/len(y_train)*100, class_count[2]/len(y_train)*100))"
      ],
      "execution_count": 31,
      "outputs": [
        {
          "output_type": "stream",
          "text": [
            "percentage of class 0 = 6.841%, class 1 = 5.473%, class 2 = 87.687%\n"
          ],
          "name": "stdout"
        }
      ]
    },
    {
      "cell_type": "code",
      "metadata": {
        "colab": {
          "base_uri": "https://localhost:8080/"
        },
        "id": "iAW2HloHFSeV",
        "outputId": "5ecd4bb7-890f-44e2-f323-a246d1cd7adc"
      },
      "source": [
        "print(x_train[0].shape[0])\n",
        "print(x_train[0].shape[1])\n",
        "print(x_train[0].shape[2])\n",
        "print(x_train.shape)"
      ],
      "execution_count": 32,
      "outputs": [
        {
          "output_type": "stream",
          "text": [
            "15\n",
            "15\n",
            "3\n",
            "(804, 15, 15, 3)\n"
          ],
          "name": "stdout"
        }
      ]
    },
    {
      "cell_type": "markdown",
      "metadata": {
        "id": "Kj-KwzWUzqIZ"
      },
      "source": [
        "# Building Convolutional Neural Network"
      ]
    },
    {
      "cell_type": "code",
      "metadata": {
        "id": "Ra-ldu8Pzpvo"
      },
      "source": [
        "import numpy as np\n",
        "from tensorflow import keras\n",
        "from tensorflow.keras.models import Sequential\n",
        "from tensorflow.keras.layers import Activation, Dense, Flatten, BatchNormalization, Conv2D, MaxPool2D, Dropout\n",
        "from tensorflow.keras.optimizers import Adam\n",
        "from tensorflow.keras.metrics import categorical_crossentropy\n",
        "from tensorflow.keras import regularizers\n",
        "\n",
        "model = Sequential([\n",
        "    Conv2D(filters=32, \n",
        "           kernel_size=3, \n",
        "           strides=1, \n",
        "           kernel_regularizer=regularizers.l2(0.0), \n",
        "           padding='same', \n",
        "           activation='relu', \n",
        "           use_bias=True,\n",
        "           kernel_initializer='glorot_uniform',\n",
        "           input_shape=(x_train[0].shape[0], x_train[0].shape[1], x_train[0].shape[2])),\n",
        "    Dropout(rate=0.2),\n",
        "    Conv2D(filters=64, \n",
        "           kernel_size=3, \n",
        "           strides=2, \n",
        "           kernel_regularizer=regularizers.l2(0.0), \n",
        "           padding='same', \n",
        "           activation='relu', \n",
        "           use_bias=True, \n",
        "           kernel_initializer='glorot_uniform'),\n",
        "    MaxPool2D(pool_size=2),\n",
        "    Dropout(0.3),\n",
        "    Flatten(),\n",
        "    Dense(units=128, \n",
        "          activation='relu'),\n",
        "    Dropout(rate=0.3),\n",
        "    Dense(units=3, activation='softmax')\n",
        "])"
      ],
      "execution_count": 33,
      "outputs": []
    },
    {
      "cell_type": "code",
      "metadata": {
        "id": "GD5tyLw98KYu"
      },
      "source": [
        "from tensorflow.keras import backend as K\n",
        "\n",
        "def f1_metric(y_true, y_pred):\n",
        "    \"\"\"\n",
        "    this calculates precision & recall \n",
        "    \"\"\"\n",
        "\n",
        "    def recall(y_true, y_pred):\n",
        "        true_positives = K.sum(K.round(K.clip(y_true * y_pred, 0, 1)))  # mistake: y_pred of 0.3 is also considered 1\n",
        "        possible_positives = K.sum(K.round(K.clip(y_true, 0, 1)))\n",
        "        recall = true_positives / (possible_positives + K.epsilon())\n",
        "        return recall\n",
        "\n",
        "    def precision(y_true, y_pred):\n",
        "        true_positives = K.sum(K.round(K.clip(y_true * y_pred, 0, 1)))\n",
        "        predicted_positives = K.sum(K.round(K.clip(y_pred, 0, 1)))\n",
        "        precision = true_positives / (predicted_positives + K.epsilon())\n",
        "        return precision\n",
        "\n",
        "    precision = precision(y_true, y_pred)\n",
        "    recall = recall(y_true, y_pred)\n",
        "    # y_true_class = tf.math.argmax(y_true, axis=1, output_type=tf.dtypes.int32)\n",
        "    # y_pred_class = tf.math.argmax(y_pred, axis=1, output_type=tf.dtypes.int32)\n",
        "    # conf_mat = tf.math.confusion_matrix(y_true_class, y_pred_class)\n",
        "    # tf.Print(conf_mat, [conf_mat], \"confusion_matrix\")\n",
        "\n",
        "    return 2 * ((precision * recall) / (precision + recall + K.epsilon()))"
      ],
      "execution_count": 34,
      "outputs": []
    },
    {
      "cell_type": "markdown",
      "metadata": {
        "id": "6brdUfyqjLY9"
      },
      "source": [
        "# Choosing 'Sample Weights' for the model to pay more attention to"
      ]
    },
    {
      "cell_type": "code",
      "metadata": {
        "id": "BugIcFG5jE85",
        "colab": {
          "base_uri": "https://localhost:8080/"
        },
        "outputId": "9070ab0c-0d38-490d-f099-f311b85f0fcb"
      },
      "source": [
        "from sklearn.utils.class_weight import compute_class_weight\n",
        "\n",
        "def get_sample_weights(y):\n",
        "        \"\"\"\n",
        "        calculate the sample weights based on class weights. Used for models with\n",
        "        imbalanced data and one hot encoding prediction.\n",
        "        params:\n",
        "            y: class labels as integers\n",
        "        \"\"\"\n",
        "\n",
        "        y = y.astype(int)  # compute_class_weight needs int labels\n",
        "        class_weights = compute_class_weight('balanced', np.unique(y), y)\n",
        "\n",
        "        print(\"real class weights are {}\".format(class_weights), np.unique(y))\n",
        "        print(\"value_counts\", np.unique(y, return_counts=True))\n",
        "        sample_weights = y.copy().astype(float)\n",
        "        for i in np.unique(y):\n",
        "            sample_weights[sample_weights == i] = class_weights[i]  # if i == 2 else 0.8 * class_weights[i]\n",
        "            # sample_weights = np.where(sample_weights == i, class_weights[int(i)], y_)\n",
        "\n",
        "        return sample_weights\n",
        "\n",
        "sample_weights = get_sample_weights(y_train)\n",
        "print(\"Test sample_weights\")\n",
        "rand_idx = np.random.randint(0, len(y_train), 30)\n",
        "print(y_train[rand_idx])\n",
        "print(sample_weights[rand_idx])\n",
        "print(sample_weights.shape)"
      ],
      "execution_count": 35,
      "outputs": [
        {
          "output_type": "stream",
          "text": [
            "real class weights are [4.87272727 6.09090909 0.38014184] [0 1 2]\n",
            "value_counts (array([0, 1, 2]), array([ 55,  44, 705]))\n",
            "Test sample_weights\n",
            "[2. 1. 2. 1. 2. 2. 2. 2. 2. 0. 2. 1. 2. 2. 2. 2. 2. 2. 2. 2. 2. 2. 2. 2.\n",
            " 2. 2. 2. 2. 2. 2.]\n",
            "[0.38014184 6.09090909 0.38014184 6.09090909 0.38014184 0.38014184\n",
            " 0.38014184 0.38014184 0.38014184 4.87272727 0.38014184 6.09090909\n",
            " 0.38014184 0.38014184 0.38014184 0.38014184 0.38014184 0.38014184\n",
            " 0.38014184 0.38014184 0.38014184 0.38014184 0.38014184 0.38014184\n",
            " 0.38014184 0.38014184 0.38014184 0.38014184 0.38014184 0.38014184]\n",
            "(804,)\n"
          ],
          "name": "stdout"
        }
      ]
    },
    {
      "cell_type": "markdown",
      "metadata": {
        "id": "1OICgNPl85nt"
      },
      "source": [
        "# Compiling Model\n",
        "\n",
        "\n",
        "\n",
        "*   *Optimizer:* Adam\n",
        "*   *Loss:* Sparse Categorical Crossentropy\n",
        "\n",
        "<font color=\"red\"> TODO: Sparse Categorical Crossentropy vs Categorical_Entropy </font>\n",
        "\n"
      ]
    },
    {
      "cell_type": "code",
      "metadata": {
        "id": "Etp5-cyi7Xhk"
      },
      "source": [
        "from tensorflow.keras import optimizers\n",
        "\n",
        "optimizer_model = 'adam'\n",
        "learning_rate = 0.001\n",
        "\n",
        "if optimizer_model == 'rmsprop':\n",
        "    optimizer = optimizers.RMSprop(lr=learning_rate)\n",
        "elif optimizer_model == 'sgd':\n",
        "    optimizer = optimizers.SGD(lr=learning_rate, decay=1e-6, momentum=0.9, nesterov=True)\n",
        "elif optimizer_model == 'adam':\n",
        "    optimizer = optimizers.Adam(learning_rate=learning_rate, beta_1=0.9, beta_2=0.999, amsgrad=False)\n",
        "\n",
        "model.compile(loss='SparseCategoricalCrossentropy', optimizer=optimizer, metrics=['accuracy', f1_metric])"
      ],
      "execution_count": 36,
      "outputs": []
    },
    {
      "cell_type": "code",
      "metadata": {
        "id": "avQfsGLugZO3"
      },
      "source": [
        "from tensorflow.keras.callbacks import ModelCheckpoint, EarlyStopping, ReduceLROnPlateau, CSVLogger, Callback\n",
        "import os\n",
        "\n",
        "best_model_path = os.path.join('.', 'best_model_keras')\n",
        "\n",
        "es = EarlyStopping(\n",
        "    monitor='val_loss', \n",
        "    mode='min', \n",
        "    verbose=1, \n",
        "    patience=100, \n",
        "    min_delta=0.0001\n",
        "    )\n",
        "\n",
        "rlp = ReduceLROnPlateau(\n",
        "    monitor='val_loss', \n",
        "    factor=0.02, \n",
        "    patience=20, \n",
        "    verbose=1, \n",
        "    mode='min', \n",
        "    min_delta=0.001, \n",
        "    cooldown=1, \n",
        "    min_lr=0.001\n",
        "    )\n",
        "\n",
        "mcp = ModelCheckpoint(\n",
        "    best_model_path, \n",
        "    monitor='val_f1_metric', \n",
        "    verbose=1, \n",
        "    save_best_only=True, \n",
        "    save_weights_only=False, \n",
        "    mode='max', \n",
        "    save_freq=1\n",
        "    )"
      ],
      "execution_count": 37,
      "outputs": []
    },
    {
      "cell_type": "code",
      "metadata": {
        "id": "-GuiJO-oiQRx",
        "colab": {
          "base_uri": "https://localhost:8080/"
        },
        "outputId": "f91cd6f3-8c4b-460b-c2ad-ce594521d8c3"
      },
      "source": [
        "%%time\n",
        "\n",
        "history = model.fit(\n",
        "    x_train, \n",
        "    y_train, \n",
        "    epochs=30, \n",
        "    verbose=1, \n",
        "    batch_size=64, \n",
        "    shuffle=True, \n",
        "    validation_data=(x_cv, y_cv), \n",
        "    callbacks=[mcp, rlp, es], \n",
        "    sample_weight=sample_weights\n",
        "    )"
      ],
      "execution_count": 38,
      "outputs": [
        {
          "output_type": "stream",
          "text": [
            "Epoch 1/30\n",
            " 1/13 [=>............................] - ETA: 11s - loss: 1.3736 - accuracy: 0.4688 - f1_metric: 4.1515WARNING:tensorflow:Can save best model only with val_f1_metric available, skipping.\n",
            "WARNING:tensorflow:Can save best model only with val_f1_metric available, skipping.\n",
            " 3/13 [=====>........................] - ETA: 0s - loss: 1.3595 - accuracy: 0.3194 - f1_metric: 3.7673 WARNING:tensorflow:Can save best model only with val_f1_metric available, skipping.\n",
            "WARNING:tensorflow:Can save best model only with val_f1_metric available, skipping.\n",
            " 5/13 [==========>...................] - ETA: 0s - loss: 1.2875 - accuracy: 0.2720 - f1_metric: 3.7704WARNING:tensorflow:Can save best model only with val_f1_metric available, skipping.\n",
            "WARNING:tensorflow:Can save best model only with val_f1_metric available, skipping.\n",
            " 7/13 [===============>..............] - ETA: 0s - loss: 1.2493 - accuracy: 0.2580 - f1_metric: 3.7095WARNING:tensorflow:Can save best model only with val_f1_metric available, skipping.\n",
            "WARNING:tensorflow:Can save best model only with val_f1_metric available, skipping.\n",
            " 9/13 [===================>..........] - ETA: 0s - loss: 1.2237 - accuracy: 0.2657 - f1_metric: 3.6405WARNING:tensorflow:Can save best model only with val_f1_metric available, skipping.\n",
            "WARNING:tensorflow:Can save best model only with val_f1_metric available, skipping.\n",
            "11/13 [========================>.....] - ETA: 0s - loss: 1.2045 - accuracy: 0.2863 - f1_metric: 3.5809WARNING:tensorflow:Can save best model only with val_f1_metric available, skipping.\n",
            "WARNING:tensorflow:Can save best model only with val_f1_metric available, skipping.\n",
            "13/13 [==============================] - ETA: 0s - loss: 1.1897 - accuracy: 0.3058 - f1_metric: 3.5467WARNING:tensorflow:Can save best model only with val_f1_metric available, skipping.\n",
            "13/13 [==============================] - 2s 85ms/step - loss: 1.1838 - accuracy: 0.3140 - f1_metric: 3.5345 - val_loss: 0.9598 - val_accuracy: 0.8812 - val_f1_metric: 4.6980\n",
            "Epoch 2/30\n",
            " 1/13 [=>............................] - ETA: 0s - loss: 1.1968 - accuracy: 0.7188 - f1_metric: 4.1250WARNING:tensorflow:Can save best model only with val_f1_metric available, skipping.\n",
            "WARNING:tensorflow:Can save best model only with val_f1_metric available, skipping.\n",
            " 3/13 [=====>........................] - ETA: 0s - loss: 1.0822 - accuracy: 0.6910 - f1_metric: 4.3493WARNING:tensorflow:Can save best model only with val_f1_metric available, skipping.\n",
            "WARNING:tensorflow:Can save best model only with val_f1_metric available, skipping.\n",
            " 5/13 [==========>...................] - ETA: 0s - loss: 1.0433 - accuracy: 0.6736 - f1_metric: 4.5008WARNING:tensorflow:Can save best model only with val_f1_metric available, skipping.\n",
            "WARNING:tensorflow:Can save best model only with val_f1_metric available, skipping.\n",
            " 7/13 [===============>..............] - ETA: 0s - loss: 1.0427 - accuracy: 0.6531 - f1_metric: 4.5843WARNING:tensorflow:Can save best model only with val_f1_metric available, skipping.\n",
            "WARNING:tensorflow:Can save best model only with val_f1_metric available, skipping.\n",
            " 9/13 [===================>..........] - ETA: 0s - loss: 1.0408 - accuracy: 0.6310 - f1_metric: 4.6384WARNING:tensorflow:Can save best model only with val_f1_metric available, skipping.\n",
            "WARNING:tensorflow:Can save best model only with val_f1_metric available, skipping.\n",
            "11/13 [========================>.....] - ETA: 0s - loss: 1.0397 - accuracy: 0.6103 - f1_metric: 4.6646WARNING:tensorflow:Can save best model only with val_f1_metric available, skipping.\n",
            "WARNING:tensorflow:Can save best model only with val_f1_metric available, skipping.\n",
            "13/13 [==============================] - ETA: 0s - loss: 1.0353 - accuracy: 0.5902 - f1_metric: 4.6744WARNING:tensorflow:Can save best model only with val_f1_metric available, skipping.\n",
            "13/13 [==============================] - 1s 43ms/step - loss: 1.0337 - accuracy: 0.5821 - f1_metric: 4.6773 - val_loss: 1.0871 - val_accuracy: 0.1238 - val_f1_metric: 4.1762\n",
            "Epoch 3/30\n",
            " 1/13 [=>............................] - ETA: 0s - loss: 0.6731 - accuracy: 0.2656 - f1_metric: 3.7403WARNING:tensorflow:Can save best model only with val_f1_metric available, skipping.\n",
            "WARNING:tensorflow:Can save best model only with val_f1_metric available, skipping.\n",
            " 3/13 [=====>........................] - ETA: 0s - loss: 0.7609 - accuracy: 0.2491 - f1_metric: 3.4100WARNING:tensorflow:Can save best model only with val_f1_metric available, skipping.\n",
            "WARNING:tensorflow:Can save best model only with val_f1_metric available, skipping.\n",
            " 5/13 [==========>...................] - ETA: 0s - loss: 0.8106 - accuracy: 0.2409 - f1_metric: 3.2445WARNING:tensorflow:Can save best model only with val_f1_metric available, skipping.\n",
            "WARNING:tensorflow:Can save best model only with val_f1_metric available, skipping.\n",
            " 7/13 [===============>..............] - ETA: 0s - loss: 0.8413 - accuracy: 0.2402 - f1_metric: 3.1478WARNING:tensorflow:Can save best model only with val_f1_metric available, skipping.\n",
            "WARNING:tensorflow:Can save best model only with val_f1_metric available, skipping.\n",
            " 9/13 [===================>..........] - ETA: 0s - loss: 0.8583 - accuracy: 0.2531 - f1_metric: 3.0795WARNING:tensorflow:Can save best model only with val_f1_metric available, skipping.\n",
            "WARNING:tensorflow:Can save best model only with val_f1_metric available, skipping.\n",
            "11/13 [========================>.....] - ETA: 0s - loss: 0.8669 - accuracy: 0.2740 - f1_metric: 3.0245WARNING:tensorflow:Can save best model only with val_f1_metric available, skipping.\n",
            "WARNING:tensorflow:Can save best model only with val_f1_metric available, skipping.\n",
            "13/13 [==============================] - ETA: 0s - loss: 0.8736 - accuracy: 0.2943 - f1_metric: 2.9741WARNING:tensorflow:Can save best model only with val_f1_metric available, skipping.\n",
            "13/13 [==============================] - 1s 46ms/step - loss: 0.8763 - accuracy: 0.3025 - f1_metric: 2.9532 - val_loss: 0.8718 - val_accuracy: 0.6980 - val_f1_metric: 3.2419\n",
            "Epoch 4/30\n",
            " 1/13 [=>............................] - ETA: 0s - loss: 1.0000 - accuracy: 0.5469 - f1_metric: 2.5169WARNING:tensorflow:Can save best model only with val_f1_metric available, skipping.\n",
            "WARNING:tensorflow:Can save best model only with val_f1_metric available, skipping.\n",
            " 3/13 [=====>........................] - ETA: 0s - loss: 0.9520 - accuracy: 0.4792 - f1_metric: 2.5381WARNING:tensorflow:Can save best model only with val_f1_metric available, skipping.\n",
            "WARNING:tensorflow:Can save best model only with val_f1_metric available, skipping.\n",
            " 5/13 [==========>...................] - ETA: 0s - loss: 0.8973 - accuracy: 0.4342 - f1_metric: 2.5298WARNING:tensorflow:Can save best model only with val_f1_metric available, skipping.\n",
            "WARNING:tensorflow:Can save best model only with val_f1_metric available, skipping.\n",
            " 7/13 [===============>..............] - ETA: 0s - loss: 0.8708 - accuracy: 0.4098 - f1_metric: 2.5040WARNING:tensorflow:Can save best model only with val_f1_metric available, skipping.\n",
            "WARNING:tensorflow:Can save best model only with val_f1_metric available, skipping.\n",
            " 9/13 [===================>..........] - ETA: 0s - loss: 0.8547 - accuracy: 0.3995 - f1_metric: 2.4779WARNING:tensorflow:Can save best model only with val_f1_metric available, skipping.\n",
            "WARNING:tensorflow:Can save best model only with val_f1_metric available, skipping.\n",
            "11/13 [========================>.....] - ETA: 0s - loss: 0.8445 - accuracy: 0.3978 - f1_metric: 2.4478WARNING:tensorflow:Can save best model only with val_f1_metric available, skipping.\n",
            "WARNING:tensorflow:Can save best model only with val_f1_metric available, skipping.\n",
            "13/13 [==============================] - ETA: 0s - loss: 0.8325 - accuracy: 0.4009 - f1_metric: 2.4171WARNING:tensorflow:Can save best model only with val_f1_metric available, skipping.\n",
            "13/13 [==============================] - 1s 45ms/step - loss: 0.8271 - accuracy: 0.4026 - f1_metric: 2.4039 - val_loss: 0.6088 - val_accuracy: 0.8317 - val_f1_metric: 1.7847\n",
            "Epoch 5/30\n",
            " 1/13 [=>............................] - ETA: 0s - loss: 0.7174 - accuracy: 0.6719 - f1_metric: 1.8182WARNING:tensorflow:Can save best model only with val_f1_metric available, skipping.\n",
            "WARNING:tensorflow:Can save best model only with val_f1_metric available, skipping.\n",
            " 3/13 [=====>........................] - ETA: 0s - loss: 0.7886 - accuracy: 0.7109 - f1_metric: 1.7119WARNING:tensorflow:Can save best model only with val_f1_metric available, skipping.\n",
            "WARNING:tensorflow:Can save best model only with val_f1_metric available, skipping.\n",
            " 5/13 [==========>...................] - ETA: 0s - loss: 0.7447 - accuracy: 0.7327 - f1_metric: 1.6927WARNING:tensorflow:Can save best model only with val_f1_metric available, skipping.\n",
            "WARNING:tensorflow:Can save best model only with val_f1_metric available, skipping.\n",
            " 7/13 [===============>..............] - ETA: 0s - loss: 0.7109 - accuracy: 0.7380 - f1_metric: 1.6862WARNING:tensorflow:Can save best model only with val_f1_metric available, skipping.\n",
            "WARNING:tensorflow:Can save best model only with val_f1_metric available, skipping.\n",
            " 9/13 [===================>..........] - ETA: 0s - loss: 0.6947 - accuracy: 0.7369 - f1_metric: 1.6831WARNING:tensorflow:Can save best model only with val_f1_metric available, skipping.\n",
            "WARNING:tensorflow:Can save best model only with val_f1_metric available, skipping.\n",
            "11/13 [========================>.....] - ETA: 0s - loss: 0.6779 - accuracy: 0.7291 - f1_metric: 1.6822WARNING:tensorflow:Can save best model only with val_f1_metric available, skipping.\n",
            "WARNING:tensorflow:Can save best model only with val_f1_metric available, skipping.\n",
            "13/13 [==============================] - ETA: 0s - loss: 0.6672 - accuracy: 0.7225 - f1_metric: 1.6784WARNING:tensorflow:Can save best model only with val_f1_metric available, skipping.\n",
            "13/13 [==============================] - 1s 46ms/step - loss: 0.6628 - accuracy: 0.7199 - f1_metric: 1.6761 - val_loss: 0.5656 - val_accuracy: 0.7970 - val_f1_metric: 1.5100\n",
            "Epoch 6/30\n",
            " 1/13 [=>............................] - ETA: 0s - loss: 0.4765 - accuracy: 0.6250 - f1_metric: 1.5484WARNING:tensorflow:Can save best model only with val_f1_metric available, skipping.\n",
            "WARNING:tensorflow:Can save best model only with val_f1_metric available, skipping.\n",
            " 3/13 [=====>........................] - ETA: 0s - loss: 0.4253 - accuracy: 0.6944 - f1_metric: 1.5162WARNING:tensorflow:Can save best model only with val_f1_metric available, skipping.\n",
            "WARNING:tensorflow:Can save best model only with val_f1_metric available, skipping.\n",
            " 5/13 [==========>...................] - ETA: 0s - loss: 0.4066 - accuracy: 0.7204 - f1_metric: 1.4979WARNING:tensorflow:Can save best model only with val_f1_metric available, skipping.\n",
            "WARNING:tensorflow:Can save best model only with val_f1_metric available, skipping.\n",
            " 7/13 [===============>..............] - ETA: 0s - loss: 0.4261 - accuracy: 0.7408 - f1_metric: 1.4714WARNING:tensorflow:Can save best model only with val_f1_metric available, skipping.\n",
            "WARNING:tensorflow:Can save best model only with val_f1_metric available, skipping.\n",
            " 9/13 [===================>..........] - ETA: 0s - loss: 0.4394 - accuracy: 0.7569 - f1_metric: 1.4475WARNING:tensorflow:Can save best model only with val_f1_metric available, skipping.\n",
            "WARNING:tensorflow:Can save best model only with val_f1_metric available, skipping.\n",
            "11/13 [========================>.....] - ETA: 0s - loss: 0.4449 - accuracy: 0.7675 - f1_metric: 1.4309WARNING:tensorflow:Can save best model only with val_f1_metric available, skipping.\n",
            "WARNING:tensorflow:Can save best model only with val_f1_metric available, skipping.\n",
            "13/13 [==============================] - ETA: 0s - loss: 0.4472 - accuracy: 0.7737 - f1_metric: 1.4212WARNING:tensorflow:Can save best model only with val_f1_metric available, skipping.\n",
            "13/13 [==============================] - 1s 43ms/step - loss: 0.4482 - accuracy: 0.7761 - f1_metric: 1.4174 - val_loss: 0.4702 - val_accuracy: 0.7723 - val_f1_metric: 1.2242\n",
            "Epoch 7/30\n",
            " 1/13 [=>............................] - ETA: 0s - loss: 0.5969 - accuracy: 0.7500 - f1_metric: 1.4483WARNING:tensorflow:Can save best model only with val_f1_metric available, skipping.\n",
            "WARNING:tensorflow:Can save best model only with val_f1_metric available, skipping.\n",
            " 3/13 [=====>........................] - ETA: 0s - loss: 0.4901 - accuracy: 0.7535 - f1_metric: 1.3965WARNING:tensorflow:Can save best model only with val_f1_metric available, skipping.\n",
            "WARNING:tensorflow:Can save best model only with val_f1_metric available, skipping.\n",
            " 5/13 [==========>...................] - ETA: 0s - loss: 0.4470 - accuracy: 0.7535 - f1_metric: 1.3771WARNING:tensorflow:Can save best model only with val_f1_metric available, skipping.\n",
            "WARNING:tensorflow:Can save best model only with val_f1_metric available, skipping.\n",
            " 7/13 [===============>..............] - ETA: 0s - loss: 0.4244 - accuracy: 0.7616 - f1_metric: 1.3593WARNING:tensorflow:Can save best model only with val_f1_metric available, skipping.\n",
            "WARNING:tensorflow:Can save best model only with val_f1_metric available, skipping.\n",
            " 9/13 [===================>..........] - ETA: 0s - loss: 0.4175 - accuracy: 0.7706 - f1_metric: 1.3417WARNING:tensorflow:Can save best model only with val_f1_metric available, skipping.\n",
            "WARNING:tensorflow:Can save best model only with val_f1_metric available, skipping.\n",
            "11/13 [========================>.....] - ETA: 0s - loss: 0.4067 - accuracy: 0.7789 - f1_metric: 1.3266WARNING:tensorflow:Can save best model only with val_f1_metric available, skipping.\n",
            "WARNING:tensorflow:Can save best model only with val_f1_metric available, skipping.\n",
            "13/13 [==============================] - ETA: 0s - loss: 0.3962 - accuracy: 0.7853 - f1_metric: 1.3148WARNING:tensorflow:Can save best model only with val_f1_metric available, skipping.\n",
            "13/13 [==============================] - 1s 45ms/step - loss: 0.3917 - accuracy: 0.7879 - f1_metric: 1.3101 - val_loss: 0.1345 - val_accuracy: 0.9802 - val_f1_metric: 1.0649\n",
            "Epoch 8/30\n",
            " 1/13 [=>............................] - ETA: 0s - loss: 0.4297 - accuracy: 0.9062 - f1_metric: 1.0984WARNING:tensorflow:Can save best model only with val_f1_metric available, skipping.\n",
            "WARNING:tensorflow:Can save best model only with val_f1_metric available, skipping.\n",
            " 3/13 [=====>........................] - ETA: 0s - loss: 0.3383 - accuracy: 0.9167 - f1_metric: 1.1055WARNING:tensorflow:Can save best model only with val_f1_metric available, skipping.\n",
            "WARNING:tensorflow:Can save best model only with val_f1_metric available, skipping.\n",
            " 5/13 [==========>...................] - ETA: 0s - loss: 0.3282 - accuracy: 0.9159 - f1_metric: 1.1080WARNING:tensorflow:Can save best model only with val_f1_metric available, skipping.\n",
            "WARNING:tensorflow:Can save best model only with val_f1_metric available, skipping.\n",
            " 7/13 [===============>..............] - ETA: 0s - loss: 0.3151 - accuracy: 0.9166 - f1_metric: 1.1122WARNING:tensorflow:Can save best model only with val_f1_metric available, skipping.\n",
            "WARNING:tensorflow:Can save best model only with val_f1_metric available, skipping.\n",
            " 9/13 [===================>..........] - ETA: 0s - loss: 0.3024 - accuracy: 0.9165 - f1_metric: 1.1159WARNING:tensorflow:Can save best model only with val_f1_metric available, skipping.\n",
            "WARNING:tensorflow:Can save best model only with val_f1_metric available, skipping.\n",
            "11/13 [========================>.....] - ETA: 0s - loss: 0.2938 - accuracy: 0.9167 - f1_metric: 1.1202WARNING:tensorflow:Can save best model only with val_f1_metric available, skipping.\n",
            "WARNING:tensorflow:Can save best model only with val_f1_metric available, skipping.\n",
            "13/13 [==============================] - ETA: 0s - loss: 0.2864 - accuracy: 0.9159 - f1_metric: 1.1243WARNING:tensorflow:Can save best model only with val_f1_metric available, skipping.\n",
            "13/13 [==============================] - 1s 46ms/step - loss: 0.2835 - accuracy: 0.9156 - f1_metric: 1.1257 - val_loss: 0.0927 - val_accuracy: 0.9901 - val_f1_metric: 1.0325\n",
            "Epoch 9/30\n",
            " 1/13 [=>............................] - ETA: 0s - loss: 0.1295 - accuracy: 0.9688 - f1_metric: 1.0569WARNING:tensorflow:Can save best model only with val_f1_metric available, skipping.\n",
            "WARNING:tensorflow:Can save best model only with val_f1_metric available, skipping.\n",
            " 3/13 [=====>........................] - ETA: 0s - loss: 0.1337 - accuracy: 0.9557 - f1_metric: 1.0895WARNING:tensorflow:Can save best model only with val_f1_metric available, skipping.\n",
            "WARNING:tensorflow:Can save best model only with val_f1_metric available, skipping.\n",
            " 5/13 [==========>...................] - ETA: 0s - loss: 0.1464 - accuracy: 0.9595 - f1_metric: 1.0883WARNING:tensorflow:Can save best model only with val_f1_metric available, skipping.\n",
            "WARNING:tensorflow:Can save best model only with val_f1_metric available, skipping.\n",
            " 7/13 [===============>..............] - ETA: 0s - loss: 0.1505 - accuracy: 0.9608 - f1_metric: 1.0849WARNING:tensorflow:Can save best model only with val_f1_metric available, skipping.\n",
            "WARNING:tensorflow:Can save best model only with val_f1_metric available, skipping.\n",
            " 9/13 [===================>..........] - ETA: 0s - loss: 0.1536 - accuracy: 0.9621 - f1_metric: 1.0808WARNING:tensorflow:Can save best model only with val_f1_metric available, skipping.\n",
            "WARNING:tensorflow:Can save best model only with val_f1_metric available, skipping.\n",
            "11/13 [========================>.....] - ETA: 0s - loss: 0.1568 - accuracy: 0.9624 - f1_metric: 1.0786WARNING:tensorflow:Can save best model only with val_f1_metric available, skipping.\n",
            "WARNING:tensorflow:Can save best model only with val_f1_metric available, skipping.\n",
            "13/13 [==============================] - ETA: 0s - loss: 0.1588 - accuracy: 0.9609 - f1_metric: 1.0790WARNING:tensorflow:Can save best model only with val_f1_metric available, skipping.\n",
            "13/13 [==============================] - 1s 44ms/step - loss: 0.1594 - accuracy: 0.9603 - f1_metric: 1.0794 - val_loss: 0.0675 - val_accuracy: 0.9950 - val_f1_metric: 0.9959\n",
            "Epoch 10/30\n",
            " 1/13 [=>............................] - ETA: 0s - loss: 0.1195 - accuracy: 0.9219 - f1_metric: 1.0569WARNING:tensorflow:Can save best model only with val_f1_metric available, skipping.\n",
            "WARNING:tensorflow:Can save best model only with val_f1_metric available, skipping.\n",
            " 3/13 [=====>........................] - ETA: 0s - loss: 0.1678 - accuracy: 0.9444 - f1_metric: 1.0512WARNING:tensorflow:Can save best model only with val_f1_metric available, skipping.\n",
            "WARNING:tensorflow:Can save best model only with val_f1_metric available, skipping.\n",
            " 5/13 [==========>...................] - ETA: 0s - loss: 0.1643 - accuracy: 0.9506 - f1_metric: 1.0494WARNING:tensorflow:Can save best model only with val_f1_metric available, skipping.\n",
            "WARNING:tensorflow:Can save best model only with val_f1_metric available, skipping.\n",
            " 7/13 [===============>..............] - ETA: 0s - loss: 0.1568 - accuracy: 0.9561 - f1_metric: 1.0452WARNING:tensorflow:Can save best model only with val_f1_metric available, skipping.\n",
            "WARNING:tensorflow:Can save best model only with val_f1_metric available, skipping.\n",
            " 9/13 [===================>..........] - ETA: 0s - loss: 0.1538 - accuracy: 0.9597 - f1_metric: 1.0405WARNING:tensorflow:Can save best model only with val_f1_metric available, skipping.\n",
            "WARNING:tensorflow:Can save best model only with val_f1_metric available, skipping.\n",
            "11/13 [========================>.....] - ETA: 0s - loss: 0.1530 - accuracy: 0.9619 - f1_metric: 1.0372WARNING:tensorflow:Can save best model only with val_f1_metric available, skipping.\n",
            "WARNING:tensorflow:Can save best model only with val_f1_metric available, skipping.\n",
            "13/13 [==============================] - ETA: 0s - loss: 0.1539 - accuracy: 0.9632 - f1_metric: 1.0354WARNING:tensorflow:Can save best model only with val_f1_metric available, skipping.\n",
            "13/13 [==============================] - 1s 47ms/step - loss: 0.1544 - accuracy: 0.9637 - f1_metric: 1.0349 - val_loss: 0.0993 - val_accuracy: 0.9752 - val_f1_metric: 1.0574\n",
            "Epoch 11/30\n",
            " 1/13 [=>............................] - ETA: 0s - loss: 0.1569 - accuracy: 0.9688 - f1_metric: 1.1520WARNING:tensorflow:Can save best model only with val_f1_metric available, skipping.\n",
            "WARNING:tensorflow:Can save best model only with val_f1_metric available, skipping.\n",
            " 3/13 [=====>........................] - ETA: 0s - loss: 0.1478 - accuracy: 0.9219 - f1_metric: 1.1846WARNING:tensorflow:Can save best model only with val_f1_metric available, skipping.\n",
            "WARNING:tensorflow:Can save best model only with val_f1_metric available, skipping.\n",
            " 5/13 [==========>...................] - ETA: 0s - loss: 0.1498 - accuracy: 0.9009 - f1_metric: 1.1862WARNING:tensorflow:Can save best model only with val_f1_metric available, skipping.\n",
            "WARNING:tensorflow:Can save best model only with val_f1_metric available, skipping.\n",
            " 7/13 [===============>..............] - ETA: 0s - loss: 0.1460 - accuracy: 0.8975 - f1_metric: 1.1759WARNING:tensorflow:Can save best model only with val_f1_metric available, skipping.\n",
            "WARNING:tensorflow:Can save best model only with val_f1_metric available, skipping.\n",
            " 9/13 [===================>..........] - ETA: 0s - loss: 0.1428 - accuracy: 0.8998 - f1_metric: 1.1646WARNING:tensorflow:Can save best model only with val_f1_metric available, skipping.\n",
            "WARNING:tensorflow:Can save best model only with val_f1_metric available, skipping.\n",
            "11/13 [========================>.....] - ETA: 0s - loss: 0.1395 - accuracy: 0.9042 - f1_metric: 1.1524WARNING:tensorflow:Can save best model only with val_f1_metric available, skipping.\n",
            "WARNING:tensorflow:Can save best model only with val_f1_metric available, skipping.\n",
            "13/13 [==============================] - ETA: 0s - loss: 0.1393 - accuracy: 0.9085 - f1_metric: 1.1412WARNING:tensorflow:Can save best model only with val_f1_metric available, skipping.\n",
            "13/13 [==============================] - 1s 44ms/step - loss: 0.1394 - accuracy: 0.9102 - f1_metric: 1.1366 - val_loss: 0.0205 - val_accuracy: 1.0000 - val_f1_metric: 0.9757\n",
            "Epoch 12/30\n",
            " 1/13 [=>............................] - ETA: 0s - loss: 0.1606 - accuracy: 0.9844 - f1_metric: 1.0083WARNING:tensorflow:Can save best model only with val_f1_metric available, skipping.\n",
            "WARNING:tensorflow:Can save best model only with val_f1_metric available, skipping.\n",
            " 3/13 [=====>........................] - ETA: 0s - loss: 0.1694 - accuracy: 0.9783 - f1_metric: 1.0017WARNING:tensorflow:Can save best model only with val_f1_metric available, skipping.\n",
            "WARNING:tensorflow:Can save best model only with val_f1_metric available, skipping.\n",
            " 5/13 [==========>...................] - ETA: 0s - loss: 0.1589 - accuracy: 0.9739 - f1_metric: 1.0059WARNING:tensorflow:Can save best model only with val_f1_metric available, skipping.\n",
            "WARNING:tensorflow:Can save best model only with val_f1_metric available, skipping.\n",
            " 7/13 [===============>..............] - ETA: 0s - loss: 0.1531 - accuracy: 0.9710 - f1_metric: 1.0092WARNING:tensorflow:Can save best model only with val_f1_metric available, skipping.\n",
            "WARNING:tensorflow:Can save best model only with val_f1_metric available, skipping.\n",
            " 9/13 [===================>..........] - ETA: 0s - loss: 0.1486 - accuracy: 0.9693 - f1_metric: 1.0133WARNING:tensorflow:Can save best model only with val_f1_metric available, skipping.\n",
            "WARNING:tensorflow:Can save best model only with val_f1_metric available, skipping.\n",
            "11/13 [========================>.....] - ETA: 0s - loss: 0.1433 - accuracy: 0.9678 - f1_metric: 1.0179WARNING:tensorflow:Can save best model only with val_f1_metric available, skipping.\n",
            "WARNING:tensorflow:Can save best model only with val_f1_metric available, skipping.\n",
            "13/13 [==============================] - ETA: 0s - loss: 0.1391 - accuracy: 0.9669 - f1_metric: 1.0206WARNING:tensorflow:Can save best model only with val_f1_metric available, skipping.\n",
            "13/13 [==============================] - 1s 45ms/step - loss: 0.1373 - accuracy: 0.9666 - f1_metric: 1.0216 - val_loss: 0.0347 - val_accuracy: 0.9901 - val_f1_metric: 0.9716\n",
            "Epoch 13/30\n",
            " 1/13 [=>............................] - ETA: 0s - loss: 0.0573 - accuracy: 0.9688 - f1_metric: 1.0164WARNING:tensorflow:Can save best model only with val_f1_metric available, skipping.\n",
            "WARNING:tensorflow:Can save best model only with val_f1_metric available, skipping.\n",
            " 3/13 [=====>........................] - ETA: 0s - loss: 0.0568 - accuracy: 0.9714 - f1_metric: 1.0064WARNING:tensorflow:Can save best model only with val_f1_metric available, skipping.\n",
            "WARNING:tensorflow:Can save best model only with val_f1_metric available, skipping.\n",
            " 5/13 [==========>...................] - ETA: 0s - loss: 0.0642 - accuracy: 0.9723 - f1_metric: 1.0001WARNING:tensorflow:Can save best model only with val_f1_metric available, skipping.\n",
            "WARNING:tensorflow:Can save best model only with val_f1_metric available, skipping.\n",
            " 7/13 [===============>..............] - ETA: 0s - loss: 0.0679 - accuracy: 0.9734 - f1_metric: 0.9995WARNING:tensorflow:Can save best model only with val_f1_metric available, skipping.\n",
            "WARNING:tensorflow:Can save best model only with val_f1_metric available, skipping.\n",
            " 9/13 [===================>..........] - ETA: 0s - loss: 0.0759 - accuracy: 0.9736 - f1_metric: 0.9995WARNING:tensorflow:Can save best model only with val_f1_metric available, skipping.\n",
            "WARNING:tensorflow:Can save best model only with val_f1_metric available, skipping.\n",
            "11/13 [========================>.....] - ETA: 0s - loss: 0.0804 - accuracy: 0.9743 - f1_metric: 0.9986WARNING:tensorflow:Can save best model only with val_f1_metric available, skipping.\n",
            "WARNING:tensorflow:Can save best model only with val_f1_metric available, skipping.\n",
            "13/13 [==============================] - ETA: 0s - loss: 0.0830 - accuracy: 0.9751 - f1_metric: 0.9977WARNING:tensorflow:Can save best model only with val_f1_metric available, skipping.\n",
            "13/13 [==============================] - 1s 46ms/step - loss: 0.0843 - accuracy: 0.9754 - f1_metric: 0.9973 - val_loss: 0.0192 - val_accuracy: 0.9950 - val_f1_metric: 0.9757\n",
            "Epoch 14/30\n",
            " 1/13 [=>............................] - ETA: 0s - loss: 0.0779 - accuracy: 1.0000 - f1_metric: 0.9756WARNING:tensorflow:Can save best model only with val_f1_metric available, skipping.\n",
            "WARNING:tensorflow:Can save best model only with val_f1_metric available, skipping.\n",
            " 3/13 [=====>........................] - ETA: 0s - loss: 0.0727 - accuracy: 1.0000 - f1_metric: 0.9873WARNING:tensorflow:Can save best model only with val_f1_metric available, skipping.\n",
            "WARNING:tensorflow:Can save best model only with val_f1_metric available, skipping.\n",
            " 5/13 [==========>...................] - ETA: 0s - loss: 0.0676 - accuracy: 0.9967 - f1_metric: 0.9927WARNING:tensorflow:Can save best model only with val_f1_metric available, skipping.\n",
            "WARNING:tensorflow:Can save best model only with val_f1_metric available, skipping.\n",
            " 7/13 [===============>..............] - ETA: 0s - loss: 0.0692 - accuracy: 0.9895 - f1_metric: 1.0017WARNING:tensorflow:Can save best model only with val_f1_metric available, skipping.\n",
            "WARNING:tensorflow:Can save best model only with val_f1_metric available, skipping.\n",
            " 9/13 [===================>..........] - ETA: 0s - loss: 0.0711 - accuracy: 0.9841 - f1_metric: 1.0099WARNING:tensorflow:Can save best model only with val_f1_metric available, skipping.\n",
            "WARNING:tensorflow:Can save best model only with val_f1_metric available, skipping.\n",
            "11/13 [========================>.....] - ETA: 0s - loss: 0.0721 - accuracy: 0.9809 - f1_metric: 1.0144WARNING:tensorflow:Can save best model only with val_f1_metric available, skipping.\n",
            "WARNING:tensorflow:Can save best model only with val_f1_metric available, skipping.\n",
            "13/13 [==============================] - ETA: 0s - loss: 0.0724 - accuracy: 0.9788 - f1_metric: 1.0169WARNING:tensorflow:Can save best model only with val_f1_metric available, skipping.\n",
            "13/13 [==============================] - 1s 47ms/step - loss: 0.0724 - accuracy: 0.9780 - f1_metric: 1.0179 - val_loss: 0.0151 - val_accuracy: 0.9950 - val_f1_metric: 0.9757\n",
            "Epoch 15/30\n",
            " 1/13 [=>............................] - ETA: 0s - loss: 0.0247 - accuracy: 1.0000 - f1_metric: 0.9593WARNING:tensorflow:Can save best model only with val_f1_metric available, skipping.\n",
            "WARNING:tensorflow:Can save best model only with val_f1_metric available, skipping.\n",
            " 3/13 [=====>........................] - ETA: 0s - loss: 0.0228 - accuracy: 1.0000 - f1_metric: 0.9615WARNING:tensorflow:Can save best model only with val_f1_metric available, skipping.\n",
            "WARNING:tensorflow:Can save best model only with val_f1_metric available, skipping.\n",
            " 5/13 [==========>...................] - ETA: 0s - loss: 0.0291 - accuracy: 0.9994 - f1_metric: 0.9630WARNING:tensorflow:Can save best model only with val_f1_metric available, skipping.\n",
            "WARNING:tensorflow:Can save best model only with val_f1_metric available, skipping.\n",
            " 7/13 [===============>..............] - ETA: 0s - loss: 0.0338 - accuracy: 0.9989 - f1_metric: 0.9646WARNING:tensorflow:Can save best model only with val_f1_metric available, skipping.\n",
            "WARNING:tensorflow:Can save best model only with val_f1_metric available, skipping.\n",
            " 9/13 [===================>..........] - ETA: 0s - loss: 0.0364 - accuracy: 0.9987 - f1_metric: 0.9666WARNING:tensorflow:Can save best model only with val_f1_metric available, skipping.\n",
            "WARNING:tensorflow:Can save best model only with val_f1_metric available, skipping.\n",
            "11/13 [========================>.....] - ETA: 0s - loss: 0.0392 - accuracy: 0.9983 - f1_metric: 0.9685WARNING:tensorflow:Can save best model only with val_f1_metric available, skipping.\n",
            "WARNING:tensorflow:Can save best model only with val_f1_metric available, skipping.\n",
            "13/13 [==============================] - ETA: 0s - loss: 0.0409 - accuracy: 0.9976 - f1_metric: 0.9706WARNING:tensorflow:Can save best model only with val_f1_metric available, skipping.\n",
            "13/13 [==============================] - 1s 46ms/step - loss: 0.0416 - accuracy: 0.9973 - f1_metric: 0.9715 - val_loss: 0.0283 - val_accuracy: 0.9950 - val_f1_metric: 1.0007\n",
            "Epoch 16/30\n",
            " 1/13 [=>............................] - ETA: 0s - loss: 0.0244 - accuracy: 0.9844 - f1_metric: 1.0240WARNING:tensorflow:Can save best model only with val_f1_metric available, skipping.\n",
            "WARNING:tensorflow:Can save best model only with val_f1_metric available, skipping.\n",
            " 3/13 [=====>........................] - ETA: 0s - loss: 0.0288 - accuracy: 0.9861 - f1_metric: 1.0156WARNING:tensorflow:Can save best model only with val_f1_metric available, skipping.\n",
            "WARNING:tensorflow:Can save best model only with val_f1_metric available, skipping.\n",
            " 5/13 [==========>...................] - ETA: 0s - loss: 0.0284 - accuracy: 0.9860 - f1_metric: 1.0137WARNING:tensorflow:Can save best model only with val_f1_metric available, skipping.\n",
            "WARNING:tensorflow:Can save best model only with val_f1_metric available, skipping.\n",
            " 7/13 [===============>..............] - ETA: 0s - loss: 0.0293 - accuracy: 0.9846 - f1_metric: 1.0142WARNING:tensorflow:Can save best model only with val_f1_metric available, skipping.\n",
            "WARNING:tensorflow:Can save best model only with val_f1_metric available, skipping.\n",
            " 9/13 [===================>..........] - ETA: 0s - loss: 0.0320 - accuracy: 0.9835 - f1_metric: 1.0135WARNING:tensorflow:Can save best model only with val_f1_metric available, skipping.\n",
            "WARNING:tensorflow:Can save best model only with val_f1_metric available, skipping.\n",
            "11/13 [========================>.....] - ETA: 0s - loss: 0.0346 - accuracy: 0.9829 - f1_metric: 1.0127WARNING:tensorflow:Can save best model only with val_f1_metric available, skipping.\n",
            "WARNING:tensorflow:Can save best model only with val_f1_metric available, skipping.\n",
            "13/13 [==============================] - ETA: 0s - loss: 0.0361 - accuracy: 0.9826 - f1_metric: 1.0117WARNING:tensorflow:Can save best model only with val_f1_metric available, skipping.\n",
            "13/13 [==============================] - 1s 46ms/step - loss: 0.0368 - accuracy: 0.9825 - f1_metric: 1.0112 - val_loss: 0.0088 - val_accuracy: 0.9950 - val_f1_metric: 0.9757\n",
            "Epoch 17/30\n",
            " 1/13 [=>............................] - ETA: 0s - loss: 0.0042 - accuracy: 1.0000 - f1_metric: 0.9760WARNING:tensorflow:Can save best model only with val_f1_metric available, skipping.\n",
            "WARNING:tensorflow:Can save best model only with val_f1_metric available, skipping.\n",
            " 3/13 [=====>........................] - ETA: 0s - loss: 0.0270 - accuracy: 1.0000 - f1_metric: 0.9740WARNING:tensorflow:Can save best model only with val_f1_metric available, skipping.\n",
            "WARNING:tensorflow:Can save best model only with val_f1_metric available, skipping.\n",
            " 5/13 [==========>...................] - ETA: 0s - loss: 0.0323 - accuracy: 1.0000 - f1_metric: 0.9715WARNING:tensorflow:Can save best model only with val_f1_metric available, skipping.\n",
            "WARNING:tensorflow:Can save best model only with val_f1_metric available, skipping.\n",
            " 7/13 [===============>..............] - ETA: 0s - loss: 0.0344 - accuracy: 1.0000 - f1_metric: 0.9718WARNING:tensorflow:Can save best model only with val_f1_metric available, skipping.\n",
            "WARNING:tensorflow:Can save best model only with val_f1_metric available, skipping.\n",
            " 9/13 [===================>..........] - ETA: 0s - loss: 0.0360 - accuracy: 1.0000 - f1_metric: 0.9718WARNING:tensorflow:Can save best model only with val_f1_metric available, skipping.\n",
            "WARNING:tensorflow:Can save best model only with val_f1_metric available, skipping.\n",
            "11/13 [========================>.....] - ETA: 0s - loss: 0.0405 - accuracy: 0.9992 - f1_metric: 0.9726WARNING:tensorflow:Can save best model only with val_f1_metric available, skipping.\n",
            "WARNING:tensorflow:Can save best model only with val_f1_metric available, skipping.\n",
            "13/13 [==============================] - ETA: 0s - loss: 0.0434 - accuracy: 0.9981 - f1_metric: 0.9736WARNING:tensorflow:Can save best model only with val_f1_metric available, skipping.\n",
            "13/13 [==============================] - 1s 46ms/step - loss: 0.0446 - accuracy: 0.9975 - f1_metric: 0.9743 - val_loss: 0.0162 - val_accuracy: 0.9950 - val_f1_metric: 0.9716\n",
            "Epoch 18/30\n",
            " 1/13 [=>............................] - ETA: 0s - loss: 0.0405 - accuracy: 0.9844 - f1_metric: 0.9920WARNING:tensorflow:Can save best model only with val_f1_metric available, skipping.\n",
            "WARNING:tensorflow:Can save best model only with val_f1_metric available, skipping.\n",
            " 3/13 [=====>........................] - ETA: 0s - loss: 0.0377 - accuracy: 0.9800 - f1_metric: 0.9937WARNING:tensorflow:Can save best model only with val_f1_metric available, skipping.\n",
            "WARNING:tensorflow:Can save best model only with val_f1_metric available, skipping.\n",
            " 5/13 [==========>...................] - ETA: 0s - loss: 0.0365 - accuracy: 0.9824 - f1_metric: 0.9902WARNING:tensorflow:Can save best model only with val_f1_metric available, skipping.\n",
            "WARNING:tensorflow:Can save best model only with val_f1_metric available, skipping.\n",
            " 7/13 [===============>..............] - ETA: 0s - loss: 0.0376 - accuracy: 0.9847 - f1_metric: 0.9858WARNING:tensorflow:Can save best model only with val_f1_metric available, skipping.\n",
            "WARNING:tensorflow:Can save best model only with val_f1_metric available, skipping.\n",
            " 9/13 [===================>..........] - ETA: 0s - loss: 0.0383 - accuracy: 0.9854 - f1_metric: 0.9829WARNING:tensorflow:Can save best model only with val_f1_metric available, skipping.\n",
            "WARNING:tensorflow:Can save best model only with val_f1_metric available, skipping.\n",
            "11/13 [========================>.....] - ETA: 0s - loss: 0.0382 - accuracy: 0.9852 - f1_metric: 0.9821WARNING:tensorflow:Can save best model only with val_f1_metric available, skipping.\n",
            "WARNING:tensorflow:Can save best model only with val_f1_metric available, skipping.\n",
            "13/13 [==============================] - ETA: 0s - loss: 0.0377 - accuracy: 0.9854 - f1_metric: 0.9815WARNING:tensorflow:Can save best model only with val_f1_metric available, skipping.\n",
            "13/13 [==============================] - 1s 47ms/step - loss: 0.0375 - accuracy: 0.9854 - f1_metric: 0.9811 - val_loss: 0.0109 - val_accuracy: 0.9950 - val_f1_metric: 0.9757\n",
            "Epoch 19/30\n",
            " 1/13 [=>............................] - ETA: 0s - loss: 0.0426 - accuracy: 0.9844 - f1_metric: 0.9839WARNING:tensorflow:Can save best model only with val_f1_metric available, skipping.\n",
            "WARNING:tensorflow:Can save best model only with val_f1_metric available, skipping.\n",
            " 3/13 [=====>........................] - ETA: 0s - loss: 0.0341 - accuracy: 0.9861 - f1_metric: 0.9805WARNING:tensorflow:Can save best model only with val_f1_metric available, skipping.\n",
            "WARNING:tensorflow:Can save best model only with val_f1_metric available, skipping.\n",
            " 5/13 [==========>...................] - ETA: 0s - loss: 0.0339 - accuracy: 0.9870 - f1_metric: 0.9777WARNING:tensorflow:Can save best model only with val_f1_metric available, skipping.\n",
            "WARNING:tensorflow:Can save best model only with val_f1_metric available, skipping.\n",
            " 7/13 [===============>..............] - ETA: 0s - loss: 0.0364 - accuracy: 0.9872 - f1_metric: 0.9776WARNING:tensorflow:Can save best model only with val_f1_metric available, skipping.\n",
            "WARNING:tensorflow:Can save best model only with val_f1_metric available, skipping.\n",
            " 9/13 [===================>..........] - ETA: 0s - loss: 0.0366 - accuracy: 0.9880 - f1_metric: 0.9777WARNING:tensorflow:Can save best model only with val_f1_metric available, skipping.\n",
            "WARNING:tensorflow:Can save best model only with val_f1_metric available, skipping.\n",
            "11/13 [========================>.....] - ETA: 0s - loss: 0.0366 - accuracy: 0.9889 - f1_metric: 0.9778WARNING:tensorflow:Can save best model only with val_f1_metric available, skipping.\n",
            "WARNING:tensorflow:Can save best model only with val_f1_metric available, skipping.\n",
            "13/13 [==============================] - ETA: 0s - loss: 0.0359 - accuracy: 0.9894 - f1_metric: 0.9779WARNING:tensorflow:Can save best model only with val_f1_metric available, skipping.\n",
            "13/13 [==============================] - 1s 48ms/step - loss: 0.0356 - accuracy: 0.9896 - f1_metric: 0.9779 - val_loss: 0.0084 - val_accuracy: 0.9950 - val_f1_metric: 0.9757\n",
            "Epoch 20/30\n",
            " 1/13 [=>............................] - ETA: 0s - loss: 0.0433 - accuracy: 0.9688 - f1_metric: 0.9841WARNING:tensorflow:Can save best model only with val_f1_metric available, skipping.\n",
            "WARNING:tensorflow:Can save best model only with val_f1_metric available, skipping.\n",
            " 3/13 [=====>........................] - ETA: 0s - loss: 0.0521 - accuracy: 0.9809 - f1_metric: 0.9748WARNING:tensorflow:Can save best model only with val_f1_metric available, skipping.\n",
            "WARNING:tensorflow:Can save best model only with val_f1_metric available, skipping.\n",
            " 5/13 [==========>...................] - ETA: 0s - loss: 0.0464 - accuracy: 0.9857 - f1_metric: 0.9746WARNING:tensorflow:Can save best model only with val_f1_metric available, skipping.\n",
            "WARNING:tensorflow:Can save best model only with val_f1_metric available, skipping.\n",
            " 7/13 [===============>..............] - ETA: 0s - loss: 0.0452 - accuracy: 0.9874 - f1_metric: 0.9771WARNING:tensorflow:Can save best model only with val_f1_metric available, skipping.\n",
            "WARNING:tensorflow:Can save best model only with val_f1_metric available, skipping.\n",
            " 9/13 [===================>..........] - ETA: 0s - loss: 0.0494 - accuracy: 0.9882 - f1_metric: 0.9788WARNING:tensorflow:Can save best model only with val_f1_metric available, skipping.\n",
            "WARNING:tensorflow:Can save best model only with val_f1_metric available, skipping.\n",
            "11/13 [========================>.....] - ETA: 0s - loss: 0.0502 - accuracy: 0.9887 - f1_metric: 0.9798WARNING:tensorflow:Can save best model only with val_f1_metric available, skipping.\n",
            "WARNING:tensorflow:Can save best model only with val_f1_metric available, skipping.\n",
            "13/13 [==============================] - ETA: 0s - loss: 0.0499 - accuracy: 0.9890 - f1_metric: 0.9802WARNING:tensorflow:Can save best model only with val_f1_metric available, skipping.\n",
            "13/13 [==============================] - 1s 47ms/step - loss: 0.0497 - accuracy: 0.9890 - f1_metric: 0.9804 - val_loss: 0.0144 - val_accuracy: 0.9950 - val_f1_metric: 0.9716\n",
            "Epoch 21/30\n",
            " 1/13 [=>............................] - ETA: 0s - loss: 0.0928 - accuracy: 0.9531 - f1_metric: 0.9756WARNING:tensorflow:Can save best model only with val_f1_metric available, skipping.\n",
            "WARNING:tensorflow:Can save best model only with val_f1_metric available, skipping.\n",
            " 3/13 [=====>........................] - ETA: 0s - loss: 0.0748 - accuracy: 0.9566 - f1_metric: 0.9846WARNING:tensorflow:Can save best model only with val_f1_metric available, skipping.\n",
            "WARNING:tensorflow:Can save best model only with val_f1_metric available, skipping.\n",
            " 5/13 [==========>...................] - ETA: 0s - loss: 0.0697 - accuracy: 0.9621 - f1_metric: 0.9854WARNING:tensorflow:Can save best model only with val_f1_metric available, skipping.\n",
            "WARNING:tensorflow:Can save best model only with val_f1_metric available, skipping.\n",
            " 7/13 [===============>..............] - ETA: 0s - loss: 0.0673 - accuracy: 0.9657 - f1_metric: 0.9854WARNING:tensorflow:Can save best model only with val_f1_metric available, skipping.\n",
            " 8/13 [=================>............] - ETA: 0s - loss: 0.0661 - accuracy: 0.9673 - f1_metric: 0.9852WARNING:tensorflow:Can save best model only with val_f1_metric available, skipping.\n",
            "WARNING:tensorflow:Can save best model only with val_f1_metric available, skipping.\n",
            "10/13 [======================>.......] - ETA: 0s - loss: 0.0631 - accuracy: 0.9702 - f1_metric: 0.9839WARNING:tensorflow:Can save best model only with val_f1_metric available, skipping.\n",
            "WARNING:tensorflow:Can save best model only with val_f1_metric available, skipping.\n",
            "12/13 [==========================>...] - ETA: 0s - loss: 0.0607 - accuracy: 0.9727 - f1_metric: 0.9822WARNING:tensorflow:Can save best model only with val_f1_metric available, skipping.\n",
            "WARNING:tensorflow:Can save best model only with val_f1_metric available, skipping.\n",
            "13/13 [==============================] - 1s 48ms/step - loss: 0.0586 - accuracy: 0.9746 - f1_metric: 0.9809 - val_loss: 0.0101 - val_accuracy: 0.9950 - val_f1_metric: 0.9716\n",
            "Epoch 22/30\n",
            " 1/13 [=>............................] - ETA: 0s - loss: 0.0387 - accuracy: 0.9844 - f1_metric: 0.9919WARNING:tensorflow:Can save best model only with val_f1_metric available, skipping.\n",
            "WARNING:tensorflow:Can save best model only with val_f1_metric available, skipping.\n",
            " 3/13 [=====>........................] - ETA: 0s - loss: 0.0330 - accuracy: 0.9887 - f1_metric: 0.9817WARNING:tensorflow:Can save best model only with val_f1_metric available, skipping.\n",
            "WARNING:tensorflow:Can save best model only with val_f1_metric available, skipping.\n",
            " 5/13 [==========>...................] - ETA: 0s - loss: 0.0305 - accuracy: 0.9904 - f1_metric: 0.9799WARNING:tensorflow:Can save best model only with val_f1_metric available, skipping.\n",
            "WARNING:tensorflow:Can save best model only with val_f1_metric available, skipping.\n",
            " 7/13 [===============>..............] - ETA: 0s - loss: 0.0292 - accuracy: 0.9904 - f1_metric: 0.9799WARNING:tensorflow:Can save best model only with val_f1_metric available, skipping.\n",
            "WARNING:tensorflow:Can save best model only with val_f1_metric available, skipping.\n",
            " 9/13 [===================>..........] - ETA: 0s - loss: 0.0286 - accuracy: 0.9901 - f1_metric: 0.9819WARNING:tensorflow:Can save best model only with val_f1_metric available, skipping.\n",
            "WARNING:tensorflow:Can save best model only with val_f1_metric available, skipping.\n",
            "11/13 [========================>.....] - ETA: 0s - loss: 0.0278 - accuracy: 0.9900 - f1_metric: 0.9840WARNING:tensorflow:Can save best model only with val_f1_metric available, skipping.\n",
            "WARNING:tensorflow:Can save best model only with val_f1_metric available, skipping.\n",
            "13/13 [==============================] - ETA: 0s - loss: 0.0271 - accuracy: 0.9900 - f1_metric: 0.9853WARNING:tensorflow:Can save best model only with val_f1_metric available, skipping.\n",
            "13/13 [==============================] - 1s 48ms/step - loss: 0.0269 - accuracy: 0.9900 - f1_metric: 0.9858 - val_loss: 0.0097 - val_accuracy: 0.9950 - val_f1_metric: 0.9757\n",
            "Epoch 23/30\n",
            " 1/13 [=>............................] - ETA: 0s - loss: 0.0187 - accuracy: 1.0000 - f1_metric: 1.0000WARNING:tensorflow:Can save best model only with val_f1_metric available, skipping.\n",
            "WARNING:tensorflow:Can save best model only with val_f1_metric available, skipping.\n",
            " 3/13 [=====>........................] - ETA: 0s - loss: 0.0124 - accuracy: 1.0000 - f1_metric: 0.9929WARNING:tensorflow:Can save best model only with val_f1_metric available, skipping.\n",
            "WARNING:tensorflow:Can save best model only with val_f1_metric available, skipping.\n",
            " 5/13 [==========>...................] - ETA: 0s - loss: 0.0107 - accuracy: 1.0000 - f1_metric: 0.9901WARNING:tensorflow:Can save best model only with val_f1_metric available, skipping.\n",
            "WARNING:tensorflow:Can save best model only with val_f1_metric available, skipping.\n",
            " 7/13 [===============>..............] - ETA: 0s - loss: 0.0179 - accuracy: 0.9979 - f1_metric: 0.9869WARNING:tensorflow:Can save best model only with val_f1_metric available, skipping.\n",
            "WARNING:tensorflow:Can save best model only with val_f1_metric available, skipping.\n",
            " 9/13 [===================>..........] - ETA: 0s - loss: 0.0212 - accuracy: 0.9972 - f1_metric: 0.9838WARNING:tensorflow:Can save best model only with val_f1_metric available, skipping.\n",
            "WARNING:tensorflow:Can save best model only with val_f1_metric available, skipping.\n",
            "11/13 [========================>.....] - ETA: 0s - loss: 0.0232 - accuracy: 0.9965 - f1_metric: 0.9824WARNING:tensorflow:Can save best model only with val_f1_metric available, skipping.\n",
            "WARNING:tensorflow:Can save best model only with val_f1_metric available, skipping.\n",
            "13/13 [==============================] - ETA: 0s - loss: 0.0242 - accuracy: 0.9960 - f1_metric: 0.9812WARNING:tensorflow:Can save best model only with val_f1_metric available, skipping.\n",
            "13/13 [==============================] - 1s 48ms/step - loss: 0.0245 - accuracy: 0.9959 - f1_metric: 0.9807 - val_loss: 0.0233 - val_accuracy: 0.9950 - val_f1_metric: 0.9716\n",
            "Epoch 24/30\n",
            " 1/13 [=>............................] - ETA: 0s - loss: 0.0149 - accuracy: 0.9844 - f1_metric: 1.0000WARNING:tensorflow:Can save best model only with val_f1_metric available, skipping.\n",
            "WARNING:tensorflow:Can save best model only with val_f1_metric available, skipping.\n",
            " 3/13 [=====>........................] - ETA: 0s - loss: 0.0199 - accuracy: 0.9887 - f1_metric: 1.0026WARNING:tensorflow:Can save best model only with val_f1_metric available, skipping.\n",
            "WARNING:tensorflow:Can save best model only with val_f1_metric available, skipping.\n",
            " 5/13 [==========>...................] - ETA: 0s - loss: 0.0245 - accuracy: 0.9849 - f1_metric: 1.0006WARNING:tensorflow:Can save best model only with val_f1_metric available, skipping.\n",
            "WARNING:tensorflow:Can save best model only with val_f1_metric available, skipping.\n",
            " 7/13 [===============>..............] - ETA: 0s - loss: 0.0271 - accuracy: 0.9827 - f1_metric: 0.9977WARNING:tensorflow:Can save best model only with val_f1_metric available, skipping.\n",
            "WARNING:tensorflow:Can save best model only with val_f1_metric available, skipping.\n",
            " 9/13 [===================>..........] - ETA: 0s - loss: 0.0277 - accuracy: 0.9823 - f1_metric: 0.9950WARNING:tensorflow:Can save best model only with val_f1_metric available, skipping.\n",
            "WARNING:tensorflow:Can save best model only with val_f1_metric available, skipping.\n",
            "11/13 [========================>.....] - ETA: 0s - loss: 0.0279 - accuracy: 0.9822 - f1_metric: 0.9932WARNING:tensorflow:Can save best model only with val_f1_metric available, skipping.\n",
            "WARNING:tensorflow:Can save best model only with val_f1_metric available, skipping.\n",
            "13/13 [==============================] - ETA: 0s - loss: 0.0277 - accuracy: 0.9824 - f1_metric: 0.9917WARNING:tensorflow:Can save best model only with val_f1_metric available, skipping.\n",
            "13/13 [==============================] - 1s 48ms/step - loss: 0.0276 - accuracy: 0.9825 - f1_metric: 0.9911 - val_loss: 0.0069 - val_accuracy: 0.9950 - val_f1_metric: 0.9757\n",
            "Epoch 25/30\n",
            " 1/13 [=>............................] - ETA: 0s - loss: 0.0114 - accuracy: 1.0000 - f1_metric: 0.9508WARNING:tensorflow:Can save best model only with val_f1_metric available, skipping.\n",
            "WARNING:tensorflow:Can save best model only with val_f1_metric available, skipping.\n",
            " 3/13 [=====>........................] - ETA: 0s - loss: 0.0377 - accuracy: 0.9957 - f1_metric: 0.9435WARNING:tensorflow:Can save best model only with val_f1_metric available, skipping.\n",
            "WARNING:tensorflow:Can save best model only with val_f1_metric available, skipping.\n",
            " 5/13 [==========>...................] - ETA: 0s - loss: 0.0358 - accuracy: 0.9960 - f1_metric: 0.9498WARNING:tensorflow:Can save best model only with val_f1_metric available, skipping.\n",
            "WARNING:tensorflow:Can save best model only with val_f1_metric available, skipping.\n",
            " 7/13 [===============>..............] - ETA: 0s - loss: 0.0339 - accuracy: 0.9958 - f1_metric: 0.9552WARNING:tensorflow:Can save best model only with val_f1_metric available, skipping.\n",
            "WARNING:tensorflow:Can save best model only with val_f1_metric available, skipping.\n",
            " 9/13 [===================>..........] - ETA: 0s - loss: 0.0317 - accuracy: 0.9955 - f1_metric: 0.9596WARNING:tensorflow:Can save best model only with val_f1_metric available, skipping.\n",
            "WARNING:tensorflow:Can save best model only with val_f1_metric available, skipping.\n",
            "11/13 [========================>.....] - ETA: 0s - loss: 0.0300 - accuracy: 0.9949 - f1_metric: 0.9624WARNING:tensorflow:Can save best model only with val_f1_metric available, skipping.\n",
            "WARNING:tensorflow:Can save best model only with val_f1_metric available, skipping.\n",
            "13/13 [==============================] - ETA: 0s - loss: 0.0287 - accuracy: 0.9943 - f1_metric: 0.9644WARNING:tensorflow:Can save best model only with val_f1_metric available, skipping.\n",
            "13/13 [==============================] - 1s 48ms/step - loss: 0.0282 - accuracy: 0.9940 - f1_metric: 0.9653 - val_loss: 0.0162 - val_accuracy: 0.9950 - val_f1_metric: 0.9716\n",
            "Epoch 26/30\n",
            " 1/13 [=>............................] - ETA: 0s - loss: 0.0127 - accuracy: 0.9844 - f1_metric: 0.9593WARNING:tensorflow:Can save best model only with val_f1_metric available, skipping.\n",
            "WARNING:tensorflow:Can save best model only with val_f1_metric available, skipping.\n",
            " 3/13 [=====>........................] - ETA: 0s - loss: 0.0238 - accuracy: 0.9905 - f1_metric: 0.9635WARNING:tensorflow:Can save best model only with val_f1_metric available, skipping.\n",
            "WARNING:tensorflow:Can save best model only with val_f1_metric available, skipping.\n",
            " 5/13 [==========>...................] - ETA: 0s - loss: 0.0259 - accuracy: 0.9915 - f1_metric: 0.9671WARNING:tensorflow:Can save best model only with val_f1_metric available, skipping.\n",
            "WARNING:tensorflow:Can save best model only with val_f1_metric available, skipping.\n",
            " 7/13 [===============>..............] - ETA: 0s - loss: 0.0261 - accuracy: 0.9925 - f1_metric: 0.9681WARNING:tensorflow:Can save best model only with val_f1_metric available, skipping.\n",
            "WARNING:tensorflow:Can save best model only with val_f1_metric available, skipping.\n",
            " 9/13 [===================>..........] - ETA: 0s - loss: 0.0252 - accuracy: 0.9934 - f1_metric: 0.9674WARNING:tensorflow:Can save best model only with val_f1_metric available, skipping.\n",
            "WARNING:tensorflow:Can save best model only with val_f1_metric available, skipping.\n",
            "11/13 [========================>.....] - ETA: 0s - loss: 0.0241 - accuracy: 0.9938 - f1_metric: 0.9676WARNING:tensorflow:Can save best model only with val_f1_metric available, skipping.\n",
            "WARNING:tensorflow:Can save best model only with val_f1_metric available, skipping.\n",
            "13/13 [==============================] - ETA: 0s - loss: 0.0232 - accuracy: 0.9939 - f1_metric: 0.9677WARNING:tensorflow:Can save best model only with val_f1_metric available, skipping.\n",
            "13/13 [==============================] - 1s 48ms/step - loss: 0.0228 - accuracy: 0.9940 - f1_metric: 0.9677 - val_loss: 0.0121 - val_accuracy: 0.9950 - val_f1_metric: 0.9716\n",
            "Epoch 27/30\n",
            " 1/13 [=>............................] - ETA: 0s - loss: 0.0139 - accuracy: 1.0000 - f1_metric: 1.0156WARNING:tensorflow:Can save best model only with val_f1_metric available, skipping.\n",
            "WARNING:tensorflow:Can save best model only with val_f1_metric available, skipping.\n",
            " 3/13 [=====>........................] - ETA: 0s - loss: 0.0179 - accuracy: 1.0000 - f1_metric: 0.9865WARNING:tensorflow:Can save best model only with val_f1_metric available, skipping.\n",
            "WARNING:tensorflow:Can save best model only with val_f1_metric available, skipping.\n",
            " 5/13 [==========>...................] - ETA: 0s - loss: 0.0205 - accuracy: 1.0000 - f1_metric: 0.9783WARNING:tensorflow:Can save best model only with val_f1_metric available, skipping.\n",
            "WARNING:tensorflow:Can save best model only with val_f1_metric available, skipping.\n",
            " 7/13 [===============>..............] - ETA: 0s - loss: 0.0209 - accuracy: 1.0000 - f1_metric: 0.9747WARNING:tensorflow:Can save best model only with val_f1_metric available, skipping.\n",
            "WARNING:tensorflow:Can save best model only with val_f1_metric available, skipping.\n",
            " 9/13 [===================>..........] - ETA: 0s - loss: 0.0203 - accuracy: 0.9996 - f1_metric: 0.9734WARNING:tensorflow:Can save best model only with val_f1_metric available, skipping.\n",
            "WARNING:tensorflow:Can save best model only with val_f1_metric available, skipping.\n",
            "11/13 [========================>.....] - ETA: 0s - loss: 0.0223 - accuracy: 0.9987 - f1_metric: 0.9729WARNING:tensorflow:Can save best model only with val_f1_metric available, skipping.\n",
            "WARNING:tensorflow:Can save best model only with val_f1_metric available, skipping.\n",
            "13/13 [==============================] - ETA: 0s - loss: 0.0241 - accuracy: 0.9980 - f1_metric: 0.9730WARNING:tensorflow:Can save best model only with val_f1_metric available, skipping.\n",
            "13/13 [==============================] - 1s 49ms/step - loss: 0.0248 - accuracy: 0.9977 - f1_metric: 0.9730 - val_loss: 0.0178 - val_accuracy: 0.9950 - val_f1_metric: 0.9716\n",
            "Epoch 28/30\n",
            " 1/13 [=>............................] - ETA: 0s - loss: 0.0173 - accuracy: 0.9844 - f1_metric: 0.9756WARNING:tensorflow:Can save best model only with val_f1_metric available, skipping.\n",
            "WARNING:tensorflow:Can save best model only with val_f1_metric available, skipping.\n",
            " 3/13 [=====>........................] - ETA: 0s - loss: 0.0199 - accuracy: 0.9800 - f1_metric: 0.9742WARNING:tensorflow:Can save best model only with val_f1_metric available, skipping.\n",
            "WARNING:tensorflow:Can save best model only with val_f1_metric available, skipping.\n",
            " 5/13 [==========>...................] - ETA: 0s - loss: 0.0191 - accuracy: 0.9818 - f1_metric: 0.9730WARNING:tensorflow:Can save best model only with val_f1_metric available, skipping.\n",
            "WARNING:tensorflow:Can save best model only with val_f1_metric available, skipping.\n",
            " 7/13 [===============>..............] - ETA: 0s - loss: 0.0180 - accuracy: 0.9835 - f1_metric: 0.9730WARNING:tensorflow:Can save best model only with val_f1_metric available, skipping.\n",
            "WARNING:tensorflow:Can save best model only with val_f1_metric available, skipping.\n",
            " 9/13 [===================>..........] - ETA: 0s - loss: 0.0169 - accuracy: 0.9849 - f1_metric: 0.9733WARNING:tensorflow:Can save best model only with val_f1_metric available, skipping.\n",
            "WARNING:tensorflow:Can save best model only with val_f1_metric available, skipping.\n",
            "11/13 [========================>.....] - ETA: 0s - loss: 0.0164 - accuracy: 0.9858 - f1_metric: 0.9740WARNING:tensorflow:Can save best model only with val_f1_metric available, skipping.\n",
            "WARNING:tensorflow:Can save best model only with val_f1_metric available, skipping.\n",
            "13/13 [==============================] - ETA: 0s - loss: 0.0161 - accuracy: 0.9865 - f1_metric: 0.9743WARNING:tensorflow:Can save best model only with val_f1_metric available, skipping.\n",
            "13/13 [==============================] - 1s 50ms/step - loss: 0.0160 - accuracy: 0.9868 - f1_metric: 0.9745 - val_loss: 0.0087 - val_accuracy: 0.9950 - val_f1_metric: 0.9757\n",
            "Epoch 29/30\n",
            " 1/13 [=>............................] - ETA: 0s - loss: 0.0454 - accuracy: 1.0000 - f1_metric: 0.9756WARNING:tensorflow:Can save best model only with val_f1_metric available, skipping.\n",
            "WARNING:tensorflow:Can save best model only with val_f1_metric available, skipping.\n",
            " 3/13 [=====>........................] - ETA: 0s - loss: 0.0328 - accuracy: 1.0000 - f1_metric: 0.9636WARNING:tensorflow:Can save best model only with val_f1_metric available, skipping.\n",
            "WARNING:tensorflow:Can save best model only with val_f1_metric available, skipping.\n",
            " 5/13 [==========>...................] - ETA: 0s - loss: 0.0288 - accuracy: 1.0000 - f1_metric: 0.9616WARNING:tensorflow:Can save best model only with val_f1_metric available, skipping.\n",
            "WARNING:tensorflow:Can save best model only with val_f1_metric available, skipping.\n",
            " 7/13 [===============>..............] - ETA: 0s - loss: 0.0262 - accuracy: 0.9997 - f1_metric: 0.9623WARNING:tensorflow:Can save best model only with val_f1_metric available, skipping.\n",
            "WARNING:tensorflow:Can save best model only with val_f1_metric available, skipping.\n",
            " 9/13 [===================>..........] - ETA: 0s - loss: 0.0242 - accuracy: 0.9993 - f1_metric: 0.9634WARNING:tensorflow:Can save best model only with val_f1_metric available, skipping.\n",
            "WARNING:tensorflow:Can save best model only with val_f1_metric available, skipping.\n",
            "11/13 [========================>.....] - ETA: 0s - loss: 0.0226 - accuracy: 0.9992 - f1_metric: 0.9652WARNING:tensorflow:Can save best model only with val_f1_metric available, skipping.\n",
            "WARNING:tensorflow:Can save best model only with val_f1_metric available, skipping.\n",
            "13/13 [==============================] - ETA: 0s - loss: 0.0212 - accuracy: 0.9991 - f1_metric: 0.9662WARNING:tensorflow:Can save best model only with val_f1_metric available, skipping.\n",
            "13/13 [==============================] - 1s 49ms/step - loss: 0.0207 - accuracy: 0.9991 - f1_metric: 0.9666 - val_loss: 0.0059 - val_accuracy: 0.9950 - val_f1_metric: 0.9757\n",
            "Epoch 30/30\n",
            " 1/13 [=>............................] - ETA: 0s - loss: 0.0210 - accuracy: 0.9844 - f1_metric: 0.9839WARNING:tensorflow:Can save best model only with val_f1_metric available, skipping.\n",
            "WARNING:tensorflow:Can save best model only with val_f1_metric available, skipping.\n",
            " 3/13 [=====>........................] - ETA: 0s - loss: 0.0185 - accuracy: 0.9861 - f1_metric: 0.9784WARNING:tensorflow:Can save best model only with val_f1_metric available, skipping.\n",
            "WARNING:tensorflow:Can save best model only with val_f1_metric available, skipping.\n",
            " 5/13 [==========>...................] - ETA: 0s - loss: 0.0188 - accuracy: 0.9889 - f1_metric: 0.9792WARNING:tensorflow:Can save best model only with val_f1_metric available, skipping.\n",
            "WARNING:tensorflow:Can save best model only with val_f1_metric available, skipping.\n",
            " 7/13 [===============>..............] - ETA: 0s - loss: 0.0209 - accuracy: 0.9907 - f1_metric: 0.9784WARNING:tensorflow:Can save best model only with val_f1_metric available, skipping.\n",
            "WARNING:tensorflow:Can save best model only with val_f1_metric available, skipping.\n",
            " 9/13 [===================>..........] - ETA: 0s - loss: 0.0212 - accuracy: 0.9919 - f1_metric: 0.9771WARNING:tensorflow:Can save best model only with val_f1_metric available, skipping.\n",
            "WARNING:tensorflow:Can save best model only with val_f1_metric available, skipping.\n",
            "11/13 [========================>.....] - ETA: 0s - loss: 0.0209 - accuracy: 0.9928 - f1_metric: 0.9762WARNING:tensorflow:Can save best model only with val_f1_metric available, skipping.\n",
            "WARNING:tensorflow:Can save best model only with val_f1_metric available, skipping.\n",
            "13/13 [==============================] - ETA: 0s - loss: 0.0204 - accuracy: 0.9936 - f1_metric: 0.9758WARNING:tensorflow:Can save best model only with val_f1_metric available, skipping.\n",
            "13/13 [==============================] - 1s 48ms/step - loss: 0.0202 - accuracy: 0.9938 - f1_metric: 0.9756 - val_loss: 0.0120 - val_accuracy: 0.9950 - val_f1_metric: 0.9716\n",
            "CPU times: user 25.5 s, sys: 1.4 s, total: 26.9 s\n",
            "Wall time: 19.7 s\n"
          ],
          "name": "stdout"
        }
      ]
    },
    {
      "cell_type": "code",
      "metadata": {
        "colab": {
          "base_uri": "https://localhost:8080/"
        },
        "id": "6OK_hFgGGNmk",
        "outputId": "7adc2f42-7f58-48e0-8fc1-25097d2f57b8"
      },
      "source": [
        "eval = model.evaluate(x=x_test, y=y_test, batch_size=64, verbose=1)"
      ],
      "execution_count": 39,
      "outputs": [
        {
          "output_type": "stream",
          "text": [
            "4/4 [==============================] - 0s 10ms/step - loss: 0.0065 - accuracy: 0.9960 - f1_metric: 0.9651\n"
          ],
          "name": "stdout"
        }
      ]
    }
  ]
}