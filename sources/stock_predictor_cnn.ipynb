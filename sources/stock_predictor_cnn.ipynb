{
  "nbformat": 4,
  "nbformat_minor": 0,
  "metadata": {
    "colab": {
      "name": "stock_predictor_cnn.ipynb",
      "provenance": [],
      "authorship_tag": "ABX9TyOKnzX7DYT1Mn/EIfYcYc1d",
      "include_colab_link": true
    },
    "kernelspec": {
      "name": "python3",
      "display_name": "Python 3"
    },
    "widgets": {
      "application/vnd.jupyter.widget-state+json": {
        "ca933ced995145ce81d0b5227e1d8617": {
          "model_module": "@jupyter-widgets/controls",
          "model_name": "HBoxModel",
          "state": {
            "_view_name": "HBoxView",
            "_dom_classes": [],
            "_model_name": "HBoxModel",
            "_view_module": "@jupyter-widgets/controls",
            "_model_module_version": "1.5.0",
            "_view_count": null,
            "_view_module_version": "1.5.0",
            "box_style": "",
            "layout": "IPY_MODEL_5dd42efd6f3a4d338823d8008a1b7fd9",
            "_model_module": "@jupyter-widgets/controls",
            "children": [
              "IPY_MODEL_02c380503b944f539ae9d24842772c09",
              "IPY_MODEL_aeccc8f1afde441a83bee3ee64186b60"
            ]
          }
        },
        "5dd42efd6f3a4d338823d8008a1b7fd9": {
          "model_module": "@jupyter-widgets/base",
          "model_name": "LayoutModel",
          "state": {
            "_view_name": "LayoutView",
            "grid_template_rows": null,
            "right": null,
            "justify_content": null,
            "_view_module": "@jupyter-widgets/base",
            "overflow": null,
            "_model_module_version": "1.2.0",
            "_view_count": null,
            "flex_flow": null,
            "width": null,
            "min_width": null,
            "border": null,
            "align_items": null,
            "bottom": null,
            "_model_module": "@jupyter-widgets/base",
            "top": null,
            "grid_column": null,
            "overflow_y": null,
            "overflow_x": null,
            "grid_auto_flow": null,
            "grid_area": null,
            "grid_template_columns": null,
            "flex": null,
            "_model_name": "LayoutModel",
            "justify_items": null,
            "grid_row": null,
            "max_height": null,
            "align_content": null,
            "visibility": null,
            "align_self": null,
            "height": null,
            "min_height": null,
            "padding": null,
            "grid_auto_rows": null,
            "grid_gap": null,
            "max_width": null,
            "order": null,
            "_view_module_version": "1.2.0",
            "grid_template_areas": null,
            "object_position": null,
            "object_fit": null,
            "grid_auto_columns": null,
            "margin": null,
            "display": null,
            "left": null
          }
        },
        "02c380503b944f539ae9d24842772c09": {
          "model_module": "@jupyter-widgets/controls",
          "model_name": "FloatProgressModel",
          "state": {
            "_view_name": "ProgressView",
            "style": "IPY_MODEL_24ad0f5596b74e94a6734176c0ae55d5",
            "_dom_classes": [],
            "description": "100%",
            "_model_name": "FloatProgressModel",
            "bar_style": "success",
            "max": 1259,
            "_view_module": "@jupyter-widgets/controls",
            "_model_module_version": "1.5.0",
            "value": 1259,
            "_view_count": null,
            "_view_module_version": "1.5.0",
            "orientation": "horizontal",
            "min": 0,
            "description_tooltip": null,
            "_model_module": "@jupyter-widgets/controls",
            "layout": "IPY_MODEL_c48a2dfb9f8d4b61bd06c8c34fec4ee3"
          }
        },
        "aeccc8f1afde441a83bee3ee64186b60": {
          "model_module": "@jupyter-widgets/controls",
          "model_name": "HTMLModel",
          "state": {
            "_view_name": "HTMLView",
            "style": "IPY_MODEL_608c5f1d5cf54806aa0aa3af5f8f3f54",
            "_dom_classes": [],
            "description": "",
            "_model_name": "HTMLModel",
            "placeholder": "​",
            "_view_module": "@jupyter-widgets/controls",
            "_model_module_version": "1.5.0",
            "value": " 1259/1259 [00:02&lt;00:00, 433.67it/s]",
            "_view_count": null,
            "_view_module_version": "1.5.0",
            "description_tooltip": null,
            "_model_module": "@jupyter-widgets/controls",
            "layout": "IPY_MODEL_c98be91dd0f942cd9b75237cd61a5805"
          }
        },
        "24ad0f5596b74e94a6734176c0ae55d5": {
          "model_module": "@jupyter-widgets/controls",
          "model_name": "ProgressStyleModel",
          "state": {
            "_view_name": "StyleView",
            "_model_name": "ProgressStyleModel",
            "description_width": "initial",
            "_view_module": "@jupyter-widgets/base",
            "_model_module_version": "1.5.0",
            "_view_count": null,
            "_view_module_version": "1.2.0",
            "bar_color": null,
            "_model_module": "@jupyter-widgets/controls"
          }
        },
        "c48a2dfb9f8d4b61bd06c8c34fec4ee3": {
          "model_module": "@jupyter-widgets/base",
          "model_name": "LayoutModel",
          "state": {
            "_view_name": "LayoutView",
            "grid_template_rows": null,
            "right": null,
            "justify_content": null,
            "_view_module": "@jupyter-widgets/base",
            "overflow": null,
            "_model_module_version": "1.2.0",
            "_view_count": null,
            "flex_flow": null,
            "width": null,
            "min_width": null,
            "border": null,
            "align_items": null,
            "bottom": null,
            "_model_module": "@jupyter-widgets/base",
            "top": null,
            "grid_column": null,
            "overflow_y": null,
            "overflow_x": null,
            "grid_auto_flow": null,
            "grid_area": null,
            "grid_template_columns": null,
            "flex": null,
            "_model_name": "LayoutModel",
            "justify_items": null,
            "grid_row": null,
            "max_height": null,
            "align_content": null,
            "visibility": null,
            "align_self": null,
            "height": null,
            "min_height": null,
            "padding": null,
            "grid_auto_rows": null,
            "grid_gap": null,
            "max_width": null,
            "order": null,
            "_view_module_version": "1.2.0",
            "grid_template_areas": null,
            "object_position": null,
            "object_fit": null,
            "grid_auto_columns": null,
            "margin": null,
            "display": null,
            "left": null
          }
        },
        "608c5f1d5cf54806aa0aa3af5f8f3f54": {
          "model_module": "@jupyter-widgets/controls",
          "model_name": "DescriptionStyleModel",
          "state": {
            "_view_name": "StyleView",
            "_model_name": "DescriptionStyleModel",
            "description_width": "",
            "_view_module": "@jupyter-widgets/base",
            "_model_module_version": "1.5.0",
            "_view_count": null,
            "_view_module_version": "1.2.0",
            "_model_module": "@jupyter-widgets/controls"
          }
        },
        "c98be91dd0f942cd9b75237cd61a5805": {
          "model_module": "@jupyter-widgets/base",
          "model_name": "LayoutModel",
          "state": {
            "_view_name": "LayoutView",
            "grid_template_rows": null,
            "right": null,
            "justify_content": null,
            "_view_module": "@jupyter-widgets/base",
            "overflow": null,
            "_model_module_version": "1.2.0",
            "_view_count": null,
            "flex_flow": null,
            "width": null,
            "min_width": null,
            "border": null,
            "align_items": null,
            "bottom": null,
            "_model_module": "@jupyter-widgets/base",
            "top": null,
            "grid_column": null,
            "overflow_y": null,
            "overflow_x": null,
            "grid_auto_flow": null,
            "grid_area": null,
            "grid_template_columns": null,
            "flex": null,
            "_model_name": "LayoutModel",
            "justify_items": null,
            "grid_row": null,
            "max_height": null,
            "align_content": null,
            "visibility": null,
            "align_self": null,
            "height": null,
            "min_height": null,
            "padding": null,
            "grid_auto_rows": null,
            "grid_gap": null,
            "max_width": null,
            "order": null,
            "_view_module_version": "1.2.0",
            "grid_template_areas": null,
            "object_position": null,
            "object_fit": null,
            "grid_auto_columns": null,
            "margin": null,
            "display": null,
            "left": null
          }
        }
      }
    }
  },
  "cells": [
    {
      "cell_type": "markdown",
      "metadata": {
        "id": "view-in-github",
        "colab_type": "text"
      },
      "source": [
        "<a href=\"https://colab.research.google.com/github/Olivia-Feldman/DLStockPrectionCNNModel-/blob/Andrew/sources/stock_predictor_cnn.ipynb\" target=\"_parent\"><img src=\"https://colab.research.google.com/assets/colab-badge.svg\" alt=\"Open In Colab\"/></a>"
      ]
    },
    {
      "cell_type": "markdown",
      "metadata": {
        "id": "mDQ7p3VWwTzY"
      },
      "source": [
        "# Default Imports and Plot Stylizations"
      ]
    },
    {
      "cell_type": "code",
      "metadata": {
        "id": "y0hv_dunwR7J"
      },
      "source": [
        "import requests\n",
        "import pandas as pd\n",
        "import numpy as np\n",
        "from datetime import datetime\n",
        "import matplotlib.pyplot as plt\n",
        "import matplotlib.ticker as tick\n",
        "\n",
        "plt.rcParams.update({'font.size': 16})\n",
        "plt.rcParams['figure.figsize'] = [12, 8]\n",
        "plt.style.use('dark_background')"
      ],
      "execution_count": 13,
      "outputs": []
    },
    {
      "cell_type": "markdown",
      "metadata": {
        "id": "F2ZeVooibCVb"
      },
      "source": [
        "# Method for getting ticker data using Yahoo Finance API"
      ]
    },
    {
      "cell_type": "code",
      "metadata": {
        "id": "CKir13DZiStn"
      },
      "source": [
        "\n",
        "def getStockData(ticker: str, startYear: str, endYear: str):\n",
        "    url = \"https://query1.finance.yahoo.com/v8/finance/chart/\" + ticker + \"?region=US&lang=en-US&includePrePost=false&interval=1d&useYfid=true&range=5y&corsDomain=finance.yahoo.com&.tsrc=finance\"\n",
        "    x = requests.get(url)\n",
        "    jsonResponse = x.json()\n",
        "    timestamps = jsonResponse[\"chart\"][\"result\"][0][\"timestamp\"]\n",
        "    open = jsonResponse[\"chart\"][\"result\"][0][\"indicators\"][\"quote\"][0][\"open\"]\n",
        "    high = jsonResponse[\"chart\"][\"result\"][0][\"indicators\"][\"quote\"][0][\"high\"]\n",
        "    low = jsonResponse[\"chart\"][\"result\"][0][\"indicators\"][\"quote\"][0][\"low\"]\n",
        "    close = jsonResponse[\"chart\"][\"result\"][0][\"indicators\"][\"quote\"][0][\"close\"]\n",
        "    volume = jsonResponse[\"chart\"][\"result\"][0][\"indicators\"][\"quote\"][0][\"volume\"]\n",
        "\n",
        "    datetimes = list(map(toDatetime, timestamps))\n",
        "\n",
        "    data = {\n",
        "        'timestamps' : datetimes,\n",
        "        'open' : open,\n",
        "        'high' : high,\n",
        "        'low' : low,\n",
        "        'close' : close,\n",
        "        'volume' : volume\n",
        "    }\n",
        "\n",
        "    df = pd.DataFrame(data, columns=['timestamps', 'open', 'high', 'low', 'close', 'volume'])\n",
        "    return df\n",
        "\n",
        "def toDatetime(t):\n",
        "  return datetime.fromtimestamp(t)\n"
      ],
      "execution_count": 14,
      "outputs": []
    },
    {
      "cell_type": "markdown",
      "metadata": {
        "id": "obgFPuP-bSN3"
      },
      "source": [
        "# Plotting AAPL close prices to visualize"
      ]
    },
    {
      "cell_type": "code",
      "metadata": {
        "colab": {
          "base_uri": "https://localhost:8080/",
          "height": 503
        },
        "id": "HHwQWq3-sWL5",
        "outputId": "c1ac228d-8093-477e-99ff-1c59339477d1"
      },
      "source": [
        "ticker = 'AAPL'\n",
        "df = getStockData(ticker, \"2017\", \"2020\")\n",
        "\n",
        "ax = df.plot(x='timestamps', y=['open'], kind='line', title=ticker + ' prices')\n",
        "vals = ax.get_yticks()\n",
        "ax.set_yticklabels(['${:1.2f}'.format(x) for x in vals])\n",
        "ax.xaxis.grid(True, which='minor', linestyle='-', linewidth=0.25)\n",
        "ax.set_axisbelow(True)\n",
        "ax.grid(linestyle='-', linewidth='0.5', color='gray')\n",
        "\n",
        "plt.show()"
      ],
      "execution_count": 15,
      "outputs": [
        {
          "output_type": "display_data",
          "data": {
            "image/png": "[encoded data removed]",
            "text/plain": [
              "<Figure size 864x576 with 1 Axes>"
            ]
          },
          "metadata": {
            "tags": []
          }
        }
      ]
    },
    {
      "cell_type": "markdown",
      "metadata": {
        "id": "zDiySzRWbder"
      },
      "source": [
        "# Method for labeling price data as BUY, HOLD, or SELL\n",
        "\n",
        "*SELL = 0, BUY = 1, HOLD = 2*\n",
        "\n",
        "\n",
        "*Parameters:*\n",
        "\n",
        "    df: Pandas DataFrame\n",
        "    col_name: Name of the column in df that will be used to determine labels\n",
        "        - availiable names: \"open\", \"close\", \"high\", \"low\"\n",
        "    window_size: How large the window size will be when determining labels\n",
        "        - default size: 11"
      ]
    },
    {
      "cell_type": "code",
      "metadata": {
        "id": "pY9Dw0gB4DOp"
      },
      "source": [
        "from tqdm.auto import tqdm\n",
        "\n",
        "def create_labels(df, col_name, window_size=11):\n",
        "\n",
        "    row_counter = 0\n",
        "    total_rows = len(df)\n",
        "    # Creates a 1 x N numpy array\n",
        "    labels = np.zeros(total_rows)\n",
        "    # Makes all the entries in labels array equal to nan\n",
        "    labels[:] = np.nan\n",
        "    # Sets up a progress bar\n",
        "    pbar = tqdm(total=total_rows)\n",
        "\n",
        "    while row_counter < total_rows:\n",
        "\n",
        "        # Stalls labeling calculation until the row_counter is at least as big as the window_size\n",
        "        if row_counter >= window_size - 1:\n",
        "            window_begin = row_counter - (window_size - 1)\n",
        "            window_end = row_counter\n",
        "            window_middle = (window_begin + window_end) // 2 # Cast as int\n",
        "\n",
        "            min_ = np.inf\n",
        "            min_index = -1\n",
        "            max_ = -np.inf\n",
        "            max_index = -1\n",
        "            for i in range(window_begin, window_end + 1):\n",
        "                # Selected value at 'i' index in column with name equal to col_name variable\n",
        "                price = df.iloc[i][col_name]\n",
        "                if price < min_:\n",
        "                    # Finds the smallest value in the window\n",
        "                    # 'min_' is initially set to infinity\n",
        "                    min_ = price\n",
        "                    # Saves the index of the lowest value\n",
        "                    min_index = i\n",
        "                if price > max_:\n",
        "                    # Finds the largest value in the window\n",
        "                    # 'max_' is initially set to -infinity\n",
        "                    max_ = price\n",
        "                    # Saves the index of the largest value\n",
        "                    max_index = i\n",
        "\n",
        "            if max_index == window_middle:\n",
        "                # Sets label to SELL\n",
        "                labels[window_middle] = 0\n",
        "            elif min_index == window_middle:\n",
        "                # Sets label to BUY\n",
        "                labels[window_middle] = 1\n",
        "            else:\n",
        "                # Sets label to HOLD\n",
        "                labels[window_middle] = 2\n",
        "\n",
        "        row_counter = row_counter + 1\n",
        "        pbar.update(1)\n",
        "\n",
        "    pbar.close()\n",
        "    return labels"
      ],
      "execution_count": 16,
      "outputs": []
    },
    {
      "cell_type": "markdown",
      "metadata": {
        "id": "RtdxAGJZcvbF"
      },
      "source": [
        "# Plotting of prediction labels using 'close' column"
      ]
    },
    {
      "cell_type": "code",
      "metadata": {
        "id": "hysHG0ab08CB",
        "colab": {
          "base_uri": "https://localhost:8080/",
          "height": 575,
          "referenced_widgets": [
            "ca933ced995145ce81d0b5227e1d8617",
            "5dd42efd6f3a4d338823d8008a1b7fd9",
            "02c380503b944f539ae9d24842772c09",
            "aeccc8f1afde441a83bee3ee64186b60",
            "24ad0f5596b74e94a6734176c0ae55d5",
            "c48a2dfb9f8d4b61bd06c8c34fec4ee3",
            "608c5f1d5cf54806aa0aa3af5f8f3f54",
            "c98be91dd0f942cd9b75237cd61a5805"
          ]
        },
        "outputId": "f3924ef9-5cce-4719-8a17-8b392750b0cb"
      },
      "source": [
        "labels = create_labels(df, 'close')\n",
        "df['labels'] = labels\n",
        "df['labels'] = df['labels'].fillna(0)\n",
        "\n",
        "fig = plt.figure()\n",
        "plt.plot(labels, ',')\n",
        "plt.title('Prediction Labels')"
      ],
      "execution_count": 33,
      "outputs": [
        {
          "output_type": "display_data",
          "data": {
            "application/vnd.jupyter.widget-view+json": {
              "model_id": "ca933ced995145ce81d0b5227e1d8617",
              "version_minor": 0,
              "version_major": 2
            },
            "text/plain": [
              "HBox(children=(FloatProgress(value=0.0, max=1259.0), HTML(value='')))"
            ]
          },
          "metadata": {
            "tags": []
          }
        },
        {
          "output_type": "stream",
          "text": [
            "\n"
          ],
          "name": "stdout"
        },
        {
          "output_type": "execute_result",
          "data": {
            "text/plain": [
              "Text(0.5, 1.0, 'Prediction Labels')"
            ]
          },
          "metadata": {
            "tags": []
          },
          "execution_count": 33
        },
        {
          "output_type": "display_data",
          "data": {
            "image/png": "[encoded data removed]",
            "text/plain": [
              "<Figure size 864x576 with 1 Axes>"
            ]
          },
          "metadata": {
            "tags": []
          }
        }
      ]
    },
    {
      "cell_type": "markdown",
      "metadata": {
        "id": "yRCNLq1umIa4"
      },
      "source": [
        "# Technical Indicator methods\n",
        "\n",
        "\n",
        "***Technical Indicators Used:***\n",
        "\n",
        "*   MACD\n",
        "*   RSI\n",
        "*   %K\n",
        "*   %D\n",
        "*   ATR\n",
        "*   DEMA\n",
        "*   BB\n",
        "*   WR\n",
        "\n",
        "\n",
        "\n",
        "\n",
        "\n",
        "\n",
        "\n"
      ]
    },
    {
      "cell_type": "code",
      "metadata": {
        "id": "SUOEDzKgl_9k"
      },
      "source": [
        "# MACD: Moving Average Convergance Diverage Momentum\n",
        "def calculate_macd(df):\n",
        "    # MACD triggers technical signals when it crosses above (to buy) or below (to sell) its signal line.\n",
        "    # The speed of crossovers is also taken as a signal of a market is overbought or oversold.\n",
        "    # MACD helps investors understand whether the bullish or bearish movement in the price is strengthening or weakening.\n",
        "    df['MACD'] = df[\"close\"].ewm(span=12).mean() - df[\"close\"].ewm(span=26).mean()\n",
        "    #df['Signal Line'] = df['MACD'].ewm(span=9).mean()\n",
        "\n",
        "\n",
        "# RSI: Relative Strength Index \n",
        "def calculate_rsi(df):\n",
        "    # Signals about bullish and bearish price momentum, and it is often plotted beneath the graph of an asset's price\n",
        "    # An asset is usually considered overbought when the RSI is above 70% and oversold when it is below 30%\n",
        "    # A momentum indicator used in technical analysis that measures the magnitude of recent price changes to evaluate overbought or oversold conditions in the price of a stock or other asset\n",
        "    # The RSI is displayed as an oscillator and can have a reading from 0 to 100.\n",
        "    diff = df['close'].diff()\n",
        "    up, down = diff.copy(), diff.copy()\n",
        "    up[up < 0] = 0\n",
        "    down[down > 0] = 0\n",
        "    down = abs(down)\n",
        "    elevenDayUpCloses = up.rolling(11).mean() # using 11 day periods\n",
        "    elevenDayDownCloses = down.rolling(11).mean() # using 11 day periods\n",
        "    relative_strength = elevenDayUpCloses / elevenDayDownCloses\n",
        "    df['RSI'] = 100 - (100/(1+relative_strength))\n",
        "    df['RSI'] = df['RSI'].fillna(0)\n",
        "\n",
        "# SR: Stochastic Oscillator\n",
        "def calculate_sr(df):\n",
        "    # The general theory serving as the foundation for this indicator is that in a market trending upward, prices will close near the high, and in a market trending downward, prices close near the low\n",
        "    # Transaction signals are created when the %K crosses through a three-period moving average, which is called the %D.\n",
        "    eleven_high = df['high'].rolling(11).max()\n",
        "    eleven_low = df['low'].rolling(11).min()\n",
        "    # %K is referred to sometimes as the fast stochastic indicator\n",
        "    fast_K = (df['close']-eleven_low)*100/(eleven_high - eleven_low)\n",
        "    # The \"slow\" stochastic indicator is taken as %D = 3-period moving average of %K\n",
        "    df['%D'] = fast_K.rolling(3).mean()\n",
        "\n",
        "# WR: Williams %R Indicator\n",
        "def calculate_WR(df):\n",
        "    # Williams %R moves between zero and -100.\n",
        "    # A reading above -20 is overbought.\n",
        "    # A reading below -80 is oversold.\n",
        "    eleven_high = df['high'].rolling(11).max()\n",
        "    eleven_low = df['low'].rolling(11).min()\n",
        "    df['wr'] = (eleven_high - df['close']) / (eleven_high - eleven_low) * -100\n",
        "    df['wr'] = df['wr'].rolling(3).mean()\n",
        "   \n",
        "# EMA: Exponential Moving Average\n",
        "def calculate_ema(df):\n",
        "    # Moving average that places a greater weight and significance on the most recent data points\n",
        "    # Traders often use several different EMA lengths, such as 10-day, 50-day, and 200-day moving averages.\n",
        "    multiplier = (2/(11+1))\n",
        "    ema_1 = sum(df['close'],11)\n",
        "    df['EMA'] = (df['close'] -  ema_1) * ema_1 + multiplier # -> Is this right?\n",
        "\n",
        "\n",
        "# MFI: Money Flow Index\n",
        "def calculate_mfi(df):\n",
        "    price = (df['close'] + df['high'] + df['low']) / 3\n",
        "    mf = df['tp'] * df['volume']\n",
        "    positive_flow = []\n",
        "    negative_flow = []\n",
        "    positive_mf = []\n",
        "    negative_mf = []\n",
        "    # Loop through typical price calculations\n",
        "    for i in range(1, len(price)):\n",
        "        if price[i] > price[i-1]:\n",
        "            positive_flow.append(mf[i-1])\n",
        "            negative_flow.append(0)\n",
        "        elif price[i] < [i-1]:\n",
        "            negative_flow.append(mf[i-1])\n",
        "            positive_flow.append(0)\n",
        "        else:\n",
        "            positive_flow.append(0)\n",
        "            negative_flow.append(0) \n",
        "    for i in range(len(positive_flow) + 1):\n",
        "        positive_mf.append(sum(positive_flow[i+1-11:i+1]))\n",
        "    for i in range(len(negative_flow) + 1):\n",
        "        negative_mf.append(sum(negative_flow[i+1-11:i+1]))\n",
        "    df['MFI'] = 100 * (np.array(positive_mf) / (np.array(positive_mf) + np.array(negative_mf)))\n",
        "\n",
        "\n",
        "# BB: Bollinger Band\n",
        "def calculate_bb(df):\n",
        "    # When the bands come close together, constricting the moving average, it is called a squeeze.\n",
        "    # The mistake most people make is believing that that price hitting or exceeding one of the bands is a signal to buy or sell. \n",
        "    # Breakouts provide no clue as to the direction and extent of future price movement.\n",
        "    # Creating temporary Dataframe\n",
        "    atr_df = pd.DataFrame()\n",
        "    atr_df['close'] = df['close']\n",
        "    atr_df['MA11'] = df['close'].rolling(window=11).mean()\n",
        "    atr_df['11STD'] = df['close'].rolling(window=11).std()\n",
        "    atr_df['Upper'] = atr_df['MA11'] + (atr_df['11STD'] * 2) # -> Where is this 2 coming from?\n",
        "    atr_df['Lower'] = atr_df['MA11'] - (atr_df['11STD'] * 2)\n",
        "    df['BB'] = atr_df[['close','MA11','Upper','Lower']].max(axis=1)\n",
        "    # return df['BB']\n",
        "\n",
        "# ATR: Average True Range\n",
        "def calculate_atr(df):\n",
        "    data = df.copy()\n",
        "    high = df['high']\n",
        "    low = df['low']\n",
        "    close = df['close']\n",
        "    tr_0 = abs(high - low)\n",
        "    # Creating temporary Dataframe\n",
        "    atr_df = pd.DataFrame()\n",
        "    df['tr0'] = abs(high - low)\n",
        "    atr_df['tr1'] = abs(high - close.shift())\n",
        "    atr_df['tr2'] = abs(low - close.shift())\n",
        "    atr_df['TR'] = atr_df[['tr0', 'tr1', 'tr2']].max(axis=1)\n",
        "    df['ATR'] = atr_df['TR'].ewm(alpha=1/11,adjust=False).mean()\n",
        "\n",
        "# KC: Kelter Channel\n",
        "def calculate_kc(df):\n",
        "    df['KC'] = df.copy\n",
        "    KelChM = pd.Series(((df['high'] + df['low'] + df['close']).rolling(11).mean() / 3), name = 'KelChM_' + str(11)) \n",
        "    KelChU = pd.Series(((4 * df['high'] - 2 * df['low'] + df['close']).rolling(11).mean() / 3), name = 'KelChU_' + str(11))  \n",
        "    KelChD = pd.Series(((-2 * df['high'] + 4 * df['low'] + df['close']).rolling(11).mean() / 3), name = 'KelChD_' + str(11))\n",
        "    df['KC'] = df.join(KelChM)  \n",
        "    df['KC'] = df.join(KelChU)  \n",
        "    df['KC']= df.join(KelChD) \n",
        "\n",
        "\n",
        "# DEMA: Double Exponential Moving Average\n",
        "def calculate_dema(df):\n",
        "    multiplier = (2/(11+1))\n",
        "    dema_1 = sum(df['close'],11)\n",
        "    df['DEMA'] = (df['close'] * multiplier) + (dema_1 * (1-multiplier))\n",
        "\n",
        "\n",
        "# CCI: Commodity Channel Index\n",
        "def calculate_cci(df):\n",
        "    typical_price = (df['high'] + df['low'] + df['close'])/3\n",
        "    df['CCI'] = ((typical_price - typical_price.rolling(11).mean())/ (0.015 * typical_price.rolling(11).std()))\n",
        "\n",
        "\n",
        "# EMV: Ease of Movement Volume\n",
        "def calculate_emv(df):\n",
        "    distance_moved = ((df['high'] + df['low'])/2) - ((df['high'].shift(1) + df['low'].shift(1))/2)\n",
        "    box_ratio = (df['volume'] / 100000000) / ((df['high'] - df['low']))\n",
        "    df['EVM'] = distance_moved / box_ratio \n",
        "\n",
        "\n",
        "# FI: Force Index\n",
        "def calculate_fi(df):\n",
        "    df['FI'] = df['close'].diff(11) * df['volume']\n",
        "\n",
        "\n",
        "# ROC: Price Rate of Change\n",
        "def calculate_roc(df):\n",
        "    N = df['close'].diff(11)\n",
        "    D = df['close'].shift(11)\n",
        "    df['ROC'] = N / D\n",
        "\n",
        "\n",
        "# OBV: On-Balance Volume\n",
        "def calculate_obv(df):\n",
        "  df['OBV'] = np.where(df['close'] >df['close'].shift(1), df['volume'], np.where(df['close'] < df['close'].shift(1), -df['volume'],0)).cumsum()\n"
      ],
      "execution_count": 41,
      "outputs": []
    },
    {
      "cell_type": "markdown",
      "metadata": {
        "id": "EphNOjiG47al"
      },
      "source": [
        "# Run all Technical Indicator methods"
      ]
    },
    {
      "cell_type": "code",
      "metadata": {
        "id": "2qRx19uZ4yWi",
        "outputId": "3a5e9035-7703-4e8c-da89-599ce09f589a",
        "colab": {
          "base_uri": "https://localhost:8080/",
          "height": 562
        }
      },
      "source": [
        "calculate_macd(df)\n",
        "calculate_rsi(df)\n",
        "calculate_sr(df)\n",
        "calculate_WR(df)\n",
        "calculate_ema(df)\n",
        "calculate_mfi(df)\n",
        "calculate_bb(df)\n",
        "calculate_atr(df)\n",
        "calculate_kc(df)\n",
        "calculate_dema(df)\n",
        "calculate_cci(df)\n",
        "calculate_emv(df)\n",
        "calculate_fi(df)\n",
        "calculate_roc(df)\n",
        "calculate_obv(df)"
      ],
      "execution_count": 42,
      "outputs": [
        {
          "output_type": "error",
          "ename": "KeyError",
          "evalue": "ignored",
          "traceback": [
            "\u001b[0;31m---------------------------------------------------------------------------\u001b[0m",
            "\u001b[0;31mKeyError\u001b[0m                                  Traceback (most recent call last)",
            "\u001b[0;32m/usr/local/lib/python3.7/dist-packages/pandas/core/indexes/base.py\u001b[0m in \u001b[0;36mget_loc\u001b[0;34m(self, key, method, tolerance)\u001b[0m\n\u001b[1;32m   2897\u001b[0m             \u001b[0;32mtry\u001b[0m\u001b[0;34m:\u001b[0m\u001b[0;34m\u001b[0m\u001b[0;34m\u001b[0m\u001b[0m\n\u001b[0;32m-> 2898\u001b[0;31m                 \u001b[0;32mreturn\u001b[0m \u001b[0mself\u001b[0m\u001b[0;34m.\u001b[0m\u001b[0m_engine\u001b[0m\u001b[0;34m.\u001b[0m\u001b[0mget_loc\u001b[0m\u001b[0;34m(\u001b[0m\u001b[0mcasted_key\u001b[0m\u001b[0;34m)\u001b[0m\u001b[0;34m\u001b[0m\u001b[0;34m\u001b[0m\u001b[0m\n\u001b[0m\u001b[1;32m   2899\u001b[0m             \u001b[0;32mexcept\u001b[0m \u001b[0mKeyError\u001b[0m \u001b[0;32mas\u001b[0m \u001b[0merr\u001b[0m\u001b[0;34m:\u001b[0m\u001b[0;34m\u001b[0m\u001b[0;34m\u001b[0m\u001b[0m\n",
            "\u001b[0;32mpandas/_libs/index.pyx\u001b[0m in \u001b[0;36mpandas._libs.index.IndexEngine.get_loc\u001b[0;34m()\u001b[0m\n",
            "\u001b[0;32mpandas/_libs/index.pyx\u001b[0m in \u001b[0;36mpandas._libs.index.IndexEngine.get_loc\u001b[0;34m()\u001b[0m\n",
            "\u001b[0;32mpandas/_libs/hashtable_class_helper.pxi\u001b[0m in \u001b[0;36mpandas._libs.hashtable.PyObjectHashTable.get_item\u001b[0;34m()\u001b[0m\n",
            "\u001b[0;32mpandas/_libs/hashtable_class_helper.pxi\u001b[0m in \u001b[0;36mpandas._libs.hashtable.PyObjectHashTable.get_item\u001b[0;34m()\u001b[0m\n",
            "\u001b[0;31mKeyError\u001b[0m: 'tp'",
            "\nThe above exception was the direct cause of the following exception:\n",
            "\u001b[0;31mKeyError\u001b[0m                                  Traceback (most recent call last)",
            "\u001b[0;32m<ipython-input-42-f4be59090801>\u001b[0m in \u001b[0;36m<module>\u001b[0;34m()\u001b[0m\n\u001b[1;32m      4\u001b[0m \u001b[0mcalculate_WR\u001b[0m\u001b[0;34m(\u001b[0m\u001b[0mdf\u001b[0m\u001b[0;34m)\u001b[0m\u001b[0;34m\u001b[0m\u001b[0;34m\u001b[0m\u001b[0m\n\u001b[1;32m      5\u001b[0m \u001b[0mcalculate_ema\u001b[0m\u001b[0;34m(\u001b[0m\u001b[0mdf\u001b[0m\u001b[0;34m)\u001b[0m\u001b[0;34m\u001b[0m\u001b[0;34m\u001b[0m\u001b[0m\n\u001b[0;32m----> 6\u001b[0;31m \u001b[0mcalculate_mfi\u001b[0m\u001b[0;34m(\u001b[0m\u001b[0mdf\u001b[0m\u001b[0;34m)\u001b[0m\u001b[0;34m\u001b[0m\u001b[0;34m\u001b[0m\u001b[0m\n\u001b[0m\u001b[1;32m      7\u001b[0m \u001b[0mcalculate_bb\u001b[0m\u001b[0;34m(\u001b[0m\u001b[0mdf\u001b[0m\u001b[0;34m)\u001b[0m\u001b[0;34m\u001b[0m\u001b[0;34m\u001b[0m\u001b[0m\n\u001b[1;32m      8\u001b[0m \u001b[0mcalculate_atr\u001b[0m\u001b[0;34m(\u001b[0m\u001b[0mdf\u001b[0m\u001b[0;34m)\u001b[0m\u001b[0;34m\u001b[0m\u001b[0;34m\u001b[0m\u001b[0m\n",
            "\u001b[0;32m<ipython-input-41-36c84534b1aa>\u001b[0m in \u001b[0;36mcalculate_mfi\u001b[0;34m(df)\u001b[0m\n\u001b[1;32m     58\u001b[0m \u001b[0;32mdef\u001b[0m \u001b[0mcalculate_mfi\u001b[0m\u001b[0;34m(\u001b[0m\u001b[0mdf\u001b[0m\u001b[0;34m)\u001b[0m\u001b[0;34m:\u001b[0m\u001b[0;34m\u001b[0m\u001b[0;34m\u001b[0m\u001b[0m\n\u001b[1;32m     59\u001b[0m     \u001b[0mprice\u001b[0m \u001b[0;34m=\u001b[0m \u001b[0;34m(\u001b[0m\u001b[0mdf\u001b[0m\u001b[0;34m[\u001b[0m\u001b[0;34m'close'\u001b[0m\u001b[0;34m]\u001b[0m \u001b[0;34m+\u001b[0m \u001b[0mdf\u001b[0m\u001b[0;34m[\u001b[0m\u001b[0;34m'high'\u001b[0m\u001b[0;34m]\u001b[0m \u001b[0;34m+\u001b[0m \u001b[0mdf\u001b[0m\u001b[0;34m[\u001b[0m\u001b[0;34m'low'\u001b[0m\u001b[0;34m]\u001b[0m\u001b[0;34m)\u001b[0m \u001b[0;34m/\u001b[0m \u001b[0;36m3\u001b[0m\u001b[0;34m\u001b[0m\u001b[0;34m\u001b[0m\u001b[0m\n\u001b[0;32m---> 60\u001b[0;31m     \u001b[0mmf\u001b[0m \u001b[0;34m=\u001b[0m \u001b[0mdf\u001b[0m\u001b[0;34m[\u001b[0m\u001b[0;34m'tp'\u001b[0m\u001b[0;34m]\u001b[0m \u001b[0;34m*\u001b[0m \u001b[0mdf\u001b[0m\u001b[0;34m[\u001b[0m\u001b[0;34m'volume'\u001b[0m\u001b[0;34m]\u001b[0m\u001b[0;34m\u001b[0m\u001b[0;34m\u001b[0m\u001b[0m\n\u001b[0m\u001b[1;32m     61\u001b[0m     \u001b[0mpositive_flow\u001b[0m \u001b[0;34m=\u001b[0m \u001b[0;34m[\u001b[0m\u001b[0;34m]\u001b[0m\u001b[0;34m\u001b[0m\u001b[0;34m\u001b[0m\u001b[0m\n\u001b[1;32m     62\u001b[0m     \u001b[0mnegative_flow\u001b[0m \u001b[0;34m=\u001b[0m \u001b[0;34m[\u001b[0m\u001b[0;34m]\u001b[0m\u001b[0;34m\u001b[0m\u001b[0;34m\u001b[0m\u001b[0m\n",
            "\u001b[0;32m/usr/local/lib/python3.7/dist-packages/pandas/core/frame.py\u001b[0m in \u001b[0;36m__getitem__\u001b[0;34m(self, key)\u001b[0m\n\u001b[1;32m   2904\u001b[0m             \u001b[0;32mif\u001b[0m \u001b[0mself\u001b[0m\u001b[0;34m.\u001b[0m\u001b[0mcolumns\u001b[0m\u001b[0;34m.\u001b[0m\u001b[0mnlevels\u001b[0m \u001b[0;34m>\u001b[0m \u001b[0;36m1\u001b[0m\u001b[0;34m:\u001b[0m\u001b[0;34m\u001b[0m\u001b[0;34m\u001b[0m\u001b[0m\n\u001b[1;32m   2905\u001b[0m                 \u001b[0;32mreturn\u001b[0m \u001b[0mself\u001b[0m\u001b[0;34m.\u001b[0m\u001b[0m_getitem_multilevel\u001b[0m\u001b[0;34m(\u001b[0m\u001b[0mkey\u001b[0m\u001b[0;34m)\u001b[0m\u001b[0;34m\u001b[0m\u001b[0;34m\u001b[0m\u001b[0m\n\u001b[0;32m-> 2906\u001b[0;31m             \u001b[0mindexer\u001b[0m \u001b[0;34m=\u001b[0m \u001b[0mself\u001b[0m\u001b[0;34m.\u001b[0m\u001b[0mcolumns\u001b[0m\u001b[0;34m.\u001b[0m\u001b[0mget_loc\u001b[0m\u001b[0;34m(\u001b[0m\u001b[0mkey\u001b[0m\u001b[0;34m)\u001b[0m\u001b[0;34m\u001b[0m\u001b[0;34m\u001b[0m\u001b[0m\n\u001b[0m\u001b[1;32m   2907\u001b[0m             \u001b[0;32mif\u001b[0m \u001b[0mis_integer\u001b[0m\u001b[0;34m(\u001b[0m\u001b[0mindexer\u001b[0m\u001b[0;34m)\u001b[0m\u001b[0;34m:\u001b[0m\u001b[0;34m\u001b[0m\u001b[0;34m\u001b[0m\u001b[0m\n\u001b[1;32m   2908\u001b[0m                 \u001b[0mindexer\u001b[0m \u001b[0;34m=\u001b[0m \u001b[0;34m[\u001b[0m\u001b[0mindexer\u001b[0m\u001b[0;34m]\u001b[0m\u001b[0;34m\u001b[0m\u001b[0;34m\u001b[0m\u001b[0m\n",
            "\u001b[0;32m/usr/local/lib/python3.7/dist-packages/pandas/core/indexes/base.py\u001b[0m in \u001b[0;36mget_loc\u001b[0;34m(self, key, method, tolerance)\u001b[0m\n\u001b[1;32m   2898\u001b[0m                 \u001b[0;32mreturn\u001b[0m \u001b[0mself\u001b[0m\u001b[0;34m.\u001b[0m\u001b[0m_engine\u001b[0m\u001b[0;34m.\u001b[0m\u001b[0mget_loc\u001b[0m\u001b[0;34m(\u001b[0m\u001b[0mcasted_key\u001b[0m\u001b[0;34m)\u001b[0m\u001b[0;34m\u001b[0m\u001b[0;34m\u001b[0m\u001b[0m\n\u001b[1;32m   2899\u001b[0m             \u001b[0;32mexcept\u001b[0m \u001b[0mKeyError\u001b[0m \u001b[0;32mas\u001b[0m \u001b[0merr\u001b[0m\u001b[0;34m:\u001b[0m\u001b[0;34m\u001b[0m\u001b[0;34m\u001b[0m\u001b[0m\n\u001b[0;32m-> 2900\u001b[0;31m                 \u001b[0;32mraise\u001b[0m \u001b[0mKeyError\u001b[0m\u001b[0;34m(\u001b[0m\u001b[0mkey\u001b[0m\u001b[0;34m)\u001b[0m \u001b[0;32mfrom\u001b[0m \u001b[0merr\u001b[0m\u001b[0;34m\u001b[0m\u001b[0;34m\u001b[0m\u001b[0m\n\u001b[0m\u001b[1;32m   2901\u001b[0m \u001b[0;34m\u001b[0m\u001b[0m\n\u001b[1;32m   2902\u001b[0m         \u001b[0;32mif\u001b[0m \u001b[0mtolerance\u001b[0m \u001b[0;32mis\u001b[0m \u001b[0;32mnot\u001b[0m \u001b[0;32mNone\u001b[0m\u001b[0;34m:\u001b[0m\u001b[0;34m\u001b[0m\u001b[0;34m\u001b[0m\u001b[0m\n",
            "\u001b[0;31mKeyError\u001b[0m: 'tp'"
          ]
        }
      ]
    },
    {
      "cell_type": "markdown",
      "metadata": {
        "id": "ecdJ54mz5Eub"
      },
      "source": [
        "# Plot charts for Technical Indicators"
      ]
    },
    {
      "cell_type": "code",
      "metadata": {
        "id": "KyJQ-qxy4xM9"
      },
      "source": [
        "def plot_indicators(df, columns, yTitle, xTitle):\n",
        "    plt.figure()\n",
        "    ax = df[columns].plot(title=yTitle)\n",
        "    ax.set_xlabel(xTitle)\n",
        "    ax.set_ylabel(yTitle)\n",
        "\n",
        "plot_indicators(df, ['MACD', \"Signal Line\"], \"MACD\", \"Days\")\n",
        "plot_indicators(df, \"RSI\", \"RSI\", \"Days\")"
      ],
      "execution_count": null,
      "outputs": []
    },
    {
      "cell_type": "markdown",
      "metadata": {
        "id": "L45HR25Kxn2P"
      },
      "source": [
        "# Normalization of the Data"
      ]
    },
    {
      "cell_type": "code",
      "metadata": {
        "id": "QPQJTRfMw6w0",
        "outputId": "b3b91c18-b2a7-471c-ad9e-2b8b5b3077eb",
        "colab": {
          "base_uri": "https://localhost:8080/"
        }
      },
      "source": [
        "from sklearn.preprocessing import MinMaxScaler, OneHotEncoder\n",
        "from sklearn.model_selection import train_test_split\n",
        "from collections import Counter\n",
        "\n",
        "list_features = list(df.loc[:, 'MACD': 'OBV'].columns) # Gets the names of all the columns from MACD to RSI\n",
        "print('Total number of features', len(list_features))\n",
        "\n",
        "\n",
        "# df.loc[:, 'MACD':'RSI'].values: -> Data used to create 'x_train' and 'x_test'\n",
        "# df['labels'].values: -> Data used to create 'y_train' and 'y_test'\n",
        "x_train, x_test, y_train, y_test = train_test_split(df.loc[:, 'MACD':'OBV'].values, df['labels'].values, train_size=0.8, test_size=0.2, random_state=2, shuffle=True, stratify=df['labels'].values)\n",
        "\n",
        "if 0.7*x_train.shape[0] < 2500:\n",
        "    # If training dataset is small, it increases the percentage of training\n",
        "    train_split = 0.8\n",
        "else:\n",
        "    train_split = 0.7\n",
        "\n",
        "print('train_split =',train_split)\n",
        "x_train, x_cv, y_train, y_cv = train_test_split(x_train, y_train, train_size=train_split, test_size=1-train_split, \n",
        "                                                random_state=2, shuffle=True, stratify=y_train)\n",
        "\n",
        "mm_scaler = MinMaxScaler(feature_range=(0, 1)) # or StandardScaler?\n",
        "x_train = mm_scaler.fit_transform(x_train)\n",
        "x_cv = mm_scaler.transform(x_cv)\n",
        "x_test = mm_scaler.transform(x_test)\n",
        "\n",
        "print(\"Shape of x, y train/cv/test {} {} {} {} {} {}\".format(x_train.shape, y_train.shape, x_cv.shape, y_cv.shape, x_test.shape, y_test.shape))\n"
      ],
      "execution_count": 38,
      "outputs": [
        {
          "output_type": "stream",
          "text": [
            "Total number of features 3\n",
            "train_split = 0.8\n",
            "Shape of x, y train/cv/test (805, 3) (805,) (202, 3) (202,) (252, 3) (252,)\n",
            "[2. 2. 2. 2. 2. 0. 2. 2. 2. 2. 2. 2. 2. 2. 2. 2. 2. 2. 2. 2. 0. 2. 2. 2.\n",
            " 2. 2. 2. 2. 2. 0. 2. 2. 2. 2. 2. 1. 2. 2. 2. 2. 2. 2. 2. 2. 2. 0. 2. 2.\n",
            " 2. 1. 2. 2. 2. 2. 2. 2. 1. 2. 2. 2. 0. 1. 2. 2. 2. 2. 2. 2. 2. 1. 2. 2.\n",
            " 2. 2. 2. 2. 0. 2. 2. 2. 2. 2. 2. 2. 2. 2. 2. 0. 2. 2. 2. 2. 2. 2. 2. 2.\n",
            " 2. 2. 2. 2. 2. 0. 0. 2. 2. 2. 2. 2. 2. 2. 2. 2. 2. 1. 2. 2. 2. 1. 2. 2.\n",
            " 2. 2. 2. 2. 2. 2. 2. 2. 2. 2. 2. 2. 2. 2. 2. 0. 2. 2. 2. 2. 2. 2. 2. 2.\n",
            " 2. 2. 1. 2. 2. 2. 2. 2. 2. 2. 2. 0. 2. 2. 2. 2. 2. 2. 2. 2. 2. 2. 2. 2.\n",
            " 2. 2. 2. 2. 2. 2. 2. 2. 0. 2. 2. 2. 2. 2. 2. 2. 2. 2. 2. 2. 2. 2. 2. 2.\n",
            " 2. 2. 2. 2. 1. 1. 2. 1. 2. 2. 2. 2. 2. 2. 2. 2. 2. 2. 2. 2. 2. 2. 2. 1.\n",
            " 2. 0. 2. 2. 2. 2. 2. 2. 2. 2. 2. 2. 2. 2. 2. 2. 2. 2. 2. 2. 2. 2. 2. 2.\n",
            " 2. 0. 2. 0. 2. 2. 2. 2. 2. 1. 2. 2.]\n"
          ],
          "name": "stdout"
        }
      ]
    }
  ]
}