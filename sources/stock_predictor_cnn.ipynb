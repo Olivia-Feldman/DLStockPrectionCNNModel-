{
  "nbformat": 4,
  "nbformat_minor": 0,
  "metadata": {
    "colab": {
      "name": "stock_predictor_cnn.ipynb",
      "provenance": [],
      "authorship_tag": "ABX9TyMLFtIxQv5wQIc1aKPqGuuT",
      "include_colab_link": true
    },
    "kernelspec": {
      "name": "python3",
      "display_name": "Python 3"
    },
    "widgets": {
      "application/vnd.jupyter.widget-state+json": {
        "c9b40ca18bba44f38210e0e0bafab5f3": {
          "model_module": "@jupyter-widgets/controls",
          "model_name": "HBoxModel",
          "state": {
            "_view_name": "HBoxView",
            "_dom_classes": [],
            "_model_name": "HBoxModel",
            "_view_module": "@jupyter-widgets/controls",
            "_model_module_version": "1.5.0",
            "_view_count": null,
            "_view_module_version": "1.5.0",
            "box_style": "",
            "layout": "IPY_MODEL_4ca5c6b0283d42aba68946a4ab7a2af6",
            "_model_module": "@jupyter-widgets/controls",
            "children": [
              "IPY_MODEL_fe0243eb27db482abfe58d4478af6403",
              "IPY_MODEL_d86d25994db041ea82d605761aa9005a"
            ]
          }
        },
        "4ca5c6b0283d42aba68946a4ab7a2af6": {
          "model_module": "@jupyter-widgets/base",
          "model_name": "LayoutModel",
          "state": {
            "_view_name": "LayoutView",
            "grid_template_rows": null,
            "right": null,
            "justify_content": null,
            "_view_module": "@jupyter-widgets/base",
            "overflow": null,
            "_model_module_version": "1.2.0",
            "_view_count": null,
            "flex_flow": null,
            "width": null,
            "min_width": null,
            "border": null,
            "align_items": null,
            "bottom": null,
            "_model_module": "@jupyter-widgets/base",
            "top": null,
            "grid_column": null,
            "overflow_y": null,
            "overflow_x": null,
            "grid_auto_flow": null,
            "grid_area": null,
            "grid_template_columns": null,
            "flex": null,
            "_model_name": "LayoutModel",
            "justify_items": null,
            "grid_row": null,
            "max_height": null,
            "align_content": null,
            "visibility": null,
            "align_self": null,
            "height": null,
            "min_height": null,
            "padding": null,
            "grid_auto_rows": null,
            "grid_gap": null,
            "max_width": null,
            "order": null,
            "_view_module_version": "1.2.0",
            "grid_template_areas": null,
            "object_position": null,
            "object_fit": null,
            "grid_auto_columns": null,
            "margin": null,
            "display": null,
            "left": null
          }
        },
        "fe0243eb27db482abfe58d4478af6403": {
          "model_module": "@jupyter-widgets/controls",
          "model_name": "FloatProgressModel",
          "state": {
            "_view_name": "ProgressView",
            "style": "IPY_MODEL_3b3be185b81c4b45b1e858875c442b83",
            "_dom_classes": [],
            "description": "100%",
            "_model_name": "FloatProgressModel",
            "bar_style": "success",
            "max": 1259,
            "_view_module": "@jupyter-widgets/controls",
            "_model_module_version": "1.5.0",
            "value": 1259,
            "_view_count": null,
            "_view_module_version": "1.5.0",
            "orientation": "horizontal",
            "min": 0,
            "description_tooltip": null,
            "_model_module": "@jupyter-widgets/controls",
            "layout": "IPY_MODEL_712e0ac7a55043b5bf8ff8a4cc976439"
          }
        },
        "d86d25994db041ea82d605761aa9005a": {
          "model_module": "@jupyter-widgets/controls",
          "model_name": "HTMLModel",
          "state": {
            "_view_name": "HTMLView",
            "style": "IPY_MODEL_1ceea58842204a00a9d2ced0d9f8416e",
            "_dom_classes": [],
            "description": "",
            "_model_name": "HTMLModel",
            "placeholder": "​",
            "_view_module": "@jupyter-widgets/controls",
            "_model_module_version": "1.5.0",
            "value": " 1259/1259 [00:03&lt;00:00, 411.91it/s]",
            "_view_count": null,
            "_view_module_version": "1.5.0",
            "description_tooltip": null,
            "_model_module": "@jupyter-widgets/controls",
            "layout": "IPY_MODEL_31b8cf929748499cb2ce8ec8db498608"
          }
        },
        "3b3be185b81c4b45b1e858875c442b83": {
          "model_module": "@jupyter-widgets/controls",
          "model_name": "ProgressStyleModel",
          "state": {
            "_view_name": "StyleView",
            "_model_name": "ProgressStyleModel",
            "description_width": "initial",
            "_view_module": "@jupyter-widgets/base",
            "_model_module_version": "1.5.0",
            "_view_count": null,
            "_view_module_version": "1.2.0",
            "bar_color": null,
            "_model_module": "@jupyter-widgets/controls"
          }
        },
        "712e0ac7a55043b5bf8ff8a4cc976439": {
          "model_module": "@jupyter-widgets/base",
          "model_name": "LayoutModel",
          "state": {
            "_view_name": "LayoutView",
            "grid_template_rows": null,
            "right": null,
            "justify_content": null,
            "_view_module": "@jupyter-widgets/base",
            "overflow": null,
            "_model_module_version": "1.2.0",
            "_view_count": null,
            "flex_flow": null,
            "width": null,
            "min_width": null,
            "border": null,
            "align_items": null,
            "bottom": null,
            "_model_module": "@jupyter-widgets/base",
            "top": null,
            "grid_column": null,
            "overflow_y": null,
            "overflow_x": null,
            "grid_auto_flow": null,
            "grid_area": null,
            "grid_template_columns": null,
            "flex": null,
            "_model_name": "LayoutModel",
            "justify_items": null,
            "grid_row": null,
            "max_height": null,
            "align_content": null,
            "visibility": null,
            "align_self": null,
            "height": null,
            "min_height": null,
            "padding": null,
            "grid_auto_rows": null,
            "grid_gap": null,
            "max_width": null,
            "order": null,
            "_view_module_version": "1.2.0",
            "grid_template_areas": null,
            "object_position": null,
            "object_fit": null,
            "grid_auto_columns": null,
            "margin": null,
            "display": null,
            "left": null
          }
        },
        "1ceea58842204a00a9d2ced0d9f8416e": {
          "model_module": "@jupyter-widgets/controls",
          "model_name": "DescriptionStyleModel",
          "state": {
            "_view_name": "StyleView",
            "_model_name": "DescriptionStyleModel",
            "description_width": "",
            "_view_module": "@jupyter-widgets/base",
            "_model_module_version": "1.5.0",
            "_view_count": null,
            "_view_module_version": "1.2.0",
            "_model_module": "@jupyter-widgets/controls"
          }
        },
        "31b8cf929748499cb2ce8ec8db498608": {
          "model_module": "@jupyter-widgets/base",
          "model_name": "LayoutModel",
          "state": {
            "_view_name": "LayoutView",
            "grid_template_rows": null,
            "right": null,
            "justify_content": null,
            "_view_module": "@jupyter-widgets/base",
            "overflow": null,
            "_model_module_version": "1.2.0",
            "_view_count": null,
            "flex_flow": null,
            "width": null,
            "min_width": null,
            "border": null,
            "align_items": null,
            "bottom": null,
            "_model_module": "@jupyter-widgets/base",
            "top": null,
            "grid_column": null,
            "overflow_y": null,
            "overflow_x": null,
            "grid_auto_flow": null,
            "grid_area": null,
            "grid_template_columns": null,
            "flex": null,
            "_model_name": "LayoutModel",
            "justify_items": null,
            "grid_row": null,
            "max_height": null,
            "align_content": null,
            "visibility": null,
            "align_self": null,
            "height": null,
            "min_height": null,
            "padding": null,
            "grid_auto_rows": null,
            "grid_gap": null,
            "max_width": null,
            "order": null,
            "_view_module_version": "1.2.0",
            "grid_template_areas": null,
            "object_position": null,
            "object_fit": null,
            "grid_auto_columns": null,
            "margin": null,
            "display": null,
            "left": null
          }
        }
      }
    }
  },
  "cells": [
    {
      "cell_type": "markdown",
      "metadata": {
        "id": "view-in-github",
        "colab_type": "text"
      },
      "source": [
        "<a href=\"https://colab.research.google.com/github/Olivia-Feldman/DLStockPrectionCNNModel-/blob/Andrew/sources/stock_predictor_cnn.ipynb\" target=\"_parent\"><img src=\"https://colab.research.google.com/assets/colab-badge.svg\" alt=\"Open In Colab\"/></a>"
      ]
    },
    {
      "cell_type": "markdown",
      "metadata": {
        "id": "mDQ7p3VWwTzY"
      },
      "source": [
        "# Default Imports"
      ]
    },
    {
      "cell_type": "code",
      "metadata": {
        "id": "y0hv_dunwR7J"
      },
      "source": [
        "import requests\n",
        "import pandas as pd\n",
        "import numpy as np\n",
        "from datetime import datetime\n",
        "import matplotlib.pyplot as plt\n",
        "import matplotlib.ticker as tick"
      ],
      "execution_count": 1,
      "outputs": []
    },
    {
      "cell_type": "markdown",
      "metadata": {
        "id": "d-6hn6-Vdy3w"
      },
      "source": [
        "# Set plot stylizations"
      ]
    },
    {
      "cell_type": "code",
      "metadata": {
        "id": "WmQoLK49d5sb"
      },
      "source": [
        "plt.rcParams.update({'font.size': 16})\n",
        "plt.rcParams['figure.figsize'] = [12, 8]\n",
        "plt.style.use('dark_background')"
      ],
      "execution_count": 2,
      "outputs": []
    },
    {
      "cell_type": "markdown",
      "metadata": {
        "id": "F2ZeVooibCVb"
      },
      "source": [
        "# Method for getting ticker data using Yahoo Finance API"
      ]
    },
    {
      "cell_type": "code",
      "metadata": {
        "id": "CKir13DZiStn"
      },
      "source": [
        "\n",
        "def getStockData(ticker: str, startYear: str, endYear: str):\n",
        "    url = \"https://query1.finance.yahoo.com/v8/finance/chart/\" + ticker + \"?region=US&lang=en-US&includePrePost=false&interval=1d&useYfid=true&range=5y&corsDomain=finance.yahoo.com&.tsrc=finance\"\n",
        "    x = requests.get(url)\n",
        "    jsonResponse = x.json()\n",
        "    timestamps = jsonResponse[\"chart\"][\"result\"][0][\"timestamp\"]\n",
        "    open = jsonResponse[\"chart\"][\"result\"][0][\"indicators\"][\"quote\"][0][\"open\"]\n",
        "    high = jsonResponse[\"chart\"][\"result\"][0][\"indicators\"][\"quote\"][0][\"high\"]\n",
        "    low = jsonResponse[\"chart\"][\"result\"][0][\"indicators\"][\"quote\"][0][\"low\"]\n",
        "    close = jsonResponse[\"chart\"][\"result\"][0][\"indicators\"][\"quote\"][0][\"close\"]\n",
        "    volume = jsonResponse[\"chart\"][\"result\"][0][\"indicators\"][\"quote\"][0][\"volume\"]\n",
        "\n",
        "    datetimes = list(map(toDatetime, timestamps))\n",
        "\n",
        "    data = {\n",
        "        'timestamps' : datetimes,\n",
        "        'open' : open,\n",
        "        'high' : high,\n",
        "        'low' : low,\n",
        "        'close' : close,\n",
        "        'volume' : volume\n",
        "    }\n",
        "\n",
        "    df = pd.DataFrame(data, columns=['timestamps', 'open', 'high', 'low', 'close', 'volume'])\n",
        "    return df\n",
        "\n",
        "def toDatetime(t):\n",
        "    return datetime.fromtimestamp(t)\n"
      ],
      "execution_count": 3,
      "outputs": []
    },
    {
      "cell_type": "markdown",
      "metadata": {
        "id": "obgFPuP-bSN3"
      },
      "source": [
        "# Plotting AAPL close prices to visualize"
      ]
    },
    {
      "cell_type": "code",
      "metadata": {
        "colab": {
          "base_uri": "https://localhost:8080/",
          "height": 503
        },
        "id": "HHwQWq3-sWL5",
        "outputId": "21e5bba1-bf3f-40f2-c935-b106f3cb1dee"
      },
      "source": [
        "ticker = 'QQQ'\n",
        "df = getStockData(ticker, \"2017\", \"2020\")\n",
        "\n",
        "ax = df.plot(x='timestamps', y=['open'], kind='line', title=ticker + ' prices')\n",
        "vals = ax.get_yticks()\n",
        "ax.set_yticklabels(['${:1.2f}'.format(x) for x in vals])\n",
        "ax.xaxis.grid(True, which='minor', linestyle='-', linewidth=0.25)\n",
        "ax.set_axisbelow(True)\n",
        "ax.grid(linestyle='-', linewidth='0.5', color='gray')\n",
        "\n",
        "plt.show()"
      ],
      "execution_count": 4,
      "outputs": [
        {
          "output_type": "display_data",
          "data": {
            "image/png": "[encoded data removed]",
            "text/plain": [
              "<Figure size 864x576 with 1 Axes>"
            ]
          },
          "metadata": {
            "tags": []
          }
        }
      ]
    },
    {
      "cell_type": "markdown",
      "metadata": {
        "id": "zDiySzRWbder"
      },
      "source": [
        "# Method for labeling price data as BUY, HOLD, or SELL\n",
        "\n",
        "*SELL = 0, BUY = 1, HOLD = 2*\n",
        "\n",
        "\n",
        "*Parameters:*\n",
        "\n",
        "    df: Pandas DataFrame\n",
        "    col_name: Name of the column in df that will be used to determine labels\n",
        "        - availiable names: \"open\", \"close\", \"high\", \"low\"\n",
        "    window_size: How large the window size will be when determining labels\n",
        "        - default size: 11"
      ]
    },
    {
      "cell_type": "code",
      "metadata": {
        "id": "pY9Dw0gB4DOp"
      },
      "source": [
        "from tqdm.auto import tqdm\n",
        "\n",
        "def create_labels(df, col_name, window_size=11):\n",
        "\n",
        "    row_counter = 0\n",
        "    total_rows = len(df)\n",
        "    # Creates a 1 x N numpy array\n",
        "    labels = np.zeros(total_rows)\n",
        "    # Makes all the entries in labels array equal to nan\n",
        "    labels[:] = np.nan\n",
        "    # Sets up a progress bar\n",
        "    pbar = tqdm(total=total_rows)\n",
        "\n",
        "    while row_counter < total_rows:\n",
        "\n",
        "        # Stalls labeling calculation until the row_counter is at least as big as the window_size\n",
        "        if row_counter >= window_size - 1:\n",
        "            window_begin = row_counter - (window_size - 1)\n",
        "            window_end = row_counter\n",
        "            window_middle = (window_begin + window_end) // 2 # Cast as int\n",
        "\n",
        "            min_ = np.inf\n",
        "            min_index = -1\n",
        "            max_ = -np.inf\n",
        "            max_index = -1\n",
        "            for i in range(window_begin, window_end + 1):\n",
        "                # Selected value at 'i' index in column with name equal to col_name variable\n",
        "                price = df.iloc[i][col_name]\n",
        "                if price < min_:\n",
        "                    # Finds the smallest value in the window\n",
        "                    # 'min_' is initially set to infinity\n",
        "                    min_ = price\n",
        "                    # Saves the index of the lowest value\n",
        "                    min_index = i\n",
        "                if price > max_:\n",
        "                    # Finds the largest value in the window\n",
        "                    # 'max_' is initially set to -infinity\n",
        "                    max_ = price\n",
        "                    # Saves the index of the largest value\n",
        "                    max_index = i\n",
        "\n",
        "            if max_index == window_middle:\n",
        "                # Sets label to SELL\n",
        "                labels[window_middle] = 0\n",
        "            elif min_index == window_middle:\n",
        "                # Sets label to BUY\n",
        "                labels[window_middle] = 1\n",
        "            else:\n",
        "                # Sets label to HOLD\n",
        "                labels[window_middle] = 2\n",
        "\n",
        "        row_counter = row_counter + 1\n",
        "        pbar.update(1)\n",
        "\n",
        "    pbar.close()\n",
        "    return labels"
      ],
      "execution_count": 5,
      "outputs": []
    },
    {
      "cell_type": "markdown",
      "metadata": {
        "id": "RtdxAGJZcvbF"
      },
      "source": [
        "# Plotting of prediction labels using 'close' column"
      ]
    },
    {
      "cell_type": "code",
      "metadata": {
        "id": "hysHG0ab08CB",
        "colab": {
          "base_uri": "https://localhost:8080/",
          "height": 575,
          "referenced_widgets": [
            "c9b40ca18bba44f38210e0e0bafab5f3",
            "4ca5c6b0283d42aba68946a4ab7a2af6",
            "fe0243eb27db482abfe58d4478af6403",
            "d86d25994db041ea82d605761aa9005a",
            "3b3be185b81c4b45b1e858875c442b83",
            "712e0ac7a55043b5bf8ff8a4cc976439",
            "1ceea58842204a00a9d2ced0d9f8416e",
            "31b8cf929748499cb2ce8ec8db498608"
          ]
        },
        "outputId": "8a4d3db4-c356-4656-99e2-16fdaf357c1e"
      },
      "source": [
        "labels = create_labels(df, 'close')\n",
        "df['labels'] = labels\n",
        "df['labels'] = df['labels'].fillna(0)\n",
        "\n",
        "fig = plt.figure()\n",
        "plt.plot(labels, ',')\n",
        "plt.title('Prediction Labels')"
      ],
      "execution_count": 6,
      "outputs": [
        {
          "output_type": "display_data",
          "data": {
            "application/vnd.jupyter.widget-view+json": {
              "model_id": "c9b40ca18bba44f38210e0e0bafab5f3",
              "version_minor": 0,
              "version_major": 2
            },
            "text/plain": [
              "HBox(children=(FloatProgress(value=0.0, max=1259.0), HTML(value='')))"
            ]
          },
          "metadata": {
            "tags": []
          }
        },
        {
          "output_type": "stream",
          "text": [
            "\n"
          ],
          "name": "stdout"
        },
        {
          "output_type": "execute_result",
          "data": {
            "text/plain": [
              "Text(0.5, 1.0, 'Prediction Labels')"
            ]
          },
          "metadata": {
            "tags": []
          },
          "execution_count": 6
        },
        {
          "output_type": "display_data",
          "data": {
            "image/png": "[encoded data removed]",
            "text/plain": [
              "<Figure size 864x576 with 1 Axes>"
            ]
          },
          "metadata": {
            "tags": []
          }
        }
      ]
    },
    {
      "cell_type": "markdown",
      "metadata": {
        "id": "yRCNLq1umIa4"
      },
      "source": [
        "# Technical Indicator methods\n",
        "\n",
        "\n",
        "***Technical Indicators Used:***\n",
        "\n",
        "*   MACD\n",
        "*   RSI\n",
        "*   %K\n",
        "*   %D\n",
        "*   ATR\n",
        "*   DEMA\n",
        "*   BB\n",
        "*   WR\n",
        "\n",
        "\n",
        "\n",
        "\n",
        "\n",
        "\n",
        "\n"
      ]
    },
    {
      "cell_type": "markdown",
      "metadata": {
        "id": "fLAugiBvWsS3"
      },
      "source": [
        "# ***RSI***: Relative Strength Index\n",
        "\n",
        "\n",
        "\n",
        "*   Signals about bullish and bearish price momentum, and it is often plotted beneath the graph of an asset's price\n",
        "*   An asset is usually considered overbought when the RSI is above ***`70%`*** and oversold when it is below ***`30%`***\n",
        "*   A momentum indicator used in technical analysis that measures the magnitude of recent price changes to evaluate overbought or oversold conditions in the price of a stock or other asset\n",
        "*   The RSI is displayed as an oscillator and can have a reading from 0 to 100.\n",
        "\n",
        "$$\\frac{sin(x)}{x}$$\n",
        "\n",
        "\\begin{equation}\n",
        "F(k) = \\int_{-\\infty}^{\\infty} f(x) e^{2\\pi i k} dx\n",
        "\\end{equation}\n",
        "\n",
        "\\begin{equation}\n",
        "RSI_{step-one} = 100 - \\Bigg[ \\frac{100}{1 + \\frac{Average Gain}{Average Loss}}\\Bigg]\n",
        "\\end{equation}\n",
        "\n",
        "\\begin{equation}\n",
        "RSI_{step-tro} = 100 - \\Bigg[ \\frac{100}{1 + \\frac{(Previous Average Gain*(N-1)) + Current Gain}{(Previous Average Loss*(N-1)) + Current Loss}}\\Bigg]\n",
        "\\end{equation}\n",
        "\n",
        "[Investopedia](https://www.investopedia.com/terms/r/rsi.asp)\n",
        "\n",
        "<font color='red'> TODO: Code calculation might be slightly wrong </font>\n",
        "\n"
      ]
    },
    {
      "cell_type": "code",
      "metadata": {
        "id": "9iZ9GSAuWpVs"
      },
      "source": [
        "def calculate_rsi(df, iteration):\n",
        "    diff = df['close'].diff()\n",
        "    up, down = diff.copy(), diff.copy()\n",
        "    up[up < 0] = 0 # Converting to Average Gain\n",
        "    down[down > 0] = 0 # Converting to Average Loss\n",
        "    down = abs(down) # Positive Value of Average Loss\n",
        "    iter_Num_Day_Up_Closes = up.rolling(iteration).mean() # interation # day periods\n",
        "    iter_Num_Day_Down_Closes = down.rolling(iteration).mean() # interaction # day periods\n",
        "    relative_strength = iter_Num_Day_Up_Closes / iter_Num_Day_Down_Closes\n",
        "    df['RSI_'+str(iteration)] = 100 - (100 / (1 + relative_strength))\n",
        "    df['RSI_'+str(iteration)] = df['RSI_'+str(iteration)].fillna(0)"
      ],
      "execution_count": 7,
      "outputs": []
    },
    {
      "cell_type": "markdown",
      "metadata": {
        "id": "gMv0B0HhPO5I"
      },
      "source": [
        "# ***MACD***: Moving Average Convergance Diverage Momentum\n",
        "\n",
        "\n",
        "* MACD triggers technical signals when it crosses above (to buy) or below (to sell) its signal line.\n",
        "* The speed of crossovers is also taken as a signal of a market is overbought or oversold.\n",
        "* MACD helps investors understand whether the bullish or bearish movement in the price is strengthening or weakening.\n",
        "\n",
        "\\begin{equation}\n",
        "MACD =  EMA_{12-period} - EMA_{26-period}\n",
        "\\end{equation}\n",
        "\n",
        "[Investopedia](https://www.investopedia.com/terms/m/macd.asp)"
      ]
    },
    {
      "cell_type": "code",
      "metadata": {
        "id": "PgmWZo1LPKMS"
      },
      "source": [
        "def calculate_macd(df, iteration):\n",
        "    df['MACD_'+str(iteration)] = df[\"close\"].ewm(span=12).mean() - df[\"close\"].ewm(span=26).mean()\n",
        "    df['MACD_'+str(iteration)] = df['MACD_'+str(iteration)].fillna(0)\n",
        "    #df['Signal Line'] = df['MACD'].ewm(span=9).mean()"
      ],
      "execution_count": 8,
      "outputs": []
    },
    {
      "cell_type": "markdown",
      "metadata": {
        "id": "kjnTJtNYUbiD"
      },
      "source": [
        "# ***EMA***: Exponential Moving Average\n",
        "\n",
        "\n",
        "*   Moving average that places a greater weight and significance on the most recent data points\n",
        "*   Traders often use several different EMA lengths, such as <font color='orange'> 10-day </font>, <font color='orange'> 50-day </font>, and <font color='orange'> 200-day </font> moving averages.\n",
        "\n",
        "\\begin{equation}\n",
        "EMA = \\Bigg( Value_{Today}  * \\Big( \\frac{Smoothing}{1+Days} \\Big) + EMA_{Yesterday} * \\Big( 1 - \\Big( \\frac{Smoothing}{1+Days} \\Big) \\Big) \\Bigg)\n",
        "\\end{equation}\n",
        "\n",
        "\\begin{equation}\n",
        "Weighted Multipler = \\frac{Smoothing}{1+Days}\n",
        "\\end{equation}\n",
        "\n",
        "\\begin{equation}\n",
        "EMA = \\Bigg( \\Big( Value_{Today} - EMA_{Yesterday} \\Big) * \\Big( Weighted Multipler \\Big) + EMA_{Yesterday} \\Bigg)\n",
        "\\end{equation}\n",
        "\n",
        "*   While there are many possible choices for the smoothing factor, the most common choice is:\n",
        "  *   <font color='orange'> Smoothing = 2 </font>\n",
        "  *   That gives the most recent observation more weight. If the smoothing factor is <font color='orange'> increased </font>, more recent observations have <font color='orange'> more influence </font> on the EMA.\n",
        "\n",
        "\n",
        "[Investopedia Definition](https://www.investopedia.com/terms/e/ema.asp)\n",
        "\n",
        "[Investopedia Calculation](https://www.investopedia.com/ask/answers/122314/what-exponential-moving-average-ema-formula-and-how-ema-calculated.asp)\n",
        "\n"
      ]
    },
    {
      "cell_type": "code",
      "metadata": {
        "id": "g1kLA-Y0Ua7N"
      },
      "source": [
        "def calculate_ema(df, iteration, windowSize=11):\n",
        "\n",
        "    if 'EMA_'+str(iteration) in df.columns:\n",
        "        return df['EMA_'+str(iteration)]\n",
        "        print(\"found EMA column\")\n",
        "    else:\n",
        "        multiplier = (2/(windowSize+1))\n",
        "        ema_1 = df['close'].rolling(windowSize).sum() / windowSize\n",
        "        #ema_1 = ema_1.fillna(0)\n",
        "        print(\"EMA_1: \", \"Iter:\" + str(iteration), ema_1)\n",
        "        df['EMA_'+str(iteration)] = (df['close'] -  ema_1) * multiplier + ema_1 # -> Is this right?\n",
        "        df['EMA_'+str(iteration)] = df['EMA_'+str(iteration)].fillna(0)\n",
        "        return df['EMA_'+str(iteration)]"
      ],
      "execution_count": 9,
      "outputs": []
    },
    {
      "cell_type": "code",
      "metadata": {
        "id": "SUOEDzKgl_9k"
      },
      "source": [
        "# SR: Stochastic Oscillator\n",
        "def calculate_sr(df, iteration):\n",
        "    # The general theory serving as the foundation for this indicator is that in a market trending upward, prices will close near the high, and in a market trending downward, prices close near the low\n",
        "    # Transaction signals are created when the %K crosses through a three-period moving average, which is called the %D.\n",
        "    eleven_high = df['high'].rolling(11).max()\n",
        "    eleven_low = df['low'].rolling(11).min()\n",
        "    # %K is referred to sometimes as the fast stochastic indicator\n",
        "    fast_K = (df['close']-eleven_low)*100/(eleven_high - eleven_low)\n",
        "    # The \"slow\" stochastic indicator is taken as %D = 3-period moving average of %K\n",
        "    df['%D_'+str(iteration)] = fast_K.rolling(3).mean()\n",
        "    df['%D_'+str(iteration)] = df['%D_'+str(iteration)].fillna(0)\n",
        "\n",
        "# WR: Williams %R Indicator\n",
        "def calculate_WR(df, iteration):\n",
        "    # Williams %R moves between zero and -100.\n",
        "    # A reading above -20 is overbought.\n",
        "    # A reading below -80 is oversold.\n",
        "    eleven_high = df['high'].rolling(11).max()\n",
        "    eleven_low = df['low'].rolling(11).min()\n",
        "    df['WR_'+str(iteration)] = (eleven_high - df['close']) / (eleven_high - eleven_low) * -100\n",
        "    df['WR_'+str(iteration)] = df['WR_'+str(iteration)].rolling(3).mean()\n",
        "    df['WR_'+str(iteration)] = df['WR_'+str(iteration)].fillna(0)\n",
        "\n",
        "\n",
        "# MFI: Money Flow Index\n",
        "def calculate_mfi(df, iteration):\n",
        "    price = (df['close'] + df['high'] + df['low']) / 3\n",
        "    #mf = df['tp'] * df['volume']\n",
        "    mf = price * df['volume']\n",
        "    positive_flow = []\n",
        "    negative_flow = []\n",
        "    positive_mf = []\n",
        "    negative_mf = []\n",
        "    # Loop through typical price calculations\n",
        "    for i in range(1, len(price)):\n",
        "        if price[i] > price[i-1]:\n",
        "            positive_flow.append(mf[i-1])\n",
        "            negative_flow.append(0)\n",
        "        elif price[i] < [i-1]:\n",
        "            negative_flow.append(mf[i-1])\n",
        "            positive_flow.append(0)\n",
        "        else:\n",
        "            positive_flow.append(0)\n",
        "            negative_flow.append(0) \n",
        "    for i in range(len(positive_flow) + 1):\n",
        "        positive_mf.append(sum(positive_flow[i+1-11:i+1]))\n",
        "    for i in range(len(negative_flow) + 1):\n",
        "        negative_mf.append(sum(negative_flow[i+1-11:i+1]))\n",
        "    df['MFI_'+str(iteration)] = 100 * (np.array(positive_mf) / (np.array(positive_mf) + np.array(negative_mf)))\n",
        "    df['MFI_'+str(iteration)] = df['MFI_'+str(iteration)].fillna(0)\n",
        "\n",
        "\n",
        "# BB: Bollinger Band\n",
        "def calculate_bb(df, iteration):\n",
        "    # When the bands come close together, constricting the moving average, it is called a squeeze.\n",
        "    # The mistake most people make is believing that that price hitting or exceeding one of the bands is a signal to buy or sell. \n",
        "    # Breakouts provide no clue as to the direction and extent of future price movement.\n",
        "    # Creating temporary Dataframe\n",
        "    atr_df = pd.DataFrame()\n",
        "    atr_df['close'] = df['close']\n",
        "    atr_df['MA11'] = df['close'].rolling(window=11).mean()\n",
        "    atr_df['11STD'] = df['close'].rolling(window=11).std()\n",
        "    atr_df['Upper'] = atr_df['MA11'] + (atr_df['11STD'] * 2) # -> Where is this 2 coming from?\n",
        "    atr_df['Lower'] = atr_df['MA11'] - (atr_df['11STD'] * 2)\n",
        "    df['BB_'+str(iteration)] = atr_df[['close','MA11','Upper','Lower']].max(axis=1)\n",
        "    df['BB_'+str(iteration)] = df['BB_'+str(iteration)].fillna(0)\n",
        "    # return df['BB']\n",
        "\n",
        "# ATR: Average True Range\n",
        "def calculate_atr(df, iteration):\n",
        "\n",
        "    if 'ATR_'+str(iteration) in df.columns:\n",
        "        return df['ATR_'+str(iteration)]\n",
        "    else:\n",
        "        data = df.copy()\n",
        "        high = df['high']\n",
        "        low = df['low']\n",
        "        close = df['close']\n",
        "        tr_0 = abs(high - low)\n",
        "        # Creating temporary Dataframe\n",
        "        atr_df = pd.DataFrame()\n",
        "        atr_df['tr0'] = abs(high - low)\n",
        "        atr_df['tr1'] = abs(high - close.shift())\n",
        "        atr_df['tr2'] = abs(low - close.shift())\n",
        "        atr_df['TR'] = atr_df[['tr0', 'tr1', 'tr2']].max(axis=1)\n",
        "        df['ATR_'+str(iteration)] = atr_df['TR'].ewm(alpha=1/11,adjust=False).mean()\n",
        "        df['ATR_'+str(iteration)] = df['ATR_'+str(iteration)].fillna(0)\n",
        "        #print(np.where(df['ATR'] < 0))\n",
        "        return df['ATR_'+str(iteration)]\n",
        "\n",
        "# KC: Kelter Channel\n",
        "def calculate_kc(df, iteration):\n",
        "    #df['KC'] = df.copy\n",
        "    #KelChM = pd.Series(((df['high'] + df['low'] + df['close']).rolling(11).mean() / 3), name = 'KelChM_' + str(11)) \n",
        "    #KelChU = pd.Series(((4 * df['high'] - 2 * df['low'] + df['close']).rolling(11).mean() / 3), name = 'KelChU_' + str(11))  \n",
        "    #KelChD = pd.Series(((-2 * df['high'] + 4 * df['low'] + df['close']).rolling(11).mean() / 3), name = 'KelChD_' + str(11))\n",
        "    atr = calculate_atr(df, iteration)\n",
        "    temp_df = pd.DataFrame()\n",
        "    temp_df['middle'] = calculate_ema(df, iteration)\n",
        "    temp_df['upper'] = temp_df['middle'] + 2 * atr\n",
        "    temp_df['lower'] = temp_df['middle'] - 2 * atr\n",
        "    df['KC_'+str(iteration)] = temp_df[['middle','upper','lower']].max(axis=1)\n",
        "    df['KC_'+str(iteration)] = df['KC_'+str(iteration)].fillna(0)\n",
        "    #print(np.where(temp_df['middle'] > temp_df['upper']))\n",
        "\n",
        "\n",
        "# DEMA: Double Exponential Moving Average\n",
        "def calculate_dema(df, iteration):\n",
        "    multiplier = (2/(11+1))\n",
        "    dema_1 = sum(df['close'],11)\n",
        "    df['DEMA_'+str(iteration)] = (df['close'] * multiplier) + (dema_1 * (1-multiplier))\n",
        "    df['DEMA_'+str(iteration)] = df['DEMA_'+str(iteration)].fillna(0)\n",
        "\n",
        "\n",
        "# CCI: Commodity Channel Index\n",
        "def calculate_cci(df, iteration):\n",
        "    typical_price = (df['high'] + df['low'] + df['close']) / 3\n",
        "    df['CCI_'+str(iteration)] = ((typical_price - typical_price.rolling(11).mean())/ (0.015 * typical_price.rolling(11).std()))\n",
        "    df['CCI_'+str(iteration)] = df['CCI_'+str(iteration)].fillna(0)\n",
        "\n",
        "\n",
        "# EMV: Ease of Movement Volume\n",
        "def calculate_emv(df, iteration):\n",
        "    distance_moved = ((df['high'] + df['low'])/2) - ((df['high'].shift(1) + df['low'].shift(1))/2)\n",
        "    box_ratio = (df['volume'] / 100000000) / ((df['high'] - df['low']))\n",
        "    df['EVM_'+str(iteration)] = distance_moved / box_ratio \n",
        "    df['EVM_'+str(iteration)] = df['EVM_'+str(iteration)].fillna(0)\n",
        "\n",
        "\n",
        "# FI: Force Index\n",
        "def calculate_fi(df, iteration):\n",
        "    df['FI_'+str(iteration)] = df['close'].diff(11) * df['volume']\n",
        "    df['FI_'+str(iteration)] = df['FI_'+str(iteration)].fillna(0)\n",
        "\n",
        "\n",
        "# ROC: Price Rate of Change\n",
        "def calculate_roc(df, iteration):\n",
        "    N = df['close'].diff(11)\n",
        "    D = df['close'].shift(11)\n",
        "    df['ROC_'+str(iteration)] = N / D\n",
        "    df['ROC_'+str(iteration)] = df['ROC_'+str(iteration)].fillna(0)\n",
        "\n",
        "\n",
        "# OBV: On-Balance Volume\n",
        "def calculate_obv(df, iteration):\n",
        "    df['OBV_'+str(iteration)] = np.where(df['close'] > df['close'].shift(1), df['volume'], np.where(df['close'] < df['close'].shift(1), -df['volume'],0)).cumsum()\n",
        "    df['OBV_'+str(iteration)] = df['OBV_'+str(iteration)].fillna(0)"
      ],
      "execution_count": 10,
      "outputs": []
    },
    {
      "cell_type": "code",
      "metadata": {
        "id": "3Ia0mFbwhaV-"
      },
      "source": [
        "#calculate_kc(df)"
      ],
      "execution_count": 11,
      "outputs": []
    },
    {
      "cell_type": "markdown",
      "metadata": {
        "id": "EphNOjiG47al"
      },
      "source": [
        "# Run all Technical Indicator methods"
      ]
    },
    {
      "cell_type": "code",
      "metadata": {
        "id": "2qRx19uZ4yWi",
        "colab": {
          "base_uri": "https://localhost:8080/"
        },
        "outputId": "cce31d86-5f04-447e-9a7d-7eb069973a49"
      },
      "source": [
        "indicator_range = 26\n",
        "\n",
        "# for x in range(1, indicator_range+1):\n",
        "#     calculate_macd(df, x)\n",
        "#     calculate_rsi(df, x)\n",
        "#     calculate_sr(df, x)\n",
        "#     calculate_WR(df, x)\n",
        "#     calculate_ema(df, x)\n",
        "#     calculate_mfi(df, x)\n",
        "#     calculate_bb(df, x)\n",
        "#     calculate_atr(df, x)\n",
        "#     calculate_kc(df, x)\n",
        "#     calculate_dema(df, x)\n",
        "#     calculate_cci(df, x)\n",
        "#     calculate_emv(df, x)\n",
        "#     calculate_fi(df, x)\n",
        "#     calculate_roc(df, x)\n",
        "#     calculate_obv(df, x)\n",
        "\n",
        "for x in range(1, indicator_range+1):\n",
        "    calculate_macd(df, x)\n",
        "for x in range(6, indicator_range+1):\n",
        "    calculate_rsi(df, x)\n",
        "for x in range(1, indicator_range+1):\n",
        "    calculate_sr(df, x)\n",
        "for x in range(1, indicator_range+1):\n",
        "    calculate_WR(df, x)\n",
        "for x in range(1, indicator_range+1):\n",
        "    calculate_ema(df, x)\n",
        "for x in range(1, indicator_range+1):\n",
        "    calculate_mfi(df, x)\n",
        "for x in range(1, indicator_range+1):\n",
        "    calculate_bb(df, x)\n",
        "for x in range(1, indicator_range+1):\n",
        "    calculate_atr(df, x)\n",
        "for x in range(1, indicator_range+1):\n",
        "    calculate_kc(df, x)\n",
        "for x in range(1, indicator_range+1):\n",
        "    calculate_dema(df, x)\n",
        "for x in range(1, indicator_range+1):\n",
        "    calculate_cci(df, x)\n",
        "for x in range(1, indicator_range+1):\n",
        "    calculate_emv(df, x)\n",
        "for x in range(1, indicator_range+1):\n",
        "    calculate_fi(df, x)\n",
        "for x in range(1, indicator_range+1):\n",
        "    calculate_roc(df, x)\n",
        "for x in range(1, indicator_range+1):\n",
        "    calculate_obv(df, x)"
      ],
      "execution_count": 12,
      "outputs": [
        {
          "output_type": "stream",
          "text": [
            "EMA_1:  Iter:1 0              NaN\n",
            "1              NaN\n",
            "2              NaN\n",
            "3              NaN\n",
            "4              NaN\n",
            "           ...    \n",
            "1254    312.349088\n",
            "1255    312.667270\n",
            "1256    312.929088\n",
            "1257    313.750907\n",
            "1258    314.686818\n",
            "Name: close, Length: 1259, dtype: float64\n",
            "EMA_1:  Iter:2 0              NaN\n",
            "1              NaN\n",
            "2              NaN\n",
            "3              NaN\n",
            "4              NaN\n",
            "           ...    \n",
            "1254    312.349088\n",
            "1255    312.667270\n",
            "1256    312.929088\n",
            "1257    313.750907\n",
            "1258    314.686818\n",
            "Name: close, Length: 1259, dtype: float64\n",
            "EMA_1:  Iter:3 0              NaN\n",
            "1              NaN\n",
            "2              NaN\n",
            "3              NaN\n",
            "4              NaN\n",
            "           ...    \n",
            "1254    312.349088\n",
            "1255    312.667270\n",
            "1256    312.929088\n",
            "1257    313.750907\n",
            "1258    314.686818\n",
            "Name: close, Length: 1259, dtype: float64\n",
            "EMA_1:  Iter:4 0              NaN\n",
            "1              NaN\n",
            "2              NaN\n",
            "3              NaN\n",
            "4              NaN\n",
            "           ...    \n",
            "1254    312.349088\n",
            "1255    312.667270\n",
            "1256    312.929088\n",
            "1257    313.750907\n",
            "1258    314.686818\n",
            "Name: close, Length: 1259, dtype: float64\n",
            "EMA_1:  Iter:5 0              NaN\n",
            "1              NaN\n",
            "2              NaN\n",
            "3              NaN\n",
            "4              NaN\n",
            "           ...    \n",
            "1254    312.349088\n",
            "1255    312.667270\n",
            "1256    312.929088\n",
            "1257    313.750907\n",
            "1258    314.686818\n",
            "Name: close, Length: 1259, dtype: float64\n",
            "EMA_1:  Iter:6 0              NaN\n",
            "1              NaN\n",
            "2              NaN\n",
            "3              NaN\n",
            "4              NaN\n",
            "           ...    \n",
            "1254    312.349088\n",
            "1255    312.667270\n",
            "1256    312.929088\n",
            "1257    313.750907\n",
            "1258    314.686818\n",
            "Name: close, Length: 1259, dtype: float64\n",
            "EMA_1:  Iter:7 0              NaN\n",
            "1              NaN\n",
            "2              NaN\n",
            "3              NaN\n",
            "4              NaN\n",
            "           ...    \n",
            "1254    312.349088\n",
            "1255    312.667270\n",
            "1256    312.929088\n",
            "1257    313.750907\n",
            "1258    314.686818\n",
            "Name: close, Length: 1259, dtype: float64\n",
            "EMA_1:  Iter:8 0              NaN\n",
            "1              NaN\n",
            "2              NaN\n",
            "3              NaN\n",
            "4              NaN\n",
            "           ...    \n",
            "1254    312.349088\n",
            "1255    312.667270\n",
            "1256    312.929088\n",
            "1257    313.750907\n",
            "1258    314.686818\n",
            "Name: close, Length: 1259, dtype: float64\n",
            "EMA_1:  Iter:9 0              NaN\n",
            "1              NaN\n",
            "2              NaN\n",
            "3              NaN\n",
            "4              NaN\n",
            "           ...    \n",
            "1254    312.349088\n",
            "1255    312.667270\n",
            "1256    312.929088\n",
            "1257    313.750907\n",
            "1258    314.686818\n",
            "Name: close, Length: 1259, dtype: float64\n",
            "EMA_1:  Iter:10 0              NaN\n",
            "1              NaN\n",
            "2              NaN\n",
            "3              NaN\n",
            "4              NaN\n",
            "           ...    \n",
            "1254    312.349088\n",
            "1255    312.667270\n",
            "1256    312.929088\n",
            "1257    313.750907\n",
            "1258    314.686818\n",
            "Name: close, Length: 1259, dtype: float64\n",
            "EMA_1:  Iter:11 0              NaN\n",
            "1              NaN\n",
            "2              NaN\n",
            "3              NaN\n",
            "4              NaN\n",
            "           ...    \n",
            "1254    312.349088\n",
            "1255    312.667270\n",
            "1256    312.929088\n",
            "1257    313.750907\n",
            "1258    314.686818\n",
            "Name: close, Length: 1259, dtype: float64\n",
            "EMA_1:  Iter:12 0              NaN\n",
            "1              NaN\n",
            "2              NaN\n",
            "3              NaN\n",
            "4              NaN\n",
            "           ...    \n",
            "1254    312.349088\n",
            "1255    312.667270\n",
            "1256    312.929088\n",
            "1257    313.750907\n",
            "1258    314.686818\n",
            "Name: close, Length: 1259, dtype: float64\n",
            "EMA_1:  Iter:13 0              NaN\n",
            "1              NaN\n",
            "2              NaN\n",
            "3              NaN\n",
            "4              NaN\n",
            "           ...    \n",
            "1254    312.349088\n",
            "1255    312.667270\n",
            "1256    312.929088\n",
            "1257    313.750907\n",
            "1258    314.686818\n",
            "Name: close, Length: 1259, dtype: float64\n",
            "EMA_1:  Iter:14 0              NaN\n",
            "1              NaN\n",
            "2              NaN\n",
            "3              NaN\n",
            "4              NaN\n",
            "           ...    \n",
            "1254    312.349088\n",
            "1255    312.667270\n",
            "1256    312.929088\n",
            "1257    313.750907\n",
            "1258    314.686818\n",
            "Name: close, Length: 1259, dtype: float64\n",
            "EMA_1:  Iter:15 0              NaN\n",
            "1              NaN\n",
            "2              NaN\n",
            "3              NaN\n",
            "4              NaN\n",
            "           ...    \n",
            "1254    312.349088\n",
            "1255    312.667270\n",
            "1256    312.929088\n",
            "1257    313.750907\n",
            "1258    314.686818\n",
            "Name: close, Length: 1259, dtype: float64\n",
            "EMA_1:  Iter:16 0              NaN\n",
            "1              NaN\n",
            "2              NaN\n",
            "3              NaN\n",
            "4              NaN\n",
            "           ...    \n",
            "1254    312.349088\n",
            "1255    312.667270\n",
            "1256    312.929088\n",
            "1257    313.750907\n",
            "1258    314.686818\n",
            "Name: close, Length: 1259, dtype: float64\n",
            "EMA_1:  Iter:17 0              NaN\n",
            "1              NaN\n",
            "2              NaN\n",
            "3              NaN\n",
            "4              NaN\n",
            "           ...    \n",
            "1254    312.349088\n",
            "1255    312.667270\n",
            "1256    312.929088\n",
            "1257    313.750907\n",
            "1258    314.686818\n",
            "Name: close, Length: 1259, dtype: float64\n",
            "EMA_1:  Iter:18 0              NaN\n",
            "1              NaN\n",
            "2              NaN\n",
            "3              NaN\n",
            "4              NaN\n",
            "           ...    \n",
            "1254    312.349088\n",
            "1255    312.667270\n",
            "1256    312.929088\n",
            "1257    313.750907\n",
            "1258    314.686818\n",
            "Name: close, Length: 1259, dtype: float64\n",
            "EMA_1:  Iter:19 0              NaN\n",
            "1              NaN\n",
            "2              NaN\n",
            "3              NaN\n",
            "4              NaN\n",
            "           ...    \n",
            "1254    312.349088\n",
            "1255    312.667270\n",
            "1256    312.929088\n",
            "1257    313.750907\n",
            "1258    314.686818\n",
            "Name: close, Length: 1259, dtype: float64\n",
            "EMA_1:  Iter:20 0              NaN\n",
            "1              NaN\n",
            "2              NaN\n",
            "3              NaN\n",
            "4              NaN\n",
            "           ...    \n",
            "1254    312.349088\n",
            "1255    312.667270\n",
            "1256    312.929088\n",
            "1257    313.750907\n",
            "1258    314.686818\n",
            "Name: close, Length: 1259, dtype: float64\n",
            "EMA_1:  Iter:21 0              NaN\n",
            "1              NaN\n",
            "2              NaN\n",
            "3              NaN\n",
            "4              NaN\n",
            "           ...    \n",
            "1254    312.349088\n",
            "1255    312.667270\n",
            "1256    312.929088\n",
            "1257    313.750907\n",
            "1258    314.686818\n",
            "Name: close, Length: 1259, dtype: float64\n",
            "EMA_1:  Iter:22 0              NaN\n",
            "1              NaN\n",
            "2              NaN\n",
            "3              NaN\n",
            "4              NaN\n",
            "           ...    \n",
            "1254    312.349088\n",
            "1255    312.667270\n",
            "1256    312.929088\n",
            "1257    313.750907\n",
            "1258    314.686818\n",
            "Name: close, Length: 1259, dtype: float64\n",
            "EMA_1:  Iter:23 0              NaN\n",
            "1              NaN\n",
            "2              NaN\n",
            "3              NaN\n",
            "4              NaN\n",
            "           ...    \n",
            "1254    312.349088\n",
            "1255    312.667270\n",
            "1256    312.929088\n",
            "1257    313.750907\n",
            "1258    314.686818\n",
            "Name: close, Length: 1259, dtype: float64\n",
            "EMA_1:  Iter:24 0              NaN\n",
            "1              NaN\n",
            "2              NaN\n",
            "3              NaN\n",
            "4              NaN\n",
            "           ...    \n",
            "1254    312.349088\n",
            "1255    312.667270\n",
            "1256    312.929088\n",
            "1257    313.750907\n",
            "1258    314.686818\n",
            "Name: close, Length: 1259, dtype: float64\n",
            "EMA_1:  Iter:25 0              NaN\n",
            "1              NaN\n",
            "2              NaN\n",
            "3              NaN\n",
            "4              NaN\n",
            "           ...    \n",
            "1254    312.349088\n",
            "1255    312.667270\n",
            "1256    312.929088\n",
            "1257    313.750907\n",
            "1258    314.686818\n",
            "Name: close, Length: 1259, dtype: float64\n",
            "EMA_1:  Iter:26 0              NaN\n",
            "1              NaN\n",
            "2              NaN\n",
            "3              NaN\n",
            "4              NaN\n",
            "           ...    \n",
            "1254    312.349088\n",
            "1255    312.667270\n",
            "1256    312.929088\n",
            "1257    313.750907\n",
            "1258    314.686818\n",
            "Name: close, Length: 1259, dtype: float64\n"
          ],
          "name": "stdout"
        },
        {
          "output_type": "stream",
          "text": [
            "/usr/local/lib/python3.7/dist-packages/ipykernel_launcher.py:49: RuntimeWarning: invalid value encountered in true_divide\n"
          ],
          "name": "stderr"
        }
      ]
    },
    {
      "cell_type": "markdown",
      "metadata": {
        "id": "ecdJ54mz5Eub"
      },
      "source": [
        "# Plot charts for Technical Indicators"
      ]
    },
    {
      "cell_type": "code",
      "metadata": {
        "id": "KyJQ-qxy4xM9",
        "colab": {
          "base_uri": "https://localhost:8080/",
          "height": 1000
        },
        "outputId": "9f7318cc-1d95-414f-9138-c941dc94c5b0"
      },
      "source": [
        "def plot_indicators(df, columns, yTitle, xTitle):\n",
        "    plt.figure()\n",
        "    ax = df[columns].plot(title=yTitle)\n",
        "    ax.set_xlabel(xTitle)\n",
        "    ax.set_ylabel(yTitle)\n",
        "\n",
        "plot_indicators(df, ['MACD_1'], \"MACD\", \"Days\")\n",
        "plot_indicators(df, \"EMA_10\", \"EMA\", \"Days\")\n",
        "plot_indicators(df, \"RSI_26\", \"RSI\", \"Days\")"
      ],
      "execution_count": 13,
      "outputs": [
        {
          "output_type": "display_data",
          "data": {
            "text/plain": [
              "<Figure size 864x576 with 0 Axes>"
            ]
          },
          "metadata": {
            "tags": []
          }
        },
        {
          "output_type": "display_data",
          "data": {
            "image/png": "[encoded data removed]",
            "text/plain": [
              "<Figure size 864x576 with 1 Axes>"
            ]
          },
          "metadata": {
            "tags": []
          }
        },
        {
          "output_type": "display_data",
          "data": {
            "image/png": "[encoded data removed]",
            "text/plain": [
              "<Figure size 864x576 with 1 Axes>"
            ]
          },
          "metadata": {
            "tags": []
          }
        },
        {
          "output_type": "display_data",
          "data": {
            "image/png": "[encoded data removed]",
            "text/plain": [
              "<Figure size 864x576 with 1 Axes>"
            ]
          },
          "metadata": {
            "tags": []
          }
        }
      ]
    },
    {
      "cell_type": "markdown",
      "metadata": {
        "id": "L45HR25Kxn2P"
      },
      "source": [
        "# Normalization of the Data"
      ]
    },
    {
      "cell_type": "code",
      "metadata": {
        "id": "QPQJTRfMw6w0",
        "colab": {
          "base_uri": "https://localhost:8080/"
        },
        "outputId": "9ab3980d-d56c-4d1c-efa4-0c2863c4ace5"
      },
      "source": [
        "from sklearn.preprocessing import MinMaxScaler, OneHotEncoder\n",
        "from sklearn.model_selection import train_test_split\n",
        "from collections import Counter\n",
        "\n",
        "pd.options.display.max_columns = 20\n",
        "\n",
        "#print(df.columns)\n",
        "#list_features = list(df.loc[:, 'open': 'OBV_'+str(indicator_range)].columns) # Gets the names of all the columns from MACD to RSI\n",
        "list_features = list(df.loc[:, ~df.columns.isin(['timestamps', 'labels'])].columns)\n",
        "print('Total number of features', len(list_features))\n",
        "print(\"Columns:\", list_features)\n",
        "\n",
        "\n",
        "# df.loc[:, 'MACD':'RSI'].values: -> Data used to create 'x_train' and 'x_test'\n",
        "# df['labels'].values: -> Data used to create 'y_train' and 'y_test'\n",
        "#print(df.loc[:, 'MACD':'OBV'])\n",
        "x_train, x_test, y_train, y_test = train_test_split(df.loc[:, 'open': 'OBV_'+str(indicator_range)].values, df['labels'].values, train_size=0.8, test_size=0.2, random_state=2, shuffle=True, stratify=df['labels'].values)\n",
        "\n",
        "if 0.7*x_train.shape[0] < 2500:\n",
        "    # If training dataset is small, it increases the percentage of training\n",
        "    train_split = 0.8\n",
        "else:\n",
        "    train_split = 0.7\n",
        "\n",
        "print('train_split =', train_split)\n",
        "x_train, x_cv, y_train, y_cv = train_test_split(x_train, y_train, train_size=train_split, test_size=1-train_split, \n",
        "                                                random_state=2, shuffle=True, stratify=y_train)\n",
        "\n",
        "mm_scaler = MinMaxScaler(feature_range=(0, 1)) # or StandardScaler?\n",
        "#print(x_train[0])\n",
        "x_train = mm_scaler.fit_transform(x_train)\n",
        "x_cv = mm_scaler.transform(x_cv)\n",
        "x_test = mm_scaler.transform(x_test)\n",
        "\n",
        "print(\"Shape of x, y train/cv/test {} {} {} {} {} {}\".format(x_train.shape, y_train.shape, x_cv.shape, y_cv.shape, x_test.shape, y_test.shape))\n"
      ],
      "execution_count": 14,
      "outputs": [
        {
          "output_type": "stream",
          "text": [
            "Total number of features 390\n",
            "Columns: ['open', 'high', 'low', 'close', 'volume', 'MACD_1', 'MACD_2', 'MACD_3', 'MACD_4', 'MACD_5', 'MACD_6', 'MACD_7', 'MACD_8', 'MACD_9', 'MACD_10', 'MACD_11', 'MACD_12', 'MACD_13', 'MACD_14', 'MACD_15', 'MACD_16', 'MACD_17', 'MACD_18', 'MACD_19', 'MACD_20', 'MACD_21', 'MACD_22', 'MACD_23', 'MACD_24', 'MACD_25', 'MACD_26', 'RSI_6', 'RSI_7', 'RSI_8', 'RSI_9', 'RSI_10', 'RSI_11', 'RSI_12', 'RSI_13', 'RSI_14', 'RSI_15', 'RSI_16', 'RSI_17', 'RSI_18', 'RSI_19', 'RSI_20', 'RSI_21', 'RSI_22', 'RSI_23', 'RSI_24', 'RSI_25', 'RSI_26', '%D_1', '%D_2', '%D_3', '%D_4', '%D_5', '%D_6', '%D_7', '%D_8', '%D_9', '%D_10', '%D_11', '%D_12', '%D_13', '%D_14', '%D_15', '%D_16', '%D_17', '%D_18', '%D_19', '%D_20', '%D_21', '%D_22', '%D_23', '%D_24', '%D_25', '%D_26', 'WR_1', 'WR_2', 'WR_3', 'WR_4', 'WR_5', 'WR_6', 'WR_7', 'WR_8', 'WR_9', 'WR_10', 'WR_11', 'WR_12', 'WR_13', 'WR_14', 'WR_15', 'WR_16', 'WR_17', 'WR_18', 'WR_19', 'WR_20', 'WR_21', 'WR_22', 'WR_23', 'WR_24', 'WR_25', 'WR_26', 'EMA_1', 'EMA_2', 'EMA_3', 'EMA_4', 'EMA_5', 'EMA_6', 'EMA_7', 'EMA_8', 'EMA_9', 'EMA_10', 'EMA_11', 'EMA_12', 'EMA_13', 'EMA_14', 'EMA_15', 'EMA_16', 'EMA_17', 'EMA_18', 'EMA_19', 'EMA_20', 'EMA_21', 'EMA_22', 'EMA_23', 'EMA_24', 'EMA_25', 'EMA_26', 'MFI_1', 'MFI_2', 'MFI_3', 'MFI_4', 'MFI_5', 'MFI_6', 'MFI_7', 'MFI_8', 'MFI_9', 'MFI_10', 'MFI_11', 'MFI_12', 'MFI_13', 'MFI_14', 'MFI_15', 'MFI_16', 'MFI_17', 'MFI_18', 'MFI_19', 'MFI_20', 'MFI_21', 'MFI_22', 'MFI_23', 'MFI_24', 'MFI_25', 'MFI_26', 'BB_1', 'BB_2', 'BB_3', 'BB_4', 'BB_5', 'BB_6', 'BB_7', 'BB_8', 'BB_9', 'BB_10', 'BB_11', 'BB_12', 'BB_13', 'BB_14', 'BB_15', 'BB_16', 'BB_17', 'BB_18', 'BB_19', 'BB_20', 'BB_21', 'BB_22', 'BB_23', 'BB_24', 'BB_25', 'BB_26', 'ATR_1', 'ATR_2', 'ATR_3', 'ATR_4', 'ATR_5', 'ATR_6', 'ATR_7', 'ATR_8', 'ATR_9', 'ATR_10', 'ATR_11', 'ATR_12', 'ATR_13', 'ATR_14', 'ATR_15', 'ATR_16', 'ATR_17', 'ATR_18', 'ATR_19', 'ATR_20', 'ATR_21', 'ATR_22', 'ATR_23', 'ATR_24', 'ATR_25', 'ATR_26', 'KC_1', 'KC_2', 'KC_3', 'KC_4', 'KC_5', 'KC_6', 'KC_7', 'KC_8', 'KC_9', 'KC_10', 'KC_11', 'KC_12', 'KC_13', 'KC_14', 'KC_15', 'KC_16', 'KC_17', 'KC_18', 'KC_19', 'KC_20', 'KC_21', 'KC_22', 'KC_23', 'KC_24', 'KC_25', 'KC_26', 'DEMA_1', 'DEMA_2', 'DEMA_3', 'DEMA_4', 'DEMA_5', 'DEMA_6', 'DEMA_7', 'DEMA_8', 'DEMA_9', 'DEMA_10', 'DEMA_11', 'DEMA_12', 'DEMA_13', 'DEMA_14', 'DEMA_15', 'DEMA_16', 'DEMA_17', 'DEMA_18', 'DEMA_19', 'DEMA_20', 'DEMA_21', 'DEMA_22', 'DEMA_23', 'DEMA_24', 'DEMA_25', 'DEMA_26', 'CCI_1', 'CCI_2', 'CCI_3', 'CCI_4', 'CCI_5', 'CCI_6', 'CCI_7', 'CCI_8', 'CCI_9', 'CCI_10', 'CCI_11', 'CCI_12', 'CCI_13', 'CCI_14', 'CCI_15', 'CCI_16', 'CCI_17', 'CCI_18', 'CCI_19', 'CCI_20', 'CCI_21', 'CCI_22', 'CCI_23', 'CCI_24', 'CCI_25', 'CCI_26', 'EVM_1', 'EVM_2', 'EVM_3', 'EVM_4', 'EVM_5', 'EVM_6', 'EVM_7', 'EVM_8', 'EVM_9', 'EVM_10', 'EVM_11', 'EVM_12', 'EVM_13', 'EVM_14', 'EVM_15', 'EVM_16', 'EVM_17', 'EVM_18', 'EVM_19', 'EVM_20', 'EVM_21', 'EVM_22', 'EVM_23', 'EVM_24', 'EVM_25', 'EVM_26', 'FI_1', 'FI_2', 'FI_3', 'FI_4', 'FI_5', 'FI_6', 'FI_7', 'FI_8', 'FI_9', 'FI_10', 'FI_11', 'FI_12', 'FI_13', 'FI_14', 'FI_15', 'FI_16', 'FI_17', 'FI_18', 'FI_19', 'FI_20', 'FI_21', 'FI_22', 'FI_23', 'FI_24', 'FI_25', 'FI_26', 'ROC_1', 'ROC_2', 'ROC_3', 'ROC_4', 'ROC_5', 'ROC_6', 'ROC_7', 'ROC_8', 'ROC_9', 'ROC_10', 'ROC_11', 'ROC_12', 'ROC_13', 'ROC_14', 'ROC_15', 'ROC_16', 'ROC_17', 'ROC_18', 'ROC_19', 'ROC_20', 'ROC_21', 'ROC_22', 'ROC_23', 'ROC_24', 'ROC_25', 'ROC_26', 'OBV_1', 'OBV_2', 'OBV_3', 'OBV_4', 'OBV_5', 'OBV_6', 'OBV_7', 'OBV_8', 'OBV_9', 'OBV_10', 'OBV_11', 'OBV_12', 'OBV_13', 'OBV_14', 'OBV_15', 'OBV_16', 'OBV_17', 'OBV_18', 'OBV_19', 'OBV_20', 'OBV_21', 'OBV_22', 'OBV_23', 'OBV_24', 'OBV_25', 'OBV_26']\n",
            "train_split = 0.8\n",
            "Shape of x, y train/cv/test (805, 391) (805,) (202, 391) (202,) (252, 391) (252,)\n"
          ],
          "name": "stdout"
        }
      ]
    },
    {
      "cell_type": "markdown",
      "metadata": {
        "id": "SkXhGMRnYEDY"
      },
      "source": [
        "# Feature Selection\n",
        "\n",
        "*3rd deviation from original paper*"
      ]
    },
    {
      "cell_type": "code",
      "metadata": {
        "id": "7hPK9W1cYG1g",
        "colab": {
          "base_uri": "https://localhost:8080/"
        },
        "outputId": "0ff13825-a96f-4ab6-bdf0-67f250922c6e"
      },
      "source": [
        "from operator import itemgetter\n",
        "from sklearn.feature_selection import SelectKBest, f_classif, mutual_info_classif\n",
        "\n",
        "num_features = 225  # should be a perfect square\n",
        "selection_method = 'anova'\n",
        "topk = 320 if selection_method == 'all' else num_features\n",
        "\n",
        "if selection_method == 'anova' or selection_method == 'all':\n",
        "    select_k_best = SelectKBest(f_classif, k=topk)\n",
        "    if selection_method != 'all':\n",
        "        x_train = select_k_best.fit_transform(x_train, y_train)\n",
        "        x_cv = select_k_best.transform(x_cv)\n",
        "        x_test = select_k_best.transform(x_test)\n",
        "    else:\n",
        "        select_k_best.fit(x_train, y_train)\n",
        "    \n",
        "    selected_features_anova = itemgetter(*select_k_best.get_support(indices=True))(list_features)\n",
        "    print(selected_features_anova)\n",
        "    print(select_k_best.get_support(indices=True))\n",
        "    print(\"****************************************\")\n",
        "\n",
        "if selection_method == 'mutual_info' or selection_method == 'all':\n",
        "    select_k_best = SelectKBest(mutual_info_classif, k=topk)\n",
        "    if selection_method != 'all':\n",
        "        x_train = select_k_best.fit_transform(x_train, y_train)\n",
        "        x_cv = select_k_best.transform(x_cv)\n",
        "        x_test = select_k_best.transform(x_test)\n",
        "    else:\n",
        "        select_k_best.fit(x_train, y_train)\n",
        "\n",
        "    selected_features_mic = itemgetter(*select_k_best.get_support(indices=True))(list_features)\n",
        "    print(len(selected_features_mic), selected_features_mic)\n",
        "    print(select_k_best.get_support(indices=True))\n",
        "\n",
        "if selection_method == 'all':\n",
        "    common = list(set(selected_features_anova).intersection(selected_features_mic))\n",
        "    print(\"common selected featues\", len(common), common)\n",
        "    if len(common) < num_features:\n",
        "        raise Exception('number of common features found {} < {} required features. Increase \"topk variable\"'.format(len(common), num_features))\n",
        "    feat_idx = []\n",
        "    for c in common:\n",
        "        feat_idx.append(list_features.index(c))\n",
        "    feat_idx = sorted(feat_idx[0:225])\n",
        "    print(feat_idx)  # x_train[:, feat_idx] will give you training data with desired features"
      ],
      "execution_count": 15,
      "outputs": [
        {
          "output_type": "stream",
          "text": [
            "('volume', 'MACD_1', 'MACD_8', 'MACD_9', 'MACD_10', 'MACD_11', 'MACD_12', 'MACD_13', 'MACD_14', 'MACD_15', 'MACD_16', 'MACD_17', 'MACD_18', 'MACD_19', 'MACD_20', 'MACD_21', 'MACD_22', 'MACD_23', 'MACD_24', 'MACD_25', 'MACD_26', 'RSI_6', 'RSI_7', 'RSI_8', 'RSI_9', 'RSI_10', 'RSI_11', 'RSI_12', 'RSI_13', 'RSI_14', 'RSI_15', 'RSI_16', 'RSI_17', 'RSI_18', 'RSI_19', 'RSI_20', 'RSI_21', 'RSI_22', 'RSI_23', 'RSI_24', 'RSI_25', 'RSI_26', '%D_1', '%D_2', '%D_3', '%D_4', '%D_5', '%D_6', '%D_7', '%D_8', '%D_9', '%D_10', '%D_11', '%D_12', '%D_13', '%D_14', '%D_15', '%D_16', '%D_17', '%D_18', '%D_19', '%D_20', '%D_21', '%D_22', '%D_23', '%D_24', '%D_25', '%D_26', 'WR_1', 'WR_2', 'WR_3', 'WR_4', 'WR_5', 'WR_6', 'WR_7', 'WR_8', 'WR_9', 'WR_10', 'WR_11', 'WR_12', 'WR_13', 'WR_14', 'WR_15', 'WR_16', 'WR_17', 'WR_18', 'WR_19', 'WR_20', 'WR_21', 'WR_22', 'WR_23', 'WR_24', 'WR_25', 'WR_26', 'EMA_1', 'MFI_2', 'MFI_3', 'MFI_4', 'MFI_5', 'MFI_6', 'MFI_7', 'MFI_8', 'MFI_9', 'MFI_10', 'MFI_11', 'MFI_12', 'MFI_13', 'MFI_14', 'MFI_15', 'MFI_16', 'MFI_17', 'MFI_18', 'MFI_19', 'MFI_20', 'MFI_21', 'MFI_22', 'MFI_23', 'MFI_24', 'MFI_25', 'MFI_26', 'BB_1', 'CCI_2', 'CCI_3', 'CCI_4', 'CCI_5', 'CCI_6', 'CCI_7', 'CCI_8', 'CCI_9', 'CCI_10', 'CCI_11', 'CCI_12', 'CCI_13', 'CCI_14', 'CCI_15', 'CCI_16', 'CCI_17', 'CCI_18', 'CCI_19', 'CCI_20', 'CCI_21', 'CCI_22', 'CCI_23', 'CCI_24', 'CCI_25', 'CCI_26', 'EVM_1', 'EVM_2', 'EVM_3', 'EVM_4', 'EVM_5', 'EVM_6', 'EVM_7', 'EVM_8', 'EVM_9', 'EVM_10', 'EVM_11', 'EVM_12', 'EVM_13', 'EVM_14', 'EVM_15', 'EVM_16', 'EVM_17', 'EVM_18', 'EVM_19', 'EVM_20', 'EVM_21', 'EVM_22', 'EVM_23', 'EVM_24', 'EVM_25', 'EVM_26', 'FI_1', 'FI_2', 'FI_3', 'FI_4', 'FI_5', 'FI_6', 'FI_7', 'FI_8', 'FI_9', 'FI_10', 'FI_11', 'FI_12', 'FI_13', 'FI_14', 'FI_15', 'FI_16', 'FI_17', 'FI_18', 'FI_19', 'FI_20', 'FI_21', 'FI_22', 'FI_23', 'FI_24', 'FI_25', 'FI_26', 'ROC_1', 'ROC_2', 'ROC_3', 'ROC_4', 'ROC_5', 'ROC_6', 'ROC_7', 'ROC_8', 'ROC_9', 'ROC_10', 'ROC_11', 'ROC_12', 'ROC_13', 'ROC_14', 'ROC_15', 'ROC_16', 'ROC_17', 'ROC_18', 'ROC_19', 'ROC_20', 'ROC_21', 'ROC_22', 'ROC_23', 'ROC_24', 'ROC_25', 'ROC_26', 'OBV_1')\n",
            "[  4   5  12  13  14  15  16  17  18  19  20  21  22  23  24  25  26  27\n",
            "  28  29  30  31  32  33  34  35  36  37  38  39  40  41  42  43  44  45\n",
            "  46  47  48  49  50  51  52  53  54  55  56  57  58  59  60  61  62  63\n",
            "  64  65  66  67  68  69  70  71  72  73  74  75  76  77  78  79  80  81\n",
            "  82  83  84  85  86  87  88  89  90  91  92  93  94  95  96  97  98  99\n",
            " 100 101 102 103 104 131 132 133 134 135 136 137 138 139 140 141 142 143\n",
            " 144 145 146 147 148 149 150 151 152 153 154 155 156 261 262 263 264 265\n",
            " 266 267 268 269 270 271 272 273 274 275 276 277 278 279 280 281 282 283\n",
            " 284 285 286 287 288 289 290 291 292 293 294 295 296 297 298 299 300 301\n",
            " 302 303 304 305 306 307 308 309 310 311 312 313 314 315 316 317 318 319\n",
            " 320 321 322 323 324 325 326 327 328 329 330 331 332 333 334 335 336 337\n",
            " 338 339 340 341 342 343 344 345 346 347 348 349 350 351 352 353 354 355\n",
            " 356 357 358 359 360 361 362 363 364]\n",
            "****************************************\n"
          ],
          "name": "stdout"
        },
        {
          "output_type": "stream",
          "text": [
            "/usr/local/lib/python3.7/dist-packages/sklearn/feature_selection/_univariate_selection.py:115: RuntimeWarning: divide by zero encountered in true_divide\n",
            "  f = msb / msw\n"
          ],
          "name": "stderr"
        }
      ]
    },
    {
      "cell_type": "markdown",
      "metadata": {
        "id": "ucy3bKUvl59A"
      },
      "source": [
        "# Method: *reshape_as_image*"
      ]
    },
    {
      "cell_type": "code",
      "metadata": {
        "id": "K445BjAhl4vN"
      },
      "source": [
        "def reshape_as_image(x, img_width, img_height):\n",
        "    x_temp = np.zeros((len(x), img_height, img_width))\n",
        "    for i in range(x.shape[0]):\n",
        "        # print(type(x), type(x_temp), x.shape)\n",
        "        x_temp[i] = np.reshape(x[i], (img_height, img_width))\n",
        "\n",
        "    return x_temp"
      ],
      "execution_count": 16,
      "outputs": []
    },
    {
      "cell_type": "markdown",
      "metadata": {
        "id": "nuWrutaAZbue"
      },
      "source": [
        "# Reshaping the Data as an Image"
      ]
    },
    {
      "cell_type": "code",
      "metadata": {
        "id": "zjAWilNuZk8d",
        "colab": {
          "base_uri": "https://localhost:8080/"
        },
        "outputId": "a9509022-80eb-4b60-970b-6f59248b2728"
      },
      "source": [
        "dim = int(np.sqrt(num_features))\n",
        "x_train = reshape_as_image(x_train, dim, dim)\n",
        "x_cv = reshape_as_image(x_cv, dim, dim)\n",
        "x_test = reshape_as_image(x_test, dim, dim)\n",
        "# adding a 1-dim for channels (3)\n",
        "x_train = np.stack((x_train,) * 3, axis=-1)\n",
        "x_test = np.stack((x_test,) * 3, axis=-1)\n",
        "x_cv = np.stack((x_cv,) * 3, axis=-1)\n",
        "print(\"final shape of x, y train/test {} {} {} {}\".format(x_train.shape, y_train.shape, x_test.shape, y_test.shape))\n",
        "print(\"x_cv shape:\", x_cv.shape)"
      ],
      "execution_count": 17,
      "outputs": [
        {
          "output_type": "stream",
          "text": [
            "final shape of x, y train/test (805, 15, 15, 3) (805,) (252, 15, 15, 3) (252,)\n",
            "x_cv shape: (202, 15, 15, 3)\n"
          ],
          "name": "stdout"
        }
      ]
    },
    {
      "cell_type": "code",
      "metadata": {
        "id": "VlMh9syXpFen",
        "colab": {
          "base_uri": "https://localhost:8080/",
          "height": 860
        },
        "outputId": "d08cb5ca-4cb2-48b1-9cdb-a97e6f090551"
      },
      "source": [
        "fig = plt.figure(figsize=(15, 15))\n",
        "columns = rows = 3\n",
        "for i in range(1, columns*rows +1):\n",
        "    index = np.random.randint(len(x_train))\n",
        "    img = x_train[index]\n",
        "    fig.add_subplot(rows, columns, i)\n",
        "    plt.axis(\"off\")\n",
        "    plt.title('image_'+str(index)+'_class_'+str(np.argmax(y_train[index])), fontsize=10)\n",
        "    plt.subplots_adjust(wspace=0.2, hspace=0.2)\n",
        "    plt.imshow(img)\n",
        "plt.show()"
      ],
      "execution_count": 18,
      "outputs": [
        {
          "output_type": "display_data",
          "data": {
            "image/png": "[encoded data removed]",
            "text/plain": [
              "<Figure size 1080x1080 with 9 Axes>"
            ]
          },
          "metadata": {
            "tags": []
          }
        }
      ]
    },
    {
      "cell_type": "markdown",
      "metadata": {
        "id": "rrjAwx_0bjko"
      },
      "source": [
        "# Current Class Imbalance\n",
        "\n",
        "Sell = 0, Buy = 1, Hold = 2"
      ]
    },
    {
      "cell_type": "code",
      "metadata": {
        "id": "X9Cc9hzSaJ0W",
        "colab": {
          "base_uri": "https://localhost:8080/"
        },
        "outputId": "3be801aa-9929-4c44-a785-1d06ca2b264f"
      },
      "source": [
        "class_labels, class_count = np.unique(y_train, return_counts=True)\n",
        "print(\"percentage of class 0 = {:.3f}%, class 1 = {:.3f}%, class 2 = {:.3f}%\".format(class_count[0]/len(y_train)*100, class_count[1]/len(y_train)*100, class_count[2]/len(y_train)*100))"
      ],
      "execution_count": 19,
      "outputs": [
        {
          "output_type": "stream",
          "text": [
            "percentage of class 0 = 6.708%, class 1 = 5.466%, class 2 = 87.826%\n"
          ],
          "name": "stdout"
        }
      ]
    },
    {
      "cell_type": "code",
      "metadata": {
        "id": "iAW2HloHFSeV",
        "outputId": "cebe2631-2dc0-45c1-90d5-38b0beba52b8",
        "colab": {
          "base_uri": "https://localhost:8080/"
        }
      },
      "source": [
        "print(x_train[0].shape[0])\n",
        "print(x_train[0].shape[1])\n",
        "print(x_train[0].shape[2])\n",
        "print(x_train.shape)"
      ],
      "execution_count": 20,
      "outputs": [
        {
          "output_type": "stream",
          "text": [
            "15\n",
            "15\n",
            "3\n",
            "(805, 15, 15, 3)\n"
          ],
          "name": "stdout"
        }
      ]
    },
    {
      "cell_type": "markdown",
      "metadata": {
        "id": "Kj-KwzWUzqIZ"
      },
      "source": [
        "# Building Convolutional Neural Network"
      ]
    },
    {
      "cell_type": "code",
      "metadata": {
        "id": "Ra-ldu8Pzpvo"
      },
      "source": [
        "import numpy as np\n",
        "from tensorflow import keras\n",
        "from tensorflow.keras.models import Sequential\n",
        "from tensorflow.keras.layers import Activation, Dense, Flatten, BatchNormalization, Conv2D, MaxPool2D, Dropout\n",
        "from tensorflow.keras.optimizers import Adam\n",
        "from tensorflow.keras.metrics import categorical_crossentropy\n",
        "from tensorflow.keras import regularizers\n",
        "\n",
        "model = Sequential([\n",
        "    Conv2D(filters=32, \n",
        "           kernel_size=3, \n",
        "           strides=1, \n",
        "           kernel_regularizer=regularizers.l2(0.0), \n",
        "           padding='same', \n",
        "           activation='relu', \n",
        "           use_bias=True,\n",
        "           kernel_initializer='glorot_uniform',\n",
        "           input_shape=(x_train[0].shape[0], x_train[0].shape[1], x_train[0].shape[2])),\n",
        "    Dropout(rate=0.2),\n",
        "    Conv2D(filters=64, \n",
        "           kernel_size=3, \n",
        "           strides=2, \n",
        "           kernel_regularizer=regularizers.l2(0.0), \n",
        "           padding='same', \n",
        "           activation='relu', \n",
        "           use_bias=True, \n",
        "           kernel_initializer='glorot_uniform'),\n",
        "    MaxPool2D(pool_size=2),\n",
        "    Dropout(0.3),\n",
        "    Flatten(),\n",
        "    Dense(units=128, \n",
        "          activation='relu'),\n",
        "    Dropout(rate=0.3),\n",
        "    Dense(units=3, activation='softmax')\n",
        "])"
      ],
      "execution_count": 21,
      "outputs": []
    },
    {
      "cell_type": "code",
      "metadata": {
        "id": "GD5tyLw98KYu"
      },
      "source": [
        "from tensorflow.keras import backend as K\n",
        "\n",
        "def f1_metric(y_true, y_pred):\n",
        "    \"\"\"\n",
        "    this calculates precision & recall \n",
        "    \"\"\"\n",
        "\n",
        "    def recall(y_true, y_pred):\n",
        "        true_positives = K.sum(K.round(K.clip(y_true * y_pred, 0, 1)))  # mistake: y_pred of 0.3 is also considered 1\n",
        "        possible_positives = K.sum(K.round(K.clip(y_true, 0, 1)))\n",
        "        recall = true_positives / (possible_positives + K.epsilon())\n",
        "        return recall\n",
        "\n",
        "    def precision(y_true, y_pred):\n",
        "        true_positives = K.sum(K.round(K.clip(y_true * y_pred, 0, 1)))\n",
        "        predicted_positives = K.sum(K.round(K.clip(y_pred, 0, 1)))\n",
        "        precision = true_positives / (predicted_positives + K.epsilon())\n",
        "        return precision\n",
        "\n",
        "    precision = precision(y_true, y_pred)\n",
        "    recall = recall(y_true, y_pred)\n",
        "    # y_true_class = tf.math.argmax(y_true, axis=1, output_type=tf.dtypes.int32)\n",
        "    # y_pred_class = tf.math.argmax(y_pred, axis=1, output_type=tf.dtypes.int32)\n",
        "    # conf_mat = tf.math.confusion_matrix(y_true_class, y_pred_class)\n",
        "    # tf.Print(conf_mat, [conf_mat], \"confusion_matrix\")\n",
        "\n",
        "    return 2 * ((precision * recall) / (precision + recall + K.epsilon()))"
      ],
      "execution_count": 22,
      "outputs": []
    },
    {
      "cell_type": "markdown",
      "metadata": {
        "id": "6brdUfyqjLY9"
      },
      "source": [
        "# Choosing 'Sample Weights' for the model to pay more attention to"
      ]
    },
    {
      "cell_type": "code",
      "metadata": {
        "id": "BugIcFG5jE85",
        "colab": {
          "base_uri": "https://localhost:8080/"
        },
        "outputId": "a122d513-3428-4e0d-e8f2-2892fbc5fa15"
      },
      "source": [
        "from sklearn.utils.class_weight import compute_class_weight\n",
        "\n",
        "def get_sample_weights(y):\n",
        "        \"\"\"\n",
        "        calculate the sample weights based on class weights. Used for models with\n",
        "        imbalanced data and one hot encoding prediction.\n",
        "        params:\n",
        "            y: class labels as integers\n",
        "        \"\"\"\n",
        "\n",
        "        y = y.astype(int)  # compute_class_weight needs int labels\n",
        "        class_weights = compute_class_weight('balanced', np.unique(y), y)\n",
        "\n",
        "        print(\"real class weights are {}\".format(class_weights), np.unique(y))\n",
        "        print(\"value_counts\", np.unique(y, return_counts=True))\n",
        "        sample_weights = y.copy().astype(float)\n",
        "        for i in np.unique(y):\n",
        "            sample_weights[sample_weights == i] = class_weights[i]  # if i == 2 else 0.8 * class_weights[i]\n",
        "            # sample_weights = np.where(sample_weights == i, class_weights[int(i)], y_)\n",
        "\n",
        "        return sample_weights\n",
        "\n",
        "sample_weights = get_sample_weights(y_train)\n",
        "print(\"Test sample_weights\")\n",
        "rand_idx = np.random.randint(0, len(y_train), 30)\n",
        "print(y_train[rand_idx])\n",
        "print(sample_weights[rand_idx])\n",
        "print(sample_weights.shape)"
      ],
      "execution_count": 23,
      "outputs": [
        {
          "output_type": "stream",
          "text": [
            "real class weights are [4.9691358  6.09848485 0.37953795] [0 1 2]\n",
            "value_counts (array([0, 1, 2]), array([ 54,  44, 707]))\n",
            "Test sample_weights\n",
            "[2. 2. 2. 0. 2. 2. 2. 2. 2. 2. 2. 2. 2. 2. 2. 2. 0. 2. 2. 2. 2. 2. 2. 2.\n",
            " 2. 2. 2. 2. 2. 2.]\n",
            "[0.37953795 0.37953795 0.37953795 4.9691358  0.37953795 0.37953795\n",
            " 0.37953795 0.37953795 0.37953795 0.37953795 0.37953795 0.37953795\n",
            " 0.37953795 0.37953795 0.37953795 0.37953795 4.9691358  0.37953795\n",
            " 0.37953795 0.37953795 0.37953795 0.37953795 0.37953795 0.37953795\n",
            " 0.37953795 0.37953795 0.37953795 0.37953795 0.37953795 0.37953795]\n",
            "(805,)\n"
          ],
          "name": "stdout"
        }
      ]
    },
    {
      "cell_type": "markdown",
      "metadata": {
        "id": "1OICgNPl85nt"
      },
      "source": [
        "# Compiling Model\n",
        "\n",
        "\n",
        "\n",
        "*   *Optimizer:* Adam\n",
        "*   *Loss:* Sparse Categorical Crossentropy\n",
        "\n",
        "<font color=\"red\"> TODO: Sparse Categorical Crossentropy vs Categorical_Entropy </font>\n",
        "\n"
      ]
    },
    {
      "cell_type": "code",
      "metadata": {
        "id": "Etp5-cyi7Xhk"
      },
      "source": [
        "from tensorflow.keras import optimizers\n",
        "\n",
        "optimizer_model = 'adam'\n",
        "learning_rate = 0.001\n",
        "\n",
        "if optimizer_model == 'rmsprop':\n",
        "    optimizer = optimizers.RMSprop(lr=learning_rate)\n",
        "elif optimizer_model == 'sgd':\n",
        "    optimizer = optimizers.SGD(lr=learning_rate, decay=1e-6, momentum=0.9, nesterov=True)\n",
        "elif optimizer_model == 'adam':\n",
        "    optimizer = optimizers.Adam(learning_rate=learning_rate, beta_1=0.9, beta_2=0.999, amsgrad=False)\n",
        "\n",
        "model.compile(loss='SparseCategoricalCrossentropy', optimizer=optimizer, metrics=['accuracy', f1_metric])"
      ],
      "execution_count": 24,
      "outputs": []
    },
    {
      "cell_type": "code",
      "metadata": {
        "id": "avQfsGLugZO3"
      },
      "source": [
        "from tensorflow.keras.callbacks import ModelCheckpoint, EarlyStopping, ReduceLROnPlateau, CSVLogger, Callback\n",
        "import os\n",
        "\n",
        "best_model_path = os.path.join('.', 'best_model_keras')\n",
        "\n",
        "es = EarlyStopping(\n",
        "    monitor='val_loss', \n",
        "    mode='min', \n",
        "    verbose=1, \n",
        "    patience=100, \n",
        "    min_delta=0.0001\n",
        "    )\n",
        "\n",
        "rlp = ReduceLROnPlateau(\n",
        "    monitor='val_loss', \n",
        "    factor=0.02, \n",
        "    patience=20, \n",
        "    verbose=1, \n",
        "    mode='min', \n",
        "    min_delta=0.001, \n",
        "    cooldown=1, \n",
        "    min_lr=0.001\n",
        "    )\n",
        "\n",
        "mcp = ModelCheckpoint(\n",
        "    best_model_path, \n",
        "    monitor='val_f1_metric', \n",
        "    verbose=1, \n",
        "    save_best_only=True, \n",
        "    save_weights_only=False, \n",
        "    mode='max', \n",
        "    save_freq=1\n",
        "    )"
      ],
      "execution_count": 25,
      "outputs": []
    },
    {
      "cell_type": "code",
      "metadata": {
        "id": "-GuiJO-oiQRx",
        "colab": {
          "base_uri": "https://localhost:8080/"
        },
        "outputId": "908fbd18-2c5b-4bf4-db8c-40e7774a2c80"
      },
      "source": [
        "%%time\n",
        "\n",
        "history = model.fit(\n",
        "    x_train, \n",
        "    y_train, \n",
        "    epochs=30, \n",
        "    verbose=1, \n",
        "    batch_size=64, \n",
        "    shuffle=True, \n",
        "    validation_data=(x_cv, y_cv), \n",
        "    callbacks=[mcp, rlp, es], \n",
        "    sample_weight=sample_weights\n",
        "    )"
      ],
      "execution_count": 26,
      "outputs": [
        {
          "output_type": "stream",
          "text": [
            "Epoch 1/30\n",
            " 1/13 [=>............................] - ETA: 11s - loss: 1.2426 - accuracy: 0.0469 - f1_metric: 3.5072WARNING:tensorflow:Can save best model only with val_f1_metric available, skipping.\n",
            "WARNING:tensorflow:Can save best model only with val_f1_metric available, skipping.\n",
            " 3/13 [=====>........................] - ETA: 0s - loss: 1.1780 - accuracy: 0.2066 - f1_metric: 4.0141 WARNING:tensorflow:Can save best model only with val_f1_metric available, skipping.\n",
            "WARNING:tensorflow:Can save best model only with val_f1_metric available, skipping.\n",
            " 5/13 [==========>...................] - ETA: 0s - loss: 1.1922 - accuracy: 0.3297 - f1_metric: 4.0290WARNING:tensorflow:Can save best model only with val_f1_metric available, skipping.\n",
            "WARNING:tensorflow:Can save best model only with val_f1_metric available, skipping.\n",
            " 7/13 [===============>..............] - ETA: 0s - loss: 1.1790 - accuracy: 0.3962 - f1_metric: 4.0991WARNING:tensorflow:Can save best model only with val_f1_metric available, skipping.\n",
            "WARNING:tensorflow:Can save best model only with val_f1_metric available, skipping.\n",
            " 9/13 [===================>..........] - ETA: 0s - loss: 1.1623 - accuracy: 0.4266 - f1_metric: 4.1775WARNING:tensorflow:Can save best model only with val_f1_metric available, skipping.\n",
            "WARNING:tensorflow:Can save best model only with val_f1_metric available, skipping.\n",
            "11/13 [========================>.....] - ETA: 0s - loss: 1.1503 - accuracy: 0.4403 - f1_metric: 4.2343WARNING:tensorflow:Can save best model only with val_f1_metric available, skipping.\n",
            "WARNING:tensorflow:Can save best model only with val_f1_metric available, skipping.\n",
            "13/13 [==============================] - ETA: 0s - loss: 1.1411 - accuracy: 0.4438 - f1_metric: 4.2655WARNING:tensorflow:Can save best model only with val_f1_metric available, skipping.\n",
            "13/13 [==============================] - 2s 88ms/step - loss: 1.1377 - accuracy: 0.4447 - f1_metric: 4.2752 - val_loss: 1.1180 - val_accuracy: 0.0743 - val_f1_metric: 3.7009\n",
            "Epoch 2/30\n",
            " 1/13 [=>............................] - ETA: 0s - loss: 1.1570 - accuracy: 0.0938 - f1_metric: 3.1750WARNING:tensorflow:Can save best model only with val_f1_metric available, skipping.\n",
            "WARNING:tensorflow:Can save best model only with val_f1_metric available, skipping.\n",
            " 3/13 [=====>........................] - ETA: 0s - loss: 1.2368 - accuracy: 0.1120 - f1_metric: 3.0897WARNING:tensorflow:Can save best model only with val_f1_metric available, skipping.\n",
            "WARNING:tensorflow:Can save best model only with val_f1_metric available, skipping.\n",
            " 5/13 [==========>...................] - ETA: 0s - loss: 1.2026 - accuracy: 0.1264 - f1_metric: 3.1883WARNING:tensorflow:Can save best model only with val_f1_metric available, skipping.\n",
            "WARNING:tensorflow:Can save best model only with val_f1_metric available, skipping.\n",
            " 7/13 [===============>..............] - ETA: 0s - loss: 1.1691 - accuracy: 0.1421 - f1_metric: 3.3030WARNING:tensorflow:Can save best model only with val_f1_metric available, skipping.\n",
            "WARNING:tensorflow:Can save best model only with val_f1_metric available, skipping.\n",
            " 9/13 [===================>..........] - ETA: 0s - loss: 1.1351 - accuracy: 0.1623 - f1_metric: 3.4189WARNING:tensorflow:Can save best model only with val_f1_metric available, skipping.\n",
            "WARNING:tensorflow:Can save best model only with val_f1_metric available, skipping.\n",
            "11/13 [========================>.....] - ETA: 0s - loss: 1.1170 - accuracy: 0.1887 - f1_metric: 3.5117WARNING:tensorflow:Can save best model only with val_f1_metric available, skipping.\n",
            "WARNING:tensorflow:Can save best model only with val_f1_metric available, skipping.\n",
            "13/13 [==============================] - ETA: 0s - loss: 1.1058 - accuracy: 0.2140 - f1_metric: 3.5879WARNING:tensorflow:Can save best model only with val_f1_metric available, skipping.\n",
            "13/13 [==============================] - 1s 43ms/step - loss: 1.1015 - accuracy: 0.2246 - f1_metric: 3.6173 - val_loss: 0.9918 - val_accuracy: 0.6287 - val_f1_metric: 4.8575\n",
            "Epoch 3/30\n",
            " 1/13 [=>............................] - ETA: 0s - loss: 1.0182 - accuracy: 0.5625 - f1_metric: 4.4000WARNING:tensorflow:Can save best model only with val_f1_metric available, skipping.\n",
            "WARNING:tensorflow:Can save best model only with val_f1_metric available, skipping.\n",
            " 3/13 [=====>........................] - ETA: 0s - loss: 1.0930 - accuracy: 0.5738 - f1_metric: 4.3060WARNING:tensorflow:Can save best model only with val_f1_metric available, skipping.\n",
            "WARNING:tensorflow:Can save best model only with val_f1_metric available, skipping.\n",
            " 5/13 [==========>...................] - ETA: 0s - loss: 1.1122 - accuracy: 0.5758 - f1_metric: 4.3424WARNING:tensorflow:Can save best model only with val_f1_metric available, skipping.\n",
            "WARNING:tensorflow:Can save best model only with val_f1_metric available, skipping.\n",
            " 7/13 [===============>..............] - ETA: 0s - loss: 1.1034 - accuracy: 0.5613 - f1_metric: 4.3546WARNING:tensorflow:Can save best model only with val_f1_metric available, skipping.\n",
            "WARNING:tensorflow:Can save best model only with val_f1_metric available, skipping.\n",
            " 9/13 [===================>..........] - ETA: 0s - loss: 1.0976 - accuracy: 0.5402 - f1_metric: 4.3224WARNING:tensorflow:Can save best model only with val_f1_metric available, skipping.\n",
            "WARNING:tensorflow:Can save best model only with val_f1_metric available, skipping.\n",
            "11/13 [========================>.....] - ETA: 0s - loss: 1.0804 - accuracy: 0.5148 - f1_metric: 4.2571WARNING:tensorflow:Can save best model only with val_f1_metric available, skipping.\n",
            "WARNING:tensorflow:Can save best model only with val_f1_metric available, skipping.\n",
            "13/13 [==============================] - ETA: 0s - loss: 1.0646 - accuracy: 0.4921 - f1_metric: 4.1850WARNING:tensorflow:Can save best model only with val_f1_metric available, skipping.\n",
            "13/13 [==============================] - 1s 45ms/step - loss: 1.0585 - accuracy: 0.4832 - f1_metric: 4.1539 - val_loss: 0.9365 - val_accuracy: 0.3663 - val_f1_metric: 3.8507\n",
            "Epoch 4/30\n",
            " 1/13 [=>............................] - ETA: 0s - loss: 0.7434 - accuracy: 0.5156 - f1_metric: 3.0633WARNING:tensorflow:Can save best model only with val_f1_metric available, skipping.\n",
            "WARNING:tensorflow:Can save best model only with val_f1_metric available, skipping.\n",
            " 3/13 [=====>........................] - ETA: 0s - loss: 0.8511 - accuracy: 0.5781 - f1_metric: 2.8667WARNING:tensorflow:Can save best model only with val_f1_metric available, skipping.\n",
            "WARNING:tensorflow:Can save best model only with val_f1_metric available, skipping.\n",
            " 5/13 [==========>...................] - ETA: 0s - loss: 0.8409 - accuracy: 0.6108 - f1_metric: 2.7462WARNING:tensorflow:Can save best model only with val_f1_metric available, skipping.\n",
            "WARNING:tensorflow:Can save best model only with val_f1_metric available, skipping.\n",
            " 7/13 [===============>..............] - ETA: 0s - loss: 0.8358 - accuracy: 0.6367 - f1_metric: 2.6260WARNING:tensorflow:Can save best model only with val_f1_metric available, skipping.\n",
            "WARNING:tensorflow:Can save best model only with val_f1_metric available, skipping.\n",
            " 9/13 [===================>..........] - ETA: 0s - loss: 0.8430 - accuracy: 0.6526 - f1_metric: 2.5347WARNING:tensorflow:Can save best model only with val_f1_metric available, skipping.\n",
            "WARNING:tensorflow:Can save best model only with val_f1_metric available, skipping.\n",
            "11/13 [========================>.....] - ETA: 0s - loss: 0.8541 - accuracy: 0.6593 - f1_metric: 2.4846WARNING:tensorflow:Can save best model only with val_f1_metric available, skipping.\n",
            "WARNING:tensorflow:Can save best model only with val_f1_metric available, skipping.\n",
            "13/13 [==============================] - ETA: 0s - loss: 0.8631 - accuracy: 0.6586 - f1_metric: 2.4623WARNING:tensorflow:Can save best model only with val_f1_metric available, skipping.\n",
            "13/13 [==============================] - 1s 46ms/step - loss: 0.8665 - accuracy: 0.6579 - f1_metric: 2.4547 - val_loss: 1.0518 - val_accuracy: 0.2129 - val_f1_metric: 2.6911\n",
            "Epoch 5/30\n",
            " 1/13 [=>............................] - ETA: 0s - loss: 1.0484 - accuracy: 0.2344 - f1_metric: 2.3297WARNING:tensorflow:Can save best model only with val_f1_metric available, skipping.\n",
            "WARNING:tensorflow:Can save best model only with val_f1_metric available, skipping.\n",
            " 3/13 [=====>........................] - ETA: 0s - loss: 0.9530 - accuracy: 0.1997 - f1_metric: 2.2825WARNING:tensorflow:Can save best model only with val_f1_metric available, skipping.\n",
            "WARNING:tensorflow:Can save best model only with val_f1_metric available, skipping.\n",
            " 5/13 [==========>...................] - ETA: 0s - loss: 0.9088 - accuracy: 0.1899 - f1_metric: 2.3232WARNING:tensorflow:Can save best model only with val_f1_metric available, skipping.\n",
            "WARNING:tensorflow:Can save best model only with val_f1_metric available, skipping.\n",
            " 7/13 [===============>..............] - ETA: 0s - loss: 0.8744 - accuracy: 0.1925 - f1_metric: 2.3786WARNING:tensorflow:Can save best model only with val_f1_metric available, skipping.\n",
            "WARNING:tensorflow:Can save best model only with val_f1_metric available, skipping.\n",
            " 9/13 [===================>..........] - ETA: 0s - loss: 0.8466 - accuracy: 0.2063 - f1_metric: 2.4301WARNING:tensorflow:Can save best model only with val_f1_metric available, skipping.\n",
            "WARNING:tensorflow:Can save best model only with val_f1_metric available, skipping.\n",
            "11/13 [========================>.....] - ETA: 0s - loss: 0.8290 - accuracy: 0.2295 - f1_metric: 2.4480WARNING:tensorflow:Can save best model only with val_f1_metric available, skipping.\n",
            "WARNING:tensorflow:Can save best model only with val_f1_metric available, skipping.\n",
            "13/13 [==============================] - ETA: 0s - loss: 0.8173 - accuracy: 0.2539 - f1_metric: 2.4408WARNING:tensorflow:Can save best model only with val_f1_metric available, skipping.\n",
            "13/13 [==============================] - 1s 45ms/step - loss: 0.8138 - accuracy: 0.2642 - f1_metric: 2.4355 - val_loss: 0.6196 - val_accuracy: 0.7921 - val_f1_metric: 1.6894\n",
            "Epoch 6/30\n",
            " 1/13 [=>............................] - ETA: 0s - loss: 0.4796 - accuracy: 0.7344 - f1_metric: 1.7265WARNING:tensorflow:Can save best model only with val_f1_metric available, skipping.\n",
            "WARNING:tensorflow:Can save best model only with val_f1_metric available, skipping.\n",
            " 3/13 [=====>........................] - ETA: 0s - loss: 0.5725 - accuracy: 0.7604 - f1_metric: 1.7573WARNING:tensorflow:Can save best model only with val_f1_metric available, skipping.\n",
            "WARNING:tensorflow:Can save best model only with val_f1_metric available, skipping.\n",
            " 5/13 [==========>...................] - ETA: 0s - loss: 0.5980 - accuracy: 0.7570 - f1_metric: 1.7482WARNING:tensorflow:Can save best model only with val_f1_metric available, skipping.\n",
            "WARNING:tensorflow:Can save best model only with val_f1_metric available, skipping.\n",
            " 7/13 [===============>..............] - ETA: 0s - loss: 0.6053 - accuracy: 0.7470 - f1_metric: 1.7433WARNING:tensorflow:Can save best model only with val_f1_metric available, skipping.\n",
            "WARNING:tensorflow:Can save best model only with val_f1_metric available, skipping.\n",
            " 9/13 [===================>..........] - ETA: 0s - loss: 0.6066 - accuracy: 0.7375 - f1_metric: 1.7443WARNING:tensorflow:Can save best model only with val_f1_metric available, skipping.\n",
            "WARNING:tensorflow:Can save best model only with val_f1_metric available, skipping.\n",
            "11/13 [========================>.....] - ETA: 0s - loss: 0.6048 - accuracy: 0.7308 - f1_metric: 1.7405WARNING:tensorflow:Can save best model only with val_f1_metric available, skipping.\n",
            "WARNING:tensorflow:Can save best model only with val_f1_metric available, skipping.\n",
            "13/13 [==============================] - ETA: 0s - loss: 0.6016 - accuracy: 0.7283 - f1_metric: 1.7321WARNING:tensorflow:Can save best model only with val_f1_metric available, skipping.\n",
            "13/13 [==============================] - 1s 44ms/step - loss: 0.6004 - accuracy: 0.7275 - f1_metric: 1.7278 - val_loss: 0.4319 - val_accuracy: 0.8812 - val_f1_metric: 1.3420\n",
            "Epoch 7/30\n",
            " 1/13 [=>............................] - ETA: 0s - loss: 0.4458 - accuracy: 0.7969 - f1_metric: 1.3333WARNING:tensorflow:Can save best model only with val_f1_metric available, skipping.\n",
            "WARNING:tensorflow:Can save best model only with val_f1_metric available, skipping.\n",
            " 3/13 [=====>........................] - ETA: 0s - loss: 0.4157 - accuracy: 0.8056 - f1_metric: 1.3674WARNING:tensorflow:Can save best model only with val_f1_metric available, skipping.\n",
            "WARNING:tensorflow:Can save best model only with val_f1_metric available, skipping.\n",
            " 5/13 [==========>...................] - ETA: 0s - loss: 0.4488 - accuracy: 0.8177 - f1_metric: 1.3725WARNING:tensorflow:Can save best model only with val_f1_metric available, skipping.\n",
            "WARNING:tensorflow:Can save best model only with val_f1_metric available, skipping.\n",
            " 7/13 [===============>..............] - ETA: 0s - loss: 0.4647 - accuracy: 0.8263 - f1_metric: 1.3667WARNING:tensorflow:Can save best model only with val_f1_metric available, skipping.\n",
            "WARNING:tensorflow:Can save best model only with val_f1_metric available, skipping.\n",
            " 9/13 [===================>..........] - ETA: 0s - loss: 0.4625 - accuracy: 0.8312 - f1_metric: 1.3586WARNING:tensorflow:Can save best model only with val_f1_metric available, skipping.\n",
            "WARNING:tensorflow:Can save best model only with val_f1_metric available, skipping.\n",
            "11/13 [========================>.....] - ETA: 0s - loss: 0.4610 - accuracy: 0.8333 - f1_metric: 1.3501WARNING:tensorflow:Can save best model only with val_f1_metric available, skipping.\n",
            "WARNING:tensorflow:Can save best model only with val_f1_metric available, skipping.\n",
            "13/13 [==============================] - ETA: 0s - loss: 0.4575 - accuracy: 0.8336 - f1_metric: 1.3453WARNING:tensorflow:Can save best model only with val_f1_metric available, skipping.\n",
            "13/13 [==============================] - 1s 45ms/step - loss: 0.4558 - accuracy: 0.8336 - f1_metric: 1.3434 - val_loss: 0.4047 - val_accuracy: 0.8168 - val_f1_metric: 1.2731\n",
            "Epoch 8/30\n",
            " 1/13 [=>............................] - ETA: 0s - loss: 0.3769 - accuracy: 0.8438 - f1_metric: 1.2846WARNING:tensorflow:Can save best model only with val_f1_metric available, skipping.\n",
            "WARNING:tensorflow:Can save best model only with val_f1_metric available, skipping.\n",
            " 3/13 [=====>........................] - ETA: 0s - loss: 0.3796 - accuracy: 0.8472 - f1_metric: 1.2541WARNING:tensorflow:Can save best model only with val_f1_metric available, skipping.\n",
            "WARNING:tensorflow:Can save best model only with val_f1_metric available, skipping.\n",
            " 5/13 [==========>...................] - ETA: 0s - loss: 0.3711 - accuracy: 0.8405 - f1_metric: 1.2467WARNING:tensorflow:Can save best model only with val_f1_metric available, skipping.\n",
            "WARNING:tensorflow:Can save best model only with val_f1_metric available, skipping.\n",
            " 7/13 [===============>..............] - ETA: 0s - loss: 0.3611 - accuracy: 0.8441 - f1_metric: 1.2439WARNING:tensorflow:Can save best model only with val_f1_metric available, skipping.\n",
            "WARNING:tensorflow:Can save best model only with val_f1_metric available, skipping.\n",
            " 9/13 [===================>..........] - ETA: 0s - loss: 0.3559 - accuracy: 0.8489 - f1_metric: 1.2355WARNING:tensorflow:Can save best model only with val_f1_metric available, skipping.\n",
            "WARNING:tensorflow:Can save best model only with val_f1_metric available, skipping.\n",
            "11/13 [========================>.....] - ETA: 0s - loss: 0.3509 - accuracy: 0.8533 - f1_metric: 1.2276WARNING:tensorflow:Can save best model only with val_f1_metric available, skipping.\n",
            "WARNING:tensorflow:Can save best model only with val_f1_metric available, skipping.\n",
            "13/13 [==============================] - ETA: 0s - loss: 0.3435 - accuracy: 0.8583 - f1_metric: 1.2190WARNING:tensorflow:Can save best model only with val_f1_metric available, skipping.\n",
            "13/13 [==============================] - 1s 46ms/step - loss: 0.3406 - accuracy: 0.8603 - f1_metric: 1.2154 - val_loss: 0.2052 - val_accuracy: 0.9257 - val_f1_metric: 1.1718\n",
            "Epoch 9/30\n",
            " 1/13 [=>............................] - ETA: 0s - loss: 0.2979 - accuracy: 0.8281 - f1_metric: 1.2160WARNING:tensorflow:Can save best model only with val_f1_metric available, skipping.\n",
            "WARNING:tensorflow:Can save best model only with val_f1_metric available, skipping.\n",
            " 3/13 [=====>........................] - ETA: 0s - loss: 0.2705 - accuracy: 0.8542 - f1_metric: 1.1949WARNING:tensorflow:Can save best model only with val_f1_metric available, skipping.\n",
            "WARNING:tensorflow:Can save best model only with val_f1_metric available, skipping.\n",
            " 5/13 [==========>...................] - ETA: 0s - loss: 0.2654 - accuracy: 0.8672 - f1_metric: 1.1888WARNING:tensorflow:Can save best model only with val_f1_metric available, skipping.\n",
            "WARNING:tensorflow:Can save best model only with val_f1_metric available, skipping.\n",
            " 7/13 [===============>..............] - ETA: 0s - loss: 0.2606 - accuracy: 0.8701 - f1_metric: 1.1859WARNING:tensorflow:Can save best model only with val_f1_metric available, skipping.\n",
            "WARNING:tensorflow:Can save best model only with val_f1_metric available, skipping.\n",
            " 9/13 [===================>..........] - ETA: 0s - loss: 0.2556 - accuracy: 0.8718 - f1_metric: 1.1836WARNING:tensorflow:Can save best model only with val_f1_metric available, skipping.\n",
            "WARNING:tensorflow:Can save best model only with val_f1_metric available, skipping.\n",
            "11/13 [========================>.....] - ETA: 0s - loss: 0.2488 - accuracy: 0.8752 - f1_metric: 1.1804WARNING:tensorflow:Can save best model only with val_f1_metric available, skipping.\n",
            "WARNING:tensorflow:Can save best model only with val_f1_metric available, skipping.\n",
            "13/13 [==============================] - ETA: 0s - loss: 0.2453 - accuracy: 0.8785 - f1_metric: 1.1754WARNING:tensorflow:Can save best model only with val_f1_metric available, skipping.\n",
            "13/13 [==============================] - 1s 46ms/step - loss: 0.2442 - accuracy: 0.8799 - f1_metric: 1.1730 - val_loss: 0.1021 - val_accuracy: 0.9653 - val_f1_metric: 1.0072\n",
            "Epoch 10/30\n",
            " 1/13 [=>............................] - ETA: 0s - loss: 0.3059 - accuracy: 0.9531 - f1_metric: 1.0317WARNING:tensorflow:Can save best model only with val_f1_metric available, skipping.\n",
            "WARNING:tensorflow:Can save best model only with val_f1_metric available, skipping.\n",
            " 3/13 [=====>........................] - ETA: 0s - loss: 0.2297 - accuracy: 0.9531 - f1_metric: 1.0269WARNING:tensorflow:Can save best model only with val_f1_metric available, skipping.\n",
            "WARNING:tensorflow:Can save best model only with val_f1_metric available, skipping.\n",
            " 5/13 [==========>...................] - ETA: 0s - loss: 0.2095 - accuracy: 0.9525 - f1_metric: 1.0316WARNING:tensorflow:Can save best model only with val_f1_metric available, skipping.\n",
            "WARNING:tensorflow:Can save best model only with val_f1_metric available, skipping.\n",
            " 7/13 [===============>..............] - ETA: 0s - loss: 0.2036 - accuracy: 0.9500 - f1_metric: 1.0383WARNING:tensorflow:Can save best model only with val_f1_metric available, skipping.\n",
            "WARNING:tensorflow:Can save best model only with val_f1_metric available, skipping.\n",
            " 9/13 [===================>..........] - ETA: 0s - loss: 0.1974 - accuracy: 0.9466 - f1_metric: 1.0448WARNING:tensorflow:Can save best model only with val_f1_metric available, skipping.\n",
            "WARNING:tensorflow:Can save best model only with val_f1_metric available, skipping.\n",
            "11/13 [========================>.....] - ETA: 0s - loss: 0.1921 - accuracy: 0.9448 - f1_metric: 1.0482WARNING:tensorflow:Can save best model only with val_f1_metric available, skipping.\n",
            "WARNING:tensorflow:Can save best model only with val_f1_metric available, skipping.\n",
            "13/13 [==============================] - ETA: 0s - loss: 0.1884 - accuracy: 0.9431 - f1_metric: 1.0510WARNING:tensorflow:Can save best model only with val_f1_metric available, skipping.\n",
            "13/13 [==============================] - 1s 47ms/step - loss: 0.1869 - accuracy: 0.9423 - f1_metric: 1.0525 - val_loss: 0.1217 - val_accuracy: 0.9604 - val_f1_metric: 1.0681\n",
            "Epoch 11/30\n",
            " 1/13 [=>............................] - ETA: 0s - loss: 0.1382 - accuracy: 0.9062 - f1_metric: 1.0968WARNING:tensorflow:Can save best model only with val_f1_metric available, skipping.\n",
            "WARNING:tensorflow:Can save best model only with val_f1_metric available, skipping.\n",
            " 3/13 [=====>........................] - ETA: 0s - loss: 0.1267 - accuracy: 0.9297 - f1_metric: 1.0871WARNING:tensorflow:Can save best model only with val_f1_metric available, skipping.\n",
            "WARNING:tensorflow:Can save best model only with val_f1_metric available, skipping.\n",
            " 5/13 [==========>...................] - ETA: 0s - loss: 0.1249 - accuracy: 0.9348 - f1_metric: 1.0796WARNING:tensorflow:Can save best model only with val_f1_metric available, skipping.\n",
            "WARNING:tensorflow:Can save best model only with val_f1_metric available, skipping.\n",
            " 7/13 [===============>..............] - ETA: 0s - loss: 0.1266 - accuracy: 0.9400 - f1_metric: 1.0712WARNING:tensorflow:Can save best model only with val_f1_metric available, skipping.\n",
            "WARNING:tensorflow:Can save best model only with val_f1_metric available, skipping.\n",
            " 9/13 [===================>..........] - ETA: 0s - loss: 0.1313 - accuracy: 0.9446 - f1_metric: 1.0632WARNING:tensorflow:Can save best model only with val_f1_metric available, skipping.\n",
            "WARNING:tensorflow:Can save best model only with val_f1_metric available, skipping.\n",
            "11/13 [========================>.....] - ETA: 0s - loss: 0.1345 - accuracy: 0.9475 - f1_metric: 1.0582WARNING:tensorflow:Can save best model only with val_f1_metric available, skipping.\n",
            "WARNING:tensorflow:Can save best model only with val_f1_metric available, skipping.\n",
            "13/13 [==============================] - ETA: 0s - loss: 0.1357 - accuracy: 0.9490 - f1_metric: 1.0560WARNING:tensorflow:Can save best model only with val_f1_metric available, skipping.\n",
            "13/13 [==============================] - 1s 46ms/step - loss: 0.1361 - accuracy: 0.9495 - f1_metric: 1.0555 - val_loss: 0.1040 - val_accuracy: 0.9604 - val_f1_metric: 1.0497\n",
            "Epoch 12/30\n",
            " 1/13 [=>............................] - ETA: 0s - loss: 0.2144 - accuracy: 0.8906 - f1_metric: 1.0968WARNING:tensorflow:Can save best model only with val_f1_metric available, skipping.\n",
            "WARNING:tensorflow:Can save best model only with val_f1_metric available, skipping.\n",
            " 3/13 [=====>........................] - ETA: 0s - loss: 0.1696 - accuracy: 0.9193 - f1_metric: 1.0761WARNING:tensorflow:Can save best model only with val_f1_metric available, skipping.\n",
            "WARNING:tensorflow:Can save best model only with val_f1_metric available, skipping.\n",
            " 5/13 [==========>...................] - ETA: 0s - loss: 0.1553 - accuracy: 0.9270 - f1_metric: 1.0680WARNING:tensorflow:Can save best model only with val_f1_metric available, skipping.\n",
            "WARNING:tensorflow:Can save best model only with val_f1_metric available, skipping.\n",
            " 7/13 [===============>..............] - ETA: 0s - loss: 0.1427 - accuracy: 0.9331 - f1_metric: 1.0615WARNING:tensorflow:Can save best model only with val_f1_metric available, skipping.\n",
            "WARNING:tensorflow:Can save best model only with val_f1_metric available, skipping.\n",
            " 9/13 [===================>..........] - ETA: 0s - loss: 0.1334 - accuracy: 0.9385 - f1_metric: 1.0568WARNING:tensorflow:Can save best model only with val_f1_metric available, skipping.\n",
            "WARNING:tensorflow:Can save best model only with val_f1_metric available, skipping.\n",
            "11/13 [========================>.....] - ETA: 0s - loss: 0.1265 - accuracy: 0.9430 - f1_metric: 1.0529WARNING:tensorflow:Can save best model only with val_f1_metric available, skipping.\n",
            "WARNING:tensorflow:Can save best model only with val_f1_metric available, skipping.\n",
            "13/13 [==============================] - ETA: 0s - loss: 0.1208 - accuracy: 0.9466 - f1_metric: 1.0489WARNING:tensorflow:Can save best model only with val_f1_metric available, skipping.\n",
            "13/13 [==============================] - 1s 47ms/step - loss: 0.1187 - accuracy: 0.9480 - f1_metric: 1.0473 - val_loss: 0.0381 - val_accuracy: 0.9851 - val_f1_metric: 0.9666\n",
            "Epoch 13/30\n",
            " 1/13 [=>............................] - ETA: 0s - loss: 0.0648 - accuracy: 0.9844 - f1_metric: 0.9677WARNING:tensorflow:Can save best model only with val_f1_metric available, skipping.\n",
            "WARNING:tensorflow:Can save best model only with val_f1_metric available, skipping.\n",
            " 3/13 [=====>........................] - ETA: 0s - loss: 0.0521 - accuracy: 0.9861 - f1_metric: 0.9722WARNING:tensorflow:Can save best model only with val_f1_metric available, skipping.\n",
            "WARNING:tensorflow:Can save best model only with val_f1_metric available, skipping.\n",
            " 5/13 [==========>...................] - ETA: 0s - loss: 0.0528 - accuracy: 0.9834 - f1_metric: 0.9736WARNING:tensorflow:Can save best model only with val_f1_metric available, skipping.\n",
            "WARNING:tensorflow:Can save best model only with val_f1_metric available, skipping.\n",
            " 7/13 [===============>..............] - ETA: 0s - loss: 0.0583 - accuracy: 0.9830 - f1_metric: 0.9783WARNING:tensorflow:Can save best model only with val_f1_metric available, skipping.\n",
            "WARNING:tensorflow:Can save best model only with val_f1_metric available, skipping.\n",
            " 9/13 [===================>..........] - ETA: 0s - loss: 0.0620 - accuracy: 0.9823 - f1_metric: 0.9827WARNING:tensorflow:Can save best model only with val_f1_metric available, skipping.\n",
            "WARNING:tensorflow:Can save best model only with val_f1_metric available, skipping.\n",
            "11/13 [========================>.....] - ETA: 0s - loss: 0.0652 - accuracy: 0.9814 - f1_metric: 0.9859WARNING:tensorflow:Can save best model only with val_f1_metric available, skipping.\n",
            "WARNING:tensorflow:Can save best model only with val_f1_metric available, skipping.\n",
            "13/13 [==============================] - ETA: 0s - loss: 0.0671 - accuracy: 0.9806 - f1_metric: 0.9886WARNING:tensorflow:Can save best model only with val_f1_metric available, skipping.\n",
            "13/13 [==============================] - 1s 48ms/step - loss: 0.0678 - accuracy: 0.9803 - f1_metric: 0.9898 - val_loss: 0.0602 - val_accuracy: 0.9752 - val_f1_metric: 0.9960\n",
            "Epoch 14/30\n",
            " 1/13 [=>............................] - ETA: 0s - loss: 0.0660 - accuracy: 0.9531 - f1_metric: 1.0000WARNING:tensorflow:Can save best model only with val_f1_metric available, skipping.\n",
            "WARNING:tensorflow:Can save best model only with val_f1_metric available, skipping.\n",
            " 3/13 [=====>........................] - ETA: 0s - loss: 0.0605 - accuracy: 0.9583 - f1_metric: 1.0084WARNING:tensorflow:Can save best model only with val_f1_metric available, skipping.\n",
            "WARNING:tensorflow:Can save best model only with val_f1_metric available, skipping.\n",
            " 5/13 [==========>...................] - ETA: 0s - loss: 0.0754 - accuracy: 0.9623 - f1_metric: 1.0134WARNING:tensorflow:Can save best model only with val_f1_metric available, skipping.\n",
            "WARNING:tensorflow:Can save best model only with val_f1_metric available, skipping.\n",
            " 7/13 [===============>..............] - ETA: 0s - loss: 0.0757 - accuracy: 0.9649 - f1_metric: 1.0140WARNING:tensorflow:Can save best model only with val_f1_metric available, skipping.\n",
            "WARNING:tensorflow:Can save best model only with val_f1_metric available, skipping.\n",
            " 9/13 [===================>..........] - ETA: 0s - loss: 0.0758 - accuracy: 0.9663 - f1_metric: 1.0125WARNING:tensorflow:Can save best model only with val_f1_metric available, skipping.\n",
            "WARNING:tensorflow:Can save best model only with val_f1_metric available, skipping.\n",
            "11/13 [========================>.....] - ETA: 0s - loss: 0.0763 - accuracy: 0.9678 - f1_metric: 1.0119WARNING:tensorflow:Can save best model only with val_f1_metric available, skipping.\n",
            "WARNING:tensorflow:Can save best model only with val_f1_metric available, skipping.\n",
            "13/13 [==============================] - ETA: 0s - loss: 0.0761 - accuracy: 0.9687 - f1_metric: 1.0119WARNING:tensorflow:Can save best model only with val_f1_metric available, skipping.\n",
            "13/13 [==============================] - 1s 46ms/step - loss: 0.0761 - accuracy: 0.9690 - f1_metric: 1.0119 - val_loss: 0.0303 - val_accuracy: 0.9901 - val_f1_metric: 0.9757\n",
            "Epoch 15/30\n",
            " 1/13 [=>............................] - ETA: 0s - loss: 0.0621 - accuracy: 0.9688 - f1_metric: 1.0000WARNING:tensorflow:Can save best model only with val_f1_metric available, skipping.\n",
            "WARNING:tensorflow:Can save best model only with val_f1_metric available, skipping.\n",
            " 3/13 [=====>........................] - ETA: 0s - loss: 0.0623 - accuracy: 0.9714 - f1_metric: 0.9968WARNING:tensorflow:Can save best model only with val_f1_metric available, skipping.\n",
            "WARNING:tensorflow:Can save best model only with val_f1_metric available, skipping.\n",
            " 5/13 [==========>...................] - ETA: 0s - loss: 0.0687 - accuracy: 0.9656 - f1_metric: 1.0013WARNING:tensorflow:Can save best model only with val_f1_metric available, skipping.\n",
            "WARNING:tensorflow:Can save best model only with val_f1_metric available, skipping.\n",
            " 7/13 [===============>..............] - ETA: 0s - loss: 0.0751 - accuracy: 0.9641 - f1_metric: 1.0036WARNING:tensorflow:Can save best model only with val_f1_metric available, skipping.\n",
            "WARNING:tensorflow:Can save best model only with val_f1_metric available, skipping.\n",
            " 9/13 [===================>..........] - ETA: 0s - loss: 0.0788 - accuracy: 0.9639 - f1_metric: 1.0070WARNING:tensorflow:Can save best model only with val_f1_metric available, skipping.\n",
            "WARNING:tensorflow:Can save best model only with val_f1_metric available, skipping.\n",
            "11/13 [========================>.....] - ETA: 0s - loss: 0.0809 - accuracy: 0.9638 - f1_metric: 1.0099WARNING:tensorflow:Can save best model only with val_f1_metric available, skipping.\n",
            "WARNING:tensorflow:Can save best model only with val_f1_metric available, skipping.\n",
            "13/13 [==============================] - ETA: 0s - loss: 0.0814 - accuracy: 0.9640 - f1_metric: 1.0113WARNING:tensorflow:Can save best model only with val_f1_metric available, skipping.\n",
            "13/13 [==============================] - 1s 47ms/step - loss: 0.0816 - accuracy: 0.9640 - f1_metric: 1.0118 - val_loss: 0.0234 - val_accuracy: 0.9851 - val_f1_metric: 0.9585\n",
            "Epoch 16/30\n",
            " 1/13 [=>............................] - ETA: 0s - loss: 0.0541 - accuracy: 1.0000 - f1_metric: 1.0000WARNING:tensorflow:Can save best model only with val_f1_metric available, skipping.\n",
            "WARNING:tensorflow:Can save best model only with val_f1_metric available, skipping.\n",
            " 3/13 [=====>........................] - ETA: 0s - loss: 0.0451 - accuracy: 0.9983 - f1_metric: 0.9929WARNING:tensorflow:Can save best model only with val_f1_metric available, skipping.\n",
            "WARNING:tensorflow:Can save best model only with val_f1_metric available, skipping.\n",
            " 5/13 [==========>...................] - ETA: 0s - loss: 0.0476 - accuracy: 0.9961 - f1_metric: 0.9909WARNING:tensorflow:Can save best model only with val_f1_metric available, skipping.\n",
            "WARNING:tensorflow:Can save best model only with val_f1_metric available, skipping.\n",
            " 7/13 [===============>..............] - ETA: 0s - loss: 0.0506 - accuracy: 0.9959 - f1_metric: 0.9888WARNING:tensorflow:Can save best model only with val_f1_metric available, skipping.\n",
            "WARNING:tensorflow:Can save best model only with val_f1_metric available, skipping.\n",
            " 9/13 [===================>..........] - ETA: 0s - loss: 0.0509 - accuracy: 0.9956 - f1_metric: 0.9878WARNING:tensorflow:Can save best model only with val_f1_metric available, skipping.\n",
            "WARNING:tensorflow:Can save best model only with val_f1_metric available, skipping.\n",
            "11/13 [========================>.....] - ETA: 0s - loss: 0.0530 - accuracy: 0.9950 - f1_metric: 0.9864WARNING:tensorflow:Can save best model only with val_f1_metric available, skipping.\n",
            "WARNING:tensorflow:Can save best model only with val_f1_metric available, skipping.\n",
            "13/13 [==============================] - ETA: 0s - loss: 0.0543 - accuracy: 0.9945 - f1_metric: 0.9855WARNING:tensorflow:Can save best model only with val_f1_metric available, skipping.\n",
            "13/13 [==============================] - 1s 47ms/step - loss: 0.0549 - accuracy: 0.9943 - f1_metric: 0.9852 - val_loss: 0.0234 - val_accuracy: 0.9901 - val_f1_metric: 0.9797\n",
            "Epoch 17/30\n",
            " 1/13 [=>............................] - ETA: 0s - loss: 0.0842 - accuracy: 0.9375 - f1_metric: 0.9919WARNING:tensorflow:Can save best model only with val_f1_metric available, skipping.\n",
            "WARNING:tensorflow:Can save best model only with val_f1_metric available, skipping.\n",
            " 3/13 [=====>........................] - ETA: 0s - loss: 0.0630 - accuracy: 0.9618 - f1_metric: 0.9823WARNING:tensorflow:Can save best model only with val_f1_metric available, skipping.\n",
            "WARNING:tensorflow:Can save best model only with val_f1_metric available, skipping.\n",
            " 5/13 [==========>...................] - ETA: 0s - loss: 0.0584 - accuracy: 0.9694 - f1_metric: 0.9839WARNING:tensorflow:Can save best model only with val_f1_metric available, skipping.\n",
            "WARNING:tensorflow:Can save best model only with val_f1_metric available, skipping.\n",
            " 7/13 [===============>..............] - ETA: 0s - loss: 0.0570 - accuracy: 0.9720 - f1_metric: 0.9852WARNING:tensorflow:Can save best model only with val_f1_metric available, skipping.\n",
            "WARNING:tensorflow:Can save best model only with val_f1_metric available, skipping.\n",
            " 9/13 [===================>..........] - ETA: 0s - loss: 0.0559 - accuracy: 0.9741 - f1_metric: 0.9853WARNING:tensorflow:Can save best model only with val_f1_metric available, skipping.\n",
            "WARNING:tensorflow:Can save best model only with val_f1_metric available, skipping.\n",
            "11/13 [========================>.....] - ETA: 0s - loss: 0.0546 - accuracy: 0.9758 - f1_metric: 0.9854WARNING:tensorflow:Can save best model only with val_f1_metric available, skipping.\n",
            "WARNING:tensorflow:Can save best model only with val_f1_metric available, skipping.\n",
            "13/13 [==============================] - ETA: 0s - loss: 0.0536 - accuracy: 0.9772 - f1_metric: 0.9856WARNING:tensorflow:Can save best model only with val_f1_metric available, skipping.\n",
            "13/13 [==============================] - 1s 49ms/step - loss: 0.0532 - accuracy: 0.9778 - f1_metric: 0.9858 - val_loss: 0.0197 - val_accuracy: 0.9901 - val_f1_metric: 0.9716\n",
            "Epoch 18/30\n",
            " 1/13 [=>............................] - ETA: 0s - loss: 0.0379 - accuracy: 0.9688 - f1_metric: 0.9756WARNING:tensorflow:Can save best model only with val_f1_metric available, skipping.\n",
            "WARNING:tensorflow:Can save best model only with val_f1_metric available, skipping.\n",
            " 3/13 [=====>........................] - ETA: 0s - loss: 0.0295 - accuracy: 0.9766 - f1_metric: 0.9752WARNING:tensorflow:Can save best model only with val_f1_metric available, skipping.\n",
            "WARNING:tensorflow:Can save best model only with val_f1_metric available, skipping.\n",
            " 5/13 [==========>...................] - ETA: 0s - loss: 0.0310 - accuracy: 0.9811 - f1_metric: 0.9742WARNING:tensorflow:Can save best model only with val_f1_metric available, skipping.\n",
            "WARNING:tensorflow:Can save best model only with val_f1_metric available, skipping.\n",
            " 7/13 [===============>..............] - ETA: 0s - loss: 0.0339 - accuracy: 0.9824 - f1_metric: 0.9730WARNING:tensorflow:Can save best model only with val_f1_metric available, skipping.\n",
            "WARNING:tensorflow:Can save best model only with val_f1_metric available, skipping.\n",
            " 9/13 [===================>..........] - ETA: 0s - loss: 0.0351 - accuracy: 0.9834 - f1_metric: 0.9733WARNING:tensorflow:Can save best model only with val_f1_metric available, skipping.\n",
            "WARNING:tensorflow:Can save best model only with val_f1_metric available, skipping.\n",
            "11/13 [========================>.....] - ETA: 0s - loss: 0.0361 - accuracy: 0.9834 - f1_metric: 0.9745WARNING:tensorflow:Can save best model only with val_f1_metric available, skipping.\n",
            "WARNING:tensorflow:Can save best model only with val_f1_metric available, skipping.\n",
            "13/13 [==============================] - ETA: 0s - loss: 0.0370 - accuracy: 0.9832 - f1_metric: 0.9758WARNING:tensorflow:Can save best model only with val_f1_metric available, skipping.\n",
            "13/13 [==============================] - 1s 48ms/step - loss: 0.0374 - accuracy: 0.9831 - f1_metric: 0.9763 - val_loss: 0.0233 - val_accuracy: 0.9950 - val_f1_metric: 0.9777\n",
            "Epoch 19/30\n",
            " 1/13 [=>............................] - ETA: 0s - loss: 0.0251 - accuracy: 0.9844 - f1_metric: 0.9508WARNING:tensorflow:Can save best model only with val_f1_metric available, skipping.\n",
            "WARNING:tensorflow:Can save best model only with val_f1_metric available, skipping.\n",
            " 3/13 [=====>........................] - ETA: 0s - loss: 0.0286 - accuracy: 0.9748 - f1_metric: 0.9843WARNING:tensorflow:Can save best model only with val_f1_metric available, skipping.\n",
            "WARNING:tensorflow:Can save best model only with val_f1_metric available, skipping.\n",
            " 5/13 [==========>...................] - ETA: 0s - loss: 0.0382 - accuracy: 0.9702 - f1_metric: 0.9929WARNING:tensorflow:Can save best model only with val_f1_metric available, skipping.\n",
            "WARNING:tensorflow:Can save best model only with val_f1_metric available, skipping.\n",
            " 7/13 [===============>..............] - ETA: 0s - loss: 0.0427 - accuracy: 0.9694 - f1_metric: 0.9964WARNING:tensorflow:Can save best model only with val_f1_metric available, skipping.\n",
            "WARNING:tensorflow:Can save best model only with val_f1_metric available, skipping.\n",
            " 9/13 [===================>..........] - ETA: 0s - loss: 0.0458 - accuracy: 0.9697 - f1_metric: 0.9969WARNING:tensorflow:Can save best model only with val_f1_metric available, skipping.\n",
            "WARNING:tensorflow:Can save best model only with val_f1_metric available, skipping.\n",
            "11/13 [========================>.....] - ETA: 0s - loss: 0.0469 - accuracy: 0.9705 - f1_metric: 0.9962WARNING:tensorflow:Can save best model only with val_f1_metric available, skipping.\n",
            "WARNING:tensorflow:Can save best model only with val_f1_metric available, skipping.\n",
            "13/13 [==============================] - ETA: 0s - loss: 0.0484 - accuracy: 0.9711 - f1_metric: 0.9954WARNING:tensorflow:Can save best model only with val_f1_metric available, skipping.\n",
            "13/13 [==============================] - 1s 47ms/step - loss: 0.0490 - accuracy: 0.9714 - f1_metric: 0.9951 - val_loss: 0.0201 - val_accuracy: 0.9950 - val_f1_metric: 0.9797\n",
            "Epoch 20/30\n",
            " 1/13 [=>............................] - ETA: 0s - loss: 0.0339 - accuracy: 1.0000 - f1_metric: 1.0000WARNING:tensorflow:Can save best model only with val_f1_metric available, skipping.\n",
            "WARNING:tensorflow:Can save best model only with val_f1_metric available, skipping.\n",
            " 3/13 [=====>........................] - ETA: 0s - loss: 0.0501 - accuracy: 0.9878 - f1_metric: 1.0022WARNING:tensorflow:Can save best model only with val_f1_metric available, skipping.\n",
            "WARNING:tensorflow:Can save best model only with val_f1_metric available, skipping.\n",
            " 5/13 [==========>...................] - ETA: 0s - loss: 0.0549 - accuracy: 0.9822 - f1_metric: 1.0074WARNING:tensorflow:Can save best model only with val_f1_metric available, skipping.\n",
            "WARNING:tensorflow:Can save best model only with val_f1_metric available, skipping.\n",
            " 7/13 [===============>..............] - ETA: 0s - loss: 0.0531 - accuracy: 0.9811 - f1_metric: 1.0085WARNING:tensorflow:Can save best model only with val_f1_metric available, skipping.\n",
            "WARNING:tensorflow:Can save best model only with val_f1_metric available, skipping.\n",
            " 9/13 [===================>..........] - ETA: 0s - loss: 0.0520 - accuracy: 0.9804 - f1_metric: 1.0068WARNING:tensorflow:Can save best model only with val_f1_metric available, skipping.\n",
            "WARNING:tensorflow:Can save best model only with val_f1_metric available, skipping.\n",
            "11/13 [========================>.....] - ETA: 0s - loss: 0.0506 - accuracy: 0.9806 - f1_metric: 1.0045WARNING:tensorflow:Can save best model only with val_f1_metric available, skipping.\n",
            "WARNING:tensorflow:Can save best model only with val_f1_metric available, skipping.\n",
            "13/13 [==============================] - ETA: 0s - loss: 0.0496 - accuracy: 0.9806 - f1_metric: 1.0026WARNING:tensorflow:Can save best model only with val_f1_metric available, skipping.\n",
            "13/13 [==============================] - 1s 47ms/step - loss: 0.0492 - accuracy: 0.9807 - f1_metric: 1.0018 - val_loss: 0.0182 - val_accuracy: 0.9901 - val_f1_metric: 0.9716\n",
            "Epoch 21/30\n",
            " 1/13 [=>............................] - ETA: 0s - loss: 0.0907 - accuracy: 1.0000 - f1_metric: 0.9508WARNING:tensorflow:Can save best model only with val_f1_metric available, skipping.\n",
            "WARNING:tensorflow:Can save best model only with val_f1_metric available, skipping.\n",
            " 3/13 [=====>........................] - ETA: 0s - loss: 0.0625 - accuracy: 1.0000 - f1_metric: 0.9574WARNING:tensorflow:Can save best model only with val_f1_metric available, skipping.\n",
            "WARNING:tensorflow:Can save best model only with val_f1_metric available, skipping.\n",
            " 5/13 [==========>...................] - ETA: 0s - loss: 0.0557 - accuracy: 0.9966 - f1_metric: 0.9578WARNING:tensorflow:Can save best model only with val_f1_metric available, skipping.\n",
            "WARNING:tensorflow:Can save best model only with val_f1_metric available, skipping.\n",
            " 7/13 [===============>..............] - ETA: 0s - loss: 0.0523 - accuracy: 0.9948 - f1_metric: 0.9595WARNING:tensorflow:Can save best model only with val_f1_metric available, skipping.\n",
            "WARNING:tensorflow:Can save best model only with val_f1_metric available, skipping.\n",
            " 9/13 [===================>..........] - ETA: 0s - loss: 0.0500 - accuracy: 0.9931 - f1_metric: 0.9615WARNING:tensorflow:Can save best model only with val_f1_metric available, skipping.\n",
            "WARNING:tensorflow:Can save best model only with val_f1_metric available, skipping.\n",
            "11/13 [========================>.....] - ETA: 0s - loss: 0.0477 - accuracy: 0.9921 - f1_metric: 0.9639WARNING:tensorflow:Can save best model only with val_f1_metric available, skipping.\n",
            "WARNING:tensorflow:Can save best model only with val_f1_metric available, skipping.\n",
            "13/13 [==============================] - ETA: 0s - loss: 0.0461 - accuracy: 0.9911 - f1_metric: 0.9660WARNING:tensorflow:Can save best model only with val_f1_metric available, skipping.\n",
            "13/13 [==============================] - 1s 48ms/step - loss: 0.0457 - accuracy: 0.9906 - f1_metric: 0.9671 - val_loss: 0.0125 - val_accuracy: 0.9950 - val_f1_metric: 0.9716\n",
            "Epoch 22/30\n",
            " 1/13 [=>............................] - ETA: 0s - loss: 0.0565 - accuracy: 0.9688 - f1_metric: 0.9587WARNING:tensorflow:Can save best model only with val_f1_metric available, skipping.\n",
            " 2/13 [===>..........................] - ETA: 0s - loss: 0.0540 - accuracy: 0.9727 - f1_metric: 0.9690WARNING:tensorflow:Can save best model only with val_f1_metric available, skipping.\n",
            "WARNING:tensorflow:Can save best model only with val_f1_metric available, skipping.\n",
            " 4/13 [========>.....................] - ETA: 0s - loss: 0.0458 - accuracy: 0.9772 - f1_metric: 0.9737WARNING:tensorflow:Can save best model only with val_f1_metric available, skipping.\n",
            " 5/13 [==========>...................] - ETA: 0s - loss: 0.0461 - accuracy: 0.9786 - f1_metric: 0.9750WARNING:tensorflow:Can save best model only with val_f1_metric available, skipping.\n",
            "WARNING:tensorflow:Can save best model only with val_f1_metric available, skipping.\n",
            " 7/13 [===============>..............] - ETA: 0s - loss: 0.0479 - accuracy: 0.9813 - f1_metric: 0.9736WARNING:tensorflow:Can save best model only with val_f1_metric available, skipping.\n",
            "WARNING:tensorflow:Can save best model only with val_f1_metric available, skipping.\n",
            " 9/13 [===================>..........] - ETA: 0s - loss: 0.0477 - accuracy: 0.9832 - f1_metric: 0.9736WARNING:tensorflow:Can save best model only with val_f1_metric available, skipping.\n",
            "WARNING:tensorflow:Can save best model only with val_f1_metric available, skipping.\n",
            "11/13 [========================>.....] - ETA: 0s - loss: 0.0468 - accuracy: 0.9845 - f1_metric: 0.9740WARNING:tensorflow:Can save best model only with val_f1_metric available, skipping.\n",
            "WARNING:tensorflow:Can save best model only with val_f1_metric available, skipping.\n",
            "13/13 [==============================] - ETA: 0s - loss: 0.0459 - accuracy: 0.9851 - f1_metric: 0.9747WARNING:tensorflow:Can save best model only with val_f1_metric available, skipping.\n",
            "13/13 [==============================] - 1s 50ms/step - loss: 0.0455 - accuracy: 0.9854 - f1_metric: 0.9752 - val_loss: 0.0131 - val_accuracy: 0.9950 - val_f1_metric: 0.9757\n",
            "Epoch 23/30\n",
            " 1/13 [=>............................] - ETA: 0s - loss: 0.0226 - accuracy: 0.9688 - f1_metric: 1.0323WARNING:tensorflow:Can save best model only with val_f1_metric available, skipping.\n",
            "WARNING:tensorflow:Can save best model only with val_f1_metric available, skipping.\n",
            " 3/13 [=====>........................] - ETA: 0s - loss: 0.0319 - accuracy: 0.9714 - f1_metric: 1.0079WARNING:tensorflow:Can save best model only with val_f1_metric available, skipping.\n",
            " 4/13 [========>.....................] - ETA: 0s - loss: 0.0343 - accuracy: 0.9717 - f1_metric: 1.0044WARNING:tensorflow:Can save best model only with val_f1_metric available, skipping.\n",
            "WARNING:tensorflow:Can save best model only with val_f1_metric available, skipping.\n",
            " 6/13 [============>.................] - ETA: 0s - loss: 0.0351 - accuracy: 0.9725 - f1_metric: 1.0024WARNING:tensorflow:Can save best model only with val_f1_metric available, skipping.\n",
            "WARNING:tensorflow:Can save best model only with val_f1_metric available, skipping.\n",
            " 8/13 [=================>............] - ETA: 0s - loss: 0.0351 - accuracy: 0.9744 - f1_metric: 0.9978WARNING:tensorflow:Can save best model only with val_f1_metric available, skipping.\n",
            "WARNING:tensorflow:Can save best model only with val_f1_metric available, skipping.\n",
            "10/13 [======================>.......] - ETA: 0s - loss: 0.0342 - accuracy: 0.9763 - f1_metric: 0.9942WARNING:tensorflow:Can save best model only with val_f1_metric available, skipping.\n",
            "WARNING:tensorflow:Can save best model only with val_f1_metric available, skipping.\n",
            "12/13 [==========================>...] - ETA: 0s - loss: 0.0333 - accuracy: 0.9775 - f1_metric: 0.9922WARNING:tensorflow:Can save best model only with val_f1_metric available, skipping.\n",
            "WARNING:tensorflow:Can save best model only with val_f1_metric available, skipping.\n",
            "13/13 [==============================] - 1s 50ms/step - loss: 0.0326 - accuracy: 0.9782 - f1_metric: 0.9910 - val_loss: 0.0092 - val_accuracy: 1.0000 - val_f1_metric: 0.9585\n",
            "Epoch 24/30\n",
            " 1/13 [=>............................] - ETA: 0s - loss: 0.0545 - accuracy: 0.9688 - f1_metric: 0.9677WARNING:tensorflow:Can save best model only with val_f1_metric available, skipping.\n",
            "WARNING:tensorflow:Can save best model only with val_f1_metric available, skipping.\n",
            " 3/13 [=====>........................] - ETA: 0s - loss: 0.0596 - accuracy: 0.9766 - f1_metric: 0.9709WARNING:tensorflow:Can save best model only with val_f1_metric available, skipping.\n",
            "WARNING:tensorflow:Can save best model only with val_f1_metric available, skipping.\n",
            " 5/13 [==========>...................] - ETA: 0s - loss: 0.0523 - accuracy: 0.9811 - f1_metric: 0.9690WARNING:tensorflow:Can save best model only with val_f1_metric available, skipping.\n",
            "WARNING:tensorflow:Can save best model only with val_f1_metric available, skipping.\n",
            " 7/13 [===============>..............] - ETA: 0s - loss: 0.0474 - accuracy: 0.9837 - f1_metric: 0.9668WARNING:tensorflow:Can save best model only with val_f1_metric available, skipping.\n",
            "WARNING:tensorflow:Can save best model only with val_f1_metric available, skipping.\n",
            " 9/13 [===================>..........] - ETA: 0s - loss: 0.0440 - accuracy: 0.9857 - f1_metric: 0.9669WARNING:tensorflow:Can save best model only with val_f1_metric available, skipping.\n",
            "WARNING:tensorflow:Can save best model only with val_f1_metric available, skipping.\n",
            "11/13 [========================>.....] - ETA: 0s - loss: 0.0410 - accuracy: 0.9872 - f1_metric: 0.9674WARNING:tensorflow:Can save best model only with val_f1_metric available, skipping.\n",
            "WARNING:tensorflow:Can save best model only with val_f1_metric available, skipping.\n",
            "13/13 [==============================] - ETA: 0s - loss: 0.0391 - accuracy: 0.9883 - f1_metric: 0.9681WARNING:tensorflow:Can save best model only with val_f1_metric available, skipping.\n",
            "13/13 [==============================] - 1s 48ms/step - loss: 0.0384 - accuracy: 0.9887 - f1_metric: 0.9683 - val_loss: 0.0104 - val_accuracy: 0.9950 - val_f1_metric: 0.9716\n",
            "Epoch 25/30\n",
            " 1/13 [=>............................] - ETA: 0s - loss: 0.0196 - accuracy: 0.9688 - f1_metric: 0.9919WARNING:tensorflow:Can save best model only with val_f1_metric available, skipping.\n",
            "WARNING:tensorflow:Can save best model only with val_f1_metric available, skipping.\n",
            " 3/13 [=====>........................] - ETA: 0s - loss: 0.0184 - accuracy: 0.9792 - f1_metric: 0.9941WARNING:tensorflow:Can save best model only with val_f1_metric available, skipping.\n",
            "WARNING:tensorflow:Can save best model only with val_f1_metric available, skipping.\n",
            " 5/13 [==========>...................] - ETA: 0s - loss: 0.0173 - accuracy: 0.9827 - f1_metric: 0.9922WARNING:tensorflow:Can save best model only with val_f1_metric available, skipping.\n",
            "WARNING:tensorflow:Can save best model only with val_f1_metric available, skipping.\n",
            " 7/13 [===============>..............] - ETA: 0s - loss: 0.0189 - accuracy: 0.9845 - f1_metric: 0.9917WARNING:tensorflow:Can save best model only with val_f1_metric available, skipping.\n",
            " 8/13 [=================>............] - ETA: 0s - loss: 0.0193 - accuracy: 0.9852 - f1_metric: 0.9908WARNING:tensorflow:Can save best model only with val_f1_metric available, skipping.\n",
            "WARNING:tensorflow:Can save best model only with val_f1_metric available, skipping.\n",
            "10/13 [======================>.......] - ETA: 0s - loss: 0.0195 - accuracy: 0.9862 - f1_metric: 0.9892WARNING:tensorflow:Can save best model only with val_f1_metric available, skipping.\n",
            "WARNING:tensorflow:Can save best model only with val_f1_metric available, skipping.\n",
            "12/13 [==========================>...] - ETA: 0s - loss: 0.0197 - accuracy: 0.9872 - f1_metric: 0.9877WARNING:tensorflow:Can save best model only with val_f1_metric available, skipping.\n",
            "WARNING:tensorflow:Can save best model only with val_f1_metric available, skipping.\n",
            "13/13 [==============================] - 1s 51ms/step - loss: 0.0203 - accuracy: 0.9879 - f1_metric: 0.9869 - val_loss: 0.0099 - val_accuracy: 0.9950 - val_f1_metric: 0.9585\n",
            "Epoch 26/30\n",
            " 1/13 [=>............................] - ETA: 0s - loss: 0.0213 - accuracy: 1.0000 - f1_metric: 0.9508WARNING:tensorflow:Can save best model only with val_f1_metric available, skipping.\n",
            "WARNING:tensorflow:Can save best model only with val_f1_metric available, skipping.\n",
            " 3/13 [=====>........................] - ETA: 0s - loss: 0.0380 - accuracy: 0.9939 - f1_metric: 0.9677WARNING:tensorflow:Can save best model only with val_f1_metric available, skipping.\n",
            "WARNING:tensorflow:Can save best model only with val_f1_metric available, skipping.\n",
            " 5/13 [==========>...................] - ETA: 0s - loss: 0.0373 - accuracy: 0.9909 - f1_metric: 0.9713WARNING:tensorflow:Can save best model only with val_f1_metric available, skipping.\n",
            "WARNING:tensorflow:Can save best model only with val_f1_metric available, skipping.\n",
            " 7/13 [===============>..............] - ETA: 0s - loss: 0.0367 - accuracy: 0.9893 - f1_metric: 0.9731WARNING:tensorflow:Can save best model only with val_f1_metric available, skipping.\n",
            "WARNING:tensorflow:Can save best model only with val_f1_metric available, skipping.\n",
            " 9/13 [===================>..........] - ETA: 0s - loss: 0.0369 - accuracy: 0.9882 - f1_metric: 0.9756WARNING:tensorflow:Can save best model only with val_f1_metric available, skipping.\n",
            "WARNING:tensorflow:Can save best model only with val_f1_metric available, skipping.\n",
            "11/13 [========================>.....] - ETA: 0s - loss: 0.0368 - accuracy: 0.9875 - f1_metric: 0.9786WARNING:tensorflow:Can save best model only with val_f1_metric available, skipping.\n",
            "WARNING:tensorflow:Can save best model only with val_f1_metric available, skipping.\n",
            "13/13 [==============================] - ETA: 0s - loss: 0.0365 - accuracy: 0.9870 - f1_metric: 0.9797WARNING:tensorflow:Can save best model only with val_f1_metric available, skipping.\n",
            "13/13 [==============================] - 1s 49ms/step - loss: 0.0364 - accuracy: 0.9868 - f1_metric: 0.9801 - val_loss: 0.0104 - val_accuracy: 0.9950 - val_f1_metric: 0.9716\n",
            "Epoch 27/30\n",
            " 1/13 [=>............................] - ETA: 0s - loss: 0.0196 - accuracy: 0.9688 - f1_metric: 0.9919WARNING:tensorflow:Can save best model only with val_f1_metric available, skipping.\n",
            " 2/13 [===>..........................] - ETA: 0s - loss: 0.0159 - accuracy: 0.9766 - f1_metric: 0.9878WARNING:tensorflow:Can save best model only with val_f1_metric available, skipping.\n",
            "WARNING:tensorflow:Can save best model only with val_f1_metric available, skipping.\n",
            " 4/13 [========>.....................] - ETA: 0s - loss: 0.0174 - accuracy: 0.9814 - f1_metric: 0.9875WARNING:tensorflow:Can save best model only with val_f1_metric available, skipping.\n",
            "WARNING:tensorflow:Can save best model only with val_f1_metric available, skipping.\n",
            " 6/13 [============>.................] - ETA: 0s - loss: 0.0209 - accuracy: 0.9843 - f1_metric: 0.9866WARNING:tensorflow:Can save best model only with val_f1_metric available, skipping.\n",
            "WARNING:tensorflow:Can save best model only with val_f1_metric available, skipping.\n",
            " 8/13 [=================>............] - ETA: 0s - loss: 0.0216 - accuracy: 0.9859 - f1_metric: 0.9844WARNING:tensorflow:Can save best model only with val_f1_metric available, skipping.\n",
            "WARNING:tensorflow:Can save best model only with val_f1_metric available, skipping.\n",
            "10/13 [======================>.......] - ETA: 0s - loss: 0.0217 - accuracy: 0.9868 - f1_metric: 0.9839WARNING:tensorflow:Can save best model only with val_f1_metric available, skipping.\n",
            "WARNING:tensorflow:Can save best model only with val_f1_metric available, skipping.\n",
            "12/13 [==========================>...] - ETA: 0s - loss: 0.0218 - accuracy: 0.9874 - f1_metric: 0.9832WARNING:tensorflow:Can save best model only with val_f1_metric available, skipping.\n",
            "WARNING:tensorflow:Can save best model only with val_f1_metric available, skipping.\n",
            "13/13 [==============================] - 1s 49ms/step - loss: 0.0220 - accuracy: 0.9879 - f1_metric: 0.9821 - val_loss: 0.0098 - val_accuracy: 0.9950 - val_f1_metric: 0.9716\n",
            "Epoch 28/30\n",
            " 1/13 [=>............................] - ETA: 0s - loss: 0.0282 - accuracy: 1.0000 - f1_metric: 0.9593WARNING:tensorflow:Can save best model only with val_f1_metric available, skipping.\n",
            "WARNING:tensorflow:Can save best model only with val_f1_metric available, skipping.\n",
            " 3/13 [=====>........................] - ETA: 0s - loss: 0.0249 - accuracy: 0.9957 - f1_metric: 0.9670WARNING:tensorflow:Can save best model only with val_f1_metric available, skipping.\n",
            "WARNING:tensorflow:Can save best model only with val_f1_metric available, skipping.\n",
            " 5/13 [==========>...................] - ETA: 0s - loss: 0.0263 - accuracy: 0.9918 - f1_metric: 0.9754WARNING:tensorflow:Can save best model only with val_f1_metric available, skipping.\n",
            "WARNING:tensorflow:Can save best model only with val_f1_metric available, skipping.\n",
            " 7/13 [===============>..............] - ETA: 0s - loss: 0.0252 - accuracy: 0.9910 - f1_metric: 0.9777WARNING:tensorflow:Can save best model only with val_f1_metric available, skipping.\n",
            "WARNING:tensorflow:Can save best model only with val_f1_metric available, skipping.\n",
            " 9/13 [===================>..........] - ETA: 0s - loss: 0.0256 - accuracy: 0.9910 - f1_metric: 0.9796WARNING:tensorflow:Can save best model only with val_f1_metric available, skipping.\n",
            "10/13 [======================>.......] - ETA: 0s - loss: 0.0255 - accuracy: 0.9909 - f1_metric: 0.9802WARNING:tensorflow:Can save best model only with val_f1_metric available, skipping.\n",
            "WARNING:tensorflow:Can save best model only with val_f1_metric available, skipping.\n",
            "12/13 [==========================>...] - ETA: 0s - loss: 0.0258 - accuracy: 0.9906 - f1_metric: 0.9806WARNING:tensorflow:Can save best model only with val_f1_metric available, skipping.\n",
            "WARNING:tensorflow:Can save best model only with val_f1_metric available, skipping.\n",
            "13/13 [==============================] - 1s 50ms/step - loss: 0.0258 - accuracy: 0.9906 - f1_metric: 0.9813 - val_loss: 0.0109 - val_accuracy: 0.9950 - val_f1_metric: 0.9716\n",
            "Epoch 29/30\n",
            " 1/13 [=>............................] - ETA: 0s - loss: 0.0080 - accuracy: 1.0000 - f1_metric: 0.9500WARNING:tensorflow:Can save best model only with val_f1_metric available, skipping.\n",
            "WARNING:tensorflow:Can save best model only with val_f1_metric available, skipping.\n",
            " 3/13 [=====>........................] - ETA: 0s - loss: 0.0305 - accuracy: 0.9878 - f1_metric: 0.9605WARNING:tensorflow:Can save best model only with val_f1_metric available, skipping.\n",
            "WARNING:tensorflow:Can save best model only with val_f1_metric available, skipping.\n",
            " 5/13 [==========>...................] - ETA: 0s - loss: 0.0318 - accuracy: 0.9858 - f1_metric: 0.9637WARNING:tensorflow:Can save best model only with val_f1_metric available, skipping.\n",
            "WARNING:tensorflow:Can save best model only with val_f1_metric available, skipping.\n",
            " 7/13 [===============>..............] - ETA: 0s - loss: 0.0311 - accuracy: 0.9857 - f1_metric: 0.9660WARNING:tensorflow:Can save best model only with val_f1_metric available, skipping.\n",
            "WARNING:tensorflow:Can save best model only with val_f1_metric available, skipping.\n",
            " 9/13 [===================>..........] - ETA: 0s - loss: 0.0296 - accuracy: 0.9864 - f1_metric: 0.9666WARNING:tensorflow:Can save best model only with val_f1_metric available, skipping.\n",
            "WARNING:tensorflow:Can save best model only with val_f1_metric available, skipping.\n",
            "11/13 [========================>.....] - ETA: 0s - loss: 0.0281 - accuracy: 0.9873 - f1_metric: 0.9671WARNING:tensorflow:Can save best model only with val_f1_metric available, skipping.\n",
            "12/13 [==========================>...] - ETA: 0s - loss: 0.0275 - accuracy: 0.9877 - f1_metric: 0.9673WARNING:tensorflow:Can save best model only with val_f1_metric available, skipping.\n",
            "WARNING:tensorflow:Can save best model only with val_f1_metric available, skipping.\n",
            "13/13 [==============================] - 1s 50ms/step - loss: 0.0264 - accuracy: 0.9884 - f1_metric: 0.9675 - val_loss: 0.0117 - val_accuracy: 0.9901 - val_f1_metric: 0.9716\n",
            "Epoch 30/30\n",
            " 1/13 [=>............................] - ETA: 0s - loss: 0.0154 - accuracy: 0.9844 - f1_metric: 1.0079WARNING:tensorflow:Can save best model only with val_f1_metric available, skipping.\n",
            "WARNING:tensorflow:Can save best model only with val_f1_metric available, skipping.\n",
            " 3/13 [=====>........................] - ETA: 0s - loss: 0.0157 - accuracy: 0.9861 - f1_metric: 0.9974WARNING:tensorflow:Can save best model only with val_f1_metric available, skipping.\n",
            "WARNING:tensorflow:Can save best model only with val_f1_metric available, skipping.\n",
            " 5/13 [==========>...................] - ETA: 0s - loss: 0.0181 - accuracy: 0.9874 - f1_metric: 0.9900WARNING:tensorflow:Can save best model only with val_f1_metric available, skipping.\n",
            "WARNING:tensorflow:Can save best model only with val_f1_metric available, skipping.\n",
            " 7/13 [===============>..............] - ETA: 0s - loss: 0.0198 - accuracy: 0.9890 - f1_metric: 0.9855WARNING:tensorflow:Can save best model only with val_f1_metric available, skipping.\n",
            "WARNING:tensorflow:Can save best model only with val_f1_metric available, skipping.\n",
            " 9/13 [===================>..........] - ETA: 0s - loss: 0.0200 - accuracy: 0.9902 - f1_metric: 0.9825WARNING:tensorflow:Can save best model only with val_f1_metric available, skipping.\n",
            "WARNING:tensorflow:Can save best model only with val_f1_metric available, skipping.\n",
            "11/13 [========================>.....] - ETA: 0s - loss: 0.0197 - accuracy: 0.9912 - f1_metric: 0.9805WARNING:tensorflow:Can save best model only with val_f1_metric available, skipping.\n",
            "WARNING:tensorflow:Can save best model only with val_f1_metric available, skipping.\n",
            "13/13 [==============================] - ETA: 0s - loss: 0.0192 - accuracy: 0.9919 - f1_metric: 0.9791WARNING:tensorflow:Can save best model only with val_f1_metric available, skipping.\n",
            "13/13 [==============================] - 1s 49ms/step - loss: 0.0190 - accuracy: 0.9922 - f1_metric: 0.9786 - val_loss: 0.0082 - val_accuracy: 0.9950 - val_f1_metric: 0.9716\n",
            "CPU times: user 25.8 s, sys: 1.39 s, total: 27.2 s\n",
            "Wall time: 20 s\n"
          ],
          "name": "stdout"
        }
      ]
    },
    {
      "cell_type": "code",
      "metadata": {
        "id": "6OK_hFgGGNmk",
        "outputId": "bf869e1b-b3a1-4387-d7c3-72eb62007856",
        "colab": {
          "base_uri": "https://localhost:8080/"
        }
      },
      "source": [
        "eval = model.evaluate(x=x_test, y=y_test, batch_size=64, verbose=1)"
      ],
      "execution_count": 27,
      "outputs": [
        {
          "output_type": "stream",
          "text": [
            "4/4 [==============================] - 0s 9ms/step - loss: 6.4463e-04 - accuracy: 1.0000 - f1_metric: 0.9651\n"
          ],
          "name": "stdout"
        }
      ]
    }
  ]
}