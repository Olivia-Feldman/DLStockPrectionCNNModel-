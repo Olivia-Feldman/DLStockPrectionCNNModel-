{
  "nbformat": 4,
  "nbformat_minor": 0,
  "metadata": {
    "colab": {
      "name": "stock_predictor_rnn.ipynb",
      "provenance": [],
      "authorship_tag": "ABX9TyPBoJHqoYMoR+VFwDGxxyEj",
      "include_colab_link": true
    },
    "kernelspec": {
      "name": "python3",
      "display_name": "Python 3"
    },
    "language_info": {
      "name": "python"
    }
  },
  "cells": [
    {
      "cell_type": "markdown",
      "metadata": {
        "id": "view-in-github",
        "colab_type": "text"
      },
      "source": [
        "<a href=\"https://colab.research.google.com/github/Olivia-Feldman/DLStockPrectionCNNModel-/blob/Andrew/sources/stock_predictor_rnn.ipynb\" target=\"_parent\"><img src=\"https://colab.research.google.com/assets/colab-badge.svg\" alt=\"Open In Colab\"/></a>"
      ]
    },
    {
      "cell_type": "markdown",
      "metadata": {
        "id": "EJfBJeeBOg8y"
      },
      "source": [
        "# Default Imports"
      ]
    },
    {
      "cell_type": "code",
      "metadata": {
        "id": "8979G-xuOKo7"
      },
      "source": [
        "import requests\n",
        "import pandas as pd\n",
        "import numpy as np\n",
        "from datetime import datetime\n",
        "import matplotlib.pyplot as plt\n",
        "import matplotlib.ticker as tick\n",
        "from sklearn.preprocessing import StandardScaler, MinMaxScaler"
      ],
      "execution_count": 1,
      "outputs": []
    },
    {
      "cell_type": "markdown",
      "metadata": {
        "id": "1GH5vN7WOZV8"
      },
      "source": [
        "# Set plot stylizations"
      ]
    },
    {
      "cell_type": "code",
      "metadata": {
        "id": "NG6BA2WUOcbN"
      },
      "source": [
        "plt.rcParams.update({'font.size': 16})\n",
        "plt.rcParams['figure.figsize'] = [12, 8]\n",
        "plt.style.use('dark_background')"
      ],
      "execution_count": 2,
      "outputs": []
    },
    {
      "cell_type": "code",
      "metadata": {
        "id": "LgPX1QNROe2L"
      },
      "source": [
        "def getStockData(ticker: str, constRange: str='5y'):\n",
        "    url = \"https://query1.finance.yahoo.com/v8/finance/chart/\" + ticker + \"?region=US&lang=en-US&includePrePost=false&interval=1d&useYfid=true&range=\" + constRange + \"&corsDomain=finance.yahoo.com&.tsrc=finance\"\n",
        "    x = requests.get(url)\n",
        "    jsonResponse = x.json()\n",
        "    timestamps = jsonResponse[\"chart\"][\"result\"][0][\"timestamp\"]\n",
        "    open = jsonResponse[\"chart\"][\"result\"][0][\"indicators\"][\"quote\"][0][\"open\"]\n",
        "    high = jsonResponse[\"chart\"][\"result\"][0][\"indicators\"][\"quote\"][0][\"high\"]\n",
        "    low = jsonResponse[\"chart\"][\"result\"][0][\"indicators\"][\"quote\"][0][\"low\"]\n",
        "    close = jsonResponse[\"chart\"][\"result\"][0][\"indicators\"][\"quote\"][0][\"close\"]\n",
        "    volume = jsonResponse[\"chart\"][\"result\"][0][\"indicators\"][\"quote\"][0][\"volume\"]\n",
        "\n",
        "    datetimes = list(map(toDatetime, timestamps))\n",
        "\n",
        "    data = {\n",
        "        'timestamps' : datetimes,\n",
        "        'open' : open,\n",
        "        'high' : high,\n",
        "        'low' : low,\n",
        "        'close' : close,\n",
        "        'volume' : volume\n",
        "    }\n",
        "\n",
        "    df = pd.DataFrame(data, columns=['timestamps', 'open', 'high', 'low', 'close', 'volume'])\n",
        "    return df\n",
        "\n",
        "def toDatetime(t):\n",
        "    return datetime.fromtimestamp(t)"
      ],
      "execution_count": 3,
      "outputs": []
    },
    {
      "cell_type": "code",
      "metadata": {
        "id": "ytopqK32Pm5s"
      },
      "source": [
        "ticker = 'QQQ'\n",
        "df = getStockData(ticker, constRange='10y')\n"
      ],
      "execution_count": 4,
      "outputs": []
    },
    {
      "cell_type": "code",
      "metadata": {
        "colab": {
          "base_uri": "https://localhost:8080/",
          "height": 204
        },
        "id": "7cJsTKSpPujc",
        "outputId": "bd2a12d3-de1f-40f4-e38c-0b12d5fef7f6"
      },
      "source": [
        "df.tail()"
      ],
      "execution_count": 5,
      "outputs": [
        {
          "output_type": "execute_result",
          "data": {
            "text/html": [
              "<div>\n",
              "<style scoped>\n",
              "    .dataframe tbody tr th:only-of-type {\n",
              "        vertical-align: middle;\n",
              "    }\n",
              "\n",
              "    .dataframe tbody tr th {\n",
              "        vertical-align: top;\n",
              "    }\n",
              "\n",
              "    .dataframe thead th {\n",
              "        text-align: right;\n",
              "    }\n",
              "</style>\n",
              "<table border=\"1\" class=\"dataframe\">\n",
              "  <thead>\n",
              "    <tr style=\"text-align: right;\">\n",
              "      <th></th>\n",
              "      <th>timestamps</th>\n",
              "      <th>open</th>\n",
              "      <th>high</th>\n",
              "      <th>low</th>\n",
              "      <th>close</th>\n",
              "      <th>volume</th>\n",
              "    </tr>\n",
              "  </thead>\n",
              "  <tbody>\n",
              "    <tr>\n",
              "      <th>2511</th>\n",
              "      <td>2021-04-16 13:30:00</td>\n",
              "      <td>342.149994</td>\n",
              "      <td>342.230011</td>\n",
              "      <td>340.079987</td>\n",
              "      <td>342.010010</td>\n",
              "      <td>40582900</td>\n",
              "    </tr>\n",
              "    <tr>\n",
              "      <th>2512</th>\n",
              "      <td>2021-04-19 13:30:00</td>\n",
              "      <td>340.390015</td>\n",
              "      <td>341.579987</td>\n",
              "      <td>336.899994</td>\n",
              "      <td>338.880005</td>\n",
              "      <td>34533100</td>\n",
              "    </tr>\n",
              "    <tr>\n",
              "      <th>2513</th>\n",
              "      <td>2021-04-20 13:30:00</td>\n",
              "      <td>338.200012</td>\n",
              "      <td>339.519989</td>\n",
              "      <td>334.380005</td>\n",
              "      <td>336.410004</td>\n",
              "      <td>38081800</td>\n",
              "    </tr>\n",
              "    <tr>\n",
              "      <th>2514</th>\n",
              "      <td>2021-04-21 13:30:00</td>\n",
              "      <td>335.089996</td>\n",
              "      <td>339.480011</td>\n",
              "      <td>333.970001</td>\n",
              "      <td>339.290009</td>\n",
              "      <td>36347800</td>\n",
              "    </tr>\n",
              "    <tr>\n",
              "      <th>2515</th>\n",
              "      <td>2021-04-22 20:00:03</td>\n",
              "      <td>338.890015</td>\n",
              "      <td>339.899994</td>\n",
              "      <td>334.010010</td>\n",
              "      <td>335.200012</td>\n",
              "      <td>45928730</td>\n",
              "    </tr>\n",
              "  </tbody>\n",
              "</table>\n",
              "</div>"
            ],
            "text/plain": [
              "              timestamps        open  ...       close    volume\n",
              "2511 2021-04-16 13:30:00  342.149994  ...  342.010010  40582900\n",
              "2512 2021-04-19 13:30:00  340.390015  ...  338.880005  34533100\n",
              "2513 2021-04-20 13:30:00  338.200012  ...  336.410004  38081800\n",
              "2514 2021-04-21 13:30:00  335.089996  ...  339.290009  36347800\n",
              "2515 2021-04-22 20:00:03  338.890015  ...  335.200012  45928730\n",
              "\n",
              "[5 rows x 6 columns]"
            ]
          },
          "metadata": {
            "tags": []
          },
          "execution_count": 5
        }
      ]
    },
    {
      "cell_type": "code",
      "metadata": {
        "colab": {
          "base_uri": "https://localhost:8080/",
          "height": 419
        },
        "id": "7IsSWRQ8Qxv1",
        "outputId": "fcbf2d19-420e-4131-8b55-0dcb4275152d"
      },
      "source": [
        "data_train_copy = df[df['timestamps']<'2020-01-01'].copy()\n",
        "data_train_copy"
      ],
      "execution_count": 6,
      "outputs": [
        {
          "output_type": "execute_result",
          "data": {
            "text/html": [
              "<div>\n",
              "<style scoped>\n",
              "    .dataframe tbody tr th:only-of-type {\n",
              "        vertical-align: middle;\n",
              "    }\n",
              "\n",
              "    .dataframe tbody tr th {\n",
              "        vertical-align: top;\n",
              "    }\n",
              "\n",
              "    .dataframe thead th {\n",
              "        text-align: right;\n",
              "    }\n",
              "</style>\n",
              "<table border=\"1\" class=\"dataframe\">\n",
              "  <thead>\n",
              "    <tr style=\"text-align: right;\">\n",
              "      <th></th>\n",
              "      <th>timestamps</th>\n",
              "      <th>open</th>\n",
              "      <th>high</th>\n",
              "      <th>low</th>\n",
              "      <th>close</th>\n",
              "      <th>volume</th>\n",
              "    </tr>\n",
              "  </thead>\n",
              "  <tbody>\n",
              "    <tr>\n",
              "      <th>0</th>\n",
              "      <td>2011-04-25 13:30:00</td>\n",
              "      <td>58.389999</td>\n",
              "      <td>58.520000</td>\n",
              "      <td>58.279999</td>\n",
              "      <td>58.490002</td>\n",
              "      <td>25376800</td>\n",
              "    </tr>\n",
              "    <tr>\n",
              "      <th>1</th>\n",
              "      <td>2011-04-26 13:30:00</td>\n",
              "      <td>58.639999</td>\n",
              "      <td>59.029999</td>\n",
              "      <td>58.509998</td>\n",
              "      <td>58.820000</td>\n",
              "      <td>49400000</td>\n",
              "    </tr>\n",
              "    <tr>\n",
              "      <th>2</th>\n",
              "      <td>2011-04-27 13:30:00</td>\n",
              "      <td>58.930000</td>\n",
              "      <td>59.290001</td>\n",
              "      <td>58.660000</td>\n",
              "      <td>59.220001</td>\n",
              "      <td>56465500</td>\n",
              "    </tr>\n",
              "    <tr>\n",
              "      <th>3</th>\n",
              "      <td>2011-04-28 13:30:00</td>\n",
              "      <td>59.040001</td>\n",
              "      <td>59.230000</td>\n",
              "      <td>58.880001</td>\n",
              "      <td>59.130001</td>\n",
              "      <td>48100000</td>\n",
              "    </tr>\n",
              "    <tr>\n",
              "      <th>4</th>\n",
              "      <td>2011-04-29 13:30:00</td>\n",
              "      <td>59.020000</td>\n",
              "      <td>59.290001</td>\n",
              "      <td>58.980000</td>\n",
              "      <td>59.080002</td>\n",
              "      <td>44831200</td>\n",
              "    </tr>\n",
              "    <tr>\n",
              "      <th>...</th>\n",
              "      <td>...</td>\n",
              "      <td>...</td>\n",
              "      <td>...</td>\n",
              "      <td>...</td>\n",
              "      <td>...</td>\n",
              "      <td>...</td>\n",
              "    </tr>\n",
              "    <tr>\n",
              "      <th>2182</th>\n",
              "      <td>2019-12-24 14:30:00</td>\n",
              "      <td>212.000000</td>\n",
              "      <td>212.089996</td>\n",
              "      <td>211.440002</td>\n",
              "      <td>211.919998</td>\n",
              "      <td>7089000</td>\n",
              "    </tr>\n",
              "    <tr>\n",
              "      <th>2183</th>\n",
              "      <td>2019-12-26 14:30:00</td>\n",
              "      <td>212.259995</td>\n",
              "      <td>213.809998</td>\n",
              "      <td>212.229996</td>\n",
              "      <td>213.789993</td>\n",
              "      <td>17067500</td>\n",
              "    </tr>\n",
              "    <tr>\n",
              "      <th>2184</th>\n",
              "      <td>2019-12-27 14:30:00</td>\n",
              "      <td>214.539993</td>\n",
              "      <td>214.559998</td>\n",
              "      <td>213.039993</td>\n",
              "      <td>213.610001</td>\n",
              "      <td>18134100</td>\n",
              "    </tr>\n",
              "    <tr>\n",
              "      <th>2185</th>\n",
              "      <td>2019-12-30 14:30:00</td>\n",
              "      <td>213.500000</td>\n",
              "      <td>213.630005</td>\n",
              "      <td>211.160004</td>\n",
              "      <td>212.210007</td>\n",
              "      <td>21815500</td>\n",
              "    </tr>\n",
              "    <tr>\n",
              "      <th>2186</th>\n",
              "      <td>2019-12-31 14:30:00</td>\n",
              "      <td>211.529999</td>\n",
              "      <td>212.759995</td>\n",
              "      <td>211.199997</td>\n",
              "      <td>212.610001</td>\n",
              "      <td>18170900</td>\n",
              "    </tr>\n",
              "  </tbody>\n",
              "</table>\n",
              "<p>2187 rows × 6 columns</p>\n",
              "</div>"
            ],
            "text/plain": [
              "              timestamps        open  ...       close    volume\n",
              "0    2011-04-25 13:30:00   58.389999  ...   58.490002  25376800\n",
              "1    2011-04-26 13:30:00   58.639999  ...   58.820000  49400000\n",
              "2    2011-04-27 13:30:00   58.930000  ...   59.220001  56465500\n",
              "3    2011-04-28 13:30:00   59.040001  ...   59.130001  48100000\n",
              "4    2011-04-29 13:30:00   59.020000  ...   59.080002  44831200\n",
              "...                  ...         ...  ...         ...       ...\n",
              "2182 2019-12-24 14:30:00  212.000000  ...  211.919998   7089000\n",
              "2183 2019-12-26 14:30:00  212.259995  ...  213.789993  17067500\n",
              "2184 2019-12-27 14:30:00  214.539993  ...  213.610001  18134100\n",
              "2185 2019-12-30 14:30:00  213.500000  ...  212.210007  21815500\n",
              "2186 2019-12-31 14:30:00  211.529999  ...  212.610001  18170900\n",
              "\n",
              "[2187 rows x 6 columns]"
            ]
          },
          "metadata": {
            "tags": []
          },
          "execution_count": 6
        }
      ]
    },
    {
      "cell_type": "code",
      "metadata": {
        "colab": {
          "base_uri": "https://localhost:8080/",
          "height": 419
        },
        "id": "U9s7yP3rRRYu",
        "outputId": "f2287428-89b6-4ade-85af-7e77e6da327e"
      },
      "source": [
        "data_test_copy = df[df['timestamps']>='2020-01-01'].copy()\n",
        "data_test_copy"
      ],
      "execution_count": 7,
      "outputs": [
        {
          "output_type": "execute_result",
          "data": {
            "text/html": [
              "<div>\n",
              "<style scoped>\n",
              "    .dataframe tbody tr th:only-of-type {\n",
              "        vertical-align: middle;\n",
              "    }\n",
              "\n",
              "    .dataframe tbody tr th {\n",
              "        vertical-align: top;\n",
              "    }\n",
              "\n",
              "    .dataframe thead th {\n",
              "        text-align: right;\n",
              "    }\n",
              "</style>\n",
              "<table border=\"1\" class=\"dataframe\">\n",
              "  <thead>\n",
              "    <tr style=\"text-align: right;\">\n",
              "      <th></th>\n",
              "      <th>timestamps</th>\n",
              "      <th>open</th>\n",
              "      <th>high</th>\n",
              "      <th>low</th>\n",
              "      <th>close</th>\n",
              "      <th>volume</th>\n",
              "    </tr>\n",
              "  </thead>\n",
              "  <tbody>\n",
              "    <tr>\n",
              "      <th>2187</th>\n",
              "      <td>2020-01-02 14:30:00</td>\n",
              "      <td>214.399994</td>\n",
              "      <td>216.160004</td>\n",
              "      <td>213.979996</td>\n",
              "      <td>216.160004</td>\n",
              "      <td>30969400</td>\n",
              "    </tr>\n",
              "    <tr>\n",
              "      <th>2188</th>\n",
              "      <td>2020-01-03 14:30:00</td>\n",
              "      <td>213.300003</td>\n",
              "      <td>215.470001</td>\n",
              "      <td>213.279999</td>\n",
              "      <td>214.179993</td>\n",
              "      <td>27518900</td>\n",
              "    </tr>\n",
              "    <tr>\n",
              "      <th>2189</th>\n",
              "      <td>2020-01-06 14:30:00</td>\n",
              "      <td>212.500000</td>\n",
              "      <td>215.589996</td>\n",
              "      <td>212.240005</td>\n",
              "      <td>215.559998</td>\n",
              "      <td>21655300</td>\n",
              "    </tr>\n",
              "    <tr>\n",
              "      <th>2190</th>\n",
              "      <td>2020-01-07 14:30:00</td>\n",
              "      <td>215.639999</td>\n",
              "      <td>216.139999</td>\n",
              "      <td>214.850006</td>\n",
              "      <td>215.529999</td>\n",
              "      <td>22139300</td>\n",
              "    </tr>\n",
              "    <tr>\n",
              "      <th>2191</th>\n",
              "      <td>2020-01-08 14:30:00</td>\n",
              "      <td>215.500000</td>\n",
              "      <td>218.139999</td>\n",
              "      <td>215.160004</td>\n",
              "      <td>217.149994</td>\n",
              "      <td>26397300</td>\n",
              "    </tr>\n",
              "    <tr>\n",
              "      <th>...</th>\n",
              "      <td>...</td>\n",
              "      <td>...</td>\n",
              "      <td>...</td>\n",
              "      <td>...</td>\n",
              "      <td>...</td>\n",
              "      <td>...</td>\n",
              "    </tr>\n",
              "    <tr>\n",
              "      <th>2511</th>\n",
              "      <td>2021-04-16 13:30:00</td>\n",
              "      <td>342.149994</td>\n",
              "      <td>342.230011</td>\n",
              "      <td>340.079987</td>\n",
              "      <td>342.010010</td>\n",
              "      <td>40582900</td>\n",
              "    </tr>\n",
              "    <tr>\n",
              "      <th>2512</th>\n",
              "      <td>2021-04-19 13:30:00</td>\n",
              "      <td>340.390015</td>\n",
              "      <td>341.579987</td>\n",
              "      <td>336.899994</td>\n",
              "      <td>338.880005</td>\n",
              "      <td>34533100</td>\n",
              "    </tr>\n",
              "    <tr>\n",
              "      <th>2513</th>\n",
              "      <td>2021-04-20 13:30:00</td>\n",
              "      <td>338.200012</td>\n",
              "      <td>339.519989</td>\n",
              "      <td>334.380005</td>\n",
              "      <td>336.410004</td>\n",
              "      <td>38081800</td>\n",
              "    </tr>\n",
              "    <tr>\n",
              "      <th>2514</th>\n",
              "      <td>2021-04-21 13:30:00</td>\n",
              "      <td>335.089996</td>\n",
              "      <td>339.480011</td>\n",
              "      <td>333.970001</td>\n",
              "      <td>339.290009</td>\n",
              "      <td>36347800</td>\n",
              "    </tr>\n",
              "    <tr>\n",
              "      <th>2515</th>\n",
              "      <td>2021-04-22 20:00:03</td>\n",
              "      <td>338.890015</td>\n",
              "      <td>339.899994</td>\n",
              "      <td>334.010010</td>\n",
              "      <td>335.200012</td>\n",
              "      <td>45928730</td>\n",
              "    </tr>\n",
              "  </tbody>\n",
              "</table>\n",
              "<p>329 rows × 6 columns</p>\n",
              "</div>"
            ],
            "text/plain": [
              "              timestamps        open  ...       close    volume\n",
              "2187 2020-01-02 14:30:00  214.399994  ...  216.160004  30969400\n",
              "2188 2020-01-03 14:30:00  213.300003  ...  214.179993  27518900\n",
              "2189 2020-01-06 14:30:00  212.500000  ...  215.559998  21655300\n",
              "2190 2020-01-07 14:30:00  215.639999  ...  215.529999  22139300\n",
              "2191 2020-01-08 14:30:00  215.500000  ...  217.149994  26397300\n",
              "...                  ...         ...  ...         ...       ...\n",
              "2511 2021-04-16 13:30:00  342.149994  ...  342.010010  40582900\n",
              "2512 2021-04-19 13:30:00  340.390015  ...  338.880005  34533100\n",
              "2513 2021-04-20 13:30:00  338.200012  ...  336.410004  38081800\n",
              "2514 2021-04-21 13:30:00  335.089996  ...  339.290009  36347800\n",
              "2515 2021-04-22 20:00:03  338.890015  ...  335.200012  45928730\n",
              "\n",
              "[329 rows x 6 columns]"
            ]
          },
          "metadata": {
            "tags": []
          },
          "execution_count": 7
        }
      ]
    },
    {
      "cell_type": "code",
      "metadata": {
        "colab": {
          "base_uri": "https://localhost:8080/",
          "height": 204
        },
        "id": "ziloxFL6Rhy0",
        "outputId": "b7e2eb46-a7ad-4310-d0d9-988ff1c2f108"
      },
      "source": [
        "training_data = data_train_copy.drop(['timestamps'], axis=1)\n",
        "training_data.head()"
      ],
      "execution_count": 8,
      "outputs": [
        {
          "output_type": "execute_result",
          "data": {
            "text/html": [
              "<div>\n",
              "<style scoped>\n",
              "    .dataframe tbody tr th:only-of-type {\n",
              "        vertical-align: middle;\n",
              "    }\n",
              "\n",
              "    .dataframe tbody tr th {\n",
              "        vertical-align: top;\n",
              "    }\n",
              "\n",
              "    .dataframe thead th {\n",
              "        text-align: right;\n",
              "    }\n",
              "</style>\n",
              "<table border=\"1\" class=\"dataframe\">\n",
              "  <thead>\n",
              "    <tr style=\"text-align: right;\">\n",
              "      <th></th>\n",
              "      <th>open</th>\n",
              "      <th>high</th>\n",
              "      <th>low</th>\n",
              "      <th>close</th>\n",
              "      <th>volume</th>\n",
              "    </tr>\n",
              "  </thead>\n",
              "  <tbody>\n",
              "    <tr>\n",
              "      <th>0</th>\n",
              "      <td>58.389999</td>\n",
              "      <td>58.520000</td>\n",
              "      <td>58.279999</td>\n",
              "      <td>58.490002</td>\n",
              "      <td>25376800</td>\n",
              "    </tr>\n",
              "    <tr>\n",
              "      <th>1</th>\n",
              "      <td>58.639999</td>\n",
              "      <td>59.029999</td>\n",
              "      <td>58.509998</td>\n",
              "      <td>58.820000</td>\n",
              "      <td>49400000</td>\n",
              "    </tr>\n",
              "    <tr>\n",
              "      <th>2</th>\n",
              "      <td>58.930000</td>\n",
              "      <td>59.290001</td>\n",
              "      <td>58.660000</td>\n",
              "      <td>59.220001</td>\n",
              "      <td>56465500</td>\n",
              "    </tr>\n",
              "    <tr>\n",
              "      <th>3</th>\n",
              "      <td>59.040001</td>\n",
              "      <td>59.230000</td>\n",
              "      <td>58.880001</td>\n",
              "      <td>59.130001</td>\n",
              "      <td>48100000</td>\n",
              "    </tr>\n",
              "    <tr>\n",
              "      <th>4</th>\n",
              "      <td>59.020000</td>\n",
              "      <td>59.290001</td>\n",
              "      <td>58.980000</td>\n",
              "      <td>59.080002</td>\n",
              "      <td>44831200</td>\n",
              "    </tr>\n",
              "  </tbody>\n",
              "</table>\n",
              "</div>"
            ],
            "text/plain": [
              "        open       high        low      close    volume\n",
              "0  58.389999  58.520000  58.279999  58.490002  25376800\n",
              "1  58.639999  59.029999  58.509998  58.820000  49400000\n",
              "2  58.930000  59.290001  58.660000  59.220001  56465500\n",
              "3  59.040001  59.230000  58.880001  59.130001  48100000\n",
              "4  59.020000  59.290001  58.980000  59.080002  44831200"
            ]
          },
          "metadata": {
            "tags": []
          },
          "execution_count": 8
        }
      ]
    },
    {
      "cell_type": "code",
      "metadata": {
        "colab": {
          "base_uri": "https://localhost:8080/"
        },
        "id": "RAsRvk_VR1dV",
        "outputId": "64a95167-8e2d-4fa2-b8d7-41c8c31f01d8"
      },
      "source": [
        "scaler = MinMaxScaler()\n",
        "training_data = scaler.fit_transform(training_data)\n",
        "training_data.shape"
      ],
      "execution_count": 9,
      "outputs": [
        {
          "output_type": "execute_result",
          "data": {
            "text/plain": [
              "(2187, 5)"
            ]
          },
          "metadata": {
            "tags": []
          },
          "execution_count": 9
        }
      ]
    },
    {
      "cell_type": "code",
      "metadata": {
        "id": "gDKpoF1ufFR-"
      },
      "source": [
        "time_step = 10\n",
        "\n",
        "X_train = []\n",
        "y_train = []\n",
        "for i in range(time_step, training_data.shape[0]):\n",
        "    X_train.append(training_data[i-time_step:i])\n",
        "    y_train.append(training_data[i, 0]) "
      ],
      "execution_count": 10,
      "outputs": []
    },
    {
      "cell_type": "code",
      "metadata": {
        "colab": {
          "base_uri": "https://localhost:8080/"
        },
        "id": "LwLmEO1zhRH8",
        "outputId": "231de6cc-fbb3-41a2-e972-eb0f272b4257"
      },
      "source": [
        "X_train, y_train = np.array(X_train), np.array(y_train)\n",
        "X_train.shape, y_train.shape"
      ],
      "execution_count": 11,
      "outputs": [
        {
          "output_type": "execute_result",
          "data": {
            "text/plain": [
              "((2177, 10, 5), (2177,))"
            ]
          },
          "metadata": {
            "tags": []
          },
          "execution_count": 11
        }
      ]
    },
    {
      "cell_type": "code",
      "metadata": {
        "id": "dpjJ-X4MiHua"
      },
      "source": [
        "from tensorflow.keras import Sequential\n",
        "from tensorflow.keras.layers import Dense, LSTM, Dropout"
      ],
      "execution_count": 12,
      "outputs": []
    },
    {
      "cell_type": "code",
      "metadata": {
        "id": "2Cu3qsP1ifFT"
      },
      "source": [
        "model = Sequential([\n",
        "    LSTM(\n",
        "        units=60, \n",
        "        activation='relu', \n",
        "        return_sequences=True, \n",
        "        input_shape=(X_train.shape[1], X_train.shape[2])),\n",
        "    Dropout(0.2),\n",
        "    LSTM(\n",
        "        units=60, \n",
        "        activation='relu', \n",
        "        return_sequences=True),\n",
        "    Dropout(0.2),\n",
        "    LSTM(\n",
        "        units=80, \n",
        "        activation='relu', \n",
        "        return_sequences=True),\n",
        "    Dropout(0.2),\n",
        "    LSTM(\n",
        "        units=120, \n",
        "        activation='relu'),\n",
        "    Dropout(0.2),\n",
        "    Dense(units=1)\n",
        "])\n",
        "# regressor.add(LSTM(units = 50, return_sequences = True, input_shape = (X_train.shape[1], 1)))\n",
        "# regressor.add(Dropout(0.2))\n",
        "# regressor.add(LSTM(units = 50, return_sequences = True))\n",
        "# regressor.add(Dropout(0.2))\n",
        "# regressor.add(LSTM(units = 50, return_sequences = True))\n",
        "# regressor.add(Dropout(0.2))\n",
        "# regressor.add(LSTM(units = 50))\n",
        "# regressor.add(Dropout(0.2))\n",
        "# regressor.add(Dense(units = 1))"
      ],
      "execution_count": 13,
      "outputs": []
    },
    {
      "cell_type": "code",
      "metadata": {
        "colab": {
          "base_uri": "https://localhost:8080/"
        },
        "id": "2HRLkP7hi_aG",
        "outputId": "4407fe91-d681-4426-f636-ccfdd86d5329"
      },
      "source": [
        "model.summary()"
      ],
      "execution_count": 14,
      "outputs": [
        {
          "output_type": "stream",
          "text": [
            "Model: \"sequential\"\n",
            "_________________________________________________________________\n",
            "Layer (type)                 Output Shape              Param #   \n",
            "=================================================================\n",
            "lstm (LSTM)                  (None, 10, 60)            15840     \n",
            "_________________________________________________________________\n",
            "dropout (Dropout)            (None, 10, 60)            0         \n",
            "_________________________________________________________________\n",
            "lstm_1 (LSTM)                (None, 10, 60)            29040     \n",
            "_________________________________________________________________\n",
            "dropout_1 (Dropout)          (None, 10, 60)            0         \n",
            "_________________________________________________________________\n",
            "lstm_2 (LSTM)                (None, 10, 80)            45120     \n",
            "_________________________________________________________________\n",
            "dropout_2 (Dropout)          (None, 10, 80)            0         \n",
            "_________________________________________________________________\n",
            "lstm_3 (LSTM)                (None, 120)               96480     \n",
            "_________________________________________________________________\n",
            "dropout_3 (Dropout)          (None, 120)               0         \n",
            "_________________________________________________________________\n",
            "dense (Dense)                (None, 1)                 121       \n",
            "=================================================================\n",
            "Total params: 186,601\n",
            "Trainable params: 186,601\n",
            "Non-trainable params: 0\n",
            "_________________________________________________________________\n"
          ],
          "name": "stdout"
        }
      ]
    },
    {
      "cell_type": "code",
      "metadata": {
        "id": "_Py1NlWakRaw"
      },
      "source": [
        "model.compile(optimizer='adam', loss='mean_squared_error')"
      ],
      "execution_count": 15,
      "outputs": []
    },
    {
      "cell_type": "code",
      "metadata": {
        "colab": {
          "base_uri": "https://localhost:8080/"
        },
        "id": "6pf7M0sDkb5-",
        "outputId": "0a13877b-df66-4571-e81c-5f684d40998b"
      },
      "source": [
        "model.fit(X_train, y_train, epochs=20, batch_size=32)"
      ],
      "execution_count": 16,
      "outputs": [
        {
          "output_type": "stream",
          "text": [
            "Epoch 1/20\n",
            "69/69 [==============================] - 7s 29ms/step - loss: 0.0951\n",
            "Epoch 2/20\n",
            "69/69 [==============================] - 2s 28ms/step - loss: 0.0031\n",
            "Epoch 3/20\n",
            "69/69 [==============================] - 2s 28ms/step - loss: 0.0026\n",
            "Epoch 4/20\n",
            "69/69 [==============================] - 2s 27ms/step - loss: 0.0022\n",
            "Epoch 5/20\n",
            "69/69 [==============================] - 2s 27ms/step - loss: 0.0024\n",
            "Epoch 6/20\n",
            "69/69 [==============================] - 2s 28ms/step - loss: 0.0029\n",
            "Epoch 7/20\n",
            "69/69 [==============================] - 2s 28ms/step - loss: 0.0021\n",
            "Epoch 8/20\n",
            "69/69 [==============================] - 2s 27ms/step - loss: 0.0034\n",
            "Epoch 9/20\n",
            "69/69 [==============================] - 2s 27ms/step - loss: 0.0018\n",
            "Epoch 10/20\n",
            "69/69 [==============================] - 2s 28ms/step - loss: 0.0020\n",
            "Epoch 11/20\n",
            "69/69 [==============================] - 2s 28ms/step - loss: 0.0018\n",
            "Epoch 12/20\n",
            "69/69 [==============================] - 2s 28ms/step - loss: 0.0019\n",
            "Epoch 13/20\n",
            "69/69 [==============================] - 2s 27ms/step - loss: 0.0016\n",
            "Epoch 14/20\n",
            "69/69 [==============================] - 2s 27ms/step - loss: 0.0016\n",
            "Epoch 15/20\n",
            "69/69 [==============================] - 2s 27ms/step - loss: 0.0015\n",
            "Epoch 16/20\n",
            "69/69 [==============================] - 2s 27ms/step - loss: 0.0014\n",
            "Epoch 17/20\n",
            "69/69 [==============================] - 2s 27ms/step - loss: 0.0013\n",
            "Epoch 18/20\n",
            "69/69 [==============================] - 2s 27ms/step - loss: 0.0014\n",
            "Epoch 19/20\n",
            "69/69 [==============================] - 2s 27ms/step - loss: 0.0012\n",
            "Epoch 20/20\n",
            "69/69 [==============================] - 2s 27ms/step - loss: 0.0012\n"
          ],
          "name": "stdout"
        },
        {
          "output_type": "execute_result",
          "data": {
            "text/plain": [
              "<tensorflow.python.keras.callbacks.History at 0x7f6019b2c550>"
            ]
          },
          "metadata": {
            "tags": []
          },
          "execution_count": 16
        }
      ]
    },
    {
      "cell_type": "code",
      "metadata": {
        "colab": {
          "base_uri": "https://localhost:8080/",
          "height": 204
        },
        "id": "8h8zWqQVlQyd",
        "outputId": "e81e7a7c-1dd3-463f-c466-2e859d376d98"
      },
      "source": [
        "past_60_days = data_train_copy.tail(60)\n",
        "past_df = past_60_days.append(data_test_copy, ignore_index=True)\n",
        "past_df = past_df.drop(['timestamps'], axis=1)\n",
        "past_df.head()"
      ],
      "execution_count": 17,
      "outputs": [
        {
          "output_type": "execute_result",
          "data": {
            "text/html": [
              "<div>\n",
              "<style scoped>\n",
              "    .dataframe tbody tr th:only-of-type {\n",
              "        vertical-align: middle;\n",
              "    }\n",
              "\n",
              "    .dataframe tbody tr th {\n",
              "        vertical-align: top;\n",
              "    }\n",
              "\n",
              "    .dataframe thead th {\n",
              "        text-align: right;\n",
              "    }\n",
              "</style>\n",
              "<table border=\"1\" class=\"dataframe\">\n",
              "  <thead>\n",
              "    <tr style=\"text-align: right;\">\n",
              "      <th></th>\n",
              "      <th>open</th>\n",
              "      <th>high</th>\n",
              "      <th>low</th>\n",
              "      <th>close</th>\n",
              "      <th>volume</th>\n",
              "    </tr>\n",
              "  </thead>\n",
              "  <tbody>\n",
              "    <tr>\n",
              "      <th>0</th>\n",
              "      <td>188.270004</td>\n",
              "      <td>189.740005</td>\n",
              "      <td>187.910004</td>\n",
              "      <td>188.240005</td>\n",
              "      <td>21216000</td>\n",
              "    </tr>\n",
              "    <tr>\n",
              "      <th>1</th>\n",
              "      <td>187.059998</td>\n",
              "      <td>187.860001</td>\n",
              "      <td>185.270004</td>\n",
              "      <td>185.419998</td>\n",
              "      <td>32379300</td>\n",
              "    </tr>\n",
              "    <tr>\n",
              "      <th>2</th>\n",
              "      <td>186.990005</td>\n",
              "      <td>188.080002</td>\n",
              "      <td>186.429993</td>\n",
              "      <td>187.229996</td>\n",
              "      <td>20147400</td>\n",
              "    </tr>\n",
              "    <tr>\n",
              "      <th>3</th>\n",
              "      <td>187.279999</td>\n",
              "      <td>189.429993</td>\n",
              "      <td>187.119995</td>\n",
              "      <td>188.679993</td>\n",
              "      <td>25177700</td>\n",
              "    </tr>\n",
              "    <tr>\n",
              "      <th>4</th>\n",
              "      <td>190.830002</td>\n",
              "      <td>192.630005</td>\n",
              "      <td>190.720001</td>\n",
              "      <td>191.110001</td>\n",
              "      <td>40976700</td>\n",
              "    </tr>\n",
              "  </tbody>\n",
              "</table>\n",
              "</div>"
            ],
            "text/plain": [
              "         open        high         low       close    volume\n",
              "0  188.270004  189.740005  187.910004  188.240005  21216000\n",
              "1  187.059998  187.860001  185.270004  185.419998  32379300\n",
              "2  186.990005  188.080002  186.429993  187.229996  20147400\n",
              "3  187.279999  189.429993  187.119995  188.679993  25177700\n",
              "4  190.830002  192.630005  190.720001  191.110001  40976700"
            ]
          },
          "metadata": {
            "tags": []
          },
          "execution_count": 17
        }
      ]
    },
    {
      "cell_type": "code",
      "metadata": {
        "colab": {
          "base_uri": "https://localhost:8080/"
        },
        "id": "1EXyYruZlz_K",
        "outputId": "d6961b56-4bbc-4196-88e0-1ed3748729a0"
      },
      "source": [
        "inputs = scaler.transform(past_df)\n",
        "inputs"
      ],
      "execution_count": 18,
      "outputs": [
        {
          "output_type": "execute_result",
          "data": {
            "text/plain": [
              "array([[0.83993426, 0.84802846, 0.84593225, 0.84397906, 0.06828252],\n",
              "       [0.83256156, 0.83651728, 0.82974686, 0.8267587 , 0.12220304],\n",
              "       [0.83213509, 0.83786434, 0.83685855, 0.83781144, 0.06312101],\n",
              "       ...,\n",
              "       [1.75347321, 1.76512365, 1.74391525, 1.74877879, 0.14974702],\n",
              "       [1.73452356, 1.76487887, 1.74140159, 1.76636553, 0.14137152],\n",
              "       [1.75767746, 1.7674504 , 1.74164687, 1.74138998, 0.18764894]])"
            ]
          },
          "metadata": {
            "tags": []
          },
          "execution_count": 18
        }
      ]
    },
    {
      "cell_type": "code",
      "metadata": {
        "id": "g8TwvWLImTfT"
      },
      "source": [
        "X_test = []\n",
        "y_test = []\n",
        "for i in range(time_step, inputs.shape[0]):\n",
        "    X_test.append(inputs[i-time_step:i])\n",
        "    y_test.append(inputs[i, 0]) "
      ],
      "execution_count": 19,
      "outputs": []
    },
    {
      "cell_type": "code",
      "metadata": {
        "colab": {
          "base_uri": "https://localhost:8080/"
        },
        "id": "7zCR8liymqmt",
        "outputId": "2f154558-0c37-48b7-a3c3-78fdd28ae2bf"
      },
      "source": [
        "X_test, y_test = np.array(X_test), np.array(y_test)\n",
        "X_test.shape, y_test.shape"
      ],
      "execution_count": 20,
      "outputs": [
        {
          "output_type": "execute_result",
          "data": {
            "text/plain": [
              "((379, 10, 5), (379,))"
            ]
          },
          "metadata": {
            "tags": []
          },
          "execution_count": 20
        }
      ]
    },
    {
      "cell_type": "code",
      "metadata": {
        "id": "Ti4Lc0GzmLRm",
        "colab": {
          "base_uri": "https://localhost:8080/"
        },
        "outputId": "268e2b29-51a9-433d-91ab-bcc4dddbb2db"
      },
      "source": [
        "eval = model.evaluate(x=X_test, y=y_test, batch_size=32)"
      ],
      "execution_count": 21,
      "outputs": [
        {
          "output_type": "stream",
          "text": [
            "12/12 [==============================] - 1s 7ms/step - loss: 0.1057\n"
          ],
          "name": "stdout"
        }
      ]
    },
    {
      "cell_type": "code",
      "metadata": {
        "colab": {
          "base_uri": "https://localhost:8080/"
        },
        "id": "Nh1vlvR7m5Mu",
        "outputId": "5b3124f6-4366-4ff9-a9ff-e32021519246"
      },
      "source": [
        "y_pred = model.predict(X_test)\n",
        "y_pred.shape"
      ],
      "execution_count": 22,
      "outputs": [
        {
          "output_type": "execute_result",
          "data": {
            "text/plain": [
              "(379, 1)"
            ]
          },
          "metadata": {
            "tags": []
          },
          "execution_count": 22
        }
      ]
    },
    {
      "cell_type": "markdown",
      "metadata": {
        "id": "LM1VbA68nV89"
      },
      "source": [
        "# Reverse Scale"
      ]
    },
    {
      "cell_type": "code",
      "metadata": {
        "colab": {
          "base_uri": "https://localhost:8080/"
        },
        "id": "-qhYHkRAnDAb",
        "outputId": "5dbca617-186b-48e7-d04c-d97e9b1e9ade"
      },
      "source": [
        "y_pred = y_pred/scaler.scale_[0]\n",
        "y_test = y_test/scaler.scale_[0]\n",
        "y_pred.shape, y_test.shape"
      ],
      "execution_count": 23,
      "outputs": [
        {
          "output_type": "execute_result",
          "data": {
            "text/plain": [
              "((379, 1), (379,))"
            ]
          },
          "metadata": {
            "tags": []
          },
          "execution_count": 23
        }
      ]
    },
    {
      "cell_type": "markdown",
      "metadata": {
        "id": "6nOSGZuUnmsh"
      },
      "source": [
        "# Vizualization"
      ]
    },
    {
      "cell_type": "code",
      "metadata": {
        "colab": {
          "base_uri": "https://localhost:8080/",
          "height": 528
        },
        "id": "Cdw-gOeunqKE",
        "outputId": "1573421d-b762-428c-aede-0f43f53136bb"
      },
      "source": [
        "fig = plt.figure()\n",
        "plt.plot(y_test, color='red', label='Real ' + ticker + ' Stock Price')\n",
        "plt.plot(y_pred, color='lightgreen', label='Predicted ' + ticker + ' Stock Price')\n",
        "plt.title(ticker + \" Stock Price Prediction\")\n",
        "plt.xlabel('Days')\n",
        "plt.ylabel(ticker + ' Stock Price')\n",
        "plt.legend()\n",
        "plt.show()"
      ],
      "execution_count": 24,
      "outputs": [
        {
          "output_type": "display_data",
          "data": {
            "image/png": "[encoded data removed]",
            "text/plain": [
              "<Figure size 864x576 with 1 Axes>"
            ]
          },
          "metadata": {
            "tags": []
          }
        }
      ]
    },
    {
      "cell_type": "code",
      "metadata": {
        "colab": {
          "base_uri": "https://localhost:8080/"
        },
        "id": "WfuvQ6OOuo09",
        "outputId": "a725da6f-b44c-4146-9701-361ecf23f20b"
      },
      "source": [
        "accuracy = 0\n",
        "\n",
        "for i in range(1, y_test.shape[0]):\n",
        "    price_did_increase = y_test[i] > y_test[i-1]\n",
        "    model_predicted_increase = y_pred[i] > y_pred[i-1]\n",
        "    if (price_did_increase == model_predicted_increase):\n",
        "        accuracy = accuracy + 1\n",
        "\n",
        "print(\"Model accuracy: {:.3f}%\".format(accuracy / (y_test.shape[0] - 1) * 100))"
      ],
      "execution_count": 25,
      "outputs": [
        {
          "output_type": "stream",
          "text": [
            "Model accuracy: 56.878%\n"
          ],
          "name": "stdout"
        }
      ]
    },
    {
      "cell_type": "code",
      "metadata": {
        "id": "AvxjwCjEhwCq"
      },
      "source": [
        "#eval = model.evaluate(x=x_test, y=y_test, batch_size=32, verbose=1)"
      ],
      "execution_count": 26,
      "outputs": []
    }
  ]
}