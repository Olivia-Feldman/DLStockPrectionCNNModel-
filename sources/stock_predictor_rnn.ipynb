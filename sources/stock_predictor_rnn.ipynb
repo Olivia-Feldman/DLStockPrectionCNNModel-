{
  "nbformat": 4,
  "nbformat_minor": 0,
  "metadata": {
    "colab": {
      "name": "stock_predictor_rnn.ipynb",
      "provenance": [],
      "authorship_tag": "ABX9TyNdFKbvDXSJTojooHKAsVZq",
      "include_colab_link": true
    },
    "kernelspec": {
      "name": "python3",
      "display_name": "Python 3"
    },
    "language_info": {
      "name": "python"
    }
  },
  "cells": [
    {
      "cell_type": "markdown",
      "metadata": {
        "id": "view-in-github",
        "colab_type": "text"
      },
      "source": [
        "<a href=\"https://colab.research.google.com/github/Olivia-Feldman/DLStockPrectionCNNModel-/blob/Andrew/sources/stock_predictor_rnn.ipynb\" target=\"_parent\"><img src=\"https://colab.research.google.com/assets/colab-badge.svg\" alt=\"Open In Colab\"/></a>"
      ]
    },
    {
      "cell_type": "markdown",
      "metadata": {
        "id": "EJfBJeeBOg8y"
      },
      "source": [
        "# Default Imports"
      ]
    },
    {
      "cell_type": "code",
      "metadata": {
        "id": "8979G-xuOKo7"
      },
      "source": [
        "import requests\n",
        "import pandas as pd\n",
        "import numpy as np\n",
        "from datetime import datetime\n",
        "import matplotlib.pyplot as plt\n",
        "import matplotlib.ticker as tick\n",
        "from sklearn.preprocessing import StandardScaler, MinMaxScaler"
      ],
      "execution_count": 1,
      "outputs": []
    },
    {
      "cell_type": "markdown",
      "metadata": {
        "id": "1GH5vN7WOZV8"
      },
      "source": [
        "# Set plot stylizations"
      ]
    },
    {
      "cell_type": "code",
      "metadata": {
        "id": "NG6BA2WUOcbN"
      },
      "source": [
        "plt.rcParams.update({'font.size': 16})\n",
        "plt.rcParams['figure.figsize'] = [12, 8]\n",
        "plt.style.use('dark_background')"
      ],
      "execution_count": 2,
      "outputs": []
    },
    {
      "cell_type": "code",
      "metadata": {
        "id": "LgPX1QNROe2L"
      },
      "source": [
        "def getStockData(ticker: str, constRange: str='5y'):\n",
        "    url = \"https://query1.finance.yahoo.com/v8/finance/chart/\" + ticker + \"?region=US&lang=en-US&includePrePost=false&interval=1d&useYfid=true&range=\" + constRange + \"&corsDomain=finance.yahoo.com&.tsrc=finance\"\n",
        "    x = requests.get(url)\n",
        "    jsonResponse = x.json()\n",
        "    timestamps = jsonResponse[\"chart\"][\"result\"][0][\"timestamp\"]\n",
        "    open = jsonResponse[\"chart\"][\"result\"][0][\"indicators\"][\"quote\"][0][\"open\"]\n",
        "    high = jsonResponse[\"chart\"][\"result\"][0][\"indicators\"][\"quote\"][0][\"high\"]\n",
        "    low = jsonResponse[\"chart\"][\"result\"][0][\"indicators\"][\"quote\"][0][\"low\"]\n",
        "    close = jsonResponse[\"chart\"][\"result\"][0][\"indicators\"][\"quote\"][0][\"close\"]\n",
        "    volume = jsonResponse[\"chart\"][\"result\"][0][\"indicators\"][\"quote\"][0][\"volume\"]\n",
        "\n",
        "    datetimes = list(map(toDatetime, timestamps))\n",
        "\n",
        "    data = {\n",
        "        'timestamps' : datetimes,\n",
        "        'open' : open,\n",
        "        'high' : high,\n",
        "        'low' : low,\n",
        "        'close' : close,\n",
        "        'volume' : volume\n",
        "    }\n",
        "\n",
        "    df = pd.DataFrame(data, columns=['timestamps', 'open', 'high', 'low', 'close', 'volume'])\n",
        "    return df\n",
        "\n",
        "def toDatetime(t):\n",
        "    return datetime.fromtimestamp(t)"
      ],
      "execution_count": 3,
      "outputs": []
    },
    {
      "cell_type": "code",
      "metadata": {
        "id": "ytopqK32Pm5s"
      },
      "source": [
        "ticker = 'QQQ'\n",
        "df = getStockData(ticker, constRange='10y')\n"
      ],
      "execution_count": 4,
      "outputs": []
    },
    {
      "cell_type": "code",
      "metadata": {
        "colab": {
          "base_uri": "https://localhost:8080/",
          "height": 204
        },
        "id": "7cJsTKSpPujc",
        "outputId": "40acc4c3-2252-4785-dfe5-5cb4aa75f9f4"
      },
      "source": [
        "df.tail()"
      ],
      "execution_count": 5,
      "outputs": [
        {
          "output_type": "execute_result",
          "data": {
            "text/html": [
              "<div>\n",
              "<style scoped>\n",
              "    .dataframe tbody tr th:only-of-type {\n",
              "        vertical-align: middle;\n",
              "    }\n",
              "\n",
              "    .dataframe tbody tr th {\n",
              "        vertical-align: top;\n",
              "    }\n",
              "\n",
              "    .dataframe thead th {\n",
              "        text-align: right;\n",
              "    }\n",
              "</style>\n",
              "<table border=\"1\" class=\"dataframe\">\n",
              "  <thead>\n",
              "    <tr style=\"text-align: right;\">\n",
              "      <th></th>\n",
              "      <th>timestamps</th>\n",
              "      <th>open</th>\n",
              "      <th>high</th>\n",
              "      <th>low</th>\n",
              "      <th>close</th>\n",
              "      <th>volume</th>\n",
              "    </tr>\n",
              "  </thead>\n",
              "  <tbody>\n",
              "    <tr>\n",
              "      <th>2512</th>\n",
              "      <td>2021-03-22 13:30:00</td>\n",
              "      <td>315.209991</td>\n",
              "      <td>320.739990</td>\n",
              "      <td>315.209991</td>\n",
              "      <td>318.609985</td>\n",
              "      <td>56194800</td>\n",
              "    </tr>\n",
              "    <tr>\n",
              "      <th>2513</th>\n",
              "      <td>2021-03-23 13:30:00</td>\n",
              "      <td>319.730011</td>\n",
              "      <td>321.089996</td>\n",
              "      <td>316.380005</td>\n",
              "      <td>317.220001</td>\n",
              "      <td>53455400</td>\n",
              "    </tr>\n",
              "    <tr>\n",
              "      <th>2514</th>\n",
              "      <td>2021-03-24 13:30:00</td>\n",
              "      <td>318.630005</td>\n",
              "      <td>318.670013</td>\n",
              "      <td>311.720001</td>\n",
              "      <td>311.869995</td>\n",
              "      <td>64803700</td>\n",
              "    </tr>\n",
              "    <tr>\n",
              "      <th>2515</th>\n",
              "      <td>2021-03-25 13:30:00</td>\n",
              "      <td>309.970001</td>\n",
              "      <td>312.890015</td>\n",
              "      <td>307.390015</td>\n",
              "      <td>311.329987</td>\n",
              "      <td>78729000</td>\n",
              "    </tr>\n",
              "    <tr>\n",
              "      <th>2516</th>\n",
              "      <td>2021-03-26 13:30:00</td>\n",
              "      <td>311.109985</td>\n",
              "      <td>316.329987</td>\n",
              "      <td>309.670013</td>\n",
              "      <td>316.000000</td>\n",
              "      <td>63454900</td>\n",
              "    </tr>\n",
              "  </tbody>\n",
              "</table>\n",
              "</div>"
            ],
            "text/plain": [
              "              timestamps        open  ...       close    volume\n",
              "2512 2021-03-22 13:30:00  315.209991  ...  318.609985  56194800\n",
              "2513 2021-03-23 13:30:00  319.730011  ...  317.220001  53455400\n",
              "2514 2021-03-24 13:30:00  318.630005  ...  311.869995  64803700\n",
              "2515 2021-03-25 13:30:00  309.970001  ...  311.329987  78729000\n",
              "2516 2021-03-26 13:30:00  311.109985  ...  316.000000  63454900\n",
              "\n",
              "[5 rows x 6 columns]"
            ]
          },
          "metadata": {
            "tags": []
          },
          "execution_count": 5
        }
      ]
    },
    {
      "cell_type": "code",
      "metadata": {
        "colab": {
          "base_uri": "https://localhost:8080/",
          "height": 419
        },
        "id": "7IsSWRQ8Qxv1",
        "outputId": "83f628a4-bb5f-4f84-e718-b2002df1f95f"
      },
      "source": [
        "data_train_copy = df[df['timestamps']<'2020-01-01'].copy()\n",
        "data_train_copy"
      ],
      "execution_count": 6,
      "outputs": [
        {
          "output_type": "execute_result",
          "data": {
            "text/html": [
              "<div>\n",
              "<style scoped>\n",
              "    .dataframe tbody tr th:only-of-type {\n",
              "        vertical-align: middle;\n",
              "    }\n",
              "\n",
              "    .dataframe tbody tr th {\n",
              "        vertical-align: top;\n",
              "    }\n",
              "\n",
              "    .dataframe thead th {\n",
              "        text-align: right;\n",
              "    }\n",
              "</style>\n",
              "<table border=\"1\" class=\"dataframe\">\n",
              "  <thead>\n",
              "    <tr style=\"text-align: right;\">\n",
              "      <th></th>\n",
              "      <th>timestamps</th>\n",
              "      <th>open</th>\n",
              "      <th>high</th>\n",
              "      <th>low</th>\n",
              "      <th>close</th>\n",
              "      <th>volume</th>\n",
              "    </tr>\n",
              "  </thead>\n",
              "  <tbody>\n",
              "    <tr>\n",
              "      <th>0</th>\n",
              "      <td>2011-03-28 13:30:00</td>\n",
              "      <td>57.090000</td>\n",
              "      <td>57.099998</td>\n",
              "      <td>56.500000</td>\n",
              "      <td>56.529999</td>\n",
              "      <td>37824000</td>\n",
              "    </tr>\n",
              "    <tr>\n",
              "      <th>1</th>\n",
              "      <td>2011-03-29 13:30:00</td>\n",
              "      <td>56.400002</td>\n",
              "      <td>57.080002</td>\n",
              "      <td>56.230000</td>\n",
              "      <td>57.080002</td>\n",
              "      <td>47994800</td>\n",
              "    </tr>\n",
              "    <tr>\n",
              "      <th>2</th>\n",
              "      <td>2011-03-30 13:30:00</td>\n",
              "      <td>57.360001</td>\n",
              "      <td>57.430000</td>\n",
              "      <td>57.080002</td>\n",
              "      <td>57.349998</td>\n",
              "      <td>44935900</td>\n",
              "    </tr>\n",
              "    <tr>\n",
              "      <th>3</th>\n",
              "      <td>2011-03-31 13:30:00</td>\n",
              "      <td>57.250000</td>\n",
              "      <td>57.480000</td>\n",
              "      <td>57.150002</td>\n",
              "      <td>57.430000</td>\n",
              "      <td>50004300</td>\n",
              "    </tr>\n",
              "    <tr>\n",
              "      <th>4</th>\n",
              "      <td>2011-04-01 13:30:00</td>\n",
              "      <td>57.720001</td>\n",
              "      <td>57.900002</td>\n",
              "      <td>57.290001</td>\n",
              "      <td>57.459999</td>\n",
              "      <td>68031800</td>\n",
              "    </tr>\n",
              "    <tr>\n",
              "      <th>...</th>\n",
              "      <td>...</td>\n",
              "      <td>...</td>\n",
              "      <td>...</td>\n",
              "      <td>...</td>\n",
              "      <td>...</td>\n",
              "      <td>...</td>\n",
              "    </tr>\n",
              "    <tr>\n",
              "      <th>2201</th>\n",
              "      <td>2019-12-24 14:30:00</td>\n",
              "      <td>212.000000</td>\n",
              "      <td>212.089996</td>\n",
              "      <td>211.440002</td>\n",
              "      <td>211.919998</td>\n",
              "      <td>7089000</td>\n",
              "    </tr>\n",
              "    <tr>\n",
              "      <th>2202</th>\n",
              "      <td>2019-12-26 14:30:00</td>\n",
              "      <td>212.259995</td>\n",
              "      <td>213.809998</td>\n",
              "      <td>212.229996</td>\n",
              "      <td>213.789993</td>\n",
              "      <td>17067500</td>\n",
              "    </tr>\n",
              "    <tr>\n",
              "      <th>2203</th>\n",
              "      <td>2019-12-27 14:30:00</td>\n",
              "      <td>214.539993</td>\n",
              "      <td>214.559998</td>\n",
              "      <td>213.039993</td>\n",
              "      <td>213.610001</td>\n",
              "      <td>18134100</td>\n",
              "    </tr>\n",
              "    <tr>\n",
              "      <th>2204</th>\n",
              "      <td>2019-12-30 14:30:00</td>\n",
              "      <td>213.500000</td>\n",
              "      <td>213.630005</td>\n",
              "      <td>211.160004</td>\n",
              "      <td>212.210007</td>\n",
              "      <td>21815500</td>\n",
              "    </tr>\n",
              "    <tr>\n",
              "      <th>2205</th>\n",
              "      <td>2019-12-31 14:30:00</td>\n",
              "      <td>211.529999</td>\n",
              "      <td>212.759995</td>\n",
              "      <td>211.199997</td>\n",
              "      <td>212.610001</td>\n",
              "      <td>18170900</td>\n",
              "    </tr>\n",
              "  </tbody>\n",
              "</table>\n",
              "<p>2206 rows × 6 columns</p>\n",
              "</div>"
            ],
            "text/plain": [
              "              timestamps        open  ...       close    volume\n",
              "0    2011-03-28 13:30:00   57.090000  ...   56.529999  37824000\n",
              "1    2011-03-29 13:30:00   56.400002  ...   57.080002  47994800\n",
              "2    2011-03-30 13:30:00   57.360001  ...   57.349998  44935900\n",
              "3    2011-03-31 13:30:00   57.250000  ...   57.430000  50004300\n",
              "4    2011-04-01 13:30:00   57.720001  ...   57.459999  68031800\n",
              "...                  ...         ...  ...         ...       ...\n",
              "2201 2019-12-24 14:30:00  212.000000  ...  211.919998   7089000\n",
              "2202 2019-12-26 14:30:00  212.259995  ...  213.789993  17067500\n",
              "2203 2019-12-27 14:30:00  214.539993  ...  213.610001  18134100\n",
              "2204 2019-12-30 14:30:00  213.500000  ...  212.210007  21815500\n",
              "2205 2019-12-31 14:30:00  211.529999  ...  212.610001  18170900\n",
              "\n",
              "[2206 rows x 6 columns]"
            ]
          },
          "metadata": {
            "tags": []
          },
          "execution_count": 6
        }
      ]
    },
    {
      "cell_type": "code",
      "metadata": {
        "colab": {
          "base_uri": "https://localhost:8080/",
          "height": 419
        },
        "id": "U9s7yP3rRRYu",
        "outputId": "e180a55f-d1f5-408b-cfc6-0098a9793124"
      },
      "source": [
        "data_test_copy = df[df['timestamps']>='2020-01-01'].copy()\n",
        "data_test_copy"
      ],
      "execution_count": 7,
      "outputs": [
        {
          "output_type": "execute_result",
          "data": {
            "text/html": [
              "<div>\n",
              "<style scoped>\n",
              "    .dataframe tbody tr th:only-of-type {\n",
              "        vertical-align: middle;\n",
              "    }\n",
              "\n",
              "    .dataframe tbody tr th {\n",
              "        vertical-align: top;\n",
              "    }\n",
              "\n",
              "    .dataframe thead th {\n",
              "        text-align: right;\n",
              "    }\n",
              "</style>\n",
              "<table border=\"1\" class=\"dataframe\">\n",
              "  <thead>\n",
              "    <tr style=\"text-align: right;\">\n",
              "      <th></th>\n",
              "      <th>timestamps</th>\n",
              "      <th>open</th>\n",
              "      <th>high</th>\n",
              "      <th>low</th>\n",
              "      <th>close</th>\n",
              "      <th>volume</th>\n",
              "    </tr>\n",
              "  </thead>\n",
              "  <tbody>\n",
              "    <tr>\n",
              "      <th>2206</th>\n",
              "      <td>2020-01-02 14:30:00</td>\n",
              "      <td>214.399994</td>\n",
              "      <td>216.160004</td>\n",
              "      <td>213.979996</td>\n",
              "      <td>216.160004</td>\n",
              "      <td>30969400</td>\n",
              "    </tr>\n",
              "    <tr>\n",
              "      <th>2207</th>\n",
              "      <td>2020-01-03 14:30:00</td>\n",
              "      <td>213.300003</td>\n",
              "      <td>215.470001</td>\n",
              "      <td>213.279999</td>\n",
              "      <td>214.179993</td>\n",
              "      <td>27518900</td>\n",
              "    </tr>\n",
              "    <tr>\n",
              "      <th>2208</th>\n",
              "      <td>2020-01-06 14:30:00</td>\n",
              "      <td>212.500000</td>\n",
              "      <td>215.589996</td>\n",
              "      <td>212.240005</td>\n",
              "      <td>215.559998</td>\n",
              "      <td>21655300</td>\n",
              "    </tr>\n",
              "    <tr>\n",
              "      <th>2209</th>\n",
              "      <td>2020-01-07 14:30:00</td>\n",
              "      <td>215.639999</td>\n",
              "      <td>216.139999</td>\n",
              "      <td>214.850006</td>\n",
              "      <td>215.529999</td>\n",
              "      <td>22139300</td>\n",
              "    </tr>\n",
              "    <tr>\n",
              "      <th>2210</th>\n",
              "      <td>2020-01-08 14:30:00</td>\n",
              "      <td>215.500000</td>\n",
              "      <td>218.139999</td>\n",
              "      <td>215.160004</td>\n",
              "      <td>217.149994</td>\n",
              "      <td>26397300</td>\n",
              "    </tr>\n",
              "    <tr>\n",
              "      <th>...</th>\n",
              "      <td>...</td>\n",
              "      <td>...</td>\n",
              "      <td>...</td>\n",
              "      <td>...</td>\n",
              "      <td>...</td>\n",
              "      <td>...</td>\n",
              "    </tr>\n",
              "    <tr>\n",
              "      <th>2512</th>\n",
              "      <td>2021-03-22 13:30:00</td>\n",
              "      <td>315.209991</td>\n",
              "      <td>320.739990</td>\n",
              "      <td>315.209991</td>\n",
              "      <td>318.609985</td>\n",
              "      <td>56194800</td>\n",
              "    </tr>\n",
              "    <tr>\n",
              "      <th>2513</th>\n",
              "      <td>2021-03-23 13:30:00</td>\n",
              "      <td>319.730011</td>\n",
              "      <td>321.089996</td>\n",
              "      <td>316.380005</td>\n",
              "      <td>317.220001</td>\n",
              "      <td>53455400</td>\n",
              "    </tr>\n",
              "    <tr>\n",
              "      <th>2514</th>\n",
              "      <td>2021-03-24 13:30:00</td>\n",
              "      <td>318.630005</td>\n",
              "      <td>318.670013</td>\n",
              "      <td>311.720001</td>\n",
              "      <td>311.869995</td>\n",
              "      <td>64803700</td>\n",
              "    </tr>\n",
              "    <tr>\n",
              "      <th>2515</th>\n",
              "      <td>2021-03-25 13:30:00</td>\n",
              "      <td>309.970001</td>\n",
              "      <td>312.890015</td>\n",
              "      <td>307.390015</td>\n",
              "      <td>311.329987</td>\n",
              "      <td>78729000</td>\n",
              "    </tr>\n",
              "    <tr>\n",
              "      <th>2516</th>\n",
              "      <td>2021-03-26 13:30:00</td>\n",
              "      <td>311.109985</td>\n",
              "      <td>316.329987</td>\n",
              "      <td>309.670013</td>\n",
              "      <td>316.000000</td>\n",
              "      <td>63454900</td>\n",
              "    </tr>\n",
              "  </tbody>\n",
              "</table>\n",
              "<p>311 rows × 6 columns</p>\n",
              "</div>"
            ],
            "text/plain": [
              "              timestamps        open  ...       close    volume\n",
              "2206 2020-01-02 14:30:00  214.399994  ...  216.160004  30969400\n",
              "2207 2020-01-03 14:30:00  213.300003  ...  214.179993  27518900\n",
              "2208 2020-01-06 14:30:00  212.500000  ...  215.559998  21655300\n",
              "2209 2020-01-07 14:30:00  215.639999  ...  215.529999  22139300\n",
              "2210 2020-01-08 14:30:00  215.500000  ...  217.149994  26397300\n",
              "...                  ...         ...  ...         ...       ...\n",
              "2512 2021-03-22 13:30:00  315.209991  ...  318.609985  56194800\n",
              "2513 2021-03-23 13:30:00  319.730011  ...  317.220001  53455400\n",
              "2514 2021-03-24 13:30:00  318.630005  ...  311.869995  64803700\n",
              "2515 2021-03-25 13:30:00  309.970001  ...  311.329987  78729000\n",
              "2516 2021-03-26 13:30:00  311.109985  ...  316.000000  63454900\n",
              "\n",
              "[311 rows x 6 columns]"
            ]
          },
          "metadata": {
            "tags": []
          },
          "execution_count": 7
        }
      ]
    },
    {
      "cell_type": "code",
      "metadata": {
        "colab": {
          "base_uri": "https://localhost:8080/",
          "height": 204
        },
        "id": "ziloxFL6Rhy0",
        "outputId": "976a0fca-7a43-4928-dee2-c2be2771d252"
      },
      "source": [
        "training_data = data_train_copy.drop(['timestamps'], axis=1)\n",
        "training_data.head()"
      ],
      "execution_count": 8,
      "outputs": [
        {
          "output_type": "execute_result",
          "data": {
            "text/html": [
              "<div>\n",
              "<style scoped>\n",
              "    .dataframe tbody tr th:only-of-type {\n",
              "        vertical-align: middle;\n",
              "    }\n",
              "\n",
              "    .dataframe tbody tr th {\n",
              "        vertical-align: top;\n",
              "    }\n",
              "\n",
              "    .dataframe thead th {\n",
              "        text-align: right;\n",
              "    }\n",
              "</style>\n",
              "<table border=\"1\" class=\"dataframe\">\n",
              "  <thead>\n",
              "    <tr style=\"text-align: right;\">\n",
              "      <th></th>\n",
              "      <th>open</th>\n",
              "      <th>high</th>\n",
              "      <th>low</th>\n",
              "      <th>close</th>\n",
              "      <th>volume</th>\n",
              "    </tr>\n",
              "  </thead>\n",
              "  <tbody>\n",
              "    <tr>\n",
              "      <th>0</th>\n",
              "      <td>57.090000</td>\n",
              "      <td>57.099998</td>\n",
              "      <td>56.500000</td>\n",
              "      <td>56.529999</td>\n",
              "      <td>37824000</td>\n",
              "    </tr>\n",
              "    <tr>\n",
              "      <th>1</th>\n",
              "      <td>56.400002</td>\n",
              "      <td>57.080002</td>\n",
              "      <td>56.230000</td>\n",
              "      <td>57.080002</td>\n",
              "      <td>47994800</td>\n",
              "    </tr>\n",
              "    <tr>\n",
              "      <th>2</th>\n",
              "      <td>57.360001</td>\n",
              "      <td>57.430000</td>\n",
              "      <td>57.080002</td>\n",
              "      <td>57.349998</td>\n",
              "      <td>44935900</td>\n",
              "    </tr>\n",
              "    <tr>\n",
              "      <th>3</th>\n",
              "      <td>57.250000</td>\n",
              "      <td>57.480000</td>\n",
              "      <td>57.150002</td>\n",
              "      <td>57.430000</td>\n",
              "      <td>50004300</td>\n",
              "    </tr>\n",
              "    <tr>\n",
              "      <th>4</th>\n",
              "      <td>57.720001</td>\n",
              "      <td>57.900002</td>\n",
              "      <td>57.290001</td>\n",
              "      <td>57.459999</td>\n",
              "      <td>68031800</td>\n",
              "    </tr>\n",
              "  </tbody>\n",
              "</table>\n",
              "</div>"
            ],
            "text/plain": [
              "        open       high        low      close    volume\n",
              "0  57.090000  57.099998  56.500000  56.529999  37824000\n",
              "1  56.400002  57.080002  56.230000  57.080002  47994800\n",
              "2  57.360001  57.430000  57.080002  57.349998  44935900\n",
              "3  57.250000  57.480000  57.150002  57.430000  50004300\n",
              "4  57.720001  57.900002  57.290001  57.459999  68031800"
            ]
          },
          "metadata": {
            "tags": []
          },
          "execution_count": 8
        }
      ]
    },
    {
      "cell_type": "code",
      "metadata": {
        "colab": {
          "base_uri": "https://localhost:8080/"
        },
        "id": "RAsRvk_VR1dV",
        "outputId": "97aa1083-b368-4779-8a29-8a9a75205653"
      },
      "source": [
        "scaler = MinMaxScaler()\n",
        "training_data = scaler.fit_transform(training_data)\n",
        "training_data.shape"
      ],
      "execution_count": 9,
      "outputs": [
        {
          "output_type": "execute_result",
          "data": {
            "text/plain": [
              "(2206, 5)"
            ]
          },
          "metadata": {
            "tags": []
          },
          "execution_count": 9
        }
      ]
    },
    {
      "cell_type": "code",
      "metadata": {
        "id": "gDKpoF1ufFR-"
      },
      "source": [
        "X_train = []\n",
        "y_train = []\n",
        "for i in range(60, training_data.shape[0]):\n",
        "    X_train.append(training_data[i-60:i])\n",
        "    y_train.append(training_data[i, 0]) "
      ],
      "execution_count": 10,
      "outputs": []
    },
    {
      "cell_type": "code",
      "metadata": {
        "colab": {
          "base_uri": "https://localhost:8080/"
        },
        "id": "LwLmEO1zhRH8",
        "outputId": "925b8bf9-c900-42c4-bcdf-5f62cbff845b"
      },
      "source": [
        "X_train, y_train = np.array(X_train), np.array(y_train)\n",
        "X_train.shape, y_train.shape"
      ],
      "execution_count": 11,
      "outputs": [
        {
          "output_type": "execute_result",
          "data": {
            "text/plain": [
              "((2146, 60, 5), (2146,))"
            ]
          },
          "metadata": {
            "tags": []
          },
          "execution_count": 11
        }
      ]
    },
    {
      "cell_type": "code",
      "metadata": {
        "id": "dpjJ-X4MiHua"
      },
      "source": [
        "from tensorflow.keras import Sequential\n",
        "from tensorflow.keras.layers import Dense, LSTM, Dropout"
      ],
      "execution_count": 12,
      "outputs": []
    },
    {
      "cell_type": "code",
      "metadata": {
        "id": "2Cu3qsP1ifFT"
      },
      "source": [
        "model = Sequential([\n",
        "    LSTM(\n",
        "        units=60, \n",
        "        activation='relu', \n",
        "        return_sequences=True, \n",
        "        input_shape=(X_train.shape[1], X_train.shape[2])),\n",
        "    Dropout(0.2),\n",
        "    LSTM(\n",
        "        units=60, \n",
        "        activation='relu', \n",
        "        return_sequences=True),\n",
        "    Dropout(0.2),\n",
        "    LSTM(\n",
        "        units=80, \n",
        "        activation='relu', \n",
        "        return_sequences=True),\n",
        "    Dropout(0.2),\n",
        "    LSTM(\n",
        "        units=120, \n",
        "        activation='relu'),\n",
        "    Dropout(0.2),\n",
        "    Dense(units=1)\n",
        "])\n",
        "# regressor.add(LSTM(units = 50, return_sequences = True, input_shape = (X_train.shape[1], 1)))\n",
        "# regressor.add(Dropout(0.2))\n",
        "# regressor.add(LSTM(units = 50, return_sequences = True))\n",
        "# regressor.add(Dropout(0.2))\n",
        "# regressor.add(LSTM(units = 50, return_sequences = True))\n",
        "# regressor.add(Dropout(0.2))\n",
        "# regressor.add(LSTM(units = 50))\n",
        "# regressor.add(Dropout(0.2))\n",
        "# regressor.add(Dense(units = 1))"
      ],
      "execution_count": 13,
      "outputs": []
    },
    {
      "cell_type": "code",
      "metadata": {
        "colab": {
          "base_uri": "https://localhost:8080/"
        },
        "id": "2HRLkP7hi_aG",
        "outputId": "3a103680-75e3-41f8-dec7-22edb453dd84"
      },
      "source": [
        "model.summary()"
      ],
      "execution_count": 14,
      "outputs": [
        {
          "output_type": "stream",
          "text": [
            "Model: \"sequential\"\n",
            "_________________________________________________________________\n",
            "Layer (type)                 Output Shape              Param #   \n",
            "=================================================================\n",
            "lstm (LSTM)                  (None, 60, 60)            15840     \n",
            "_________________________________________________________________\n",
            "dropout (Dropout)            (None, 60, 60)            0         \n",
            "_________________________________________________________________\n",
            "lstm_1 (LSTM)                (None, 60, 60)            29040     \n",
            "_________________________________________________________________\n",
            "dropout_1 (Dropout)          (None, 60, 60)            0         \n",
            "_________________________________________________________________\n",
            "lstm_2 (LSTM)                (None, 60, 80)            45120     \n",
            "_________________________________________________________________\n",
            "dropout_2 (Dropout)          (None, 60, 80)            0         \n",
            "_________________________________________________________________\n",
            "lstm_3 (LSTM)                (None, 120)               96480     \n",
            "_________________________________________________________________\n",
            "dropout_3 (Dropout)          (None, 120)               0         \n",
            "_________________________________________________________________\n",
            "dense (Dense)                (None, 1)                 121       \n",
            "=================================================================\n",
            "Total params: 186,601\n",
            "Trainable params: 186,601\n",
            "Non-trainable params: 0\n",
            "_________________________________________________________________\n"
          ],
          "name": "stdout"
        }
      ]
    },
    {
      "cell_type": "code",
      "metadata": {
        "id": "_Py1NlWakRaw"
      },
      "source": [
        "model.compile(optimizer='adam', loss='mean_squared_error')"
      ],
      "execution_count": 15,
      "outputs": []
    },
    {
      "cell_type": "code",
      "metadata": {
        "colab": {
          "base_uri": "https://localhost:8080/"
        },
        "id": "6pf7M0sDkb5-",
        "outputId": "520ab2c7-0703-42ac-ad0b-33ee194846c6"
      },
      "source": [
        "model.fit(X_train, y_train, epochs=20, batch_size=32)"
      ],
      "execution_count": 16,
      "outputs": [
        {
          "output_type": "stream",
          "text": [
            "Epoch 1/20\n",
            "68/68 [==============================] - 16s 165ms/step - loss: 0.0750\n",
            "Epoch 2/20\n",
            "68/68 [==============================] - 12s 171ms/step - loss: 0.0036\n",
            "Epoch 3/20\n",
            "68/68 [==============================] - 12s 173ms/step - loss: 0.0030\n",
            "Epoch 4/20\n",
            "68/68 [==============================] - 12s 172ms/step - loss: 0.0025\n",
            "Epoch 5/20\n",
            "68/68 [==============================] - 12s 170ms/step - loss: 0.0026\n",
            "Epoch 6/20\n",
            "68/68 [==============================] - 11s 168ms/step - loss: 0.0030\n",
            "Epoch 7/20\n",
            "68/68 [==============================] - 12s 172ms/step - loss: 0.0028\n",
            "Epoch 8/20\n",
            "68/68 [==============================] - 12s 172ms/step - loss: 0.0024\n",
            "Epoch 9/20\n",
            "68/68 [==============================] - 12s 173ms/step - loss: 0.0039\n",
            "Epoch 10/20\n",
            "68/68 [==============================] - 12s 172ms/step - loss: 0.0018\n",
            "Epoch 11/20\n",
            "68/68 [==============================] - 12s 173ms/step - loss: 0.0023\n",
            "Epoch 12/20\n",
            "68/68 [==============================] - 12s 172ms/step - loss: 0.0019\n",
            "Epoch 13/20\n",
            "68/68 [==============================] - 12s 178ms/step - loss: 0.0017\n",
            "Epoch 14/20\n",
            "68/68 [==============================] - 12s 173ms/step - loss: 0.0019\n",
            "Epoch 15/20\n",
            "68/68 [==============================] - 12s 178ms/step - loss: 0.0017\n",
            "Epoch 16/20\n",
            "68/68 [==============================] - 12s 179ms/step - loss: 0.0017\n",
            "Epoch 17/20\n",
            "68/68 [==============================] - 12s 172ms/step - loss: 0.0023\n",
            "Epoch 18/20\n",
            "68/68 [==============================] - 12s 170ms/step - loss: 0.0015\n",
            "Epoch 19/20\n",
            "68/68 [==============================] - 12s 175ms/step - loss: 0.0014\n",
            "Epoch 20/20\n",
            "68/68 [==============================] - 12s 172ms/step - loss: 0.0014\n"
          ],
          "name": "stdout"
        },
        {
          "output_type": "execute_result",
          "data": {
            "text/plain": [
              "<tensorflow.python.keras.callbacks.History at 0x7efe97afa550>"
            ]
          },
          "metadata": {
            "tags": []
          },
          "execution_count": 16
        }
      ]
    },
    {
      "cell_type": "code",
      "metadata": {
        "colab": {
          "base_uri": "https://localhost:8080/",
          "height": 204
        },
        "id": "8h8zWqQVlQyd",
        "outputId": "d78aa4e4-c3b0-4ac7-8fef-07ac5def1e86"
      },
      "source": [
        "past_60_days = data_train_copy.tail(60)\n",
        "past_df = past_60_days.append(data_test_copy, ignore_index=True)\n",
        "past_df = past_df.drop(['timestamps'], axis=1)\n",
        "past_df.head()"
      ],
      "execution_count": 17,
      "outputs": [
        {
          "output_type": "execute_result",
          "data": {
            "text/html": [
              "<div>\n",
              "<style scoped>\n",
              "    .dataframe tbody tr th:only-of-type {\n",
              "        vertical-align: middle;\n",
              "    }\n",
              "\n",
              "    .dataframe tbody tr th {\n",
              "        vertical-align: top;\n",
              "    }\n",
              "\n",
              "    .dataframe thead th {\n",
              "        text-align: right;\n",
              "    }\n",
              "</style>\n",
              "<table border=\"1\" class=\"dataframe\">\n",
              "  <thead>\n",
              "    <tr style=\"text-align: right;\">\n",
              "      <th></th>\n",
              "      <th>open</th>\n",
              "      <th>high</th>\n",
              "      <th>low</th>\n",
              "      <th>close</th>\n",
              "      <th>volume</th>\n",
              "    </tr>\n",
              "  </thead>\n",
              "  <tbody>\n",
              "    <tr>\n",
              "      <th>0</th>\n",
              "      <td>188.270004</td>\n",
              "      <td>189.740005</td>\n",
              "      <td>187.910004</td>\n",
              "      <td>188.240005</td>\n",
              "      <td>21216000</td>\n",
              "    </tr>\n",
              "    <tr>\n",
              "      <th>1</th>\n",
              "      <td>187.059998</td>\n",
              "      <td>187.860001</td>\n",
              "      <td>185.270004</td>\n",
              "      <td>185.419998</td>\n",
              "      <td>32379300</td>\n",
              "    </tr>\n",
              "    <tr>\n",
              "      <th>2</th>\n",
              "      <td>186.990005</td>\n",
              "      <td>188.080002</td>\n",
              "      <td>186.429993</td>\n",
              "      <td>187.229996</td>\n",
              "      <td>20147400</td>\n",
              "    </tr>\n",
              "    <tr>\n",
              "      <th>3</th>\n",
              "      <td>187.279999</td>\n",
              "      <td>189.429993</td>\n",
              "      <td>187.119995</td>\n",
              "      <td>188.679993</td>\n",
              "      <td>25177700</td>\n",
              "    </tr>\n",
              "    <tr>\n",
              "      <th>4</th>\n",
              "      <td>190.830002</td>\n",
              "      <td>192.630005</td>\n",
              "      <td>190.720001</td>\n",
              "      <td>191.110001</td>\n",
              "      <td>40976700</td>\n",
              "    </tr>\n",
              "  </tbody>\n",
              "</table>\n",
              "</div>"
            ],
            "text/plain": [
              "         open        high         low       close    volume\n",
              "0  188.270004  189.740005  187.910004  188.240005  21216000\n",
              "1  187.059998  187.860001  185.270004  185.419998  32379300\n",
              "2  186.990005  188.080002  186.429993  187.229996  20147400\n",
              "3  187.279999  189.429993  187.119995  188.679993  25177700\n",
              "4  190.830002  192.630005  190.720001  191.110001  40976700"
            ]
          },
          "metadata": {
            "tags": []
          },
          "execution_count": 17
        }
      ]
    },
    {
      "cell_type": "code",
      "metadata": {
        "colab": {
          "base_uri": "https://localhost:8080/"
        },
        "id": "1EXyYruZlz_K",
        "outputId": "d9da25dc-2086-4c94-a8e1-4cba45ddcf91"
      },
      "source": [
        "inputs = scaler.transform(past_df)\n",
        "inputs"
      ],
      "execution_count": 18,
      "outputs": [
        {
          "output_type": "execute_result",
          "data": {
            "text/plain": [
              "array([[0.83993426, 0.84802846, 0.84593225, 0.84397906, 0.06828252],\n",
              "       [0.83256156, 0.83651728, 0.82974686, 0.8267587 , 0.12220304],\n",
              "       [0.83213509, 0.83786434, 0.83685855, 0.83781144, 0.06312101],\n",
              "       ...,\n",
              "       [1.63423114, 1.63746031, 1.60499057, 1.59892529, 0.27881806],\n",
              "       [1.58146485, 1.60206968, 1.57844415, 1.59562773, 0.34607948],\n",
              "       [1.58841089, 1.62313245, 1.59242244, 1.62414515, 0.27230314]])"
            ]
          },
          "metadata": {
            "tags": []
          },
          "execution_count": 18
        }
      ]
    },
    {
      "cell_type": "code",
      "metadata": {
        "id": "g8TwvWLImTfT"
      },
      "source": [
        "X_test = []\n",
        "y_test = []\n",
        "for i in range(60, inputs.shape[0]):\n",
        "    X_test.append(inputs[i-60:i])\n",
        "    y_test.append(inputs[i, 0]) "
      ],
      "execution_count": 19,
      "outputs": []
    },
    {
      "cell_type": "code",
      "metadata": {
        "colab": {
          "base_uri": "https://localhost:8080/"
        },
        "id": "7zCR8liymqmt",
        "outputId": "36b3d887-5f39-440e-92e1-c5dd99ddbb45"
      },
      "source": [
        "X_test, y_test = np.array(X_test), np.array(y_test)\n",
        "X_test.shape, y_test.shape"
      ],
      "execution_count": 20,
      "outputs": [
        {
          "output_type": "execute_result",
          "data": {
            "text/plain": [
              "((311, 60, 5), (311,))"
            ]
          },
          "metadata": {
            "tags": []
          },
          "execution_count": 20
        }
      ]
    },
    {
      "cell_type": "code",
      "metadata": {
        "id": "Ti4Lc0GzmLRm",
        "outputId": "976d820a-1248-4077-ea4f-abe5128b239d",
        "colab": {
          "base_uri": "https://localhost:8080/"
        }
      },
      "source": [
        "eval = model.evaluate(x=X_test, y=y_test, batch_size=32)"
      ],
      "execution_count": 22,
      "outputs": [
        {
          "output_type": "stream",
          "text": [
            "10/10 [==============================] - 1s 50ms/step - loss: 0.0685\n"
          ],
          "name": "stdout"
        }
      ]
    },
    {
      "cell_type": "code",
      "metadata": {
        "colab": {
          "base_uri": "https://localhost:8080/"
        },
        "id": "Nh1vlvR7m5Mu",
        "outputId": "f9fe02ca-63ea-4376-9414-3f5ec2130127"
      },
      "source": [
        "y_pred = model.predict(X_test)\n",
        "y_pred.shape"
      ],
      "execution_count": 23,
      "outputs": [
        {
          "output_type": "execute_result",
          "data": {
            "text/plain": [
              "(311, 1)"
            ]
          },
          "metadata": {
            "tags": []
          },
          "execution_count": 23
        }
      ]
    },
    {
      "cell_type": "markdown",
      "metadata": {
        "id": "LM1VbA68nV89"
      },
      "source": [
        "# Reverse Scale"
      ]
    },
    {
      "cell_type": "code",
      "metadata": {
        "colab": {
          "base_uri": "https://localhost:8080/"
        },
        "id": "-qhYHkRAnDAb",
        "outputId": "015c2169-a79e-4d05-8aee-3b3d5837a52b"
      },
      "source": [
        "y_pred = y_pred/scaler.scale_[0]\n",
        "y_test = y_test/scaler.scale_[0]\n",
        "y_pred.shape, y_test.shape"
      ],
      "execution_count": 24,
      "outputs": [
        {
          "output_type": "execute_result",
          "data": {
            "text/plain": [
              "((311, 1), (311,))"
            ]
          },
          "metadata": {
            "tags": []
          },
          "execution_count": 24
        }
      ]
    },
    {
      "cell_type": "markdown",
      "metadata": {
        "id": "6nOSGZuUnmsh"
      },
      "source": [
        "# Vizualization"
      ]
    },
    {
      "cell_type": "code",
      "metadata": {
        "colab": {
          "base_uri": "https://localhost:8080/",
          "height": 528
        },
        "id": "Cdw-gOeunqKE",
        "outputId": "b644e63d-f4b8-44fb-f3d3-6a6335a00479"
      },
      "source": [
        "fig = plt.figure()\n",
        "plt.plot(y_test, color='red', label='Real ' + ticker + ' Stock Price')\n",
        "plt.plot(y_pred, color='lightgreen', label='Predicted ' + ticker + ' Stock Price')\n",
        "plt.title(ticker + \" Stock Price Prediction\")\n",
        "plt.xlabel('Days')\n",
        "plt.ylabel(ticker + ' Stock Price')\n",
        "plt.legend()\n",
        "plt.show()"
      ],
      "execution_count": 25,
      "outputs": [
        {
          "output_type": "display_data",
          "data": {
            "image/png": "[encoded data removed]",
            "text/plain": [
              "<Figure size 864x576 with 1 Axes>"
            ]
          },
          "metadata": {
            "tags": []
          }
        }
      ]
    },
    {
      "cell_type": "code",
      "metadata": {
        "colab": {
          "base_uri": "https://localhost:8080/"
        },
        "id": "WfuvQ6OOuo09",
        "outputId": "756b00dd-adfd-4aad-a72f-dc4e711a6dae"
      },
      "source": [
        "accuracy = 0\n",
        "\n",
        "for i in range(1, y_test.shape[0]):\n",
        "    price_did_increase = y_test[i] > y_test[i-1]\n",
        "    model_predicted_increase = y_pred[i] > y_pred[i-1]\n",
        "    if (price_did_increase == model_predicted_increase):\n",
        "        accuracy = accuracy + 1\n",
        "\n",
        "print(\"Model accuracy: {:.3f}%\".format(accuracy / (y_test.shape[0] - 1) * 100))"
      ],
      "execution_count": 26,
      "outputs": [
        {
          "output_type": "stream",
          "text": [
            "Model accuracy: 55.161%\n"
          ],
          "name": "stdout"
        }
      ]
    },
    {
      "cell_type": "code",
      "metadata": {
        "id": "AvxjwCjEhwCq"
      },
      "source": [
        "#eval = model.evaluate(x=x_test, y=y_test, batch_size=32, verbose=1)"
      ],
      "execution_count": null,
      "outputs": []
    }
  ]
}