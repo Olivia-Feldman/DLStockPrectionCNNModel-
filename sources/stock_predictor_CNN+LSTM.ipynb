{
  "nbformat": 4,
  "nbformat_minor": 0,
  "metadata": {
    "colab": {
      "name": "stock_predictor_CNN+LSTM.ipynb",
      "provenance": [],
      "authorship_tag": "ABX9TyPmAepRQhUxs0mYxgGQA0ZK",
      "include_colab_link": true
    },
    "kernelspec": {
      "name": "python3",
      "display_name": "Python 3"
    },
    "language_info": {
      "name": "python"
    }
  },
  "cells": [
    {
      "cell_type": "markdown",
      "metadata": {
        "id": "view-in-github",
        "colab_type": "text"
      },
      "source": [
        "<a href=\"https://colab.research.google.com/github/Olivia-Feldman/DLStockPrectionCNNModel-/blob/Andrew/sources/stock_predictor_CNN%2BLSTM.ipynb\" target=\"_parent\"><img src=\"https://colab.research.google.com/assets/colab-badge.svg\" alt=\"Open In Colab\"/></a>"
      ]
    },
    {
      "cell_type": "markdown",
      "metadata": {
        "id": "vEVXDkLxRqf3"
      },
      "source": [
        "# Default Imports"
      ]
    },
    {
      "cell_type": "code",
      "metadata": {
        "id": "e-qCNW9g0aGK"
      },
      "source": [
        "import requests\n",
        "import pandas as pd\n",
        "import numpy as np\n",
        "from datetime import datetime\n",
        "import matplotlib.pyplot as plt\n",
        "import matplotlib.ticker as tick\n",
        "from sklearn.preprocessing import StandardScaler, MinMaxScaler"
      ],
      "execution_count": 1,
      "outputs": []
    },
    {
      "cell_type": "markdown",
      "metadata": {
        "id": "AJgxPqtSRvna"
      },
      "source": [
        "# Set Plot Stylizations"
      ]
    },
    {
      "cell_type": "code",
      "metadata": {
        "id": "sudhkGWzRwNL"
      },
      "source": [
        "plt.rcParams.update({'font.size': 16})\n",
        "plt.rcParams['figure.figsize'] = [12, 8]\n",
        "plt.style.use('dark_background')"
      ],
      "execution_count": 2,
      "outputs": []
    },
    {
      "cell_type": "markdown",
      "metadata": {
        "id": "sNi5ukeJSAoz"
      },
      "source": [
        "# Method for getting ticker data using Yahoo Finance API\n",
        "\n",
        "This method downloads json data from the Yahoo! finance API and organizes it into a Pandas dataframe. The time frame of the data can start and end wherever the user wants it to. The start and end dates need to be a String in the form of a Unix Timestamp.\n",
        "\n",
        "*Parameters:*\n",
        "\n",
        "    ticker: String that specifies the trading ticker of the equity \n",
        "    startData: String that specifies the start time of the dataset. Formatted as a Unix Timestamp\n",
        "    endData: String that specifies the start time of the dataset. Formatted as a Unix Timestamp\n",
        "\n",
        "*Returns:*\n",
        "\n",
        "    df: Pandas dataframe with timestamp, open, high, low, close, and volume of a ticker\n",
        "\n",
        "\n",
        "*Resources:*\n",
        "*   [Dataframe.shift](https://pandas.pydata.org/docs/reference/api/pandas.DataFrame.shift.html)\n",
        "\n"
      ]
    },
    {
      "cell_type": "code",
      "metadata": {
        "id": "6ivlzMPCR_h3"
      },
      "source": [
        "def getStockDataInRange(ticker: str, startDate: str, endDate: str):\n",
        "    url = \"https://query1.finance.yahoo.com/v8/finance/chart/\" + ticker + \"?period1=\" + startDate + \"&period2=\" + endDate + \"&useYfid=true&interval=1d&includePrePost=true&events=div%7Csplit%7Cearn&lang=en-US&region=US&crumb=Yo9B6QaqJUD&corsDomain=finance.yahoo.com\"\n",
        "    x = requests.get(url)\n",
        "    jsonResponse = x.json()\n",
        "    timestamps = jsonResponse[\"chart\"][\"result\"][0][\"timestamp\"]\n",
        "    open = jsonResponse[\"chart\"][\"result\"][0][\"indicators\"][\"quote\"][0][\"open\"]\n",
        "    high = jsonResponse[\"chart\"][\"result\"][0][\"indicators\"][\"quote\"][0][\"high\"]\n",
        "    low = jsonResponse[\"chart\"][\"result\"][0][\"indicators\"][\"quote\"][0][\"low\"]\n",
        "    close = jsonResponse[\"chart\"][\"result\"][0][\"indicators\"][\"quote\"][0][\"close\"]\n",
        "    volume = jsonResponse[\"chart\"][\"result\"][0][\"indicators\"][\"quote\"][0][\"volume\"]\n",
        "\n",
        "    datetimes = list(map(toDatetime, timestamps))\n",
        "\n",
        "    data = {\n",
        "        'timestamps' : datetimes,\n",
        "        'open' : open,\n",
        "        'high' : high,\n",
        "        'low' : low,\n",
        "        'close' : close,\n",
        "        'volume' : volume\n",
        "    }\n",
        "\n",
        "    df = pd.DataFrame(data, columns=['timestamps', 'open', 'high', 'low', 'close', 'volume'])\n",
        "    # Difference if based on 'close' price\n",
        "    df['diff'] = df['close'].diff()\n",
        "    df['change'] = df['diff'] / df['close'].shift(periods=1) * 100\n",
        "    return df\n",
        "\n",
        "def toDatetime(t):\n",
        "    return datetime.fromtimestamp(t)"
      ],
      "execution_count": 3,
      "outputs": []
    },
    {
      "cell_type": "markdown",
      "metadata": {
        "id": "3EIF4l2QSH5N"
      },
      "source": [
        "# Creating Dataframe with stock data"
      ]
    },
    {
      "cell_type": "code",
      "metadata": {
        "id": "om2Lzr9VSQZZ"
      },
      "source": [
        "ticker = 'QQQ'\n",
        "endDate = datetime.now().strftime('%s')\n",
        "startDate = datetime(year=2009, month=1, day=1, hour=0, minute=0).strftime('%s')\n",
        "\n",
        "df = getStockDataInRange(ticker=ticker, startDate=startDate, endDate=endDate)"
      ],
      "execution_count": 4,
      "outputs": []
    },
    {
      "cell_type": "markdown",
      "metadata": {
        "id": "efbqcFC6S2Ey"
      },
      "source": [
        "# Plotting QQQ open prices from January 1, 2009 to the current day using Unix Timestamps"
      ]
    },
    {
      "cell_type": "code",
      "metadata": {
        "colab": {
          "base_uri": "https://localhost:8080/",
          "height": 503
        },
        "id": "YuaVPua0SzdS",
        "outputId": "03089412-9460-4053-c344-4b329438f699"
      },
      "source": [
        "ax = df.plot(x='timestamps', y=['open'], kind='line', title=ticker + ' prices in set range')\n",
        "vals = ax.get_yticks()\n",
        "ax.set_yticklabels(['${:1.2f}'.format(x) for x in vals])\n",
        "ax.xaxis.grid(True, which='minor', linestyle='-', linewidth=0.25)\n",
        "ax.set_axisbelow(True)\n",
        "ax.grid(linestyle='-', linewidth='0.5', color='gray')\n",
        "\n",
        "plt.show()"
      ],
      "execution_count": 5,
      "outputs": [
        {
          "output_type": "display_data",
          "data": {
            "image/png": "[encoded data removed]",
            "text/plain": [
              "<Figure size 864x576 with 1 Axes>"
            ]
          },
          "metadata": {
            "tags": []
          }
        }
      ]
    },
    {
      "cell_type": "markdown",
      "metadata": {
        "id": "J3n-jeZuW5zh"
      },
      "source": [
        "# Showing Dataframe head"
      ]
    },
    {
      "cell_type": "code",
      "metadata": {
        "colab": {
          "base_uri": "https://localhost:8080/",
          "height": 204
        },
        "id": "OAWLK78DW8lg",
        "outputId": "4291d998-bc0d-4499-a710-514e87a42a0f"
      },
      "source": [
        "df.head()"
      ],
      "execution_count": 6,
      "outputs": [
        {
          "output_type": "execute_result",
          "data": {
            "text/html": [
              "<div>\n",
              "<style scoped>\n",
              "    .dataframe tbody tr th:only-of-type {\n",
              "        vertical-align: middle;\n",
              "    }\n",
              "\n",
              "    .dataframe tbody tr th {\n",
              "        vertical-align: top;\n",
              "    }\n",
              "\n",
              "    .dataframe thead th {\n",
              "        text-align: right;\n",
              "    }\n",
              "</style>\n",
              "<table border=\"1\" class=\"dataframe\">\n",
              "  <thead>\n",
              "    <tr style=\"text-align: right;\">\n",
              "      <th></th>\n",
              "      <th>timestamps</th>\n",
              "      <th>open</th>\n",
              "      <th>high</th>\n",
              "      <th>low</th>\n",
              "      <th>close</th>\n",
              "      <th>volume</th>\n",
              "      <th>diff</th>\n",
              "      <th>change</th>\n",
              "    </tr>\n",
              "  </thead>\n",
              "  <tbody>\n",
              "    <tr>\n",
              "      <th>0</th>\n",
              "      <td>2009-01-02 14:30:00</td>\n",
              "      <td>29.750000</td>\n",
              "      <td>31.129999</td>\n",
              "      <td>29.690001</td>\n",
              "      <td>31.030001</td>\n",
              "      <td>107891500</td>\n",
              "      <td>NaN</td>\n",
              "      <td>NaN</td>\n",
              "    </tr>\n",
              "    <tr>\n",
              "      <th>1</th>\n",
              "      <td>2009-01-05 14:30:00</td>\n",
              "      <td>30.830000</td>\n",
              "      <td>31.330000</td>\n",
              "      <td>30.590000</td>\n",
              "      <td>31.020000</td>\n",
              "      <td>91751900</td>\n",
              "      <td>-0.010000</td>\n",
              "      <td>-0.032228</td>\n",
              "    </tr>\n",
              "    <tr>\n",
              "      <th>2</th>\n",
              "      <td>2009-01-06 14:30:00</td>\n",
              "      <td>31.250000</td>\n",
              "      <td>31.629999</td>\n",
              "      <td>31.110001</td>\n",
              "      <td>31.330000</td>\n",
              "      <td>136791700</td>\n",
              "      <td>0.309999</td>\n",
              "      <td>0.999354</td>\n",
              "    </tr>\n",
              "    <tr>\n",
              "      <th>3</th>\n",
              "      <td>2009-01-07 14:30:00</td>\n",
              "      <td>30.730000</td>\n",
              "      <td>30.900000</td>\n",
              "      <td>30.190001</td>\n",
              "      <td>30.440001</td>\n",
              "      <td>133879800</td>\n",
              "      <td>-0.889999</td>\n",
              "      <td>-2.840726</td>\n",
              "    </tr>\n",
              "    <tr>\n",
              "      <th>4</th>\n",
              "      <td>2009-01-08 14:30:00</td>\n",
              "      <td>30.379999</td>\n",
              "      <td>30.799999</td>\n",
              "      <td>30.080000</td>\n",
              "      <td>30.760000</td>\n",
              "      <td>131926600</td>\n",
              "      <td>0.320000</td>\n",
              "      <td>1.051247</td>\n",
              "    </tr>\n",
              "  </tbody>\n",
              "</table>\n",
              "</div>"
            ],
            "text/plain": [
              "           timestamps       open       high  ...     volume      diff    change\n",
              "0 2009-01-02 14:30:00  29.750000  31.129999  ...  107891500       NaN       NaN\n",
              "1 2009-01-05 14:30:00  30.830000  31.330000  ...   91751900 -0.010000 -0.032228\n",
              "2 2009-01-06 14:30:00  31.250000  31.629999  ...  136791700  0.309999  0.999354\n",
              "3 2009-01-07 14:30:00  30.730000  30.900000  ...  133879800 -0.889999 -2.840726\n",
              "4 2009-01-08 14:30:00  30.379999  30.799999  ...  131926600  0.320000  1.051247\n",
              "\n",
              "[5 rows x 8 columns]"
            ]
          },
          "metadata": {
            "tags": []
          },
          "execution_count": 6
        }
      ]
    },
    {
      "cell_type": "markdown",
      "metadata": {
        "id": "AZKwPB2hZjly"
      },
      "source": [
        "# Creating Training Data"
      ]
    },
    {
      "cell_type": "code",
      "metadata": {
        "colab": {
          "base_uri": "https://localhost:8080/",
          "height": 204
        },
        "id": "6No5LdOJZmdX",
        "outputId": "f53137da-4143-47f9-d148-8e496604c07d"
      },
      "source": [
        "training_data = df[df['timestamps']<'2020-01-01'].copy()\n",
        "training_data = training_data.drop(['timestamps'], axis=1)\n",
        "training_data = training_data.iloc[1:]    # Drops first row in dataframe\n",
        "training_data.head() "
      ],
      "execution_count": 86,
      "outputs": [
        {
          "output_type": "execute_result",
          "data": {
            "text/html": [
              "<div>\n",
              "<style scoped>\n",
              "    .dataframe tbody tr th:only-of-type {\n",
              "        vertical-align: middle;\n",
              "    }\n",
              "\n",
              "    .dataframe tbody tr th {\n",
              "        vertical-align: top;\n",
              "    }\n",
              "\n",
              "    .dataframe thead th {\n",
              "        text-align: right;\n",
              "    }\n",
              "</style>\n",
              "<table border=\"1\" class=\"dataframe\">\n",
              "  <thead>\n",
              "    <tr style=\"text-align: right;\">\n",
              "      <th></th>\n",
              "      <th>open</th>\n",
              "      <th>high</th>\n",
              "      <th>low</th>\n",
              "      <th>close</th>\n",
              "      <th>volume</th>\n",
              "      <th>diff</th>\n",
              "      <th>change</th>\n",
              "    </tr>\n",
              "  </thead>\n",
              "  <tbody>\n",
              "    <tr>\n",
              "      <th>1</th>\n",
              "      <td>30.830000</td>\n",
              "      <td>31.330000</td>\n",
              "      <td>30.590000</td>\n",
              "      <td>31.020000</td>\n",
              "      <td>91751900</td>\n",
              "      <td>-0.010000</td>\n",
              "      <td>-0.032228</td>\n",
              "    </tr>\n",
              "    <tr>\n",
              "      <th>2</th>\n",
              "      <td>31.250000</td>\n",
              "      <td>31.629999</td>\n",
              "      <td>31.110001</td>\n",
              "      <td>31.330000</td>\n",
              "      <td>136791700</td>\n",
              "      <td>0.309999</td>\n",
              "      <td>0.999354</td>\n",
              "    </tr>\n",
              "    <tr>\n",
              "      <th>3</th>\n",
              "      <td>30.730000</td>\n",
              "      <td>30.900000</td>\n",
              "      <td>30.190001</td>\n",
              "      <td>30.440001</td>\n",
              "      <td>133879800</td>\n",
              "      <td>-0.889999</td>\n",
              "      <td>-2.840726</td>\n",
              "    </tr>\n",
              "    <tr>\n",
              "      <th>4</th>\n",
              "      <td>30.379999</td>\n",
              "      <td>30.799999</td>\n",
              "      <td>30.080000</td>\n",
              "      <td>30.760000</td>\n",
              "      <td>131926600</td>\n",
              "      <td>0.320000</td>\n",
              "      <td>1.051247</td>\n",
              "    </tr>\n",
              "    <tr>\n",
              "      <th>5</th>\n",
              "      <td>30.770000</td>\n",
              "      <td>30.790001</td>\n",
              "      <td>29.920000</td>\n",
              "      <td>30.070000</td>\n",
              "      <td>117137900</td>\n",
              "      <td>-0.690001</td>\n",
              "      <td>-2.243175</td>\n",
              "    </tr>\n",
              "  </tbody>\n",
              "</table>\n",
              "</div>"
            ],
            "text/plain": [
              "        open       high        low      close     volume      diff    change\n",
              "1  30.830000  31.330000  30.590000  31.020000   91751900 -0.010000 -0.032228\n",
              "2  31.250000  31.629999  31.110001  31.330000  136791700  0.309999  0.999354\n",
              "3  30.730000  30.900000  30.190001  30.440001  133879800 -0.889999 -2.840726\n",
              "4  30.379999  30.799999  30.080000  30.760000  131926600  0.320000  1.051247\n",
              "5  30.770000  30.790001  29.920000  30.070000  117137900 -0.690001 -2.243175"
            ]
          },
          "metadata": {
            "tags": []
          },
          "execution_count": 86
        }
      ]
    },
    {
      "cell_type": "markdown",
      "metadata": {
        "id": "TBYF_cfenkuZ"
      },
      "source": [
        "# Using z-score standardization"
      ]
    },
    {
      "cell_type": "code",
      "metadata": {
        "id": "KKsISLrnggMa",
        "outputId": "beb31593-4e06-4518-bcc2-e8053c6460a9",
        "colab": {
          "base_uri": "https://localhost:8080/",
          "height": 861
        }
      },
      "source": [
        "from scipy import stats\n",
        "\n",
        "training_data = stats.zscore(training_data, axis=0, ddof=0, nan_policy='omit')\n",
        "\n",
        "n_bins = 50\n",
        "\n",
        "fig, axs = plt.subplots(2, 4, sharey=True, tight_layout=True)\n",
        "axs[0][0].hist(training_data[:, 0], bins=n_bins)\n",
        "axs[0][1].hist(training_data[:, 1], bins=n_bins)\n",
        "axs[0][2].hist(training_data[:, 2], bins=n_bins)\n",
        "axs[0][3].hist(training_data[:, 3], bins=n_bins)\n",
        "axs[1][0].hist(training_data[:, 4], bins=n_bins)\n",
        "axs[1][1].hist(training_data[:, 5], bins=n_bins)\n",
        "axs[1][2].hist(training_data[:, 6], bins=n_bins)"
      ],
      "execution_count": 87,
      "outputs": [
        {
          "output_type": "execute_result",
          "data": {
            "text/plain": [
              "(array([  1.,   0.,   0.,   0.,   2.,   2.,   2.,   3.,   5.,   2.,   8.,\n",
              "         13.,  14.,  13.,  30.,  24.,  27.,  41.,  66.,  73.,  85., 133.,\n",
              "        178., 304., 362., 349., 270., 226., 156., 113.,  84.,  47.,  38.,\n",
              "         27.,  14.,  14.,  10.,   9.,   7.,   5.,   0.,   3.,   1.,   0.,\n",
              "          1.,   2.,   0.,   0.,   1.,   2.]),\n",
              " array([-5.33182182, -5.11727667, -4.90273151, -4.68818636, -4.4736412 ,\n",
              "        -4.25909605, -4.0445509 , -3.83000574, -3.61546059, -3.40091544,\n",
              "        -3.18637028, -2.97182513, -2.75727997, -2.54273482, -2.32818967,\n",
              "        -2.11364451, -1.89909936, -1.6845542 , -1.47000905, -1.2554639 ,\n",
              "        -1.04091874, -0.82637359, -0.61182844, -0.39728328, -0.18273813,\n",
              "         0.03180703,  0.24635218,  0.46089733,  0.67544249,  0.88998764,\n",
              "         1.10453279,  1.31907795,  1.5336231 ,  1.74816826,  1.96271341,\n",
              "         2.17725856,  2.39180372,  2.60634887,  2.82089402,  3.03543918,\n",
              "         3.24998433,  3.46452949,  3.67907464,  3.89361979,  4.10816495,\n",
              "         4.3227101 ,  4.53725526,  4.75180041,  4.96634556,  5.18089072,\n",
              "         5.39543587]),\n",
              " <a list of 50 Patch objects>)"
            ]
          },
          "metadata": {
            "tags": []
          },
          "execution_count": 87
        },
        {
          "output_type": "display_data",
          "data": {
            "image/png": "[encoded data removed]",
            "text/plain": [
              "<Figure size 864x576 with 8 Axes>"
            ]
          },
          "metadata": {
            "tags": []
          }
        }
      ]
    },
    {
      "cell_type": "markdown",
      "metadata": {
        "id": "r5Qx2TiW3FXY"
      },
      "source": [
        "# Import needed Keras components"
      ]
    },
    {
      "cell_type": "code",
      "metadata": {
        "id": "J6bM-lTc2VPi"
      },
      "source": [
        "from tensorflow.keras import Sequential\n",
        "from tensorflow.keras.layers import Dense, LSTM, Dropout, Conv1D, MaxPool1D, Activation"
      ],
      "execution_count": null,
      "outputs": []
    },
    {
      "cell_type": "markdown",
      "metadata": {
        "id": "HzI-HDW13MZF"
      },
      "source": [
        "# Build CNN-LSTM model"
      ]
    },
    {
      "cell_type": "code",
      "metadata": {
        "id": "kIz0Cf3B3Q72"
      },
      "source": [
        "model = Sequential([\n",
        "    Conv1D(filters=32, \n",
        "           kernel_size=1, \n",
        "           padding='same', \n",
        "           activation='tanh', \n",
        "           input_shape=(10, 8)),\n",
        "    MaxPool1D(pool_size=1, padding='same'),\n",
        "    Activation('relu'),\n",
        "    LSTM(units=64, \n",
        "         activation='relu', \n",
        "         input_shape=(10, 32)),\n",
        "    Dense(units=1) # Should I use a kernel initializer?\n",
        "])"
      ],
      "execution_count": null,
      "outputs": []
    },
    {
      "cell_type": "markdown",
      "metadata": {
        "id": "g17NdDV3692C"
      },
      "source": [
        "# Show summary of model"
      ]
    },
    {
      "cell_type": "code",
      "metadata": {
        "id": "b1wObeoq60EP"
      },
      "source": [
        "model.summary()"
      ],
      "execution_count": null,
      "outputs": []
    },
    {
      "cell_type": "markdown",
      "metadata": {
        "id": "ZE5YawtIQdpw"
      },
      "source": [
        "# Compiling model"
      ]
    },
    {
      "cell_type": "code",
      "metadata": {
        "id": "xnGsH2njQGHk"
      },
      "source": [
        "from tensorflow.keras import optimizers\n",
        "\n",
        "learning_rate = 0.001\n",
        "\n",
        "optimizer = optimizers.Adam(learning_rate=learning_rate, beta_1=0.9, beta_2=0.999, amsgrad=False)\n",
        "\n",
        "model.compile(optimizer=optimizer, loss='mean_absolute_error')"
      ],
      "execution_count": null,
      "outputs": []
    },
    {
      "cell_type": "markdown",
      "metadata": {
        "id": "Fq1d4zmVQhDn"
      },
      "source": [
        "# Fitting model"
      ]
    },
    {
      "cell_type": "code",
      "metadata": {
        "id": "3zDRK013QjqD"
      },
      "source": [
        "model.fit(X_train, y_train, epochs=100, batch_size=64)"
      ],
      "execution_count": null,
      "outputs": []
    }
  ]
}