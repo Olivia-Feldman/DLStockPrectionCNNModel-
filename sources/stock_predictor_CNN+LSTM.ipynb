{
  "nbformat": 4,
  "nbformat_minor": 0,
  "metadata": {
    "colab": {
      "name": "stock_predictor_CNN+LSTM.ipynb",
      "provenance": [],
      "authorship_tag": "ABX9TyMSc2k31R0r9aE11sPx6OVW",
      "include_colab_link": true
    },
    "kernelspec": {
      "name": "python3",
      "display_name": "Python 3"
    },
    "language_info": {
      "name": "python"
    }
  },
  "cells": [
    {
      "cell_type": "markdown",
      "metadata": {
        "id": "view-in-github",
        "colab_type": "text"
      },
      "source": [
        "<a href=\"https://colab.research.google.com/github/Olivia-Feldman/DLStockPrectionCNNModel-/blob/Andrew/sources/stock_predictor_CNN%2BLSTM.ipynb\" target=\"_parent\"><img src=\"https://colab.research.google.com/assets/colab-badge.svg\" alt=\"Open In Colab\"/></a>"
      ]
    },
    {
      "cell_type": "markdown",
      "metadata": {
        "id": "vEVXDkLxRqf3"
      },
      "source": [
        "# Default Imports"
      ]
    },
    {
      "cell_type": "code",
      "metadata": {
        "id": "e-qCNW9g0aGK"
      },
      "source": [
        "import requests\n",
        "import pandas as pd\n",
        "import numpy as np\n",
        "from datetime import datetime\n",
        "import matplotlib.pyplot as plt\n",
        "import matplotlib.ticker as tick\n",
        "from sklearn.preprocessing import StandardScaler, MinMaxScaler"
      ],
      "execution_count": 1,
      "outputs": []
    },
    {
      "cell_type": "markdown",
      "metadata": {
        "id": "AJgxPqtSRvna"
      },
      "source": [
        "# Set Plot Stylizations"
      ]
    },
    {
      "cell_type": "code",
      "metadata": {
        "id": "sudhkGWzRwNL"
      },
      "source": [
        "plt.rcParams.update({'font.size': 16})\n",
        "plt.rcParams['figure.figsize'] = [12, 8]\n",
        "plt.style.use('dark_background')"
      ],
      "execution_count": 2,
      "outputs": []
    },
    {
      "cell_type": "markdown",
      "metadata": {
        "id": "sNi5ukeJSAoz"
      },
      "source": [
        "# Method for getting ticker data using Yahoo Finance API\n",
        "\n",
        "This method downloads json data from the Yahoo! finance API and organizes it into a Pandas dataframe. The time frame of the data can start and end wherever the user wants it to. The start and end dates need to be a String in the form of a Unix Timestamp.\n",
        "\n",
        "*Parameters:*\n",
        "\n",
        "    ticker: String that specifies the trading ticker of the equity \n",
        "    startData: String that specifies the start time of the dataset. Formatted as a Unix Timestamp\n",
        "    endData: String that specifies the start time of the dataset. Formatted as a Unix Timestamp\n",
        "\n",
        "*Returns:*\n",
        "\n",
        "    df: Pandas dataframe with timestamp, open, high, low, close, and volume of a ticker\n",
        "\n",
        "\n",
        "*Resources:*\n",
        "*   [Dataframe.shift](https://pandas.pydata.org/docs/reference/api/pandas.DataFrame.shift.html)\n",
        "\n"
      ]
    },
    {
      "cell_type": "code",
      "metadata": {
        "id": "6ivlzMPCR_h3"
      },
      "source": [
        "def getStockDataInRange(ticker: str, startDate: str, endDate: str):\n",
        "    url = \"https://query1.finance.yahoo.com/v8/finance/chart/\" + ticker + \"?period1=\" + startDate + \"&period2=\" + endDate + \"&useYfid=true&interval=1d&includePrePost=true&events=div%7Csplit%7Cearn&lang=en-US&region=US&crumb=Yo9B6QaqJUD&corsDomain=finance.yahoo.com\"\n",
        "    x = requests.get(url)\n",
        "    jsonResponse = x.json()\n",
        "    timestamps = jsonResponse[\"chart\"][\"result\"][0][\"timestamp\"]\n",
        "    open = jsonResponse[\"chart\"][\"result\"][0][\"indicators\"][\"quote\"][0][\"open\"]\n",
        "    high = jsonResponse[\"chart\"][\"result\"][0][\"indicators\"][\"quote\"][0][\"high\"]\n",
        "    low = jsonResponse[\"chart\"][\"result\"][0][\"indicators\"][\"quote\"][0][\"low\"]\n",
        "    close = jsonResponse[\"chart\"][\"result\"][0][\"indicators\"][\"quote\"][0][\"close\"]\n",
        "    volume = jsonResponse[\"chart\"][\"result\"][0][\"indicators\"][\"quote\"][0][\"volume\"]\n",
        "\n",
        "    datetimes = list(map(toDatetime, timestamps))\n",
        "\n",
        "    data = {\n",
        "        'timestamps' : datetimes,\n",
        "        'open' : open,\n",
        "        'high' : high,\n",
        "        'low' : low,\n",
        "        'close' : close,\n",
        "        'volume' : volume\n",
        "    }\n",
        "\n",
        "    df = pd.DataFrame(data, columns=['timestamps', 'open', 'high', 'low', 'close', 'volume'])\n",
        "    # Difference if based on 'close' price\n",
        "    df['diff'] = df['close'].diff()\n",
        "    df['change'] = df['diff'] / df['close'].shift(periods=1) * 100\n",
        "    return df\n",
        "\n",
        "def toDatetime(t):\n",
        "    return datetime.fromtimestamp(t)"
      ],
      "execution_count": 3,
      "outputs": []
    },
    {
      "cell_type": "markdown",
      "metadata": {
        "id": "3EIF4l2QSH5N"
      },
      "source": [
        "# Creating Dataframe with stock data"
      ]
    },
    {
      "cell_type": "code",
      "metadata": {
        "id": "om2Lzr9VSQZZ"
      },
      "source": [
        "ticker = 'QQQ'\n",
        "endDate = datetime.now().strftime('%s')\n",
        "startDate = datetime(year=2009, month=1, day=1, hour=0, minute=0).strftime('%s')\n",
        "\n",
        "df = getStockDataInRange(ticker=ticker, startDate=startDate, endDate=endDate)"
      ],
      "execution_count": 4,
      "outputs": []
    },
    {
      "cell_type": "markdown",
      "metadata": {
        "id": "efbqcFC6S2Ey"
      },
      "source": [
        "# Plotting QQQ open prices from January 1, 2009 to the current day using Unix Timestamps"
      ]
    },
    {
      "cell_type": "code",
      "metadata": {
        "colab": {
          "base_uri": "https://localhost:8080/",
          "height": 503
        },
        "id": "YuaVPua0SzdS",
        "outputId": "2e964d0d-0df6-41b1-ae5d-77c5861ab893"
      },
      "source": [
        "ax = df.plot(x='timestamps', y=['open'], kind='line', title=ticker + ' prices in set range')\n",
        "vals = ax.get_yticks()\n",
        "ax.set_yticklabels(['${:1.2f}'.format(x) for x in vals])\n",
        "ax.xaxis.grid(True, which='minor', linestyle='-', linewidth=0.25)\n",
        "ax.set_axisbelow(True)\n",
        "ax.grid(linestyle='-', linewidth='0.5', color='gray')\n",
        "\n",
        "plt.show()"
      ],
      "execution_count": 5,
      "outputs": [
        {
          "output_type": "display_data",
          "data": {
            "image/png": "[encoded data removed]",
            "text/plain": [
              "<Figure size 864x576 with 1 Axes>"
            ]
          },
          "metadata": {
            "tags": []
          }
        }
      ]
    },
    {
      "cell_type": "markdown",
      "metadata": {
        "id": "J3n-jeZuW5zh"
      },
      "source": [
        "# Showing Dataframe head"
      ]
    },
    {
      "cell_type": "code",
      "metadata": {
        "colab": {
          "base_uri": "https://localhost:8080/",
          "height": 204
        },
        "id": "OAWLK78DW8lg",
        "outputId": "fc9d9e69-9ef3-48f5-d260-20c25c6cad82"
      },
      "source": [
        "df.head()"
      ],
      "execution_count": 6,
      "outputs": [
        {
          "output_type": "execute_result",
          "data": {
            "text/html": [
              "<div>\n",
              "<style scoped>\n",
              "    .dataframe tbody tr th:only-of-type {\n",
              "        vertical-align: middle;\n",
              "    }\n",
              "\n",
              "    .dataframe tbody tr th {\n",
              "        vertical-align: top;\n",
              "    }\n",
              "\n",
              "    .dataframe thead th {\n",
              "        text-align: right;\n",
              "    }\n",
              "</style>\n",
              "<table border=\"1\" class=\"dataframe\">\n",
              "  <thead>\n",
              "    <tr style=\"text-align: right;\">\n",
              "      <th></th>\n",
              "      <th>timestamps</th>\n",
              "      <th>open</th>\n",
              "      <th>high</th>\n",
              "      <th>low</th>\n",
              "      <th>close</th>\n",
              "      <th>volume</th>\n",
              "      <th>diff</th>\n",
              "      <th>change</th>\n",
              "    </tr>\n",
              "  </thead>\n",
              "  <tbody>\n",
              "    <tr>\n",
              "      <th>0</th>\n",
              "      <td>2009-01-02 14:30:00</td>\n",
              "      <td>29.750000</td>\n",
              "      <td>31.129999</td>\n",
              "      <td>29.690001</td>\n",
              "      <td>31.030001</td>\n",
              "      <td>107891500</td>\n",
              "      <td>NaN</td>\n",
              "      <td>NaN</td>\n",
              "    </tr>\n",
              "    <tr>\n",
              "      <th>1</th>\n",
              "      <td>2009-01-05 14:30:00</td>\n",
              "      <td>30.830000</td>\n",
              "      <td>31.330000</td>\n",
              "      <td>30.590000</td>\n",
              "      <td>31.020000</td>\n",
              "      <td>91751900</td>\n",
              "      <td>-0.010000</td>\n",
              "      <td>-0.032228</td>\n",
              "    </tr>\n",
              "    <tr>\n",
              "      <th>2</th>\n",
              "      <td>2009-01-06 14:30:00</td>\n",
              "      <td>31.250000</td>\n",
              "      <td>31.629999</td>\n",
              "      <td>31.110001</td>\n",
              "      <td>31.330000</td>\n",
              "      <td>136791700</td>\n",
              "      <td>0.309999</td>\n",
              "      <td>0.999354</td>\n",
              "    </tr>\n",
              "    <tr>\n",
              "      <th>3</th>\n",
              "      <td>2009-01-07 14:30:00</td>\n",
              "      <td>30.730000</td>\n",
              "      <td>30.900000</td>\n",
              "      <td>30.190001</td>\n",
              "      <td>30.440001</td>\n",
              "      <td>133879800</td>\n",
              "      <td>-0.889999</td>\n",
              "      <td>-2.840726</td>\n",
              "    </tr>\n",
              "    <tr>\n",
              "      <th>4</th>\n",
              "      <td>2009-01-08 14:30:00</td>\n",
              "      <td>30.379999</td>\n",
              "      <td>30.799999</td>\n",
              "      <td>30.080000</td>\n",
              "      <td>30.760000</td>\n",
              "      <td>131926600</td>\n",
              "      <td>0.320000</td>\n",
              "      <td>1.051247</td>\n",
              "    </tr>\n",
              "  </tbody>\n",
              "</table>\n",
              "</div>"
            ],
            "text/plain": [
              "           timestamps       open       high  ...     volume      diff    change\n",
              "0 2009-01-02 14:30:00  29.750000  31.129999  ...  107891500       NaN       NaN\n",
              "1 2009-01-05 14:30:00  30.830000  31.330000  ...   91751900 -0.010000 -0.032228\n",
              "2 2009-01-06 14:30:00  31.250000  31.629999  ...  136791700  0.309999  0.999354\n",
              "3 2009-01-07 14:30:00  30.730000  30.900000  ...  133879800 -0.889999 -2.840726\n",
              "4 2009-01-08 14:30:00  30.379999  30.799999  ...  131926600  0.320000  1.051247\n",
              "\n",
              "[5 rows x 8 columns]"
            ]
          },
          "metadata": {
            "tags": []
          },
          "execution_count": 6
        }
      ]
    },
    {
      "cell_type": "markdown",
      "metadata": {
        "id": "AZKwPB2hZjly"
      },
      "source": [
        "# Creating Training Data"
      ]
    },
    {
      "cell_type": "code",
      "metadata": {
        "colab": {
          "base_uri": "https://localhost:8080/",
          "height": 204
        },
        "id": "6No5LdOJZmdX",
        "outputId": "79f97ff3-5597-4990-91d0-96912d073aa6"
      },
      "source": [
        "training_data = df[df['timestamps']<'2020-01-01'].copy()\n",
        "training_data = training_data.drop(['timestamps'], axis=1)\n",
        "training_data = training_data.iloc[1:]    # Drops first row in dataframe\n",
        "training_data.head() "
      ],
      "execution_count": 7,
      "outputs": [
        {
          "output_type": "execute_result",
          "data": {
            "text/html": [
              "<div>\n",
              "<style scoped>\n",
              "    .dataframe tbody tr th:only-of-type {\n",
              "        vertical-align: middle;\n",
              "    }\n",
              "\n",
              "    .dataframe tbody tr th {\n",
              "        vertical-align: top;\n",
              "    }\n",
              "\n",
              "    .dataframe thead th {\n",
              "        text-align: right;\n",
              "    }\n",
              "</style>\n",
              "<table border=\"1\" class=\"dataframe\">\n",
              "  <thead>\n",
              "    <tr style=\"text-align: right;\">\n",
              "      <th></th>\n",
              "      <th>open</th>\n",
              "      <th>high</th>\n",
              "      <th>low</th>\n",
              "      <th>close</th>\n",
              "      <th>volume</th>\n",
              "      <th>diff</th>\n",
              "      <th>change</th>\n",
              "    </tr>\n",
              "  </thead>\n",
              "  <tbody>\n",
              "    <tr>\n",
              "      <th>1</th>\n",
              "      <td>30.830000</td>\n",
              "      <td>31.330000</td>\n",
              "      <td>30.590000</td>\n",
              "      <td>31.020000</td>\n",
              "      <td>91751900</td>\n",
              "      <td>-0.010000</td>\n",
              "      <td>-0.032228</td>\n",
              "    </tr>\n",
              "    <tr>\n",
              "      <th>2</th>\n",
              "      <td>31.250000</td>\n",
              "      <td>31.629999</td>\n",
              "      <td>31.110001</td>\n",
              "      <td>31.330000</td>\n",
              "      <td>136791700</td>\n",
              "      <td>0.309999</td>\n",
              "      <td>0.999354</td>\n",
              "    </tr>\n",
              "    <tr>\n",
              "      <th>3</th>\n",
              "      <td>30.730000</td>\n",
              "      <td>30.900000</td>\n",
              "      <td>30.190001</td>\n",
              "      <td>30.440001</td>\n",
              "      <td>133879800</td>\n",
              "      <td>-0.889999</td>\n",
              "      <td>-2.840726</td>\n",
              "    </tr>\n",
              "    <tr>\n",
              "      <th>4</th>\n",
              "      <td>30.379999</td>\n",
              "      <td>30.799999</td>\n",
              "      <td>30.080000</td>\n",
              "      <td>30.760000</td>\n",
              "      <td>131926600</td>\n",
              "      <td>0.320000</td>\n",
              "      <td>1.051247</td>\n",
              "    </tr>\n",
              "    <tr>\n",
              "      <th>5</th>\n",
              "      <td>30.770000</td>\n",
              "      <td>30.790001</td>\n",
              "      <td>29.920000</td>\n",
              "      <td>30.070000</td>\n",
              "      <td>117137900</td>\n",
              "      <td>-0.690001</td>\n",
              "      <td>-2.243175</td>\n",
              "    </tr>\n",
              "  </tbody>\n",
              "</table>\n",
              "</div>"
            ],
            "text/plain": [
              "        open       high        low      close     volume      diff    change\n",
              "1  30.830000  31.330000  30.590000  31.020000   91751900 -0.010000 -0.032228\n",
              "2  31.250000  31.629999  31.110001  31.330000  136791700  0.309999  0.999354\n",
              "3  30.730000  30.900000  30.190001  30.440001  133879800 -0.889999 -2.840726\n",
              "4  30.379999  30.799999  30.080000  30.760000  131926600  0.320000  1.051247\n",
              "5  30.770000  30.790001  29.920000  30.070000  117137900 -0.690001 -2.243175"
            ]
          },
          "metadata": {
            "tags": []
          },
          "execution_count": 7
        }
      ]
    },
    {
      "cell_type": "markdown",
      "metadata": {
        "id": "TBYF_cfenkuZ"
      },
      "source": [
        "# Using z-score standardization"
      ]
    },
    {
      "cell_type": "code",
      "metadata": {
        "id": "KKsISLrnggMa",
        "colab": {
          "base_uri": "https://localhost:8080/",
          "height": 861
        },
        "outputId": "a823b32f-e3b0-4bd4-933c-458a64b9f691"
      },
      "source": [
        "from scipy import stats\n",
        "\n",
        "training_data = stats.zscore(training_data, axis=0, ddof=0, nan_policy='omit')\n",
        "\n",
        "n_bins = 50\n",
        "\n",
        "fig, axs = plt.subplots(2, 4, sharey=True, tight_layout=True)\n",
        "axs[0][0].hist(training_data[:, 0], bins=n_bins)\n",
        "axs[0][1].hist(training_data[:, 1], bins=n_bins)\n",
        "axs[0][2].hist(training_data[:, 2], bins=n_bins)\n",
        "axs[0][3].hist(training_data[:, 3], bins=n_bins)\n",
        "axs[1][0].hist(training_data[:, 4], bins=n_bins)\n",
        "axs[1][1].hist(training_data[:, 5], bins=n_bins)\n",
        "axs[1][2].hist(training_data[:, 6], bins=n_bins)"
      ],
      "execution_count": 8,
      "outputs": [
        {
          "output_type": "execute_result",
          "data": {
            "text/plain": [
              "(array([  1.,   0.,   0.,   0.,   2.,   2.,   2.,   3.,   5.,   2.,   8.,\n",
              "         13.,  14.,  13.,  30.,  24.,  27.,  41.,  66.,  73.,  85., 133.,\n",
              "        178., 304., 362., 349., 270., 226., 156., 113.,  84.,  47.,  38.,\n",
              "         27.,  14.,  14.,  10.,   9.,   7.,   5.,   0.,   3.,   1.,   0.,\n",
              "          1.,   2.,   0.,   0.,   1.,   2.]),\n",
              " array([-5.33182182, -5.11727667, -4.90273151, -4.68818636, -4.4736412 ,\n",
              "        -4.25909605, -4.0445509 , -3.83000574, -3.61546059, -3.40091544,\n",
              "        -3.18637028, -2.97182513, -2.75727997, -2.54273482, -2.32818967,\n",
              "        -2.11364451, -1.89909936, -1.6845542 , -1.47000905, -1.2554639 ,\n",
              "        -1.04091874, -0.82637359, -0.61182844, -0.39728328, -0.18273813,\n",
              "         0.03180703,  0.24635218,  0.46089733,  0.67544249,  0.88998764,\n",
              "         1.10453279,  1.31907795,  1.5336231 ,  1.74816826,  1.96271341,\n",
              "         2.17725856,  2.39180372,  2.60634887,  2.82089402,  3.03543918,\n",
              "         3.24998433,  3.46452949,  3.67907464,  3.89361979,  4.10816495,\n",
              "         4.3227101 ,  4.53725526,  4.75180041,  4.96634556,  5.18089072,\n",
              "         5.39543587]),\n",
              " <a list of 50 Patch objects>)"
            ]
          },
          "metadata": {
            "tags": []
          },
          "execution_count": 8
        },
        {
          "output_type": "display_data",
          "data": {
            "image/png": "[encoded data removed]",
            "text/plain": [
              "<Figure size 864x576 with 8 Axes>"
            ]
          },
          "metadata": {
            "tags": []
          }
        }
      ]
    },
    {
      "cell_type": "markdown",
      "metadata": {
        "id": "pFc60CcBkHOo"
      },
      "source": [
        "# Create data with time_step = 10"
      ]
    },
    {
      "cell_type": "code",
      "metadata": {
        "id": "zvl5io7XkQyo",
        "outputId": "d04014e0-81d9-4a0d-e282-aa24185c6466",
        "colab": {
          "base_uri": "https://localhost:8080/"
        }
      },
      "source": [
        "time_step = 10\n",
        "\n",
        "x_train = []\n",
        "y_train = []\n",
        "\n",
        "for i in range(time_step, training_data.shape[0]):\n",
        "    x_train.append(training_data[i-time_step:i])\n",
        "    y_train.append(training_data[i, 0])\n",
        "\n",
        "print(len(y_train))"
      ],
      "execution_count": 9,
      "outputs": [
        {
          "output_type": "stream",
          "text": [
            "2757\n"
          ],
          "name": "stdout"
        }
      ]
    },
    {
      "cell_type": "code",
      "metadata": {
        "id": "0yW7gkBdluFR",
        "outputId": "2ff64c99-1806-4729-bb62-ae076dca9a88",
        "colab": {
          "base_uri": "https://localhost:8080/"
        }
      },
      "source": [
        "x_train, y_train = np.array(x_train), np.array(y_train)\n",
        "x_train.shape, y_train.shape"
      ],
      "execution_count": 10,
      "outputs": [
        {
          "output_type": "execute_result",
          "data": {
            "text/plain": [
              "((2757, 10, 7), (2757,))"
            ]
          },
          "metadata": {
            "tags": []
          },
          "execution_count": 10
        }
      ]
    },
    {
      "cell_type": "markdown",
      "metadata": {
        "id": "r5Qx2TiW3FXY"
      },
      "source": [
        "# Import needed Keras components"
      ]
    },
    {
      "cell_type": "code",
      "metadata": {
        "id": "J6bM-lTc2VPi"
      },
      "source": [
        "from tensorflow.keras import Sequential\n",
        "from tensorflow.keras.layers import Dense, LSTM, Dropout, Conv1D, MaxPool1D, Activation"
      ],
      "execution_count": 11,
      "outputs": []
    },
    {
      "cell_type": "markdown",
      "metadata": {
        "id": "HzI-HDW13MZF"
      },
      "source": [
        "# Build CNN-LSTM model"
      ]
    },
    {
      "cell_type": "code",
      "metadata": {
        "id": "kIz0Cf3B3Q72"
      },
      "source": [
        "filters = 32\n",
        "\n",
        "model = Sequential([\n",
        "    Conv1D(filters=filters, \n",
        "           kernel_size=1, \n",
        "           padding='same', \n",
        "           activation='tanh', \n",
        "           input_shape=(x_train.shape[1], x_train.shape[2])),\n",
        "    MaxPool1D(pool_size=1, padding='same'),\n",
        "    Activation('relu'),\n",
        "    LSTM(units=64, \n",
        "         activation='relu', \n",
        "         input_shape=(x_train.shape[1], filters)),\n",
        "    Dense(units=1) # Should I use a kernel initializer?\n",
        "])"
      ],
      "execution_count": 12,
      "outputs": []
    },
    {
      "cell_type": "markdown",
      "metadata": {
        "id": "g17NdDV3692C"
      },
      "source": [
        "# Show summary of model"
      ]
    },
    {
      "cell_type": "code",
      "metadata": {
        "id": "b1wObeoq60EP",
        "outputId": "cf7488d0-711f-458a-ceff-4d36ff636ea6",
        "colab": {
          "base_uri": "https://localhost:8080/"
        }
      },
      "source": [
        "model.summary()"
      ],
      "execution_count": 13,
      "outputs": [
        {
          "output_type": "stream",
          "text": [
            "Model: \"sequential\"\n",
            "_________________________________________________________________\n",
            "Layer (type)                 Output Shape              Param #   \n",
            "=================================================================\n",
            "conv1d (Conv1D)              (None, 10, 32)            256       \n",
            "_________________________________________________________________\n",
            "max_pooling1d (MaxPooling1D) (None, 10, 32)            0         \n",
            "_________________________________________________________________\n",
            "activation (Activation)      (None, 10, 32)            0         \n",
            "_________________________________________________________________\n",
            "lstm (LSTM)                  (None, 64)                24832     \n",
            "_________________________________________________________________\n",
            "dense (Dense)                (None, 1)                 65        \n",
            "=================================================================\n",
            "Total params: 25,153\n",
            "Trainable params: 25,153\n",
            "Non-trainable params: 0\n",
            "_________________________________________________________________\n"
          ],
          "name": "stdout"
        }
      ]
    },
    {
      "cell_type": "markdown",
      "metadata": {
        "id": "ZE5YawtIQdpw"
      },
      "source": [
        "# Compiling model"
      ]
    },
    {
      "cell_type": "code",
      "metadata": {
        "id": "xnGsH2njQGHk"
      },
      "source": [
        "from tensorflow.keras import optimizers\n",
        "\n",
        "learning_rate = 0.001\n",
        "\n",
        "optimizer = optimizers.Adam(learning_rate=learning_rate, beta_1=0.9, beta_2=0.999, amsgrad=False)\n",
        "\n",
        "model.compile(optimizer=optimizer, loss='mean_absolute_error')"
      ],
      "execution_count": 14,
      "outputs": []
    },
    {
      "cell_type": "markdown",
      "metadata": {
        "id": "Fq1d4zmVQhDn"
      },
      "source": [
        "# Fitting model"
      ]
    },
    {
      "cell_type": "code",
      "metadata": {
        "id": "3zDRK013QjqD",
        "outputId": "d2e9a731-585c-441f-dba9-c466e622f27e",
        "colab": {
          "base_uri": "https://localhost:8080/"
        }
      },
      "source": [
        "model.fit(x_train, y_train, epochs=100, batch_size=64)"
      ],
      "execution_count": 15,
      "outputs": [
        {
          "output_type": "stream",
          "text": [
            "Epoch 1/100\n",
            "44/44 [==============================] - 2s 9ms/step - loss: 0.4021\n",
            "Epoch 2/100\n",
            "44/44 [==============================] - 0s 9ms/step - loss: 0.0320\n",
            "Epoch 3/100\n",
            "44/44 [==============================] - 0s 9ms/step - loss: 0.0211\n",
            "Epoch 4/100\n",
            "44/44 [==============================] - 0s 9ms/step - loss: 0.0209\n",
            "Epoch 5/100\n",
            "44/44 [==============================] - 0s 9ms/step - loss: 0.0169\n",
            "Epoch 6/100\n",
            "44/44 [==============================] - 0s 9ms/step - loss: 0.0153\n",
            "Epoch 7/100\n",
            "44/44 [==============================] - 0s 9ms/step - loss: 0.0148\n",
            "Epoch 8/100\n",
            "44/44 [==============================] - 0s 8ms/step - loss: 0.0158\n",
            "Epoch 9/100\n",
            "44/44 [==============================] - 0s 8ms/step - loss: 0.0189\n",
            "Epoch 10/100\n",
            "44/44 [==============================] - 0s 8ms/step - loss: 0.0132\n",
            "Epoch 11/100\n",
            "44/44 [==============================] - 0s 8ms/step - loss: 0.0160\n",
            "Epoch 12/100\n",
            "44/44 [==============================] - 0s 8ms/step - loss: 0.0136\n",
            "Epoch 13/100\n",
            "44/44 [==============================] - 0s 8ms/step - loss: 0.0153\n",
            "Epoch 14/100\n",
            "44/44 [==============================] - 0s 9ms/step - loss: 0.0128\n",
            "Epoch 15/100\n",
            "44/44 [==============================] - 0s 8ms/step - loss: 0.0147\n",
            "Epoch 16/100\n",
            "44/44 [==============================] - 0s 9ms/step - loss: 0.0171\n",
            "Epoch 17/100\n",
            "44/44 [==============================] - 0s 9ms/step - loss: 0.0182\n",
            "Epoch 18/100\n",
            "44/44 [==============================] - 0s 9ms/step - loss: 0.0119\n",
            "Epoch 19/100\n",
            "44/44 [==============================] - 0s 8ms/step - loss: 0.0121\n",
            "Epoch 20/100\n",
            "44/44 [==============================] - 0s 9ms/step - loss: 0.0179\n",
            "Epoch 21/100\n",
            "44/44 [==============================] - 0s 9ms/step - loss: 0.0125\n",
            "Epoch 22/100\n",
            "44/44 [==============================] - 0s 8ms/step - loss: 0.0133\n",
            "Epoch 23/100\n",
            "44/44 [==============================] - 0s 9ms/step - loss: 0.0120\n",
            "Epoch 24/100\n",
            "44/44 [==============================] - 0s 9ms/step - loss: 0.0176\n",
            "Epoch 25/100\n",
            "44/44 [==============================] - 0s 9ms/step - loss: 0.0185\n",
            "Epoch 26/100\n",
            "44/44 [==============================] - 0s 9ms/step - loss: 0.0143\n",
            "Epoch 27/100\n",
            "44/44 [==============================] - 0s 9ms/step - loss: 0.0198\n",
            "Epoch 28/100\n",
            "44/44 [==============================] - 0s 9ms/step - loss: 0.0134\n",
            "Epoch 29/100\n",
            "44/44 [==============================] - 0s 8ms/step - loss: 0.0122\n",
            "Epoch 30/100\n",
            "44/44 [==============================] - 0s 8ms/step - loss: 0.0157\n",
            "Epoch 31/100\n",
            "44/44 [==============================] - 0s 9ms/step - loss: 0.0142\n",
            "Epoch 32/100\n",
            "44/44 [==============================] - 0s 9ms/step - loss: 0.0121\n",
            "Epoch 33/100\n",
            "44/44 [==============================] - 0s 9ms/step - loss: 0.0126\n",
            "Epoch 34/100\n",
            "44/44 [==============================] - 0s 9ms/step - loss: 0.0132\n",
            "Epoch 35/100\n",
            "44/44 [==============================] - 0s 9ms/step - loss: 0.0140\n",
            "Epoch 36/100\n",
            "44/44 [==============================] - 0s 9ms/step - loss: 0.0131\n",
            "Epoch 37/100\n",
            "44/44 [==============================] - 0s 9ms/step - loss: 0.0117\n",
            "Epoch 38/100\n",
            "44/44 [==============================] - 0s 8ms/step - loss: 0.0134\n",
            "Epoch 39/100\n",
            "44/44 [==============================] - 0s 9ms/step - loss: 0.0110\n",
            "Epoch 40/100\n",
            "44/44 [==============================] - 0s 9ms/step - loss: 0.0162\n",
            "Epoch 41/100\n",
            "44/44 [==============================] - 0s 9ms/step - loss: 0.0112\n",
            "Epoch 42/100\n",
            "44/44 [==============================] - 0s 9ms/step - loss: 0.0131\n",
            "Epoch 43/100\n",
            "44/44 [==============================] - 0s 9ms/step - loss: 0.0106\n",
            "Epoch 44/100\n",
            "44/44 [==============================] - 0s 9ms/step - loss: 0.0122\n",
            "Epoch 45/100\n",
            "44/44 [==============================] - 0s 9ms/step - loss: 0.0117\n",
            "Epoch 46/100\n",
            "44/44 [==============================] - 0s 9ms/step - loss: 0.0115\n",
            "Epoch 47/100\n",
            "44/44 [==============================] - 0s 9ms/step - loss: 0.0128\n",
            "Epoch 48/100\n",
            "44/44 [==============================] - 0s 8ms/step - loss: 0.0139\n",
            "Epoch 49/100\n",
            "44/44 [==============================] - 0s 9ms/step - loss: 0.0132\n",
            "Epoch 50/100\n",
            "44/44 [==============================] - 0s 9ms/step - loss: 0.0125\n",
            "Epoch 51/100\n",
            "44/44 [==============================] - 0s 9ms/step - loss: 0.0145\n",
            "Epoch 52/100\n",
            "44/44 [==============================] - 0s 9ms/step - loss: 0.0129\n",
            "Epoch 53/100\n",
            "44/44 [==============================] - 0s 9ms/step - loss: 0.0116\n",
            "Epoch 54/100\n",
            "44/44 [==============================] - 0s 9ms/step - loss: 0.0099\n",
            "Epoch 55/100\n",
            "44/44 [==============================] - 0s 9ms/step - loss: 0.0143\n",
            "Epoch 56/100\n",
            "44/44 [==============================] - 0s 9ms/step - loss: 0.0108\n",
            "Epoch 57/100\n",
            "44/44 [==============================] - 0s 9ms/step - loss: 0.0109\n",
            "Epoch 58/100\n",
            "44/44 [==============================] - 0s 9ms/step - loss: 0.0115\n",
            "Epoch 59/100\n",
            "44/44 [==============================] - 0s 9ms/step - loss: 0.0114\n",
            "Epoch 60/100\n",
            "44/44 [==============================] - 0s 9ms/step - loss: 0.0118\n",
            "Epoch 61/100\n",
            "44/44 [==============================] - 0s 9ms/step - loss: 0.0111\n",
            "Epoch 62/100\n",
            "44/44 [==============================] - 0s 9ms/step - loss: 0.0114\n",
            "Epoch 63/100\n",
            "44/44 [==============================] - 0s 9ms/step - loss: 0.0157\n",
            "Epoch 64/100\n",
            "44/44 [==============================] - 0s 9ms/step - loss: 0.0209\n",
            "Epoch 65/100\n",
            "44/44 [==============================] - 0s 9ms/step - loss: 0.0140\n",
            "Epoch 66/100\n",
            "44/44 [==============================] - 0s 9ms/step - loss: 0.0109\n",
            "Epoch 67/100\n",
            "44/44 [==============================] - 0s 10ms/step - loss: 0.0147\n",
            "Epoch 68/100\n",
            "44/44 [==============================] - 0s 9ms/step - loss: 0.0139\n",
            "Epoch 69/100\n",
            "44/44 [==============================] - 0s 9ms/step - loss: 0.0112\n",
            "Epoch 70/100\n",
            "44/44 [==============================] - 0s 9ms/step - loss: 0.0110\n",
            "Epoch 71/100\n",
            "44/44 [==============================] - 0s 9ms/step - loss: 0.0110\n",
            "Epoch 72/100\n",
            "44/44 [==============================] - 0s 9ms/step - loss: 0.0219\n",
            "Epoch 73/100\n",
            "44/44 [==============================] - 0s 9ms/step - loss: 0.0130\n",
            "Epoch 74/100\n",
            "44/44 [==============================] - 0s 9ms/step - loss: 0.0154\n",
            "Epoch 75/100\n",
            "44/44 [==============================] - 0s 9ms/step - loss: 0.0122\n",
            "Epoch 76/100\n",
            "44/44 [==============================] - 0s 9ms/step - loss: 0.0115\n",
            "Epoch 77/100\n",
            "44/44 [==============================] - 0s 9ms/step - loss: 0.0105\n",
            "Epoch 78/100\n",
            "44/44 [==============================] - 0s 10ms/step - loss: 0.0106\n",
            "Epoch 79/100\n",
            "44/44 [==============================] - 0s 10ms/step - loss: 0.0134\n",
            "Epoch 80/100\n",
            "44/44 [==============================] - 0s 9ms/step - loss: 0.0106\n",
            "Epoch 81/100\n",
            "44/44 [==============================] - 0s 10ms/step - loss: 0.0127\n",
            "Epoch 82/100\n",
            "44/44 [==============================] - 0s 9ms/step - loss: 0.0111\n",
            "Epoch 83/100\n",
            "44/44 [==============================] - 0s 9ms/step - loss: 0.0107\n",
            "Epoch 84/100\n",
            "44/44 [==============================] - 0s 9ms/step - loss: 0.0111\n",
            "Epoch 85/100\n",
            "44/44 [==============================] - 0s 9ms/step - loss: 0.0193\n",
            "Epoch 86/100\n",
            "44/44 [==============================] - 0s 9ms/step - loss: 0.0103\n",
            "Epoch 87/100\n",
            "44/44 [==============================] - 0s 9ms/step - loss: 0.0122\n",
            "Epoch 88/100\n",
            "44/44 [==============================] - 0s 9ms/step - loss: 0.0110\n",
            "Epoch 89/100\n",
            "44/44 [==============================] - 0s 9ms/step - loss: 0.0118\n",
            "Epoch 90/100\n",
            "44/44 [==============================] - 0s 9ms/step - loss: 0.0101\n",
            "Epoch 91/100\n",
            "44/44 [==============================] - 0s 9ms/step - loss: 0.0111\n",
            "Epoch 92/100\n",
            "44/44 [==============================] - 0s 9ms/step - loss: 0.0109\n",
            "Epoch 93/100\n",
            "44/44 [==============================] - 0s 9ms/step - loss: 0.0124\n",
            "Epoch 94/100\n",
            "44/44 [==============================] - 0s 10ms/step - loss: 0.0115\n",
            "Epoch 95/100\n",
            "44/44 [==============================] - 0s 9ms/step - loss: 0.0152\n",
            "Epoch 96/100\n",
            "44/44 [==============================] - 0s 9ms/step - loss: 0.0120\n",
            "Epoch 97/100\n",
            "44/44 [==============================] - 0s 9ms/step - loss: 0.0152\n",
            "Epoch 98/100\n",
            "44/44 [==============================] - 0s 9ms/step - loss: 0.0165\n",
            "Epoch 99/100\n",
            "44/44 [==============================] - 0s 9ms/step - loss: 0.0131\n",
            "Epoch 100/100\n",
            "44/44 [==============================] - 0s 9ms/step - loss: 0.0111\n"
          ],
          "name": "stdout"
        },
        {
          "output_type": "execute_result",
          "data": {
            "text/plain": [
              "<tensorflow.python.keras.callbacks.History at 0x7f723fd29a90>"
            ]
          },
          "metadata": {
            "tags": []
          },
          "execution_count": 15
        }
      ]
    },
    {
      "cell_type": "code",
      "metadata": {
        "id": "fFd1VSggsr3P",
        "outputId": "d69bd6da-2510-434f-9d06-3df0d8d85c7c",
        "colab": {
          "base_uri": "https://localhost:8080/",
          "height": 181
        }
      },
      "source": [
        "y_pred = model.predict(X_test)\n",
        "y_pred.shape"
      ],
      "execution_count": 16,
      "outputs": [
        {
          "output_type": "error",
          "ename": "NameError",
          "evalue": "ignored",
          "traceback": [
            "\u001b[0;31m---------------------------------------------------------------------------\u001b[0m",
            "\u001b[0;31mNameError\u001b[0m                                 Traceback (most recent call last)",
            "\u001b[0;32m<ipython-input-16-28d3081b1c7b>\u001b[0m in \u001b[0;36m<module>\u001b[0;34m()\u001b[0m\n\u001b[0;32m----> 1\u001b[0;31m \u001b[0my_pred\u001b[0m \u001b[0;34m=\u001b[0m \u001b[0mmodel\u001b[0m\u001b[0;34m.\u001b[0m\u001b[0mpredict\u001b[0m\u001b[0;34m(\u001b[0m\u001b[0mX_test\u001b[0m\u001b[0;34m)\u001b[0m\u001b[0;34m\u001b[0m\u001b[0;34m\u001b[0m\u001b[0m\n\u001b[0m\u001b[1;32m      2\u001b[0m \u001b[0my_pred\u001b[0m\u001b[0;34m.\u001b[0m\u001b[0mshape\u001b[0m\u001b[0;34m\u001b[0m\u001b[0;34m\u001b[0m\u001b[0m\n",
            "\u001b[0;31mNameError\u001b[0m: name 'X_test' is not defined"
          ]
        }
      ]
    }
  ]
}